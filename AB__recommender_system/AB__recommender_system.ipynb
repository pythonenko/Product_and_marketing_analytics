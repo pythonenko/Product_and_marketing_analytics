{
 "cells": [
  {
   "cell_type": "markdown",
   "metadata": {
    "toc": true
   },
   "source": [
    "<h1>Содержание<span class=\"tocSkip\"></span></h1>\n",
    "<div class=\"toc\"><ul class=\"toc-item\"><li><span><a href=\"#Описание-проекта\" data-toc-modified-id=\"Описание-проекта-1\"><span class=\"toc-item-num\">1&nbsp;&nbsp;</span>Описание проекта</a></span></li><li><span><a href=\"#Загрузка-и-подготовка-данных\" data-toc-modified-id=\"Загрузка-и-подготовка-данных-2\"><span class=\"toc-item-num\">2&nbsp;&nbsp;</span>Загрузка и подготовка данных</a></span><ul class=\"toc-item\"><li><span><a href=\"#Загрузка-данных,-проверка-типов-переменных,-пропусков-и-дубликатов\" data-toc-modified-id=\"Загрузка-данных,-проверка-типов-переменных,-пропусков-и-дубликатов-2.1\"><span class=\"toc-item-num\">2.1&nbsp;&nbsp;</span>Загрузка данных, проверка типов переменных, пропусков и дубликатов</a></span></li><li><span><a href=\"#Изучение-и-проверка-данных\" data-toc-modified-id=\"Изучение-и-проверка-данных-2.2\"><span class=\"toc-item-num\">2.2&nbsp;&nbsp;</span>Изучение и проверка данных</a></span></li><li><span><a href=\"#Фильтрация-данных\" data-toc-modified-id=\"Фильтрация-данных-2.3\"><span class=\"toc-item-num\">2.3&nbsp;&nbsp;</span>Фильтрация данных</a></span></li></ul></li><li><span><a href=\"#Оценка-корректности-проведения-теста\" data-toc-modified-id=\"Оценка-корректности-проведения-теста-3\"><span class=\"toc-item-num\">3&nbsp;&nbsp;</span>Оценка корректности проведения теста</a></span><ul class=\"toc-item\"><li><span><a href=\"#Пересечение-тестовой-аудитории-с-конкурирующим-тестом\" data-toc-modified-id=\"Пересечение-тестовой-аудитории-с-конкурирующим-тестом-3.1\"><span class=\"toc-item-num\">3.1&nbsp;&nbsp;</span>Пересечение тестовой аудитории с конкурирующим тестом</a></span></li><li><span><a href=\"#Совпадение-теста-и-маркетинговых-событий\" data-toc-modified-id=\"Совпадение-теста-и-маркетинговых-событий-3.2\"><span class=\"toc-item-num\">3.2&nbsp;&nbsp;</span>Совпадение теста и маркетинговых событий</a></span></li><li><span><a href=\"#Другие-проблемы-временных-границ-и-полноты-данных-теста\" data-toc-modified-id=\"Другие-проблемы-временных-границ-и-полноты-данных-теста-3.3\"><span class=\"toc-item-num\">3.3&nbsp;&nbsp;</span>Другие проблемы временных границ и полноты данных теста</a></span></li></ul></li><li><span><a href=\"#Анализ-результатов-эксперимента\" data-toc-modified-id=\"Анализ-результатов-эксперимента-4\"><span class=\"toc-item-num\">4&nbsp;&nbsp;</span>Анализ результатов эксперимента</a></span><ul class=\"toc-item\"><li><span><a href=\"#Воронка-событий\" data-toc-modified-id=\"Воронка-событий-4.1\"><span class=\"toc-item-num\">4.1&nbsp;&nbsp;</span>Воронка событий</a></span></li><li><span><a href=\"#Конверсии-воронки\" data-toc-modified-id=\"Конверсии-воронки-4.2\"><span class=\"toc-item-num\">4.2&nbsp;&nbsp;</span>Конверсии воронки</a></span></li><li><span><a href=\"#Динамика-конверсий-воронки-по-группам\" data-toc-modified-id=\"Динамика-конверсий-воронки-по-группам-4.3\"><span class=\"toc-item-num\">4.3&nbsp;&nbsp;</span>Динамика конверсий воронки по группам</a></span></li><li><span><a href=\"#Итоговые-конверсии-воронки-по-группам\" data-toc-modified-id=\"Итоговые-конверсии-воронки-по-группам-4.4\"><span class=\"toc-item-num\">4.4&nbsp;&nbsp;</span>Итоговые конверсии воронки по группам</a></span></li><li><span><a href=\"#Проверка-статистических-гипотез\" data-toc-modified-id=\"Проверка-статистических-гипотез-4.5\"><span class=\"toc-item-num\">4.5&nbsp;&nbsp;</span>Проверка статистических гипотез</a></span></li></ul></li><li><span><a href=\"#Общий-вывод\" data-toc-modified-id=\"Общий-вывод-5\"><span class=\"toc-item-num\">5&nbsp;&nbsp;</span>Общий вывод</a></span></li></ul></div>"
   ]
  },
  {
   "cell_type": "markdown",
   "metadata": {},
   "source": [
    "# Анализ результатов A/B-теста интернет-магазина\n",
    "\n",
    "## Описание проекта\n",
    "\n",
    "**Постановка задачи:**\n",
    "\n",
    "В рамках изучения пользовательского поведения интернет-магазина проанализируем ключевые коммерческие метрики в разрезе основных этапов воронки продаж и результаты A/B-теста, проведенного с 2020-12-07 по 2021-01-04 для оценки влияния новой рекомендательной системы на поведение пользователей. Это позволит в дальнейшем минимизировать риск того, что изменение рекомендательной системы окажется непривычным для пользователей и негативно скажется на конверсии магазина. Также оценим корректность проведения теста в части времени проведения и аудитории и статистическую значимость полученных результатов.\n",
    "\n",
    "    \n",
    "**Описание данных:**\n",
    "\n",
    "При анализе будут использоваться данные, полученные от 2 групп - контрольной и экспериментальной:\n",
    "- данные пользователей (дата регистрации, регион, устройство);\n",
    "- действия пользователей (дата, тип события, дополнительные данные о событии);\n",
    "- участники тестов (название теста, группа)."
   ]
  },
  {
   "cell_type": "code",
   "execution_count": 44,
   "metadata": {},
   "outputs": [],
   "source": [
    "import pandas as pd\n",
    "import numpy as np\n",
    "from scipy import stats as st\n",
    "import matplotlib.pyplot as plt\n",
    "import seaborn as sns\n",
    "import math\n",
    "import os\n",
    "from IPython.display import display\n",
    "from plotly.subplots import make_subplots\n",
    "import plotly.graph_objects as go\n",
    "import plotly.express as px\n",
    "import plotly.figure_factory as ff\n",
    "from io import BytesIO\n",
    "from io import StringIO"
   ]
  },
  {
   "cell_type": "markdown",
   "metadata": {},
   "source": [
    "## Загрузка и подготовка данных"
   ]
  },
  {
   "cell_type": "markdown",
   "metadata": {},
   "source": [
    "### Загрузка данных, проверка типов переменных, пропусков и дубликатов"
   ]
  },
  {
   "cell_type": "markdown",
   "metadata": {},
   "source": [
    "Откроем файлы с данными и изучим общую информацию:"
   ]
  },
  {
   "cell_type": "code",
   "execution_count": 3,
   "metadata": {},
   "outputs": [],
   "source": [
    "def file_read (filename, date_columns):\n",
    "    if os.path.exists('/datasets/' + filename):\n",
    "        file_read = pd.read_csv('/datasets/' + filename, parse_dates=date_columns)\n",
    "    else:\n",
    "        file_read = pd.read_csv(filename, parse_dates=date_columns)\n",
    "    return file_read\n",
    "\n",
    "marketing_events = file_read('ab_project_marketing_events.csv', ['start_dt','finish_dt'])\n",
    "new_users = file_read('final_ab_new_users.csv', ['first_date'])\n",
    "events = file_read('final_ab_events.csv', ['event_dt'])\n",
    "participants = file_read('final_ab_participants.csv', False)"
   ]
  },
  {
   "cell_type": "code",
   "execution_count": 4,
   "metadata": {
    "scrolled": false
   },
   "outputs": [
    {
     "name": "stdout",
     "output_type": "stream",
     "text": [
      "\u001b[1mMarketing events\n"
     ]
    },
    {
     "data": {
      "text/html": [
       "<div>\n",
       "<style scoped>\n",
       "    .dataframe tbody tr th:only-of-type {\n",
       "        vertical-align: middle;\n",
       "    }\n",
       "\n",
       "    .dataframe tbody tr th {\n",
       "        vertical-align: top;\n",
       "    }\n",
       "\n",
       "    .dataframe thead th {\n",
       "        text-align: right;\n",
       "    }\n",
       "</style>\n",
       "<table border=\"1\" class=\"dataframe\">\n",
       "  <thead>\n",
       "    <tr style=\"text-align: right;\">\n",
       "      <th></th>\n",
       "      <th>name</th>\n",
       "      <th>regions</th>\n",
       "      <th>start_dt</th>\n",
       "      <th>finish_dt</th>\n",
       "    </tr>\n",
       "  </thead>\n",
       "  <tbody>\n",
       "    <tr>\n",
       "      <td>0</td>\n",
       "      <td>Christmas&amp;New Year Promo</td>\n",
       "      <td>EU, N.America</td>\n",
       "      <td>2020-12-25</td>\n",
       "      <td>2021-01-03</td>\n",
       "    </tr>\n",
       "    <tr>\n",
       "      <td>1</td>\n",
       "      <td>St. Valentine's Day Giveaway</td>\n",
       "      <td>EU, CIS, APAC, N.America</td>\n",
       "      <td>2020-02-14</td>\n",
       "      <td>2020-02-16</td>\n",
       "    </tr>\n",
       "    <tr>\n",
       "      <td>2</td>\n",
       "      <td>St. Patric's Day Promo</td>\n",
       "      <td>EU, N.America</td>\n",
       "      <td>2020-03-17</td>\n",
       "      <td>2020-03-19</td>\n",
       "    </tr>\n",
       "    <tr>\n",
       "      <td>3</td>\n",
       "      <td>Easter Promo</td>\n",
       "      <td>EU, CIS, APAC, N.America</td>\n",
       "      <td>2020-04-12</td>\n",
       "      <td>2020-04-19</td>\n",
       "    </tr>\n",
       "    <tr>\n",
       "      <td>4</td>\n",
       "      <td>4th of July Promo</td>\n",
       "      <td>N.America</td>\n",
       "      <td>2020-07-04</td>\n",
       "      <td>2020-07-11</td>\n",
       "    </tr>\n",
       "    <tr>\n",
       "      <td>5</td>\n",
       "      <td>Black Friday Ads Campaign</td>\n",
       "      <td>EU, CIS, APAC, N.America</td>\n",
       "      <td>2020-11-26</td>\n",
       "      <td>2020-12-01</td>\n",
       "    </tr>\n",
       "    <tr>\n",
       "      <td>6</td>\n",
       "      <td>Chinese New Year Promo</td>\n",
       "      <td>APAC</td>\n",
       "      <td>2020-01-25</td>\n",
       "      <td>2020-02-07</td>\n",
       "    </tr>\n",
       "    <tr>\n",
       "      <td>7</td>\n",
       "      <td>Labor day (May 1st) Ads Campaign</td>\n",
       "      <td>EU, CIS, APAC</td>\n",
       "      <td>2020-05-01</td>\n",
       "      <td>2020-05-03</td>\n",
       "    </tr>\n",
       "    <tr>\n",
       "      <td>8</td>\n",
       "      <td>International Women's Day Promo</td>\n",
       "      <td>EU, CIS, APAC</td>\n",
       "      <td>2020-03-08</td>\n",
       "      <td>2020-03-10</td>\n",
       "    </tr>\n",
       "    <tr>\n",
       "      <td>9</td>\n",
       "      <td>Victory Day CIS (May 9th) Event</td>\n",
       "      <td>CIS</td>\n",
       "      <td>2020-05-09</td>\n",
       "      <td>2020-05-11</td>\n",
       "    </tr>\n",
       "    <tr>\n",
       "      <td>10</td>\n",
       "      <td>CIS New Year Gift Lottery</td>\n",
       "      <td>CIS</td>\n",
       "      <td>2020-12-30</td>\n",
       "      <td>2021-01-07</td>\n",
       "    </tr>\n",
       "    <tr>\n",
       "      <td>11</td>\n",
       "      <td>Dragon Boat Festival Giveaway</td>\n",
       "      <td>APAC</td>\n",
       "      <td>2020-06-25</td>\n",
       "      <td>2020-07-01</td>\n",
       "    </tr>\n",
       "    <tr>\n",
       "      <td>12</td>\n",
       "      <td>Single's Day Gift Promo</td>\n",
       "      <td>APAC</td>\n",
       "      <td>2020-11-11</td>\n",
       "      <td>2020-11-12</td>\n",
       "    </tr>\n",
       "    <tr>\n",
       "      <td>13</td>\n",
       "      <td>Chinese Moon Festival</td>\n",
       "      <td>APAC</td>\n",
       "      <td>2020-10-01</td>\n",
       "      <td>2020-10-07</td>\n",
       "    </tr>\n",
       "  </tbody>\n",
       "</table>\n",
       "</div>"
      ],
      "text/plain": [
       "                                name                   regions   start_dt  \\\n",
       "0           Christmas&New Year Promo             EU, N.America 2020-12-25   \n",
       "1       St. Valentine's Day Giveaway  EU, CIS, APAC, N.America 2020-02-14   \n",
       "2             St. Patric's Day Promo             EU, N.America 2020-03-17   \n",
       "3                       Easter Promo  EU, CIS, APAC, N.America 2020-04-12   \n",
       "4                  4th of July Promo                 N.America 2020-07-04   \n",
       "5          Black Friday Ads Campaign  EU, CIS, APAC, N.America 2020-11-26   \n",
       "6             Chinese New Year Promo                      APAC 2020-01-25   \n",
       "7   Labor day (May 1st) Ads Campaign             EU, CIS, APAC 2020-05-01   \n",
       "8    International Women's Day Promo             EU, CIS, APAC 2020-03-08   \n",
       "9    Victory Day CIS (May 9th) Event                       CIS 2020-05-09   \n",
       "10         CIS New Year Gift Lottery                       CIS 2020-12-30   \n",
       "11     Dragon Boat Festival Giveaway                      APAC 2020-06-25   \n",
       "12           Single's Day Gift Promo                      APAC 2020-11-11   \n",
       "13             Chinese Moon Festival                      APAC 2020-10-01   \n",
       "\n",
       "    finish_dt  \n",
       "0  2021-01-03  \n",
       "1  2020-02-16  \n",
       "2  2020-03-19  \n",
       "3  2020-04-19  \n",
       "4  2020-07-11  \n",
       "5  2020-12-01  \n",
       "6  2020-02-07  \n",
       "7  2020-05-03  \n",
       "8  2020-03-10  \n",
       "9  2020-05-11  \n",
       "10 2021-01-07  \n",
       "11 2020-07-01  \n",
       "12 2020-11-12  \n",
       "13 2020-10-07  "
      ]
     },
     "metadata": {},
     "output_type": "display_data"
    },
    {
     "name": "stdout",
     "output_type": "stream",
     "text": [
      "<class 'pandas.core.frame.DataFrame'>\n",
      "RangeIndex: 14 entries, 0 to 13\n",
      "Data columns (total 4 columns):\n",
      "name         14 non-null object\n",
      "regions      14 non-null object\n",
      "start_dt     14 non-null datetime64[ns]\n",
      "finish_dt    14 non-null datetime64[ns]\n",
      "dtypes: datetime64[ns](2), object(2)\n",
      "memory usage: 576.0+ bytes\n",
      "\n",
      "Дубликатов в таблице: 0\n",
      "\n",
      "\u001b[1mNew users\n"
     ]
    },
    {
     "data": {
      "text/html": [
       "<div>\n",
       "<style scoped>\n",
       "    .dataframe tbody tr th:only-of-type {\n",
       "        vertical-align: middle;\n",
       "    }\n",
       "\n",
       "    .dataframe tbody tr th {\n",
       "        vertical-align: top;\n",
       "    }\n",
       "\n",
       "    .dataframe thead th {\n",
       "        text-align: right;\n",
       "    }\n",
       "</style>\n",
       "<table border=\"1\" class=\"dataframe\">\n",
       "  <thead>\n",
       "    <tr style=\"text-align: right;\">\n",
       "      <th></th>\n",
       "      <th>user_id</th>\n",
       "      <th>first_date</th>\n",
       "      <th>region</th>\n",
       "      <th>device</th>\n",
       "    </tr>\n",
       "  </thead>\n",
       "  <tbody>\n",
       "    <tr>\n",
       "      <td>0</td>\n",
       "      <td>D72A72121175D8BE</td>\n",
       "      <td>2020-12-07</td>\n",
       "      <td>EU</td>\n",
       "      <td>PC</td>\n",
       "    </tr>\n",
       "    <tr>\n",
       "      <td>1</td>\n",
       "      <td>F1C668619DFE6E65</td>\n",
       "      <td>2020-12-07</td>\n",
       "      <td>N.America</td>\n",
       "      <td>Android</td>\n",
       "    </tr>\n",
       "    <tr>\n",
       "      <td>2</td>\n",
       "      <td>2E1BF1D4C37EA01F</td>\n",
       "      <td>2020-12-07</td>\n",
       "      <td>EU</td>\n",
       "      <td>PC</td>\n",
       "    </tr>\n",
       "    <tr>\n",
       "      <td>3</td>\n",
       "      <td>50734A22C0C63768</td>\n",
       "      <td>2020-12-07</td>\n",
       "      <td>EU</td>\n",
       "      <td>iPhone</td>\n",
       "    </tr>\n",
       "    <tr>\n",
       "      <td>4</td>\n",
       "      <td>E1BDDCE0DAFA2679</td>\n",
       "      <td>2020-12-07</td>\n",
       "      <td>N.America</td>\n",
       "      <td>iPhone</td>\n",
       "    </tr>\n",
       "    <tr>\n",
       "      <td>5</td>\n",
       "      <td>137119F5A9E69421</td>\n",
       "      <td>2020-12-07</td>\n",
       "      <td>N.America</td>\n",
       "      <td>iPhone</td>\n",
       "    </tr>\n",
       "    <tr>\n",
       "      <td>6</td>\n",
       "      <td>62F0C741CC42D0CC</td>\n",
       "      <td>2020-12-07</td>\n",
       "      <td>APAC</td>\n",
       "      <td>iPhone</td>\n",
       "    </tr>\n",
       "    <tr>\n",
       "      <td>7</td>\n",
       "      <td>8942E64218C9A1ED</td>\n",
       "      <td>2020-12-07</td>\n",
       "      <td>EU</td>\n",
       "      <td>PC</td>\n",
       "    </tr>\n",
       "    <tr>\n",
       "      <td>8</td>\n",
       "      <td>499AFACF904BBAE3</td>\n",
       "      <td>2020-12-07</td>\n",
       "      <td>N.America</td>\n",
       "      <td>iPhone</td>\n",
       "    </tr>\n",
       "    <tr>\n",
       "      <td>9</td>\n",
       "      <td>FFCEA1179C253104</td>\n",
       "      <td>2020-12-07</td>\n",
       "      <td>EU</td>\n",
       "      <td>Android</td>\n",
       "    </tr>\n",
       "    <tr>\n",
       "      <td>10</td>\n",
       "      <td>5EB159DA9DC94DBA</td>\n",
       "      <td>2020-12-07</td>\n",
       "      <td>APAC</td>\n",
       "      <td>PC</td>\n",
       "    </tr>\n",
       "    <tr>\n",
       "      <td>11</td>\n",
       "      <td>084A22B980BA8169</td>\n",
       "      <td>2020-12-07</td>\n",
       "      <td>EU</td>\n",
       "      <td>Android</td>\n",
       "    </tr>\n",
       "    <tr>\n",
       "      <td>12</td>\n",
       "      <td>8ACC2420471B31E4</td>\n",
       "      <td>2020-12-07</td>\n",
       "      <td>EU</td>\n",
       "      <td>PC</td>\n",
       "    </tr>\n",
       "    <tr>\n",
       "      <td>13</td>\n",
       "      <td>E6DE857AFBDC6102</td>\n",
       "      <td>2020-12-07</td>\n",
       "      <td>EU</td>\n",
       "      <td>PC</td>\n",
       "    </tr>\n",
       "  </tbody>\n",
       "</table>\n",
       "</div>"
      ],
      "text/plain": [
       "             user_id first_date     region   device\n",
       "0   D72A72121175D8BE 2020-12-07         EU       PC\n",
       "1   F1C668619DFE6E65 2020-12-07  N.America  Android\n",
       "2   2E1BF1D4C37EA01F 2020-12-07         EU       PC\n",
       "3   50734A22C0C63768 2020-12-07         EU   iPhone\n",
       "4   E1BDDCE0DAFA2679 2020-12-07  N.America   iPhone\n",
       "5   137119F5A9E69421 2020-12-07  N.America   iPhone\n",
       "6   62F0C741CC42D0CC 2020-12-07       APAC   iPhone\n",
       "7   8942E64218C9A1ED 2020-12-07         EU       PC\n",
       "8   499AFACF904BBAE3 2020-12-07  N.America   iPhone\n",
       "9   FFCEA1179C253104 2020-12-07         EU  Android\n",
       "10  5EB159DA9DC94DBA 2020-12-07       APAC       PC\n",
       "11  084A22B980BA8169 2020-12-07         EU  Android\n",
       "12  8ACC2420471B31E4 2020-12-07         EU       PC\n",
       "13  E6DE857AFBDC6102 2020-12-07         EU       PC"
      ]
     },
     "metadata": {},
     "output_type": "display_data"
    },
    {
     "name": "stdout",
     "output_type": "stream",
     "text": [
      "<class 'pandas.core.frame.DataFrame'>\n",
      "RangeIndex: 61733 entries, 0 to 61732\n",
      "Data columns (total 4 columns):\n",
      "user_id       61733 non-null object\n",
      "first_date    61733 non-null datetime64[ns]\n",
      "region        61733 non-null object\n",
      "device        61733 non-null object\n",
      "dtypes: datetime64[ns](1), object(3)\n",
      "memory usage: 1.9+ MB\n",
      "\n",
      "Дубликатов в таблице: 0\n",
      "\n",
      "\u001b[1mEvents\n"
     ]
    },
    {
     "data": {
      "text/html": [
       "<div>\n",
       "<style scoped>\n",
       "    .dataframe tbody tr th:only-of-type {\n",
       "        vertical-align: middle;\n",
       "    }\n",
       "\n",
       "    .dataframe tbody tr th {\n",
       "        vertical-align: top;\n",
       "    }\n",
       "\n",
       "    .dataframe thead th {\n",
       "        text-align: right;\n",
       "    }\n",
       "</style>\n",
       "<table border=\"1\" class=\"dataframe\">\n",
       "  <thead>\n",
       "    <tr style=\"text-align: right;\">\n",
       "      <th></th>\n",
       "      <th>user_id</th>\n",
       "      <th>event_dt</th>\n",
       "      <th>event_name</th>\n",
       "      <th>details</th>\n",
       "    </tr>\n",
       "  </thead>\n",
       "  <tbody>\n",
       "    <tr>\n",
       "      <td>0</td>\n",
       "      <td>E1BDDCE0DAFA2679</td>\n",
       "      <td>2020-12-07 20:22:03</td>\n",
       "      <td>purchase</td>\n",
       "      <td>99.99</td>\n",
       "    </tr>\n",
       "    <tr>\n",
       "      <td>1</td>\n",
       "      <td>7B6452F081F49504</td>\n",
       "      <td>2020-12-07 09:22:53</td>\n",
       "      <td>purchase</td>\n",
       "      <td>9.99</td>\n",
       "    </tr>\n",
       "    <tr>\n",
       "      <td>2</td>\n",
       "      <td>9CD9F34546DF254C</td>\n",
       "      <td>2020-12-07 12:59:29</td>\n",
       "      <td>purchase</td>\n",
       "      <td>4.99</td>\n",
       "    </tr>\n",
       "    <tr>\n",
       "      <td>3</td>\n",
       "      <td>96F27A054B191457</td>\n",
       "      <td>2020-12-07 04:02:40</td>\n",
       "      <td>purchase</td>\n",
       "      <td>4.99</td>\n",
       "    </tr>\n",
       "    <tr>\n",
       "      <td>4</td>\n",
       "      <td>1FD7660FDF94CA1F</td>\n",
       "      <td>2020-12-07 10:15:09</td>\n",
       "      <td>purchase</td>\n",
       "      <td>4.99</td>\n",
       "    </tr>\n",
       "    <tr>\n",
       "      <td>5</td>\n",
       "      <td>831887FE7F2D6CBA</td>\n",
       "      <td>2020-12-07 06:50:29</td>\n",
       "      <td>purchase</td>\n",
       "      <td>4.99</td>\n",
       "    </tr>\n",
       "    <tr>\n",
       "      <td>6</td>\n",
       "      <td>6B2F726BFD5F8220</td>\n",
       "      <td>2020-12-07 11:27:42</td>\n",
       "      <td>purchase</td>\n",
       "      <td>4.99</td>\n",
       "    </tr>\n",
       "    <tr>\n",
       "      <td>7</td>\n",
       "      <td>BEB37715AACF53B0</td>\n",
       "      <td>2020-12-07 04:26:15</td>\n",
       "      <td>purchase</td>\n",
       "      <td>4.99</td>\n",
       "    </tr>\n",
       "    <tr>\n",
       "      <td>8</td>\n",
       "      <td>B5FA27F582227197</td>\n",
       "      <td>2020-12-07 01:46:37</td>\n",
       "      <td>purchase</td>\n",
       "      <td>4.99</td>\n",
       "    </tr>\n",
       "    <tr>\n",
       "      <td>9</td>\n",
       "      <td>A92195E3CFB83DBD</td>\n",
       "      <td>2020-12-07 00:32:07</td>\n",
       "      <td>purchase</td>\n",
       "      <td>4.99</td>\n",
       "    </tr>\n",
       "    <tr>\n",
       "      <td>10</td>\n",
       "      <td>E2E76A8B3389127C</td>\n",
       "      <td>2020-12-07 15:39:32</td>\n",
       "      <td>purchase</td>\n",
       "      <td>4.99</td>\n",
       "    </tr>\n",
       "    <tr>\n",
       "      <td>11</td>\n",
       "      <td>354D653172FF2A2D</td>\n",
       "      <td>2020-12-07 15:45:11</td>\n",
       "      <td>purchase</td>\n",
       "      <td>4.99</td>\n",
       "    </tr>\n",
       "    <tr>\n",
       "      <td>12</td>\n",
       "      <td>7FCD34F47C13A9AC</td>\n",
       "      <td>2020-12-07 22:06:13</td>\n",
       "      <td>purchase</td>\n",
       "      <td>9.99</td>\n",
       "    </tr>\n",
       "    <tr>\n",
       "      <td>13</td>\n",
       "      <td>0313C457F07C339E</td>\n",
       "      <td>2020-12-07 13:10:48</td>\n",
       "      <td>purchase</td>\n",
       "      <td>9.99</td>\n",
       "    </tr>\n",
       "  </tbody>\n",
       "</table>\n",
       "</div>"
      ],
      "text/plain": [
       "             user_id            event_dt event_name  details\n",
       "0   E1BDDCE0DAFA2679 2020-12-07 20:22:03   purchase    99.99\n",
       "1   7B6452F081F49504 2020-12-07 09:22:53   purchase     9.99\n",
       "2   9CD9F34546DF254C 2020-12-07 12:59:29   purchase     4.99\n",
       "3   96F27A054B191457 2020-12-07 04:02:40   purchase     4.99\n",
       "4   1FD7660FDF94CA1F 2020-12-07 10:15:09   purchase     4.99\n",
       "5   831887FE7F2D6CBA 2020-12-07 06:50:29   purchase     4.99\n",
       "6   6B2F726BFD5F8220 2020-12-07 11:27:42   purchase     4.99\n",
       "7   BEB37715AACF53B0 2020-12-07 04:26:15   purchase     4.99\n",
       "8   B5FA27F582227197 2020-12-07 01:46:37   purchase     4.99\n",
       "9   A92195E3CFB83DBD 2020-12-07 00:32:07   purchase     4.99\n",
       "10  E2E76A8B3389127C 2020-12-07 15:39:32   purchase     4.99\n",
       "11  354D653172FF2A2D 2020-12-07 15:45:11   purchase     4.99\n",
       "12  7FCD34F47C13A9AC 2020-12-07 22:06:13   purchase     9.99\n",
       "13  0313C457F07C339E 2020-12-07 13:10:48   purchase     9.99"
      ]
     },
     "metadata": {},
     "output_type": "display_data"
    },
    {
     "name": "stdout",
     "output_type": "stream",
     "text": [
      "<class 'pandas.core.frame.DataFrame'>\n",
      "RangeIndex: 440317 entries, 0 to 440316\n",
      "Data columns (total 4 columns):\n",
      "user_id       440317 non-null object\n",
      "event_dt      440317 non-null datetime64[ns]\n",
      "event_name    440317 non-null object\n",
      "details       62740 non-null float64\n",
      "dtypes: datetime64[ns](1), float64(1), object(2)\n",
      "memory usage: 13.4+ MB\n",
      "\n",
      "Дубликатов в таблице: 0\n",
      "\n",
      "\u001b[1mParticipants\n"
     ]
    },
    {
     "data": {
      "text/html": [
       "<div>\n",
       "<style scoped>\n",
       "    .dataframe tbody tr th:only-of-type {\n",
       "        vertical-align: middle;\n",
       "    }\n",
       "\n",
       "    .dataframe tbody tr th {\n",
       "        vertical-align: top;\n",
       "    }\n",
       "\n",
       "    .dataframe thead th {\n",
       "        text-align: right;\n",
       "    }\n",
       "</style>\n",
       "<table border=\"1\" class=\"dataframe\">\n",
       "  <thead>\n",
       "    <tr style=\"text-align: right;\">\n",
       "      <th></th>\n",
       "      <th>user_id</th>\n",
       "      <th>group</th>\n",
       "      <th>ab_test</th>\n",
       "    </tr>\n",
       "  </thead>\n",
       "  <tbody>\n",
       "    <tr>\n",
       "      <td>0</td>\n",
       "      <td>D1ABA3E2887B6A73</td>\n",
       "      <td>A</td>\n",
       "      <td>recommender_system_test</td>\n",
       "    </tr>\n",
       "    <tr>\n",
       "      <td>1</td>\n",
       "      <td>A7A3664BD6242119</td>\n",
       "      <td>A</td>\n",
       "      <td>recommender_system_test</td>\n",
       "    </tr>\n",
       "    <tr>\n",
       "      <td>2</td>\n",
       "      <td>DABC14FDDFADD29E</td>\n",
       "      <td>A</td>\n",
       "      <td>recommender_system_test</td>\n",
       "    </tr>\n",
       "    <tr>\n",
       "      <td>3</td>\n",
       "      <td>04988C5DF189632E</td>\n",
       "      <td>A</td>\n",
       "      <td>recommender_system_test</td>\n",
       "    </tr>\n",
       "    <tr>\n",
       "      <td>4</td>\n",
       "      <td>482F14783456D21B</td>\n",
       "      <td>B</td>\n",
       "      <td>recommender_system_test</td>\n",
       "    </tr>\n",
       "    <tr>\n",
       "      <td>5</td>\n",
       "      <td>4FF2998A348C484F</td>\n",
       "      <td>A</td>\n",
       "      <td>recommender_system_test</td>\n",
       "    </tr>\n",
       "    <tr>\n",
       "      <td>6</td>\n",
       "      <td>7473E0943673C09E</td>\n",
       "      <td>A</td>\n",
       "      <td>recommender_system_test</td>\n",
       "    </tr>\n",
       "    <tr>\n",
       "      <td>7</td>\n",
       "      <td>C46FE336D240A054</td>\n",
       "      <td>A</td>\n",
       "      <td>recommender_system_test</td>\n",
       "    </tr>\n",
       "    <tr>\n",
       "      <td>8</td>\n",
       "      <td>92CB588012C10D3D</td>\n",
       "      <td>A</td>\n",
       "      <td>recommender_system_test</td>\n",
       "    </tr>\n",
       "    <tr>\n",
       "      <td>9</td>\n",
       "      <td>057AB296296C7FC0</td>\n",
       "      <td>B</td>\n",
       "      <td>recommender_system_test</td>\n",
       "    </tr>\n",
       "    <tr>\n",
       "      <td>10</td>\n",
       "      <td>B3A2485649E4A012</td>\n",
       "      <td>A</td>\n",
       "      <td>recommender_system_test</td>\n",
       "    </tr>\n",
       "    <tr>\n",
       "      <td>11</td>\n",
       "      <td>E9FA12FAE3F5769C</td>\n",
       "      <td>B</td>\n",
       "      <td>recommender_system_test</td>\n",
       "    </tr>\n",
       "    <tr>\n",
       "      <td>12</td>\n",
       "      <td>FDD0A1016549D707</td>\n",
       "      <td>A</td>\n",
       "      <td>recommender_system_test</td>\n",
       "    </tr>\n",
       "    <tr>\n",
       "      <td>13</td>\n",
       "      <td>547E99A7BDB0FCE9</td>\n",
       "      <td>A</td>\n",
       "      <td>recommender_system_test</td>\n",
       "    </tr>\n",
       "  </tbody>\n",
       "</table>\n",
       "</div>"
      ],
      "text/plain": [
       "             user_id group                  ab_test\n",
       "0   D1ABA3E2887B6A73     A  recommender_system_test\n",
       "1   A7A3664BD6242119     A  recommender_system_test\n",
       "2   DABC14FDDFADD29E     A  recommender_system_test\n",
       "3   04988C5DF189632E     A  recommender_system_test\n",
       "4   482F14783456D21B     B  recommender_system_test\n",
       "5   4FF2998A348C484F     A  recommender_system_test\n",
       "6   7473E0943673C09E     A  recommender_system_test\n",
       "7   C46FE336D240A054     A  recommender_system_test\n",
       "8   92CB588012C10D3D     A  recommender_system_test\n",
       "9   057AB296296C7FC0     B  recommender_system_test\n",
       "10  B3A2485649E4A012     A  recommender_system_test\n",
       "11  E9FA12FAE3F5769C     B  recommender_system_test\n",
       "12  FDD0A1016549D707     A  recommender_system_test\n",
       "13  547E99A7BDB0FCE9     A  recommender_system_test"
      ]
     },
     "metadata": {},
     "output_type": "display_data"
    },
    {
     "name": "stdout",
     "output_type": "stream",
     "text": [
      "<class 'pandas.core.frame.DataFrame'>\n",
      "RangeIndex: 18268 entries, 0 to 18267\n",
      "Data columns (total 3 columns):\n",
      "user_id    18268 non-null object\n",
      "group      18268 non-null object\n",
      "ab_test    18268 non-null object\n",
      "dtypes: object(3)\n",
      "memory usage: 428.3+ KB\n",
      "\n",
      "Дубликатов в таблице: 0\n",
      "\n"
     ]
    }
   ],
   "source": [
    "file_list = [marketing_events, new_users, events, participants]\n",
    "names = ['Marketing events', 'New users', 'Events', 'Participants']\n",
    "\n",
    "for data, name in zip(file_list, names):\n",
    "    print('\\033[1m'+ name)\n",
    "    display(data.head(14))\n",
    "    data.info()\n",
    "    print()\n",
    "    print('Дубликатов в таблице: {}'.format(data.duplicated().sum()))\n",
    "    print()"
   ]
  },
  {
   "cell_type": "markdown",
   "metadata": {},
   "source": [
    "**Marketing events.**\n",
    "В таблице содержится 14 записей и 4 переменные, дубликатов и пропусков не обнаружено. Типы переменных распознаны верно, названия закодированы корректно.\n",
    "\n",
    "**New users.**\n",
    "В массиве данных содержится 61733 записей и 4 переменные, дубликатов и пропусков не обнаружено. Типы переменных распознаны верно, названия закодированы корректно.\n",
    "\n",
    "**Events.**\n",
    "В исходном датасете содержится 440317 записей и 4 переменные, дубликатов не обнаружено, однако в переменной details есть пропуски, значит, для части событий дополнительные данные отсутствуют. Типы переменных распознаны верно, названия закодированы корректно.\n",
    "\n",
    "**Participants.**\n",
    "В массиве данных содержится 18268 записей и 3 переменные, дубликатов и пропусков не обнаружено. Типы переменных распознаны верно, названия закодированы корректно. "
   ]
  },
  {
   "cell_type": "markdown",
   "metadata": {},
   "source": [
    "### Изучение и проверка данных"
   ]
  },
  {
   "cell_type": "markdown",
   "metadata": {},
   "source": [
    "Изучим уникальные значения категориальных переменных:"
   ]
  },
  {
   "cell_type": "code",
   "execution_count": 5,
   "metadata": {},
   "outputs": [
    {
     "name": "stdout",
     "output_type": "stream",
     "text": [
      "\u001b[1mУникальные значения переменной regions\u001b[0m\n",
      "['EU, N.America' 'EU, CIS, APAC, N.America' 'N.America' 'APAC'\n",
      " 'EU, CIS, APAC' 'CIS']\n",
      "\n",
      "\u001b[1mУникальные значения переменной region\u001b[0m\n",
      "['EU' 'N.America' 'APAC' 'CIS']\n",
      "\n",
      "\u001b[1mУникальные значения переменной device\u001b[0m\n",
      "['PC' 'Android' 'iPhone' 'Mac']\n",
      "\n",
      "\u001b[1mУникальные значения переменной event_name\u001b[0m\n",
      "['purchase' 'product_cart' 'product_page' 'login']\n",
      "\n",
      "\u001b[1mУникальные значения переменной details\u001b[0m\n",
      "[ 99.99   9.99   4.99 499.99    nan]\n",
      "\n",
      "\u001b[1mУникальные значения переменной group\u001b[0m\n",
      "['A' 'B']\n",
      "\n",
      "\u001b[1mУникальные значения переменной ab_test\u001b[0m\n",
      "['recommender_system_test' 'interface_eu_test']\n",
      "\n"
     ]
    }
   ],
   "source": [
    "def unique(data,var):\n",
    "    print('\\033[1m'+ 'Уникальные значения переменной '+var + '\\033[0m')\n",
    "    print(data[var].unique())\n",
    "    print()\n",
    "\n",
    "unique(marketing_events, 'regions')\n",
    "unique(new_users, 'region')\n",
    "unique(new_users, 'device')\n",
    "unique(events, 'event_name')\n",
    "unique(events, 'details')\n",
    "unique(participants, 'group')\n",
    "unique(participants, 'ab_test')"
   ]
  },
  {
   "cell_type": "markdown",
   "metadata": {},
   "source": [
    "Все категориальные переменные закодированы корректно. Проводимые маркетинговые кампании и пользователи охватывают 4 региона, при этом названия регионов из таблицы мероприятий соответствуют названиям регионов из таблицы с действиями пользователей. Клиенты магазина использовали 4 типа устройств. Также в данных содержится информация о 2 экспериментах с двухвыборочным дизайном: одной контрольной и одной экспериментальной группами. Действия пользователей сгруппированы в 4 типа: покупка, переход в корзину, посещение продуктовой страницы и вход в личный кабинет. Переменная details принимает 4 уникальных значения.\n",
    "\n",
    "Изучим, как соотносятся переменные details и типы событий:"
   ]
  },
  {
   "cell_type": "code",
   "execution_count": 6,
   "metadata": {},
   "outputs": [
    {
     "data": {
      "text/html": [
       "<div>\n",
       "<style scoped>\n",
       "    .dataframe tbody tr th:only-of-type {\n",
       "        vertical-align: middle;\n",
       "    }\n",
       "\n",
       "    .dataframe tbody tr th {\n",
       "        vertical-align: top;\n",
       "    }\n",
       "\n",
       "    .dataframe thead th {\n",
       "        text-align: right;\n",
       "    }\n",
       "</style>\n",
       "<table border=\"1\" class=\"dataframe\">\n",
       "  <thead>\n",
       "    <tr style=\"text-align: right;\">\n",
       "      <th></th>\n",
       "      <th>price</th>\n",
       "      <th>purchases</th>\n",
       "    </tr>\n",
       "  </thead>\n",
       "  <tbody>\n",
       "    <tr>\n",
       "      <td>0</td>\n",
       "      <td>4.99</td>\n",
       "      <td>46362</td>\n",
       "    </tr>\n",
       "    <tr>\n",
       "      <td>1</td>\n",
       "      <td>9.99</td>\n",
       "      <td>9530</td>\n",
       "    </tr>\n",
       "    <tr>\n",
       "      <td>2</td>\n",
       "      <td>99.99</td>\n",
       "      <td>5631</td>\n",
       "    </tr>\n",
       "    <tr>\n",
       "      <td>3</td>\n",
       "      <td>499.99</td>\n",
       "      <td>1217</td>\n",
       "    </tr>\n",
       "  </tbody>\n",
       "</table>\n",
       "</div>"
      ],
      "text/plain": [
       "    price  purchases\n",
       "0    4.99      46362\n",
       "1    9.99       9530\n",
       "2   99.99       5631\n",
       "3  499.99       1217"
      ]
     },
     "metadata": {},
     "output_type": "display_data"
    }
   ],
   "source": [
    "sum_purchases = events.pivot_table(\n",
    "    index='details', \n",
    "    columns = 'event_name', \n",
    "    values=['event_dt'], \n",
    "    aggfunc=({'event_dt': 'count'}), fill_value=0).reset_index()\n",
    "\n",
    "sum_purchases.columns = ['price', 'purchases']\n",
    "display(sum_purchases)"
   ]
  },
  {
   "cell_type": "markdown",
   "metadata": {},
   "source": [
    "Поскольку переменная details заполнена только для записей, соответствующих типу событий \"покупка\", можно считать, что она содержит информацию о стоимости совершенных покупок.\n",
    "\n",
    "Посчитаем общую сууму покупок и выведем график:"
   ]
  },
  {
   "cell_type": "code",
   "execution_count": 56,
   "metadata": {},
   "outputs": [
    {
     "data": {
      "text/html": [
       "<div>\n",
       "<style scoped>\n",
       "    .dataframe tbody tr th:only-of-type {\n",
       "        vertical-align: middle;\n",
       "    }\n",
       "\n",
       "    .dataframe tbody tr th {\n",
       "        vertical-align: top;\n",
       "    }\n",
       "\n",
       "    .dataframe thead th {\n",
       "        text-align: right;\n",
       "    }\n",
       "</style>\n",
       "<table border=\"1\" class=\"dataframe\">\n",
       "  <thead>\n",
       "    <tr style=\"text-align: right;\">\n",
       "      <th></th>\n",
       "      <th>price</th>\n",
       "      <th>purchases</th>\n",
       "      <th>sales</th>\n",
       "    </tr>\n",
       "  </thead>\n",
       "  <tbody>\n",
       "    <tr>\n",
       "      <td>0</td>\n",
       "      <td>4.99</td>\n",
       "      <td>46362</td>\n",
       "      <td>231346.38</td>\n",
       "    </tr>\n",
       "    <tr>\n",
       "      <td>1</td>\n",
       "      <td>9.99</td>\n",
       "      <td>9530</td>\n",
       "      <td>95204.70</td>\n",
       "    </tr>\n",
       "    <tr>\n",
       "      <td>2</td>\n",
       "      <td>99.99</td>\n",
       "      <td>5631</td>\n",
       "      <td>563043.69</td>\n",
       "    </tr>\n",
       "    <tr>\n",
       "      <td>3</td>\n",
       "      <td>499.99</td>\n",
       "      <td>1217</td>\n",
       "      <td>608487.83</td>\n",
       "    </tr>\n",
       "  </tbody>\n",
       "</table>\n",
       "</div>"
      ],
      "text/plain": [
       "    price  purchases      sales\n",
       "0    4.99      46362  231346.38\n",
       "1    9.99       9530   95204.70\n",
       "2   99.99       5631  563043.69\n",
       "3  499.99       1217  608487.83"
      ]
     },
     "metadata": {},
     "output_type": "display_data"
    },
    {
     "name": "stdout",
     "output_type": "stream",
     "text": [
      "Суммарные продажи магазина:  1498082.6\n"
     ]
    },
    {
     "data": {
      "image/svg+xml": [
       "<svg class=\"main-svg\" xmlns=\"http://www.w3.org/2000/svg\" xmlns:xlink=\"http://www.w3.org/1999/xlink\" width=\"900\" height=\"500\" style=\"\" viewBox=\"0 0 900 500\"><rect x=\"0\" y=\"0\" width=\"900\" height=\"500\" style=\"fill: rgb(255, 255, 255); fill-opacity: 1;\"/><defs id=\"defs-c233b8\"><g class=\"clips\"/><g class=\"gradients\"/><g class=\"patterns\"/></defs><g class=\"bglayer\"/><g class=\"layer-below\"><g class=\"imagelayer\"/><g class=\"shapelayer\"/></g><g class=\"cartesianlayer\"/><g class=\"polarlayer\"/><g class=\"ternarylayer\"/><g class=\"geolayer\"/><g class=\"funnelarealayer\"/><g class=\"pielayer\"><g class=\"trace\" stroke-linejoin=\"round\" style=\"opacity: 1;\"><g class=\"slice\"><path class=\"surface\" d=\"M433,260l0,-160a160,160 0 0 1 88.95161507184882,292.99477499552245Z\" style=\"pointer-events: all; stroke-width: 0; fill: rgb(196, 60, 78); fill-opacity: 1; stroke: rgb(68, 68, 68); stroke-opacity: 1;\"/><g class=\"slicetext\"><text data-notex=\"1\" class=\"slicetext\" transform=\"translate(511.23696110892234,240.99768547815086)\" text-anchor=\"middle\" x=\"0\" y=\"0\" style=\"font-family: 'Open Sans', verdana, arial, sans-serif; font-size: 12px; fill: rgb(255, 255, 255); fill-opacity: 1; white-space: pre;\">40.6%</text></g></g><g class=\"slice\"><path class=\"surface\" d=\"M433,260l-112.53632513843303,113.73467160165752a160,160 0 0 1 112.53632513843303,-273.7346716016575Z\" style=\"pointer-events: all; stroke-width: 0; fill: rgb(155, 41, 100); fill-opacity: 1; stroke: rgb(68, 68, 68); stroke-opacity: 1;\"/><g class=\"slicetext\"><text data-notex=\"1\" class=\"slicetext\" transform=\"translate(356.12164841006245,233.1441858003946)\" text-anchor=\"middle\" x=\"0\" y=\"0\" style=\"font-family: 'Open Sans', verdana, arial, sans-serif; font-size: 12px; fill: rgb(255, 255, 255); fill-opacity: 1; white-space: pre;\">37.6%</text></g></g><g class=\"slice\"><path class=\"surface\" d=\"M433,260l30.24878535757109,157.1146428070649a160,160 0 0 1 -142.7851104960041,-43.37997120540739Z\" style=\"pointer-events: all; stroke-width: 0; fill: rgb(24, 12, 60); fill-opacity: 1; stroke: rgb(68, 68, 68); stroke-opacity: 1;\"/><g class=\"slicetext\"><text data-notex=\"1\" class=\"slicetext\" transform=\"translate(401.280986967207,369.1530840699819)\" text-anchor=\"middle\" x=\"0\" y=\"0\" style=\"font-family: 'Open Sans', verdana, arial, sans-serif; font-size: 12px; fill: rgb(255, 255, 255); fill-opacity: 1; white-space: pre;\">15.4%</text></g></g><g class=\"slice\"><path class=\"surface\" d=\"M433,260l88.95161507184874,132.9947749955225a160,160 0 0 1 -58.70282971427764,24.119867811542406Z\" style=\"pointer-events: all; stroke-width: 0; fill: rgb(92, 18, 110); fill-opacity: 1; stroke: rgb(68, 68, 68); stroke-opacity: 1;\"/><g class=\"slicetext\"><text data-notex=\"1\" class=\"slicetext\" transform=\"translate(483.7441373168311,388.25086141360845)\" text-anchor=\"middle\" x=\"0\" y=\"0\" style=\"font-family: 'Open Sans', verdana, arial, sans-serif; font-size: 12px; fill: rgb(255, 255, 255); fill-opacity: 1; white-space: pre;\">6.36%</text></g></g></g></g><g class=\"iciclelayer\"/><g class=\"treemaplayer\"/><g class=\"sunburstlayer\"/><g class=\"glimages\"/><defs id=\"topdefs-c233b8\"><g class=\"clips\"/><clipPath id=\"legendc233b8\"><rect width=\"88\" height=\"86\" x=\"0\" y=\"0\"/></clipPath></defs><g class=\"layer-above\"><g class=\"imagelayer\"/><g class=\"shapelayer\"/></g><g class=\"infolayer\"><g class=\"legend\" pointer-events=\"all\" transform=\"translate(800.12,100)\"><rect class=\"bg\" shape-rendering=\"crispEdges\" width=\"88\" height=\"86\" x=\"0\" y=\"0\" style=\"stroke: rgb(68, 68, 68); stroke-opacity: 1; fill: rgb(255, 255, 255); fill-opacity: 1; stroke-width: 0px;\"/><g class=\"scrollbox\" transform=\"\" clip-path=\"url(#legendc233b8)\"><g class=\"groups\"><g class=\"traces\" transform=\"translate(0,14.5)\" style=\"opacity: 1;\"><text class=\"legendtext\" text-anchor=\"start\" x=\"40\" y=\"4.680000000000001\" style=\"font-family: 'Open Sans', verdana, arial, sans-serif; font-size: 12px; fill: rgb(42, 63, 95); fill-opacity: 1; white-space: pre;\">499.99</text><g class=\"layers\" style=\"opacity: 1;\"><g class=\"legendfill\"/><g class=\"legendlines\"/><g class=\"legendsymbols\"><g class=\"legendpoints\"><path class=\"legendpie\" d=\"M6,6H-6V-6H6Z\" transform=\"translate(20,0)\" style=\"stroke-width: 0; fill: rgb(196, 60, 78); fill-opacity: 1; stroke: rgb(68, 68, 68); stroke-opacity: 1;\"/></g></g></g><rect class=\"legendtoggle\" x=\"0\" y=\"-9.5\" width=\"82.515625\" height=\"19\" style=\"fill: rgb(0, 0, 0); fill-opacity: 0;\"/></g><g class=\"traces\" transform=\"translate(0,33.5)\" style=\"opacity: 1;\"><text class=\"legendtext\" text-anchor=\"start\" x=\"40\" y=\"4.680000000000001\" style=\"font-family: 'Open Sans', verdana, arial, sans-serif; font-size: 12px; fill: rgb(42, 63, 95); fill-opacity: 1; white-space: pre;\">99.99</text><g class=\"layers\" style=\"opacity: 1;\"><g class=\"legendfill\"/><g class=\"legendlines\"/><g class=\"legendsymbols\"><g class=\"legendpoints\"><path class=\"legendpie\" d=\"M6,6H-6V-6H6Z\" transform=\"translate(20,0)\" style=\"stroke-width: 0; fill: rgb(155, 41, 100); fill-opacity: 1; stroke: rgb(68, 68, 68); stroke-opacity: 1;\"/></g></g></g><rect class=\"legendtoggle\" x=\"0\" y=\"-9.5\" width=\"82.515625\" height=\"19\" style=\"fill: rgb(0, 0, 0); fill-opacity: 0;\"/></g><g class=\"traces\" transform=\"translate(0,52.5)\" style=\"opacity: 1;\"><text class=\"legendtext\" text-anchor=\"start\" x=\"40\" y=\"4.680000000000001\" style=\"font-family: 'Open Sans', verdana, arial, sans-serif; font-size: 12px; fill: rgb(42, 63, 95); fill-opacity: 1; white-space: pre;\">4.99</text><g class=\"layers\" style=\"opacity: 1;\"><g class=\"legendfill\"/><g class=\"legendlines\"/><g class=\"legendsymbols\"><g class=\"legendpoints\"><path class=\"legendpie\" d=\"M6,6H-6V-6H6Z\" transform=\"translate(20,0)\" style=\"stroke-width: 0; fill: rgb(24, 12, 60); fill-opacity: 1; stroke: rgb(68, 68, 68); stroke-opacity: 1;\"/></g></g></g><rect class=\"legendtoggle\" x=\"0\" y=\"-9.5\" width=\"82.515625\" height=\"19\" style=\"fill: rgb(0, 0, 0); fill-opacity: 0;\"/></g><g class=\"traces\" transform=\"translate(0,71.5)\" style=\"opacity: 1;\"><text class=\"legendtext\" text-anchor=\"start\" x=\"40\" y=\"4.680000000000001\" style=\"font-family: 'Open Sans', verdana, arial, sans-serif; font-size: 12px; fill: rgb(42, 63, 95); fill-opacity: 1; white-space: pre;\">9.99</text><g class=\"layers\" style=\"opacity: 1;\"><g class=\"legendfill\"/><g class=\"legendlines\"/><g class=\"legendsymbols\"><g class=\"legendpoints\"><path class=\"legendpie\" d=\"M6,6H-6V-6H6Z\" transform=\"translate(20,0)\" style=\"stroke-width: 0; fill: rgb(92, 18, 110); fill-opacity: 1; stroke: rgb(68, 68, 68); stroke-opacity: 1;\"/></g></g></g><rect class=\"legendtoggle\" x=\"0\" y=\"-9.5\" width=\"82.515625\" height=\"19\" style=\"fill: rgb(0, 0, 0); fill-opacity: 0;\"/></g></g></g><rect class=\"scrollbar\" rx=\"20\" ry=\"3\" width=\"0\" height=\"0\" x=\"0\" y=\"0\" style=\"fill: rgb(128, 139, 164); fill-opacity: 1;\"/></g><g class=\"g-gtitle\"><text class=\"gtitle\" x=\"45\" y=\"50\" text-anchor=\"start\" dy=\"0em\" style=\"font-family: 'Open Sans', verdana, arial, sans-serif; font-size: 20px; fill: rgb(42, 63, 95); opacity: 1; font-weight: normal; white-space: pre;\">Соотношение продаж по ценам</text></g></g></svg>"
      ]
     },
     "metadata": {},
     "output_type": "display_data"
    }
   ],
   "source": [
    "sum_purchases['sales'] = sum_purchases['price']*sum_purchases['purchases']\n",
    "display(sum_purchases)\n",
    "print('Суммарные продажи магазина: ', sum_purchases['sales'].sum())\n",
    "\n",
    "fig = go.Figure(data=[go.Pie(labels=sum_purchases['price'], \n",
    "                             values=sum_purchases['sales'])])\n",
    "fig.update_layout(title_text='Соотношение продаж по ценам', title_font_size=20)\n",
    "fig.update_traces(marker=dict(colors=['#180c3c', '#5c126e', '#9b2964', '#c43c4e']))\n",
    "fig.show(width=900, height=500, renderer='svg')\n",
    "\n",
    "fig.write_image(\"piechart.jpg\")"
   ]
  },
  {
   "cell_type": "markdown",
   "metadata": {},
   "source": [
    "<a href=\"https://github.com/austinlasseter/flying-dog-beers\">code on github</a>"
   ]
  },
  {
   "cell_type": "markdown",
   "metadata": {},
   "source": [
    "Суммарные продажи интернет-магазина составили 1498082 у.е., при этом 40% доходов составили продажи товаров по цене 500 у.е., на втором месте - товары по 100 у.е., товары с ценами 5 и 10 у.е. суммарно генерируют немногим больше 20% всех доходов бизнеса."
   ]
  },
  {
   "cell_type": "markdown",
   "metadata": {},
   "source": [
    "Проверим, как соотносятся списки уникальных пользователей в трех таблицах: new_users, events, participants."
   ]
  },
  {
   "cell_type": "code",
   "execution_count": 8,
   "metadata": {},
   "outputs": [
    {
     "name": "stdout",
     "output_type": "stream",
     "text": [
      "Уникальных пользователей new_users: 61733\n",
      "Уникальных пользователей events: 58703\n",
      "Уникальных пользователей participants: 16666\n",
      "Пересечения пользователей new_users и events: 58703\n",
      "Пересечения пользователей participants и events: 13638\n",
      "Пересечения пользователей participants и new_users: 16666\n"
     ]
    }
   ],
   "source": [
    "unique_new_users = new_users['user_id'].unique()\n",
    "unique_events = events['user_id'].unique()\n",
    "unique_participants = participants['user_id'].unique()\n",
    "\n",
    "print('Уникальных пользователей new_users:', len(unique_new_users))\n",
    "print('Уникальных пользователей events:', len(unique_events))\n",
    "print('Уникальных пользователей participants:', len(unique_participants))\n",
    "print('Пересечения пользователей new_users и events:', len(list(set(unique_new_users) & \n",
    "                                                                set(unique_events))))\n",
    "print('Пересечения пользователей participants и events:', len(list(set(unique_participants) & \n",
    "                                                                   set(unique_events))))\n",
    "print('Пересечения пользователей participants и new_users:', len(list(set(unique_participants) & \n",
    "                                                                      set(unique_new_users))))"
   ]
  },
  {
   "cell_type": "markdown",
   "metadata": {},
   "source": [
    "В таблице new_users все записи уникальны по user_id, однако в таблице participants содержится больше записей, чем уникальных пользователей (18268 записей и 61733 пользователей), значит, один и тот же пользователь мог попасть в группы A и B или принять участие в двух тестах. Проверим это отдельно.\n",
    "\n",
    "Все участники теста и пользователи из таблицы событий есть в таблице new_users, при этом информация о событиях (то есть совершенных действиях) есть только только по 58703 новым пользователям из 61733; и 13638 участникам теста из 16666. Другими словами, часть новых пользователей и участников теста на совершали каких-либо действий."
   ]
  },
  {
   "cell_type": "markdown",
   "metadata": {},
   "source": [
    "Изучим основные характеристики распределения дат:"
   ]
  },
  {
   "cell_type": "code",
   "execution_count": 9,
   "metadata": {},
   "outputs": [
    {
     "name": "stdout",
     "output_type": "stream",
     "text": [
      "\u001b[1mРаспределение переменной start_dt\u001b[0m\n"
     ]
    },
    {
     "data": {
      "text/plain": [
       "count                      14\n",
       "unique                     14\n",
       "top       2020-02-14 00:00:00\n",
       "freq                        1\n",
       "first     2020-01-25 00:00:00\n",
       "last      2020-12-30 00:00:00\n",
       "Name: start_dt, dtype: object"
      ]
     },
     "metadata": {},
     "output_type": "display_data"
    },
    {
     "name": "stdout",
     "output_type": "stream",
     "text": [
      "\n",
      "\u001b[1mРаспределение переменной finish_dt\u001b[0m\n"
     ]
    },
    {
     "data": {
      "text/plain": [
       "count                      14\n",
       "unique                     14\n",
       "top       2020-05-11 00:00:00\n",
       "freq                        1\n",
       "first     2020-02-07 00:00:00\n",
       "last      2021-01-07 00:00:00\n",
       "Name: finish_dt, dtype: object"
      ]
     },
     "metadata": {},
     "output_type": "display_data"
    },
    {
     "name": "stdout",
     "output_type": "stream",
     "text": [
      "\n",
      "\u001b[1mРаспределение переменной first_date\u001b[0m\n"
     ]
    },
    {
     "data": {
      "text/plain": [
       "count                   61733\n",
       "unique                     17\n",
       "top       2020-12-21 00:00:00\n",
       "freq                     6290\n",
       "first     2020-12-07 00:00:00\n",
       "last      2020-12-23 00:00:00\n",
       "Name: first_date, dtype: object"
      ]
     },
     "metadata": {},
     "output_type": "display_data"
    },
    {
     "name": "stdout",
     "output_type": "stream",
     "text": [
      "\n",
      "\u001b[1mРаспределение переменной event_dt\u001b[0m\n"
     ]
    },
    {
     "data": {
      "text/plain": [
       "count                  440317\n",
       "unique                 267268\n",
       "top       2020-12-23 02:37:24\n",
       "freq                       10\n",
       "first     2020-12-07 00:00:33\n",
       "last      2020-12-30 23:36:33\n",
       "Name: event_dt, dtype: object"
      ]
     },
     "metadata": {},
     "output_type": "display_data"
    },
    {
     "name": "stdout",
     "output_type": "stream",
     "text": [
      "\n"
     ]
    }
   ],
   "source": [
    "def desc(data,var):\n",
    "    print('\\033[1m'+ 'Распределение переменной '+var + '\\033[0m')\n",
    "    display(data[var].describe())\n",
    "    print()\n",
    "\n",
    "desc(marketing_events,'start_dt')\n",
    "desc(marketing_events,'finish_dt')\n",
    "desc(new_users,'first_date')\n",
    "desc(events,'event_dt')"
   ]
  },
  {
   "cell_type": "markdown",
   "metadata": {},
   "source": [
    "Из технического задания известно, что эксперимент проводился с 2020-12-07 по 2021-01-04, при этом набор новых пользователей прекращался 2020-12-21. Как видно из распределений дат, проводимые маркетинговые мероприятия охватывают временной промежуток с 2020-01-25 по 2021-01-07, то есть могли пересекаться с экспериментом и влиять на его результаты. Кроме того, последняя дата регистрации нового пользователя в данных - 2020-12-23, что противоречит условиям ТЗ. Записи действий пользователей соответствуют условиям ТЗ: с 2020-12-07 по 2020-12-30."
   ]
  },
  {
   "cell_type": "markdown",
   "metadata": {},
   "source": [
    "### Фильтрация данных"
   ]
  },
  {
   "cell_type": "markdown",
   "metadata": {},
   "source": [
    "Сначала объединим данные 3 таблиц, так, чтобы каждая строка соответствовала событию, параметрам юзера (дата первого захода, регион, устройство) и его участия в эксперименте (принадлежность к группе и тесту). На данном этапе события могут повторяться, если пользователь входил в несколько групп тестирования:"
   ]
  },
  {
   "cell_type": "code",
   "execution_count": 10,
   "metadata": {},
   "outputs": [
    {
     "data": {
      "text/html": [
       "<div>\n",
       "<style scoped>\n",
       "    .dataframe tbody tr th:only-of-type {\n",
       "        vertical-align: middle;\n",
       "    }\n",
       "\n",
       "    .dataframe tbody tr th {\n",
       "        vertical-align: top;\n",
       "    }\n",
       "\n",
       "    .dataframe thead th {\n",
       "        text-align: right;\n",
       "    }\n",
       "</style>\n",
       "<table border=\"1\" class=\"dataframe\">\n",
       "  <thead>\n",
       "    <tr style=\"text-align: right;\">\n",
       "      <th></th>\n",
       "      <th>user_id</th>\n",
       "      <th>group</th>\n",
       "      <th>ab_test</th>\n",
       "      <th>event_dt</th>\n",
       "      <th>event_name</th>\n",
       "      <th>details</th>\n",
       "      <th>first_date</th>\n",
       "      <th>region</th>\n",
       "      <th>device</th>\n",
       "    </tr>\n",
       "  </thead>\n",
       "  <tbody>\n",
       "    <tr>\n",
       "      <td>0</td>\n",
       "      <td>D1ABA3E2887B6A73</td>\n",
       "      <td>A</td>\n",
       "      <td>recommender_system_test</td>\n",
       "      <td>2020-12-07 14:43:27</td>\n",
       "      <td>purchase</td>\n",
       "      <td>99.99</td>\n",
       "      <td>2020-12-07</td>\n",
       "      <td>EU</td>\n",
       "      <td>PC</td>\n",
       "    </tr>\n",
       "    <tr>\n",
       "      <td>1</td>\n",
       "      <td>D1ABA3E2887B6A73</td>\n",
       "      <td>A</td>\n",
       "      <td>recommender_system_test</td>\n",
       "      <td>2020-12-25 00:04:56</td>\n",
       "      <td>purchase</td>\n",
       "      <td>4.99</td>\n",
       "      <td>2020-12-07</td>\n",
       "      <td>EU</td>\n",
       "      <td>PC</td>\n",
       "    </tr>\n",
       "    <tr>\n",
       "      <td>2</td>\n",
       "      <td>D1ABA3E2887B6A73</td>\n",
       "      <td>A</td>\n",
       "      <td>recommender_system_test</td>\n",
       "      <td>2020-12-07 14:43:29</td>\n",
       "      <td>product_cart</td>\n",
       "      <td>NaN</td>\n",
       "      <td>2020-12-07</td>\n",
       "      <td>EU</td>\n",
       "      <td>PC</td>\n",
       "    </tr>\n",
       "    <tr>\n",
       "      <td>3</td>\n",
       "      <td>D1ABA3E2887B6A73</td>\n",
       "      <td>A</td>\n",
       "      <td>recommender_system_test</td>\n",
       "      <td>2020-12-25 00:04:57</td>\n",
       "      <td>product_cart</td>\n",
       "      <td>NaN</td>\n",
       "      <td>2020-12-07</td>\n",
       "      <td>EU</td>\n",
       "      <td>PC</td>\n",
       "    </tr>\n",
       "    <tr>\n",
       "      <td>4</td>\n",
       "      <td>D1ABA3E2887B6A73</td>\n",
       "      <td>A</td>\n",
       "      <td>recommender_system_test</td>\n",
       "      <td>2020-12-07 14:43:27</td>\n",
       "      <td>product_page</td>\n",
       "      <td>NaN</td>\n",
       "      <td>2020-12-07</td>\n",
       "      <td>EU</td>\n",
       "      <td>PC</td>\n",
       "    </tr>\n",
       "  </tbody>\n",
       "</table>\n",
       "</div>"
      ],
      "text/plain": [
       "            user_id group                  ab_test            event_dt  \\\n",
       "0  D1ABA3E2887B6A73     A  recommender_system_test 2020-12-07 14:43:27   \n",
       "1  D1ABA3E2887B6A73     A  recommender_system_test 2020-12-25 00:04:56   \n",
       "2  D1ABA3E2887B6A73     A  recommender_system_test 2020-12-07 14:43:29   \n",
       "3  D1ABA3E2887B6A73     A  recommender_system_test 2020-12-25 00:04:57   \n",
       "4  D1ABA3E2887B6A73     A  recommender_system_test 2020-12-07 14:43:27   \n",
       "\n",
       "     event_name  details first_date region device  \n",
       "0      purchase    99.99 2020-12-07     EU     PC  \n",
       "1      purchase     4.99 2020-12-07     EU     PC  \n",
       "2  product_cart      NaN 2020-12-07     EU     PC  \n",
       "3  product_cart      NaN 2020-12-07     EU     PC  \n",
       "4  product_page      NaN 2020-12-07     EU     PC  "
      ]
     },
     "metadata": {},
     "output_type": "display_data"
    },
    {
     "name": "stdout",
     "output_type": "stream",
     "text": [
      "110368\n"
     ]
    }
   ],
   "source": [
    "data = (participants\n",
    "        .merge(events, on='user_id', how='left')\n",
    "        .merge(new_users, on='user_id', how='left')\n",
    "        .reset_index(drop=True))\n",
    "\n",
    "display(data.head())\n",
    "print(len(data))"
   ]
  },
  {
   "cell_type": "markdown",
   "metadata": {},
   "source": [
    "Параметры теста из технического задания:\n",
    "- Название теста: recommender_system_test;\n",
    "- группы: А — контрольная, B — новая платёжная воронка;\n",
    "- дата запуска: 2020-12-07;\n",
    "- дата остановки набора новых пользователей: 2020-12-21;\n",
    "- дата остановки: 2021-01-04.\n",
    "\n",
    "Следовательно, необходимо оставить в данных только записи со значениями ab_test, равными recommender_system_test; event_dt - в промежутке между 2020-12-07 и 2021-01-04; first_date - не позднее 2020-12-21."
   ]
  },
  {
   "cell_type": "code",
   "execution_count": 11,
   "metadata": {},
   "outputs": [
    {
     "name": "stdout",
     "output_type": "stream",
     "text": [
      "<class 'pandas.core.frame.DataFrame'>\n",
      "Int64Index: 24698 entries, 0 to 27723\n",
      "Data columns (total 9 columns):\n",
      "user_id       24698 non-null object\n",
      "group         24698 non-null object\n",
      "ab_test       24698 non-null object\n",
      "event_dt      24698 non-null datetime64[ns]\n",
      "event_name    24698 non-null object\n",
      "details       3331 non-null float64\n",
      "first_date    24698 non-null datetime64[ns]\n",
      "region        24698 non-null object\n",
      "device        24698 non-null object\n",
      "dtypes: datetime64[ns](2), float64(1), object(6)\n",
      "memory usage: 1.9+ MB\n",
      "None\n"
     ]
    }
   ],
   "source": [
    "test_data = data[(data['ab_test']=='recommender_system_test') &\n",
    "                 (data['event_dt']>='2020-12-07') & (data['event_dt']<='2021-01-04') &\n",
    "                 (data['first_date']<='2020-12-21')]\n",
    "\n",
    "print(test_data.info())"
   ]
  },
  {
   "cell_type": "markdown",
   "metadata": {},
   "source": [
    "Осталось 24698 из 110368 исходных записей."
   ]
  },
  {
   "cell_type": "markdown",
   "metadata": {},
   "source": [
    "## Оценка корректности проведения теста"
   ]
  },
  {
   "cell_type": "markdown",
   "metadata": {},
   "source": [
    "### Пересечение тестовой аудитории с конкурирующим тестом"
   ]
  },
  {
   "cell_type": "markdown",
   "metadata": {},
   "source": [
    "Для обеспечения корректности деления трафика, необходимо, чтобы все участники отфильтрованного датасета test_data:\n",
    "- не дублировались между группами A и B;\n",
    "- не подвергались воздействию другого теста (то есть группа B теста interface_eu_test)\n",
    "\n",
    "Если пользователь входил в группу A в рамках теста interface_eu_test, то есть в контрольную группу, значит, не подвергался воздействию, проблем нет."
   ]
  },
  {
   "cell_type": "code",
   "execution_count": 12,
   "metadata": {},
   "outputs": [],
   "source": [
    "A_recommender = test_data.loc[(test_data['group'] == 'A') & \n",
    "                                  (test_data['ab_test'] == 'recommender_system_test')]['user_id'].unique()\n",
    "B_recommender = test_data.loc[(test_data['group'] == 'B') & \n",
    "                                  (test_data['ab_test'] == 'recommender_system_test')]['user_id'].unique()\n",
    "A_interface = data.loc[(data['group'] == 'A') & \n",
    "                                  (data['ab_test'] == 'interface_eu_test')]['user_id'].unique()\n",
    "B_interface = data.loc[(data['group'] == 'B') & \n",
    "                                  (data['ab_test'] == 'interface_eu_test')]['user_id'].unique()"
   ]
  },
  {
   "cell_type": "code",
   "execution_count": 13,
   "metadata": {},
   "outputs": [
    {
     "name": "stdout",
     "output_type": "stream",
     "text": [
      "Пересечений A_recommender и B_recommender: 0\n",
      "Пересечений A_recommender и A_interface: 340\n",
      "Пересечений A_recommender и B_interface: 325\n",
      "Пересечений A_recommender и B_recommender: 0\n",
      "Пересечений B_recommender и A_interface: 116\n",
      "Пересечений B_recommender и B_interface: 106\n",
      "Пересечений A_interface и B_interface: 0\n"
     ]
    }
   ],
   "source": [
    "print('Пересечений A_recommender и B_recommender:', len(list(set(A_recommender) & set(B_recommender))))\n",
    "print('Пересечений A_recommender и A_interface:', len(list(set(A_recommender) & set(A_interface))))\n",
    "print('Пересечений A_recommender и B_interface:', len(list(set(A_recommender) & set(B_interface))))\n",
    "print('Пересечений A_recommender и B_recommender:', len(list(set(A_recommender) & set(B_recommender))))\n",
    "print('Пересечений B_recommender и A_interface:', len(list(set(B_recommender) & set(A_interface))))\n",
    "print('Пересечений B_recommender и B_interface:', len(list(set(B_recommender) & set(B_interface))))\n",
    "print('Пересечений A_interface и B_interface:', len(list(set(A_interface) & set(B_interface))))"
   ]
  },
  {
   "cell_type": "markdown",
   "metadata": {},
   "source": [
    "В отфильтрованном датасете пересечений групп A и B нет.\n",
    "340 пользователей дважды попали в контрольные группы (что не явяляется проблемой).\n",
    "325 пользователей были в экспериментальной группе теста интерфейса и попали в группу A теста системы рекомендаций, такие записи необходимо удалить.\n",
    "116 пользователей были в группе A теста интерфейса и попали в экспериментальную группу теста системы рекомендаций (не является проблемой, поскольку не было воздействия).\n",
    "106 пользователей дважды попали в группу B, такие записи также необходимо удалить."
   ]
  },
  {
   "cell_type": "markdown",
   "metadata": {},
   "source": [
    "Удалим из датасета записи событий пользователей - участников контрольной группы другого эксперимента:"
   ]
  },
  {
   "cell_type": "code",
   "execution_count": 14,
   "metadata": {},
   "outputs": [
    {
     "name": "stdout",
     "output_type": "stream",
     "text": [
      "<class 'pandas.core.frame.DataFrame'>\n",
      "Int64Index: 21842 entries, 0 to 27723\n",
      "Data columns (total 9 columns):\n",
      "user_id       21842 non-null object\n",
      "group         21842 non-null object\n",
      "ab_test       21842 non-null object\n",
      "event_dt      21842 non-null datetime64[ns]\n",
      "event_name    21842 non-null object\n",
      "details       2939 non-null float64\n",
      "first_date    21842 non-null datetime64[ns]\n",
      "region        21842 non-null object\n",
      "device        21842 non-null object\n",
      "dtypes: datetime64[ns](2), float64(1), object(6)\n",
      "memory usage: 1.7+ MB\n",
      "None\n"
     ]
    }
   ],
   "source": [
    "test_data = test_data[~test_data['user_id'].isin(B_interface)]\n",
    "print(test_data.info())"
   ]
  },
  {
   "cell_type": "markdown",
   "metadata": {},
   "source": [
    "В результате фильтрации осталось 21842 событий из 24698."
   ]
  },
  {
   "cell_type": "markdown",
   "metadata": {},
   "source": [
    "### Совпадение теста и маркетинговых событий"
   ]
  },
  {
   "cell_type": "markdown",
   "metadata": {},
   "source": [
    "Согласно ТЗ, время эксперимента охватывает события воронки с 7 декабря 2020 по 4 января 2020. Маркетинговые события происходят с 25 января 2020 по 7 января 2021.\n",
    "Посмотрим на график маркетинговых событий:"
   ]
  },
  {
   "cell_type": "code",
   "execution_count": 15,
   "metadata": {},
   "outputs": [
    {
     "data": {
      "image/svg+xml": [
       "<svg class=\"main-svg\" xmlns=\"http://www.w3.org/2000/svg\" xmlns:xlink=\"http://www.w3.org/1999/xlink\" width=\"900\" height=\"700\" style=\"\" viewBox=\"0 0 900 700\"><rect x=\"0\" y=\"0\" width=\"900\" height=\"700\" style=\"fill: rgb(255, 255, 255); fill-opacity: 1;\"/><defs id=\"defs-3cd342\"><g class=\"clips\"><clipPath id=\"clip3cd342xyplot\" class=\"plotclip\"><rect width=\"594\" height=\"520\"/></clipPath><clipPath class=\"axesclip\" id=\"clip3cd342x\"><rect x=\"226\" y=\"0\" width=\"594\" height=\"700\"/></clipPath><clipPath class=\"axesclip\" id=\"clip3cd342y\"><rect x=\"0\" y=\"100\" width=\"900\" height=\"520\"/></clipPath><clipPath class=\"axesclip\" id=\"clip3cd342xy\"><rect x=\"226\" y=\"100\" width=\"594\" height=\"520\"/></clipPath></g><g class=\"gradients\"/><g class=\"patterns\"/></defs><g class=\"bglayer\"><rect class=\"bg\" x=\"226\" y=\"100\" width=\"594\" height=\"520\" style=\"fill: rgb(229, 236, 246); fill-opacity: 1; stroke-width: 0;\"/></g><g class=\"layer-below\"><g class=\"imagelayer\"/><g class=\"shapelayer\"/></g><g class=\"cartesianlayer\"><g class=\"subplot xy\"><g class=\"layer-subplot\"><g class=\"shapelayer\"/><g class=\"imagelayer\"/></g><g class=\"gridlayer\"><g class=\"x\"/><g class=\"y\"/></g><g class=\"zerolinelayer\"/><path class=\"xlines-below\"/><path class=\"ylines-below\"/><g class=\"overlines-below\"/><g class=\"xaxislayer-below\"/><g class=\"yaxislayer-below\"/><g class=\"overaxes-below\"/><g class=\"plot\" transform=\"translate(226,100)\" clip-path=\"url(#clip3cd342xyplot)\"><g class=\"scatterlayer mlayer\"><g class=\"trace scatter trace6689e9\" style=\"stroke-miterlimit: 2; opacity: 1;\"><g class=\"fills\"><g><path class=\"js-fill\" d=\"M111.69,429L114.72,429L114.72,416L111.69,416ZM474.72,104L476.24,104L476.24,91L474.72,91Z\" style=\"fill: rgb(114, 1, 168); fill-opacity: 1; stroke-width: 0;\"/></g></g><g class=\"errorbars\"/><g class=\"lines\"/><g class=\"points\"/><g class=\"text\"/></g><g class=\"trace scatter trace7be5f3\" style=\"stroke-miterlimit: 2; opacity: 1;\"><g class=\"fills\"><g><path class=\"js-fill\" d=\"M541.55,494L555.22,494L555.22,481L541.55,481ZM549.15,169L561.3,169L561.3,156L549.15,156Z\" style=\"fill: rgb(13, 8, 135); fill-opacity: 1; stroke-width: 0;\"/></g></g><g class=\"errorbars\"/><g class=\"lines\"/><g class=\"points\"/><g class=\"text\"/></g><g class=\"trace scatter trace532f96\" style=\"stroke-miterlimit: 2; opacity: 1;\"><g class=\"fills\"><g><path class=\"js-fill\" d=\"M151.18,396.5L161.81,396.5L161.81,383.5L151.18,383.5ZM412.44,71.5L421.56,71.5L421.56,58.5L412.44,58.5Z\" style=\"fill: rgb(156, 23, 158); fill-opacity: 1; stroke-width: 0;\"/></g></g><g class=\"errorbars\"/><g class=\"lines\"/><g class=\"points\"/><g class=\"text\"/></g><g class=\"trace scatter trace48e0b7\" style=\"stroke-miterlimit: 2; opacity: 1;\"><g class=\"fills\"><g><path class=\"js-fill\" d=\"M277.25,364L287.89,364L287.89,351L277.25,351Z\" style=\"fill: rgb(189, 55, 134); fill-opacity: 1; stroke-width: 0;\"/></g></g><g class=\"errorbars\"/><g class=\"lines\"/><g class=\"points\"/><g class=\"text\"/></g><g class=\"trace scatter trace3cf255\" style=\"stroke-miterlimit: 2; opacity: 1;\"><g class=\"fills\"><g><path class=\"js-fill\" d=\"M497.5,331.5L505.1,331.5L505.1,318.5L497.5,318.5Z\" style=\"fill: rgb(216, 87, 107); fill-opacity: 1; stroke-width: 0;\"/></g></g><g class=\"errorbars\"/><g class=\"lines\"/><g class=\"points\"/><g class=\"text\"/></g><g class=\"trace scatter tracefc7b8a\" style=\"stroke-miterlimit: 2; opacity: 1;\"><g class=\"fills\"><g><path class=\"js-fill\" d=\"M32.7,299L52.45,299L52.45,286L32.7,286Z\" style=\"fill: rgb(237, 121, 83); fill-opacity: 1; stroke-width: 0;\"/></g></g><g class=\"errorbars\"/><g class=\"lines\"/><g class=\"points\"/><g class=\"text\"/></g><g class=\"trace scatter traceea9f40\" style=\"stroke-miterlimit: 2; opacity: 1;\"><g class=\"fills\"><g><path class=\"js-fill\" d=\"M192.19,201.5L195.23,201.5L195.23,188.5L192.19,188.5Z\" style=\"fill: rgb(240, 249, 33); fill-opacity: 1; stroke-width: 0;\"/></g></g><g class=\"errorbars\"/><g class=\"lines\"/><g class=\"points\"/><g class=\"text\"/></g><g class=\"trace scatter trace04e41d\" style=\"stroke-miterlimit: 2; opacity: 1;\"><g class=\"fills\"><g><path class=\"js-fill\" d=\"M180.04,266.5L183.08,266.5L183.08,253.5L180.04,253.5Z\" style=\"fill: rgb(251, 159, 58); fill-opacity: 1; stroke-width: 0;\"/></g></g><g class=\"errorbars\"/><g class=\"lines\"/><g class=\"points\"/><g class=\"text\"/></g><g class=\"trace scatter trace230e67\" style=\"stroke-miterlimit: 2; opacity: 1;\"><g class=\"fills\"><g><path class=\"js-fill\" d=\"M98.02,234L101.05,234L101.05,221L98.02,221Z\" style=\"fill: rgb(253, 202, 38); fill-opacity: 1; stroke-width: 0;\"/></g></g><g class=\"errorbars\"/><g class=\"lines\"/><g class=\"points\"/><g class=\"text\"/></g><g class=\"trace scatter tracef53880\" style=\"stroke-miterlimit: 2; opacity: 1;\"><g class=\"fills\"><g><path class=\"js-fill\" d=\"M63.08,461.5L66.12,461.5L66.12,448.5L63.08,448.5ZM263.58,136.5L272.7,136.5L272.7,123.5L263.58,123.5Z\" style=\"fill: rgb(70, 3, 159); fill-opacity: 1; stroke-width: 0;\"/></g></g><g class=\"errorbars\"/><g class=\"lines\"/><g class=\"points\"/><g class=\"text\"/></g><g class=\"trace scatter traceb80f53\" style=\"stroke-miterlimit: 2; opacity: 1;\"><g class=\"fills\"/><g class=\"errorbars\"/><g class=\"lines\"/><g class=\"points\"><path class=\"point\" transform=\"translate(111.69,422.5)\" d=\"M0.5,0A0.5,0.5 0 1,1 0,-0.5A0.5,0.5 0 0,1 0.5,0Z\" style=\"opacity: 0; stroke-width: 0px; fill: rgb(114, 1, 168); fill-opacity: 1;\"/><path class=\"point\" transform=\"translate(114.72,422.5)\" d=\"M0.5,0A0.5,0.5 0 1,1 0,-0.5A0.5,0.5 0 0,1 0.5,0Z\" style=\"opacity: 0; stroke-width: 0px; fill: rgb(114, 1, 168); fill-opacity: 1;\"/><path class=\"point\" transform=\"translate(474.72,97.5)\" d=\"M0.5,0A0.5,0.5 0 1,1 0,-0.5A0.5,0.5 0 0,1 0.5,0Z\" style=\"opacity: 0; stroke-width: 0px; fill: rgb(114, 1, 168); fill-opacity: 1;\"/><path class=\"point\" transform=\"translate(476.24,97.5)\" d=\"M0.5,0A0.5,0.5 0 1,1 0,-0.5A0.5,0.5 0 0,1 0.5,0Z\" style=\"opacity: 0; stroke-width: 0px; fill: rgb(114, 1, 168); fill-opacity: 1;\"/></g><g class=\"text\"/></g><g class=\"trace scatter trace747110\" style=\"stroke-miterlimit: 2; opacity: 1;\"><g class=\"fills\"/><g class=\"errorbars\"/><g class=\"lines\"/><g class=\"points\"><path class=\"point\" transform=\"translate(541.55,487.5)\" d=\"M0.5,0A0.5,0.5 0 1,1 0,-0.5A0.5,0.5 0 0,1 0.5,0Z\" style=\"opacity: 0; stroke-width: 0px; fill: rgb(13, 8, 135); fill-opacity: 1;\"/><path class=\"point\" transform=\"translate(555.22,487.5)\" d=\"M0.5,0A0.5,0.5 0 1,1 0,-0.5A0.5,0.5 0 0,1 0.5,0Z\" style=\"opacity: 0; stroke-width: 0px; fill: rgb(13, 8, 135); fill-opacity: 1;\"/><path class=\"point\" transform=\"translate(549.15,162.5)\" d=\"M0.5,0A0.5,0.5 0 1,1 0,-0.5A0.5,0.5 0 0,1 0.5,0Z\" style=\"opacity: 0; stroke-width: 0px; fill: rgb(13, 8, 135); fill-opacity: 1;\"/><path class=\"point\" transform=\"translate(561.3,162.5)\" d=\"M0.5,0A0.5,0.5 0 1,1 0,-0.5A0.5,0.5 0 0,1 0.5,0Z\" style=\"opacity: 0; stroke-width: 0px; fill: rgb(13, 8, 135); fill-opacity: 1;\"/></g><g class=\"text\"/></g><g class=\"trace scatter tracea7e02d\" style=\"stroke-miterlimit: 2; opacity: 1;\"><g class=\"fills\"/><g class=\"errorbars\"/><g class=\"lines\"/><g class=\"points\"><path class=\"point\" transform=\"translate(151.18,390)\" d=\"M0.5,0A0.5,0.5 0 1,1 0,-0.5A0.5,0.5 0 0,1 0.5,0Z\" style=\"opacity: 0; stroke-width: 0px; fill: rgb(156, 23, 158); fill-opacity: 1;\"/><path class=\"point\" transform=\"translate(161.81,390)\" d=\"M0.5,0A0.5,0.5 0 1,1 0,-0.5A0.5,0.5 0 0,1 0.5,0Z\" style=\"opacity: 0; stroke-width: 0px; fill: rgb(156, 23, 158); fill-opacity: 1;\"/><path class=\"point\" transform=\"translate(412.44,65)\" d=\"M0.5,0A0.5,0.5 0 1,1 0,-0.5A0.5,0.5 0 0,1 0.5,0Z\" style=\"opacity: 0; stroke-width: 0px; fill: rgb(156, 23, 158); fill-opacity: 1;\"/><path class=\"point\" transform=\"translate(421.56,65)\" d=\"M0.5,0A0.5,0.5 0 1,1 0,-0.5A0.5,0.5 0 0,1 0.5,0Z\" style=\"opacity: 0; stroke-width: 0px; fill: rgb(156, 23, 158); fill-opacity: 1;\"/></g><g class=\"text\"/></g><g class=\"trace scatter trace4bfb5d\" style=\"stroke-miterlimit: 2; opacity: 1;\"><g class=\"fills\"/><g class=\"errorbars\"/><g class=\"lines\"/><g class=\"points\"><path class=\"point\" transform=\"translate(277.25,357.5)\" d=\"M0.5,0A0.5,0.5 0 1,1 0,-0.5A0.5,0.5 0 0,1 0.5,0Z\" style=\"opacity: 0; stroke-width: 0px; fill: rgb(189, 55, 134); fill-opacity: 1;\"/><path class=\"point\" transform=\"translate(287.89,357.5)\" d=\"M0.5,0A0.5,0.5 0 1,1 0,-0.5A0.5,0.5 0 0,1 0.5,0Z\" style=\"opacity: 0; stroke-width: 0px; fill: rgb(189, 55, 134); fill-opacity: 1;\"/></g><g class=\"text\"/></g><g class=\"trace scatter trace1077fb\" style=\"stroke-miterlimit: 2; opacity: 1;\"><g class=\"fills\"/><g class=\"errorbars\"/><g class=\"lines\"/><g class=\"points\"><path class=\"point\" transform=\"translate(497.5,325)\" d=\"M0.5,0A0.5,0.5 0 1,1 0,-0.5A0.5,0.5 0 0,1 0.5,0Z\" style=\"opacity: 0; stroke-width: 0px; fill: rgb(216, 87, 107); fill-opacity: 1;\"/><path class=\"point\" transform=\"translate(505.1,325)\" d=\"M0.5,0A0.5,0.5 0 1,1 0,-0.5A0.5,0.5 0 0,1 0.5,0Z\" style=\"opacity: 0; stroke-width: 0px; fill: rgb(216, 87, 107); fill-opacity: 1;\"/></g><g class=\"text\"/></g><g class=\"trace scatter trace3e78ea\" style=\"stroke-miterlimit: 2; opacity: 1;\"><g class=\"fills\"/><g class=\"errorbars\"/><g class=\"lines\"/><g class=\"points\"><path class=\"point\" transform=\"translate(32.7,292.5)\" d=\"M0.5,0A0.5,0.5 0 1,1 0,-0.5A0.5,0.5 0 0,1 0.5,0Z\" style=\"opacity: 0; stroke-width: 0px; fill: rgb(237, 121, 83); fill-opacity: 1;\"/><path class=\"point\" transform=\"translate(52.45,292.5)\" d=\"M0.5,0A0.5,0.5 0 1,1 0,-0.5A0.5,0.5 0 0,1 0.5,0Z\" style=\"opacity: 0; stroke-width: 0px; fill: rgb(237, 121, 83); fill-opacity: 1;\"/></g><g class=\"text\"/></g><g class=\"trace scatter tracecfdeb6\" style=\"stroke-miterlimit: 2; opacity: 1;\"><g class=\"fills\"/><g class=\"errorbars\"/><g class=\"lines\"/><g class=\"points\"><path class=\"point\" transform=\"translate(192.19,195)\" d=\"M0.5,0A0.5,0.5 0 1,1 0,-0.5A0.5,0.5 0 0,1 0.5,0Z\" style=\"opacity: 0; stroke-width: 0px; fill: rgb(240, 249, 33); fill-opacity: 1;\"/><path class=\"point\" transform=\"translate(195.23,195)\" d=\"M0.5,0A0.5,0.5 0 1,1 0,-0.5A0.5,0.5 0 0,1 0.5,0Z\" style=\"opacity: 0; stroke-width: 0px; fill: rgb(240, 249, 33); fill-opacity: 1;\"/></g><g class=\"text\"/></g><g class=\"trace scatter tracea883d0\" style=\"stroke-miterlimit: 2; opacity: 1;\"><g class=\"fills\"/><g class=\"errorbars\"/><g class=\"lines\"/><g class=\"points\"><path class=\"point\" transform=\"translate(180.04,260)\" d=\"M0.5,0A0.5,0.5 0 1,1 0,-0.5A0.5,0.5 0 0,1 0.5,0Z\" style=\"opacity: 0; stroke-width: 0px; fill: rgb(251, 159, 58); fill-opacity: 1;\"/><path class=\"point\" transform=\"translate(183.08,260)\" d=\"M0.5,0A0.5,0.5 0 1,1 0,-0.5A0.5,0.5 0 0,1 0.5,0Z\" style=\"opacity: 0; stroke-width: 0px; fill: rgb(251, 159, 58); fill-opacity: 1;\"/></g><g class=\"text\"/></g><g class=\"trace scatter trace7671a2\" style=\"stroke-miterlimit: 2; opacity: 1;\"><g class=\"fills\"/><g class=\"errorbars\"/><g class=\"lines\"/><g class=\"points\"><path class=\"point\" transform=\"translate(98.02,227.5)\" d=\"M0.5,0A0.5,0.5 0 1,1 0,-0.5A0.5,0.5 0 0,1 0.5,0Z\" style=\"opacity: 0; stroke-width: 0px; fill: rgb(253, 202, 38); fill-opacity: 1;\"/><path class=\"point\" transform=\"translate(101.05,227.5)\" d=\"M0.5,0A0.5,0.5 0 1,1 0,-0.5A0.5,0.5 0 0,1 0.5,0Z\" style=\"opacity: 0; stroke-width: 0px; fill: rgb(253, 202, 38); fill-opacity: 1;\"/></g><g class=\"text\"/></g><g class=\"trace scatter trace0a2736\" style=\"stroke-miterlimit: 2; opacity: 1;\"><g class=\"fills\"/><g class=\"errorbars\"/><g class=\"lines\"/><g class=\"points\"><path class=\"point\" transform=\"translate(63.08,455)\" d=\"M0.5,0A0.5,0.5 0 1,1 0,-0.5A0.5,0.5 0 0,1 0.5,0Z\" style=\"opacity: 0; stroke-width: 0px; fill: rgb(70, 3, 159); fill-opacity: 1;\"/><path class=\"point\" transform=\"translate(66.12,455)\" d=\"M0.5,0A0.5,0.5 0 1,1 0,-0.5A0.5,0.5 0 0,1 0.5,0Z\" style=\"opacity: 0; stroke-width: 0px; fill: rgb(70, 3, 159); fill-opacity: 1;\"/><path class=\"point\" transform=\"translate(263.58,130)\" d=\"M0.5,0A0.5,0.5 0 1,1 0,-0.5A0.5,0.5 0 0,1 0.5,0Z\" style=\"opacity: 0; stroke-width: 0px; fill: rgb(70, 3, 159); fill-opacity: 1;\"/><path class=\"point\" transform=\"translate(272.7,130)\" d=\"M0.5,0A0.5,0.5 0 1,1 0,-0.5A0.5,0.5 0 0,1 0.5,0Z\" style=\"opacity: 0; stroke-width: 0px; fill: rgb(70, 3, 159); fill-opacity: 1;\"/></g><g class=\"text\"/></g><g class=\"trace scatter trace18e494\" style=\"stroke-miterlimit: 2; opacity: 1;\"><g class=\"fills\"/><g class=\"errorbars\"/><g class=\"lines\"><path class=\"js-line\" d=\"M514.21,520L514.21,-9262.5\" style=\"vector-effect: non-scaling-stroke; fill: none; stroke: rgb(0, 0, 0); stroke-opacity: 1; stroke-width: 1px; opacity: 1; stroke-dasharray: 9px, 9px;\"/></g><g class=\"points\"/><g class=\"text\"/></g><g class=\"trace scatter trace05ca19\" style=\"stroke-miterlimit: 2; opacity: 1;\"><g class=\"fills\"/><g class=\"errorbars\"/><g class=\"lines\"><path class=\"js-line\" d=\"M556.74,520L556.74,-9262.5\" style=\"vector-effect: non-scaling-stroke; fill: none; stroke: rgb(0, 0, 0); stroke-opacity: 1; stroke-width: 1px; opacity: 1; stroke-dasharray: 9px, 9px;\"/></g><g class=\"points\"/><g class=\"text\"/></g></g></g><g class=\"overplot\"/><path class=\"xlines-above crisp\" d=\"M0,0\" style=\"fill: none;\"/><path class=\"ylines-above crisp\" d=\"M0,0\" style=\"fill: none;\"/><g class=\"overlines-above\"/><g class=\"xaxislayer-above\"><g class=\"xtick\"><text text-anchor=\"middle\" x=\"0\" y=\"633\" transform=\"translate(313.38,0)\" style=\"font-family: 'Open Sans', verdana, arial, sans-serif; font-size: 12px; fill: rgb(42, 63, 95); fill-opacity: 1; white-space: pre; opacity: 1;\">Mar 2020</text></g><g class=\"xtick\"><text text-anchor=\"middle\" x=\"0\" y=\"633\" style=\"font-family: 'Open Sans', verdana, arial, sans-serif; font-size: 12px; fill: rgb(42, 63, 95); fill-opacity: 1; white-space: pre; opacity: 1;\" transform=\"translate(406.03999999999996,0)\">May 2020</text></g><g class=\"xtick\"><text text-anchor=\"middle\" x=\"0\" y=\"633\" style=\"font-family: 'Open Sans', verdana, arial, sans-serif; font-size: 12px; fill: rgb(42, 63, 95); fill-opacity: 1; white-space: pre; opacity: 1;\" transform=\"translate(498.7,0)\">Jul 2020</text></g><g class=\"xtick\"><text text-anchor=\"middle\" x=\"0\" y=\"633\" style=\"font-family: 'Open Sans', verdana, arial, sans-serif; font-size: 12px; fill: rgb(42, 63, 95); fill-opacity: 1; white-space: pre; opacity: 1;\" transform=\"translate(592.87,0)\">Sep 2020</text></g><g class=\"xtick\"><text text-anchor=\"middle\" x=\"0\" y=\"633\" style=\"font-family: 'Open Sans', verdana, arial, sans-serif; font-size: 12px; fill: rgb(42, 63, 95); fill-opacity: 1; white-space: pre; opacity: 1;\" transform=\"translate(685.53,0)\">Nov 2020</text></g><g class=\"xtick\"><text text-anchor=\"middle\" x=\"0\" y=\"633\" style=\"font-family: 'Open Sans', verdana, arial, sans-serif; font-size: 12px; fill: rgb(42, 63, 95); fill-opacity: 1; white-space: pre; opacity: 1;\" transform=\"translate(778.19,0)\">Jan 2021</text></g></g><g class=\"yaxislayer-above\"><g class=\"ytick\"><text text-anchor=\"end\" x=\"225\" y=\"4.199999999999999\" transform=\"translate(0,587.5)\" style=\"font-family: 'Open Sans', verdana, arial, sans-serif; font-size: 12px; fill: rgb(42, 63, 95); fill-opacity: 1; white-space: pre; opacity: 1;\">Christmas&amp;New Year Promo</text></g><g class=\"ytick\"><text text-anchor=\"end\" x=\"225\" y=\"4.199999999999999\" style=\"font-family: 'Open Sans', verdana, arial, sans-serif; font-size: 12px; fill: rgb(42, 63, 95); fill-opacity: 1; white-space: pre; opacity: 1;\" transform=\"translate(0,555)\">St. Valentine's Day Giveaway</text></g><g class=\"ytick\"><text text-anchor=\"end\" x=\"225\" y=\"4.199999999999999\" style=\"font-family: 'Open Sans', verdana, arial, sans-serif; font-size: 12px; fill: rgb(42, 63, 95); fill-opacity: 1; white-space: pre; opacity: 1;\" transform=\"translate(0,522.5)\">St. Patric's Day Promo</text></g><g class=\"ytick\"><text text-anchor=\"end\" x=\"225\" y=\"4.199999999999999\" style=\"font-family: 'Open Sans', verdana, arial, sans-serif; font-size: 12px; fill: rgb(42, 63, 95); fill-opacity: 1; white-space: pre; opacity: 1;\" transform=\"translate(0,490)\">Easter Promo</text></g><g class=\"ytick\"><text text-anchor=\"end\" x=\"225\" y=\"4.199999999999999\" style=\"font-family: 'Open Sans', verdana, arial, sans-serif; font-size: 12px; fill: rgb(42, 63, 95); fill-opacity: 1; white-space: pre; opacity: 1;\" transform=\"translate(0,457.5)\">4th of July Promo</text></g><g class=\"ytick\"><text text-anchor=\"end\" x=\"225\" y=\"4.199999999999999\" style=\"font-family: 'Open Sans', verdana, arial, sans-serif; font-size: 12px; fill: rgb(42, 63, 95); fill-opacity: 1; white-space: pre; opacity: 1;\" transform=\"translate(0,425)\">Black Friday Ads Campaign</text></g><g class=\"ytick\"><text text-anchor=\"end\" x=\"225\" y=\"4.199999999999999\" style=\"font-family: 'Open Sans', verdana, arial, sans-serif; font-size: 12px; fill: rgb(42, 63, 95); fill-opacity: 1; white-space: pre; opacity: 1;\" transform=\"translate(0,392.5)\">Chinese New Year Promo</text></g><g class=\"ytick\"><text text-anchor=\"end\" x=\"225\" y=\"4.199999999999999\" style=\"font-family: 'Open Sans', verdana, arial, sans-serif; font-size: 12px; fill: rgb(42, 63, 95); fill-opacity: 1; white-space: pre; opacity: 1;\" transform=\"translate(0,360)\">Labor day (May 1st) Ads Campaign</text></g><g class=\"ytick\"><text text-anchor=\"end\" x=\"225\" y=\"4.199999999999999\" style=\"font-family: 'Open Sans', verdana, arial, sans-serif; font-size: 12px; fill: rgb(42, 63, 95); fill-opacity: 1; white-space: pre; opacity: 1;\" transform=\"translate(0,327.5)\">International Women's Day Promo</text></g><g class=\"ytick\"><text text-anchor=\"end\" x=\"225\" y=\"4.199999999999999\" style=\"font-family: 'Open Sans', verdana, arial, sans-serif; font-size: 12px; fill: rgb(42, 63, 95); fill-opacity: 1; white-space: pre; opacity: 1;\" transform=\"translate(0,295)\">Victory Day CIS (May 9th) Event</text></g><g class=\"ytick\"><text text-anchor=\"end\" x=\"225\" y=\"4.199999999999999\" style=\"font-family: 'Open Sans', verdana, arial, sans-serif; font-size: 12px; fill: rgb(42, 63, 95); fill-opacity: 1; white-space: pre; opacity: 1;\" transform=\"translate(0,262.5)\">CIS New Year Gift Lottery</text></g><g class=\"ytick\"><text text-anchor=\"end\" x=\"225\" y=\"4.199999999999999\" style=\"font-family: 'Open Sans', verdana, arial, sans-serif; font-size: 12px; fill: rgb(42, 63, 95); fill-opacity: 1; white-space: pre; opacity: 1;\" transform=\"translate(0,230)\">Dragon Boat Festival Giveaway</text></g><g class=\"ytick\"><text text-anchor=\"end\" x=\"225\" y=\"4.199999999999999\" style=\"font-family: 'Open Sans', verdana, arial, sans-serif; font-size: 12px; fill: rgb(42, 63, 95); fill-opacity: 1; white-space: pre; opacity: 1;\" transform=\"translate(0,197.5)\">Single's Day Gift Promo</text></g><g class=\"ytick\"><text text-anchor=\"end\" x=\"225\" y=\"4.199999999999999\" style=\"font-family: 'Open Sans', verdana, arial, sans-serif; font-size: 12px; fill: rgb(42, 63, 95); fill-opacity: 1; white-space: pre; opacity: 1;\" transform=\"translate(0,165)\">Chinese Moon Festival</text></g></g><g class=\"overaxes-above\"/></g></g><g class=\"polarlayer\"/><g class=\"ternarylayer\"/><g class=\"geolayer\"/><g class=\"funnelarealayer\"/><g class=\"pielayer\"/><g class=\"iciclelayer\"/><g class=\"treemaplayer\"/><g class=\"sunburstlayer\"/><g class=\"glimages\"/><defs id=\"topdefs-3cd342\"><g class=\"clips\"/></defs><g class=\"layer-above\"><g class=\"imagelayer\"/><g class=\"shapelayer\"/></g><g class=\"infolayer\"><g class=\"rangeselector\" transform=\"translate(80,71)\" style=\"cursor: pointer; pointer-events: all;\"><g class=\"button\" transform=\"\"><rect class=\"selector-rect\" shape-rendering=\"crispEdges\" rx=\"3\" ry=\"3\" style=\"stroke: rgb(68, 68, 68); stroke-opacity: 1; fill: rgb(238, 238, 238); fill-opacity: 1; stroke-width: 0px;\" x=\"0\" y=\"0\" width=\"30\" height=\"19\"/><text class=\"selector-text\" text-anchor=\"middle\" x=\"15\" y=\"12.5\" style=\"font-family: 'Open Sans', verdana, arial, sans-serif; font-size: 12px; fill: rgb(42, 63, 95); fill-opacity: 1; white-space: pre;\">1w</text></g><g class=\"button\" transform=\"translate(35,0)\"><rect class=\"selector-rect\" shape-rendering=\"crispEdges\" rx=\"3\" ry=\"3\" style=\"stroke: rgb(68, 68, 68); stroke-opacity: 1; fill: rgb(238, 238, 238); fill-opacity: 1; stroke-width: 0px;\" x=\"0\" y=\"0\" width=\"30\" height=\"19\"/><text class=\"selector-text\" text-anchor=\"middle\" x=\"15\" y=\"12.5\" style=\"font-family: 'Open Sans', verdana, arial, sans-serif; font-size: 12px; fill: rgb(42, 63, 95); fill-opacity: 1; white-space: pre;\">1m</text></g><g class=\"button\" transform=\"translate(70,0)\"><rect class=\"selector-rect\" shape-rendering=\"crispEdges\" rx=\"3\" ry=\"3\" style=\"stroke: rgb(68, 68, 68); stroke-opacity: 1; fill: rgb(238, 238, 238); fill-opacity: 1; stroke-width: 0px;\" x=\"0\" y=\"0\" width=\"30\" height=\"19\"/><text class=\"selector-text\" text-anchor=\"middle\" x=\"15\" y=\"12.5\" style=\"font-family: 'Open Sans', verdana, arial, sans-serif; font-size: 12px; fill: rgb(42, 63, 95); fill-opacity: 1; white-space: pre;\">6m</text></g><g class=\"button\" transform=\"translate(105,0)\"><rect class=\"selector-rect\" shape-rendering=\"crispEdges\" rx=\"3\" ry=\"3\" style=\"stroke: rgb(68, 68, 68); stroke-opacity: 1; fill: rgb(238, 238, 238); fill-opacity: 1; stroke-width: 0px;\" x=\"0\" y=\"0\" width=\"34.03125\" height=\"19\"/><text class=\"selector-text\" text-anchor=\"middle\" x=\"17.015625\" y=\"12.5\" style=\"font-family: 'Open Sans', verdana, arial, sans-serif; font-size: 12px; fill: rgb(42, 63, 95); fill-opacity: 1; white-space: pre;\">YTD</text></g><g class=\"button\" transform=\"translate(144.03125,0)\"><rect class=\"selector-rect\" shape-rendering=\"crispEdges\" rx=\"3\" ry=\"3\" style=\"stroke: rgb(68, 68, 68); stroke-opacity: 1; fill: rgb(238, 238, 238); fill-opacity: 1; stroke-width: 0px;\" x=\"0\" y=\"0\" width=\"30\" height=\"19\"/><text class=\"selector-text\" text-anchor=\"middle\" x=\"15\" y=\"12.5\" style=\"font-family: 'Open Sans', verdana, arial, sans-serif; font-size: 12px; fill: rgb(42, 63, 95); fill-opacity: 1; white-space: pre;\">1y</text></g><g class=\"button\" transform=\"translate(179.03125,0)\"><rect class=\"selector-rect\" shape-rendering=\"crispEdges\" rx=\"3\" ry=\"3\" style=\"stroke: rgb(68, 68, 68); stroke-opacity: 1; fill: rgb(212, 212, 212); fill-opacity: 1; stroke-width: 0px;\" x=\"0\" y=\"0\" width=\"30\" height=\"19\"/><text class=\"selector-text\" text-anchor=\"middle\" x=\"15\" y=\"12.5\" style=\"font-family: 'Open Sans', verdana, arial, sans-serif; font-size: 12px; fill: rgb(42, 63, 95); fill-opacity: 1; white-space: pre;\">all</text></g></g><g class=\"g-gtitle\"><text class=\"gtitle\" x=\"45\" y=\"50\" text-anchor=\"start\" dy=\"0em\" style=\"font-family: 'Open Sans', verdana, arial, sans-serif; font-size: 15px; fill: rgb(42, 63, 95); opacity: 1; font-weight: normal; white-space: pre;\">График маркетинговых кампаний</text></g><g class=\"g-xtitle\"><text class=\"xtitle\" x=\"523\" y=\"660.3\" text-anchor=\"middle\" style=\"font-family: 'Open Sans', verdana, arial, sans-serif; font-size: 14px; fill: rgb(42, 63, 95); opacity: 1; font-weight: normal; white-space: pre;\">Месяц</text></g><g class=\"g-ytitle\"/></g></svg>"
      ]
     },
     "metadata": {},
     "output_type": "display_data"
    }
   ],
   "source": [
    "m_events = marketing_events.loc[:,['name', 'start_dt', 'finish_dt']]\n",
    "m_events.columns = ['Task', 'Start', 'Finish']\n",
    "\n",
    "fig = ff.create_gantt(m_events, colors = px.colors.sequential.Plasma)\n",
    "\n",
    "fig.add_trace(go.Scatter(x=['2020-12-07', '2020-12-07'], \n",
    "                         y=[-1,300], mode=\"lines\", line_width=1, line_dash=\"dash\", line_color=\"black\"))\n",
    "fig.add_trace(go.Scatter(x=['2021-01-04', '2021-01-04'], \n",
    "                         y=[-1,300], mode=\"lines\", line_width=1, line_dash=\"dash\", line_color=\"black\"))\n",
    "\n",
    "fig.update_layout(title_text= 'График маркетинговых кампаний', title_font_size=15,\n",
    "                      xaxis_title='Месяц')\n",
    "fig.show(width=900, height=700, renderer='svg')"
   ]
  },
  {
   "cell_type": "markdown",
   "metadata": {},
   "source": [
    "Как видно из графика, кампании \"Christmas & New Year Promo\" и \"CIS New Year Gift Lottery\" пересекаются по датам проведения с временными рамками эксперимента."
   ]
  },
  {
   "cell_type": "markdown",
   "metadata": {},
   "source": [
    "Объявим функцию, определяющую маркетинговое событие для каждого пользовательского события по пересечению времени и региона:"
   ]
  },
  {
   "cell_type": "code",
   "execution_count": 16,
   "metadata": {},
   "outputs": [],
   "source": [
    "def mark_event(event_dt, region):\n",
    "    for row in range(len(marketing_events)):\n",
    "        start_date = marketing_events['start_dt'][row]\n",
    "        end_date = marketing_events['finish_dt'][row]\n",
    "        regions = marketing_events['regions'][row].split(', ')\n",
    "        name = marketing_events['name'][row]\n",
    "        if (start_date <= event_dt <= end_date) and (region in regions):\n",
    "            return name\n",
    "        return 'no event'"
   ]
  },
  {
   "cell_type": "code",
   "execution_count": 17,
   "metadata": {},
   "outputs": [
    {
     "data": {
      "text/html": [
       "<div>\n",
       "<style scoped>\n",
       "    .dataframe tbody tr th:only-of-type {\n",
       "        vertical-align: middle;\n",
       "    }\n",
       "\n",
       "    .dataframe tbody tr th {\n",
       "        vertical-align: top;\n",
       "    }\n",
       "\n",
       "    .dataframe thead th {\n",
       "        text-align: right;\n",
       "    }\n",
       "</style>\n",
       "<table border=\"1\" class=\"dataframe\">\n",
       "  <thead>\n",
       "    <tr style=\"text-align: right;\">\n",
       "      <th></th>\n",
       "      <th>user_id</th>\n",
       "      <th>group</th>\n",
       "      <th>ab_test</th>\n",
       "      <th>event_dt</th>\n",
       "      <th>event_name</th>\n",
       "      <th>details</th>\n",
       "      <th>first_date</th>\n",
       "      <th>region</th>\n",
       "      <th>device</th>\n",
       "      <th>m_event_name</th>\n",
       "    </tr>\n",
       "  </thead>\n",
       "  <tbody>\n",
       "    <tr>\n",
       "      <td>0</td>\n",
       "      <td>D1ABA3E2887B6A73</td>\n",
       "      <td>A</td>\n",
       "      <td>recommender_system_test</td>\n",
       "      <td>2020-12-07 14:43:27</td>\n",
       "      <td>purchase</td>\n",
       "      <td>99.99</td>\n",
       "      <td>2020-12-07</td>\n",
       "      <td>EU</td>\n",
       "      <td>PC</td>\n",
       "      <td>no event</td>\n",
       "    </tr>\n",
       "    <tr>\n",
       "      <td>1</td>\n",
       "      <td>D1ABA3E2887B6A73</td>\n",
       "      <td>A</td>\n",
       "      <td>recommender_system_test</td>\n",
       "      <td>2020-12-25 00:04:56</td>\n",
       "      <td>purchase</td>\n",
       "      <td>4.99</td>\n",
       "      <td>2020-12-07</td>\n",
       "      <td>EU</td>\n",
       "      <td>PC</td>\n",
       "      <td>Christmas&amp;New Year Promo</td>\n",
       "    </tr>\n",
       "    <tr>\n",
       "      <td>2</td>\n",
       "      <td>D1ABA3E2887B6A73</td>\n",
       "      <td>A</td>\n",
       "      <td>recommender_system_test</td>\n",
       "      <td>2020-12-07 14:43:29</td>\n",
       "      <td>product_cart</td>\n",
       "      <td>NaN</td>\n",
       "      <td>2020-12-07</td>\n",
       "      <td>EU</td>\n",
       "      <td>PC</td>\n",
       "      <td>no event</td>\n",
       "    </tr>\n",
       "    <tr>\n",
       "      <td>3</td>\n",
       "      <td>D1ABA3E2887B6A73</td>\n",
       "      <td>A</td>\n",
       "      <td>recommender_system_test</td>\n",
       "      <td>2020-12-25 00:04:57</td>\n",
       "      <td>product_cart</td>\n",
       "      <td>NaN</td>\n",
       "      <td>2020-12-07</td>\n",
       "      <td>EU</td>\n",
       "      <td>PC</td>\n",
       "      <td>Christmas&amp;New Year Promo</td>\n",
       "    </tr>\n",
       "    <tr>\n",
       "      <td>4</td>\n",
       "      <td>D1ABA3E2887B6A73</td>\n",
       "      <td>A</td>\n",
       "      <td>recommender_system_test</td>\n",
       "      <td>2020-12-07 14:43:27</td>\n",
       "      <td>product_page</td>\n",
       "      <td>NaN</td>\n",
       "      <td>2020-12-07</td>\n",
       "      <td>EU</td>\n",
       "      <td>PC</td>\n",
       "      <td>no event</td>\n",
       "    </tr>\n",
       "  </tbody>\n",
       "</table>\n",
       "</div>"
      ],
      "text/plain": [
       "            user_id group                  ab_test            event_dt  \\\n",
       "0  D1ABA3E2887B6A73     A  recommender_system_test 2020-12-07 14:43:27   \n",
       "1  D1ABA3E2887B6A73     A  recommender_system_test 2020-12-25 00:04:56   \n",
       "2  D1ABA3E2887B6A73     A  recommender_system_test 2020-12-07 14:43:29   \n",
       "3  D1ABA3E2887B6A73     A  recommender_system_test 2020-12-25 00:04:57   \n",
       "4  D1ABA3E2887B6A73     A  recommender_system_test 2020-12-07 14:43:27   \n",
       "\n",
       "     event_name  details first_date region device              m_event_name  \n",
       "0      purchase    99.99 2020-12-07     EU     PC                  no event  \n",
       "1      purchase     4.99 2020-12-07     EU     PC  Christmas&New Year Promo  \n",
       "2  product_cart      NaN 2020-12-07     EU     PC                  no event  \n",
       "3  product_cart      NaN 2020-12-07     EU     PC  Christmas&New Year Promo  \n",
       "4  product_page      NaN 2020-12-07     EU     PC                  no event  "
      ]
     },
     "metadata": {},
     "output_type": "display_data"
    }
   ],
   "source": [
    "test_data['m_event_name'] = test_data.apply(lambda x: mark_event(x['event_dt'], x['region']), axis=1)\n",
    "display(test_data.head())"
   ]
  },
  {
   "cell_type": "code",
   "execution_count": 18,
   "metadata": {},
   "outputs": [
    {
     "data": {
      "text/plain": [
       "no event                    18953\n",
       "Christmas&New Year Promo     2889\n",
       "Name: m_event_name, dtype: int64"
      ]
     },
     "execution_count": 18,
     "metadata": {},
     "output_type": "execute_result"
    }
   ],
   "source": [
    "test_data['m_event_name'].value_counts()"
   ]
  },
  {
   "cell_type": "markdown",
   "metadata": {},
   "source": [
    "Большинство действий пользователей не совпало с проведением каких-либо мероприятий, остальные 2889 записей выпали на Christmas&New Year Promo, удалим их из таблицы:"
   ]
  },
  {
   "cell_type": "code",
   "execution_count": 19,
   "metadata": {},
   "outputs": [
    {
     "name": "stdout",
     "output_type": "stream",
     "text": [
      "<class 'pandas.core.frame.DataFrame'>\n",
      "Int64Index: 18953 entries, 0 to 27723\n",
      "Data columns (total 10 columns):\n",
      "user_id         18953 non-null object\n",
      "group           18953 non-null object\n",
      "ab_test         18953 non-null object\n",
      "event_dt        18953 non-null datetime64[ns]\n",
      "event_name      18953 non-null object\n",
      "details         2527 non-null float64\n",
      "first_date      18953 non-null datetime64[ns]\n",
      "region          18953 non-null object\n",
      "device          18953 non-null object\n",
      "m_event_name    18953 non-null object\n",
      "dtypes: datetime64[ns](2), float64(1), object(7)\n",
      "memory usage: 1.6+ MB\n",
      "None\n"
     ]
    }
   ],
   "source": [
    "test_data = test_data.loc[test_data['m_event_name'] != 'Christmas&New Year Promo']\n",
    "print(test_data.info())"
   ]
  },
  {
   "cell_type": "markdown",
   "metadata": {},
   "source": [
    "После фильтрации осталось 18953 записей."
   ]
  },
  {
   "cell_type": "markdown",
   "metadata": {},
   "source": [
    "### Другие проблемы временных границ и полноты данных теста"
   ]
  },
  {
   "cell_type": "markdown",
   "metadata": {},
   "source": [
    "Из технического задания также известно, что ожидаемый эффект эксперимента - улучшение каждой из метрик конверсии не менее, чем на 10% за 14 дней с момента регистрации пользователей.\n",
    "\n",
    "Следовательно, необходимо удалить из данных события, произошедшие после 14 дней с момента регистрации:"
   ]
  },
  {
   "cell_type": "code",
   "execution_count": 20,
   "metadata": {},
   "outputs": [
    {
     "name": "stdout",
     "output_type": "stream",
     "text": [
      "Событий после 14 дней с регистрации:  234\n"
     ]
    }
   ],
   "source": [
    "test_data['days_from_reg'] = test_data['event_dt'] - test_data['first_date']\n",
    "print('Событий после 14 дней с регистрации: ', len(test_data.loc[test_data['days_from_reg'] > np.timedelta64(14,'D')]))\n",
    "test_data = test_data.loc[test_data['days_from_reg'] <= np.timedelta64(14,'D')]"
   ]
  },
  {
   "cell_type": "markdown",
   "metadata": {},
   "source": [
    "Удалено 234 записи с действиями пользователей после 14 дней с регистрации."
   ]
  },
  {
   "cell_type": "markdown",
   "metadata": {},
   "source": [
    "**Равномерность распределения пользователей и событий по тестовым группам**\n",
    "\n",
    "Проверим, как число пользователей и количество событий на пользователя распределены в выборках:"
   ]
  },
  {
   "cell_type": "code",
   "execution_count": 21,
   "metadata": {
    "scrolled": true
   },
   "outputs": [
    {
     "data": {
      "text/html": [
       "<div>\n",
       "<style scoped>\n",
       "    .dataframe tbody tr th:only-of-type {\n",
       "        vertical-align: middle;\n",
       "    }\n",
       "\n",
       "    .dataframe tbody tr th {\n",
       "        vertical-align: top;\n",
       "    }\n",
       "\n",
       "    .dataframe thead th {\n",
       "        text-align: right;\n",
       "    }\n",
       "</style>\n",
       "<table border=\"1\" class=\"dataframe\">\n",
       "  <thead>\n",
       "    <tr style=\"text-align: right;\">\n",
       "      <th></th>\n",
       "      <th>count</th>\n",
       "      <th>mean</th>\n",
       "      <th>std</th>\n",
       "      <th>min</th>\n",
       "      <th>25%</th>\n",
       "      <th>50%</th>\n",
       "      <th>75%</th>\n",
       "      <th>max</th>\n",
       "    </tr>\n",
       "    <tr>\n",
       "      <th>group</th>\n",
       "      <th></th>\n",
       "      <th></th>\n",
       "      <th></th>\n",
       "      <th></th>\n",
       "      <th></th>\n",
       "      <th></th>\n",
       "      <th></th>\n",
       "      <th></th>\n",
       "    </tr>\n",
       "  </thead>\n",
       "  <tbody>\n",
       "    <tr>\n",
       "      <td>A</td>\n",
       "      <td>2422.0</td>\n",
       "      <td>6.03</td>\n",
       "      <td>3.41</td>\n",
       "      <td>1.0</td>\n",
       "      <td>4.0</td>\n",
       "      <td>6.0</td>\n",
       "      <td>8.0</td>\n",
       "      <td>24.0</td>\n",
       "    </tr>\n",
       "    <tr>\n",
       "      <td>B</td>\n",
       "      <td>822.0</td>\n",
       "      <td>5.02</td>\n",
       "      <td>3.07</td>\n",
       "      <td>1.0</td>\n",
       "      <td>3.0</td>\n",
       "      <td>4.0</td>\n",
       "      <td>6.0</td>\n",
       "      <td>24.0</td>\n",
       "    </tr>\n",
       "  </tbody>\n",
       "</table>\n",
       "</div>"
      ],
      "text/plain": [
       "        count  mean   std  min  25%  50%  75%   max\n",
       "group                                              \n",
       "A      2422.0  6.03  3.41  1.0  4.0  6.0  8.0  24.0\n",
       "B       822.0  5.02  3.07  1.0  3.0  4.0  6.0  24.0"
      ]
     },
     "metadata": {},
     "output_type": "display_data"
    }
   ],
   "source": [
    "user_stat = test_data.pivot_table(\n",
    "    index = 'user_id',\n",
    "    columns = 'group',\n",
    "    values='event_name', \n",
    "    aggfunc=({'event_name': 'count'})).describe().T.round(2)\n",
    "\n",
    "display(user_stat)"
   ]
  },
  {
   "cell_type": "markdown",
   "metadata": {},
   "source": [
    "За время эксперимента была собрана информация по 2422 и 822 уникальным пользователям в контрольной и экспериментальной группах соответственно. Группы не сбалансированы по количеству, поскольку отличие количества пользователей превышает 1% (рекомендуемое максимальное расхождение для A/B тестов).\n",
    "\n",
    "В среднем на одного пользователя из группы A приходится 6.03 (от 4 до 8 в половине случаев), показатели для группы B ниже: 5.02 в среднем, от 3 до 6 в половине случаев."
   ]
  },
  {
   "cell_type": "code",
   "execution_count": 22,
   "metadata": {},
   "outputs": [
    {
     "name": "stdout",
     "output_type": "stream",
     "text": [
      "Доля группы A:  0.75\n",
      "Отклонение доли A от теоретического значения (50%):  0.25\n",
      "p-значение:  0.0\n",
      "Отвергаем нулевую гипотезу: соотношение значимо отличается от 50%\n"
     ]
    }
   ],
   "source": [
    "alpha = .05\n",
    "\n",
    "total = user_stat['count'].sum()\n",
    "A_size_theoretical = total/2\n",
    "A_size_empirical = user_stat['count'][0]\n",
    "    \n",
    "p1 = A_size_empirical/total\n",
    "p2 = A_size_theoretical/total\n",
    "p_combined = (A_size_theoretical + A_size_empirical) / (total*2)\n",
    "difference = p1 - p2\n",
    "    \n",
    "z_value = difference / math.sqrt(p_combined * (1 - p_combined) * (2/total))\n",
    "\n",
    "distr = st.norm(0, 1)  \n",
    "p_value = (1 - distr.cdf(abs(z_value))) * 2\n",
    "\n",
    "print('Доля группы A: ', p1.round(2))    \n",
    "print('Отклонение доли A от теоретического значения (50%): ', difference.round(2))\n",
    "print('p-значение: ', p_value)\n",
    "\n",
    "if p_value < alpha:\n",
    "    print('Отвергаем нулевую гипотезу: соотношение значимо отличается от 50%')\n",
    "else:\n",
    "    print('Не получилось отвергнуть нулевую гипотезу')"
   ]
  },
  {
   "cell_type": "markdown",
   "metadata": {},
   "source": [
    "Сравнение соотношения групп по помощи z-критерия показывает, что доля группы A (и B соответственно) статистически значимо отличается от 50%."
   ]
  },
  {
   "cell_type": "markdown",
   "metadata": {},
   "source": [
    "**Полнота экспериментальных данных**\n",
    "\n",
    "Также в ТЗ указано, что аудитория теста составляет 15% новых пользователей из региона EU, при этом ожидаемое количество участников теста - 6000. Проверим соответствие отфильтрованной выборки этим критериям:"
   ]
  },
  {
   "cell_type": "code",
   "execution_count": 23,
   "metadata": {
    "scrolled": true
   },
   "outputs": [
    {
     "name": "stdout",
     "output_type": "stream",
     "text": [
      "Количество участников теста: 3244\n",
      "Доля от новых пользователей из региона EU: 6.59%\n"
     ]
    }
   ],
   "source": [
    "print('Количество участников теста:', test_data['user_id'].nunique())\n",
    "\n",
    "EU_share = (test_data[test_data['region']=='EU']['user_id'].nunique()\n",
    "           )/(new_users[new_users['region']=='EU']['user_id'].nunique())\n",
    "\n",
    "print('Доля от новых пользователей из региона EU: {:.2%}'.format(EU_share))"
   ]
  },
  {
   "cell_type": "code",
   "execution_count": 24,
   "metadata": {},
   "outputs": [
    {
     "name": "stdout",
     "output_type": "stream",
     "text": [
      "Доля участников из EU: 6.59%\n",
      "Отклонение доли участников из EU от 15% в п.п.: -8.41%\n",
      "p-значение:  0.0\n",
      "Отвергаем нулевую гипотезу: доля значимо отличается от 15%\n"
     ]
    }
   ],
   "source": [
    "EU_new_users = new_users[new_users['region']=='EU']['user_id'].nunique()\n",
    "EU_size_theoretical = EU_new_users*0.15\n",
    "EU_size_empirical = test_data[test_data['region']=='EU']['user_id'].nunique()\n",
    "    \n",
    "p1 = EU_size_empirical/EU_new_users\n",
    "p2 = EU_size_theoretical/EU_new_users\n",
    "p_combined = (EU_size_theoretical + EU_size_empirical) / (2*EU_new_users)\n",
    "difference = p1 - p2\n",
    "    \n",
    "z_value = difference / math.sqrt(p_combined * (1 - p_combined) * (2/EU_new_users))\n",
    "\n",
    "distr = st.norm(0, 1)  \n",
    "p_value = (1 - distr.cdf(abs(z_value))) * 2\n",
    "\n",
    "print('Доля участников из EU: {:.2%}'.format(p1))    \n",
    "print('Отклонение доли участников из EU от 15% в п.п.: {:.2%}'.format(difference))\n",
    "print('p-значение: ', p_value)\n",
    "\n",
    "if p_value < alpha:\n",
    "    print('Отвергаем нулевую гипотезу: доля значимо отличается от 15%')\n",
    "else:\n",
    "    print('Не получилось отвергнуть нулевую гипотезу')"
   ]
  },
  {
   "cell_type": "markdown",
   "metadata": {},
   "source": [
    "Также видим статистически значимое отличие от исходных условий эксперимента."
   ]
  },
  {
   "cell_type": "markdown",
   "metadata": {},
   "source": [
    "В результате фильтрации оба требования не выполнены."
   ]
  },
  {
   "cell_type": "markdown",
   "metadata": {},
   "source": [
    "**Временные рамки эксперимента**\n",
    "\n",
    "Изучим, как число событий распределено по дням:"
   ]
  },
  {
   "cell_type": "code",
   "execution_count": 25,
   "metadata": {},
   "outputs": [
    {
     "data": {
      "image/svg+xml": [
       "<svg class=\"main-svg\" xmlns=\"http://www.w3.org/2000/svg\" xmlns:xlink=\"http://www.w3.org/1999/xlink\" width=\"900\" height=\"500\" style=\"\" viewBox=\"0 0 900 500\"><rect x=\"0\" y=\"0\" width=\"900\" height=\"500\" style=\"fill: rgb(255, 255, 255); fill-opacity: 1;\"/><defs id=\"defs-4dd01a\"><g class=\"clips\"><clipPath id=\"clip4dd01axyplot\" class=\"plotclip\"><rect width=\"740\" height=\"316\"/></clipPath><clipPath class=\"axesclip\" id=\"clip4dd01ax\"><rect x=\"80\" y=\"0\" width=\"740\" height=\"500\"/></clipPath><clipPath class=\"axesclip\" id=\"clip4dd01ay\"><rect x=\"0\" y=\"100\" width=\"900\" height=\"316\"/></clipPath><clipPath class=\"axesclip\" id=\"clip4dd01axy\"><rect x=\"80\" y=\"100\" width=\"740\" height=\"316\"/></clipPath></g><g class=\"gradients\"/><g class=\"patterns\"/></defs><g class=\"bglayer\"><rect class=\"bg\" x=\"80\" y=\"100\" width=\"740\" height=\"316\" style=\"fill: rgb(229, 236, 246); fill-opacity: 1; stroke-width: 0;\"/></g><g class=\"layer-below\"><g class=\"imagelayer\"/><g class=\"shapelayer\"/></g><g class=\"cartesianlayer\"><g class=\"subplot xy\"><g class=\"layer-subplot\"><g class=\"shapelayer\"/><g class=\"imagelayer\"/></g><g class=\"gridlayer\"><g class=\"x\"/><g class=\"y\"><path class=\"ygrid crisp\" transform=\"translate(0,346.12)\" d=\"M80,0h740\" style=\"stroke: rgb(255, 255, 255); stroke-opacity: 1; stroke-width: 1px;\"/><path class=\"ygrid crisp\" transform=\"translate(0,276.24)\" d=\"M80,0h740\" style=\"stroke: rgb(255, 255, 255); stroke-opacity: 1; stroke-width: 1px;\"/><path class=\"ygrid crisp\" transform=\"translate(0,206.36)\" d=\"M80,0h740\" style=\"stroke: rgb(255, 255, 255); stroke-opacity: 1; stroke-width: 1px;\"/><path class=\"ygrid crisp\" transform=\"translate(0,136.48)\" d=\"M80,0h740\" style=\"stroke: rgb(255, 255, 255); stroke-opacity: 1; stroke-width: 1px;\"/></g></g><g class=\"zerolinelayer\"><path class=\"yzl zl crisp\" transform=\"translate(0,416)\" d=\"M80,0h740\" style=\"stroke: rgb(255, 255, 255); stroke-opacity: 1; stroke-width: 2px;\"/></g><path class=\"xlines-below\"/><path class=\"ylines-below\"/><g class=\"overlines-below\"/><g class=\"xaxislayer-below\"/><g class=\"yaxislayer-below\"/><g class=\"overaxes-below\"/><g class=\"plot\" transform=\"translate(80,100)\" clip-path=\"url(#clip4dd01axyplot)\"><g class=\"barlayer mlayer\"><g class=\"trace bars\" style=\"opacity: 1;\"><g class=\"points\"><g class=\"point\"><path d=\"M3.22,316V230.33H28.96V316Z\" style=\"vector-effect: non-scaling-stroke; opacity: 1; stroke-width: 0.5px; fill: rgb(189, 55, 134); fill-opacity: 1; stroke: rgb(229, 236, 246); stroke-opacity: 1;\"/></g><g class=\"point\"><path d=\"M35.39,316V241.65H61.13V316Z\" style=\"vector-effect: non-scaling-stroke; opacity: 1; stroke-width: 0.5px; fill: rgb(189, 55, 134); fill-opacity: 1; stroke: rgb(229, 236, 246); stroke-opacity: 1;\"/></g><g class=\"point\"><path d=\"M67.57,316V224.18H93.3V316Z\" style=\"vector-effect: non-scaling-stroke; opacity: 1; stroke-width: 0.5px; fill: rgb(189, 55, 134); fill-opacity: 1; stroke: rgb(229, 236, 246); stroke-opacity: 1;\"/></g><g class=\"point\"><path d=\"M99.74,316V239.83H125.48V316Z\" style=\"vector-effect: non-scaling-stroke; opacity: 1; stroke-width: 0.5px; fill: rgb(189, 55, 134); fill-opacity: 1; stroke: rgb(229, 236, 246); stroke-opacity: 1;\"/></g><g class=\"point\"><path d=\"M131.91,316V250.17H157.65V316Z\" style=\"vector-effect: non-scaling-stroke; opacity: 1; stroke-width: 0.5px; fill: rgb(189, 55, 134); fill-opacity: 1; stroke: rgb(229, 236, 246); stroke-opacity: 1;\"/></g><g class=\"point\"><path d=\"M164.09,316V245.98H189.83V316Z\" style=\"vector-effect: non-scaling-stroke; opacity: 1; stroke-width: 0.5px; fill: rgb(189, 55, 134); fill-opacity: 1; stroke: rgb(229, 236, 246); stroke-opacity: 1;\"/></g><g class=\"point\"><path d=\"M196.26,316V256.32H222V316Z\" style=\"vector-effect: non-scaling-stroke; opacity: 1; stroke-width: 0.5px; fill: rgb(189, 55, 134); fill-opacity: 1; stroke: rgb(229, 236, 246); stroke-opacity: 1;\"/></g><g class=\"point\"><path d=\"M228.43,316V148.43H254.17V316Z\" style=\"vector-effect: non-scaling-stroke; opacity: 1; stroke-width: 0.5px; fill: rgb(189, 55, 134); fill-opacity: 1; stroke: rgb(229, 236, 246); stroke-opacity: 1;\"/></g><g class=\"point\"><path d=\"M260.61,316V153.04H286.35V316Z\" style=\"vector-effect: non-scaling-stroke; opacity: 1; stroke-width: 0.5px; fill: rgb(189, 55, 134); fill-opacity: 1; stroke: rgb(229, 236, 246); stroke-opacity: 1;\"/></g><g class=\"point\"><path d=\"M292.78,316V138.51H318.52V316Z\" style=\"vector-effect: non-scaling-stroke; opacity: 1; stroke-width: 0.5px; fill: rgb(189, 55, 134); fill-opacity: 1; stroke: rgb(229, 236, 246); stroke-opacity: 1;\"/></g><g class=\"point\"><path d=\"M324.96,316V128.31H350.7V316Z\" style=\"vector-effect: non-scaling-stroke; opacity: 1; stroke-width: 0.5px; fill: rgb(189, 55, 134); fill-opacity: 1; stroke: rgb(229, 236, 246); stroke-opacity: 1;\"/></g><g class=\"point\"><path d=\"M357.13,316V121.74H382.87V316Z\" style=\"vector-effect: non-scaling-stroke; opacity: 1; stroke-width: 0.5px; fill: rgb(189, 55, 134); fill-opacity: 1; stroke: rgb(229, 236, 246); stroke-opacity: 1;\"/></g><g class=\"point\"><path d=\"M389.3,316V93.92H415.04V316Z\" style=\"vector-effect: non-scaling-stroke; opacity: 1; stroke-width: 0.5px; fill: rgb(189, 55, 134); fill-opacity: 1; stroke: rgb(229, 236, 246); stroke-opacity: 1;\"/></g><g class=\"point\"><path d=\"M421.48,316V81.77H447.22V316Z\" style=\"vector-effect: non-scaling-stroke; opacity: 1; stroke-width: 0.5px; fill: rgb(189, 55, 134); fill-opacity: 1; stroke: rgb(229, 236, 246); stroke-opacity: 1;\"/></g><g class=\"point\"><path d=\"M453.65,316V15.8H479.39V316Z\" style=\"vector-effect: non-scaling-stroke; opacity: 1; stroke-width: 0.5px; fill: rgb(189, 55, 134); fill-opacity: 1; stroke: rgb(229, 236, 246); stroke-opacity: 1;\"/></g><g class=\"point\"><path d=\"M485.83,316V132.78H511.57V316Z\" style=\"vector-effect: non-scaling-stroke; opacity: 1; stroke-width: 0.5px; fill: rgb(189, 55, 134); fill-opacity: 1; stroke: rgb(229, 236, 246); stroke-opacity: 1;\"/></g><g class=\"point\"><path d=\"M518,316V176.38H543.74V316Z\" style=\"vector-effect: non-scaling-stroke; opacity: 1; stroke-width: 0.5px; fill: rgb(189, 55, 134); fill-opacity: 1; stroke: rgb(229, 236, 246); stroke-opacity: 1;\"/></g><g class=\"point\"><path d=\"M550.17,316V198.04H575.91V316Z\" style=\"vector-effect: non-scaling-stroke; opacity: 1; stroke-width: 0.5px; fill: rgb(189, 55, 134); fill-opacity: 1; stroke: rgb(229, 236, 246); stroke-opacity: 1;\"/></g><g class=\"point\"><path d=\"M582.35,316V314.74H608.09V316Z\" style=\"vector-effect: non-scaling-stroke; opacity: 1; stroke-width: 0.5px; fill: rgb(189, 55, 134); fill-opacity: 1; stroke: rgb(229, 236, 246); stroke-opacity: 1;\"/></g><g class=\"point\"><path d=\"M614.52,316V314.46H640.26V316Z\" style=\"vector-effect: non-scaling-stroke; opacity: 1; stroke-width: 0.5px; fill: rgb(189, 55, 134); fill-opacity: 1; stroke: rgb(229, 236, 246); stroke-opacity: 1;\"/></g><g class=\"point\"><path d=\"M646.7,316V315.44H672.43V316Z\" style=\"vector-effect: non-scaling-stroke; opacity: 1; stroke-width: 0.5px; fill: rgb(189, 55, 134); fill-opacity: 1; stroke: rgb(229, 236, 246); stroke-opacity: 1;\"/></g><g class=\"point\"><path d=\"M678.87,316V314.74H704.61V316Z\" style=\"vector-effect: non-scaling-stroke; opacity: 1; stroke-width: 0.5px; fill: rgb(189, 55, 134); fill-opacity: 1; stroke: rgb(229, 236, 246); stroke-opacity: 1;\"/></g><g class=\"point\"><path d=\"M711.04,316V315.3H736.78V316Z\" style=\"vector-effect: non-scaling-stroke; opacity: 1; stroke-width: 0.5px; fill: rgb(189, 55, 134); fill-opacity: 1; stroke: rgb(229, 236, 246); stroke-opacity: 1;\"/></g></g></g></g></g><g class=\"overplot\"/><path class=\"xlines-above crisp\" d=\"M0,0\" style=\"fill: none;\"/><path class=\"ylines-above crisp\" d=\"M0,0\" style=\"fill: none;\"/><g class=\"overlines-above\"/><g class=\"xaxislayer-above\"><g class=\"xtick\"><text text-anchor=\"end\" x=\"-2.0999999999999996\" y=\"425.4\" transform=\"translate(96.09,0) rotate(-90,-2.0999999999999996,419.4)translate(0,-7.800000000000001)\" style=\"font-family: 'Open Sans', verdana, arial, sans-serif; font-size: 12px; fill: rgb(42, 63, 95); fill-opacity: 1; white-space: pre; opacity: 1;\"><tspan class=\"line\" dy=\"0em\" x=\"-2.0999999999999996\" y=\"425.4\">07-Dec</tspan><tspan class=\"line\" dy=\"1.3em\" x=\"-2.0999999999999996\" y=\"425.4\">Mon</tspan></text></g><g class=\"xtick\"><text text-anchor=\"end\" x=\"-2.0999999999999996\" y=\"425.4\" style=\"font-family: 'Open Sans', verdana, arial, sans-serif; font-size: 12px; fill: rgb(42, 63, 95); fill-opacity: 1; white-space: pre; opacity: 1;\" transform=\"translate(128.26,0) rotate(-90,-2.0999999999999996,419.4)translate(0,-7.800000000000001)\"><tspan class=\"line\" dy=\"0em\" x=\"-2.0999999999999996\" y=\"425.4\">08-Dec</tspan><tspan class=\"line\" dy=\"1.3em\" x=\"-2.0999999999999996\" y=\"425.4\">Tue</tspan></text></g><g class=\"xtick\"><text text-anchor=\"end\" x=\"-2.0999999999999996\" y=\"425.4\" style=\"font-family: 'Open Sans', verdana, arial, sans-serif; font-size: 12px; fill: rgb(42, 63, 95); fill-opacity: 1; white-space: pre; opacity: 1;\" transform=\"translate(160.43,0) rotate(-90,-2.0999999999999996,419.4)translate(0,-7.800000000000001)\"><tspan class=\"line\" dy=\"0em\" x=\"-2.0999999999999996\" y=\"425.4\">09-Dec</tspan><tspan class=\"line\" dy=\"1.3em\" x=\"-2.0999999999999996\" y=\"425.4\">Wed</tspan></text></g><g class=\"xtick\"><text text-anchor=\"end\" x=\"-2.0999999999999996\" y=\"425.4\" style=\"font-family: 'Open Sans', verdana, arial, sans-serif; font-size: 12px; fill: rgb(42, 63, 95); fill-opacity: 1; white-space: pre; opacity: 1;\" transform=\"translate(192.61,0) rotate(-90,-2.0999999999999996,419.4)translate(0,-7.800000000000001)\"><tspan class=\"line\" dy=\"0em\" x=\"-2.0999999999999996\" y=\"425.4\">10-Dec</tspan><tspan class=\"line\" dy=\"1.3em\" x=\"-2.0999999999999996\" y=\"425.4\">Thu</tspan></text></g><g class=\"xtick\"><text text-anchor=\"end\" x=\"-2.0999999999999996\" y=\"425.4\" style=\"font-family: 'Open Sans', verdana, arial, sans-serif; font-size: 12px; fill: rgb(42, 63, 95); fill-opacity: 1; white-space: pre; opacity: 1;\" transform=\"translate(224.78,0) rotate(-90,-2.0999999999999996,419.4)translate(0,-7.800000000000001)\"><tspan class=\"line\" dy=\"0em\" x=\"-2.0999999999999996\" y=\"425.4\">11-Dec</tspan><tspan class=\"line\" dy=\"1.3em\" x=\"-2.0999999999999996\" y=\"425.4\">Fri</tspan></text></g><g class=\"xtick\"><text text-anchor=\"end\" x=\"-2.0999999999999996\" y=\"425.4\" style=\"font-family: 'Open Sans', verdana, arial, sans-serif; font-size: 12px; fill: rgb(42, 63, 95); fill-opacity: 1; white-space: pre; opacity: 1;\" transform=\"translate(256.96000000000004,0) rotate(-90,-2.0999999999999996,419.4)translate(0,-7.800000000000001)\"><tspan class=\"line\" dy=\"0em\" x=\"-2.0999999999999996\" y=\"425.4\">12-Dec</tspan><tspan class=\"line\" dy=\"1.3em\" x=\"-2.0999999999999996\" y=\"425.4\">Sat</tspan></text></g><g class=\"xtick\"><text text-anchor=\"end\" x=\"-2.0999999999999996\" y=\"425.4\" style=\"font-family: 'Open Sans', verdana, arial, sans-serif; font-size: 12px; fill: rgb(42, 63, 95); fill-opacity: 1; white-space: pre; opacity: 1;\" transform=\"translate(289.13,0) rotate(-90,-2.0999999999999996,419.4)translate(0,-7.800000000000001)\"><tspan class=\"line\" dy=\"0em\" x=\"-2.0999999999999996\" y=\"425.4\">13-Dec</tspan><tspan class=\"line\" dy=\"1.3em\" x=\"-2.0999999999999996\" y=\"425.4\">Sun</tspan></text></g><g class=\"xtick\"><text text-anchor=\"end\" x=\"-2.0999999999999996\" y=\"425.4\" style=\"font-family: 'Open Sans', verdana, arial, sans-serif; font-size: 12px; fill: rgb(42, 63, 95); fill-opacity: 1; white-space: pre; opacity: 1;\" transform=\"translate(321.3,0) rotate(-90,-2.0999999999999996,419.4)translate(0,-7.800000000000001)\"><tspan class=\"line\" dy=\"0em\" x=\"-2.0999999999999996\" y=\"425.4\">14-Dec</tspan><tspan class=\"line\" dy=\"1.3em\" x=\"-2.0999999999999996\" y=\"425.4\">Mon</tspan></text></g><g class=\"xtick\"><text text-anchor=\"end\" x=\"-2.0999999999999996\" y=\"425.4\" style=\"font-family: 'Open Sans', verdana, arial, sans-serif; font-size: 12px; fill: rgb(42, 63, 95); fill-opacity: 1; white-space: pre; opacity: 1;\" transform=\"translate(353.48,0) rotate(-90,-2.0999999999999996,419.4)translate(0,-7.800000000000001)\"><tspan class=\"line\" dy=\"0em\" x=\"-2.0999999999999996\" y=\"425.4\">15-Dec</tspan><tspan class=\"line\" dy=\"1.3em\" x=\"-2.0999999999999996\" y=\"425.4\">Tue</tspan></text></g><g class=\"xtick\"><text text-anchor=\"end\" x=\"-2.0999999999999996\" y=\"425.4\" style=\"font-family: 'Open Sans', verdana, arial, sans-serif; font-size: 12px; fill: rgb(42, 63, 95); fill-opacity: 1; white-space: pre; opacity: 1;\" transform=\"translate(385.65,0) rotate(-90,-2.0999999999999996,419.4)translate(0,-7.800000000000001)\"><tspan class=\"line\" dy=\"0em\" x=\"-2.0999999999999996\" y=\"425.4\">16-Dec</tspan><tspan class=\"line\" dy=\"1.3em\" x=\"-2.0999999999999996\" y=\"425.4\">Wed</tspan></text></g><g class=\"xtick\"><text text-anchor=\"end\" x=\"-2.0999999999999996\" y=\"425.4\" style=\"font-family: 'Open Sans', verdana, arial, sans-serif; font-size: 12px; fill: rgb(42, 63, 95); fill-opacity: 1; white-space: pre; opacity: 1;\" transform=\"translate(417.83,0) rotate(-90,-2.0999999999999996,419.4)translate(0,-7.800000000000001)\"><tspan class=\"line\" dy=\"0em\" x=\"-2.0999999999999996\" y=\"425.4\">17-Dec</tspan><tspan class=\"line\" dy=\"1.3em\" x=\"-2.0999999999999996\" y=\"425.4\">Thu</tspan></text></g><g class=\"xtick\"><text text-anchor=\"end\" x=\"-2.0999999999999996\" y=\"425.4\" style=\"font-family: 'Open Sans', verdana, arial, sans-serif; font-size: 12px; fill: rgb(42, 63, 95); fill-opacity: 1; white-space: pre; opacity: 1;\" transform=\"translate(450,0) rotate(-90,-2.0999999999999996,419.4)translate(0,-7.800000000000001)\"><tspan class=\"line\" dy=\"0em\" x=\"-2.0999999999999996\" y=\"425.4\">18-Dec</tspan><tspan class=\"line\" dy=\"1.3em\" x=\"-2.0999999999999996\" y=\"425.4\">Fri</tspan></text></g><g class=\"xtick\"><text text-anchor=\"end\" x=\"-2.0999999999999996\" y=\"425.4\" style=\"font-family: 'Open Sans', verdana, arial, sans-serif; font-size: 12px; fill: rgb(42, 63, 95); fill-opacity: 1; white-space: pre; opacity: 1;\" transform=\"translate(482.17,0) rotate(-90,-2.0999999999999996,419.4)translate(0,-7.800000000000001)\"><tspan class=\"line\" dy=\"0em\" x=\"-2.0999999999999996\" y=\"425.4\">19-Dec</tspan><tspan class=\"line\" dy=\"1.3em\" x=\"-2.0999999999999996\" y=\"425.4\">Sat</tspan></text></g><g class=\"xtick\"><text text-anchor=\"end\" x=\"-2.0999999999999996\" y=\"425.4\" style=\"font-family: 'Open Sans', verdana, arial, sans-serif; font-size: 12px; fill: rgb(42, 63, 95); fill-opacity: 1; white-space: pre; opacity: 1;\" transform=\"translate(514.35,0) rotate(-90,-2.0999999999999996,419.4)translate(0,-7.800000000000001)\"><tspan class=\"line\" dy=\"0em\" x=\"-2.0999999999999996\" y=\"425.4\">20-Dec</tspan><tspan class=\"line\" dy=\"1.3em\" x=\"-2.0999999999999996\" y=\"425.4\">Sun</tspan></text></g><g class=\"xtick\"><text text-anchor=\"end\" x=\"-2.0999999999999996\" y=\"425.4\" style=\"font-family: 'Open Sans', verdana, arial, sans-serif; font-size: 12px; fill: rgb(42, 63, 95); fill-opacity: 1; white-space: pre; opacity: 1;\" transform=\"translate(546.52,0) rotate(-90,-2.0999999999999996,419.4)translate(0,-7.800000000000001)\"><tspan class=\"line\" dy=\"0em\" x=\"-2.0999999999999996\" y=\"425.4\">21-Dec</tspan><tspan class=\"line\" dy=\"1.3em\" x=\"-2.0999999999999996\" y=\"425.4\">Mon</tspan></text></g><g class=\"xtick\"><text text-anchor=\"end\" x=\"-2.0999999999999996\" y=\"425.4\" style=\"font-family: 'Open Sans', verdana, arial, sans-serif; font-size: 12px; fill: rgb(42, 63, 95); fill-opacity: 1; white-space: pre; opacity: 1;\" transform=\"translate(578.7,0) rotate(-90,-2.0999999999999996,419.4)translate(0,-7.800000000000001)\"><tspan class=\"line\" dy=\"0em\" x=\"-2.0999999999999996\" y=\"425.4\">22-Dec</tspan><tspan class=\"line\" dy=\"1.3em\" x=\"-2.0999999999999996\" y=\"425.4\">Tue</tspan></text></g><g class=\"xtick\"><text text-anchor=\"end\" x=\"-2.0999999999999996\" y=\"425.4\" style=\"font-family: 'Open Sans', verdana, arial, sans-serif; font-size: 12px; fill: rgb(42, 63, 95); fill-opacity: 1; white-space: pre; opacity: 1;\" transform=\"translate(610.87,0) rotate(-90,-2.0999999999999996,419.4)translate(0,-7.800000000000001)\"><tspan class=\"line\" dy=\"0em\" x=\"-2.0999999999999996\" y=\"425.4\">23-Dec</tspan><tspan class=\"line\" dy=\"1.3em\" x=\"-2.0999999999999996\" y=\"425.4\">Wed</tspan></text></g><g class=\"xtick\"><text text-anchor=\"end\" x=\"-2.0999999999999996\" y=\"425.4\" style=\"font-family: 'Open Sans', verdana, arial, sans-serif; font-size: 12px; fill: rgb(42, 63, 95); fill-opacity: 1; white-space: pre; opacity: 1;\" transform=\"translate(643.04,0) rotate(-90,-2.0999999999999996,419.4)translate(0,-7.800000000000001)\"><tspan class=\"line\" dy=\"0em\" x=\"-2.0999999999999996\" y=\"425.4\">24-Dec</tspan><tspan class=\"line\" dy=\"1.3em\" x=\"-2.0999999999999996\" y=\"425.4\">Thu</tspan></text></g><g class=\"xtick\"><text text-anchor=\"end\" x=\"-2.0999999999999996\" y=\"425.4\" style=\"font-family: 'Open Sans', verdana, arial, sans-serif; font-size: 12px; fill: rgb(42, 63, 95); fill-opacity: 1; white-space: pre; opacity: 1;\" transform=\"translate(675.22,0) rotate(-90,-2.0999999999999996,419.4)translate(0,-7.800000000000001)\"><tspan class=\"line\" dy=\"0em\" x=\"-2.0999999999999996\" y=\"425.4\">25-Dec</tspan><tspan class=\"line\" dy=\"1.3em\" x=\"-2.0999999999999996\" y=\"425.4\">Fri</tspan></text></g><g class=\"xtick\"><text text-anchor=\"end\" x=\"-2.0999999999999996\" y=\"425.4\" style=\"font-family: 'Open Sans', verdana, arial, sans-serif; font-size: 12px; fill: rgb(42, 63, 95); fill-opacity: 1; white-space: pre; opacity: 1;\" transform=\"translate(707.39,0) rotate(-90,-2.0999999999999996,419.4)translate(0,-7.800000000000001)\"><tspan class=\"line\" dy=\"0em\" x=\"-2.0999999999999996\" y=\"425.4\">26-Dec</tspan><tspan class=\"line\" dy=\"1.3em\" x=\"-2.0999999999999996\" y=\"425.4\">Sat</tspan></text></g><g class=\"xtick\"><text text-anchor=\"end\" x=\"-2.0999999999999996\" y=\"425.4\" style=\"font-family: 'Open Sans', verdana, arial, sans-serif; font-size: 12px; fill: rgb(42, 63, 95); fill-opacity: 1; white-space: pre; opacity: 1;\" transform=\"translate(739.57,0) rotate(-90,-2.0999999999999996,419.4)translate(0,-7.800000000000001)\"><tspan class=\"line\" dy=\"0em\" x=\"-2.0999999999999996\" y=\"425.4\">27-Dec</tspan><tspan class=\"line\" dy=\"1.3em\" x=\"-2.0999999999999996\" y=\"425.4\">Sun</tspan></text></g><g class=\"xtick\"><text text-anchor=\"end\" x=\"-2.0999999999999996\" y=\"425.4\" style=\"font-family: 'Open Sans', verdana, arial, sans-serif; font-size: 12px; fill: rgb(42, 63, 95); fill-opacity: 1; white-space: pre; opacity: 1;\" transform=\"translate(771.74,0) rotate(-90,-2.0999999999999996,419.4)translate(0,-7.800000000000001)\"><tspan class=\"line\" dy=\"0em\" x=\"-2.0999999999999996\" y=\"425.4\">28-Dec</tspan><tspan class=\"line\" dy=\"1.3em\" x=\"-2.0999999999999996\" y=\"425.4\">Mon</tspan></text></g><g class=\"xtick\"><text text-anchor=\"end\" x=\"-2.0999999999999996\" y=\"425.4\" style=\"font-family: 'Open Sans', verdana, arial, sans-serif; font-size: 12px; fill: rgb(42, 63, 95); fill-opacity: 1; white-space: pre; opacity: 1;\" transform=\"translate(803.91,0) rotate(-90,-2.0999999999999996,419.4)translate(0,-7.800000000000001)\"><tspan class=\"line\" dy=\"0em\" x=\"-2.0999999999999996\" y=\"425.4\">29-Dec</tspan><tspan class=\"line\" dy=\"1.3em\" x=\"-2.0999999999999996\" y=\"425.4\">Tue</tspan></text></g></g><g class=\"yaxislayer-above\"><g class=\"ytick\"><text text-anchor=\"end\" x=\"79\" y=\"4.199999999999999\" transform=\"translate(0,416)\" style=\"font-family: 'Open Sans', verdana, arial, sans-serif; font-size: 12px; fill: rgb(42, 63, 95); fill-opacity: 1; white-space: pre; opacity: 1;\">0</text></g><g class=\"ytick\"><text text-anchor=\"end\" x=\"79\" y=\"4.199999999999999\" style=\"font-family: 'Open Sans', verdana, arial, sans-serif; font-size: 12px; fill: rgb(42, 63, 95); fill-opacity: 1; white-space: pre; opacity: 1;\" transform=\"translate(0,346.12)\">500</text></g><g class=\"ytick\"><text text-anchor=\"end\" x=\"79\" y=\"4.199999999999999\" style=\"font-family: 'Open Sans', verdana, arial, sans-serif; font-size: 12px; fill: rgb(42, 63, 95); fill-opacity: 1; white-space: pre; opacity: 1;\" transform=\"translate(0,276.24)\">1000</text></g><g class=\"ytick\"><text text-anchor=\"end\" x=\"79\" y=\"4.199999999999999\" style=\"font-family: 'Open Sans', verdana, arial, sans-serif; font-size: 12px; fill: rgb(42, 63, 95); fill-opacity: 1; white-space: pre; opacity: 1;\" transform=\"translate(0,206.36)\">1500</text></g><g class=\"ytick\"><text text-anchor=\"end\" x=\"79\" y=\"4.199999999999999\" style=\"font-family: 'Open Sans', verdana, arial, sans-serif; font-size: 12px; fill: rgb(42, 63, 95); fill-opacity: 1; white-space: pre; opacity: 1;\" transform=\"translate(0,136.48)\">2000</text></g></g><g class=\"overaxes-above\"/></g></g><g class=\"polarlayer\"/><g class=\"ternarylayer\"/><g class=\"geolayer\"/><g class=\"funnelarealayer\"/><g class=\"pielayer\"/><g class=\"iciclelayer\"/><g class=\"treemaplayer\"/><g class=\"sunburstlayer\"/><g class=\"glimages\"/><defs id=\"topdefs-4dd01a\"><g class=\"clips\"/></defs><g class=\"layer-above\"><g class=\"imagelayer\"/><g class=\"shapelayer\"/></g><g class=\"infolayer\"><g class=\"g-gtitle\"><text class=\"gtitle\" x=\"45\" y=\"50\" text-anchor=\"start\" dy=\"0em\" style=\"font-family: 'Open Sans', verdana, arial, sans-serif; font-size: 20px; fill: rgb(42, 63, 95); opacity: 1; font-weight: normal; white-space: pre;\">Распределение событий по дням</text></g><g class=\"g-xtitle\"><text class=\"xtitle\" x=\"450\" y=\"487.5685546875\" text-anchor=\"middle\" style=\"font-family: 'Open Sans', verdana, arial, sans-serif; font-size: 14px; fill: rgb(42, 63, 95); opacity: 1; font-weight: normal; white-space: pre;\">День</text></g><g class=\"g-ytitle\"><text class=\"ytitle\" transform=\"rotate(-90,23.684375000000003,258)\" x=\"23.684375000000003\" y=\"258\" text-anchor=\"middle\" style=\"font-family: 'Open Sans', verdana, arial, sans-serif; font-size: 14px; fill: rgb(42, 63, 95); opacity: 1; font-weight: normal; white-space: pre;\">Число событий</text></g></g></svg>"
      ]
     },
     "metadata": {},
     "output_type": "display_data"
    }
   ],
   "source": [
    "day_stat = test_data.groupby(\n",
    "    pd.Grouper(key='event_dt', freq='d')).agg({'user_id':['count']}).reset_index()\n",
    "day_stat.columns = ['event_dt','events']\n",
    "\n",
    "colors = px.colors.sequential.Plasma\n",
    "fig = go.Figure([go.Bar(x=day_stat['event_dt'], \n",
    "                            y=day_stat['events'], marker_color=colors[4])])\n",
    "fig.update_layout(title_text='Распределение событий по дням', title_font_size=20,\n",
    "                  xaxis_title='День',\n",
    "                  yaxis_title=\"Число событий\")\n",
    "fig.update_xaxes(dtick=86400000.0, tickformat=\"%d-%b\\n%a\", tickangle = 270)\n",
    "\n",
    "fig.show(width=900, height=500, renderer='svg')"
   ]
  },
  {
   "cell_type": "markdown",
   "metadata": {},
   "source": [
    "Также изучим, как распределены события по группам:"
   ]
  },
  {
   "cell_type": "code",
   "execution_count": 26,
   "metadata": {},
   "outputs": [
    {
     "data": {
      "image/svg+xml": [
       "<svg class=\"main-svg\" xmlns=\"http://www.w3.org/2000/svg\" xmlns:xlink=\"http://www.w3.org/1999/xlink\" width=\"900\" height=\"500\" style=\"\" viewBox=\"0 0 900 500\"><rect x=\"0\" y=\"0\" width=\"900\" height=\"500\" style=\"fill: rgb(255, 255, 255); fill-opacity: 1;\"/><defs id=\"defs-698aa5\"><g class=\"clips\"><clipPath id=\"clip698aa5xyplot\" class=\"plotclip\"><rect width=\"739\" height=\"356\"/></clipPath><clipPath class=\"axesclip\" id=\"clip698aa5x\"><rect x=\"80\" y=\"0\" width=\"739\" height=\"500\"/></clipPath><clipPath class=\"axesclip\" id=\"clip698aa5y\"><rect x=\"0\" y=\"60\" width=\"900\" height=\"356\"/></clipPath><clipPath class=\"axesclip\" id=\"clip698aa5xy\"><rect x=\"80\" y=\"60\" width=\"739\" height=\"356\"/></clipPath></g><g class=\"gradients\"/><g class=\"patterns\"/></defs><g class=\"bglayer\"><rect class=\"bg\" x=\"80\" y=\"60\" width=\"739\" height=\"356\" style=\"fill: rgb(229, 236, 246); fill-opacity: 1; stroke-width: 0;\"/></g><g class=\"layer-below\"><g class=\"imagelayer\"/><g class=\"shapelayer\"/></g><g class=\"cartesianlayer\"><g class=\"subplot xy\"><g class=\"layer-subplot\"><g class=\"shapelayer\"/><g class=\"imagelayer\"/></g><g class=\"gridlayer\"><g class=\"x\"/><g class=\"y\"><path class=\"ygrid crisp\" transform=\"translate(0,337.28)\" d=\"M80,0h739\" style=\"stroke: rgb(255, 255, 255); stroke-opacity: 1; stroke-width: 1px;\"/><path class=\"ygrid crisp\" transform=\"translate(0,258.55)\" d=\"M80,0h739\" style=\"stroke: rgb(255, 255, 255); stroke-opacity: 1; stroke-width: 1px;\"/><path class=\"ygrid crisp\" transform=\"translate(0,179.82999999999998)\" d=\"M80,0h739\" style=\"stroke: rgb(255, 255, 255); stroke-opacity: 1; stroke-width: 1px;\"/><path class=\"ygrid crisp\" transform=\"translate(0,101.1)\" d=\"M80,0h739\" style=\"stroke: rgb(255, 255, 255); stroke-opacity: 1; stroke-width: 1px;\"/></g></g><g class=\"zerolinelayer\"><path class=\"yzl zl crisp\" transform=\"translate(0,416)\" d=\"M80,0h739\" style=\"stroke: rgb(255, 255, 255); stroke-opacity: 1; stroke-width: 2px;\"/></g><path class=\"xlines-below\"/><path class=\"ylines-below\"/><g class=\"overlines-below\"/><g class=\"xaxislayer-below\"/><g class=\"yaxislayer-below\"/><g class=\"overaxes-below\"/><g class=\"plot\" transform=\"translate(80,60)\" clip-path=\"url(#clip698aa5xyplot)\"><g class=\"barlayer mlayer\"><g class=\"trace bars\" style=\"opacity: 1;\"><g class=\"points\"><g class=\"point\"><path d=\"M3.21,356V312.54H28.92V356Z\" style=\"vector-effect: non-scaling-stroke; opacity: 1; stroke-width: 0.5px; fill: rgb(189, 55, 134); fill-opacity: 1; stroke: rgb(229, 236, 246); stroke-opacity: 1;\"/></g><g class=\"point\"><path d=\"M35.34,356V307.03H61.05V356Z\" style=\"vector-effect: non-scaling-stroke; opacity: 1; stroke-width: 0.5px; fill: rgb(189, 55, 134); fill-opacity: 1; stroke: rgb(229, 236, 246); stroke-opacity: 1;\"/></g><g class=\"point\"><path d=\"M67.47,356V301.68H93.18V356Z\" style=\"vector-effect: non-scaling-stroke; opacity: 1; stroke-width: 0.5px; fill: rgb(189, 55, 134); fill-opacity: 1; stroke: rgb(229, 236, 246); stroke-opacity: 1;\"/></g><g class=\"point\"><path d=\"M99.6,356V306.72H125.31V356Z\" style=\"vector-effect: non-scaling-stroke; opacity: 1; stroke-width: 0.5px; fill: rgb(189, 55, 134); fill-opacity: 1; stroke: rgb(229, 236, 246); stroke-opacity: 1;\"/></g><g class=\"point\"><path d=\"M131.73,356V304.51H157.44V356Z\" style=\"vector-effect: non-scaling-stroke; opacity: 1; stroke-width: 0.5px; fill: rgb(189, 55, 134); fill-opacity: 1; stroke: rgb(229, 236, 246); stroke-opacity: 1;\"/></g><g class=\"point\"><path d=\"M163.87,356V304.36H189.57V356Z\" style=\"vector-effect: non-scaling-stroke; opacity: 1; stroke-width: 0.5px; fill: rgb(189, 55, 134); fill-opacity: 1; stroke: rgb(229, 236, 246); stroke-opacity: 1;\"/></g><g class=\"point\"><path d=\"M196,356V309.87H221.7V356Z\" style=\"vector-effect: non-scaling-stroke; opacity: 1; stroke-width: 0.5px; fill: rgb(189, 55, 134); fill-opacity: 1; stroke: rgb(229, 236, 246); stroke-opacity: 1;\"/></g><g class=\"point\"><path d=\"M228.13,356V206.74H253.83V356Z\" style=\"vector-effect: non-scaling-stroke; opacity: 1; stroke-width: 0.5px; fill: rgb(189, 55, 134); fill-opacity: 1; stroke: rgb(229, 236, 246); stroke-opacity: 1;\"/></g><g class=\"point\"><path d=\"M260.26,356V203.43H285.96V356Z\" style=\"vector-effect: non-scaling-stroke; opacity: 1; stroke-width: 0.5px; fill: rgb(189, 55, 134); fill-opacity: 1; stroke: rgb(229, 236, 246); stroke-opacity: 1;\"/></g><g class=\"point\"><path d=\"M292.39,356V209.26H318.09V356Z\" style=\"vector-effect: non-scaling-stroke; opacity: 1; stroke-width: 0.5px; fill: rgb(189, 55, 134); fill-opacity: 1; stroke: rgb(229, 236, 246); stroke-opacity: 1;\"/></g><g class=\"point\"><path d=\"M324.52,356V183.12H350.22V356Z\" style=\"vector-effect: non-scaling-stroke; opacity: 1; stroke-width: 0.5px; fill: rgb(189, 55, 134); fill-opacity: 1; stroke: rgb(229, 236, 246); stroke-opacity: 1;\"/></g><g class=\"point\"><path d=\"M356.65,356V174.46H382.35V356Z\" style=\"vector-effect: non-scaling-stroke; opacity: 1; stroke-width: 0.5px; fill: rgb(189, 55, 134); fill-opacity: 1; stroke: rgb(229, 236, 246); stroke-opacity: 1;\"/></g><g class=\"point\"><path d=\"M388.78,356V145.33H414.48V356Z\" style=\"vector-effect: non-scaling-stroke; opacity: 1; stroke-width: 0.5px; fill: rgb(189, 55, 134); fill-opacity: 1; stroke: rgb(229, 236, 246); stroke-opacity: 1;\"/></g><g class=\"point\"><path d=\"M420.91,356V136.83H446.61V356Z\" style=\"vector-effect: non-scaling-stroke; opacity: 1; stroke-width: 0.5px; fill: rgb(189, 55, 134); fill-opacity: 1; stroke: rgb(229, 236, 246); stroke-opacity: 1;\"/></g><g class=\"point\"><path d=\"M453.04,356V74.95H478.74V356Z\" style=\"vector-effect: non-scaling-stroke; opacity: 1; stroke-width: 0.5px; fill: rgb(189, 55, 134); fill-opacity: 1; stroke: rgb(229, 236, 246); stroke-opacity: 1;\"/></g><g class=\"point\"><path d=\"M485.17,356V173.99H510.87V356Z\" style=\"vector-effect: non-scaling-stroke; opacity: 1; stroke-width: 0.5px; fill: rgb(189, 55, 134); fill-opacity: 1; stroke: rgb(229, 236, 246); stroke-opacity: 1;\"/></g><g class=\"point\"><path d=\"M517.3,356V219.65H543V356Z\" style=\"vector-effect: non-scaling-stroke; opacity: 1; stroke-width: 0.5px; fill: rgb(189, 55, 134); fill-opacity: 1; stroke: rgb(229, 236, 246); stroke-opacity: 1;\"/></g><g class=\"point\"><path d=\"M549.43,356V239.8H575.13V356Z\" style=\"vector-effect: non-scaling-stroke; opacity: 1; stroke-width: 0.5px; fill: rgb(189, 55, 134); fill-opacity: 1; stroke: rgb(229, 236, 246); stroke-opacity: 1;\"/></g><g class=\"point\"><path d=\"M581.56,356V354.58H607.27V356Z\" style=\"vector-effect: non-scaling-stroke; opacity: 1; stroke-width: 0.5px; fill: rgb(189, 55, 134); fill-opacity: 1; stroke: rgb(229, 236, 246); stroke-opacity: 1;\"/></g><g class=\"point\"><path d=\"M613.69,356V355.06H639.4V356Z\" style=\"vector-effect: non-scaling-stroke; opacity: 1; stroke-width: 0.5px; fill: rgb(189, 55, 134); fill-opacity: 1; stroke: rgb(229, 236, 246); stroke-opacity: 1;\"/></g><g class=\"point\"><path d=\"M645.82,356V355.69H671.53V356Z\" style=\"vector-effect: non-scaling-stroke; opacity: 1; stroke-width: 0.5px; fill: rgb(189, 55, 134); fill-opacity: 1; stroke: rgb(229, 236, 246); stroke-opacity: 1;\"/></g><g class=\"point\"><path d=\"M677.95,356V355.06H703.66V356Z\" style=\"vector-effect: non-scaling-stroke; opacity: 1; stroke-width: 0.5px; fill: rgb(189, 55, 134); fill-opacity: 1; stroke: rgb(229, 236, 246); stroke-opacity: 1;\"/></g><g class=\"point\"><path d=\"M710.08,356V355.21H735.79V356Z\" style=\"vector-effect: non-scaling-stroke; opacity: 1; stroke-width: 0.5px; fill: rgb(189, 55, 134); fill-opacity: 1; stroke: rgb(229, 236, 246); stroke-opacity: 1;\"/></g></g></g><g class=\"trace bars\" style=\"opacity: 1;\"><g class=\"points\"><g class=\"point\"><path d=\"M3.21,312.54V259.48H28.92V312.54Z\" style=\"vector-effect: non-scaling-stroke; opacity: 1; stroke-width: 0.5px; fill: rgb(251, 159, 58); fill-opacity: 1; stroke: rgb(229, 236, 246); stroke-opacity: 1;\"/></g><g class=\"point\"><path d=\"M35.34,307.03V272.24H61.05V307.03Z\" style=\"vector-effect: non-scaling-stroke; opacity: 1; stroke-width: 0.5px; fill: rgb(251, 159, 58); fill-opacity: 1; stroke: rgb(229, 236, 246); stroke-opacity: 1;\"/></g><g class=\"point\"><path d=\"M67.47,301.68V252.56H93.18V301.68Z\" style=\"vector-effect: non-scaling-stroke; opacity: 1; stroke-width: 0.5px; fill: rgb(251, 159, 58); fill-opacity: 1; stroke: rgb(229, 236, 246); stroke-opacity: 1;\"/></g><g class=\"point\"><path d=\"M99.6,306.72V270.19H125.31V306.72Z\" style=\"vector-effect: non-scaling-stroke; opacity: 1; stroke-width: 0.5px; fill: rgb(251, 159, 58); fill-opacity: 1; stroke: rgb(229, 236, 246); stroke-opacity: 1;\"/></g><g class=\"point\"><path d=\"M131.73,304.51V281.84H157.44V304.51Z\" style=\"vector-effect: non-scaling-stroke; opacity: 1; stroke-width: 0.5px; fill: rgb(251, 159, 58); fill-opacity: 1; stroke: rgb(229, 236, 246); stroke-opacity: 1;\"/></g><g class=\"point\"><path d=\"M163.87,304.36V277.12H189.57V304.36Z\" style=\"vector-effect: non-scaling-stroke; opacity: 1; stroke-width: 0.5px; fill: rgb(251, 159, 58); fill-opacity: 1; stroke: rgb(229, 236, 246); stroke-opacity: 1;\"/></g><g class=\"point\"><path d=\"M196,309.87V288.77H221.7V309.87Z\" style=\"vector-effect: non-scaling-stroke; opacity: 1; stroke-width: 0.5px; fill: rgb(251, 159, 58); fill-opacity: 1; stroke: rgb(229, 236, 246); stroke-opacity: 1;\"/></g><g class=\"point\"><path d=\"M228.13,206.74V167.22H253.83V206.74Z\" style=\"vector-effect: non-scaling-stroke; opacity: 1; stroke-width: 0.5px; fill: rgb(251, 159, 58); fill-opacity: 1; stroke: rgb(229, 236, 246); stroke-opacity: 1;\"/></g><g class=\"point\"><path d=\"M260.26,203.43V172.41H285.96V203.43Z\" style=\"vector-effect: non-scaling-stroke; opacity: 1; stroke-width: 0.5px; fill: rgb(251, 159, 58); fill-opacity: 1; stroke: rgb(229, 236, 246); stroke-opacity: 1;\"/></g><g class=\"point\"><path d=\"M292.39,209.26V156.04H318.09V209.26Z\" style=\"vector-effect: non-scaling-stroke; opacity: 1; stroke-width: 0.5px; fill: rgb(251, 159, 58); fill-opacity: 1; stroke: rgb(229, 236, 246); stroke-opacity: 1;\"/></g><g class=\"point\"><path d=\"M324.52,183.12V144.55H350.22V183.12Z\" style=\"vector-effect: non-scaling-stroke; opacity: 1; stroke-width: 0.5px; fill: rgb(251, 159, 58); fill-opacity: 1; stroke: rgb(229, 236, 246); stroke-opacity: 1;\"/></g><g class=\"point\"><path d=\"M356.65,174.46V137.15H382.35V174.46Z\" style=\"vector-effect: non-scaling-stroke; opacity: 1; stroke-width: 0.5px; fill: rgb(251, 159, 58); fill-opacity: 1; stroke: rgb(229, 236, 246); stroke-opacity: 1;\"/></g><g class=\"point\"><path d=\"M388.78,145.33V105.81H414.48V145.33Z\" style=\"vector-effect: non-scaling-stroke; opacity: 1; stroke-width: 0.5px; fill: rgb(251, 159, 58); fill-opacity: 1; stroke: rgb(229, 236, 246); stroke-opacity: 1;\"/></g><g class=\"point\"><path d=\"M420.91,136.83V92.12H446.61V136.83Z\" style=\"vector-effect: non-scaling-stroke; opacity: 1; stroke-width: 0.5px; fill: rgb(251, 159, 58); fill-opacity: 1; stroke: rgb(229, 236, 246); stroke-opacity: 1;\"/></g><g class=\"point\"><path d=\"M453.04,74.95V17.8H478.74V74.95Z\" style=\"vector-effect: non-scaling-stroke; opacity: 1; stroke-width: 0.5px; fill: rgb(251, 159, 58); fill-opacity: 1; stroke: rgb(229, 236, 246); stroke-opacity: 1;\"/></g><g class=\"point\"><path d=\"M485.17,173.99V149.58H510.87V173.99Z\" style=\"vector-effect: non-scaling-stroke; opacity: 1; stroke-width: 0.5px; fill: rgb(251, 159, 58); fill-opacity: 1; stroke: rgb(229, 236, 246); stroke-opacity: 1;\"/></g><g class=\"point\"><path d=\"M517.3,219.65V198.71H543V219.65Z\" style=\"vector-effect: non-scaling-stroke; opacity: 1; stroke-width: 0.5px; fill: rgb(251, 159, 58); fill-opacity: 1; stroke: rgb(229, 236, 246); stroke-opacity: 1;\"/></g><g class=\"point\"><path d=\"M549.43,239.8V223.11H575.13V239.8Z\" style=\"vector-effect: non-scaling-stroke; opacity: 1; stroke-width: 0.5px; fill: rgb(251, 159, 58); fill-opacity: 1; stroke: rgb(229, 236, 246); stroke-opacity: 1;\"/></g><g class=\"point\"><path d=\"M613.69,355.06V354.27H639.4V355.06Z\" style=\"vector-effect: non-scaling-stroke; opacity: 1; stroke-width: 0.5px; fill: rgb(251, 159, 58); fill-opacity: 1; stroke: rgb(229, 236, 246); stroke-opacity: 1;\"/></g><g class=\"point\"><path d=\"M645.82,355.69V355.37H671.53V355.69Z\" style=\"vector-effect: non-scaling-stroke; opacity: 1; stroke-width: 0.5px; fill: rgb(251, 159, 58); fill-opacity: 1; stroke: rgb(229, 236, 246); stroke-opacity: 1;\"/></g><g class=\"point\"><path d=\"M677.95,355.06V354.58H703.66V355.06Z\" style=\"vector-effect: non-scaling-stroke; opacity: 1; stroke-width: 0.5px; fill: rgb(251, 159, 58); fill-opacity: 1; stroke: rgb(229, 236, 246); stroke-opacity: 1;\"/></g></g></g></g></g><g class=\"overplot\"/><path class=\"xlines-above crisp\" d=\"M0,0\" style=\"fill: none;\"/><path class=\"ylines-above crisp\" d=\"M0,0\" style=\"fill: none;\"/><g class=\"overlines-above\"/><g class=\"xaxislayer-above\"><g class=\"xtick\"><text text-anchor=\"end\" x=\"-2.0999999999999996\" y=\"425.4\" transform=\"translate(96.07,0) rotate(-90,-2.0999999999999996,419.4)translate(0,-7.800000000000001)\" style=\"font-family: 'Open Sans', verdana, arial, sans-serif; font-size: 12px; fill: rgb(42, 63, 95); fill-opacity: 1; white-space: pre; opacity: 1;\"><tspan class=\"line\" dy=\"0em\" x=\"-2.0999999999999996\" y=\"425.4\">07-Dec</tspan><tspan class=\"line\" dy=\"1.3em\" x=\"-2.0999999999999996\" y=\"425.4\">Mon</tspan></text></g><g class=\"xtick\"><text text-anchor=\"end\" x=\"-2.0999999999999996\" y=\"425.4\" style=\"font-family: 'Open Sans', verdana, arial, sans-serif; font-size: 12px; fill: rgb(42, 63, 95); fill-opacity: 1; white-space: pre; opacity: 1;\" transform=\"translate(128.2,0) rotate(-90,-2.0999999999999996,419.4)translate(0,-7.800000000000001)\"><tspan class=\"line\" dy=\"0em\" x=\"-2.0999999999999996\" y=\"425.4\">08-Dec</tspan><tspan class=\"line\" dy=\"1.3em\" x=\"-2.0999999999999996\" y=\"425.4\">Tue</tspan></text></g><g class=\"xtick\"><text text-anchor=\"end\" x=\"-2.0999999999999996\" y=\"425.4\" style=\"font-family: 'Open Sans', verdana, arial, sans-serif; font-size: 12px; fill: rgb(42, 63, 95); fill-opacity: 1; white-space: pre; opacity: 1;\" transform=\"translate(160.32999999999998,0) rotate(-90,-2.0999999999999996,419.4)translate(0,-7.800000000000001)\"><tspan class=\"line\" dy=\"0em\" x=\"-2.0999999999999996\" y=\"425.4\">09-Dec</tspan><tspan class=\"line\" dy=\"1.3em\" x=\"-2.0999999999999996\" y=\"425.4\">Wed</tspan></text></g><g class=\"xtick\"><text text-anchor=\"end\" x=\"-2.0999999999999996\" y=\"425.4\" style=\"font-family: 'Open Sans', verdana, arial, sans-serif; font-size: 12px; fill: rgb(42, 63, 95); fill-opacity: 1; white-space: pre; opacity: 1;\" transform=\"translate(192.45999999999998,0) rotate(-90,-2.0999999999999996,419.4)translate(0,-7.800000000000001)\"><tspan class=\"line\" dy=\"0em\" x=\"-2.0999999999999996\" y=\"425.4\">10-Dec</tspan><tspan class=\"line\" dy=\"1.3em\" x=\"-2.0999999999999996\" y=\"425.4\">Thu</tspan></text></g><g class=\"xtick\"><text text-anchor=\"end\" x=\"-2.0999999999999996\" y=\"425.4\" style=\"font-family: 'Open Sans', verdana, arial, sans-serif; font-size: 12px; fill: rgb(42, 63, 95); fill-opacity: 1; white-space: pre; opacity: 1;\" transform=\"translate(224.59,0) rotate(-90,-2.0999999999999996,419.4)translate(0,-7.800000000000001)\"><tspan class=\"line\" dy=\"0em\" x=\"-2.0999999999999996\" y=\"425.4\">11-Dec</tspan><tspan class=\"line\" dy=\"1.3em\" x=\"-2.0999999999999996\" y=\"425.4\">Fri</tspan></text></g><g class=\"xtick\"><text text-anchor=\"end\" x=\"-2.0999999999999996\" y=\"425.4\" style=\"font-family: 'Open Sans', verdana, arial, sans-serif; font-size: 12px; fill: rgb(42, 63, 95); fill-opacity: 1; white-space: pre; opacity: 1;\" transform=\"translate(256.72,0) rotate(-90,-2.0999999999999996,419.4)translate(0,-7.800000000000001)\"><tspan class=\"line\" dy=\"0em\" x=\"-2.0999999999999996\" y=\"425.4\">12-Dec</tspan><tspan class=\"line\" dy=\"1.3em\" x=\"-2.0999999999999996\" y=\"425.4\">Sat</tspan></text></g><g class=\"xtick\"><text text-anchor=\"end\" x=\"-2.0999999999999996\" y=\"425.4\" style=\"font-family: 'Open Sans', verdana, arial, sans-serif; font-size: 12px; fill: rgb(42, 63, 95); fill-opacity: 1; white-space: pre; opacity: 1;\" transform=\"translate(288.85,0) rotate(-90,-2.0999999999999996,419.4)translate(0,-7.800000000000001)\"><tspan class=\"line\" dy=\"0em\" x=\"-2.0999999999999996\" y=\"425.4\">13-Dec</tspan><tspan class=\"line\" dy=\"1.3em\" x=\"-2.0999999999999996\" y=\"425.4\">Sun</tspan></text></g><g class=\"xtick\"><text text-anchor=\"end\" x=\"-2.0999999999999996\" y=\"425.4\" style=\"font-family: 'Open Sans', verdana, arial, sans-serif; font-size: 12px; fill: rgb(42, 63, 95); fill-opacity: 1; white-space: pre; opacity: 1;\" transform=\"translate(320.98,0) rotate(-90,-2.0999999999999996,419.4)translate(0,-7.800000000000001)\"><tspan class=\"line\" dy=\"0em\" x=\"-2.0999999999999996\" y=\"425.4\">14-Dec</tspan><tspan class=\"line\" dy=\"1.3em\" x=\"-2.0999999999999996\" y=\"425.4\">Mon</tspan></text></g><g class=\"xtick\"><text text-anchor=\"end\" x=\"-2.0999999999999996\" y=\"425.4\" style=\"font-family: 'Open Sans', verdana, arial, sans-serif; font-size: 12px; fill: rgb(42, 63, 95); fill-opacity: 1; white-space: pre; opacity: 1;\" transform=\"translate(353.11,0) rotate(-90,-2.0999999999999996,419.4)translate(0,-7.800000000000001)\"><tspan class=\"line\" dy=\"0em\" x=\"-2.0999999999999996\" y=\"425.4\">15-Dec</tspan><tspan class=\"line\" dy=\"1.3em\" x=\"-2.0999999999999996\" y=\"425.4\">Tue</tspan></text></g><g class=\"xtick\"><text text-anchor=\"end\" x=\"-2.0999999999999996\" y=\"425.4\" style=\"font-family: 'Open Sans', verdana, arial, sans-serif; font-size: 12px; fill: rgb(42, 63, 95); fill-opacity: 1; white-space: pre; opacity: 1;\" transform=\"translate(385.24,0) rotate(-90,-2.0999999999999996,419.4)translate(0,-7.800000000000001)\"><tspan class=\"line\" dy=\"0em\" x=\"-2.0999999999999996\" y=\"425.4\">16-Dec</tspan><tspan class=\"line\" dy=\"1.3em\" x=\"-2.0999999999999996\" y=\"425.4\">Wed</tspan></text></g><g class=\"xtick\"><text text-anchor=\"end\" x=\"-2.0999999999999996\" y=\"425.4\" style=\"font-family: 'Open Sans', verdana, arial, sans-serif; font-size: 12px; fill: rgb(42, 63, 95); fill-opacity: 1; white-space: pre; opacity: 1;\" transform=\"translate(417.37,0) rotate(-90,-2.0999999999999996,419.4)translate(0,-7.800000000000001)\"><tspan class=\"line\" dy=\"0em\" x=\"-2.0999999999999996\" y=\"425.4\">17-Dec</tspan><tspan class=\"line\" dy=\"1.3em\" x=\"-2.0999999999999996\" y=\"425.4\">Thu</tspan></text></g><g class=\"xtick\"><text text-anchor=\"end\" x=\"-2.0999999999999996\" y=\"425.4\" style=\"font-family: 'Open Sans', verdana, arial, sans-serif; font-size: 12px; fill: rgb(42, 63, 95); fill-opacity: 1; white-space: pre; opacity: 1;\" transform=\"translate(449.5,0) rotate(-90,-2.0999999999999996,419.4)translate(0,-7.800000000000001)\"><tspan class=\"line\" dy=\"0em\" x=\"-2.0999999999999996\" y=\"425.4\">18-Dec</tspan><tspan class=\"line\" dy=\"1.3em\" x=\"-2.0999999999999996\" y=\"425.4\">Fri</tspan></text></g><g class=\"xtick\"><text text-anchor=\"end\" x=\"-2.0999999999999996\" y=\"425.4\" style=\"font-family: 'Open Sans', verdana, arial, sans-serif; font-size: 12px; fill: rgb(42, 63, 95); fill-opacity: 1; white-space: pre; opacity: 1;\" transform=\"translate(481.63,0) rotate(-90,-2.0999999999999996,419.4)translate(0,-7.800000000000001)\"><tspan class=\"line\" dy=\"0em\" x=\"-2.0999999999999996\" y=\"425.4\">19-Dec</tspan><tspan class=\"line\" dy=\"1.3em\" x=\"-2.0999999999999996\" y=\"425.4\">Sat</tspan></text></g><g class=\"xtick\"><text text-anchor=\"end\" x=\"-2.0999999999999996\" y=\"425.4\" style=\"font-family: 'Open Sans', verdana, arial, sans-serif; font-size: 12px; fill: rgb(42, 63, 95); fill-opacity: 1; white-space: pre; opacity: 1;\" transform=\"translate(513.76,0) rotate(-90,-2.0999999999999996,419.4)translate(0,-7.800000000000001)\"><tspan class=\"line\" dy=\"0em\" x=\"-2.0999999999999996\" y=\"425.4\">20-Dec</tspan><tspan class=\"line\" dy=\"1.3em\" x=\"-2.0999999999999996\" y=\"425.4\">Sun</tspan></text></g><g class=\"xtick\"><text text-anchor=\"end\" x=\"-2.0999999999999996\" y=\"425.4\" style=\"font-family: 'Open Sans', verdana, arial, sans-serif; font-size: 12px; fill: rgb(42, 63, 95); fill-opacity: 1; white-space: pre; opacity: 1;\" transform=\"translate(545.89,0) rotate(-90,-2.0999999999999996,419.4)translate(0,-7.800000000000001)\"><tspan class=\"line\" dy=\"0em\" x=\"-2.0999999999999996\" y=\"425.4\">21-Dec</tspan><tspan class=\"line\" dy=\"1.3em\" x=\"-2.0999999999999996\" y=\"425.4\">Mon</tspan></text></g><g class=\"xtick\"><text text-anchor=\"end\" x=\"-2.0999999999999996\" y=\"425.4\" style=\"font-family: 'Open Sans', verdana, arial, sans-serif; font-size: 12px; fill: rgb(42, 63, 95); fill-opacity: 1; white-space: pre; opacity: 1;\" transform=\"translate(578.02,0) rotate(-90,-2.0999999999999996,419.4)translate(0,-7.800000000000001)\"><tspan class=\"line\" dy=\"0em\" x=\"-2.0999999999999996\" y=\"425.4\">22-Dec</tspan><tspan class=\"line\" dy=\"1.3em\" x=\"-2.0999999999999996\" y=\"425.4\">Tue</tspan></text></g><g class=\"xtick\"><text text-anchor=\"end\" x=\"-2.0999999999999996\" y=\"425.4\" style=\"font-family: 'Open Sans', verdana, arial, sans-serif; font-size: 12px; fill: rgb(42, 63, 95); fill-opacity: 1; white-space: pre; opacity: 1;\" transform=\"translate(610.15,0) rotate(-90,-2.0999999999999996,419.4)translate(0,-7.800000000000001)\"><tspan class=\"line\" dy=\"0em\" x=\"-2.0999999999999996\" y=\"425.4\">23-Dec</tspan><tspan class=\"line\" dy=\"1.3em\" x=\"-2.0999999999999996\" y=\"425.4\">Wed</tspan></text></g><g class=\"xtick\"><text text-anchor=\"end\" x=\"-2.0999999999999996\" y=\"425.4\" style=\"font-family: 'Open Sans', verdana, arial, sans-serif; font-size: 12px; fill: rgb(42, 63, 95); fill-opacity: 1; white-space: pre; opacity: 1;\" transform=\"translate(642.28,0) rotate(-90,-2.0999999999999996,419.4)translate(0,-7.800000000000001)\"><tspan class=\"line\" dy=\"0em\" x=\"-2.0999999999999996\" y=\"425.4\">24-Dec</tspan><tspan class=\"line\" dy=\"1.3em\" x=\"-2.0999999999999996\" y=\"425.4\">Thu</tspan></text></g><g class=\"xtick\"><text text-anchor=\"end\" x=\"-2.0999999999999996\" y=\"425.4\" style=\"font-family: 'Open Sans', verdana, arial, sans-serif; font-size: 12px; fill: rgb(42, 63, 95); fill-opacity: 1; white-space: pre; opacity: 1;\" transform=\"translate(674.41,0) rotate(-90,-2.0999999999999996,419.4)translate(0,-7.800000000000001)\"><tspan class=\"line\" dy=\"0em\" x=\"-2.0999999999999996\" y=\"425.4\">25-Dec</tspan><tspan class=\"line\" dy=\"1.3em\" x=\"-2.0999999999999996\" y=\"425.4\">Fri</tspan></text></g><g class=\"xtick\"><text text-anchor=\"end\" x=\"-2.0999999999999996\" y=\"425.4\" style=\"font-family: 'Open Sans', verdana, arial, sans-serif; font-size: 12px; fill: rgb(42, 63, 95); fill-opacity: 1; white-space: pre; opacity: 1;\" transform=\"translate(706.54,0) rotate(-90,-2.0999999999999996,419.4)translate(0,-7.800000000000001)\"><tspan class=\"line\" dy=\"0em\" x=\"-2.0999999999999996\" y=\"425.4\">26-Dec</tspan><tspan class=\"line\" dy=\"1.3em\" x=\"-2.0999999999999996\" y=\"425.4\">Sat</tspan></text></g><g class=\"xtick\"><text text-anchor=\"end\" x=\"-2.0999999999999996\" y=\"425.4\" style=\"font-family: 'Open Sans', verdana, arial, sans-serif; font-size: 12px; fill: rgb(42, 63, 95); fill-opacity: 1; white-space: pre; opacity: 1;\" transform=\"translate(738.67,0) rotate(-90,-2.0999999999999996,419.4)translate(0,-7.800000000000001)\"><tspan class=\"line\" dy=\"0em\" x=\"-2.0999999999999996\" y=\"425.4\">27-Dec</tspan><tspan class=\"line\" dy=\"1.3em\" x=\"-2.0999999999999996\" y=\"425.4\">Sun</tspan></text></g><g class=\"xtick\"><text text-anchor=\"end\" x=\"-2.0999999999999996\" y=\"425.4\" style=\"font-family: 'Open Sans', verdana, arial, sans-serif; font-size: 12px; fill: rgb(42, 63, 95); fill-opacity: 1; white-space: pre; opacity: 1;\" transform=\"translate(770.8,0) rotate(-90,-2.0999999999999996,419.4)translate(0,-7.800000000000001)\"><tspan class=\"line\" dy=\"0em\" x=\"-2.0999999999999996\" y=\"425.4\">28-Dec</tspan><tspan class=\"line\" dy=\"1.3em\" x=\"-2.0999999999999996\" y=\"425.4\">Mon</tspan></text></g><g class=\"xtick\"><text text-anchor=\"end\" x=\"-2.0999999999999996\" y=\"425.4\" style=\"font-family: 'Open Sans', verdana, arial, sans-serif; font-size: 12px; fill: rgb(42, 63, 95); fill-opacity: 1; white-space: pre; opacity: 1;\" transform=\"translate(802.93,0) rotate(-90,-2.0999999999999996,419.4)translate(0,-7.800000000000001)\"><tspan class=\"line\" dy=\"0em\" x=\"-2.0999999999999996\" y=\"425.4\">29-Dec</tspan><tspan class=\"line\" dy=\"1.3em\" x=\"-2.0999999999999996\" y=\"425.4\">Tue</tspan></text></g></g><g class=\"yaxislayer-above\"><g class=\"ytick\"><text text-anchor=\"end\" x=\"79\" y=\"4.199999999999999\" transform=\"translate(0,416)\" style=\"font-family: 'Open Sans', verdana, arial, sans-serif; font-size: 12px; fill: rgb(42, 63, 95); fill-opacity: 1; white-space: pre; opacity: 1;\">0</text></g><g class=\"ytick\"><text text-anchor=\"end\" x=\"79\" y=\"4.199999999999999\" style=\"font-family: 'Open Sans', verdana, arial, sans-serif; font-size: 12px; fill: rgb(42, 63, 95); fill-opacity: 1; white-space: pre; opacity: 1;\" transform=\"translate(0,337.28)\">500</text></g><g class=\"ytick\"><text text-anchor=\"end\" x=\"79\" y=\"4.199999999999999\" style=\"font-family: 'Open Sans', verdana, arial, sans-serif; font-size: 12px; fill: rgb(42, 63, 95); fill-opacity: 1; white-space: pre; opacity: 1;\" transform=\"translate(0,258.55)\">1000</text></g><g class=\"ytick\"><text text-anchor=\"end\" x=\"79\" y=\"4.199999999999999\" style=\"font-family: 'Open Sans', verdana, arial, sans-serif; font-size: 12px; fill: rgb(42, 63, 95); fill-opacity: 1; white-space: pre; opacity: 1;\" transform=\"translate(0,179.82999999999998)\">1500</text></g><g class=\"ytick\"><text text-anchor=\"end\" x=\"79\" y=\"4.199999999999999\" style=\"font-family: 'Open Sans', verdana, arial, sans-serif; font-size: 12px; fill: rgb(42, 63, 95); fill-opacity: 1; white-space: pre; opacity: 1;\" transform=\"translate(0,101.1)\">2000</text></g></g><g class=\"overaxes-above\"/></g></g><g class=\"polarlayer\"/><g class=\"ternarylayer\"/><g class=\"geolayer\"/><g class=\"funnelarealayer\"/><g class=\"pielayer\"/><g class=\"iciclelayer\"/><g class=\"treemaplayer\"/><g class=\"sunburstlayer\"/><g class=\"glimages\"/><defs id=\"topdefs-698aa5\"><g class=\"clips\"/><clipPath id=\"legend698aa5\"><rect width=\"54\" height=\"67\" x=\"0\" y=\"0\"/></clipPath></defs><g class=\"layer-above\"><g class=\"imagelayer\"/><g class=\"shapelayer\"/></g><g class=\"infolayer\"><g class=\"legend\" pointer-events=\"all\" transform=\"translate(833.78,60)\"><rect class=\"bg\" shape-rendering=\"crispEdges\" style=\"stroke: rgb(68, 68, 68); stroke-opacity: 1; fill: rgb(255, 255, 255); fill-opacity: 1; stroke-width: 0px;\" width=\"54\" height=\"67\" x=\"0\" y=\"0\"/><g class=\"scrollbox\" transform=\"\" clip-path=\"url(#legend698aa5)\"><text class=\"legendtitletext\" text-anchor=\"start\" x=\"2\" y=\"18.2\" style=\"font-family: 'Open Sans', verdana, arial, sans-serif; font-size: 14px; fill: rgb(42, 63, 95); fill-opacity: 1; white-space: pre;\">group</text><g class=\"groups\" transform=\"\"><g class=\"traces\" transform=\"translate(0,32.7)\" style=\"opacity: 1;\"><text class=\"legendtext\" text-anchor=\"start\" x=\"40\" y=\"4.680000000000001\" style=\"font-family: 'Open Sans', verdana, arial, sans-serif; font-size: 12px; fill: rgb(42, 63, 95); fill-opacity: 1; white-space: pre;\">A</text><g class=\"layers\" style=\"opacity: 1;\"><g class=\"legendfill\"/><g class=\"legendlines\"/><g class=\"legendsymbols\"><g class=\"legendpoints\"><path class=\"legendundefined\" d=\"M6,6H-6V-6H6Z\" transform=\"translate(20,0)\" style=\"stroke-width: 0.5px; fill: rgb(189, 55, 134); fill-opacity: 1; stroke: rgb(229, 236, 246); stroke-opacity: 1;\"/></g></g></g><rect class=\"legendtoggle\" x=\"0\" y=\"-9.5\" width=\"48.234375\" height=\"19\" style=\"fill: rgb(0, 0, 0); fill-opacity: 0;\"/></g></g><g class=\"groups\" transform=\"\"><g class=\"traces\" transform=\"translate(0,51.7)\" style=\"opacity: 1;\"><text class=\"legendtext\" text-anchor=\"start\" x=\"40\" y=\"4.680000000000001\" style=\"font-family: 'Open Sans', verdana, arial, sans-serif; font-size: 12px; fill: rgb(42, 63, 95); fill-opacity: 1; white-space: pre;\">B</text><g class=\"layers\" style=\"opacity: 1;\"><g class=\"legendfill\"/><g class=\"legendlines\"/><g class=\"legendsymbols\"><g class=\"legendpoints\"><path class=\"legendundefined\" d=\"M6,6H-6V-6H6Z\" transform=\"translate(20,0)\" style=\"stroke-width: 0.5px; fill: rgb(251, 159, 58); fill-opacity: 1; stroke: rgb(229, 236, 246); stroke-opacity: 1;\"/></g></g></g><rect class=\"legendtoggle\" x=\"0\" y=\"-9.5\" width=\"48.234375\" height=\"19\" style=\"fill: rgb(0, 0, 0); fill-opacity: 0;\"/></g></g></g><rect class=\"scrollbar\" rx=\"20\" ry=\"3\" width=\"0\" height=\"0\" style=\"fill: rgb(128, 139, 164); fill-opacity: 1;\" x=\"0\" y=\"0\"/></g><g class=\"g-gtitle\"><text class=\"gtitle\" x=\"45\" y=\"30\" text-anchor=\"start\" dy=\"0em\" style=\"font-family: 'Open Sans', verdana, arial, sans-serif; font-size: 20px; fill: rgb(42, 63, 95); opacity: 1; font-weight: normal; white-space: pre;\">Распределение событий по дням и группам</text></g><g class=\"g-xtitle\"><text class=\"xtitle\" x=\"449.5\" y=\"487.5685546875\" text-anchor=\"middle\" style=\"font-family: 'Open Sans', verdana, arial, sans-serif; font-size: 14px; fill: rgb(42, 63, 95); opacity: 1; font-weight: normal; white-space: pre;\">День</text></g><g class=\"g-ytitle\"><text class=\"ytitle\" transform=\"rotate(-90,23.684375000000003,238)\" x=\"23.684375000000003\" y=\"238\" text-anchor=\"middle\" style=\"font-family: 'Open Sans', verdana, arial, sans-serif; font-size: 14px; fill: rgb(42, 63, 95); opacity: 1; font-weight: normal; white-space: pre;\">Число событий</text></g></g></svg>"
      ]
     },
     "metadata": {},
     "output_type": "display_data"
    }
   ],
   "source": [
    "day_user_stat = test_data.groupby(\n",
    "    ['group', pd.Grouper(key='event_dt', freq='d')]).agg({'user_id':['count']}).reset_index()\n",
    "day_user_stat.columns = ['group','event_dt','events']\n",
    "\n",
    "color_discrete_map = {'A': colors[4], 'B': colors[7]} \n",
    "fig = px.bar(day_user_stat, x=\"event_dt\", y='events', color=\"group\", \n",
    "             color_discrete_map=color_discrete_map)\n",
    "\n",
    "fig.update_layout(title_text='Распределение событий по дням и группам', title_font_size=20,\n",
    "                  xaxis_title='День',\n",
    "                  yaxis_title=\"Число событий\")\n",
    "fig.update_xaxes(dtick=86400000.0, tickformat=\"%d-%b\\n%a\", tickangle = 270)\n",
    "\n",
    "fig.show(width=900, height=500, renderer='svg')"
   ]
  },
  {
   "cell_type": "markdown",
   "metadata": {},
   "source": [
    "Как видно на графиках, пик числа посещений пришелся на 21 декабря. Также можно заметить, что на протяжении всего эксперимента соотношение групп постоянно менялось, при этом группа A существенно превосходила контрольную группу, особенно к концу эксперимента.\n",
    "\n",
    "За 25-29 декабря данные практически отсутствуют. Посмотрим, как распределены события в данных до фильтрации:"
   ]
  },
  {
   "cell_type": "code",
   "execution_count": 27,
   "metadata": {
    "scrolled": false
   },
   "outputs": [
    {
     "data": {
      "image/svg+xml": [
       "<svg class=\"main-svg\" xmlns=\"http://www.w3.org/2000/svg\" xmlns:xlink=\"http://www.w3.org/1999/xlink\" width=\"900\" height=\"500\" style=\"\" viewBox=\"0 0 900 500\"><rect x=\"0\" y=\"0\" width=\"900\" height=\"500\" style=\"fill: rgb(255, 255, 255); fill-opacity: 1;\"/><defs id=\"defs-978f58\"><g class=\"clips\"><clipPath id=\"clip978f58xyplot\" class=\"plotclip\"><rect width=\"740\" height=\"316\"/></clipPath><clipPath class=\"axesclip\" id=\"clip978f58x\"><rect x=\"80\" y=\"0\" width=\"740\" height=\"500\"/></clipPath><clipPath class=\"axesclip\" id=\"clip978f58y\"><rect x=\"0\" y=\"100\" width=\"900\" height=\"316\"/></clipPath><clipPath class=\"axesclip\" id=\"clip978f58xy\"><rect x=\"80\" y=\"100\" width=\"740\" height=\"316\"/></clipPath></g><g class=\"gradients\"/><g class=\"patterns\"/></defs><g class=\"bglayer\"><rect class=\"bg\" x=\"80\" y=\"100\" width=\"740\" height=\"316\" style=\"fill: rgb(229, 236, 246); fill-opacity: 1; stroke-width: 0;\"/></g><g class=\"layer-below\"><g class=\"imagelayer\"/><g class=\"shapelayer\"/></g><g class=\"cartesianlayer\"><g class=\"subplot xy\"><g class=\"layer-subplot\"><g class=\"shapelayer\"/><g class=\"imagelayer\"/></g><g class=\"gridlayer\"><g class=\"x\"/><g class=\"y\"><path class=\"ygrid crisp\" transform=\"translate(0,345.46000000000004)\" d=\"M80,0h740\" style=\"stroke: rgb(255, 255, 255); stroke-opacity: 1; stroke-width: 1px;\"/><path class=\"ygrid crisp\" transform=\"translate(0,274.90999999999997)\" d=\"M80,0h740\" style=\"stroke: rgb(255, 255, 255); stroke-opacity: 1; stroke-width: 1px;\"/><path class=\"ygrid crisp\" transform=\"translate(0,204.37)\" d=\"M80,0h740\" style=\"stroke: rgb(255, 255, 255); stroke-opacity: 1; stroke-width: 1px;\"/><path class=\"ygrid crisp\" transform=\"translate(0,133.82)\" d=\"M80,0h740\" style=\"stroke: rgb(255, 255, 255); stroke-opacity: 1; stroke-width: 1px;\"/></g></g><g class=\"zerolinelayer\"><path class=\"yzl zl crisp\" transform=\"translate(0,416)\" d=\"M80,0h740\" style=\"stroke: rgb(255, 255, 255); stroke-opacity: 1; stroke-width: 2px;\"/></g><path class=\"xlines-below\"/><path class=\"ylines-below\"/><g class=\"overlines-below\"/><g class=\"xaxislayer-below\"/><g class=\"yaxislayer-below\"/><g class=\"overaxes-below\"/><g class=\"plot\" transform=\"translate(80,100)\" clip-path=\"url(#clip978f58xyplot)\"><g class=\"barlayer mlayer\"><g class=\"trace bars\" style=\"opacity: 1;\"><g class=\"points\"><g class=\"point\"><path d=\"M3.08,316V218.05H27.75V316Z\" style=\"vector-effect: non-scaling-stroke; opacity: 1; stroke-width: 0.5px; fill: rgb(237, 121, 83); fill-opacity: 1; stroke: rgb(229, 236, 246); stroke-opacity: 1;\"/></g><g class=\"point\"><path d=\"M33.92,316V213.57H58.58V316Z\" style=\"vector-effect: non-scaling-stroke; opacity: 1; stroke-width: 0.5px; fill: rgb(237, 121, 83); fill-opacity: 1; stroke: rgb(229, 236, 246); stroke-opacity: 1;\"/></g><g class=\"point\"><path d=\"M64.75,316V207.4H89.42V316Z\" style=\"vector-effect: non-scaling-stroke; opacity: 1; stroke-width: 0.5px; fill: rgb(237, 121, 83); fill-opacity: 1; stroke: rgb(229, 236, 246); stroke-opacity: 1;\"/></g><g class=\"point\"><path d=\"M95.58,316V204.4H120.25V316Z\" style=\"vector-effect: non-scaling-stroke; opacity: 1; stroke-width: 0.5px; fill: rgb(237, 121, 83); fill-opacity: 1; stroke: rgb(229, 236, 246); stroke-opacity: 1;\"/></g><g class=\"point\"><path d=\"M126.42,316V205.07H151.08V316Z\" style=\"vector-effect: non-scaling-stroke; opacity: 1; stroke-width: 0.5px; fill: rgb(237, 121, 83); fill-opacity: 1; stroke: rgb(229, 236, 246); stroke-opacity: 1;\"/></g><g class=\"point\"><path d=\"M157.25,316V173.5H181.92V316Z\" style=\"vector-effect: non-scaling-stroke; opacity: 1; stroke-width: 0.5px; fill: rgb(237, 121, 83); fill-opacity: 1; stroke: rgb(229, 236, 246); stroke-opacity: 1;\"/></g><g class=\"point\"><path d=\"M188.08,316V158.05H212.75V316Z\" style=\"vector-effect: non-scaling-stroke; opacity: 1; stroke-width: 0.5px; fill: rgb(237, 121, 83); fill-opacity: 1; stroke: rgb(229, 236, 246); stroke-opacity: 1;\"/></g><g class=\"point\"><path d=\"M218.92,316V99.5H243.58V316Z\" style=\"vector-effect: non-scaling-stroke; opacity: 1; stroke-width: 0.5px; fill: rgb(237, 121, 83); fill-opacity: 1; stroke: rgb(229, 236, 246); stroke-opacity: 1;\"/></g><g class=\"point\"><path d=\"M249.75,316V116.75H274.42V316Z\" style=\"vector-effect: non-scaling-stroke; opacity: 1; stroke-width: 0.5px; fill: rgb(237, 121, 83); fill-opacity: 1; stroke: rgb(229, 236, 246); stroke-opacity: 1;\"/></g><g class=\"point\"><path d=\"M280.58,316V123.06H305.25V316Z\" style=\"vector-effect: non-scaling-stroke; opacity: 1; stroke-width: 0.5px; fill: rgb(237, 121, 83); fill-opacity: 1; stroke: rgb(229, 236, 246); stroke-opacity: 1;\"/></g><g class=\"point\"><path d=\"M311.42,316V116.25H336.08V316Z\" style=\"vector-effect: non-scaling-stroke; opacity: 1; stroke-width: 0.5px; fill: rgb(237, 121, 83); fill-opacity: 1; stroke: rgb(229, 236, 246); stroke-opacity: 1;\"/></g><g class=\"point\"><path d=\"M342.25,316V111.32H366.92V316Z\" style=\"vector-effect: non-scaling-stroke; opacity: 1; stroke-width: 0.5px; fill: rgb(237, 121, 83); fill-opacity: 1; stroke: rgb(229, 236, 246); stroke-opacity: 1;\"/></g><g class=\"point\"><path d=\"M373.08,316V98.37H397.75V316Z\" style=\"vector-effect: non-scaling-stroke; opacity: 1; stroke-width: 0.5px; fill: rgb(237, 121, 83); fill-opacity: 1; stroke: rgb(229, 236, 246); stroke-opacity: 1;\"/></g><g class=\"point\"><path d=\"M403.92,316V80.52H428.58V316Z\" style=\"vector-effect: non-scaling-stroke; opacity: 1; stroke-width: 0.5px; fill: rgb(237, 121, 83); fill-opacity: 1; stroke: rgb(229, 236, 246); stroke-opacity: 1;\"/></g><g class=\"point\"><path d=\"M434.75,316V15.8H459.42V316Z\" style=\"vector-effect: non-scaling-stroke; opacity: 1; stroke-width: 0.5px; fill: rgb(237, 121, 83); fill-opacity: 1; stroke: rgb(229, 236, 246); stroke-opacity: 1;\"/></g><g class=\"point\"><path d=\"M465.58,316V74.1H490.25V316Z\" style=\"vector-effect: non-scaling-stroke; opacity: 1; stroke-width: 0.5px; fill: rgb(237, 121, 83); fill-opacity: 1; stroke: rgb(229, 236, 246); stroke-opacity: 1;\"/></g><g class=\"point\"><path d=\"M496.42,316V100.56H521.08V316Z\" style=\"vector-effect: non-scaling-stroke; opacity: 1; stroke-width: 0.5px; fill: rgb(237, 121, 83); fill-opacity: 1; stroke: rgb(229, 236, 246); stroke-opacity: 1;\"/></g><g class=\"point\"><path d=\"M527.25,316V149.09H551.92V316Z\" style=\"vector-effect: non-scaling-stroke; opacity: 1; stroke-width: 0.5px; fill: rgb(237, 121, 83); fill-opacity: 1; stroke: rgb(229, 236, 246); stroke-opacity: 1;\"/></g><g class=\"point\"><path d=\"M558.08,316V182.42H582.75V316Z\" style=\"vector-effect: non-scaling-stroke; opacity: 1; stroke-width: 0.5px; fill: rgb(237, 121, 83); fill-opacity: 1; stroke: rgb(229, 236, 246); stroke-opacity: 1;\"/></g><g class=\"point\"><path d=\"M588.92,316V197.27H613.58V316Z\" style=\"vector-effect: non-scaling-stroke; opacity: 1; stroke-width: 0.5px; fill: rgb(237, 121, 83); fill-opacity: 1; stroke: rgb(229, 236, 246); stroke-opacity: 1;\"/></g><g class=\"point\"><path d=\"M619.75,316V207.12H644.42V316Z\" style=\"vector-effect: non-scaling-stroke; opacity: 1; stroke-width: 0.5px; fill: rgb(237, 121, 83); fill-opacity: 1; stroke: rgb(229, 236, 246); stroke-opacity: 1;\"/></g><g class=\"point\"><path d=\"M650.58,316V220.1H675.25V316Z\" style=\"vector-effect: non-scaling-stroke; opacity: 1; stroke-width: 0.5px; fill: rgb(237, 121, 83); fill-opacity: 1; stroke: rgb(229, 236, 246); stroke-opacity: 1;\"/></g><g class=\"point\"><path d=\"M681.42,316V235.54H706.08V316Z\" style=\"vector-effect: non-scaling-stroke; opacity: 1; stroke-width: 0.5px; fill: rgb(237, 121, 83); fill-opacity: 1; stroke: rgb(229, 236, 246); stroke-opacity: 1;\"/></g><g class=\"point\"><path d=\"M712.25,316V315.29H736.92V316Z\" style=\"vector-effect: non-scaling-stroke; opacity: 1; stroke-width: 0.5px; fill: rgb(237, 121, 83); fill-opacity: 1; stroke: rgb(229, 236, 246); stroke-opacity: 1;\"/></g></g></g></g></g><g class=\"overplot\"/><path class=\"xlines-above crisp\" d=\"M0,0\" style=\"fill: none;\"/><path class=\"ylines-above crisp\" d=\"M0,0\" style=\"fill: none;\"/><g class=\"overlines-above\"/><g class=\"xaxislayer-above\"><g class=\"xtick\"><text text-anchor=\"end\" x=\"-2.0999999999999996\" y=\"425.4\" transform=\"translate(95.42,0) rotate(-90,-2.0999999999999996,419.4)translate(0,-7.800000000000001)\" style=\"font-family: 'Open Sans', verdana, arial, sans-serif; font-size: 12px; fill: rgb(42, 63, 95); fill-opacity: 1; white-space: pre; opacity: 1;\"><tspan class=\"line\" dy=\"0em\" x=\"-2.0999999999999996\" y=\"425.4\">07-Dec</tspan><tspan class=\"line\" dy=\"1.3em\" x=\"-2.0999999999999996\" y=\"425.4\">Mon</tspan></text></g><g class=\"xtick\"><text text-anchor=\"end\" x=\"-2.0999999999999996\" y=\"425.4\" style=\"font-family: 'Open Sans', verdana, arial, sans-serif; font-size: 12px; fill: rgb(42, 63, 95); fill-opacity: 1; white-space: pre; opacity: 1;\" transform=\"translate(126.25,0) rotate(-90,-2.0999999999999996,419.4)translate(0,-7.800000000000001)\"><tspan class=\"line\" dy=\"0em\" x=\"-2.0999999999999996\" y=\"425.4\">08-Dec</tspan><tspan class=\"line\" dy=\"1.3em\" x=\"-2.0999999999999996\" y=\"425.4\">Tue</tspan></text></g><g class=\"xtick\"><text text-anchor=\"end\" x=\"-2.0999999999999996\" y=\"425.4\" style=\"font-family: 'Open Sans', verdana, arial, sans-serif; font-size: 12px; fill: rgb(42, 63, 95); fill-opacity: 1; white-space: pre; opacity: 1;\" transform=\"translate(157.07999999999998,0) rotate(-90,-2.0999999999999996,419.4)translate(0,-7.800000000000001)\"><tspan class=\"line\" dy=\"0em\" x=\"-2.0999999999999996\" y=\"425.4\">09-Dec</tspan><tspan class=\"line\" dy=\"1.3em\" x=\"-2.0999999999999996\" y=\"425.4\">Wed</tspan></text></g><g class=\"xtick\"><text text-anchor=\"end\" x=\"-2.0999999999999996\" y=\"425.4\" style=\"font-family: 'Open Sans', verdana, arial, sans-serif; font-size: 12px; fill: rgb(42, 63, 95); fill-opacity: 1; white-space: pre; opacity: 1;\" transform=\"translate(187.92000000000002,0) rotate(-90,-2.0999999999999996,419.4)translate(0,-7.800000000000001)\"><tspan class=\"line\" dy=\"0em\" x=\"-2.0999999999999996\" y=\"425.4\">10-Dec</tspan><tspan class=\"line\" dy=\"1.3em\" x=\"-2.0999999999999996\" y=\"425.4\">Thu</tspan></text></g><g class=\"xtick\"><text text-anchor=\"end\" x=\"-2.0999999999999996\" y=\"425.4\" style=\"font-family: 'Open Sans', verdana, arial, sans-serif; font-size: 12px; fill: rgb(42, 63, 95); fill-opacity: 1; white-space: pre; opacity: 1;\" transform=\"translate(218.75,0) rotate(-90,-2.0999999999999996,419.4)translate(0,-7.800000000000001)\"><tspan class=\"line\" dy=\"0em\" x=\"-2.0999999999999996\" y=\"425.4\">11-Dec</tspan><tspan class=\"line\" dy=\"1.3em\" x=\"-2.0999999999999996\" y=\"425.4\">Fri</tspan></text></g><g class=\"xtick\"><text text-anchor=\"end\" x=\"-2.0999999999999996\" y=\"425.4\" style=\"font-family: 'Open Sans', verdana, arial, sans-serif; font-size: 12px; fill: rgb(42, 63, 95); fill-opacity: 1; white-space: pre; opacity: 1;\" transform=\"translate(249.58,0) rotate(-90,-2.0999999999999996,419.4)translate(0,-7.800000000000001)\"><tspan class=\"line\" dy=\"0em\" x=\"-2.0999999999999996\" y=\"425.4\">12-Dec</tspan><tspan class=\"line\" dy=\"1.3em\" x=\"-2.0999999999999996\" y=\"425.4\">Sat</tspan></text></g><g class=\"xtick\"><text text-anchor=\"end\" x=\"-2.0999999999999996\" y=\"425.4\" style=\"font-family: 'Open Sans', verdana, arial, sans-serif; font-size: 12px; fill: rgb(42, 63, 95); fill-opacity: 1; white-space: pre; opacity: 1;\" transform=\"translate(280.41999999999996,0) rotate(-90,-2.0999999999999996,419.4)translate(0,-7.800000000000001)\"><tspan class=\"line\" dy=\"0em\" x=\"-2.0999999999999996\" y=\"425.4\">13-Dec</tspan><tspan class=\"line\" dy=\"1.3em\" x=\"-2.0999999999999996\" y=\"425.4\">Sun</tspan></text></g><g class=\"xtick\"><text text-anchor=\"end\" x=\"-2.0999999999999996\" y=\"425.4\" style=\"font-family: 'Open Sans', verdana, arial, sans-serif; font-size: 12px; fill: rgb(42, 63, 95); fill-opacity: 1; white-space: pre; opacity: 1;\" transform=\"translate(311.25,0) rotate(-90,-2.0999999999999996,419.4)translate(0,-7.800000000000001)\"><tspan class=\"line\" dy=\"0em\" x=\"-2.0999999999999996\" y=\"425.4\">14-Dec</tspan><tspan class=\"line\" dy=\"1.3em\" x=\"-2.0999999999999996\" y=\"425.4\">Mon</tspan></text></g><g class=\"xtick\"><text text-anchor=\"end\" x=\"-2.0999999999999996\" y=\"425.4\" style=\"font-family: 'Open Sans', verdana, arial, sans-serif; font-size: 12px; fill: rgb(42, 63, 95); fill-opacity: 1; white-space: pre; opacity: 1;\" transform=\"translate(342.08,0) rotate(-90,-2.0999999999999996,419.4)translate(0,-7.800000000000001)\"><tspan class=\"line\" dy=\"0em\" x=\"-2.0999999999999996\" y=\"425.4\">15-Dec</tspan><tspan class=\"line\" dy=\"1.3em\" x=\"-2.0999999999999996\" y=\"425.4\">Tue</tspan></text></g><g class=\"xtick\"><text text-anchor=\"end\" x=\"-2.0999999999999996\" y=\"425.4\" style=\"font-family: 'Open Sans', verdana, arial, sans-serif; font-size: 12px; fill: rgb(42, 63, 95); fill-opacity: 1; white-space: pre; opacity: 1;\" transform=\"translate(372.92,0) rotate(-90,-2.0999999999999996,419.4)translate(0,-7.800000000000001)\"><tspan class=\"line\" dy=\"0em\" x=\"-2.0999999999999996\" y=\"425.4\">16-Dec</tspan><tspan class=\"line\" dy=\"1.3em\" x=\"-2.0999999999999996\" y=\"425.4\">Wed</tspan></text></g><g class=\"xtick\"><text text-anchor=\"end\" x=\"-2.0999999999999996\" y=\"425.4\" style=\"font-family: 'Open Sans', verdana, arial, sans-serif; font-size: 12px; fill: rgb(42, 63, 95); fill-opacity: 1; white-space: pre; opacity: 1;\" transform=\"translate(403.75,0) rotate(-90,-2.0999999999999996,419.4)translate(0,-7.800000000000001)\"><tspan class=\"line\" dy=\"0em\" x=\"-2.0999999999999996\" y=\"425.4\">17-Dec</tspan><tspan class=\"line\" dy=\"1.3em\" x=\"-2.0999999999999996\" y=\"425.4\">Thu</tspan></text></g><g class=\"xtick\"><text text-anchor=\"end\" x=\"-2.0999999999999996\" y=\"425.4\" style=\"font-family: 'Open Sans', verdana, arial, sans-serif; font-size: 12px; fill: rgb(42, 63, 95); fill-opacity: 1; white-space: pre; opacity: 1;\" transform=\"translate(434.58,0) rotate(-90,-2.0999999999999996,419.4)translate(0,-7.800000000000001)\"><tspan class=\"line\" dy=\"0em\" x=\"-2.0999999999999996\" y=\"425.4\">18-Dec</tspan><tspan class=\"line\" dy=\"1.3em\" x=\"-2.0999999999999996\" y=\"425.4\">Fri</tspan></text></g><g class=\"xtick\"><text text-anchor=\"end\" x=\"-2.0999999999999996\" y=\"425.4\" style=\"font-family: 'Open Sans', verdana, arial, sans-serif; font-size: 12px; fill: rgb(42, 63, 95); fill-opacity: 1; white-space: pre; opacity: 1;\" transform=\"translate(465.42,0) rotate(-90,-2.0999999999999996,419.4)translate(0,-7.800000000000001)\"><tspan class=\"line\" dy=\"0em\" x=\"-2.0999999999999996\" y=\"425.4\">19-Dec</tspan><tspan class=\"line\" dy=\"1.3em\" x=\"-2.0999999999999996\" y=\"425.4\">Sat</tspan></text></g><g class=\"xtick\"><text text-anchor=\"end\" x=\"-2.0999999999999996\" y=\"425.4\" style=\"font-family: 'Open Sans', verdana, arial, sans-serif; font-size: 12px; fill: rgb(42, 63, 95); fill-opacity: 1; white-space: pre; opacity: 1;\" transform=\"translate(496.25,0) rotate(-90,-2.0999999999999996,419.4)translate(0,-7.800000000000001)\"><tspan class=\"line\" dy=\"0em\" x=\"-2.0999999999999996\" y=\"425.4\">20-Dec</tspan><tspan class=\"line\" dy=\"1.3em\" x=\"-2.0999999999999996\" y=\"425.4\">Sun</tspan></text></g><g class=\"xtick\"><text text-anchor=\"end\" x=\"-2.0999999999999996\" y=\"425.4\" style=\"font-family: 'Open Sans', verdana, arial, sans-serif; font-size: 12px; fill: rgb(42, 63, 95); fill-opacity: 1; white-space: pre; opacity: 1;\" transform=\"translate(527.0799999999999,0) rotate(-90,-2.0999999999999996,419.4)translate(0,-7.800000000000001)\"><tspan class=\"line\" dy=\"0em\" x=\"-2.0999999999999996\" y=\"425.4\">21-Dec</tspan><tspan class=\"line\" dy=\"1.3em\" x=\"-2.0999999999999996\" y=\"425.4\">Mon</tspan></text></g><g class=\"xtick\"><text text-anchor=\"end\" x=\"-2.0999999999999996\" y=\"425.4\" style=\"font-family: 'Open Sans', verdana, arial, sans-serif; font-size: 12px; fill: rgb(42, 63, 95); fill-opacity: 1; white-space: pre; opacity: 1;\" transform=\"translate(557.9200000000001,0) rotate(-90,-2.0999999999999996,419.4)translate(0,-7.800000000000001)\"><tspan class=\"line\" dy=\"0em\" x=\"-2.0999999999999996\" y=\"425.4\">22-Dec</tspan><tspan class=\"line\" dy=\"1.3em\" x=\"-2.0999999999999996\" y=\"425.4\">Tue</tspan></text></g><g class=\"xtick\"><text text-anchor=\"end\" x=\"-2.0999999999999996\" y=\"425.4\" style=\"font-family: 'Open Sans', verdana, arial, sans-serif; font-size: 12px; fill: rgb(42, 63, 95); fill-opacity: 1; white-space: pre; opacity: 1;\" transform=\"translate(588.75,0) rotate(-90,-2.0999999999999996,419.4)translate(0,-7.800000000000001)\"><tspan class=\"line\" dy=\"0em\" x=\"-2.0999999999999996\" y=\"425.4\">23-Dec</tspan><tspan class=\"line\" dy=\"1.3em\" x=\"-2.0999999999999996\" y=\"425.4\">Wed</tspan></text></g><g class=\"xtick\"><text text-anchor=\"end\" x=\"-2.0999999999999996\" y=\"425.4\" style=\"font-family: 'Open Sans', verdana, arial, sans-serif; font-size: 12px; fill: rgb(42, 63, 95); fill-opacity: 1; white-space: pre; opacity: 1;\" transform=\"translate(619.58,0) rotate(-90,-2.0999999999999996,419.4)translate(0,-7.800000000000001)\"><tspan class=\"line\" dy=\"0em\" x=\"-2.0999999999999996\" y=\"425.4\">24-Dec</tspan><tspan class=\"line\" dy=\"1.3em\" x=\"-2.0999999999999996\" y=\"425.4\">Thu</tspan></text></g><g class=\"xtick\"><text text-anchor=\"end\" x=\"-2.0999999999999996\" y=\"425.4\" style=\"font-family: 'Open Sans', verdana, arial, sans-serif; font-size: 12px; fill: rgb(42, 63, 95); fill-opacity: 1; white-space: pre; opacity: 1;\" transform=\"translate(650.42,0) rotate(-90,-2.0999999999999996,419.4)translate(0,-7.800000000000001)\"><tspan class=\"line\" dy=\"0em\" x=\"-2.0999999999999996\" y=\"425.4\">25-Dec</tspan><tspan class=\"line\" dy=\"1.3em\" x=\"-2.0999999999999996\" y=\"425.4\">Fri</tspan></text></g><g class=\"xtick\"><text text-anchor=\"end\" x=\"-2.0999999999999996\" y=\"425.4\" style=\"font-family: 'Open Sans', verdana, arial, sans-serif; font-size: 12px; fill: rgb(42, 63, 95); fill-opacity: 1; white-space: pre; opacity: 1;\" transform=\"translate(681.25,0) rotate(-90,-2.0999999999999996,419.4)translate(0,-7.800000000000001)\"><tspan class=\"line\" dy=\"0em\" x=\"-2.0999999999999996\" y=\"425.4\">26-Dec</tspan><tspan class=\"line\" dy=\"1.3em\" x=\"-2.0999999999999996\" y=\"425.4\">Sat</tspan></text></g><g class=\"xtick\"><text text-anchor=\"end\" x=\"-2.0999999999999996\" y=\"425.4\" style=\"font-family: 'Open Sans', verdana, arial, sans-serif; font-size: 12px; fill: rgb(42, 63, 95); fill-opacity: 1; white-space: pre; opacity: 1;\" transform=\"translate(712.08,0) rotate(-90,-2.0999999999999996,419.4)translate(0,-7.800000000000001)\"><tspan class=\"line\" dy=\"0em\" x=\"-2.0999999999999996\" y=\"425.4\">27-Dec</tspan><tspan class=\"line\" dy=\"1.3em\" x=\"-2.0999999999999996\" y=\"425.4\">Sun</tspan></text></g><g class=\"xtick\"><text text-anchor=\"end\" x=\"-2.0999999999999996\" y=\"425.4\" style=\"font-family: 'Open Sans', verdana, arial, sans-serif; font-size: 12px; fill: rgb(42, 63, 95); fill-opacity: 1; white-space: pre; opacity: 1;\" transform=\"translate(742.92,0) rotate(-90,-2.0999999999999996,419.4)translate(0,-7.800000000000001)\"><tspan class=\"line\" dy=\"0em\" x=\"-2.0999999999999996\" y=\"425.4\">28-Dec</tspan><tspan class=\"line\" dy=\"1.3em\" x=\"-2.0999999999999996\" y=\"425.4\">Mon</tspan></text></g><g class=\"xtick\"><text text-anchor=\"end\" x=\"-2.0999999999999996\" y=\"425.4\" style=\"font-family: 'Open Sans', verdana, arial, sans-serif; font-size: 12px; fill: rgb(42, 63, 95); fill-opacity: 1; white-space: pre; opacity: 1;\" transform=\"translate(773.75,0) rotate(-90,-2.0999999999999996,419.4)translate(0,-7.800000000000001)\"><tspan class=\"line\" dy=\"0em\" x=\"-2.0999999999999996\" y=\"425.4\">29-Dec</tspan><tspan class=\"line\" dy=\"1.3em\" x=\"-2.0999999999999996\" y=\"425.4\">Tue</tspan></text></g><g class=\"xtick\"><text text-anchor=\"end\" x=\"-2.0999999999999996\" y=\"425.4\" style=\"font-family: 'Open Sans', verdana, arial, sans-serif; font-size: 12px; fill: rgb(42, 63, 95); fill-opacity: 1; white-space: pre; opacity: 1;\" transform=\"translate(804.58,0) rotate(-90,-2.0999999999999996,419.4)translate(0,-7.800000000000001)\"><tspan class=\"line\" dy=\"0em\" x=\"-2.0999999999999996\" y=\"425.4\">30-Dec</tspan><tspan class=\"line\" dy=\"1.3em\" x=\"-2.0999999999999996\" y=\"425.4\">Wed</tspan></text></g></g><g class=\"yaxislayer-above\"><g class=\"ytick\"><text text-anchor=\"end\" x=\"79\" y=\"4.199999999999999\" transform=\"translate(0,416)\" style=\"font-family: 'Open Sans', verdana, arial, sans-serif; font-size: 12px; fill: rgb(42, 63, 95); fill-opacity: 1; white-space: pre; opacity: 1;\">0</text></g><g class=\"ytick\"><text text-anchor=\"end\" x=\"79\" y=\"4.199999999999999\" style=\"font-family: 'Open Sans', verdana, arial, sans-serif; font-size: 12px; fill: rgb(42, 63, 95); fill-opacity: 1; white-space: pre; opacity: 1;\" transform=\"translate(0,345.46000000000004)\">2000</text></g><g class=\"ytick\"><text text-anchor=\"end\" x=\"79\" y=\"4.199999999999999\" style=\"font-family: 'Open Sans', verdana, arial, sans-serif; font-size: 12px; fill: rgb(42, 63, 95); fill-opacity: 1; white-space: pre; opacity: 1;\" transform=\"translate(0,274.90999999999997)\">4000</text></g><g class=\"ytick\"><text text-anchor=\"end\" x=\"79\" y=\"4.199999999999999\" style=\"font-family: 'Open Sans', verdana, arial, sans-serif; font-size: 12px; fill: rgb(42, 63, 95); fill-opacity: 1; white-space: pre; opacity: 1;\" transform=\"translate(0,204.37)\">6000</text></g><g class=\"ytick\"><text text-anchor=\"end\" x=\"79\" y=\"4.199999999999999\" style=\"font-family: 'Open Sans', verdana, arial, sans-serif; font-size: 12px; fill: rgb(42, 63, 95); fill-opacity: 1; white-space: pre; opacity: 1;\" transform=\"translate(0,133.82)\">8000</text></g></g><g class=\"overaxes-above\"/></g></g><g class=\"polarlayer\"/><g class=\"ternarylayer\"/><g class=\"geolayer\"/><g class=\"funnelarealayer\"/><g class=\"pielayer\"/><g class=\"iciclelayer\"/><g class=\"treemaplayer\"/><g class=\"sunburstlayer\"/><g class=\"glimages\"/><defs id=\"topdefs-978f58\"><g class=\"clips\"/></defs><g class=\"layer-above\"><g class=\"imagelayer\"/><g class=\"shapelayer\"/></g><g class=\"infolayer\"><g class=\"g-gtitle\"><text class=\"gtitle\" x=\"45\" y=\"50\" text-anchor=\"start\" dy=\"0em\" style=\"font-family: 'Open Sans', verdana, arial, sans-serif; font-size: 20px; fill: rgb(42, 63, 95); opacity: 1; font-weight: normal; white-space: pre;\">Распределение событий по дням</text></g><g class=\"g-xtitle\"><text class=\"xtitle\" x=\"450\" y=\"487.5685546875\" text-anchor=\"middle\" style=\"font-family: 'Open Sans', verdana, arial, sans-serif; font-size: 14px; fill: rgb(42, 63, 95); opacity: 1; font-weight: normal; white-space: pre;\">День</text></g><g class=\"g-ytitle\"><text class=\"ytitle\" transform=\"rotate(-90,23.684375000000003,258)\" x=\"23.684375000000003\" y=\"258\" text-anchor=\"middle\" style=\"font-family: 'Open Sans', verdana, arial, sans-serif; font-size: 14px; fill: rgb(42, 63, 95); opacity: 1; font-weight: normal; white-space: pre;\">Число событий</text></g></g></svg>"
      ]
     },
     "metadata": {},
     "output_type": "display_data"
    }
   ],
   "source": [
    "day_stat = data.groupby(\n",
    "    pd.Grouper(key='event_dt', freq='d')).agg({'user_id':['count']}).reset_index()\n",
    "day_stat.columns = ['event_dt','events']\n",
    "\n",
    "fig = go.Figure([go.Bar(x=day_stat['event_dt'], \n",
    "                            y=day_stat['events'], marker_color=colors[6])])\n",
    "fig.update_layout(title_text='Распределение событий по дням', title_font_size=20,\n",
    "                  xaxis_title='День',\n",
    "                  yaxis_title=\"Число событий\")\n",
    "fig.update_xaxes(dtick=86400000.0, tickformat=\"%d-%b\\n%a\", tickangle = 270)\n",
    "\n",
    "fig.show(width=900, height=500, renderer='svg')"
   ]
  },
  {
   "cell_type": "markdown",
   "metadata": {},
   "source": [
    "До фильтрации распределение более равномерное. Это может быть связано с удалением из данных событий, совпадающих с маркетинговыми кампаниями. Другими словами, в массиве остались только события, совершенные в регионах, где кампании не проводились. Для корректности дальнейшего анализа удалим все записи после 24 декабря."
   ]
  },
  {
   "cell_type": "code",
   "execution_count": 28,
   "metadata": {},
   "outputs": [],
   "source": [
    "test_data = test_data[test_data['event_dt']<='2020-12-24']"
   ]
  },
  {
   "cell_type": "code",
   "execution_count": 29,
   "metadata": {},
   "outputs": [
    {
     "name": "stdout",
     "output_type": "stream",
     "text": [
      "<class 'pandas.core.frame.DataFrame'>\n",
      "Int64Index: 17837 entries, 0 to 27723\n",
      "Data columns (total 11 columns):\n",
      "user_id          17837 non-null object\n",
      "group            17837 non-null object\n",
      "ab_test          17837 non-null object\n",
      "event_dt         17837 non-null datetime64[ns]\n",
      "event_name       17837 non-null object\n",
      "details          2381 non-null float64\n",
      "first_date       17837 non-null datetime64[ns]\n",
      "region           17837 non-null object\n",
      "device           17837 non-null object\n",
      "m_event_name     17837 non-null object\n",
      "days_from_reg    17837 non-null timedelta64[ns]\n",
      "dtypes: datetime64[ns](2), float64(1), object(7), timedelta64[ns](1)\n",
      "memory usage: 1.6+ MB\n",
      "None\n"
     ]
    }
   ],
   "source": [
    "print(test_data.info())"
   ]
  },
  {
   "cell_type": "markdown",
   "metadata": {},
   "source": [
    "После фильтрации массива объем анализируемых данных составил 17837 событий."
   ]
  },
  {
   "cell_type": "markdown",
   "metadata": {},
   "source": [
    "## Анализ результатов эксперимента"
   ]
  },
  {
   "cell_type": "markdown",
   "metadata": {},
   "source": [
    "### Воронка событий"
   ]
  },
  {
   "cell_type": "markdown",
   "metadata": {},
   "source": [
    "Изучим виды и количество событий:"
   ]
  },
  {
   "cell_type": "code",
   "execution_count": 30,
   "metadata": {},
   "outputs": [
    {
     "data": {
      "text/plain": [
       "login           8105\n",
       "product_page    4971\n",
       "purchase        2381\n",
       "product_cart    2380\n",
       "Name: event_name, dtype: int64"
      ]
     },
     "execution_count": 30,
     "metadata": {},
     "output_type": "execute_result"
    }
   ],
   "source": [
    "test_data['event_name'].value_counts()"
   ]
  },
  {
   "cell_type": "markdown",
   "metadata": {},
   "source": [
    "Перекодируем названия воронки:"
   ]
  },
  {
   "cell_type": "code",
   "execution_count": 31,
   "metadata": {},
   "outputs": [],
   "source": [
    "events_dict = {'login':'Логин', \n",
    "               'product_page':'Заход на страницу продукта', \n",
    "               'product_cart':'Переход в корзину', \n",
    "               'purchase':'Покупка'}\n",
    "\n",
    "test_data['event_name'] = test_data['event_name'].map(lambda x : events_dict[str(x)])"
   ]
  },
  {
   "cell_type": "markdown",
   "metadata": {},
   "source": [
    "Изучим количество уникальных пользователей с каждым типом событий, а также посчитаем долю каждого из событий от всех уникальных юзеров в логе."
   ]
  },
  {
   "cell_type": "code",
   "execution_count": 32,
   "metadata": {},
   "outputs": [
    {
     "data": {
      "text/html": [
       "<div>\n",
       "<style scoped>\n",
       "    .dataframe tbody tr th:only-of-type {\n",
       "        vertical-align: middle;\n",
       "    }\n",
       "\n",
       "    .dataframe tbody tr th {\n",
       "        vertical-align: top;\n",
       "    }\n",
       "\n",
       "    .dataframe thead th {\n",
       "        text-align: right;\n",
       "    }\n",
       "</style>\n",
       "<table border=\"1\" class=\"dataframe\">\n",
       "  <thead>\n",
       "    <tr style=\"text-align: right;\">\n",
       "      <th></th>\n",
       "      <th>event_name</th>\n",
       "      <th>users</th>\n",
       "    </tr>\n",
       "  </thead>\n",
       "  <tbody>\n",
       "    <tr>\n",
       "      <td>0</td>\n",
       "      <td>Логин</td>\n",
       "      <td>3243</td>\n",
       "    </tr>\n",
       "    <tr>\n",
       "      <td>1</td>\n",
       "      <td>Заход на страницу продукта</td>\n",
       "      <td>2030</td>\n",
       "    </tr>\n",
       "    <tr>\n",
       "      <td>2</td>\n",
       "      <td>Переход в корзину</td>\n",
       "      <td>953</td>\n",
       "    </tr>\n",
       "    <tr>\n",
       "      <td>3</td>\n",
       "      <td>Покупка</td>\n",
       "      <td>999</td>\n",
       "    </tr>\n",
       "  </tbody>\n",
       "</table>\n",
       "</div>"
      ],
      "text/plain": [
       "                   event_name  users\n",
       "0                       Логин   3243\n",
       "1  Заход на страницу продукта   2030\n",
       "2           Переход в корзину    953\n",
       "3                     Покупка    999"
      ]
     },
     "metadata": {},
     "output_type": "display_data"
    }
   ],
   "source": [
    "event_types = test_data.groupby('event_name').agg({'user_id':['nunique']}).reset_index()\n",
    "event_types.columns = ['event_name', 'users']\n",
    "\n",
    "a = len(test_data['user_id'].unique())\n",
    "sorter = {'Логин': 0, 'Заход на страницу продукта': 1, 'Переход в корзину': 2, 'Покупка': 3}\n",
    "event_types = event_types.iloc[event_types['event_name'].map(sorter).argsort()].reset_index(drop=True)\n",
    "\n",
    "display(event_types)"
   ]
  },
  {
   "cell_type": "markdown",
   "metadata": {},
   "source": [
    "Посчитаем пользователей, купивших без перехода в корзину:"
   ]
  },
  {
   "cell_type": "code",
   "execution_count": 33,
   "metadata": {},
   "outputs": [
    {
     "name": "stdout",
     "output_type": "stream",
     "text": [
      "Купили, посетив корзину: 309\n",
      "Купили, не посетив корзину: 690\n"
     ]
    }
   ],
   "source": [
    "buyers = test_data.query('event_name == \"Покупка\"')['user_id'].unique()\n",
    "cart_visitors = test_data.query('event_name == \"Переход в корзину\"')['user_id'].unique()\n",
    "buyers_after_cart = len(list(set(buyers) & set(cart_visitors)))\n",
    "buyers_without_cart = len(list(set(buyers) - set(cart_visitors)))\n",
    "\n",
    "print('Купили, посетив корзину:', buyers_after_cart)\n",
    "print('Купили, не посетив корзину:', buyers_without_cart)"
   ]
  },
  {
   "cell_type": "markdown",
   "metadata": {},
   "source": [
    "По сути мы имеем дело с 2 воронками: с посещением корзины и без. Создадим соответствующие таблицы:"
   ]
  },
  {
   "cell_type": "code",
   "execution_count": 34,
   "metadata": {},
   "outputs": [
    {
     "data": {
      "text/html": [
       "<div>\n",
       "<style scoped>\n",
       "    .dataframe tbody tr th:only-of-type {\n",
       "        vertical-align: middle;\n",
       "    }\n",
       "\n",
       "    .dataframe tbody tr th {\n",
       "        vertical-align: top;\n",
       "    }\n",
       "\n",
       "    .dataframe thead th {\n",
       "        text-align: right;\n",
       "    }\n",
       "</style>\n",
       "<table border=\"1\" class=\"dataframe\">\n",
       "  <thead>\n",
       "    <tr style=\"text-align: right;\">\n",
       "      <th></th>\n",
       "      <th>event_name</th>\n",
       "      <th>users</th>\n",
       "      <th>percent</th>\n",
       "    </tr>\n",
       "  </thead>\n",
       "  <tbody>\n",
       "    <tr>\n",
       "      <td>0</td>\n",
       "      <td>Логин</td>\n",
       "      <td>3243</td>\n",
       "      <td>100.0%</td>\n",
       "    </tr>\n",
       "    <tr>\n",
       "      <td>1</td>\n",
       "      <td>Заход на страницу продукта</td>\n",
       "      <td>2030</td>\n",
       "      <td>62.6%</td>\n",
       "    </tr>\n",
       "    <tr>\n",
       "      <td>2</td>\n",
       "      <td>Переход в корзину</td>\n",
       "      <td>953</td>\n",
       "      <td>29.4%</td>\n",
       "    </tr>\n",
       "    <tr>\n",
       "      <td>3</td>\n",
       "      <td>Покупка</td>\n",
       "      <td>309</td>\n",
       "      <td>9.5%</td>\n",
       "    </tr>\n",
       "  </tbody>\n",
       "</table>\n",
       "</div>"
      ],
      "text/plain": [
       "                   event_name  users percent\n",
       "0                       Логин   3243  100.0%\n",
       "1  Заход на страницу продукта   2030   62.6%\n",
       "2           Переход в корзину    953   29.4%\n",
       "3                     Покупка    309    9.5%"
      ]
     },
     "metadata": {},
     "output_type": "display_data"
    },
    {
     "data": {
      "text/html": [
       "<div>\n",
       "<style scoped>\n",
       "    .dataframe tbody tr th:only-of-type {\n",
       "        vertical-align: middle;\n",
       "    }\n",
       "\n",
       "    .dataframe tbody tr th {\n",
       "        vertical-align: top;\n",
       "    }\n",
       "\n",
       "    .dataframe thead th {\n",
       "        text-align: right;\n",
       "    }\n",
       "</style>\n",
       "<table border=\"1\" class=\"dataframe\">\n",
       "  <thead>\n",
       "    <tr style=\"text-align: right;\">\n",
       "      <th></th>\n",
       "      <th>event_name</th>\n",
       "      <th>users</th>\n",
       "      <th>percent</th>\n",
       "    </tr>\n",
       "  </thead>\n",
       "  <tbody>\n",
       "    <tr>\n",
       "      <td>0</td>\n",
       "      <td>Логин</td>\n",
       "      <td>3243</td>\n",
       "      <td>100.0%</td>\n",
       "    </tr>\n",
       "    <tr>\n",
       "      <td>1</td>\n",
       "      <td>Заход на страницу продукта</td>\n",
       "      <td>2030</td>\n",
       "      <td>62.6%</td>\n",
       "    </tr>\n",
       "    <tr>\n",
       "      <td>3</td>\n",
       "      <td>Покупка</td>\n",
       "      <td>690</td>\n",
       "      <td>21.3%</td>\n",
       "    </tr>\n",
       "  </tbody>\n",
       "</table>\n",
       "</div>"
      ],
      "text/plain": [
       "                   event_name  users percent\n",
       "0                       Логин   3243  100.0%\n",
       "1  Заход на страницу продукта   2030   62.6%\n",
       "3                     Покупка    690   21.3%"
      ]
     },
     "metadata": {},
     "output_type": "display_data"
    }
   ],
   "source": [
    "event_types_cart = event_types\n",
    "event_types_cart.at[3,'users'] = buyers_after_cart  \n",
    "event_types_cart['percent'] = (event_types_cart['users']/a * 100).round(1).astype(str) + '%'\n",
    "\n",
    "display(event_types_cart)\n",
    "\n",
    "event_types_without_cart = event_types.drop([2], axis=0)\n",
    "event_types_without_cart.at[3,'users'] = buyers_without_cart  \n",
    "event_types_without_cart['percent'] = (event_types_without_cart['users']/a * 100).round(1).astype(str) + '%'\n",
    "\n",
    "display(event_types_without_cart)"
   ]
  },
  {
   "cell_type": "markdown",
   "metadata": {},
   "source": [
    "63% всех пользователей посещают продуктовые страницы, 29% попадает в корзину и 9.5% совершают покупку после посещения корзины. Также 21% покупают, не посещая корзину."
   ]
  },
  {
   "cell_type": "markdown",
   "metadata": {},
   "source": [
    "**Порядок событий в воронке**\n",
    "\n",
    "Полученная последовательность событий по убыванию их частоты не соответствует привычной этапности воронки продаж - \n",
    "от продуктовой страницы - через переход в корзину - к покупке: доля переходов в корзину оказалась ниже, чем доля покупок. \n",
    "Возможно, у пользователей есть возможность оплатить заказ без перехода в корзину. Необходимо обсудить возможные причины с продуктовой командой, но на данном этапе будем строить анализ по воронке: логин - заход на страницу продукта - переход в корзину - покупка."
   ]
  },
  {
   "cell_type": "markdown",
   "metadata": {},
   "source": [
    "### Конверсии воронки"
   ]
  },
  {
   "cell_type": "code",
   "execution_count": 35,
   "metadata": {},
   "outputs": [
    {
     "data": {
      "image/svg+xml": [
       "<svg class=\"main-svg\" xmlns=\"http://www.w3.org/2000/svg\" xmlns:xlink=\"http://www.w3.org/1999/xlink\" width=\"900\" height=\"500\" style=\"\" viewBox=\"0 0 900 500\"><rect x=\"0\" y=\"0\" width=\"900\" height=\"500\" style=\"fill: rgb(255, 255, 255); fill-opacity: 1;\"/><defs id=\"defs-171306\"><g class=\"clips\"><clipPath id=\"clip171306xyplot\" class=\"plotclip\"><rect width=\"629\" height=\"320\"/></clipPath><clipPath class=\"axesclip\" id=\"clip171306x\"><rect x=\"191\" y=\"0\" width=\"629\" height=\"500\"/></clipPath><clipPath class=\"axesclip\" id=\"clip171306y\"><rect x=\"0\" y=\"100\" width=\"900\" height=\"320\"/></clipPath><clipPath class=\"axesclip\" id=\"clip171306xy\"><rect x=\"191\" y=\"100\" width=\"629\" height=\"320\"/></clipPath></g><g class=\"gradients\"/><g class=\"patterns\"/></defs><g class=\"bglayer\"><rect class=\"bg\" x=\"191\" y=\"100\" width=\"629\" height=\"320\" style=\"fill: rgb(229, 236, 246); fill-opacity: 1; stroke-width: 0;\"/></g><g class=\"layer-below\"><g class=\"imagelayer\"/><g class=\"shapelayer\"/></g><g class=\"cartesianlayer\"><g class=\"subplot xy\"><g class=\"layer-subplot\"><g class=\"shapelayer\"/><g class=\"imagelayer\"/></g><g class=\"gridlayer\"><g class=\"x\"/><g class=\"y\"/></g><g class=\"zerolinelayer\"/><path class=\"xlines-below\"/><path class=\"ylines-below\"/><g class=\"overlines-below\"/><g class=\"xaxislayer-below\"/><g class=\"yaxislayer-below\"/><g class=\"overaxes-below\"/><g class=\"plot\" transform=\"translate(191,100)\" clip-path=\"url(#clip171306xyplot)\"><g class=\"funnellayer mlayer\"><g class=\"trace bars\" style=\"opacity: 1;\"><g class=\"regions\"><g class=\"region\"><path d=\"M31.45,72L137.32,88H491.68L597.55,72Z\" style=\"stroke-width: 0; fill: rgb(189, 55, 134); fill-opacity: 0.5;\"/></g><g class=\"region\"><path d=\"M137.32,152L231.32,168H397.68L491.68,152Z\" style=\"stroke-width: 0; fill: rgb(189, 55, 134); fill-opacity: 0.5;\"/></g><g class=\"region\"><path d=\"M231.32,232L287.53,248H341.47L397.68,232Z\" style=\"stroke-width: 0; fill: rgb(189, 55, 134); fill-opacity: 0.5;\"/></g><g class=\"region\"><path d=\"M0,0Z\" style=\"stroke-width: 0; fill: rgb(189, 55, 134); fill-opacity: 0.5;\"/></g></g><g class=\"points\"><g class=\"point\"><path d=\"M31.45,8V72H597.55V8Z\" style=\"vector-effect: non-scaling-stroke; fill: rgb(189, 55, 134); fill-opacity: 1; stroke: rgb(68, 68, 68); stroke-opacity: 1; stroke-width: 0px; opacity: 1;\"/><text class=\"bartext bartext-inside\" text-anchor=\"middle\" data-notex=\"1\" x=\"0\" y=\"0\" style=\"font-family: 'Open Sans', verdana, arial, sans-serif; font-size: 12px; fill: rgb(255, 255, 255); fill-opacity: 1; white-space: pre;\" transform=\"translate(314.5,36.9453125)\"><tspan class=\"line\" dy=\"0em\" x=\"0\" y=\"0\">3243</tspan><tspan class=\"line\" dy=\"1.3em\" x=\"0\" y=\"0\">100%</tspan></text></g><g class=\"point\"><path d=\"M137.32,88V152H491.68V88Z\" style=\"vector-effect: non-scaling-stroke; fill: rgb(189, 55, 134); fill-opacity: 1; stroke: rgb(68, 68, 68); stroke-opacity: 1; stroke-width: 0px; opacity: 1;\"/><text class=\"bartext bartext-inside\" text-anchor=\"middle\" data-notex=\"1\" x=\"0\" y=\"0\" style=\"font-family: 'Open Sans', verdana, arial, sans-serif; font-size: 12px; fill: rgb(255, 255, 255); fill-opacity: 1; white-space: pre;\" transform=\"translate(314.5,116.9453125)\"><tspan class=\"line\" dy=\"0em\" x=\"0\" y=\"0\">2030</tspan><tspan class=\"line\" dy=\"1.3em\" x=\"0\" y=\"0\">63%</tspan></text></g><g class=\"point\"><path d=\"M231.32,168V232H397.68V168Z\" style=\"vector-effect: non-scaling-stroke; fill: rgb(189, 55, 134); fill-opacity: 1; stroke: rgb(68, 68, 68); stroke-opacity: 1; stroke-width: 0px; opacity: 1;\"/><text class=\"bartext bartext-inside\" text-anchor=\"middle\" data-notex=\"1\" x=\"0\" y=\"0\" style=\"font-family: 'Open Sans', verdana, arial, sans-serif; font-size: 12px; fill: rgb(255, 255, 255); fill-opacity: 1; white-space: pre;\" transform=\"translate(314.5,196.9453125)\"><tspan class=\"line\" dy=\"0em\" x=\"0\" y=\"0\">953</tspan><tspan class=\"line\" dy=\"1.3em\" x=\"0\" y=\"0\">47%</tspan></text></g><g class=\"point\"><path d=\"M287.53,248V312H341.47V248Z\" style=\"vector-effect: non-scaling-stroke; fill: rgb(189, 55, 134); fill-opacity: 1; stroke: rgb(68, 68, 68); stroke-opacity: 1; stroke-width: 0px; opacity: 1;\"/><text class=\"bartext bartext-inside\" text-anchor=\"middle\" data-notex=\"1\" x=\"0\" y=\"0\" style=\"font-family: 'Open Sans', verdana, arial, sans-serif; font-size: 12px; fill: rgb(255, 255, 255); fill-opacity: 1; white-space: pre;\" transform=\"translate(314.5,276.9453125)\"><tspan class=\"line\" dy=\"0em\" x=\"0\" y=\"0\">309</tspan><tspan class=\"line\" dy=\"1.3em\" x=\"0\" y=\"0\">32%</tspan></text></g></g></g></g></g><g class=\"overplot\"/><path class=\"xlines-above crisp\" d=\"M0,0\" style=\"fill: none;\"/><path class=\"ylines-above crisp\" d=\"M0,0\" style=\"fill: none;\"/><g class=\"overlines-above\"/><g class=\"xaxislayer-above\"/><g class=\"yaxislayer-above\"><g class=\"ytick\"><text text-anchor=\"end\" x=\"190\" y=\"4.199999999999999\" transform=\"translate(0,380)\" style=\"font-family: 'Open Sans', verdana, arial, sans-serif; font-size: 12px; fill: rgb(42, 63, 95); fill-opacity: 1; white-space: pre; opacity: 1;\">Покупка</text></g><g class=\"ytick\"><text text-anchor=\"end\" x=\"190\" y=\"4.199999999999999\" transform=\"translate(0,300)\" style=\"font-family: 'Open Sans', verdana, arial, sans-serif; font-size: 12px; fill: rgb(42, 63, 95); fill-opacity: 1; white-space: pre; opacity: 1;\">Переход в корзину</text></g><g class=\"ytick\"><text text-anchor=\"end\" x=\"190\" y=\"4.199999999999999\" transform=\"translate(0,220)\" style=\"font-family: 'Open Sans', verdana, arial, sans-serif; font-size: 12px; fill: rgb(42, 63, 95); fill-opacity: 1; white-space: pre; opacity: 1;\">Заход на страницу продукта</text></g><g class=\"ytick\"><text text-anchor=\"end\" x=\"190\" y=\"4.199999999999999\" transform=\"translate(0,140)\" style=\"font-family: 'Open Sans', verdana, arial, sans-serif; font-size: 12px; fill: rgb(42, 63, 95); fill-opacity: 1; white-space: pre; opacity: 1;\">Логин</text></g></g><g class=\"overaxes-above\"/></g></g><g class=\"polarlayer\"/><g class=\"ternarylayer\"/><g class=\"geolayer\"/><g class=\"funnelarealayer\"/><g class=\"pielayer\"/><g class=\"iciclelayer\"/><g class=\"treemaplayer\"/><g class=\"sunburstlayer\"/><g class=\"glimages\"/><defs id=\"topdefs-171306\"><g class=\"clips\"/></defs><g class=\"layer-above\"><g class=\"imagelayer\"/><g class=\"shapelayer\"/></g><g class=\"infolayer\"><g class=\"g-gtitle\"><text class=\"gtitle\" x=\"45\" y=\"50\" text-anchor=\"start\" dy=\"0em\" style=\"font-family: 'Open Sans', verdana, arial, sans-serif; font-size: 20px; fill: rgb(42, 63, 95); opacity: 1; font-weight: normal; white-space: pre;\">Событийная воронка с корзиной</text></g><g class=\"g-ytitle\"/></g></svg>"
      ]
     },
     "metadata": {},
     "output_type": "display_data"
    },
    {
     "data": {
      "image/svg+xml": [
       "<svg class=\"main-svg\" xmlns=\"http://www.w3.org/2000/svg\" xmlns:xlink=\"http://www.w3.org/1999/xlink\" width=\"900\" height=\"500\" style=\"\" viewBox=\"0 0 900 500\"><rect x=\"0\" y=\"0\" width=\"900\" height=\"500\" style=\"fill: rgb(255, 255, 255); fill-opacity: 1;\"/><defs id=\"defs-29c969\"><g class=\"clips\"><clipPath id=\"clip29c969xyplot\" class=\"plotclip\"><rect width=\"629\" height=\"320\"/></clipPath><clipPath class=\"axesclip\" id=\"clip29c969x\"><rect x=\"191\" y=\"0\" width=\"629\" height=\"500\"/></clipPath><clipPath class=\"axesclip\" id=\"clip29c969y\"><rect x=\"0\" y=\"100\" width=\"900\" height=\"320\"/></clipPath><clipPath class=\"axesclip\" id=\"clip29c969xy\"><rect x=\"191\" y=\"100\" width=\"629\" height=\"320\"/></clipPath></g><g class=\"gradients\"/><g class=\"patterns\"/></defs><g class=\"bglayer\"><rect class=\"bg\" x=\"191\" y=\"100\" width=\"629\" height=\"320\" style=\"fill: rgb(229, 236, 246); fill-opacity: 1; stroke-width: 0;\"/></g><g class=\"layer-below\"><g class=\"imagelayer\"/><g class=\"shapelayer\"/></g><g class=\"cartesianlayer\"><g class=\"subplot xy\"><g class=\"layer-subplot\"><g class=\"shapelayer\"/><g class=\"imagelayer\"/></g><g class=\"gridlayer\"><g class=\"x\"/><g class=\"y\"/></g><g class=\"zerolinelayer\"/><path class=\"xlines-below\"/><path class=\"ylines-below\"/><g class=\"overlines-below\"/><g class=\"xaxislayer-below\"/><g class=\"yaxislayer-below\"/><g class=\"overaxes-below\"/><g class=\"plot\" transform=\"translate(191,100)\" clip-path=\"url(#clip29c969xyplot)\"><g class=\"funnellayer mlayer\"><g class=\"trace bars\" style=\"opacity: 1;\"><g class=\"regions\"><g class=\"region\"><path d=\"M31.45,96L137.32,117.33H491.68L597.55,96Z\" style=\"stroke-width: 0; fill: rgb(189, 55, 134); fill-opacity: 0.5;\"/></g><g class=\"region\"><path d=\"M137.32,202.67L254.28,224H374.72L491.68,202.67Z\" style=\"stroke-width: 0; fill: rgb(189, 55, 134); fill-opacity: 0.5;\"/></g><g class=\"region\"><path d=\"M0,0Z\" style=\"stroke-width: 0; fill: rgb(189, 55, 134); fill-opacity: 0.5;\"/></g></g><g class=\"points\"><g class=\"point\"><path d=\"M31.45,10.67V96H597.55V10.67Z\" style=\"vector-effect: non-scaling-stroke; fill: rgb(189, 55, 134); fill-opacity: 1; stroke: rgb(68, 68, 68); stroke-opacity: 1; stroke-width: 0px; opacity: 1;\"/><text class=\"bartext bartext-inside\" text-anchor=\"middle\" data-notex=\"1\" x=\"0\" y=\"0\" style=\"font-family: 'Open Sans', verdana, arial, sans-serif; font-size: 12px; fill: rgb(255, 255, 255); fill-opacity: 1; white-space: pre;\" transform=\"translate(314.5,50.2803125)\"><tspan class=\"line\" dy=\"0em\" x=\"0\" y=\"0\">3243</tspan><tspan class=\"line\" dy=\"1.3em\" x=\"0\" y=\"0\">100%</tspan></text></g><g class=\"point\"><path d=\"M137.32,117.33V202.67H491.68V117.33Z\" style=\"vector-effect: non-scaling-stroke; fill: rgb(189, 55, 134); fill-opacity: 1; stroke: rgb(68, 68, 68); stroke-opacity: 1; stroke-width: 0px; opacity: 1;\"/><text class=\"bartext bartext-inside\" text-anchor=\"middle\" data-notex=\"1\" x=\"0\" y=\"0\" style=\"font-family: 'Open Sans', verdana, arial, sans-serif; font-size: 12px; fill: rgb(255, 255, 255); fill-opacity: 1; white-space: pre;\" transform=\"translate(314.5,156.9453125)\"><tspan class=\"line\" dy=\"0em\" x=\"0\" y=\"0\">2030</tspan><tspan class=\"line\" dy=\"1.3em\" x=\"0\" y=\"0\">63%</tspan></text></g><g class=\"point\"><path d=\"M254.28,224V309.33H374.72V224Z\" style=\"vector-effect: non-scaling-stroke; fill: rgb(189, 55, 134); fill-opacity: 1; stroke: rgb(68, 68, 68); stroke-opacity: 1; stroke-width: 0px; opacity: 1;\"/><text class=\"bartext bartext-inside\" text-anchor=\"middle\" data-notex=\"1\" x=\"0\" y=\"0\" style=\"font-family: 'Open Sans', verdana, arial, sans-serif; font-size: 12px; fill: rgb(255, 255, 255); fill-opacity: 1; white-space: pre;\" transform=\"translate(314.5,263.61031249999996)\"><tspan class=\"line\" dy=\"0em\" x=\"0\" y=\"0\">690</tspan><tspan class=\"line\" dy=\"1.3em\" x=\"0\" y=\"0\">34%</tspan></text></g></g></g></g></g><g class=\"overplot\"/><path class=\"xlines-above crisp\" d=\"M0,0\" style=\"fill: none;\"/><path class=\"ylines-above crisp\" d=\"M0,0\" style=\"fill: none;\"/><g class=\"overlines-above\"/><g class=\"xaxislayer-above\"/><g class=\"yaxislayer-above\"><g class=\"ytick\"><text text-anchor=\"end\" x=\"190\" y=\"4.199999999999999\" transform=\"translate(0,366.67)\" style=\"font-family: 'Open Sans', verdana, arial, sans-serif; font-size: 12px; fill: rgb(42, 63, 95); fill-opacity: 1; white-space: pre; opacity: 1;\">Покупка</text></g><g class=\"ytick\"><text text-anchor=\"end\" x=\"190\" y=\"4.199999999999999\" transform=\"translate(0,260)\" style=\"font-family: 'Open Sans', verdana, arial, sans-serif; font-size: 12px; fill: rgb(42, 63, 95); fill-opacity: 1; white-space: pre; opacity: 1;\">Заход на страницу продукта</text></g><g class=\"ytick\"><text text-anchor=\"end\" x=\"190\" y=\"4.199999999999999\" transform=\"translate(0,153.32999999999998)\" style=\"font-family: 'Open Sans', verdana, arial, sans-serif; font-size: 12px; fill: rgb(42, 63, 95); fill-opacity: 1; white-space: pre; opacity: 1;\">Логин</text></g></g><g class=\"overaxes-above\"/></g></g><g class=\"polarlayer\"/><g class=\"ternarylayer\"/><g class=\"geolayer\"/><g class=\"funnelarealayer\"/><g class=\"pielayer\"/><g class=\"iciclelayer\"/><g class=\"treemaplayer\"/><g class=\"sunburstlayer\"/><g class=\"glimages\"/><defs id=\"topdefs-29c969\"><g class=\"clips\"/></defs><g class=\"layer-above\"><g class=\"imagelayer\"/><g class=\"shapelayer\"/></g><g class=\"infolayer\"><g class=\"g-gtitle\"><text class=\"gtitle\" x=\"45\" y=\"50\" text-anchor=\"start\" dy=\"0em\" style=\"font-family: 'Open Sans', verdana, arial, sans-serif; font-size: 20px; fill: rgb(42, 63, 95); opacity: 1; font-weight: normal; white-space: pre;\">Событийная воронка без корзины</text></g><g class=\"g-ytitle\"/></g></svg>"
      ]
     },
     "metadata": {},
     "output_type": "display_data"
    }
   ],
   "source": [
    "fig = go.Figure(go.Funnel(y = event_types_cart['event_name'],\n",
    "                          x = event_types_cart['users'],\n",
    "                          textposition = \"inside\", marker = {\"color\": colors[4]},\n",
    "                          textinfo = \"value+percent previous\",\n",
    "                         hoverinfo = \"percent previous+percent initial\"))\n",
    "fig.update_layout(title_text='Событийная воронка с корзиной', title_font_size=20)\n",
    "fig.show(width=900, height=500, renderer='svg')\n",
    "\n",
    "fig = go.Figure(go.Funnel(y = event_types_without_cart['event_name'],\n",
    "                          x = event_types_without_cart['users'],\n",
    "                          textposition = \"inside\", marker = {\"color\": colors[4]},\n",
    "                          textinfo = \"value+percent previous\",\n",
    "                         hoverinfo = \"percent previous+percent initial\"))\n",
    "fig.update_layout(title_text='Событийная воронка без корзины', title_font_size=20)\n",
    "fig.show(width=900, height=500, renderer='svg')"
   ]
  },
  {
   "cell_type": "markdown",
   "metadata": {},
   "source": [
    "Как было установлено ранее, 63% всех залогиненных пользователей попадают на страницу продукта. Из них 47% доходит до корзины, далее из них 32% совершают покупку. Также 34% из тех, кто посетил продуктовые страницы, покупают без перехода в корзину.\n",
    "Таким образом, большая часть пользователей теряется после посещения продуктовой страницы, не доходя до корзины или прямой покупки."
   ]
  },
  {
   "cell_type": "markdown",
   "metadata": {},
   "source": [
    "### Динамика конверсий воронки по группам"
   ]
  },
  {
   "cell_type": "markdown",
   "metadata": {},
   "source": [
    "Подготовим данные для дальнейшего анализа: создадим сводную таблицу, содержащую ежедневные и накопленные значения метрик посещений продуктовых страниц, авторизации на сайте, переходов в корзину, покупки и конверсии от числа залогиненных пользователей для каждой группы (A и B)."
   ]
  },
  {
   "cell_type": "code",
   "execution_count": 36,
   "metadata": {},
   "outputs": [
    {
     "data": {
      "text/html": [
       "<div>\n",
       "<style scoped>\n",
       "    .dataframe tbody tr th:only-of-type {\n",
       "        vertical-align: middle;\n",
       "    }\n",
       "\n",
       "    .dataframe tbody tr th {\n",
       "        vertical-align: top;\n",
       "    }\n",
       "\n",
       "    .dataframe thead th {\n",
       "        text-align: right;\n",
       "    }\n",
       "</style>\n",
       "<table border=\"1\" class=\"dataframe\">\n",
       "  <thead>\n",
       "    <tr style=\"text-align: right;\">\n",
       "      <th></th>\n",
       "      <th>date</th>\n",
       "      <th>product_page_A</th>\n",
       "      <th>product_page_B</th>\n",
       "      <th>login_A</th>\n",
       "      <th>login_B</th>\n",
       "      <th>product_cart_A</th>\n",
       "      <th>product_cart_B</th>\n",
       "      <th>purchase_A</th>\n",
       "      <th>purchase_B</th>\n",
       "      <th>cum_product_page_A</th>\n",
       "      <th>...</th>\n",
       "      <th>cum_product_cart_A</th>\n",
       "      <th>cum_product_cart_B</th>\n",
       "      <th>cum_purchase_A</th>\n",
       "      <th>cum_purchase_B</th>\n",
       "      <th>product_page_conversion_A</th>\n",
       "      <th>product_page_conversion_B</th>\n",
       "      <th>cart_conversion_A</th>\n",
       "      <th>cart_conversion_B</th>\n",
       "      <th>purchase_conversion_A</th>\n",
       "      <th>purchase_conversion_B</th>\n",
       "    </tr>\n",
       "  </thead>\n",
       "  <tbody>\n",
       "    <tr>\n",
       "      <td>0</td>\n",
       "      <td>2020-12-07</td>\n",
       "      <td>81</td>\n",
       "      <td>95</td>\n",
       "      <td>128</td>\n",
       "      <td>146</td>\n",
       "      <td>30</td>\n",
       "      <td>42</td>\n",
       "      <td>37</td>\n",
       "      <td>54</td>\n",
       "      <td>81</td>\n",
       "      <td>...</td>\n",
       "      <td>30</td>\n",
       "      <td>42</td>\n",
       "      <td>37</td>\n",
       "      <td>54</td>\n",
       "      <td>0.632812</td>\n",
       "      <td>0.650685</td>\n",
       "      <td>0.234375</td>\n",
       "      <td>0.287671</td>\n",
       "      <td>0.289062</td>\n",
       "      <td>0.369863</td>\n",
       "    </tr>\n",
       "    <tr>\n",
       "      <td>1</td>\n",
       "      <td>2020-12-08</td>\n",
       "      <td>99</td>\n",
       "      <td>55</td>\n",
       "      <td>145</td>\n",
       "      <td>104</td>\n",
       "      <td>34</td>\n",
       "      <td>32</td>\n",
       "      <td>33</td>\n",
       "      <td>30</td>\n",
       "      <td>180</td>\n",
       "      <td>...</td>\n",
       "      <td>64</td>\n",
       "      <td>74</td>\n",
       "      <td>70</td>\n",
       "      <td>84</td>\n",
       "      <td>0.659341</td>\n",
       "      <td>0.600000</td>\n",
       "      <td>0.234432</td>\n",
       "      <td>0.296000</td>\n",
       "      <td>0.256410</td>\n",
       "      <td>0.336000</td>\n",
       "    </tr>\n",
       "    <tr>\n",
       "      <td>2</td>\n",
       "      <td>2020-12-09</td>\n",
       "      <td>96</td>\n",
       "      <td>90</td>\n",
       "      <td>157</td>\n",
       "      <td>149</td>\n",
       "      <td>45</td>\n",
       "      <td>40</td>\n",
       "      <td>47</td>\n",
       "      <td>33</td>\n",
       "      <td>276</td>\n",
       "      <td>...</td>\n",
       "      <td>109</td>\n",
       "      <td>114</td>\n",
       "      <td>117</td>\n",
       "      <td>117</td>\n",
       "      <td>0.641860</td>\n",
       "      <td>0.601504</td>\n",
       "      <td>0.253488</td>\n",
       "      <td>0.285714</td>\n",
       "      <td>0.272093</td>\n",
       "      <td>0.293233</td>\n",
       "    </tr>\n",
       "    <tr>\n",
       "      <td>3</td>\n",
       "      <td>2020-12-10</td>\n",
       "      <td>85</td>\n",
       "      <td>62</td>\n",
       "      <td>145</td>\n",
       "      <td>116</td>\n",
       "      <td>41</td>\n",
       "      <td>32</td>\n",
       "      <td>42</td>\n",
       "      <td>22</td>\n",
       "      <td>361</td>\n",
       "      <td>...</td>\n",
       "      <td>150</td>\n",
       "      <td>146</td>\n",
       "      <td>159</td>\n",
       "      <td>139</td>\n",
       "      <td>0.627826</td>\n",
       "      <td>0.586408</td>\n",
       "      <td>0.260870</td>\n",
       "      <td>0.283495</td>\n",
       "      <td>0.276522</td>\n",
       "      <td>0.269903</td>\n",
       "    </tr>\n",
       "    <tr>\n",
       "      <td>4</td>\n",
       "      <td>2020-12-11</td>\n",
       "      <td>88</td>\n",
       "      <td>38</td>\n",
       "      <td>160</td>\n",
       "      <td>77</td>\n",
       "      <td>41</td>\n",
       "      <td>17</td>\n",
       "      <td>38</td>\n",
       "      <td>12</td>\n",
       "      <td>449</td>\n",
       "      <td>...</td>\n",
       "      <td>191</td>\n",
       "      <td>163</td>\n",
       "      <td>197</td>\n",
       "      <td>151</td>\n",
       "      <td>0.610884</td>\n",
       "      <td>0.574324</td>\n",
       "      <td>0.259864</td>\n",
       "      <td>0.275338</td>\n",
       "      <td>0.268027</td>\n",
       "      <td>0.255068</td>\n",
       "    </tr>\n",
       "  </tbody>\n",
       "</table>\n",
       "<p>5 rows × 23 columns</p>\n",
       "</div>"
      ],
      "text/plain": [
       "         date  product_page_A  product_page_B  login_A  login_B  \\\n",
       "0  2020-12-07              81              95      128      146   \n",
       "1  2020-12-08              99              55      145      104   \n",
       "2  2020-12-09              96              90      157      149   \n",
       "3  2020-12-10              85              62      145      116   \n",
       "4  2020-12-11              88              38      160       77   \n",
       "\n",
       "   product_cart_A  product_cart_B  purchase_A  purchase_B  cum_product_page_A  \\\n",
       "0              30              42          37          54                  81   \n",
       "1              34              32          33          30                 180   \n",
       "2              45              40          47          33                 276   \n",
       "3              41              32          42          22                 361   \n",
       "4              41              17          38          12                 449   \n",
       "\n",
       "   ...  cum_product_cart_A  cum_product_cart_B  cum_purchase_A  \\\n",
       "0  ...                  30                  42              37   \n",
       "1  ...                  64                  74              70   \n",
       "2  ...                 109                 114             117   \n",
       "3  ...                 150                 146             159   \n",
       "4  ...                 191                 163             197   \n",
       "\n",
       "   cum_purchase_B  product_page_conversion_A  product_page_conversion_B  \\\n",
       "0              54                   0.632812                   0.650685   \n",
       "1              84                   0.659341                   0.600000   \n",
       "2             117                   0.641860                   0.601504   \n",
       "3             139                   0.627826                   0.586408   \n",
       "4             151                   0.610884                   0.574324   \n",
       "\n",
       "   cart_conversion_A  cart_conversion_B  purchase_conversion_A  \\\n",
       "0           0.234375           0.287671               0.289062   \n",
       "1           0.234432           0.296000               0.256410   \n",
       "2           0.253488           0.285714               0.272093   \n",
       "3           0.260870           0.283495               0.276522   \n",
       "4           0.259864           0.275338               0.268027   \n",
       "\n",
       "   purchase_conversion_B  \n",
       "0               0.369863  \n",
       "1               0.336000  \n",
       "2               0.293233  \n",
       "3               0.269903  \n",
       "4               0.255068  \n",
       "\n",
       "[5 rows x 23 columns]"
      ]
     },
     "execution_count": 36,
     "metadata": {},
     "output_type": "execute_result"
    }
   ],
   "source": [
    "test_data['date'] = test_data['event_dt'].dt.date\n",
    "\n",
    "agg = test_data.pivot_table(\n",
    "    index=['date'], \n",
    "    columns=['event_name','group'],\n",
    "    values='user_id',\n",
    "    aggfunc='nunique').reset_index()\n",
    "\n",
    "agg.columns = ['date', 'product_page_A', 'product_page_B',\n",
    "               'login_A', 'login_B', \n",
    "               'product_cart_A', 'product_cart_B',\n",
    "               'purchase_A','purchase_B']\n",
    "\n",
    "agg['cum_product_page_A'] = agg[('product_page_A')].cumsum(axis=0)\n",
    "agg['cum_product_page_B'] = agg[('product_page_B')].cumsum(axis=0)\n",
    "agg['cum_login_A'] = agg[('login_A')].cumsum(axis=0)\n",
    "agg['cum_login_B'] = agg[('login_B')].cumsum(axis=0)\n",
    "agg['cum_product_cart_A'] = agg['product_cart_A'].cumsum(axis=0)\n",
    "agg['cum_product_cart_B'] = agg['product_cart_B'].cumsum(axis=0)\n",
    "agg['cum_purchase_A'] = agg['purchase_A'].cumsum(axis=0)\n",
    "agg['cum_purchase_B'] = agg['purchase_B'].cumsum(axis=0)\n",
    "\n",
    "agg['product_page_conversion_A'] = agg['cum_product_page_A']/agg['cum_login_A']\n",
    "agg['product_page_conversion_B'] = agg['cum_product_page_B']/agg['cum_login_B']\n",
    "agg['cart_conversion_A'] = agg['cum_product_cart_A']/agg['cum_login_A']\n",
    "agg['cart_conversion_B'] = agg['cum_product_cart_B']/agg['cum_login_B']\n",
    "agg['purchase_conversion_A'] = agg['cum_purchase_A']/agg['cum_login_A']\n",
    "agg['purchase_conversion_B'] = agg['cum_purchase_B']/agg['cum_login_B']\n",
    "\n",
    "agg.head()"
   ]
  },
  {
   "cell_type": "markdown",
   "metadata": {},
   "source": [
    "Построим графики кумулятивной конверсии по группам и график относительного изменения кумулятивной конверсии группы B к группе A."
   ]
  },
  {
   "cell_type": "code",
   "execution_count": 37,
   "metadata": {},
   "outputs": [],
   "source": [
    "def convertion_plot(conversion_A, conversion_B, metrics):\n",
    "    fig = go.Figure([go.Scatter(x=agg['date'], y=agg[conversion_A], name='A', marker = {\"color\": colors[4]})])\n",
    "    fig2 = go.Figure([go.Scatter(x=agg['date'], y=agg[conversion_B], name='B', marker = {\"color\": colors[7]})])\n",
    "    fig.add_trace(fig2.data[0])\n",
    "    fig.update_layout(title_text=metrics+' cumilative conversion', title_font_size=20,\n",
    "                      xaxis_title='date', width=700, height=350,\n",
    "                      yaxis_title=\"conversion\")\n",
    "    fig.show()\n",
    "\n",
    "    fig = go.Figure([go.Scatter(x=agg['date'], \n",
    "                                y=(agg[conversion_B]/agg[conversion_A]-1),\n",
    "                                marker = {\"color\": colors[2]})])\n",
    "    fig.add_trace(go.Scatter(x=['2020-12-06', '2020-12-23'], \n",
    "                             y=[0,0], mode=\"lines\", line_width=1, \n",
    "                             line_dash=\"dash\", line_color=\"black\"))\n",
    "    fig.update_layout(title_text=metrics+' conversion ratio', title_font_size=20,\n",
    "                      xaxis_title='date',\n",
    "                      yaxis_title=\"conversion ratio\", showlegend=False)\n",
    "    fig.show(width=700, height=350, renderer='svg')"
   ]
  },
  {
   "cell_type": "code",
   "execution_count": 38,
   "metadata": {},
   "outputs": [
    {
     "data": {
      "image/svg+xml": [
       "<svg class=\"main-svg\" xmlns=\"http://www.w3.org/2000/svg\" xmlns:xlink=\"http://www.w3.org/1999/xlink\" width=\"700\" height=\"350\" style=\"\" viewBox=\"0 0 700 350\"><rect x=\"0\" y=\"0\" width=\"700\" height=\"350\" style=\"fill: rgb(255, 255, 255); fill-opacity: 1;\"/><defs id=\"defs-305223\"><g class=\"clips\"><clipPath id=\"clip305223xyplot\" class=\"plotclip\"><rect width=\"540\" height=\"170\"/></clipPath><clipPath class=\"axesclip\" id=\"clip305223x\"><rect x=\"80\" y=\"0\" width=\"540\" height=\"350\"/></clipPath><clipPath class=\"axesclip\" id=\"clip305223y\"><rect x=\"0\" y=\"100\" width=\"700\" height=\"170\"/></clipPath><clipPath class=\"axesclip\" id=\"clip305223xy\"><rect x=\"80\" y=\"100\" width=\"540\" height=\"170\"/></clipPath></g><g class=\"gradients\"/><g class=\"patterns\"/></defs><g class=\"bglayer\"><rect class=\"bg\" x=\"80\" y=\"100\" width=\"540\" height=\"170\" style=\"fill: rgb(229, 236, 246); fill-opacity: 1; stroke-width: 0;\"/></g><g class=\"layer-below\"><g class=\"imagelayer\"/><g class=\"shapelayer\"/></g><g class=\"cartesianlayer\"><g class=\"subplot xy\"><g class=\"layer-subplot\"><g class=\"shapelayer\"/><g class=\"imagelayer\"/></g><g class=\"gridlayer\"><g class=\"x\"><path class=\"xgrid crisp\" transform=\"translate(170.56,0)\" d=\"M0,100v170\" style=\"stroke: rgb(255, 255, 255); stroke-opacity: 1; stroke-width: 1px;\"/><path class=\"xgrid crisp\" transform=\"translate(260.28,0)\" d=\"M0,100v170\" style=\"stroke: rgb(255, 255, 255); stroke-opacity: 1; stroke-width: 1px;\"/><path class=\"xgrid crisp\" transform=\"translate(350,0)\" d=\"M0,100v170\" style=\"stroke: rgb(255, 255, 255); stroke-opacity: 1; stroke-width: 1px;\"/><path class=\"xgrid crisp\" transform=\"translate(439.72,0)\" d=\"M0,100v170\" style=\"stroke: rgb(255, 255, 255); stroke-opacity: 1; stroke-width: 1px;\"/><path class=\"xgrid crisp\" transform=\"translate(529.44,0)\" d=\"M0,100v170\" style=\"stroke: rgb(255, 255, 255); stroke-opacity: 1; stroke-width: 1px;\"/></g><g class=\"y\"><path class=\"ygrid crisp\" transform=\"translate(0,233.76)\" d=\"M80,0h540\" style=\"stroke: rgb(255, 255, 255); stroke-opacity: 1; stroke-width: 1px;\"/><path class=\"ygrid crisp\" transform=\"translate(0,178.2)\" d=\"M80,0h540\" style=\"stroke: rgb(255, 255, 255); stroke-opacity: 1; stroke-width: 1px;\"/><path class=\"ygrid crisp\" transform=\"translate(0,122.63)\" d=\"M80,0h540\" style=\"stroke: rgb(255, 255, 255); stroke-opacity: 1; stroke-width: 1px;\"/></g></g><g class=\"zerolinelayer\"/><path class=\"xlines-below\"/><path class=\"ylines-below\"/><g class=\"overlines-below\"/><g class=\"xaxislayer-below\"/><g class=\"yaxislayer-below\"/><g class=\"overaxes-below\"/><g class=\"plot\" transform=\"translate(80,100)\" clip-path=\"url(#clip305223xyplot)\"><g class=\"scatterlayer mlayer\"><g class=\"trace scatter trace82b5ad\" style=\"stroke-miterlimit: 2; opacity: 1;\"><g class=\"fills\"/><g class=\"errorbars\"/><g class=\"lines\"><path class=\"js-line\" d=\"M30.75,41.73L60.66,12.25L90.56,31.68L120.47,47.27L150.38,66.1L180.28,73.46L210.19,77.98L240.09,66.95L270,58.24L299.91,56.41L329.81,51.82L359.72,41.89L389.62,37.29L419.53,37.01L449.44,33.35L479.34,32.73L509.25,33.43\" style=\"vector-effect: non-scaling-stroke; fill: none; stroke: rgb(189, 55, 134); stroke-opacity: 1; stroke-width: 2px; opacity: 1;\"/></g><g class=\"points\"><path class=\"point\" transform=\"translate(30.75,41.73)\" d=\"M3,0A3,3 0 1,1 0,-3A3,3 0 0,1 3,0Z\" style=\"opacity: 1; stroke-width: 0px; fill: rgb(189, 55, 134); fill-opacity: 1;\"/><path class=\"point\" transform=\"translate(60.66,12.25)\" d=\"M3,0A3,3 0 1,1 0,-3A3,3 0 0,1 3,0Z\" style=\"opacity: 1; stroke-width: 0px; fill: rgb(189, 55, 134); fill-opacity: 1;\"/><path class=\"point\" transform=\"translate(90.56,31.68)\" d=\"M3,0A3,3 0 1,1 0,-3A3,3 0 0,1 3,0Z\" style=\"opacity: 1; stroke-width: 0px; fill: rgb(189, 55, 134); fill-opacity: 1;\"/><path class=\"point\" transform=\"translate(120.47,47.27)\" d=\"M3,0A3,3 0 1,1 0,-3A3,3 0 0,1 3,0Z\" style=\"opacity: 1; stroke-width: 0px; fill: rgb(189, 55, 134); fill-opacity: 1;\"/><path class=\"point\" transform=\"translate(150.38,66.1)\" d=\"M3,0A3,3 0 1,1 0,-3A3,3 0 0,1 3,0Z\" style=\"opacity: 1; stroke-width: 0px; fill: rgb(189, 55, 134); fill-opacity: 1;\"/><path class=\"point\" transform=\"translate(180.28,73.46)\" d=\"M3,0A3,3 0 1,1 0,-3A3,3 0 0,1 3,0Z\" style=\"opacity: 1; stroke-width: 0px; fill: rgb(189, 55, 134); fill-opacity: 1;\"/><path class=\"point\" transform=\"translate(210.19,77.98)\" d=\"M3,0A3,3 0 1,1 0,-3A3,3 0 0,1 3,0Z\" style=\"opacity: 1; stroke-width: 0px; fill: rgb(189, 55, 134); fill-opacity: 1;\"/><path class=\"point\" transform=\"translate(240.09,66.95)\" d=\"M3,0A3,3 0 1,1 0,-3A3,3 0 0,1 3,0Z\" style=\"opacity: 1; stroke-width: 0px; fill: rgb(189, 55, 134); fill-opacity: 1;\"/><path class=\"point\" transform=\"translate(270,58.24)\" d=\"M3,0A3,3 0 1,1 0,-3A3,3 0 0,1 3,0Z\" style=\"opacity: 1; stroke-width: 0px; fill: rgb(189, 55, 134); fill-opacity: 1;\"/><path class=\"point\" transform=\"translate(299.91,56.41)\" d=\"M3,0A3,3 0 1,1 0,-3A3,3 0 0,1 3,0Z\" style=\"opacity: 1; stroke-width: 0px; fill: rgb(189, 55, 134); fill-opacity: 1;\"/><path class=\"point\" transform=\"translate(329.81,51.82)\" d=\"M3,0A3,3 0 1,1 0,-3A3,3 0 0,1 3,0Z\" style=\"opacity: 1; stroke-width: 0px; fill: rgb(189, 55, 134); fill-opacity: 1;\"/><path class=\"point\" transform=\"translate(359.72,41.89)\" d=\"M3,0A3,3 0 1,1 0,-3A3,3 0 0,1 3,0Z\" style=\"opacity: 1; stroke-width: 0px; fill: rgb(189, 55, 134); fill-opacity: 1;\"/><path class=\"point\" transform=\"translate(389.62,37.29)\" d=\"M3,0A3,3 0 1,1 0,-3A3,3 0 0,1 3,0Z\" style=\"opacity: 1; stroke-width: 0px; fill: rgb(189, 55, 134); fill-opacity: 1;\"/><path class=\"point\" transform=\"translate(419.53,37.01)\" d=\"M3,0A3,3 0 1,1 0,-3A3,3 0 0,1 3,0Z\" style=\"opacity: 1; stroke-width: 0px; fill: rgb(189, 55, 134); fill-opacity: 1;\"/><path class=\"point\" transform=\"translate(449.44,33.35)\" d=\"M3,0A3,3 0 1,1 0,-3A3,3 0 0,1 3,0Z\" style=\"opacity: 1; stroke-width: 0px; fill: rgb(189, 55, 134); fill-opacity: 1;\"/><path class=\"point\" transform=\"translate(479.34,32.73)\" d=\"M3,0A3,3 0 1,1 0,-3A3,3 0 0,1 3,0Z\" style=\"opacity: 1; stroke-width: 0px; fill: rgb(189, 55, 134); fill-opacity: 1;\"/><path class=\"point\" transform=\"translate(509.25,33.43)\" d=\"M3,0A3,3 0 1,1 0,-3A3,3 0 0,1 3,0Z\" style=\"opacity: 1; stroke-width: 0px; fill: rgb(189, 55, 134); fill-opacity: 1;\"/></g><g class=\"text\"/></g><g class=\"trace scatter trace59facd\" style=\"stroke-miterlimit: 2; opacity: 1;\"><g class=\"fills\"/><g class=\"errorbars\"/><g class=\"lines\"><path class=\"js-line\" d=\"M30.75,21.87L60.66,78.2L90.56,76.53L120.47,93.3L150.38,106.73L180.28,121.81L210.19,133.99L240.09,140.43L270,151.15L299.91,142.49L329.81,140.93L359.72,149.29L389.62,149.24L449.44,148.91L479.34,155.12L509.25,157.75\" style=\"vector-effect: non-scaling-stroke; fill: none; stroke: rgb(251, 159, 58); stroke-opacity: 1; stroke-width: 2px; opacity: 1;\"/></g><g class=\"points\"><path class=\"point\" transform=\"translate(30.75,21.87)\" d=\"M3,0A3,3 0 1,1 0,-3A3,3 0 0,1 3,0Z\" style=\"opacity: 1; stroke-width: 0px; fill: rgb(251, 159, 58); fill-opacity: 1;\"/><path class=\"point\" transform=\"translate(60.66,78.2)\" d=\"M3,0A3,3 0 1,1 0,-3A3,3 0 0,1 3,0Z\" style=\"opacity: 1; stroke-width: 0px; fill: rgb(251, 159, 58); fill-opacity: 1;\"/><path class=\"point\" transform=\"translate(90.56,76.53)\" d=\"M3,0A3,3 0 1,1 0,-3A3,3 0 0,1 3,0Z\" style=\"opacity: 1; stroke-width: 0px; fill: rgb(251, 159, 58); fill-opacity: 1;\"/><path class=\"point\" transform=\"translate(120.47,93.3)\" d=\"M3,0A3,3 0 1,1 0,-3A3,3 0 0,1 3,0Z\" style=\"opacity: 1; stroke-width: 0px; fill: rgb(251, 159, 58); fill-opacity: 1;\"/><path class=\"point\" transform=\"translate(150.38,106.73)\" d=\"M3,0A3,3 0 1,1 0,-3A3,3 0 0,1 3,0Z\" style=\"opacity: 1; stroke-width: 0px; fill: rgb(251, 159, 58); fill-opacity: 1;\"/><path class=\"point\" transform=\"translate(180.28,121.81)\" d=\"M3,0A3,3 0 1,1 0,-3A3,3 0 0,1 3,0Z\" style=\"opacity: 1; stroke-width: 0px; fill: rgb(251, 159, 58); fill-opacity: 1;\"/><path class=\"point\" transform=\"translate(210.19,133.99)\" d=\"M3,0A3,3 0 1,1 0,-3A3,3 0 0,1 3,0Z\" style=\"opacity: 1; stroke-width: 0px; fill: rgb(251, 159, 58); fill-opacity: 1;\"/><path class=\"point\" transform=\"translate(240.09,140.43)\" d=\"M3,0A3,3 0 1,1 0,-3A3,3 0 0,1 3,0Z\" style=\"opacity: 1; stroke-width: 0px; fill: rgb(251, 159, 58); fill-opacity: 1;\"/><path class=\"point\" transform=\"translate(270,151.15)\" d=\"M3,0A3,3 0 1,1 0,-3A3,3 0 0,1 3,0Z\" style=\"opacity: 1; stroke-width: 0px; fill: rgb(251, 159, 58); fill-opacity: 1;\"/><path class=\"point\" transform=\"translate(299.91,142.49)\" d=\"M3,0A3,3 0 1,1 0,-3A3,3 0 0,1 3,0Z\" style=\"opacity: 1; stroke-width: 0px; fill: rgb(251, 159, 58); fill-opacity: 1;\"/><path class=\"point\" transform=\"translate(329.81,140.93)\" d=\"M3,0A3,3 0 1,1 0,-3A3,3 0 0,1 3,0Z\" style=\"opacity: 1; stroke-width: 0px; fill: rgb(251, 159, 58); fill-opacity: 1;\"/><path class=\"point\" transform=\"translate(359.72,149.29)\" d=\"M3,0A3,3 0 1,1 0,-3A3,3 0 0,1 3,0Z\" style=\"opacity: 1; stroke-width: 0px; fill: rgb(251, 159, 58); fill-opacity: 1;\"/><path class=\"point\" transform=\"translate(389.62,149.24)\" d=\"M3,0A3,3 0 1,1 0,-3A3,3 0 0,1 3,0Z\" style=\"opacity: 1; stroke-width: 0px; fill: rgb(251, 159, 58); fill-opacity: 1;\"/><path class=\"point\" transform=\"translate(419.53,149.37)\" d=\"M3,0A3,3 0 1,1 0,-3A3,3 0 0,1 3,0Z\" style=\"opacity: 1; stroke-width: 0px; fill: rgb(251, 159, 58); fill-opacity: 1;\"/><path class=\"point\" transform=\"translate(449.44,148.91)\" d=\"M3,0A3,3 0 1,1 0,-3A3,3 0 0,1 3,0Z\" style=\"opacity: 1; stroke-width: 0px; fill: rgb(251, 159, 58); fill-opacity: 1;\"/><path class=\"point\" transform=\"translate(479.34,155.12)\" d=\"M3,0A3,3 0 1,1 0,-3A3,3 0 0,1 3,0Z\" style=\"opacity: 1; stroke-width: 0px; fill: rgb(251, 159, 58); fill-opacity: 1;\"/><path class=\"point\" transform=\"translate(509.25,157.75)\" d=\"M3,0A3,3 0 1,1 0,-3A3,3 0 0,1 3,0Z\" style=\"opacity: 1; stroke-width: 0px; fill: rgb(251, 159, 58); fill-opacity: 1;\"/></g><g class=\"text\"/></g></g></g><g class=\"overplot\"/><path class=\"xlines-above crisp\" d=\"M0,0\" style=\"fill: none;\"/><path class=\"ylines-above crisp\" d=\"M0,0\" style=\"fill: none;\"/><g class=\"overlines-above\"/><g class=\"xaxislayer-above\"><g class=\"xtick\"><text text-anchor=\"middle\" x=\"0\" y=\"283\" transform=\"translate(80.84,0)\" style=\"font-family: 'Open Sans', verdana, arial, sans-serif; font-size: 12px; fill: rgb(42, 63, 95); fill-opacity: 1; white-space: pre; opacity: 1;\"><tspan class=\"line\" dy=\"0em\" x=\"0\" y=\"283\">Dec 6</tspan><tspan class=\"line\" dy=\"1.3em\" x=\"0\" y=\"283\">2020</tspan></text></g><g class=\"xtick\"><text text-anchor=\"middle\" x=\"0\" y=\"283\" style=\"font-family: 'Open Sans', verdana, arial, sans-serif; font-size: 12px; fill: rgb(42, 63, 95); fill-opacity: 1; white-space: pre; opacity: 1;\" transform=\"translate(170.56,0)\">Dec 9</text></g><g class=\"xtick\"><text text-anchor=\"middle\" x=\"0\" y=\"283\" style=\"font-family: 'Open Sans', verdana, arial, sans-serif; font-size: 12px; fill: rgb(42, 63, 95); fill-opacity: 1; white-space: pre; opacity: 1;\" transform=\"translate(260.28,0)\">Dec 12</text></g><g class=\"xtick\"><text text-anchor=\"middle\" x=\"0\" y=\"283\" style=\"font-family: 'Open Sans', verdana, arial, sans-serif; font-size: 12px; fill: rgb(42, 63, 95); fill-opacity: 1; white-space: pre; opacity: 1;\" transform=\"translate(350,0)\">Dec 15</text></g><g class=\"xtick\"><text text-anchor=\"middle\" x=\"0\" y=\"283\" style=\"font-family: 'Open Sans', verdana, arial, sans-serif; font-size: 12px; fill: rgb(42, 63, 95); fill-opacity: 1; white-space: pre; opacity: 1;\" transform=\"translate(439.72,0)\">Dec 18</text></g><g class=\"xtick\"><text text-anchor=\"middle\" x=\"0\" y=\"283\" style=\"font-family: 'Open Sans', verdana, arial, sans-serif; font-size: 12px; fill: rgb(42, 63, 95); fill-opacity: 1; white-space: pre; opacity: 1;\" transform=\"translate(529.44,0)\">Dec 21</text></g><g class=\"xtick\"><text text-anchor=\"middle\" x=\"0\" y=\"283\" style=\"font-family: 'Open Sans', verdana, arial, sans-serif; font-size: 12px; fill: rgb(42, 63, 95); fill-opacity: 1; white-space: pre; opacity: 1;\" transform=\"translate(619.16,0)\">Dec 24</text></g></g><g class=\"yaxislayer-above\"><g class=\"ytick\"><text text-anchor=\"end\" x=\"79\" y=\"4.199999999999999\" transform=\"translate(0,233.76)\" style=\"font-family: 'Open Sans', verdana, arial, sans-serif; font-size: 12px; fill: rgb(42, 63, 95); fill-opacity: 1; white-space: pre; opacity: 1;\">0.55</text></g><g class=\"ytick\"><text text-anchor=\"end\" x=\"79\" y=\"4.199999999999999\" style=\"font-family: 'Open Sans', verdana, arial, sans-serif; font-size: 12px; fill: rgb(42, 63, 95); fill-opacity: 1; white-space: pre; opacity: 1;\" transform=\"translate(0,178.2)\">0.6</text></g><g class=\"ytick\"><text text-anchor=\"end\" x=\"79\" y=\"4.199999999999999\" style=\"font-family: 'Open Sans', verdana, arial, sans-serif; font-size: 12px; fill: rgb(42, 63, 95); fill-opacity: 1; white-space: pre; opacity: 1;\" transform=\"translate(0,122.63)\">0.65</text></g></g><g class=\"overaxes-above\"/></g></g><g class=\"polarlayer\"/><g class=\"ternarylayer\"/><g class=\"geolayer\"/><g class=\"funnelarealayer\"/><g class=\"pielayer\"/><g class=\"iciclelayer\"/><g class=\"treemaplayer\"/><g class=\"sunburstlayer\"/><g class=\"glimages\"/><defs id=\"topdefs-305223\"><g class=\"clips\"/><clipPath id=\"legend305223\"><rect width=\"54\" height=\"48\" x=\"0\" y=\"0\"/></clipPath></defs><g class=\"layer-above\"><g class=\"imagelayer\"/><g class=\"shapelayer\"/></g><g class=\"infolayer\"><g class=\"legend\" pointer-events=\"all\" transform=\"translate(630.8,100)\"><rect class=\"bg\" shape-rendering=\"crispEdges\" width=\"54\" height=\"48\" x=\"0\" y=\"0\" style=\"stroke: rgb(68, 68, 68); stroke-opacity: 1; fill: rgb(255, 255, 255); fill-opacity: 1; stroke-width: 0px;\"/><g class=\"scrollbox\" transform=\"\" clip-path=\"url(#legend305223)\"><g class=\"groups\"><g class=\"traces\" transform=\"translate(0,14.5)\" style=\"opacity: 1;\"><text class=\"legendtext\" text-anchor=\"start\" x=\"40\" y=\"4.680000000000001\" style=\"font-family: 'Open Sans', verdana, arial, sans-serif; font-size: 12px; fill: rgb(42, 63, 95); fill-opacity: 1; white-space: pre;\">A</text><g class=\"layers\" style=\"opacity: 1;\"><g class=\"legendfill\"/><g class=\"legendlines\"><path class=\"js-line\" d=\"M5,0h30\" style=\"fill: none; stroke: rgb(189, 55, 134); stroke-opacity: 1; stroke-width: 2px;\"/></g><g class=\"legendsymbols\"><g class=\"legendpoints\"><path class=\"scatterpts\" transform=\"translate(20,0)\" d=\"M3,0A3,3 0 1,1 0,-3A3,3 0 0,1 3,0Z\" style=\"opacity: 1; stroke-width: 0px; fill: rgb(189, 55, 134); fill-opacity: 1;\"/></g></g></g><rect class=\"legendtoggle\" x=\"0\" y=\"-9.5\" width=\"48.234375\" height=\"19\" style=\"fill: rgb(0, 0, 0); fill-opacity: 0;\"/></g><g class=\"traces\" transform=\"translate(0,33.5)\" style=\"opacity: 1;\"><text class=\"legendtext\" text-anchor=\"start\" x=\"40\" y=\"4.680000000000001\" style=\"font-family: 'Open Sans', verdana, arial, sans-serif; font-size: 12px; fill: rgb(42, 63, 95); fill-opacity: 1; white-space: pre;\">B</text><g class=\"layers\" style=\"opacity: 1;\"><g class=\"legendfill\"/><g class=\"legendlines\"><path class=\"js-line\" d=\"M5,0h30\" style=\"fill: none; stroke: rgb(251, 159, 58); stroke-opacity: 1; stroke-width: 2px;\"/></g><g class=\"legendsymbols\"><g class=\"legendpoints\"><path class=\"scatterpts\" transform=\"translate(20,0)\" d=\"M3,0A3,3 0 1,1 0,-3A3,3 0 0,1 3,0Z\" style=\"opacity: 1; stroke-width: 0px; fill: rgb(251, 159, 58); fill-opacity: 1;\"/></g></g></g><rect class=\"legendtoggle\" x=\"0\" y=\"-9.5\" width=\"48.234375\" height=\"19\" style=\"fill: rgb(0, 0, 0); fill-opacity: 0;\"/></g></g></g><rect class=\"scrollbar\" rx=\"20\" ry=\"3\" width=\"0\" height=\"0\" x=\"0\" y=\"0\" style=\"fill: rgb(128, 139, 164); fill-opacity: 1;\"/></g><g class=\"g-gtitle\"><text class=\"gtitle\" x=\"35\" y=\"50\" text-anchor=\"start\" dy=\"0em\" style=\"font-family: 'Open Sans', verdana, arial, sans-serif; font-size: 20px; fill: rgb(42, 63, 95); opacity: 1; font-weight: normal; white-space: pre;\">Product page cumilative conversion</text></g><g class=\"g-xtitle\"><text class=\"xtitle\" x=\"350\" y=\"325.909375\" text-anchor=\"middle\" style=\"font-family: 'Open Sans', verdana, arial, sans-serif; font-size: 14px; fill: rgb(42, 63, 95); opacity: 1; font-weight: normal; white-space: pre;\">date</text></g><g class=\"g-ytitle\"><text class=\"ytitle\" transform=\"rotate(-90,26.934375000000003,185)\" x=\"26.934375000000003\" y=\"185\" text-anchor=\"middle\" style=\"font-family: 'Open Sans', verdana, arial, sans-serif; font-size: 14px; fill: rgb(42, 63, 95); opacity: 1; font-weight: normal; white-space: pre;\">conversion</text></g></g></svg>"
      ]
     },
     "metadata": {},
     "output_type": "display_data"
    },
    {
     "data": {
      "image/svg+xml": [
       "<svg class=\"main-svg\" xmlns=\"http://www.w3.org/2000/svg\" xmlns:xlink=\"http://www.w3.org/1999/xlink\" width=\"700\" height=\"350\" style=\"\" viewBox=\"0 0 700 350\"><rect x=\"0\" y=\"0\" width=\"700\" height=\"350\" style=\"fill: rgb(255, 255, 255); fill-opacity: 1;\"/><defs id=\"defs-c30f0b\"><g class=\"clips\"><clipPath id=\"clipc30f0bxyplot\" class=\"plotclip\"><rect width=\"540\" height=\"170\"/></clipPath><clipPath class=\"axesclip\" id=\"clipc30f0bx\"><rect x=\"80\" y=\"0\" width=\"540\" height=\"350\"/></clipPath><clipPath class=\"axesclip\" id=\"clipc30f0by\"><rect x=\"0\" y=\"100\" width=\"700\" height=\"170\"/></clipPath><clipPath class=\"axesclip\" id=\"clipc30f0bxy\"><rect x=\"80\" y=\"100\" width=\"540\" height=\"170\"/></clipPath></g><g class=\"gradients\"/><g class=\"patterns\"/></defs><g class=\"bglayer\"><rect class=\"bg\" x=\"80\" y=\"100\" width=\"540\" height=\"170\" style=\"fill: rgb(229, 236, 246); fill-opacity: 1; stroke-width: 0;\"/></g><g class=\"layer-below\"><g class=\"imagelayer\"/><g class=\"shapelayer\"/></g><g class=\"cartesianlayer\"><g class=\"subplot xy\"><g class=\"layer-subplot\"><g class=\"shapelayer\"/><g class=\"imagelayer\"/></g><g class=\"gridlayer\"><g class=\"x\"><path class=\"xgrid crisp\" transform=\"translate(170.56,0)\" d=\"M0,100v170\" style=\"stroke: rgb(255, 255, 255); stroke-opacity: 1; stroke-width: 1px;\"/><path class=\"xgrid crisp\" transform=\"translate(260.28,0)\" d=\"M0,100v170\" style=\"stroke: rgb(255, 255, 255); stroke-opacity: 1; stroke-width: 1px;\"/><path class=\"xgrid crisp\" transform=\"translate(350,0)\" d=\"M0,100v170\" style=\"stroke: rgb(255, 255, 255); stroke-opacity: 1; stroke-width: 1px;\"/><path class=\"xgrid crisp\" transform=\"translate(439.72,0)\" d=\"M0,100v170\" style=\"stroke: rgb(255, 255, 255); stroke-opacity: 1; stroke-width: 1px;\"/><path class=\"xgrid crisp\" transform=\"translate(529.44,0)\" d=\"M0,100v170\" style=\"stroke: rgb(255, 255, 255); stroke-opacity: 1; stroke-width: 1px;\"/></g><g class=\"y\"><path class=\"ygrid crisp\" transform=\"translate(0,240.04)\" d=\"M80,0h540\" style=\"stroke: rgb(255, 255, 255); stroke-opacity: 1; stroke-width: 1px;\"/><path class=\"ygrid crisp\" transform=\"translate(0,204.19)\" d=\"M80,0h540\" style=\"stroke: rgb(255, 255, 255); stroke-opacity: 1; stroke-width: 1px;\"/><path class=\"ygrid crisp\" transform=\"translate(0,168.34)\" d=\"M80,0h540\" style=\"stroke: rgb(255, 255, 255); stroke-opacity: 1; stroke-width: 1px;\"/></g></g><g class=\"zerolinelayer\"><path class=\"yzl zl crisp\" transform=\"translate(0,132.5)\" d=\"M80,0h540\" style=\"stroke: rgb(255, 255, 255); stroke-opacity: 1; stroke-width: 2px;\"/></g><path class=\"xlines-below\"/><path class=\"ylines-below\"/><g class=\"overlines-below\"/><g class=\"xaxislayer-below\"/><g class=\"yaxislayer-below\"/><g class=\"overaxes-below\"/><g class=\"plot\" transform=\"translate(80,100)\" clip-path=\"url(#clipc30f0bxyplot)\"><g class=\"scatterlayer mlayer\"><g class=\"trace scatter traceb449f1\" style=\"stroke-miterlimit: 2; opacity: 1;\"><g class=\"fills\"/><g class=\"errorbars\"/><g class=\"lines\"><path class=\"js-line\" d=\"M30.75,12.25L60.66,97.02L90.56,77.57L120.47,79.79L150.38,75.4L210.19,92.69L240.09,110.2L270,129.49L299.91,122.12L329.81,124.67L359.72,142.01L389.62,145.91L419.53,146.27L449.44,148.91L479.34,155.68L509.25,157.75\" style=\"vector-effect: non-scaling-stroke; fill: none; stroke: rgb(114, 1, 168); stroke-opacity: 1; stroke-width: 2px; opacity: 1;\"/></g><g class=\"points\"><path class=\"point\" transform=\"translate(30.75,12.25)\" d=\"M3,0A3,3 0 1,1 0,-3A3,3 0 0,1 3,0Z\" style=\"opacity: 1; stroke-width: 0px; fill: rgb(114, 1, 168); fill-opacity: 1;\"/><path class=\"point\" transform=\"translate(60.66,97.02)\" d=\"M3,0A3,3 0 1,1 0,-3A3,3 0 0,1 3,0Z\" style=\"opacity: 1; stroke-width: 0px; fill: rgb(114, 1, 168); fill-opacity: 1;\"/><path class=\"point\" transform=\"translate(90.56,77.57)\" d=\"M3,0A3,3 0 1,1 0,-3A3,3 0 0,1 3,0Z\" style=\"opacity: 1; stroke-width: 0px; fill: rgb(114, 1, 168); fill-opacity: 1;\"/><path class=\"point\" transform=\"translate(120.47,79.79)\" d=\"M3,0A3,3 0 1,1 0,-3A3,3 0 0,1 3,0Z\" style=\"opacity: 1; stroke-width: 0px; fill: rgb(114, 1, 168); fill-opacity: 1;\"/><path class=\"point\" transform=\"translate(150.38,75.4)\" d=\"M3,0A3,3 0 1,1 0,-3A3,3 0 0,1 3,0Z\" style=\"opacity: 1; stroke-width: 0px; fill: rgb(114, 1, 168); fill-opacity: 1;\"/><path class=\"point\" transform=\"translate(180.28,84.11)\" d=\"M3,0A3,3 0 1,1 0,-3A3,3 0 0,1 3,0Z\" style=\"opacity: 1; stroke-width: 0px; fill: rgb(114, 1, 168); fill-opacity: 1;\"/><path class=\"point\" transform=\"translate(210.19,92.69)\" d=\"M3,0A3,3 0 1,1 0,-3A3,3 0 0,1 3,0Z\" style=\"opacity: 1; stroke-width: 0px; fill: rgb(114, 1, 168); fill-opacity: 1;\"/><path class=\"point\" transform=\"translate(240.09,110.2)\" d=\"M3,0A3,3 0 1,1 0,-3A3,3 0 0,1 3,0Z\" style=\"opacity: 1; stroke-width: 0px; fill: rgb(114, 1, 168); fill-opacity: 1;\"/><path class=\"point\" transform=\"translate(270,129.49)\" d=\"M3,0A3,3 0 1,1 0,-3A3,3 0 0,1 3,0Z\" style=\"opacity: 1; stroke-width: 0px; fill: rgb(114, 1, 168); fill-opacity: 1;\"/><path class=\"point\" transform=\"translate(299.91,122.12)\" d=\"M3,0A3,3 0 1,1 0,-3A3,3 0 0,1 3,0Z\" style=\"opacity: 1; stroke-width: 0px; fill: rgb(114, 1, 168); fill-opacity: 1;\"/><path class=\"point\" transform=\"translate(329.81,124.67)\" d=\"M3,0A3,3 0 1,1 0,-3A3,3 0 0,1 3,0Z\" style=\"opacity: 1; stroke-width: 0px; fill: rgb(114, 1, 168); fill-opacity: 1;\"/><path class=\"point\" transform=\"translate(359.72,142.01)\" d=\"M3,0A3,3 0 1,1 0,-3A3,3 0 0,1 3,0Z\" style=\"opacity: 1; stroke-width: 0px; fill: rgb(114, 1, 168); fill-opacity: 1;\"/><path class=\"point\" transform=\"translate(389.62,145.91)\" d=\"M3,0A3,3 0 1,1 0,-3A3,3 0 0,1 3,0Z\" style=\"opacity: 1; stroke-width: 0px; fill: rgb(114, 1, 168); fill-opacity: 1;\"/><path class=\"point\" transform=\"translate(419.53,146.27)\" d=\"M3,0A3,3 0 1,1 0,-3A3,3 0 0,1 3,0Z\" style=\"opacity: 1; stroke-width: 0px; fill: rgb(114, 1, 168); fill-opacity: 1;\"/><path class=\"point\" transform=\"translate(449.44,148.91)\" d=\"M3,0A3,3 0 1,1 0,-3A3,3 0 0,1 3,0Z\" style=\"opacity: 1; stroke-width: 0px; fill: rgb(114, 1, 168); fill-opacity: 1;\"/><path class=\"point\" transform=\"translate(479.34,155.68)\" d=\"M3,0A3,3 0 1,1 0,-3A3,3 0 0,1 3,0Z\" style=\"opacity: 1; stroke-width: 0px; fill: rgb(114, 1, 168); fill-opacity: 1;\"/><path class=\"point\" transform=\"translate(509.25,157.75)\" d=\"M3,0A3,3 0 1,1 0,-3A3,3 0 0,1 3,0Z\" style=\"opacity: 1; stroke-width: 0px; fill: rgb(114, 1, 168); fill-opacity: 1;\"/></g><g class=\"text\"/></g><g class=\"trace scatter tracec8450d\" style=\"stroke-miterlimit: 2; opacity: 1;\"><g class=\"fills\"/><g class=\"errorbars\"/><g class=\"lines\"><path class=\"js-line\" d=\"M0.84,32.5L509.25,32.5\" style=\"vector-effect: non-scaling-stroke; fill: none; stroke: rgb(0, 0, 0); stroke-opacity: 1; stroke-width: 1px; opacity: 1; stroke-dasharray: 9px, 9px;\"/></g><g class=\"points\"/><g class=\"text\"/></g></g></g><g class=\"overplot\"/><path class=\"xlines-above crisp\" d=\"M0,0\" style=\"fill: none;\"/><path class=\"ylines-above crisp\" d=\"M0,0\" style=\"fill: none;\"/><g class=\"overlines-above\"/><g class=\"xaxislayer-above\"><g class=\"xtick\"><text text-anchor=\"middle\" x=\"0\" y=\"283\" transform=\"translate(80.84,0)\" style=\"font-family: 'Open Sans', verdana, arial, sans-serif; font-size: 12px; fill: rgb(42, 63, 95); fill-opacity: 1; white-space: pre; opacity: 1;\"><tspan class=\"line\" dy=\"0em\" x=\"0\" y=\"283\">Dec 6</tspan><tspan class=\"line\" dy=\"1.3em\" x=\"0\" y=\"283\">2020</tspan></text></g><g class=\"xtick\"><text text-anchor=\"middle\" x=\"0\" y=\"283\" style=\"font-family: 'Open Sans', verdana, arial, sans-serif; font-size: 12px; fill: rgb(42, 63, 95); fill-opacity: 1; white-space: pre; opacity: 1;\" transform=\"translate(170.56,0)\">Dec 9</text></g><g class=\"xtick\"><text text-anchor=\"middle\" x=\"0\" y=\"283\" style=\"font-family: 'Open Sans', verdana, arial, sans-serif; font-size: 12px; fill: rgb(42, 63, 95); fill-opacity: 1; white-space: pre; opacity: 1;\" transform=\"translate(260.28,0)\">Dec 12</text></g><g class=\"xtick\"><text text-anchor=\"middle\" x=\"0\" y=\"283\" style=\"font-family: 'Open Sans', verdana, arial, sans-serif; font-size: 12px; fill: rgb(42, 63, 95); fill-opacity: 1; white-space: pre; opacity: 1;\" transform=\"translate(350,0)\">Dec 15</text></g><g class=\"xtick\"><text text-anchor=\"middle\" x=\"0\" y=\"283\" style=\"font-family: 'Open Sans', verdana, arial, sans-serif; font-size: 12px; fill: rgb(42, 63, 95); fill-opacity: 1; white-space: pre; opacity: 1;\" transform=\"translate(439.72,0)\">Dec 18</text></g><g class=\"xtick\"><text text-anchor=\"middle\" x=\"0\" y=\"283\" style=\"font-family: 'Open Sans', verdana, arial, sans-serif; font-size: 12px; fill: rgb(42, 63, 95); fill-opacity: 1; white-space: pre; opacity: 1;\" transform=\"translate(529.44,0)\">Dec 21</text></g><g class=\"xtick\"><text text-anchor=\"middle\" x=\"0\" y=\"283\" style=\"font-family: 'Open Sans', verdana, arial, sans-serif; font-size: 12px; fill: rgb(42, 63, 95); fill-opacity: 1; white-space: pre; opacity: 1;\" transform=\"translate(619.16,0)\">Dec 24</text></g></g><g class=\"yaxislayer-above\"><g class=\"ytick\"><text text-anchor=\"end\" x=\"79\" y=\"4.199999999999999\" transform=\"translate(0,240.04)\" style=\"font-family: 'Open Sans', verdana, arial, sans-serif; font-size: 12px; fill: rgb(42, 63, 95); fill-opacity: 1; white-space: pre; opacity: 1;\">−0.15</text></g><g class=\"ytick\"><text text-anchor=\"end\" x=\"79\" y=\"4.199999999999999\" style=\"font-family: 'Open Sans', verdana, arial, sans-serif; font-size: 12px; fill: rgb(42, 63, 95); fill-opacity: 1; white-space: pre; opacity: 1;\" transform=\"translate(0,204.19)\">−0.1</text></g><g class=\"ytick\"><text text-anchor=\"end\" x=\"79\" y=\"4.199999999999999\" style=\"font-family: 'Open Sans', verdana, arial, sans-serif; font-size: 12px; fill: rgb(42, 63, 95); fill-opacity: 1; white-space: pre; opacity: 1;\" transform=\"translate(0,168.34)\">−0.05</text></g><g class=\"ytick\"><text text-anchor=\"end\" x=\"79\" y=\"4.199999999999999\" style=\"font-family: 'Open Sans', verdana, arial, sans-serif; font-size: 12px; fill: rgb(42, 63, 95); fill-opacity: 1; white-space: pre; opacity: 1;\" transform=\"translate(0,132.5)\">0</text></g></g><g class=\"overaxes-above\"/></g></g><g class=\"polarlayer\"/><g class=\"ternarylayer\"/><g class=\"geolayer\"/><g class=\"funnelarealayer\"/><g class=\"pielayer\"/><g class=\"iciclelayer\"/><g class=\"treemaplayer\"/><g class=\"sunburstlayer\"/><g class=\"glimages\"/><defs id=\"topdefs-c30f0b\"><g class=\"clips\"/></defs><g class=\"layer-above\"><g class=\"imagelayer\"/><g class=\"shapelayer\"/></g><g class=\"infolayer\"><g class=\"g-gtitle\"><text class=\"gtitle\" x=\"35\" y=\"50\" text-anchor=\"start\" dy=\"0em\" style=\"font-family: 'Open Sans', verdana, arial, sans-serif; font-size: 20px; fill: rgb(42, 63, 95); opacity: 1; font-weight: normal; white-space: pre;\">Product page conversion ratio</text></g><g class=\"g-xtitle\"><text class=\"xtitle\" x=\"350\" y=\"325.909375\" text-anchor=\"middle\" style=\"font-family: 'Open Sans', verdana, arial, sans-serif; font-size: 14px; fill: rgb(42, 63, 95); opacity: 1; font-weight: normal; white-space: pre;\">date</text></g><g class=\"g-ytitle\"><text class=\"ytitle\" transform=\"rotate(-90,17.121875000000003,185)\" x=\"17.121875000000003\" y=\"185\" text-anchor=\"middle\" style=\"font-family: 'Open Sans', verdana, arial, sans-serif; font-size: 14px; fill: rgb(42, 63, 95); opacity: 1; font-weight: normal; white-space: pre;\">conversion ratio</text></g></g></svg>"
      ]
     },
     "metadata": {},
     "output_type": "display_data"
    },
    {
     "data": {
      "image/svg+xml": [
       "<svg class=\"main-svg\" xmlns=\"http://www.w3.org/2000/svg\" xmlns:xlink=\"http://www.w3.org/1999/xlink\" width=\"700\" height=\"350\" style=\"\" viewBox=\"0 0 700 350\"><rect x=\"0\" y=\"0\" width=\"700\" height=\"350\" style=\"fill: rgb(255, 255, 255); fill-opacity: 1;\"/><defs id=\"defs-1d3585\"><g class=\"clips\"><clipPath id=\"clip1d3585xyplot\" class=\"plotclip\"><rect width=\"540\" height=\"170\"/></clipPath><clipPath class=\"axesclip\" id=\"clip1d3585x\"><rect x=\"80\" y=\"0\" width=\"540\" height=\"350\"/></clipPath><clipPath class=\"axesclip\" id=\"clip1d3585y\"><rect x=\"0\" y=\"100\" width=\"700\" height=\"170\"/></clipPath><clipPath class=\"axesclip\" id=\"clip1d3585xy\"><rect x=\"80\" y=\"100\" width=\"540\" height=\"170\"/></clipPath></g><g class=\"gradients\"/><g class=\"patterns\"/></defs><g class=\"bglayer\"><rect class=\"bg\" x=\"80\" y=\"100\" width=\"540\" height=\"170\" style=\"fill: rgb(229, 236, 246); fill-opacity: 1; stroke-width: 0;\"/></g><g class=\"layer-below\"><g class=\"imagelayer\"/><g class=\"shapelayer\"/></g><g class=\"cartesianlayer\"><g class=\"subplot xy\"><g class=\"layer-subplot\"><g class=\"shapelayer\"/><g class=\"imagelayer\"/></g><g class=\"gridlayer\"><g class=\"x\"><path class=\"xgrid crisp\" transform=\"translate(170.56,0)\" d=\"M0,100v170\" style=\"stroke: rgb(255, 255, 255); stroke-opacity: 1; stroke-width: 1px;\"/><path class=\"xgrid crisp\" transform=\"translate(260.28,0)\" d=\"M0,100v170\" style=\"stroke: rgb(255, 255, 255); stroke-opacity: 1; stroke-width: 1px;\"/><path class=\"xgrid crisp\" transform=\"translate(350,0)\" d=\"M0,100v170\" style=\"stroke: rgb(255, 255, 255); stroke-opacity: 1; stroke-width: 1px;\"/><path class=\"xgrid crisp\" transform=\"translate(439.72,0)\" d=\"M0,100v170\" style=\"stroke: rgb(255, 255, 255); stroke-opacity: 1; stroke-width: 1px;\"/><path class=\"xgrid crisp\" transform=\"translate(529.44,0)\" d=\"M0,100v170\" style=\"stroke: rgb(255, 255, 255); stroke-opacity: 1; stroke-width: 1px;\"/></g><g class=\"y\"><path class=\"ygrid crisp\" transform=\"translate(0,246.7)\" d=\"M80,0h540\" style=\"stroke: rgb(255, 255, 255); stroke-opacity: 1; stroke-width: 1px;\"/><path class=\"ygrid crisp\" transform=\"translate(0,207.41)\" d=\"M80,0h540\" style=\"stroke: rgb(255, 255, 255); stroke-opacity: 1; stroke-width: 1px;\"/><path class=\"ygrid crisp\" transform=\"translate(0,168.11)\" d=\"M80,0h540\" style=\"stroke: rgb(255, 255, 255); stroke-opacity: 1; stroke-width: 1px;\"/><path class=\"ygrid crisp\" transform=\"translate(0,128.82)\" d=\"M80,0h540\" style=\"stroke: rgb(255, 255, 255); stroke-opacity: 1; stroke-width: 1px;\"/></g></g><g class=\"zerolinelayer\"/><path class=\"xlines-below\"/><path class=\"ylines-below\"/><g class=\"overlines-below\"/><g class=\"xaxislayer-below\"/><g class=\"yaxislayer-below\"/><g class=\"overaxes-below\"/><g class=\"plot\" transform=\"translate(80,100)\" clip-path=\"url(#clip1d3585xyplot)\"><g class=\"scatterlayer mlayer\"><g class=\"trace scatter traceae2333\" style=\"stroke-miterlimit: 2; opacity: 1;\"><g class=\"fills\"/><g class=\"errorbars\"/><g class=\"lines\"><path class=\"js-line\" d=\"M30.75,157.75L60.66,157.64L90.56,120.2L120.47,105.7L150.38,107.67L180.28,100.62L210.19,112.86L240.09,84.72L270,49.28L299.91,42.09L329.81,25.7L359.72,24.32L389.62,16.38L419.53,12.25L449.44,21.4L479.34,23.26L509.25,26.14\" style=\"vector-effect: non-scaling-stroke; fill: none; stroke: rgb(189, 55, 134); stroke-opacity: 1; stroke-width: 2px; opacity: 1;\"/></g><g class=\"points\"><path class=\"point\" transform=\"translate(30.75,157.75)\" d=\"M3,0A3,3 0 1,1 0,-3A3,3 0 0,1 3,0Z\" style=\"opacity: 1; stroke-width: 0px; fill: rgb(189, 55, 134); fill-opacity: 1;\"/><path class=\"point\" transform=\"translate(60.66,157.64)\" d=\"M3,0A3,3 0 1,1 0,-3A3,3 0 0,1 3,0Z\" style=\"opacity: 1; stroke-width: 0px; fill: rgb(189, 55, 134); fill-opacity: 1;\"/><path class=\"point\" transform=\"translate(90.56,120.2)\" d=\"M3,0A3,3 0 1,1 0,-3A3,3 0 0,1 3,0Z\" style=\"opacity: 1; stroke-width: 0px; fill: rgb(189, 55, 134); fill-opacity: 1;\"/><path class=\"point\" transform=\"translate(120.47,105.7)\" d=\"M3,0A3,3 0 1,1 0,-3A3,3 0 0,1 3,0Z\" style=\"opacity: 1; stroke-width: 0px; fill: rgb(189, 55, 134); fill-opacity: 1;\"/><path class=\"point\" transform=\"translate(150.38,107.67)\" d=\"M3,0A3,3 0 1,1 0,-3A3,3 0 0,1 3,0Z\" style=\"opacity: 1; stroke-width: 0px; fill: rgb(189, 55, 134); fill-opacity: 1;\"/><path class=\"point\" transform=\"translate(180.28,100.62)\" d=\"M3,0A3,3 0 1,1 0,-3A3,3 0 0,1 3,0Z\" style=\"opacity: 1; stroke-width: 0px; fill: rgb(189, 55, 134); fill-opacity: 1;\"/><path class=\"point\" transform=\"translate(210.19,112.86)\" d=\"M3,0A3,3 0 1,1 0,-3A3,3 0 0,1 3,0Z\" style=\"opacity: 1; stroke-width: 0px; fill: rgb(189, 55, 134); fill-opacity: 1;\"/><path class=\"point\" transform=\"translate(240.09,84.72)\" d=\"M3,0A3,3 0 1,1 0,-3A3,3 0 0,1 3,0Z\" style=\"opacity: 1; stroke-width: 0px; fill: rgb(189, 55, 134); fill-opacity: 1;\"/><path class=\"point\" transform=\"translate(270,49.28)\" d=\"M3,0A3,3 0 1,1 0,-3A3,3 0 0,1 3,0Z\" style=\"opacity: 1; stroke-width: 0px; fill: rgb(189, 55, 134); fill-opacity: 1;\"/><path class=\"point\" transform=\"translate(299.91,42.09)\" d=\"M3,0A3,3 0 1,1 0,-3A3,3 0 0,1 3,0Z\" style=\"opacity: 1; stroke-width: 0px; fill: rgb(189, 55, 134); fill-opacity: 1;\"/><path class=\"point\" transform=\"translate(329.81,25.7)\" d=\"M3,0A3,3 0 1,1 0,-3A3,3 0 0,1 3,0Z\" style=\"opacity: 1; stroke-width: 0px; fill: rgb(189, 55, 134); fill-opacity: 1;\"/><path class=\"point\" transform=\"translate(359.72,24.32)\" d=\"M3,0A3,3 0 1,1 0,-3A3,3 0 0,1 3,0Z\" style=\"opacity: 1; stroke-width: 0px; fill: rgb(189, 55, 134); fill-opacity: 1;\"/><path class=\"point\" transform=\"translate(389.62,16.38)\" d=\"M3,0A3,3 0 1,1 0,-3A3,3 0 0,1 3,0Z\" style=\"opacity: 1; stroke-width: 0px; fill: rgb(189, 55, 134); fill-opacity: 1;\"/><path class=\"point\" transform=\"translate(419.53,12.25)\" d=\"M3,0A3,3 0 1,1 0,-3A3,3 0 0,1 3,0Z\" style=\"opacity: 1; stroke-width: 0px; fill: rgb(189, 55, 134); fill-opacity: 1;\"/><path class=\"point\" transform=\"translate(449.44,21.4)\" d=\"M3,0A3,3 0 1,1 0,-3A3,3 0 0,1 3,0Z\" style=\"opacity: 1; stroke-width: 0px; fill: rgb(189, 55, 134); fill-opacity: 1;\"/><path class=\"point\" transform=\"translate(479.34,23.26)\" d=\"M3,0A3,3 0 1,1 0,-3A3,3 0 0,1 3,0Z\" style=\"opacity: 1; stroke-width: 0px; fill: rgb(189, 55, 134); fill-opacity: 1;\"/><path class=\"point\" transform=\"translate(509.25,26.14)\" d=\"M3,0A3,3 0 1,1 0,-3A3,3 0 0,1 3,0Z\" style=\"opacity: 1; stroke-width: 0px; fill: rgb(189, 55, 134); fill-opacity: 1;\"/></g><g class=\"text\"/></g><g class=\"trace scatter trace67dbde\" style=\"stroke-miterlimit: 2; opacity: 1;\"><g class=\"fills\"/><g class=\"errorbars\"/><g class=\"lines\"><path class=\"js-line\" d=\"M30.75,53.04L60.66,36.68L90.56,56.89L120.47,61.25L150.38,77.27L180.28,100.44L210.19,112.05L240.09,101.79L270,100.35L299.91,81.29L329.81,65.26L359.72,60.6L389.62,59.16L419.53,73.62L449.44,76.05L479.34,85.34L509.25,89.08\" style=\"vector-effect: non-scaling-stroke; fill: none; stroke: rgb(251, 159, 58); stroke-opacity: 1; stroke-width: 2px; opacity: 1;\"/></g><g class=\"points\"><path class=\"point\" transform=\"translate(30.75,53.04)\" d=\"M3,0A3,3 0 1,1 0,-3A3,3 0 0,1 3,0Z\" style=\"opacity: 1; stroke-width: 0px; fill: rgb(251, 159, 58); fill-opacity: 1;\"/><path class=\"point\" transform=\"translate(60.66,36.68)\" d=\"M3,0A3,3 0 1,1 0,-3A3,3 0 0,1 3,0Z\" style=\"opacity: 1; stroke-width: 0px; fill: rgb(251, 159, 58); fill-opacity: 1;\"/><path class=\"point\" transform=\"translate(90.56,56.89)\" d=\"M3,0A3,3 0 1,1 0,-3A3,3 0 0,1 3,0Z\" style=\"opacity: 1; stroke-width: 0px; fill: rgb(251, 159, 58); fill-opacity: 1;\"/><path class=\"point\" transform=\"translate(120.47,61.25)\" d=\"M3,0A3,3 0 1,1 0,-3A3,3 0 0,1 3,0Z\" style=\"opacity: 1; stroke-width: 0px; fill: rgb(251, 159, 58); fill-opacity: 1;\"/><path class=\"point\" transform=\"translate(150.38,77.27)\" d=\"M3,0A3,3 0 1,1 0,-3A3,3 0 0,1 3,0Z\" style=\"opacity: 1; stroke-width: 0px; fill: rgb(251, 159, 58); fill-opacity: 1;\"/><path class=\"point\" transform=\"translate(180.28,100.44)\" d=\"M3,0A3,3 0 1,1 0,-3A3,3 0 0,1 3,0Z\" style=\"opacity: 1; stroke-width: 0px; fill: rgb(251, 159, 58); fill-opacity: 1;\"/><path class=\"point\" transform=\"translate(210.19,112.05)\" d=\"M3,0A3,3 0 1,1 0,-3A3,3 0 0,1 3,0Z\" style=\"opacity: 1; stroke-width: 0px; fill: rgb(251, 159, 58); fill-opacity: 1;\"/><path class=\"point\" transform=\"translate(240.09,101.79)\" d=\"M3,0A3,3 0 1,1 0,-3A3,3 0 0,1 3,0Z\" style=\"opacity: 1; stroke-width: 0px; fill: rgb(251, 159, 58); fill-opacity: 1;\"/><path class=\"point\" transform=\"translate(270,100.35)\" d=\"M3,0A3,3 0 1,1 0,-3A3,3 0 0,1 3,0Z\" style=\"opacity: 1; stroke-width: 0px; fill: rgb(251, 159, 58); fill-opacity: 1;\"/><path class=\"point\" transform=\"translate(299.91,81.29)\" d=\"M3,0A3,3 0 1,1 0,-3A3,3 0 0,1 3,0Z\" style=\"opacity: 1; stroke-width: 0px; fill: rgb(251, 159, 58); fill-opacity: 1;\"/><path class=\"point\" transform=\"translate(329.81,65.26)\" d=\"M3,0A3,3 0 1,1 0,-3A3,3 0 0,1 3,0Z\" style=\"opacity: 1; stroke-width: 0px; fill: rgb(251, 159, 58); fill-opacity: 1;\"/><path class=\"point\" transform=\"translate(359.72,60.6)\" d=\"M3,0A3,3 0 1,1 0,-3A3,3 0 0,1 3,0Z\" style=\"opacity: 1; stroke-width: 0px; fill: rgb(251, 159, 58); fill-opacity: 1;\"/><path class=\"point\" transform=\"translate(389.62,59.16)\" d=\"M3,0A3,3 0 1,1 0,-3A3,3 0 0,1 3,0Z\" style=\"opacity: 1; stroke-width: 0px; fill: rgb(251, 159, 58); fill-opacity: 1;\"/><path class=\"point\" transform=\"translate(419.53,73.62)\" d=\"M3,0A3,3 0 1,1 0,-3A3,3 0 0,1 3,0Z\" style=\"opacity: 1; stroke-width: 0px; fill: rgb(251, 159, 58); fill-opacity: 1;\"/><path class=\"point\" transform=\"translate(449.44,76.05)\" d=\"M3,0A3,3 0 1,1 0,-3A3,3 0 0,1 3,0Z\" style=\"opacity: 1; stroke-width: 0px; fill: rgb(251, 159, 58); fill-opacity: 1;\"/><path class=\"point\" transform=\"translate(479.34,85.34)\" d=\"M3,0A3,3 0 1,1 0,-3A3,3 0 0,1 3,0Z\" style=\"opacity: 1; stroke-width: 0px; fill: rgb(251, 159, 58); fill-opacity: 1;\"/><path class=\"point\" transform=\"translate(509.25,89.08)\" d=\"M3,0A3,3 0 1,1 0,-3A3,3 0 0,1 3,0Z\" style=\"opacity: 1; stroke-width: 0px; fill: rgb(251, 159, 58); fill-opacity: 1;\"/></g><g class=\"text\"/></g></g></g><g class=\"overplot\"/><path class=\"xlines-above crisp\" d=\"M0,0\" style=\"fill: none;\"/><path class=\"ylines-above crisp\" d=\"M0,0\" style=\"fill: none;\"/><g class=\"overlines-above\"/><g class=\"xaxislayer-above\"><g class=\"xtick\"><text text-anchor=\"middle\" x=\"0\" y=\"283\" transform=\"translate(80.84,0)\" style=\"font-family: 'Open Sans', verdana, arial, sans-serif; font-size: 12px; fill: rgb(42, 63, 95); fill-opacity: 1; white-space: pre; opacity: 1;\"><tspan class=\"line\" dy=\"0em\" x=\"0\" y=\"283\">Dec 6</tspan><tspan class=\"line\" dy=\"1.3em\" x=\"0\" y=\"283\">2020</tspan></text></g><g class=\"xtick\"><text text-anchor=\"middle\" x=\"0\" y=\"283\" style=\"font-family: 'Open Sans', verdana, arial, sans-serif; font-size: 12px; fill: rgb(42, 63, 95); fill-opacity: 1; white-space: pre; opacity: 1;\" transform=\"translate(170.56,0)\">Dec 9</text></g><g class=\"xtick\"><text text-anchor=\"middle\" x=\"0\" y=\"283\" style=\"font-family: 'Open Sans', verdana, arial, sans-serif; font-size: 12px; fill: rgb(42, 63, 95); fill-opacity: 1; white-space: pre; opacity: 1;\" transform=\"translate(260.28,0)\">Dec 12</text></g><g class=\"xtick\"><text text-anchor=\"middle\" x=\"0\" y=\"283\" style=\"font-family: 'Open Sans', verdana, arial, sans-serif; font-size: 12px; fill: rgb(42, 63, 95); fill-opacity: 1; white-space: pre; opacity: 1;\" transform=\"translate(350,0)\">Dec 15</text></g><g class=\"xtick\"><text text-anchor=\"middle\" x=\"0\" y=\"283\" style=\"font-family: 'Open Sans', verdana, arial, sans-serif; font-size: 12px; fill: rgb(42, 63, 95); fill-opacity: 1; white-space: pre; opacity: 1;\" transform=\"translate(439.72,0)\">Dec 18</text></g><g class=\"xtick\"><text text-anchor=\"middle\" x=\"0\" y=\"283\" style=\"font-family: 'Open Sans', verdana, arial, sans-serif; font-size: 12px; fill: rgb(42, 63, 95); fill-opacity: 1; white-space: pre; opacity: 1;\" transform=\"translate(529.44,0)\">Dec 21</text></g><g class=\"xtick\"><text text-anchor=\"middle\" x=\"0\" y=\"283\" style=\"font-family: 'Open Sans', verdana, arial, sans-serif; font-size: 12px; fill: rgb(42, 63, 95); fill-opacity: 1; white-space: pre; opacity: 1;\" transform=\"translate(619.16,0)\">Dec 24</text></g></g><g class=\"yaxislayer-above\"><g class=\"ytick\"><text text-anchor=\"end\" x=\"79\" y=\"4.199999999999999\" transform=\"translate(0,246.7)\" style=\"font-family: 'Open Sans', verdana, arial, sans-serif; font-size: 12px; fill: rgb(42, 63, 95); fill-opacity: 1; white-space: pre; opacity: 1;\">0.24</text></g><g class=\"ytick\"><text text-anchor=\"end\" x=\"79\" y=\"4.199999999999999\" style=\"font-family: 'Open Sans', verdana, arial, sans-serif; font-size: 12px; fill: rgb(42, 63, 95); fill-opacity: 1; white-space: pre; opacity: 1;\" transform=\"translate(0,207.41)\">0.26</text></g><g class=\"ytick\"><text text-anchor=\"end\" x=\"79\" y=\"4.199999999999999\" style=\"font-family: 'Open Sans', verdana, arial, sans-serif; font-size: 12px; fill: rgb(42, 63, 95); fill-opacity: 1; white-space: pre; opacity: 1;\" transform=\"translate(0,168.11)\">0.28</text></g><g class=\"ytick\"><text text-anchor=\"end\" x=\"79\" y=\"4.199999999999999\" style=\"font-family: 'Open Sans', verdana, arial, sans-serif; font-size: 12px; fill: rgb(42, 63, 95); fill-opacity: 1; white-space: pre; opacity: 1;\" transform=\"translate(0,128.82)\">0.3</text></g></g><g class=\"overaxes-above\"/></g></g><g class=\"polarlayer\"/><g class=\"ternarylayer\"/><g class=\"geolayer\"/><g class=\"funnelarealayer\"/><g class=\"pielayer\"/><g class=\"iciclelayer\"/><g class=\"treemaplayer\"/><g class=\"sunburstlayer\"/><g class=\"glimages\"/><defs id=\"topdefs-1d3585\"><g class=\"clips\"/><clipPath id=\"legend1d3585\"><rect width=\"54\" height=\"48\" x=\"0\" y=\"0\"/></clipPath></defs><g class=\"layer-above\"><g class=\"imagelayer\"/><g class=\"shapelayer\"/></g><g class=\"infolayer\"><g class=\"legend\" pointer-events=\"all\" transform=\"translate(630.8,100)\"><rect class=\"bg\" shape-rendering=\"crispEdges\" width=\"54\" height=\"48\" x=\"0\" y=\"0\" style=\"stroke: rgb(68, 68, 68); stroke-opacity: 1; fill: rgb(255, 255, 255); fill-opacity: 1; stroke-width: 0px;\"/><g class=\"scrollbox\" transform=\"\" clip-path=\"url(#legend1d3585)\"><g class=\"groups\"><g class=\"traces\" transform=\"translate(0,14.5)\" style=\"opacity: 1;\"><text class=\"legendtext\" text-anchor=\"start\" x=\"40\" y=\"4.680000000000001\" style=\"font-family: 'Open Sans', verdana, arial, sans-serif; font-size: 12px; fill: rgb(42, 63, 95); fill-opacity: 1; white-space: pre;\">A</text><g class=\"layers\" style=\"opacity: 1;\"><g class=\"legendfill\"/><g class=\"legendlines\"><path class=\"js-line\" d=\"M5,0h30\" style=\"fill: none; stroke: rgb(189, 55, 134); stroke-opacity: 1; stroke-width: 2px;\"/></g><g class=\"legendsymbols\"><g class=\"legendpoints\"><path class=\"scatterpts\" transform=\"translate(20,0)\" d=\"M3,0A3,3 0 1,1 0,-3A3,3 0 0,1 3,0Z\" style=\"opacity: 1; stroke-width: 0px; fill: rgb(189, 55, 134); fill-opacity: 1;\"/></g></g></g><rect class=\"legendtoggle\" x=\"0\" y=\"-9.5\" width=\"48.234375\" height=\"19\" style=\"fill: rgb(0, 0, 0); fill-opacity: 0;\"/></g><g class=\"traces\" transform=\"translate(0,33.5)\" style=\"opacity: 1;\"><text class=\"legendtext\" text-anchor=\"start\" x=\"40\" y=\"4.680000000000001\" style=\"font-family: 'Open Sans', verdana, arial, sans-serif; font-size: 12px; fill: rgb(42, 63, 95); fill-opacity: 1; white-space: pre;\">B</text><g class=\"layers\" style=\"opacity: 1;\"><g class=\"legendfill\"/><g class=\"legendlines\"><path class=\"js-line\" d=\"M5,0h30\" style=\"fill: none; stroke: rgb(251, 159, 58); stroke-opacity: 1; stroke-width: 2px;\"/></g><g class=\"legendsymbols\"><g class=\"legendpoints\"><path class=\"scatterpts\" transform=\"translate(20,0)\" d=\"M3,0A3,3 0 1,1 0,-3A3,3 0 0,1 3,0Z\" style=\"opacity: 1; stroke-width: 0px; fill: rgb(251, 159, 58); fill-opacity: 1;\"/></g></g></g><rect class=\"legendtoggle\" x=\"0\" y=\"-9.5\" width=\"48.234375\" height=\"19\" style=\"fill: rgb(0, 0, 0); fill-opacity: 0;\"/></g></g></g><rect class=\"scrollbar\" rx=\"20\" ry=\"3\" width=\"0\" height=\"0\" x=\"0\" y=\"0\" style=\"fill: rgb(128, 139, 164); fill-opacity: 1;\"/></g><g class=\"g-gtitle\"><text class=\"gtitle\" x=\"35\" y=\"50\" text-anchor=\"start\" dy=\"0em\" style=\"font-family: 'Open Sans', verdana, arial, sans-serif; font-size: 20px; fill: rgb(42, 63, 95); opacity: 1; font-weight: normal; white-space: pre;\">Cart cumilative conversion</text></g><g class=\"g-xtitle\"><text class=\"xtitle\" x=\"350\" y=\"325.909375\" text-anchor=\"middle\" style=\"font-family: 'Open Sans', verdana, arial, sans-serif; font-size: 14px; fill: rgb(42, 63, 95); opacity: 1; font-weight: normal; white-space: pre;\">date</text></g><g class=\"g-ytitle\"><text class=\"ytitle\" transform=\"rotate(-90,26.934375000000003,185)\" x=\"26.934375000000003\" y=\"185\" text-anchor=\"middle\" style=\"font-family: 'Open Sans', verdana, arial, sans-serif; font-size: 14px; fill: rgb(42, 63, 95); opacity: 1; font-weight: normal; white-space: pre;\">conversion</text></g></g></svg>"
      ]
     },
     "metadata": {},
     "output_type": "display_data"
    },
    {
     "data": {
      "image/svg+xml": [
       "<svg class=\"main-svg\" xmlns=\"http://www.w3.org/2000/svg\" xmlns:xlink=\"http://www.w3.org/1999/xlink\" width=\"700\" height=\"350\" style=\"\" viewBox=\"0 0 700 350\"><rect x=\"0\" y=\"0\" width=\"700\" height=\"350\" style=\"fill: rgb(255, 255, 255); fill-opacity: 1;\"/><defs id=\"defs-d82cc8\"><g class=\"clips\"><clipPath id=\"clipd82cc8xyplot\" class=\"plotclip\"><rect width=\"540\" height=\"170\"/></clipPath><clipPath class=\"axesclip\" id=\"clipd82cc8x\"><rect x=\"80\" y=\"0\" width=\"540\" height=\"350\"/></clipPath><clipPath class=\"axesclip\" id=\"clipd82cc8y\"><rect x=\"0\" y=\"100\" width=\"700\" height=\"170\"/></clipPath><clipPath class=\"axesclip\" id=\"clipd82cc8xy\"><rect x=\"80\" y=\"100\" width=\"540\" height=\"170\"/></clipPath></g><g class=\"gradients\"/><g class=\"patterns\"/></defs><g class=\"bglayer\"><rect class=\"bg\" x=\"80\" y=\"100\" width=\"540\" height=\"170\" style=\"fill: rgb(229, 236, 246); fill-opacity: 1; stroke-width: 0;\"/></g><g class=\"layer-below\"><g class=\"imagelayer\"/><g class=\"shapelayer\"/></g><g class=\"cartesianlayer\"><g class=\"subplot xy\"><g class=\"layer-subplot\"><g class=\"shapelayer\"/><g class=\"imagelayer\"/></g><g class=\"gridlayer\"><g class=\"x\"><path class=\"xgrid crisp\" transform=\"translate(170.56,0)\" d=\"M0,100v170\" style=\"stroke: rgb(255, 255, 255); stroke-opacity: 1; stroke-width: 1px;\"/><path class=\"xgrid crisp\" transform=\"translate(260.28,0)\" d=\"M0,100v170\" style=\"stroke: rgb(255, 255, 255); stroke-opacity: 1; stroke-width: 1px;\"/><path class=\"xgrid crisp\" transform=\"translate(350,0)\" d=\"M0,100v170\" style=\"stroke: rgb(255, 255, 255); stroke-opacity: 1; stroke-width: 1px;\"/><path class=\"xgrid crisp\" transform=\"translate(439.72,0)\" d=\"M0,100v170\" style=\"stroke: rgb(255, 255, 255); stroke-opacity: 1; stroke-width: 1px;\"/><path class=\"xgrid crisp\" transform=\"translate(529.44,0)\" d=\"M0,100v170\" style=\"stroke: rgb(255, 255, 255); stroke-opacity: 1; stroke-width: 1px;\"/></g><g class=\"y\"><path class=\"ygrid crisp\" transform=\"translate(0,255.26)\" d=\"M80,0h540\" style=\"stroke: rgb(255, 255, 255); stroke-opacity: 1; stroke-width: 1px;\"/><path class=\"ygrid crisp\" transform=\"translate(0,176.39)\" d=\"M80,0h540\" style=\"stroke: rgb(255, 255, 255); stroke-opacity: 1; stroke-width: 1px;\"/><path class=\"ygrid crisp\" transform=\"translate(0,136.95)\" d=\"M80,0h540\" style=\"stroke: rgb(255, 255, 255); stroke-opacity: 1; stroke-width: 1px;\"/></g></g><g class=\"zerolinelayer\"><path class=\"yzl zl crisp\" transform=\"translate(0,215.82999999999998)\" d=\"M80,0h540\" style=\"stroke: rgb(255, 255, 255); stroke-opacity: 1; stroke-width: 2px;\"/></g><path class=\"xlines-below\"/><path class=\"ylines-below\"/><g class=\"overlines-below\"/><g class=\"xaxislayer-below\"/><g class=\"yaxislayer-below\"/><g class=\"overaxes-below\"/><g class=\"plot\" transform=\"translate(80,100)\" clip-path=\"url(#clipd82cc8xyplot)\"><g class=\"scatterlayer mlayer\"><g class=\"trace scatter trace6526de\" style=\"stroke-miterlimit: 2; opacity: 1;\"><g class=\"fills\"/><g class=\"errorbars\"/><g class=\"lines\"><path class=\"js-line\" d=\"M30.75,26.14L60.66,12.25L90.56,65.69L120.47,81.62L150.38,92.34L180.28,115.69L210.19,115.2L240.09,128.44L270,151.23L299.91,142.66L329.81,142.16L359.72,139.92L389.62,143.86L419.53,155.77L449.44,151.94L479.34,156.98L509.25,157.75\" style=\"vector-effect: non-scaling-stroke; fill: none; stroke: rgb(114, 1, 168); stroke-opacity: 1; stroke-width: 2px; opacity: 1;\"/></g><g class=\"points\"><path class=\"point\" transform=\"translate(30.75,26.14)\" d=\"M3,0A3,3 0 1,1 0,-3A3,3 0 0,1 3,0Z\" style=\"opacity: 1; stroke-width: 0px; fill: rgb(114, 1, 168); fill-opacity: 1;\"/><path class=\"point\" transform=\"translate(60.66,12.25)\" d=\"M3,0A3,3 0 1,1 0,-3A3,3 0 0,1 3,0Z\" style=\"opacity: 1; stroke-width: 0px; fill: rgb(114, 1, 168); fill-opacity: 1;\"/><path class=\"point\" transform=\"translate(90.56,65.69)\" d=\"M3,0A3,3 0 1,1 0,-3A3,3 0 0,1 3,0Z\" style=\"opacity: 1; stroke-width: 0px; fill: rgb(114, 1, 168); fill-opacity: 1;\"/><path class=\"point\" transform=\"translate(120.47,81.62)\" d=\"M3,0A3,3 0 1,1 0,-3A3,3 0 0,1 3,0Z\" style=\"opacity: 1; stroke-width: 0px; fill: rgb(114, 1, 168); fill-opacity: 1;\"/><path class=\"point\" transform=\"translate(150.38,92.34)\" d=\"M3,0A3,3 0 1,1 0,-3A3,3 0 0,1 3,0Z\" style=\"opacity: 1; stroke-width: 0px; fill: rgb(114, 1, 168); fill-opacity: 1;\"/><path class=\"point\" transform=\"translate(180.28,115.69)\" d=\"M3,0A3,3 0 1,1 0,-3A3,3 0 0,1 3,0Z\" style=\"opacity: 1; stroke-width: 0px; fill: rgb(114, 1, 168); fill-opacity: 1;\"/><path class=\"point\" transform=\"translate(210.19,115.2)\" d=\"M3,0A3,3 0 1,1 0,-3A3,3 0 0,1 3,0Z\" style=\"opacity: 1; stroke-width: 0px; fill: rgb(114, 1, 168); fill-opacity: 1;\"/><path class=\"point\" transform=\"translate(240.09,128.44)\" d=\"M3,0A3,3 0 1,1 0,-3A3,3 0 0,1 3,0Z\" style=\"opacity: 1; stroke-width: 0px; fill: rgb(114, 1, 168); fill-opacity: 1;\"/><path class=\"point\" transform=\"translate(270,151.23)\" d=\"M3,0A3,3 0 1,1 0,-3A3,3 0 0,1 3,0Z\" style=\"opacity: 1; stroke-width: 0px; fill: rgb(114, 1, 168); fill-opacity: 1;\"/><path class=\"point\" transform=\"translate(299.91,142.66)\" d=\"M3,0A3,3 0 1,1 0,-3A3,3 0 0,1 3,0Z\" style=\"opacity: 1; stroke-width: 0px; fill: rgb(114, 1, 168); fill-opacity: 1;\"/><path class=\"point\" transform=\"translate(329.81,142.16)\" d=\"M3,0A3,3 0 1,1 0,-3A3,3 0 0,1 3,0Z\" style=\"opacity: 1; stroke-width: 0px; fill: rgb(114, 1, 168); fill-opacity: 1;\"/><path class=\"point\" transform=\"translate(359.72,139.92)\" d=\"M3,0A3,3 0 1,1 0,-3A3,3 0 0,1 3,0Z\" style=\"opacity: 1; stroke-width: 0px; fill: rgb(114, 1, 168); fill-opacity: 1;\"/><path class=\"point\" transform=\"translate(389.62,143.86)\" d=\"M3,0A3,3 0 1,1 0,-3A3,3 0 0,1 3,0Z\" style=\"opacity: 1; stroke-width: 0px; fill: rgb(114, 1, 168); fill-opacity: 1;\"/><path class=\"point\" transform=\"translate(419.53,155.77)\" d=\"M3,0A3,3 0 1,1 0,-3A3,3 0 0,1 3,0Z\" style=\"opacity: 1; stroke-width: 0px; fill: rgb(114, 1, 168); fill-opacity: 1;\"/><path class=\"point\" transform=\"translate(449.44,151.94)\" d=\"M3,0A3,3 0 1,1 0,-3A3,3 0 0,1 3,0Z\" style=\"opacity: 1; stroke-width: 0px; fill: rgb(114, 1, 168); fill-opacity: 1;\"/><path class=\"point\" transform=\"translate(479.34,156.98)\" d=\"M3,0A3,3 0 1,1 0,-3A3,3 0 0,1 3,0Z\" style=\"opacity: 1; stroke-width: 0px; fill: rgb(114, 1, 168); fill-opacity: 1;\"/><path class=\"point\" transform=\"translate(509.25,157.75)\" d=\"M3,0A3,3 0 1,1 0,-3A3,3 0 0,1 3,0Z\" style=\"opacity: 1; stroke-width: 0px; fill: rgb(114, 1, 168); fill-opacity: 1;\"/></g><g class=\"text\"/></g><g class=\"trace scatter trace011215\" style=\"stroke-miterlimit: 2; opacity: 1;\"><g class=\"fills\"/><g class=\"errorbars\"/><g class=\"lines\"><path class=\"js-line\" d=\"M0.84,115.83L509.25,115.83\" style=\"vector-effect: non-scaling-stroke; fill: none; stroke: rgb(0, 0, 0); stroke-opacity: 1; stroke-width: 1px; opacity: 1; stroke-dasharray: 9px, 9px;\"/></g><g class=\"points\"/><g class=\"text\"/></g></g></g><g class=\"overplot\"/><path class=\"xlines-above crisp\" d=\"M0,0\" style=\"fill: none;\"/><path class=\"ylines-above crisp\" d=\"M0,0\" style=\"fill: none;\"/><g class=\"overlines-above\"/><g class=\"xaxislayer-above\"><g class=\"xtick\"><text text-anchor=\"middle\" x=\"0\" y=\"283\" transform=\"translate(80.84,0)\" style=\"font-family: 'Open Sans', verdana, arial, sans-serif; font-size: 12px; fill: rgb(42, 63, 95); fill-opacity: 1; white-space: pre; opacity: 1;\"><tspan class=\"line\" dy=\"0em\" x=\"0\" y=\"283\">Dec 6</tspan><tspan class=\"line\" dy=\"1.3em\" x=\"0\" y=\"283\">2020</tspan></text></g><g class=\"xtick\"><text text-anchor=\"middle\" x=\"0\" y=\"283\" style=\"font-family: 'Open Sans', verdana, arial, sans-serif; font-size: 12px; fill: rgb(42, 63, 95); fill-opacity: 1; white-space: pre; opacity: 1;\" transform=\"translate(170.56,0)\">Dec 9</text></g><g class=\"xtick\"><text text-anchor=\"middle\" x=\"0\" y=\"283\" style=\"font-family: 'Open Sans', verdana, arial, sans-serif; font-size: 12px; fill: rgb(42, 63, 95); fill-opacity: 1; white-space: pre; opacity: 1;\" transform=\"translate(260.28,0)\">Dec 12</text></g><g class=\"xtick\"><text text-anchor=\"middle\" x=\"0\" y=\"283\" style=\"font-family: 'Open Sans', verdana, arial, sans-serif; font-size: 12px; fill: rgb(42, 63, 95); fill-opacity: 1; white-space: pre; opacity: 1;\" transform=\"translate(350,0)\">Dec 15</text></g><g class=\"xtick\"><text text-anchor=\"middle\" x=\"0\" y=\"283\" style=\"font-family: 'Open Sans', verdana, arial, sans-serif; font-size: 12px; fill: rgb(42, 63, 95); fill-opacity: 1; white-space: pre; opacity: 1;\" transform=\"translate(439.72,0)\">Dec 18</text></g><g class=\"xtick\"><text text-anchor=\"middle\" x=\"0\" y=\"283\" style=\"font-family: 'Open Sans', verdana, arial, sans-serif; font-size: 12px; fill: rgb(42, 63, 95); fill-opacity: 1; white-space: pre; opacity: 1;\" transform=\"translate(529.44,0)\">Dec 21</text></g><g class=\"xtick\"><text text-anchor=\"middle\" x=\"0\" y=\"283\" style=\"font-family: 'Open Sans', verdana, arial, sans-serif; font-size: 12px; fill: rgb(42, 63, 95); fill-opacity: 1; white-space: pre; opacity: 1;\" transform=\"translate(619.16,0)\">Dec 24</text></g></g><g class=\"yaxislayer-above\"><g class=\"ytick\"><text text-anchor=\"end\" x=\"79\" y=\"4.199999999999999\" transform=\"translate(0,255.26)\" style=\"font-family: 'Open Sans', verdana, arial, sans-serif; font-size: 12px; fill: rgb(42, 63, 95); fill-opacity: 1; white-space: pre; opacity: 1;\">−0.1</text></g><g class=\"ytick\"><text text-anchor=\"end\" x=\"79\" y=\"4.199999999999999\" style=\"font-family: 'Open Sans', verdana, arial, sans-serif; font-size: 12px; fill: rgb(42, 63, 95); fill-opacity: 1; white-space: pre; opacity: 1;\" transform=\"translate(0,215.82999999999998)\">0</text></g><g class=\"ytick\"><text text-anchor=\"end\" x=\"79\" y=\"4.199999999999999\" style=\"font-family: 'Open Sans', verdana, arial, sans-serif; font-size: 12px; fill: rgb(42, 63, 95); fill-opacity: 1; white-space: pre; opacity: 1;\" transform=\"translate(0,176.39)\">0.1</text></g><g class=\"ytick\"><text text-anchor=\"end\" x=\"79\" y=\"4.199999999999999\" style=\"font-family: 'Open Sans', verdana, arial, sans-serif; font-size: 12px; fill: rgb(42, 63, 95); fill-opacity: 1; white-space: pre; opacity: 1;\" transform=\"translate(0,136.95)\">0.2</text></g></g><g class=\"overaxes-above\"/></g></g><g class=\"polarlayer\"/><g class=\"ternarylayer\"/><g class=\"geolayer\"/><g class=\"funnelarealayer\"/><g class=\"pielayer\"/><g class=\"iciclelayer\"/><g class=\"treemaplayer\"/><g class=\"sunburstlayer\"/><g class=\"glimages\"/><defs id=\"topdefs-d82cc8\"><g class=\"clips\"/></defs><g class=\"layer-above\"><g class=\"imagelayer\"/><g class=\"shapelayer\"/></g><g class=\"infolayer\"><g class=\"g-gtitle\"><text class=\"gtitle\" x=\"35\" y=\"50\" text-anchor=\"start\" dy=\"0em\" style=\"font-family: 'Open Sans', verdana, arial, sans-serif; font-size: 20px; fill: rgb(42, 63, 95); opacity: 1; font-weight: normal; white-space: pre;\">Cart conversion ratio</text></g><g class=\"g-xtitle\"><text class=\"xtitle\" x=\"350\" y=\"325.909375\" text-anchor=\"middle\" style=\"font-family: 'Open Sans', verdana, arial, sans-serif; font-size: 14px; fill: rgb(42, 63, 95); opacity: 1; font-weight: normal; white-space: pre;\">date</text></g><g class=\"g-ytitle\"><text class=\"ytitle\" transform=\"rotate(-90,24.746875000000003,185)\" x=\"24.746875000000003\" y=\"185\" text-anchor=\"middle\" style=\"font-family: 'Open Sans', verdana, arial, sans-serif; font-size: 14px; fill: rgb(42, 63, 95); opacity: 1; font-weight: normal; white-space: pre;\">conversion ratio</text></g></g></svg>"
      ]
     },
     "metadata": {},
     "output_type": "display_data"
    },
    {
     "data": {
      "image/svg+xml": [
       "<svg class=\"main-svg\" xmlns=\"http://www.w3.org/2000/svg\" xmlns:xlink=\"http://www.w3.org/1999/xlink\" width=\"700\" height=\"350\" style=\"\" viewBox=\"0 0 700 350\"><rect x=\"0\" y=\"0\" width=\"700\" height=\"350\" style=\"fill: rgb(255, 255, 255); fill-opacity: 1;\"/><defs id=\"defs-b967be\"><g class=\"clips\"><clipPath id=\"clipb967bexyplot\" class=\"plotclip\"><rect width=\"540\" height=\"170\"/></clipPath><clipPath class=\"axesclip\" id=\"clipb967bex\"><rect x=\"80\" y=\"0\" width=\"540\" height=\"350\"/></clipPath><clipPath class=\"axesclip\" id=\"clipb967bey\"><rect x=\"0\" y=\"100\" width=\"700\" height=\"170\"/></clipPath><clipPath class=\"axesclip\" id=\"clipb967bexy\"><rect x=\"80\" y=\"100\" width=\"540\" height=\"170\"/></clipPath></g><g class=\"gradients\"/><g class=\"patterns\"/></defs><g class=\"bglayer\"><rect class=\"bg\" x=\"80\" y=\"100\" width=\"540\" height=\"170\" style=\"fill: rgb(229, 236, 246); fill-opacity: 1; stroke-width: 0;\"/></g><g class=\"layer-below\"><g class=\"imagelayer\"/><g class=\"shapelayer\"/></g><g class=\"cartesianlayer\"><g class=\"subplot xy\"><g class=\"layer-subplot\"><g class=\"shapelayer\"/><g class=\"imagelayer\"/></g><g class=\"gridlayer\"><g class=\"x\"><path class=\"xgrid crisp\" transform=\"translate(170.56,0)\" d=\"M0,100v170\" style=\"stroke: rgb(255, 255, 255); stroke-opacity: 1; stroke-width: 1px;\"/><path class=\"xgrid crisp\" transform=\"translate(260.28,0)\" d=\"M0,100v170\" style=\"stroke: rgb(255, 255, 255); stroke-opacity: 1; stroke-width: 1px;\"/><path class=\"xgrid crisp\" transform=\"translate(350,0)\" d=\"M0,100v170\" style=\"stroke: rgb(255, 255, 255); stroke-opacity: 1; stroke-width: 1px;\"/><path class=\"xgrid crisp\" transform=\"translate(439.72,0)\" d=\"M0,100v170\" style=\"stroke: rgb(255, 255, 255); stroke-opacity: 1; stroke-width: 1px;\"/><path class=\"xgrid crisp\" transform=\"translate(529.44,0)\" d=\"M0,100v170\" style=\"stroke: rgb(255, 255, 255); stroke-opacity: 1; stroke-width: 1px;\"/></g><g class=\"y\"><path class=\"ygrid crisp\" transform=\"translate(0,257.19)\" d=\"M80,0h540\" style=\"stroke: rgb(255, 255, 255); stroke-opacity: 1; stroke-width: 1px;\"/><path class=\"ygrid crisp\" transform=\"translate(0,196.73000000000002)\" d=\"M80,0h540\" style=\"stroke: rgb(255, 255, 255); stroke-opacity: 1; stroke-width: 1px;\"/><path class=\"ygrid crisp\" transform=\"translate(0,136.27)\" d=\"M80,0h540\" style=\"stroke: rgb(255, 255, 255); stroke-opacity: 1; stroke-width: 1px;\"/></g></g><g class=\"zerolinelayer\"/><path class=\"xlines-below\"/><path class=\"ylines-below\"/><g class=\"overlines-below\"/><g class=\"xaxislayer-below\"/><g class=\"yaxislayer-below\"/><g class=\"overaxes-below\"/><g class=\"plot\" transform=\"translate(80,100)\" clip-path=\"url(#clipb967bexyplot)\"><g class=\"scatterlayer mlayer\"><g class=\"trace scatter trace71ebc9\" style=\"stroke-miterlimit: 2; opacity: 1;\"><g class=\"fills\"/><g class=\"errorbars\"/><g class=\"lines\"><path class=\"js-line\" d=\"M30.75,109.96L60.66,149.44L90.56,130.48L120.47,125.12L150.38,135.39L180.28,142.28L210.19,150.79L240.09,136.93L270,125.39L299.91,115.96L329.81,109.21L359.72,106.52L389.62,99.74L449.44,87.55L479.34,87.85L509.25,88.99\" style=\"vector-effect: non-scaling-stroke; fill: none; stroke: rgb(189, 55, 134); stroke-opacity: 1; stroke-width: 2px; opacity: 1;\"/></g><g class=\"points\"><path class=\"point\" transform=\"translate(30.75,109.96)\" d=\"M3,0A3,3 0 1,1 0,-3A3,3 0 0,1 3,0Z\" style=\"opacity: 1; stroke-width: 0px; fill: rgb(189, 55, 134); fill-opacity: 1;\"/><path class=\"point\" transform=\"translate(60.66,149.44)\" d=\"M3,0A3,3 0 1,1 0,-3A3,3 0 0,1 3,0Z\" style=\"opacity: 1; stroke-width: 0px; fill: rgb(189, 55, 134); fill-opacity: 1;\"/><path class=\"point\" transform=\"translate(90.56,130.48)\" d=\"M3,0A3,3 0 1,1 0,-3A3,3 0 0,1 3,0Z\" style=\"opacity: 1; stroke-width: 0px; fill: rgb(189, 55, 134); fill-opacity: 1;\"/><path class=\"point\" transform=\"translate(120.47,125.12)\" d=\"M3,0A3,3 0 1,1 0,-3A3,3 0 0,1 3,0Z\" style=\"opacity: 1; stroke-width: 0px; fill: rgb(189, 55, 134); fill-opacity: 1;\"/><path class=\"point\" transform=\"translate(150.38,135.39)\" d=\"M3,0A3,3 0 1,1 0,-3A3,3 0 0,1 3,0Z\" style=\"opacity: 1; stroke-width: 0px; fill: rgb(189, 55, 134); fill-opacity: 1;\"/><path class=\"point\" transform=\"translate(180.28,142.28)\" d=\"M3,0A3,3 0 1,1 0,-3A3,3 0 0,1 3,0Z\" style=\"opacity: 1; stroke-width: 0px; fill: rgb(189, 55, 134); fill-opacity: 1;\"/><path class=\"point\" transform=\"translate(210.19,150.79)\" d=\"M3,0A3,3 0 1,1 0,-3A3,3 0 0,1 3,0Z\" style=\"opacity: 1; stroke-width: 0px; fill: rgb(189, 55, 134); fill-opacity: 1;\"/><path class=\"point\" transform=\"translate(240.09,136.93)\" d=\"M3,0A3,3 0 1,1 0,-3A3,3 0 0,1 3,0Z\" style=\"opacity: 1; stroke-width: 0px; fill: rgb(189, 55, 134); fill-opacity: 1;\"/><path class=\"point\" transform=\"translate(270,125.39)\" d=\"M3,0A3,3 0 1,1 0,-3A3,3 0 0,1 3,0Z\" style=\"opacity: 1; stroke-width: 0px; fill: rgb(189, 55, 134); fill-opacity: 1;\"/><path class=\"point\" transform=\"translate(299.91,115.96)\" d=\"M3,0A3,3 0 1,1 0,-3A3,3 0 0,1 3,0Z\" style=\"opacity: 1; stroke-width: 0px; fill: rgb(189, 55, 134); fill-opacity: 1;\"/><path class=\"point\" transform=\"translate(329.81,109.21)\" d=\"M3,0A3,3 0 1,1 0,-3A3,3 0 0,1 3,0Z\" style=\"opacity: 1; stroke-width: 0px; fill: rgb(189, 55, 134); fill-opacity: 1;\"/><path class=\"point\" transform=\"translate(359.72,106.52)\" d=\"M3,0A3,3 0 1,1 0,-3A3,3 0 0,1 3,0Z\" style=\"opacity: 1; stroke-width: 0px; fill: rgb(189, 55, 134); fill-opacity: 1;\"/><path class=\"point\" transform=\"translate(389.62,99.74)\" d=\"M3,0A3,3 0 1,1 0,-3A3,3 0 0,1 3,0Z\" style=\"opacity: 1; stroke-width: 0px; fill: rgb(189, 55, 134); fill-opacity: 1;\"/><path class=\"point\" transform=\"translate(419.53,93.31)\" d=\"M3,0A3,3 0 1,1 0,-3A3,3 0 0,1 3,0Z\" style=\"opacity: 1; stroke-width: 0px; fill: rgb(189, 55, 134); fill-opacity: 1;\"/><path class=\"point\" transform=\"translate(449.44,87.55)\" d=\"M3,0A3,3 0 1,1 0,-3A3,3 0 0,1 3,0Z\" style=\"opacity: 1; stroke-width: 0px; fill: rgb(189, 55, 134); fill-opacity: 1;\"/><path class=\"point\" transform=\"translate(479.34,87.85)\" d=\"M3,0A3,3 0 1,1 0,-3A3,3 0 0,1 3,0Z\" style=\"opacity: 1; stroke-width: 0px; fill: rgb(189, 55, 134); fill-opacity: 1;\"/><path class=\"point\" transform=\"translate(509.25,88.99)\" d=\"M3,0A3,3 0 1,1 0,-3A3,3 0 0,1 3,0Z\" style=\"opacity: 1; stroke-width: 0px; fill: rgb(189, 55, 134); fill-opacity: 1;\"/></g><g class=\"text\"/></g><g class=\"trace scatter trace28d6e5\" style=\"stroke-miterlimit: 2; opacity: 1;\"><g class=\"fills\"/><g class=\"errorbars\"/><g class=\"lines\"><path class=\"js-line\" d=\"M30.75,12.25L60.66,53.2L90.56,104.91L120.47,133.13L150.38,151.06L180.28,153.21L210.19,151.17L270,151.92L299.91,145.12L329.81,146.47L359.72,151.86L389.62,156.17L419.53,157.75L449.44,154L479.34,152.06L509.25,152.39\" style=\"vector-effect: non-scaling-stroke; fill: none; stroke: rgb(251, 159, 58); stroke-opacity: 1; stroke-width: 2px; opacity: 1;\"/></g><g class=\"points\"><path class=\"point\" transform=\"translate(30.75,12.25)\" d=\"M3,0A3,3 0 1,1 0,-3A3,3 0 0,1 3,0Z\" style=\"opacity: 1; stroke-width: 0px; fill: rgb(251, 159, 58); fill-opacity: 1;\"/><path class=\"point\" transform=\"translate(60.66,53.2)\" d=\"M3,0A3,3 0 1,1 0,-3A3,3 0 0,1 3,0Z\" style=\"opacity: 1; stroke-width: 0px; fill: rgb(251, 159, 58); fill-opacity: 1;\"/><path class=\"point\" transform=\"translate(90.56,104.91)\" d=\"M3,0A3,3 0 1,1 0,-3A3,3 0 0,1 3,0Z\" style=\"opacity: 1; stroke-width: 0px; fill: rgb(251, 159, 58); fill-opacity: 1;\"/><path class=\"point\" transform=\"translate(120.47,133.13)\" d=\"M3,0A3,3 0 1,1 0,-3A3,3 0 0,1 3,0Z\" style=\"opacity: 1; stroke-width: 0px; fill: rgb(251, 159, 58); fill-opacity: 1;\"/><path class=\"point\" transform=\"translate(150.38,151.06)\" d=\"M3,0A3,3 0 1,1 0,-3A3,3 0 0,1 3,0Z\" style=\"opacity: 1; stroke-width: 0px; fill: rgb(251, 159, 58); fill-opacity: 1;\"/><path class=\"point\" transform=\"translate(180.28,153.21)\" d=\"M3,0A3,3 0 1,1 0,-3A3,3 0 0,1 3,0Z\" style=\"opacity: 1; stroke-width: 0px; fill: rgb(251, 159, 58); fill-opacity: 1;\"/><path class=\"point\" transform=\"translate(210.19,151.17)\" d=\"M3,0A3,3 0 1,1 0,-3A3,3 0 0,1 3,0Z\" style=\"opacity: 1; stroke-width: 0px; fill: rgb(251, 159, 58); fill-opacity: 1;\"/><path class=\"point\" transform=\"translate(240.09,151.32)\" d=\"M3,0A3,3 0 1,1 0,-3A3,3 0 0,1 3,0Z\" style=\"opacity: 1; stroke-width: 0px; fill: rgb(251, 159, 58); fill-opacity: 1;\"/><path class=\"point\" transform=\"translate(270,151.92)\" d=\"M3,0A3,3 0 1,1 0,-3A3,3 0 0,1 3,0Z\" style=\"opacity: 1; stroke-width: 0px; fill: rgb(251, 159, 58); fill-opacity: 1;\"/><path class=\"point\" transform=\"translate(299.91,145.12)\" d=\"M3,0A3,3 0 1,1 0,-3A3,3 0 0,1 3,0Z\" style=\"opacity: 1; stroke-width: 0px; fill: rgb(251, 159, 58); fill-opacity: 1;\"/><path class=\"point\" transform=\"translate(329.81,146.47)\" d=\"M3,0A3,3 0 1,1 0,-3A3,3 0 0,1 3,0Z\" style=\"opacity: 1; stroke-width: 0px; fill: rgb(251, 159, 58); fill-opacity: 1;\"/><path class=\"point\" transform=\"translate(359.72,151.86)\" d=\"M3,0A3,3 0 1,1 0,-3A3,3 0 0,1 3,0Z\" style=\"opacity: 1; stroke-width: 0px; fill: rgb(251, 159, 58); fill-opacity: 1;\"/><path class=\"point\" transform=\"translate(389.62,156.17)\" d=\"M3,0A3,3 0 1,1 0,-3A3,3 0 0,1 3,0Z\" style=\"opacity: 1; stroke-width: 0px; fill: rgb(251, 159, 58); fill-opacity: 1;\"/><path class=\"point\" transform=\"translate(419.53,157.75)\" d=\"M3,0A3,3 0 1,1 0,-3A3,3 0 0,1 3,0Z\" style=\"opacity: 1; stroke-width: 0px; fill: rgb(251, 159, 58); fill-opacity: 1;\"/><path class=\"point\" transform=\"translate(449.44,154)\" d=\"M3,0A3,3 0 1,1 0,-3A3,3 0 0,1 3,0Z\" style=\"opacity: 1; stroke-width: 0px; fill: rgb(251, 159, 58); fill-opacity: 1;\"/><path class=\"point\" transform=\"translate(479.34,152.06)\" d=\"M3,0A3,3 0 1,1 0,-3A3,3 0 0,1 3,0Z\" style=\"opacity: 1; stroke-width: 0px; fill: rgb(251, 159, 58); fill-opacity: 1;\"/><path class=\"point\" transform=\"translate(509.25,152.39)\" d=\"M3,0A3,3 0 1,1 0,-3A3,3 0 0,1 3,0Z\" style=\"opacity: 1; stroke-width: 0px; fill: rgb(251, 159, 58); fill-opacity: 1;\"/></g><g class=\"text\"/></g></g></g><g class=\"overplot\"/><path class=\"xlines-above crisp\" d=\"M0,0\" style=\"fill: none;\"/><path class=\"ylines-above crisp\" d=\"M0,0\" style=\"fill: none;\"/><g class=\"overlines-above\"/><g class=\"xaxislayer-above\"><g class=\"xtick\"><text text-anchor=\"middle\" x=\"0\" y=\"283\" transform=\"translate(80.84,0)\" style=\"font-family: 'Open Sans', verdana, arial, sans-serif; font-size: 12px; fill: rgb(42, 63, 95); fill-opacity: 1; white-space: pre; opacity: 1;\"><tspan class=\"line\" dy=\"0em\" x=\"0\" y=\"283\">Dec 6</tspan><tspan class=\"line\" dy=\"1.3em\" x=\"0\" y=\"283\">2020</tspan></text></g><g class=\"xtick\"><text text-anchor=\"middle\" x=\"0\" y=\"283\" style=\"font-family: 'Open Sans', verdana, arial, sans-serif; font-size: 12px; fill: rgb(42, 63, 95); fill-opacity: 1; white-space: pre; opacity: 1;\" transform=\"translate(170.56,0)\">Dec 9</text></g><g class=\"xtick\"><text text-anchor=\"middle\" x=\"0\" y=\"283\" style=\"font-family: 'Open Sans', verdana, arial, sans-serif; font-size: 12px; fill: rgb(42, 63, 95); fill-opacity: 1; white-space: pre; opacity: 1;\" transform=\"translate(260.28,0)\">Dec 12</text></g><g class=\"xtick\"><text text-anchor=\"middle\" x=\"0\" y=\"283\" style=\"font-family: 'Open Sans', verdana, arial, sans-serif; font-size: 12px; fill: rgb(42, 63, 95); fill-opacity: 1; white-space: pre; opacity: 1;\" transform=\"translate(350,0)\">Dec 15</text></g><g class=\"xtick\"><text text-anchor=\"middle\" x=\"0\" y=\"283\" style=\"font-family: 'Open Sans', verdana, arial, sans-serif; font-size: 12px; fill: rgb(42, 63, 95); fill-opacity: 1; white-space: pre; opacity: 1;\" transform=\"translate(439.72,0)\">Dec 18</text></g><g class=\"xtick\"><text text-anchor=\"middle\" x=\"0\" y=\"283\" style=\"font-family: 'Open Sans', verdana, arial, sans-serif; font-size: 12px; fill: rgb(42, 63, 95); fill-opacity: 1; white-space: pre; opacity: 1;\" transform=\"translate(529.44,0)\">Dec 21</text></g><g class=\"xtick\"><text text-anchor=\"middle\" x=\"0\" y=\"283\" style=\"font-family: 'Open Sans', verdana, arial, sans-serif; font-size: 12px; fill: rgb(42, 63, 95); fill-opacity: 1; white-space: pre; opacity: 1;\" transform=\"translate(619.16,0)\">Dec 24</text></g></g><g class=\"yaxislayer-above\"><g class=\"ytick\"><text text-anchor=\"end\" x=\"79\" y=\"4.199999999999999\" transform=\"translate(0,257.19)\" style=\"font-family: 'Open Sans', verdana, arial, sans-serif; font-size: 12px; fill: rgb(42, 63, 95); fill-opacity: 1; white-space: pre; opacity: 1;\">0.25</text></g><g class=\"ytick\"><text text-anchor=\"end\" x=\"79\" y=\"4.199999999999999\" style=\"font-family: 'Open Sans', verdana, arial, sans-serif; font-size: 12px; fill: rgb(42, 63, 95); fill-opacity: 1; white-space: pre; opacity: 1;\" transform=\"translate(0,196.73000000000002)\">0.3</text></g><g class=\"ytick\"><text text-anchor=\"end\" x=\"79\" y=\"4.199999999999999\" style=\"font-family: 'Open Sans', verdana, arial, sans-serif; font-size: 12px; fill: rgb(42, 63, 95); fill-opacity: 1; white-space: pre; opacity: 1;\" transform=\"translate(0,136.27)\">0.35</text></g></g><g class=\"overaxes-above\"/></g></g><g class=\"polarlayer\"/><g class=\"ternarylayer\"/><g class=\"geolayer\"/><g class=\"funnelarealayer\"/><g class=\"pielayer\"/><g class=\"iciclelayer\"/><g class=\"treemaplayer\"/><g class=\"sunburstlayer\"/><g class=\"glimages\"/><defs id=\"topdefs-b967be\"><g class=\"clips\"/><clipPath id=\"legendb967be\"><rect width=\"54\" height=\"48\" x=\"0\" y=\"0\"/></clipPath></defs><g class=\"layer-above\"><g class=\"imagelayer\"/><g class=\"shapelayer\"/></g><g class=\"infolayer\"><g class=\"legend\" pointer-events=\"all\" transform=\"translate(630.8,100)\"><rect class=\"bg\" shape-rendering=\"crispEdges\" width=\"54\" height=\"48\" x=\"0\" y=\"0\" style=\"stroke: rgb(68, 68, 68); stroke-opacity: 1; fill: rgb(255, 255, 255); fill-opacity: 1; stroke-width: 0px;\"/><g class=\"scrollbox\" transform=\"\" clip-path=\"url(#legendb967be)\"><g class=\"groups\"><g class=\"traces\" transform=\"translate(0,14.5)\" style=\"opacity: 1;\"><text class=\"legendtext\" text-anchor=\"start\" x=\"40\" y=\"4.680000000000001\" style=\"font-family: 'Open Sans', verdana, arial, sans-serif; font-size: 12px; fill: rgb(42, 63, 95); fill-opacity: 1; white-space: pre;\">A</text><g class=\"layers\" style=\"opacity: 1;\"><g class=\"legendfill\"/><g class=\"legendlines\"><path class=\"js-line\" d=\"M5,0h30\" style=\"fill: none; stroke: rgb(189, 55, 134); stroke-opacity: 1; stroke-width: 2px;\"/></g><g class=\"legendsymbols\"><g class=\"legendpoints\"><path class=\"scatterpts\" transform=\"translate(20,0)\" d=\"M3,0A3,3 0 1,1 0,-3A3,3 0 0,1 3,0Z\" style=\"opacity: 1; stroke-width: 0px; fill: rgb(189, 55, 134); fill-opacity: 1;\"/></g></g></g><rect class=\"legendtoggle\" x=\"0\" y=\"-9.5\" width=\"48.234375\" height=\"19\" style=\"fill: rgb(0, 0, 0); fill-opacity: 0;\"/></g><g class=\"traces\" transform=\"translate(0,33.5)\" style=\"opacity: 1;\"><text class=\"legendtext\" text-anchor=\"start\" x=\"40\" y=\"4.680000000000001\" style=\"font-family: 'Open Sans', verdana, arial, sans-serif; font-size: 12px; fill: rgb(42, 63, 95); fill-opacity: 1; white-space: pre;\">B</text><g class=\"layers\" style=\"opacity: 1;\"><g class=\"legendfill\"/><g class=\"legendlines\"><path class=\"js-line\" d=\"M5,0h30\" style=\"fill: none; stroke: rgb(251, 159, 58); stroke-opacity: 1; stroke-width: 2px;\"/></g><g class=\"legendsymbols\"><g class=\"legendpoints\"><path class=\"scatterpts\" transform=\"translate(20,0)\" d=\"M3,0A3,3 0 1,1 0,-3A3,3 0 0,1 3,0Z\" style=\"opacity: 1; stroke-width: 0px; fill: rgb(251, 159, 58); fill-opacity: 1;\"/></g></g></g><rect class=\"legendtoggle\" x=\"0\" y=\"-9.5\" width=\"48.234375\" height=\"19\" style=\"fill: rgb(0, 0, 0); fill-opacity: 0;\"/></g></g></g><rect class=\"scrollbar\" rx=\"20\" ry=\"3\" width=\"0\" height=\"0\" x=\"0\" y=\"0\" style=\"fill: rgb(128, 139, 164); fill-opacity: 1;\"/></g><g class=\"g-gtitle\"><text class=\"gtitle\" x=\"35\" y=\"50\" text-anchor=\"start\" dy=\"0em\" style=\"font-family: 'Open Sans', verdana, arial, sans-serif; font-size: 20px; fill: rgb(42, 63, 95); opacity: 1; font-weight: normal; white-space: pre;\">Purchase cumilative conversion</text></g><g class=\"g-xtitle\"><text class=\"xtitle\" x=\"350\" y=\"325.909375\" text-anchor=\"middle\" style=\"font-family: 'Open Sans', verdana, arial, sans-serif; font-size: 14px; fill: rgb(42, 63, 95); opacity: 1; font-weight: normal; white-space: pre;\">date</text></g><g class=\"g-ytitle\"><text class=\"ytitle\" transform=\"rotate(-90,26.934375000000003,185)\" x=\"26.934375000000003\" y=\"185\" text-anchor=\"middle\" style=\"font-family: 'Open Sans', verdana, arial, sans-serif; font-size: 14px; fill: rgb(42, 63, 95); opacity: 1; font-weight: normal; white-space: pre;\">conversion</text></g></g></svg>"
      ]
     },
     "metadata": {},
     "output_type": "display_data"
    },
    {
     "data": {
      "image/svg+xml": [
       "<svg class=\"main-svg\" xmlns=\"http://www.w3.org/2000/svg\" xmlns:xlink=\"http://www.w3.org/1999/xlink\" width=\"700\" height=\"350\" style=\"\" viewBox=\"0 0 700 350\"><rect x=\"0\" y=\"0\" width=\"700\" height=\"350\" style=\"fill: rgb(255, 255, 255); fill-opacity: 1;\"/><defs id=\"defs-58367a\"><g class=\"clips\"><clipPath id=\"clip58367axyplot\" class=\"plotclip\"><rect width=\"540\" height=\"170\"/></clipPath><clipPath class=\"axesclip\" id=\"clip58367ax\"><rect x=\"80\" y=\"0\" width=\"540\" height=\"350\"/></clipPath><clipPath class=\"axesclip\" id=\"clip58367ay\"><rect x=\"0\" y=\"100\" width=\"700\" height=\"170\"/></clipPath><clipPath class=\"axesclip\" id=\"clip58367axy\"><rect x=\"80\" y=\"100\" width=\"540\" height=\"170\"/></clipPath></g><g class=\"gradients\"/><g class=\"patterns\"/></defs><g class=\"bglayer\"><rect class=\"bg\" x=\"80\" y=\"100\" width=\"540\" height=\"170\" style=\"fill: rgb(229, 236, 246); fill-opacity: 1; stroke-width: 0;\"/></g><g class=\"layer-below\"><g class=\"imagelayer\"/><g class=\"shapelayer\"/></g><g class=\"cartesianlayer\"><g class=\"subplot xy\"><g class=\"layer-subplot\"><g class=\"shapelayer\"/><g class=\"imagelayer\"/></g><g class=\"gridlayer\"><g class=\"x\"><path class=\"xgrid crisp\" transform=\"translate(170.56,0)\" d=\"M0,100v170\" style=\"stroke: rgb(255, 255, 255); stroke-opacity: 1; stroke-width: 1px;\"/><path class=\"xgrid crisp\" transform=\"translate(260.28,0)\" d=\"M0,100v170\" style=\"stroke: rgb(255, 255, 255); stroke-opacity: 1; stroke-width: 1px;\"/><path class=\"xgrid crisp\" transform=\"translate(350,0)\" d=\"M0,100v170\" style=\"stroke: rgb(255, 255, 255); stroke-opacity: 1; stroke-width: 1px;\"/><path class=\"xgrid crisp\" transform=\"translate(439.72,0)\" d=\"M0,100v170\" style=\"stroke: rgb(255, 255, 255); stroke-opacity: 1; stroke-width: 1px;\"/><path class=\"xgrid crisp\" transform=\"translate(529.44,0)\" d=\"M0,100v170\" style=\"stroke: rgb(255, 255, 255); stroke-opacity: 1; stroke-width: 1px;\"/></g><g class=\"y\"><path class=\"ygrid crisp\" transform=\"translate(0,264.1)\" d=\"M80,0h540\" style=\"stroke: rgb(255, 255, 255); stroke-opacity: 1; stroke-width: 1px;\"/><path class=\"ygrid crisp\" transform=\"translate(0,145.1)\" d=\"M80,0h540\" style=\"stroke: rgb(255, 255, 255); stroke-opacity: 1; stroke-width: 1px;\"/></g></g><g class=\"zerolinelayer\"><path class=\"yzl zl crisp\" transform=\"translate(0,204.6)\" d=\"M80,0h540\" style=\"stroke: rgb(255, 255, 255); stroke-opacity: 1; stroke-width: 2px;\"/></g><path class=\"xlines-below\"/><path class=\"ylines-below\"/><g class=\"overlines-below\"/><g class=\"xaxislayer-below\"/><g class=\"yaxislayer-below\"/><g class=\"overaxes-below\"/><g class=\"plot\" transform=\"translate(80,100)\" clip-path=\"url(#clip58367axyplot)\"><g class=\"scatterlayer mlayer\"><g class=\"trace scatter trace238814\" style=\"stroke-miterlimit: 2; opacity: 1;\"><g class=\"fills\"/><g class=\"errorbars\"/><g class=\"lines\"><path class=\"js-line\" d=\"M30.75,21.44L60.66,12.25L90.56,81.48L120.47,111.72L150.38,118.98L180.28,114.85L210.19,104.97L240.09,117.87L270,128.23L299.91,129.85L329.81,136.24L359.72,142.81L389.62,151.26L419.53,156.95L449.44,157.75L479.34,156L509.25,155.51\" style=\"vector-effect: non-scaling-stroke; fill: none; stroke: rgb(114, 1, 168); stroke-opacity: 1; stroke-width: 2px; opacity: 1;\"/></g><g class=\"points\"><path class=\"point\" transform=\"translate(30.75,21.44)\" d=\"M3,0A3,3 0 1,1 0,-3A3,3 0 0,1 3,0Z\" style=\"opacity: 1; stroke-width: 0px; fill: rgb(114, 1, 168); fill-opacity: 1;\"/><path class=\"point\" transform=\"translate(60.66,12.25)\" d=\"M3,0A3,3 0 1,1 0,-3A3,3 0 0,1 3,0Z\" style=\"opacity: 1; stroke-width: 0px; fill: rgb(114, 1, 168); fill-opacity: 1;\"/><path class=\"point\" transform=\"translate(90.56,81.48)\" d=\"M3,0A3,3 0 1,1 0,-3A3,3 0 0,1 3,0Z\" style=\"opacity: 1; stroke-width: 0px; fill: rgb(114, 1, 168); fill-opacity: 1;\"/><path class=\"point\" transform=\"translate(120.47,111.72)\" d=\"M3,0A3,3 0 1,1 0,-3A3,3 0 0,1 3,0Z\" style=\"opacity: 1; stroke-width: 0px; fill: rgb(114, 1, 168); fill-opacity: 1;\"/><path class=\"point\" transform=\"translate(150.38,118.98)\" d=\"M3,0A3,3 0 1,1 0,-3A3,3 0 0,1 3,0Z\" style=\"opacity: 1; stroke-width: 0px; fill: rgb(114, 1, 168); fill-opacity: 1;\"/><path class=\"point\" transform=\"translate(180.28,114.85)\" d=\"M3,0A3,3 0 1,1 0,-3A3,3 0 0,1 3,0Z\" style=\"opacity: 1; stroke-width: 0px; fill: rgb(114, 1, 168); fill-opacity: 1;\"/><path class=\"point\" transform=\"translate(210.19,104.97)\" d=\"M3,0A3,3 0 1,1 0,-3A3,3 0 0,1 3,0Z\" style=\"opacity: 1; stroke-width: 0px; fill: rgb(114, 1, 168); fill-opacity: 1;\"/><path class=\"point\" transform=\"translate(240.09,117.87)\" d=\"M3,0A3,3 0 1,1 0,-3A3,3 0 0,1 3,0Z\" style=\"opacity: 1; stroke-width: 0px; fill: rgb(114, 1, 168); fill-opacity: 1;\"/><path class=\"point\" transform=\"translate(270,128.23)\" d=\"M3,0A3,3 0 1,1 0,-3A3,3 0 0,1 3,0Z\" style=\"opacity: 1; stroke-width: 0px; fill: rgb(114, 1, 168); fill-opacity: 1;\"/><path class=\"point\" transform=\"translate(299.91,129.85)\" d=\"M3,0A3,3 0 1,1 0,-3A3,3 0 0,1 3,0Z\" style=\"opacity: 1; stroke-width: 0px; fill: rgb(114, 1, 168); fill-opacity: 1;\"/><path class=\"point\" transform=\"translate(329.81,136.24)\" d=\"M3,0A3,3 0 1,1 0,-3A3,3 0 0,1 3,0Z\" style=\"opacity: 1; stroke-width: 0px; fill: rgb(114, 1, 168); fill-opacity: 1;\"/><path class=\"point\" transform=\"translate(359.72,142.81)\" d=\"M3,0A3,3 0 1,1 0,-3A3,3 0 0,1 3,0Z\" style=\"opacity: 1; stroke-width: 0px; fill: rgb(114, 1, 168); fill-opacity: 1;\"/><path class=\"point\" transform=\"translate(389.62,151.26)\" d=\"M3,0A3,3 0 1,1 0,-3A3,3 0 0,1 3,0Z\" style=\"opacity: 1; stroke-width: 0px; fill: rgb(114, 1, 168); fill-opacity: 1;\"/><path class=\"point\" transform=\"translate(419.53,156.95)\" d=\"M3,0A3,3 0 1,1 0,-3A3,3 0 0,1 3,0Z\" style=\"opacity: 1; stroke-width: 0px; fill: rgb(114, 1, 168); fill-opacity: 1;\"/><path class=\"point\" transform=\"translate(449.44,157.75)\" d=\"M3,0A3,3 0 1,1 0,-3A3,3 0 0,1 3,0Z\" style=\"opacity: 1; stroke-width: 0px; fill: rgb(114, 1, 168); fill-opacity: 1;\"/><path class=\"point\" transform=\"translate(479.34,156)\" d=\"M3,0A3,3 0 1,1 0,-3A3,3 0 0,1 3,0Z\" style=\"opacity: 1; stroke-width: 0px; fill: rgb(114, 1, 168); fill-opacity: 1;\"/><path class=\"point\" transform=\"translate(509.25,155.51)\" d=\"M3,0A3,3 0 1,1 0,-3A3,3 0 0,1 3,0Z\" style=\"opacity: 1; stroke-width: 0px; fill: rgb(114, 1, 168); fill-opacity: 1;\"/></g><g class=\"text\"/></g><g class=\"trace scatter trace4fb087\" style=\"stroke-miterlimit: 2; opacity: 1;\"><g class=\"fills\"/><g class=\"errorbars\"/><g class=\"lines\"><path class=\"js-line\" d=\"M0.84,104.6L509.25,104.6\" style=\"vector-effect: non-scaling-stroke; fill: none; stroke: rgb(0, 0, 0); stroke-opacity: 1; stroke-width: 1px; opacity: 1; stroke-dasharray: 9px, 9px;\"/></g><g class=\"points\"/><g class=\"text\"/></g></g></g><g class=\"overplot\"/><path class=\"xlines-above crisp\" d=\"M0,0\" style=\"fill: none;\"/><path class=\"ylines-above crisp\" d=\"M0,0\" style=\"fill: none;\"/><g class=\"overlines-above\"/><g class=\"xaxislayer-above\"><g class=\"xtick\"><text text-anchor=\"middle\" x=\"0\" y=\"283\" transform=\"translate(80.84,0)\" style=\"font-family: 'Open Sans', verdana, arial, sans-serif; font-size: 12px; fill: rgb(42, 63, 95); fill-opacity: 1; white-space: pre; opacity: 1;\"><tspan class=\"line\" dy=\"0em\" x=\"0\" y=\"283\">Dec 6</tspan><tspan class=\"line\" dy=\"1.3em\" x=\"0\" y=\"283\">2020</tspan></text></g><g class=\"xtick\"><text text-anchor=\"middle\" x=\"0\" y=\"283\" style=\"font-family: 'Open Sans', verdana, arial, sans-serif; font-size: 12px; fill: rgb(42, 63, 95); fill-opacity: 1; white-space: pre; opacity: 1;\" transform=\"translate(170.56,0)\">Dec 9</text></g><g class=\"xtick\"><text text-anchor=\"middle\" x=\"0\" y=\"283\" style=\"font-family: 'Open Sans', verdana, arial, sans-serif; font-size: 12px; fill: rgb(42, 63, 95); fill-opacity: 1; white-space: pre; opacity: 1;\" transform=\"translate(260.28,0)\">Dec 12</text></g><g class=\"xtick\"><text text-anchor=\"middle\" x=\"0\" y=\"283\" style=\"font-family: 'Open Sans', verdana, arial, sans-serif; font-size: 12px; fill: rgb(42, 63, 95); fill-opacity: 1; white-space: pre; opacity: 1;\" transform=\"translate(350,0)\">Dec 15</text></g><g class=\"xtick\"><text text-anchor=\"middle\" x=\"0\" y=\"283\" style=\"font-family: 'Open Sans', verdana, arial, sans-serif; font-size: 12px; fill: rgb(42, 63, 95); fill-opacity: 1; white-space: pre; opacity: 1;\" transform=\"translate(439.72,0)\">Dec 18</text></g><g class=\"xtick\"><text text-anchor=\"middle\" x=\"0\" y=\"283\" style=\"font-family: 'Open Sans', verdana, arial, sans-serif; font-size: 12px; fill: rgb(42, 63, 95); fill-opacity: 1; white-space: pre; opacity: 1;\" transform=\"translate(529.44,0)\">Dec 21</text></g><g class=\"xtick\"><text text-anchor=\"middle\" x=\"0\" y=\"283\" style=\"font-family: 'Open Sans', verdana, arial, sans-serif; font-size: 12px; fill: rgb(42, 63, 95); fill-opacity: 1; white-space: pre; opacity: 1;\" transform=\"translate(619.16,0)\">Dec 24</text></g></g><g class=\"yaxislayer-above\"><g class=\"ytick\"><text text-anchor=\"end\" x=\"79\" y=\"4.199999999999999\" transform=\"translate(0,264.1)\" style=\"font-family: 'Open Sans', verdana, arial, sans-serif; font-size: 12px; fill: rgb(42, 63, 95); fill-opacity: 1; white-space: pre; opacity: 1;\">−0.2</text></g><g class=\"ytick\"><text text-anchor=\"end\" x=\"79\" y=\"4.199999999999999\" style=\"font-family: 'Open Sans', verdana, arial, sans-serif; font-size: 12px; fill: rgb(42, 63, 95); fill-opacity: 1; white-space: pre; opacity: 1;\" transform=\"translate(0,204.6)\">0</text></g><g class=\"ytick\"><text text-anchor=\"end\" x=\"79\" y=\"4.199999999999999\" style=\"font-family: 'Open Sans', verdana, arial, sans-serif; font-size: 12px; fill: rgb(42, 63, 95); fill-opacity: 1; white-space: pre; opacity: 1;\" transform=\"translate(0,145.1)\">0.2</text></g></g><g class=\"overaxes-above\"/></g></g><g class=\"polarlayer\"/><g class=\"ternarylayer\"/><g class=\"geolayer\"/><g class=\"funnelarealayer\"/><g class=\"pielayer\"/><g class=\"iciclelayer\"/><g class=\"treemaplayer\"/><g class=\"sunburstlayer\"/><g class=\"glimages\"/><defs id=\"topdefs-58367a\"><g class=\"clips\"/></defs><g class=\"layer-above\"><g class=\"imagelayer\"/><g class=\"shapelayer\"/></g><g class=\"infolayer\"><g class=\"g-gtitle\"><text class=\"gtitle\" x=\"35\" y=\"50\" text-anchor=\"start\" dy=\"0em\" style=\"font-family: 'Open Sans', verdana, arial, sans-serif; font-size: 20px; fill: rgb(42, 63, 95); opacity: 1; font-weight: normal; white-space: pre;\">Purchase conversion ratio</text></g><g class=\"g-xtitle\"><text class=\"xtitle\" x=\"350\" y=\"325.909375\" text-anchor=\"middle\" style=\"font-family: 'Open Sans', verdana, arial, sans-serif; font-size: 14px; fill: rgb(42, 63, 95); opacity: 1; font-weight: normal; white-space: pre;\">date</text></g><g class=\"g-ytitle\"><text class=\"ytitle\" transform=\"rotate(-90,24.746875000000003,185)\" x=\"24.746875000000003\" y=\"185\" text-anchor=\"middle\" style=\"font-family: 'Open Sans', verdana, arial, sans-serif; font-size: 14px; fill: rgb(42, 63, 95); opacity: 1; font-weight: normal; white-space: pre;\">conversion ratio</text></g></g></svg>"
      ]
     },
     "metadata": {},
     "output_type": "display_data"
    }
   ],
   "source": [
    "convertion_plot('product_page_conversion_A', 'product_page_conversion_B', 'Product page')\n",
    "convertion_plot('cart_conversion_A', 'cart_conversion_B', 'Cart')\n",
    "convertion_plot('purchase_conversion_A', 'purchase_conversion_B', 'Purchase')"
   ]
  },
  {
   "cell_type": "markdown",
   "metadata": {},
   "source": [
    "В первые дни эксперимента метрики кумулятивной конверсии обеих групп сильно колебались и стабилизировались к его окончанию.\n",
    "\n",
    "- Метрика кумулятивной конверсии **посещения продуктовых страниц** группы A росла с 13 декабря, а для группы B оказалась ниже со 2 дня эксперимента и снижалась на всем его протяжении.\n",
    "- Метрика кумулятивной конверсии **перехода в корзину** росла в обеих группах с 13 декабря, однако с этой же даты и до окончания эксперимента показатель контрольной группы был выше.\n",
    "- Метрика кумулятивной конверсии **покупок** группы A росла и была выше группы B начиная с 13 декабря, в то время как метрика группы B снижалась до 12 декабря и незначительно колебалась в оставшиеся дни эксперимента.\n",
    "\n",
    "Таким образом, по всем метрикам экспериментальная группа оставалась хуже контрольной на протяжении большей части теста."
   ]
  },
  {
   "cell_type": "markdown",
   "metadata": {},
   "source": [
    "### Итоговые конверсии воронки по группам"
   ]
  },
  {
   "cell_type": "code",
   "execution_count": 39,
   "metadata": {},
   "outputs": [
    {
     "name": "stdout",
     "output_type": "stream",
     "text": [
      "Купили, посетив корзину (группа A): 240\n",
      "Купили, посетив корзину (группа B): 69\n",
      "Купили, не посетив корзину (группа A): 533\n",
      "Купили, не посетив корзину (группа B): 157\n"
     ]
    }
   ],
   "source": [
    "buyers_A = test_data.query('event_name == \"Покупка\" & group == \"A\"')['user_id'].unique()\n",
    "buyers_B = test_data.query('event_name == \"Покупка\" & group == \"B\"')['user_id'].unique()\n",
    "cart_visitors_A = test_data.query('event_name == \"Переход в корзину\" & group == \"A\"')['user_id'].unique()\n",
    "cart_visitors_B = test_data.query('event_name == \"Переход в корзину\" & group == \"B\"')['user_id'].unique()\n",
    "\n",
    "buyers_after_cart_A = len(list(set(buyers_A) & set(cart_visitors_A)))\n",
    "buyers_after_cart_B = len(list(set(buyers_B) & set(cart_visitors_B)))\n",
    "buyers_without_cart_A = len(list(set(buyers_A) - set(cart_visitors_A)))\n",
    "buyers_without_cart_B = len(list(set(buyers_B) - set(cart_visitors_B)))\n",
    "\n",
    "print('Купили, посетив корзину (группа A):', buyers_after_cart_A)\n",
    "print('Купили, посетив корзину (группа B):', buyers_after_cart_B)\n",
    "print('Купили, не посетив корзину (группа A):', buyers_without_cart_A)\n",
    "print('Купили, не посетив корзину (группа B):', buyers_without_cart_B)"
   ]
  },
  {
   "cell_type": "markdown",
   "metadata": {},
   "source": [
    "Расчитаем воронку по контрольной и экспериментальной группам и визуализируем результат:"
   ]
  },
  {
   "cell_type": "code",
   "execution_count": 40,
   "metadata": {},
   "outputs": [
    {
     "data": {
      "text/html": [
       "<div>\n",
       "<style scoped>\n",
       "    .dataframe tbody tr th:only-of-type {\n",
       "        vertical-align: middle;\n",
       "    }\n",
       "\n",
       "    .dataframe tbody tr th {\n",
       "        vertical-align: top;\n",
       "    }\n",
       "\n",
       "    .dataframe thead th {\n",
       "        text-align: right;\n",
       "    }\n",
       "</style>\n",
       "<table border=\"1\" class=\"dataframe\">\n",
       "  <thead>\n",
       "    <tr style=\"text-align: right;\">\n",
       "      <th></th>\n",
       "      <th>event_name</th>\n",
       "      <th>A</th>\n",
       "      <th>B</th>\n",
       "      <th>A_percent</th>\n",
       "      <th>B_percent</th>\n",
       "    </tr>\n",
       "  </thead>\n",
       "  <tbody>\n",
       "    <tr>\n",
       "      <td>0</td>\n",
       "      <td>Логин</td>\n",
       "      <td>2422</td>\n",
       "      <td>821</td>\n",
       "      <td>100.0%</td>\n",
       "      <td>100.0%</td>\n",
       "    </tr>\n",
       "    <tr>\n",
       "      <td>1</td>\n",
       "      <td>Заход на страницу продукта</td>\n",
       "      <td>1571</td>\n",
       "      <td>459</td>\n",
       "      <td>64.86%</td>\n",
       "      <td>55.91%</td>\n",
       "    </tr>\n",
       "    <tr>\n",
       "      <td>2</td>\n",
       "      <td>Переход в корзину</td>\n",
       "      <td>728</td>\n",
       "      <td>225</td>\n",
       "      <td>30.06%</td>\n",
       "      <td>27.41%</td>\n",
       "    </tr>\n",
       "    <tr>\n",
       "      <td>3</td>\n",
       "      <td>Покупка</td>\n",
       "      <td>240</td>\n",
       "      <td>69</td>\n",
       "      <td>9.91%</td>\n",
       "      <td>8.4%</td>\n",
       "    </tr>\n",
       "  </tbody>\n",
       "</table>\n",
       "</div>"
      ],
      "text/plain": [
       "                   event_name     A    B A_percent B_percent\n",
       "0                       Логин  2422  821    100.0%    100.0%\n",
       "1  Заход на страницу продукта  1571  459    64.86%    55.91%\n",
       "2           Переход в корзину   728  225    30.06%    27.41%\n",
       "3                     Покупка   240   69     9.91%      8.4%"
      ]
     },
     "metadata": {},
     "output_type": "display_data"
    },
    {
     "data": {
      "text/html": [
       "<div>\n",
       "<style scoped>\n",
       "    .dataframe tbody tr th:only-of-type {\n",
       "        vertical-align: middle;\n",
       "    }\n",
       "\n",
       "    .dataframe tbody tr th {\n",
       "        vertical-align: top;\n",
       "    }\n",
       "\n",
       "    .dataframe thead th {\n",
       "        text-align: right;\n",
       "    }\n",
       "</style>\n",
       "<table border=\"1\" class=\"dataframe\">\n",
       "  <thead>\n",
       "    <tr style=\"text-align: right;\">\n",
       "      <th></th>\n",
       "      <th>event_name</th>\n",
       "      <th>A</th>\n",
       "      <th>B</th>\n",
       "      <th>A_percent</th>\n",
       "      <th>B_percent</th>\n",
       "    </tr>\n",
       "  </thead>\n",
       "  <tbody>\n",
       "    <tr>\n",
       "      <td>0</td>\n",
       "      <td>Логин</td>\n",
       "      <td>2422</td>\n",
       "      <td>821</td>\n",
       "      <td>100.0%</td>\n",
       "      <td>100.0%</td>\n",
       "    </tr>\n",
       "    <tr>\n",
       "      <td>1</td>\n",
       "      <td>Заход на страницу продукта</td>\n",
       "      <td>1571</td>\n",
       "      <td>459</td>\n",
       "      <td>64.86%</td>\n",
       "      <td>55.91%</td>\n",
       "    </tr>\n",
       "    <tr>\n",
       "      <td>3</td>\n",
       "      <td>Покупка</td>\n",
       "      <td>533</td>\n",
       "      <td>157</td>\n",
       "      <td>22.01%</td>\n",
       "      <td>19.12%</td>\n",
       "    </tr>\n",
       "  </tbody>\n",
       "</table>\n",
       "</div>"
      ],
      "text/plain": [
       "                   event_name     A    B A_percent B_percent\n",
       "0                       Логин  2422  821    100.0%    100.0%\n",
       "1  Заход на страницу продукта  1571  459    64.86%    55.91%\n",
       "3                     Покупка   533  157    22.01%    19.12%"
      ]
     },
     "metadata": {},
     "output_type": "display_data"
    }
   ],
   "source": [
    "events_exp = test_data.pivot_table(\n",
    "    index='event_name',\n",
    "    columns='group',\n",
    "    values='user_id',\n",
    "    aggfunc='nunique').reset_index()\n",
    "\n",
    "events_exp.columns = ['event_name', 'A', 'B']\n",
    "sorter = {'Логин': 0, 'Заход на страницу продукта': 1, 'Переход в корзину': 2, 'Покупка': 3}\n",
    "events_exp = events_exp.iloc[events_exp['event_name'].map(sorter).argsort()].reset_index(drop=True)\n",
    "\n",
    "events_exp_cart = events_exp\n",
    "events_exp_without_cart = events_exp.drop([2], axis=0)\n",
    "\n",
    "events_exp_cart.at[3,'A'] = buyers_after_cart_A  \n",
    "events_exp_cart.at[3,'B'] = buyers_after_cart_B\n",
    "events_exp_without_cart.at[3,'A'] = buyers_without_cart_A  \n",
    "events_exp_without_cart.at[3,'B'] = buyers_without_cart_B\n",
    "\n",
    "events_exp_cart['A_percent'] = (events_exp_cart['A']/(events_exp_cart.at[0,'A'])* 100).round(2).astype(str) + '%'\n",
    "events_exp_cart['B_percent'] = (events_exp_cart['B']/(events_exp_cart.at[0,'B'])* 100).round(2).astype(str) + '%'\n",
    "events_exp_without_cart['A_percent'] = (events_exp_without_cart['A']/\n",
    "                                        (events_exp_without_cart.at[0,'A'])* 100).round(2).astype(str) + '%'\n",
    "events_exp_without_cart['B_percent'] = (events_exp_without_cart['B']/\n",
    "                                        (events_exp_without_cart.at[0,'B'])* 100).round(2).astype(str) + '%'\n",
    "\n",
    "display(events_exp_cart)\n",
    "display(events_exp_without_cart)"
   ]
  },
  {
   "cell_type": "code",
   "execution_count": 41,
   "metadata": {
    "scrolled": false
   },
   "outputs": [
    {
     "data": {
      "image/svg+xml": [
       "<svg class=\"main-svg\" xmlns=\"http://www.w3.org/2000/svg\" xmlns:xlink=\"http://www.w3.org/1999/xlink\" width=\"900\" height=\"500\" style=\"\" viewBox=\"0 0 900 500\"><rect x=\"0\" y=\"0\" width=\"900\" height=\"500\" style=\"fill: rgb(255, 255, 255); fill-opacity: 1;\"/><defs id=\"defs-55d66d\"><g class=\"clips\"><clipPath id=\"clip55d66dxyplot\" class=\"plotclip\"><rect width=\"629\" height=\"320\"/></clipPath><clipPath class=\"axesclip\" id=\"clip55d66dx\"><rect x=\"191\" y=\"0\" width=\"629\" height=\"500\"/></clipPath><clipPath class=\"axesclip\" id=\"clip55d66dy\"><rect x=\"0\" y=\"100\" width=\"900\" height=\"320\"/></clipPath><clipPath class=\"axesclip\" id=\"clip55d66dxy\"><rect x=\"191\" y=\"100\" width=\"629\" height=\"320\"/></clipPath></g><g class=\"gradients\"/><g class=\"patterns\"/></defs><g class=\"bglayer\"><rect class=\"bg\" x=\"191\" y=\"100\" width=\"629\" height=\"320\" style=\"fill: rgb(229, 236, 246); fill-opacity: 1; stroke-width: 0;\"/></g><g class=\"layer-below\"><g class=\"imagelayer\"/><g class=\"shapelayer\"/></g><g class=\"cartesianlayer\"><g class=\"subplot xy\"><g class=\"layer-subplot\"><g class=\"shapelayer\"/><g class=\"imagelayer\"/></g><g class=\"gridlayer\"><g class=\"x\"/><g class=\"y\"/></g><g class=\"zerolinelayer\"/><path class=\"xlines-below\"/><path class=\"ylines-below\"/><g class=\"overlines-below\"/><g class=\"xaxislayer-below\"/><g class=\"yaxislayer-below\"/><g class=\"overaxes-below\"/><g class=\"plot\" transform=\"translate(191,100)\" clip-path=\"url(#clip55d66dxyplot)\"><g class=\"funnellayer mlayer\"><g class=\"trace bars\" style=\"opacity: 1;\"><g class=\"regions\"><g class=\"region\"><path d=\"M31.45,72L137.32,88H411.56L454.24,72Z\" style=\"stroke-width: 0; fill: rgb(189, 55, 134); fill-opacity: 0.5;\"/></g><g class=\"region\"><path d=\"M137.32,152L231.32,168H358.4L411.56,152Z\" style=\"stroke-width: 0; fill: rgb(189, 55, 134); fill-opacity: 0.5;\"/></g><g class=\"region\"><path d=\"M231.32,232L287.53,248H329.42L358.4,232Z\" style=\"stroke-width: 0; fill: rgb(189, 55, 134); fill-opacity: 0.5;\"/></g><g class=\"region\"><path d=\"M0,0Z\" style=\"stroke-width: 0; fill: rgb(189, 55, 134); fill-opacity: 0.5;\"/></g></g><g class=\"points\"><g class=\"point\"><path d=\"M31.45,8V72H454.24V8Z\" style=\"vector-effect: non-scaling-stroke; fill: rgb(189, 55, 134); fill-opacity: 1; stroke: rgb(68, 68, 68); stroke-opacity: 1; stroke-width: 0px; opacity: 1;\"/><text class=\"bartext bartext-inside\" text-anchor=\"middle\" data-notex=\"1\" x=\"0\" y=\"0\" style=\"font-family: 'Open Sans', verdana, arial, sans-serif; font-size: 12px; fill: rgb(255, 255, 255); fill-opacity: 1; white-space: pre;\" transform=\"translate(242.845,36.9453125)\"><tspan class=\"line\" dy=\"0em\" x=\"0\" y=\"0\">2422</tspan><tspan class=\"line\" dy=\"1.3em\" x=\"0\" y=\"0\">100%</tspan></text></g><g class=\"point\"><path d=\"M137.32,88V152H411.56V88Z\" style=\"vector-effect: non-scaling-stroke; fill: rgb(189, 55, 134); fill-opacity: 1; stroke: rgb(68, 68, 68); stroke-opacity: 1; stroke-width: 0px; opacity: 1;\"/><text class=\"bartext bartext-inside\" text-anchor=\"middle\" data-notex=\"1\" x=\"0\" y=\"0\" style=\"font-family: 'Open Sans', verdana, arial, sans-serif; font-size: 12px; fill: rgb(255, 255, 255); fill-opacity: 1; white-space: pre;\" transform=\"translate(274.44,116.9453125)\"><tspan class=\"line\" dy=\"0em\" x=\"0\" y=\"0\">1571</tspan><tspan class=\"line\" dy=\"1.3em\" x=\"0\" y=\"0\">65%</tspan></text></g><g class=\"point\"><path d=\"M231.32,168V232H358.4V168Z\" style=\"vector-effect: non-scaling-stroke; fill: rgb(189, 55, 134); fill-opacity: 1; stroke: rgb(68, 68, 68); stroke-opacity: 1; stroke-width: 0px; opacity: 1;\"/><text class=\"bartext bartext-inside\" text-anchor=\"middle\" data-notex=\"1\" x=\"0\" y=\"0\" style=\"font-family: 'Open Sans', verdana, arial, sans-serif; font-size: 12px; fill: rgb(255, 255, 255); fill-opacity: 1; white-space: pre;\" transform=\"translate(294.86,196.9453125)\"><tspan class=\"line\" dy=\"0em\" x=\"0\" y=\"0\">728</tspan><tspan class=\"line\" dy=\"1.3em\" x=\"0\" y=\"0\">46%</tspan></text></g><g class=\"point\"><path d=\"M287.53,248V312H329.42V248Z\" style=\"vector-effect: non-scaling-stroke; fill: rgb(189, 55, 134); fill-opacity: 1; stroke: rgb(68, 68, 68); stroke-opacity: 1; stroke-width: 0px; opacity: 1;\"/><text class=\"bartext bartext-inside\" text-anchor=\"middle\" data-notex=\"1\" x=\"0\" y=\"0\" style=\"font-family: 'Open Sans', verdana, arial, sans-serif; font-size: 12px; fill: rgb(255, 255, 255); fill-opacity: 1; white-space: pre;\" transform=\"translate(308.475,276.9453125)\"><tspan class=\"line\" dy=\"0em\" x=\"0\" y=\"0\">240</tspan><tspan class=\"line\" dy=\"1.3em\" x=\"0\" y=\"0\">33%</tspan></text></g></g></g><g class=\"trace bars\" style=\"opacity: 1;\"><g class=\"regions\"><g class=\"region\"><path d=\"M454.24,72L411.56,88H491.68L597.55,72Z\" style=\"stroke-width: 0; fill: rgb(251, 159, 58); fill-opacity: 0.5;\"/></g><g class=\"region\"><path d=\"M411.56,152L358.4,168H397.68L491.68,152Z\" style=\"stroke-width: 0; fill: rgb(251, 159, 58); fill-opacity: 0.5;\"/></g><g class=\"region\"><path d=\"M358.4,232L329.42,248H341.47L397.68,232Z\" style=\"stroke-width: 0; fill: rgb(251, 159, 58); fill-opacity: 0.5;\"/></g><g class=\"region\"><path d=\"M0,0Z\" style=\"stroke-width: 0; fill: rgb(251, 159, 58); fill-opacity: 0.5;\"/></g></g><g class=\"points\"><g class=\"point\"><path d=\"M454.24,8V72H597.55V8Z\" style=\"vector-effect: non-scaling-stroke; fill: rgb(251, 159, 58); fill-opacity: 1; stroke: rgb(68, 68, 68); stroke-opacity: 1; stroke-width: 0px; opacity: 1;\"/><text class=\"bartext bartext-inside\" text-anchor=\"middle\" data-notex=\"1\" x=\"0\" y=\"0\" style=\"font-family: 'Open Sans', verdana, arial, sans-serif; font-size: 12px; fill: rgb(68, 68, 68); fill-opacity: 1; white-space: pre;\" transform=\"translate(525.895,36.9453125)\"><tspan class=\"line\" dy=\"0em\" x=\"0\" y=\"0\">821</tspan><tspan class=\"line\" dy=\"1.3em\" x=\"0\" y=\"0\">100%</tspan></text></g><g class=\"point\"><path d=\"M411.56,88V152H491.68V88Z\" style=\"vector-effect: non-scaling-stroke; fill: rgb(251, 159, 58); fill-opacity: 1; stroke: rgb(68, 68, 68); stroke-opacity: 1; stroke-width: 0px; opacity: 1;\"/><text class=\"bartext bartext-inside\" text-anchor=\"middle\" data-notex=\"1\" x=\"0\" y=\"0\" style=\"font-family: 'Open Sans', verdana, arial, sans-serif; font-size: 12px; fill: rgb(68, 68, 68); fill-opacity: 1; white-space: pre;\" transform=\"translate(451.62,116.9453125)\"><tspan class=\"line\" dy=\"0em\" x=\"0\" y=\"0\">459</tspan><tspan class=\"line\" dy=\"1.3em\" x=\"0\" y=\"0\">56%</tspan></text></g><g class=\"point\"><path d=\"M358.4,168V232H397.68V168Z\" style=\"vector-effect: non-scaling-stroke; fill: rgb(251, 159, 58); fill-opacity: 1; stroke: rgb(68, 68, 68); stroke-opacity: 1; stroke-width: 0px; opacity: 1;\"/><text class=\"bartext bartext-inside\" text-anchor=\"middle\" data-notex=\"1\" x=\"0\" y=\"0\" style=\"font-family: 'Open Sans', verdana, arial, sans-serif; font-size: 12px; fill: rgb(68, 68, 68); fill-opacity: 1; white-space: pre;\" transform=\"translate(378.03999999999996,196.9453125)\"><tspan class=\"line\" dy=\"0em\" x=\"0\" y=\"0\">225</tspan><tspan class=\"line\" dy=\"1.3em\" x=\"0\" y=\"0\">49%</tspan></text></g><g class=\"point\"><path d=\"M329.42,248V312H341.47V248Z\" style=\"vector-effect: non-scaling-stroke; fill: rgb(251, 159, 58); fill-opacity: 1; stroke: rgb(68, 68, 68); stroke-opacity: 1; stroke-width: 0px; opacity: 1;\"/><text class=\"bartext bartext-inside\" text-anchor=\"middle\" data-notex=\"1\" x=\"0\" y=\"0\" style=\"font-family: 'Open Sans', verdana, arial, sans-serif; font-size: 12px; fill: rgb(68, 68, 68); fill-opacity: 1; white-space: pre;\" transform=\"translate(335.44500000000005,279.34435975609756)scale(0.21463414634146383)\"><tspan class=\"line\" dy=\"0em\" x=\"0\" y=\"0\">69</tspan><tspan class=\"line\" dy=\"1.3em\" x=\"0\" y=\"0\">31%</tspan></text></g></g></g></g></g><g class=\"overplot\"/><path class=\"xlines-above crisp\" d=\"M0,0\" style=\"fill: none;\"/><path class=\"ylines-above crisp\" d=\"M0,0\" style=\"fill: none;\"/><g class=\"overlines-above\"/><g class=\"xaxislayer-above\"/><g class=\"yaxislayer-above\"><g class=\"ytick\"><text text-anchor=\"end\" x=\"190\" y=\"4.199999999999999\" transform=\"translate(0,380)\" style=\"font-family: 'Open Sans', verdana, arial, sans-serif; font-size: 12px; fill: rgb(42, 63, 95); fill-opacity: 1; white-space: pre; opacity: 1;\">Покупка</text></g><g class=\"ytick\"><text text-anchor=\"end\" x=\"190\" y=\"4.199999999999999\" transform=\"translate(0,300)\" style=\"font-family: 'Open Sans', verdana, arial, sans-serif; font-size: 12px; fill: rgb(42, 63, 95); fill-opacity: 1; white-space: pre; opacity: 1;\">Переход в корзину</text></g><g class=\"ytick\"><text text-anchor=\"end\" x=\"190\" y=\"4.199999999999999\" transform=\"translate(0,220)\" style=\"font-family: 'Open Sans', verdana, arial, sans-serif; font-size: 12px; fill: rgb(42, 63, 95); fill-opacity: 1; white-space: pre; opacity: 1;\">Заход на страницу продукта</text></g><g class=\"ytick\"><text text-anchor=\"end\" x=\"190\" y=\"4.199999999999999\" transform=\"translate(0,140)\" style=\"font-family: 'Open Sans', verdana, arial, sans-serif; font-size: 12px; fill: rgb(42, 63, 95); fill-opacity: 1; white-space: pre; opacity: 1;\">Логин</text></g></g><g class=\"overaxes-above\"/></g></g><g class=\"polarlayer\"/><g class=\"ternarylayer\"/><g class=\"geolayer\"/><g class=\"funnelarealayer\"/><g class=\"pielayer\"/><g class=\"iciclelayer\"/><g class=\"treemaplayer\"/><g class=\"sunburstlayer\"/><g class=\"glimages\"/><defs id=\"topdefs-55d66d\"><g class=\"clips\"/><clipPath id=\"legend55d66d\"><rect width=\"54\" height=\"48\" x=\"0\" y=\"0\"/></clipPath></defs><g class=\"layer-above\"><g class=\"imagelayer\"/><g class=\"shapelayer\"/></g><g class=\"infolayer\"><g class=\"legend\" pointer-events=\"all\" transform=\"translate(832.58,100)\"><rect class=\"bg\" shape-rendering=\"crispEdges\" width=\"54\" height=\"48\" x=\"0\" y=\"0\" style=\"stroke: rgb(68, 68, 68); stroke-opacity: 1; fill: rgb(255, 255, 255); fill-opacity: 1; stroke-width: 0px;\"/><g class=\"scrollbox\" transform=\"\" clip-path=\"url(#legend55d66d)\"><g class=\"groups\"><g class=\"traces\" transform=\"translate(0,14.5)\" style=\"opacity: 1;\"><text class=\"legendtext\" text-anchor=\"start\" x=\"40\" y=\"4.680000000000001\" style=\"font-family: 'Open Sans', verdana, arial, sans-serif; font-size: 12px; fill: rgb(42, 63, 95); fill-opacity: 1; white-space: pre;\">A</text><g class=\"layers\" style=\"opacity: 1;\"><g class=\"legendfill\"/><g class=\"legendlines\"/><g class=\"legendsymbols\"><g class=\"legendpoints\"><path class=\"legendfunnel\" d=\"M6,6H-6V-6H6Z\" transform=\"translate(20,0)\" style=\"stroke-width: 0px; fill: rgb(189, 55, 134); fill-opacity: 1;\"/></g></g></g><rect class=\"legendtoggle\" x=\"0\" y=\"-9.5\" width=\"48.234375\" height=\"19\" style=\"fill: rgb(0, 0, 0); fill-opacity: 0;\"/></g><g class=\"traces\" transform=\"translate(0,33.5)\" style=\"opacity: 1;\"><text class=\"legendtext\" text-anchor=\"start\" x=\"40\" y=\"4.680000000000001\" style=\"font-family: 'Open Sans', verdana, arial, sans-serif; font-size: 12px; fill: rgb(42, 63, 95); fill-opacity: 1; white-space: pre;\">B</text><g class=\"layers\" style=\"opacity: 1;\"><g class=\"legendfill\"/><g class=\"legendlines\"/><g class=\"legendsymbols\"><g class=\"legendpoints\"><path class=\"legendfunnel\" d=\"M6,6H-6V-6H6Z\" transform=\"translate(20,0)\" style=\"stroke-width: 0px; fill: rgb(251, 159, 58); fill-opacity: 1;\"/></g></g></g><rect class=\"legendtoggle\" x=\"0\" y=\"-9.5\" width=\"48.234375\" height=\"19\" style=\"fill: rgb(0, 0, 0); fill-opacity: 0;\"/></g></g></g><rect class=\"scrollbar\" rx=\"20\" ry=\"3\" width=\"0\" height=\"0\" x=\"0\" y=\"0\" style=\"fill: rgb(128, 139, 164); fill-opacity: 1;\"/></g><g class=\"g-gtitle\"><text class=\"gtitle\" x=\"45\" y=\"50\" text-anchor=\"start\" dy=\"0em\" style=\"font-family: 'Open Sans', verdana, arial, sans-serif; font-size: 20px; fill: rgb(42, 63, 95); opacity: 1; font-weight: normal; white-space: pre;\">Событийная воронка по группам с корзиной</text></g><g class=\"g-ytitle\"/></g></svg>"
      ]
     },
     "metadata": {},
     "output_type": "display_data"
    },
    {
     "data": {
      "image/svg+xml": [
       "<svg class=\"main-svg\" xmlns=\"http://www.w3.org/2000/svg\" xmlns:xlink=\"http://www.w3.org/1999/xlink\" width=\"900\" height=\"500\" style=\"\" viewBox=\"0 0 900 500\"><rect x=\"0\" y=\"0\" width=\"900\" height=\"500\" style=\"fill: rgb(255, 255, 255); fill-opacity: 1;\"/><defs id=\"defs-5f2a02\"><g class=\"clips\"><clipPath id=\"clip5f2a02xyplot\" class=\"plotclip\"><rect width=\"629\" height=\"320\"/></clipPath><clipPath class=\"axesclip\" id=\"clip5f2a02x\"><rect x=\"191\" y=\"0\" width=\"629\" height=\"500\"/></clipPath><clipPath class=\"axesclip\" id=\"clip5f2a02y\"><rect x=\"0\" y=\"100\" width=\"900\" height=\"320\"/></clipPath><clipPath class=\"axesclip\" id=\"clip5f2a02xy\"><rect x=\"191\" y=\"100\" width=\"629\" height=\"320\"/></clipPath></g><g class=\"gradients\"/><g class=\"patterns\"/></defs><g class=\"bglayer\"><rect class=\"bg\" x=\"191\" y=\"100\" width=\"629\" height=\"320\" style=\"fill: rgb(229, 236, 246); fill-opacity: 1; stroke-width: 0;\"/></g><g class=\"layer-below\"><g class=\"imagelayer\"/><g class=\"shapelayer\"/></g><g class=\"cartesianlayer\"><g class=\"subplot xy\"><g class=\"layer-subplot\"><g class=\"shapelayer\"/><g class=\"imagelayer\"/></g><g class=\"gridlayer\"><g class=\"x\"/><g class=\"y\"/></g><g class=\"zerolinelayer\"/><path class=\"xlines-below\"/><path class=\"ylines-below\"/><g class=\"overlines-below\"/><g class=\"xaxislayer-below\"/><g class=\"yaxislayer-below\"/><g class=\"overaxes-below\"/><g class=\"plot\" transform=\"translate(191,100)\" clip-path=\"url(#clip5f2a02xyplot)\"><g class=\"funnellayer mlayer\"><g class=\"trace bars\" style=\"opacity: 1;\"><g class=\"regions\"><g class=\"region\"><path d=\"M31.45,96L137.32,117.33H411.56L454.24,96Z\" style=\"stroke-width: 0; fill: rgb(189, 55, 134); fill-opacity: 0.5;\"/></g><g class=\"region\"><path d=\"M137.32,202.67L254.28,224H347.32L411.56,202.67Z\" style=\"stroke-width: 0; fill: rgb(189, 55, 134); fill-opacity: 0.5;\"/></g><g class=\"region\"><path d=\"M0,0Z\" style=\"stroke-width: 0; fill: rgb(189, 55, 134); fill-opacity: 0.5;\"/></g></g><g class=\"points\"><g class=\"point\"><path d=\"M31.45,10.67V96H454.24V10.67Z\" style=\"vector-effect: non-scaling-stroke; fill: rgb(189, 55, 134); fill-opacity: 1; stroke: rgb(68, 68, 68); stroke-opacity: 1; stroke-width: 0px; opacity: 1;\"/><text class=\"bartext bartext-inside\" text-anchor=\"middle\" data-notex=\"1\" x=\"0\" y=\"0\" style=\"font-family: 'Open Sans', verdana, arial, sans-serif; font-size: 12px; fill: rgb(255, 255, 255); fill-opacity: 1; white-space: pre;\" transform=\"translate(242.845,50.2803125)\"><tspan class=\"line\" dy=\"0em\" x=\"0\" y=\"0\">2422</tspan><tspan class=\"line\" dy=\"1.3em\" x=\"0\" y=\"0\">100%</tspan></text></g><g class=\"point\"><path d=\"M137.32,117.33V202.67H411.56V117.33Z\" style=\"vector-effect: non-scaling-stroke; fill: rgb(189, 55, 134); fill-opacity: 1; stroke: rgb(68, 68, 68); stroke-opacity: 1; stroke-width: 0px; opacity: 1;\"/><text class=\"bartext bartext-inside\" text-anchor=\"middle\" data-notex=\"1\" x=\"0\" y=\"0\" style=\"font-family: 'Open Sans', verdana, arial, sans-serif; font-size: 12px; fill: rgb(255, 255, 255); fill-opacity: 1; white-space: pre;\" transform=\"translate(274.44,156.9453125)\"><tspan class=\"line\" dy=\"0em\" x=\"0\" y=\"0\">1571</tspan><tspan class=\"line\" dy=\"1.3em\" x=\"0\" y=\"0\">65%</tspan></text></g><g class=\"point\"><path d=\"M254.28,224V309.33H347.32V224Z\" style=\"vector-effect: non-scaling-stroke; fill: rgb(189, 55, 134); fill-opacity: 1; stroke: rgb(68, 68, 68); stroke-opacity: 1; stroke-width: 0px; opacity: 1;\"/><text class=\"bartext bartext-inside\" text-anchor=\"middle\" data-notex=\"1\" x=\"0\" y=\"0\" style=\"font-family: 'Open Sans', verdana, arial, sans-serif; font-size: 12px; fill: rgb(255, 255, 255); fill-opacity: 1; white-space: pre;\" transform=\"translate(300.79999999999995,263.61031249999996)\"><tspan class=\"line\" dy=\"0em\" x=\"0\" y=\"0\">533</tspan><tspan class=\"line\" dy=\"1.3em\" x=\"0\" y=\"0\">34%</tspan></text></g></g></g><g class=\"trace bars\" style=\"opacity: 1;\"><g class=\"regions\"><g class=\"region\"><path d=\"M454.24,96L411.56,117.33H491.68L597.55,96Z\" style=\"stroke-width: 0; fill: rgb(251, 159, 58); fill-opacity: 0.5;\"/></g><g class=\"region\"><path d=\"M411.56,202.67L347.32,224H374.72L491.68,202.67Z\" style=\"stroke-width: 0; fill: rgb(251, 159, 58); fill-opacity: 0.5;\"/></g><g class=\"region\"><path d=\"M0,0Z\" style=\"stroke-width: 0; fill: rgb(251, 159, 58); fill-opacity: 0.5;\"/></g></g><g class=\"points\"><g class=\"point\"><path d=\"M454.24,10.67V96H597.55V10.67Z\" style=\"vector-effect: non-scaling-stroke; fill: rgb(251, 159, 58); fill-opacity: 1; stroke: rgb(68, 68, 68); stroke-opacity: 1; stroke-width: 0px; opacity: 1;\"/><text class=\"bartext bartext-inside\" text-anchor=\"middle\" data-notex=\"1\" x=\"0\" y=\"0\" style=\"font-family: 'Open Sans', verdana, arial, sans-serif; font-size: 12px; fill: rgb(68, 68, 68); fill-opacity: 1; white-space: pre;\" transform=\"translate(525.895,50.2803125)\"><tspan class=\"line\" dy=\"0em\" x=\"0\" y=\"0\">821</tspan><tspan class=\"line\" dy=\"1.3em\" x=\"0\" y=\"0\">100%</tspan></text></g><g class=\"point\"><path d=\"M411.56,117.33V202.67H491.68V117.33Z\" style=\"vector-effect: non-scaling-stroke; fill: rgb(251, 159, 58); fill-opacity: 1; stroke: rgb(68, 68, 68); stroke-opacity: 1; stroke-width: 0px; opacity: 1;\"/><text class=\"bartext bartext-inside\" text-anchor=\"middle\" data-notex=\"1\" x=\"0\" y=\"0\" style=\"font-family: 'Open Sans', verdana, arial, sans-serif; font-size: 12px; fill: rgb(68, 68, 68); fill-opacity: 1; white-space: pre;\" transform=\"translate(451.62,156.9453125)\"><tspan class=\"line\" dy=\"0em\" x=\"0\" y=\"0\">459</tspan><tspan class=\"line\" dy=\"1.3em\" x=\"0\" y=\"0\">56%</tspan></text></g><g class=\"point\"><path d=\"M347.32,224V309.33H374.72V224Z\" style=\"vector-effect: non-scaling-stroke; fill: rgb(251, 159, 58); fill-opacity: 1; stroke: rgb(68, 68, 68); stroke-opacity: 1; stroke-width: 0px; opacity: 1;\"/><text class=\"bartext bartext-inside\" text-anchor=\"middle\" data-notex=\"1\" x=\"0\" y=\"0\" style=\"font-family: 'Open Sans', verdana, arial, sans-serif; font-size: 12px; fill: rgb(68, 68, 68); fill-opacity: 1; white-space: pre;\" transform=\"translate(361.02,264.34587583148556)scale(0.7592017738359214)\"><tspan class=\"line\" dy=\"0em\" x=\"0\" y=\"0\">157</tspan><tspan class=\"line\" dy=\"1.3em\" x=\"0\" y=\"0\">34%</tspan></text></g></g></g></g></g><g class=\"overplot\"/><path class=\"xlines-above crisp\" d=\"M0,0\" style=\"fill: none;\"/><path class=\"ylines-above crisp\" d=\"M0,0\" style=\"fill: none;\"/><g class=\"overlines-above\"/><g class=\"xaxislayer-above\"/><g class=\"yaxislayer-above\"><g class=\"ytick\"><text text-anchor=\"end\" x=\"190\" y=\"4.199999999999999\" transform=\"translate(0,366.67)\" style=\"font-family: 'Open Sans', verdana, arial, sans-serif; font-size: 12px; fill: rgb(42, 63, 95); fill-opacity: 1; white-space: pre; opacity: 1;\">Покупка</text></g><g class=\"ytick\"><text text-anchor=\"end\" x=\"190\" y=\"4.199999999999999\" transform=\"translate(0,260)\" style=\"font-family: 'Open Sans', verdana, arial, sans-serif; font-size: 12px; fill: rgb(42, 63, 95); fill-opacity: 1; white-space: pre; opacity: 1;\">Заход на страницу продукта</text></g><g class=\"ytick\"><text text-anchor=\"end\" x=\"190\" y=\"4.199999999999999\" transform=\"translate(0,153.32999999999998)\" style=\"font-family: 'Open Sans', verdana, arial, sans-serif; font-size: 12px; fill: rgb(42, 63, 95); fill-opacity: 1; white-space: pre; opacity: 1;\">Логин</text></g></g><g class=\"overaxes-above\"/></g></g><g class=\"polarlayer\"/><g class=\"ternarylayer\"/><g class=\"geolayer\"/><g class=\"funnelarealayer\"/><g class=\"pielayer\"/><g class=\"iciclelayer\"/><g class=\"treemaplayer\"/><g class=\"sunburstlayer\"/><g class=\"glimages\"/><defs id=\"topdefs-5f2a02\"><g class=\"clips\"/><clipPath id=\"legend5f2a02\"><rect width=\"54\" height=\"48\" x=\"0\" y=\"0\"/></clipPath></defs><g class=\"layer-above\"><g class=\"imagelayer\"/><g class=\"shapelayer\"/></g><g class=\"infolayer\"><g class=\"legend\" pointer-events=\"all\" transform=\"translate(832.58,100)\"><rect class=\"bg\" shape-rendering=\"crispEdges\" width=\"54\" height=\"48\" x=\"0\" y=\"0\" style=\"stroke: rgb(68, 68, 68); stroke-opacity: 1; fill: rgb(255, 255, 255); fill-opacity: 1; stroke-width: 0px;\"/><g class=\"scrollbox\" transform=\"\" clip-path=\"url(#legend5f2a02)\"><g class=\"groups\"><g class=\"traces\" transform=\"translate(0,14.5)\" style=\"opacity: 1;\"><text class=\"legendtext\" text-anchor=\"start\" x=\"40\" y=\"4.680000000000001\" style=\"font-family: 'Open Sans', verdana, arial, sans-serif; font-size: 12px; fill: rgb(42, 63, 95); fill-opacity: 1; white-space: pre;\">A</text><g class=\"layers\" style=\"opacity: 1;\"><g class=\"legendfill\"/><g class=\"legendlines\"/><g class=\"legendsymbols\"><g class=\"legendpoints\"><path class=\"legendfunnel\" d=\"M6,6H-6V-6H6Z\" transform=\"translate(20,0)\" style=\"stroke-width: 0px; fill: rgb(189, 55, 134); fill-opacity: 1;\"/></g></g></g><rect class=\"legendtoggle\" x=\"0\" y=\"-9.5\" width=\"48.234375\" height=\"19\" style=\"fill: rgb(0, 0, 0); fill-opacity: 0;\"/></g><g class=\"traces\" transform=\"translate(0,33.5)\" style=\"opacity: 1;\"><text class=\"legendtext\" text-anchor=\"start\" x=\"40\" y=\"4.680000000000001\" style=\"font-family: 'Open Sans', verdana, arial, sans-serif; font-size: 12px; fill: rgb(42, 63, 95); fill-opacity: 1; white-space: pre;\">B</text><g class=\"layers\" style=\"opacity: 1;\"><g class=\"legendfill\"/><g class=\"legendlines\"/><g class=\"legendsymbols\"><g class=\"legendpoints\"><path class=\"legendfunnel\" d=\"M6,6H-6V-6H6Z\" transform=\"translate(20,0)\" style=\"stroke-width: 0px; fill: rgb(251, 159, 58); fill-opacity: 1;\"/></g></g></g><rect class=\"legendtoggle\" x=\"0\" y=\"-9.5\" width=\"48.234375\" height=\"19\" style=\"fill: rgb(0, 0, 0); fill-opacity: 0;\"/></g></g></g><rect class=\"scrollbar\" rx=\"20\" ry=\"3\" width=\"0\" height=\"0\" x=\"0\" y=\"0\" style=\"fill: rgb(128, 139, 164); fill-opacity: 1;\"/></g><g class=\"g-gtitle\"><text class=\"gtitle\" x=\"45\" y=\"50\" text-anchor=\"start\" dy=\"0em\" style=\"font-family: 'Open Sans', verdana, arial, sans-serif; font-size: 20px; fill: rgb(42, 63, 95); opacity: 1; font-weight: normal; white-space: pre;\">Событийная воронка по группам без корзины</text></g><g class=\"g-ytitle\"/></g></svg>"
      ]
     },
     "metadata": {},
     "output_type": "display_data"
    }
   ],
   "source": [
    "fig = go.Figure()\n",
    "fig.add_trace(go.Funnel(\n",
    "    name = 'A',\n",
    "    y = events_exp_cart['event_name'],\n",
    "    x = events_exp_cart['A'],\n",
    "    textposition = \"inside\", textinfo = \"value+percent previous\",\n",
    "    marker = {\"color\": colors[4]}, hoverinfo = \"percent previous+percent initial\"))\n",
    "\n",
    "fig.add_trace(go.Funnel(\n",
    "    name = 'B',\n",
    "    y = events_exp_cart['event_name'],\n",
    "    x = events_exp_cart['B'],\n",
    "    textposition = \"inside\", textinfo = \"value+percent previous\", \n",
    "    marker = {\"color\": colors[7]}, hoverinfo = \"percent previous+percent initial\"))\n",
    "\n",
    "fig.update_layout(title_text='Событийная воронка по группам с корзиной', title_font_size=20)\n",
    "fig.show(width=900, height=500, renderer='svg')\n",
    "\n",
    "fig = go.Figure()\n",
    "fig.add_trace(go.Funnel(\n",
    "    name = 'A',\n",
    "    y = events_exp_without_cart['event_name'],\n",
    "    x = events_exp_without_cart['A'],\n",
    "    textposition = \"inside\", textinfo = \"value+percent previous\",\n",
    "    marker = {\"color\": colors[4]}, hoverinfo = \"percent previous+percent initial\"))\n",
    "\n",
    "fig.add_trace(go.Funnel(\n",
    "    name = 'B',\n",
    "    y = events_exp_without_cart['event_name'],\n",
    "    x = events_exp_without_cart['B'],\n",
    "    textposition = \"inside\", textinfo = \"value+percent previous\", \n",
    "    marker = {\"color\": colors[7]}, hoverinfo = \"percent previous+percent initial\"))\n",
    "\n",
    "fig.update_layout(title_text='Событийная воронка по группам без корзины', title_font_size=20)\n",
    "fig.show(width=900, height=500, renderer='svg')"
   ]
  },
  {
   "cell_type": "markdown",
   "metadata": {},
   "source": [
    "Максимальное различие по показателям конверсии между экспериментальной и контрольной группой составляет 9 процентных пункта - по конверсии логинов в заходы на продуктовую страницу. По конверсии переходов в корзину группа B оказалась лучше контрольной группы (49% против 46%). Конверсии посещений продуктовых в покупки практически равны. Чтобы убедиться в корректности выводов, проверим гипотезы о равенстве конверсий для групп A и B при помощи z-критерия."
   ]
  },
  {
   "cell_type": "markdown",
   "metadata": {},
   "source": [
    "### Проверка статистических гипотез\n",
    "\n",
    "Проверим статистическую достоверность отличий групп A и B при помощи z-теста для проверки равенства долей:\n",
    "* H0 - нет статистически значимых различий между конверсиями [метрики] для пользователей контрольной и экспериментальной групп;\n",
    "* H1 - есть статистически значимые различия между конверсиями [метрики] для контрольной и экспериментальной групп.\n",
    "\n",
    "Создадим функцию для проверки гипотез с поправкой на множественные сравнения:"
   ]
  },
  {
   "cell_type": "code",
   "execution_count": 42,
   "metadata": {},
   "outputs": [],
   "source": [
    "def z_test (df, alpha, n_compared, event_name, first_group, second_group):\n",
    "    total_first_group = df.loc[df['event_name'] == 'Логин', first_group].values\n",
    "    total_second_group = df.loc[df['event_name'] == 'Логин', second_group].values\n",
    "    converted_first_group = df.loc[df['event_name'] == event_name, first_group].values\n",
    "    converted_second_group = df.loc[df['event_name'] == event_name, second_group].values\n",
    "    \n",
    "    p1 = converted_first_group/total_first_group\n",
    "    p2 = converted_second_group/total_second_group\n",
    "    p_combined = (converted_first_group + converted_second_group) / (total_first_group + total_second_group)\n",
    "    difference = p1 - p2\n",
    "    \n",
    "    z_value = difference / math.sqrt(\n",
    "        p_combined * (1 - p_combined) * (1/total_first_group + 1/total_second_group))\n",
    "    \n",
    "    distr = st.norm(0, 1)  \n",
    "    p_value = (1 - distr.cdf(abs(z_value))) * 2\n",
    "    \n",
    "    print('разность конверсий: ', difference[0].round(2))\n",
    "    print('p-значение: ', p_value[0])\n",
    "\n",
    "    bonferroni_alpha = alpha /n_compared\n",
    "\n",
    "    if p_value < bonferroni_alpha:\n",
    "        print('Отвергаем нулевую гипотезу: между долями есть значимая разница')\n",
    "    else:\n",
    "        print('Не получилось отвергнуть нулевую гипотезу, нет оснований считать доли разными')"
   ]
  },
  {
   "cell_type": "markdown",
   "metadata": {},
   "source": [
    "Как было видно на диаграмме воронки, значения пропорций групп очень близки, поэтому минимизируем риск обнаружения ложных межгрупповых отличий и установим пороговое значение alpha, равным 0.01, то есть будем отвергать нулевую гипотезу, если вероятность обнаружить межргупповые различия при их отсутствии в генеральной совокупности меньше 1%."
   ]
  },
  {
   "cell_type": "code",
   "execution_count": 43,
   "metadata": {},
   "outputs": [
    {
     "name": "stdout",
     "output_type": "stream",
     "text": [
      "\u001b[1mСобытие:  Заход на страницу продукта \u001b[0m\n",
      "разность конверсий:  0.09\n",
      "p-значение:  4.575797608152854e-06\n",
      "Отвергаем нулевую гипотезу: между долями есть значимая разница\n",
      "\n",
      "\u001b[1mСобытие:  Переход в корзину \u001b[0m\n",
      "разность конверсий:  0.03\n",
      "p-значение:  0.14938759297956405\n",
      "Не получилось отвергнуть нулевую гипотезу, нет оснований считать доли разными\n",
      "\n",
      "\u001b[1mСобытие:  Покупка \u001b[0m\n",
      "разность конверсий:  0.02\n",
      "p-значение:  0.20440508100190513\n",
      "Не получилось отвергнуть нулевую гипотезу, нет оснований считать доли разными\n",
      "\n",
      "\u001b[1mСобытие без посещения корзины:  Покупка \u001b[0m\n",
      "разность конверсий:  0.03\n",
      "p-значение:  0.08104114245079952\n",
      "Не получилось отвергнуть нулевую гипотезу, нет оснований считать доли разными\n",
      "\n"
     ]
    }
   ],
   "source": [
    "for i in (events_exp_cart['event_name'][1:]):\n",
    "    print('\\033[1m'+ 'Событие: ', i, '\\033[0m')\n",
    "    z_test (events_exp_cart, 0.01, 4, i, 'A', 'B')\n",
    "    print()\n",
    "    \n",
    "for i in (events_exp_without_cart['event_name'][2:]):\n",
    "    print('\\033[1m'+ 'Событие без посещения корзины: ', i, '\\033[0m')\n",
    "    z_test (events_exp_without_cart, 0.01, 4, i, 'A', 'B')\n",
    "    print()"
   ]
  },
  {
   "cell_type": "markdown",
   "metadata": {},
   "source": [
    "Для конверсии переходов на продуктовые страницы гипотеза об отсутствии значимых отличий групп была отвергнута. Следовательно, можно считать, что обновленная система рекомендаций ухудшает конверсию в посещение продуктовых страниц (на 0.09 в среднем). Однако учитывая другие проблемы с временными рамками и аудиторией теста, и этому результату доверять нельзя.\n",
    "\n",
    "Для остальных метрик (переход в корзину, покупка с посещением корзины и покупка без перехода в корзину) полученные значения p-value говорят о том, что с вероятностью 8-20% наблюдаемые различия между группами A и B можно получить случайно. "
   ]
  },
  {
   "cell_type": "markdown",
   "metadata": {},
   "source": [
    "## Общий вывод"
   ]
  },
  {
   "cell_type": "markdown",
   "metadata": {},
   "source": [
    "**Характеристики исходных данных**\n",
    "\n",
    "В рамках исследования были использованы данные, полученные в ходе A/B-эксперимента интернет-магазина, целью которого являлась оценка влияния новой рекомендательной системы на поведение пользователей. В исходных массивах (Marketing events, New users, Events и Participants) дубликатов и пропусков не обнаружено, типы переменных распознаны верно, названия переменных и категориальные переменные закодированы кооректно.\n",
    "\n",
    "На этапе фильтрации данных в соответствии с требованиями технического задания были удалены действия:\n",
    "- не относящиеся к тесту recommender_system_test (полученные в рамках теста interface_eu_test)\n",
    "- выходящие за временные границы эксперимента (с 2020-12-07 по 2021-01-04)\n",
    "- относящиеся к пользователям, зарегистрированным после 2020-12-21\n",
    "- относящиеся к участникам контрольной группы другого эксперимента (interface_eu_test)\n",
    "- совпавшие по времени и региону с Christmas&New Year Promo\n",
    "- произошедшие после 14 дней с момента регистрации\n",
    "\n",
    "После фильтрации массива объем анализируемых данных составил 17837 событий. Отфильтрованная выборка не соответствует условиям эксперимента: 6.59% новых пользователей из региона EU вместо 15%, количество участников теста - 3244 вместо 6000. Также было выявлено, что группы A и B не сбалансированы по количеству (2422 и 822 уникальных пользователей в контрольной и экспериментальной группах соответственно) при рекомендуемом максимальном расхождении 1%.\n",
    "\n",
    "\n",
    "**Анализ результатов эксперимента**\n",
    "\n",
    "В среднем на одного пользователя из группы A приходится 6.03 (от 4 до 8 в половине случаев), показатели для группы B ниже: 5.02 в среднем, от 3 до 6 в половине случаев. Анализ воронки продаж строился в соотвествии с этапностю: посещение продуктовой страницы - клик по кнопке \"купить\" - переход в корзину. Так, было установлено, что 63% всех залогиненных пользователей попадают на страницу продукта, из них 49% доходит до клика по кнопке \"купить\", далее из них 95% попадает в корзину. Таким образом, большая часть пользователей теряется после посещения продуктовой страницы, не доходя до покупки.\n",
    "\n",
    "По всем метрикам экспериментальная группа оставалась хуже контрольной на протяжении большей части теста. При этом максимальное различие по показателям конверсии между экспериментальной и контрольной группой составляет 9 процентных пункта - по конверсии логинов в заходы на продуктовую страницу, на втором месте - конверсия кликов \"купить\" в переходы в корзину (6 процентных пунктов), конверсии посещений продуктовых сраниц в клики \"купить\" практически равны. \n",
    "\n",
    "Проверка гипотез о равенстве долей для 2 групп при помощи z-критерия дала следующие результаты:\n",
    "* Заход на страницу продукта. разность конверсий:  0.09, p-значение:  0.0\n",
    "* Переход в корзину. разность конверсий:  0.03, p-значение:  0.1494\n",
    "* Покупка с посещением корзины. разность конверсий:  0.02, p-значение:  0.2044\n",
    "* Покупка без посещения корзины. разность конверсий:  0.03, p-значение:  0.0810\n",
    "\n",
    "Таким образом, гипотеза об отсутствии значимых отличий групп была отвергнута только для конверсии переходов на продуктовые страницы, для остальных метрик нулевая гипотеза не была отвергнута. Однако из-за проблем с аудиторией и временными рамками теста результатам эксперимента доверять нельзя, следовательно, нельзя однозначно сделать вывод, что обновленная система рекомендаций ухудшает конверсию в посещение продуктовых страниц и не оказывает значимого влияния на другие метрики конверсии."
   ]
  }
 ],
 "metadata": {
  "ExecuteTimeLog": [
   {
    "duration": 1636,
    "start_time": "2021-09-13T12:21:22.640Z"
   },
   {
    "duration": 430,
    "start_time": "2021-09-13T12:21:24.277Z"
   },
   {
    "duration": 192,
    "start_time": "2021-09-13T12:22:52.221Z"
   },
   {
    "duration": 4,
    "start_time": "2021-09-13T12:52:31.601Z"
   },
   {
    "duration": 5,
    "start_time": "2021-09-13T12:52:42.776Z"
   },
   {
    "duration": 391,
    "start_time": "2021-09-13T13:09:56.618Z"
   },
   {
    "duration": 181,
    "start_time": "2021-09-13T13:10:01.916Z"
   },
   {
    "duration": 5,
    "start_time": "2021-09-13T13:10:06.729Z"
   },
   {
    "duration": 64,
    "start_time": "2021-09-13T13:10:18.867Z"
   },
   {
    "duration": 334,
    "start_time": "2021-09-13T13:10:23.592Z"
   },
   {
    "duration": 9,
    "start_time": "2021-09-13T13:10:50.242Z"
   },
   {
    "duration": 15,
    "start_time": "2021-09-13T13:11:35.723Z"
   },
   {
    "duration": 307,
    "start_time": "2021-09-13T13:11:58.359Z"
   },
   {
    "duration": 71,
    "start_time": "2021-09-13T13:12:13.716Z"
   },
   {
    "duration": 105,
    "start_time": "2021-09-13T13:13:06.608Z"
   },
   {
    "duration": 66,
    "start_time": "2021-09-13T13:13:14.599Z"
   },
   {
    "duration": 14,
    "start_time": "2021-09-13T14:47:03.420Z"
   },
   {
    "duration": 6,
    "start_time": "2021-09-13T14:49:55.018Z"
   },
   {
    "duration": 85,
    "start_time": "2021-09-13T14:50:16.591Z"
   },
   {
    "duration": 6,
    "start_time": "2021-09-13T14:50:30.863Z"
   },
   {
    "duration": 8,
    "start_time": "2021-09-13T14:58:45.571Z"
   },
   {
    "duration": 5,
    "start_time": "2021-09-13T14:59:06.306Z"
   },
   {
    "duration": 270,
    "start_time": "2021-09-13T14:59:25.108Z"
   },
   {
    "duration": 272,
    "start_time": "2021-09-13T14:59:56.421Z"
   },
   {
    "duration": 7,
    "start_time": "2021-09-13T15:01:40.717Z"
   },
   {
    "duration": 5,
    "start_time": "2021-09-13T15:02:23.099Z"
   },
   {
    "duration": 6,
    "start_time": "2021-09-13T15:02:27.535Z"
   },
   {
    "duration": 6,
    "start_time": "2021-09-13T15:03:10.570Z"
   },
   {
    "duration": 7,
    "start_time": "2021-09-13T15:03:55.001Z"
   },
   {
    "duration": 7,
    "start_time": "2021-09-13T15:04:09.700Z"
   },
   {
    "duration": 1801,
    "start_time": "2021-09-15T04:17:13.152Z"
   },
   {
    "duration": 199,
    "start_time": "2021-09-15T04:17:14.955Z"
   },
   {
    "duration": 4,
    "start_time": "2021-09-15T04:17:15.160Z"
   },
   {
    "duration": 88,
    "start_time": "2021-09-15T04:17:15.166Z"
   },
   {
    "duration": 9,
    "start_time": "2021-09-15T04:17:15.255Z"
   },
   {
    "duration": 28,
    "start_time": "2021-09-15T04:17:15.266Z"
   },
   {
    "duration": 6,
    "start_time": "2021-09-15T04:17:15.296Z"
   },
   {
    "duration": 5,
    "start_time": "2021-09-15T04:17:15.304Z"
   },
   {
    "duration": 98,
    "start_time": "2021-09-15T04:17:15.311Z"
   },
   {
    "duration": 374,
    "start_time": "2021-09-15T04:32:52.614Z"
   },
   {
    "duration": 1077,
    "start_time": "2021-09-15T04:33:02.679Z"
   },
   {
    "duration": 27,
    "start_time": "2021-09-15T04:33:40.271Z"
   },
   {
    "duration": 261,
    "start_time": "2021-09-15T04:33:50.396Z"
   },
   {
    "duration": 1552,
    "start_time": "2021-09-15T04:34:20.568Z"
   },
   {
    "duration": 192,
    "start_time": "2021-09-15T04:34:22.122Z"
   },
   {
    "duration": 4,
    "start_time": "2021-09-15T04:34:22.320Z"
   },
   {
    "duration": 77,
    "start_time": "2021-09-15T04:34:22.326Z"
   },
   {
    "duration": 8,
    "start_time": "2021-09-15T04:34:22.404Z"
   },
   {
    "duration": 15,
    "start_time": "2021-09-15T04:34:22.413Z"
   },
   {
    "duration": 5884,
    "start_time": "2021-09-15T04:34:22.430Z"
   },
   {
    "duration": -61,
    "start_time": "2021-09-15T04:34:28.377Z"
   },
   {
    "duration": -61,
    "start_time": "2021-09-15T04:34:28.378Z"
   },
   {
    "duration": -63,
    "start_time": "2021-09-15T04:34:28.380Z"
   },
   {
    "duration": -63,
    "start_time": "2021-09-15T04:34:28.381Z"
   },
   {
    "duration": 7,
    "start_time": "2021-09-15T04:34:50.967Z"
   },
   {
    "duration": 6,
    "start_time": "2021-09-15T04:34:58.027Z"
   },
   {
    "duration": 30,
    "start_time": "2021-09-15T04:35:01.711Z"
   },
   {
    "duration": 58,
    "start_time": "2021-09-15T04:35:06.703Z"
   },
   {
    "duration": 9294,
    "start_time": "2021-09-15T04:35:42.439Z"
   },
   {
    "duration": 40,
    "start_time": "2021-09-15T04:36:12.701Z"
   },
   {
    "duration": 620,
    "start_time": "2021-09-15T04:36:16.150Z"
   },
   {
    "duration": 138,
    "start_time": "2021-09-15T04:37:27.475Z"
   },
   {
    "duration": 118,
    "start_time": "2021-09-15T04:37:51.110Z"
   },
   {
    "duration": 123,
    "start_time": "2021-09-15T04:42:39.311Z"
   },
   {
    "duration": 1157,
    "start_time": "2021-09-15T04:51:28.330Z"
   },
   {
    "duration": 6979,
    "start_time": "2021-09-15T04:52:06.832Z"
   },
   {
    "duration": 7009,
    "start_time": "2021-09-15T04:52:20.688Z"
   },
   {
    "duration": 117,
    "start_time": "2021-09-15T04:54:20.547Z"
   },
   {
    "duration": 121,
    "start_time": "2021-09-15T04:54:36.055Z"
   },
   {
    "duration": 7114,
    "start_time": "2021-09-15T04:56:12.194Z"
   },
   {
    "duration": 7064,
    "start_time": "2021-09-15T04:58:41.222Z"
   },
   {
    "duration": 6892,
    "start_time": "2021-09-15T04:59:14.000Z"
   },
   {
    "duration": 3320,
    "start_time": "2021-09-15T05:00:00.575Z"
   },
   {
    "duration": 7035,
    "start_time": "2021-09-15T05:00:43.128Z"
   },
   {
    "duration": 263,
    "start_time": "2021-09-15T05:01:18.147Z"
   },
   {
    "duration": 7147,
    "start_time": "2021-09-15T05:01:26.350Z"
   },
   {
    "duration": 127,
    "start_time": "2021-09-15T05:02:05.691Z"
   },
   {
    "duration": 90,
    "start_time": "2021-09-15T05:09:33.987Z"
   },
   {
    "duration": 12,
    "start_time": "2021-09-15T05:15:51.101Z"
   },
   {
    "duration": 33,
    "start_time": "2021-09-15T05:16:27.056Z"
   },
   {
    "duration": 6,
    "start_time": "2021-09-15T05:17:53.413Z"
   },
   {
    "duration": 8,
    "start_time": "2021-09-15T05:18:29.743Z"
   },
   {
    "duration": 8,
    "start_time": "2021-09-15T05:18:50.838Z"
   },
   {
    "duration": 7,
    "start_time": "2021-09-15T05:21:41.613Z"
   },
   {
    "duration": 7,
    "start_time": "2021-09-15T05:21:55.430Z"
   },
   {
    "duration": 38,
    "start_time": "2021-09-15T05:28:15.912Z"
   },
   {
    "duration": 56,
    "start_time": "2021-09-15T05:32:18.755Z"
   },
   {
    "duration": 203,
    "start_time": "2021-09-15T05:34:19.250Z"
   },
   {
    "duration": 163,
    "start_time": "2021-09-15T05:34:57.055Z"
   },
   {
    "duration": 161,
    "start_time": "2021-09-15T05:36:08.247Z"
   },
   {
    "duration": 406,
    "start_time": "2021-09-15T05:37:23.841Z"
   },
   {
    "duration": 410,
    "start_time": "2021-09-15T05:37:46.730Z"
   },
   {
    "duration": 287,
    "start_time": "2021-09-15T05:39:12.477Z"
   },
   {
    "duration": 48,
    "start_time": "2021-09-15T05:39:31.351Z"
   },
   {
    "duration": 50,
    "start_time": "2021-09-15T05:39:50.544Z"
   },
   {
    "duration": 46,
    "start_time": "2021-09-15T05:40:34.620Z"
   },
   {
    "duration": 49,
    "start_time": "2021-09-15T05:41:14.607Z"
   },
   {
    "duration": 50,
    "start_time": "2021-09-15T05:43:45.382Z"
   },
   {
    "duration": 54,
    "start_time": "2021-09-15T05:45:24.356Z"
   },
   {
    "duration": 49,
    "start_time": "2021-09-15T05:46:14.896Z"
   },
   {
    "duration": 10,
    "start_time": "2021-09-15T05:46:20.783Z"
   },
   {
    "duration": 335,
    "start_time": "2021-09-15T05:48:37.074Z"
   },
   {
    "duration": 121,
    "start_time": "2021-09-15T05:50:30.123Z"
   },
   {
    "duration": 112,
    "start_time": "2021-09-15T05:51:08.386Z"
   },
   {
    "duration": 353,
    "start_time": "2021-09-15T05:52:39.353Z"
   },
   {
    "duration": 310,
    "start_time": "2021-09-15T05:53:21.006Z"
   },
   {
    "duration": 54,
    "start_time": "2021-09-15T05:59:50.577Z"
   },
   {
    "duration": 55,
    "start_time": "2021-09-15T06:00:35.597Z"
   },
   {
    "duration": 55,
    "start_time": "2021-09-15T06:00:47.161Z"
   },
   {
    "duration": 52,
    "start_time": "2021-09-15T06:02:57.666Z"
   },
   {
    "duration": 52,
    "start_time": "2021-09-15T06:03:54.134Z"
   },
   {
    "duration": 53,
    "start_time": "2021-09-15T06:04:28.467Z"
   },
   {
    "duration": 53,
    "start_time": "2021-09-15T06:06:26.703Z"
   },
   {
    "duration": 53,
    "start_time": "2021-09-15T06:06:43.289Z"
   },
   {
    "duration": 111,
    "start_time": "2021-09-15T06:06:47.522Z"
   },
   {
    "duration": 33,
    "start_time": "2021-09-15T06:12:42.084Z"
   },
   {
    "duration": 1579,
    "start_time": "2021-09-15T16:57:27.750Z"
   },
   {
    "duration": 251,
    "start_time": "2021-09-15T16:57:29.331Z"
   },
   {
    "duration": 4,
    "start_time": "2021-09-15T16:57:29.584Z"
   },
   {
    "duration": 82,
    "start_time": "2021-09-15T16:57:29.590Z"
   },
   {
    "duration": 7,
    "start_time": "2021-09-15T16:57:29.674Z"
   },
   {
    "duration": 17,
    "start_time": "2021-09-15T16:57:29.683Z"
   },
   {
    "duration": 5,
    "start_time": "2021-09-15T16:57:29.702Z"
   },
   {
    "duration": 4,
    "start_time": "2021-09-15T16:57:29.710Z"
   },
   {
    "duration": 52,
    "start_time": "2021-09-15T16:57:29.716Z"
   },
   {
    "duration": 65,
    "start_time": "2021-09-15T16:57:29.769Z"
   },
   {
    "duration": 8384,
    "start_time": "2021-09-15T16:57:29.835Z"
   },
   {
    "duration": 257,
    "start_time": "2021-09-15T16:57:38.221Z"
   },
   {
    "duration": 85,
    "start_time": "2021-09-15T16:57:38.480Z"
   },
   {
    "duration": 8,
    "start_time": "2021-09-15T16:57:38.567Z"
   },
   {
    "duration": 93,
    "start_time": "2021-09-15T16:57:38.577Z"
   },
   {
    "duration": 105,
    "start_time": "2021-09-15T16:57:38.672Z"
   },
   {
    "duration": 283,
    "start_time": "2021-09-15T16:57:38.779Z"
   },
   {
    "duration": 92,
    "start_time": "2021-09-15T16:57:39.063Z"
   },
   {
    "duration": 108,
    "start_time": "2021-09-15T17:05:21.329Z"
   },
   {
    "duration": 3588,
    "start_time": "2021-09-15T17:05:56.521Z"
   },
   {
    "duration": 3359,
    "start_time": "2021-09-15T17:06:16.647Z"
   },
   {
    "duration": 122,
    "start_time": "2021-09-15T17:07:37.853Z"
   },
   {
    "duration": 127,
    "start_time": "2021-09-15T17:09:09.138Z"
   },
   {
    "duration": 195,
    "start_time": "2021-09-15T17:09:41.660Z"
   },
   {
    "duration": 133,
    "start_time": "2021-09-15T17:10:04.294Z"
   },
   {
    "duration": 132,
    "start_time": "2021-09-15T17:10:24.635Z"
   },
   {
    "duration": 339,
    "start_time": "2021-09-15T17:10:38.834Z"
   },
   {
    "duration": 6924,
    "start_time": "2021-09-15T17:11:01.035Z"
   },
   {
    "duration": 648,
    "start_time": "2021-09-15T17:16:58.753Z"
   },
   {
    "duration": 668,
    "start_time": "2021-09-15T17:17:23.142Z"
   },
   {
    "duration": 4117,
    "start_time": "2021-09-15T17:18:21.781Z"
   },
   {
    "duration": 35,
    "start_time": "2021-09-15T19:16:20.145Z"
   },
   {
    "duration": 37,
    "start_time": "2021-09-15T19:16:30.613Z"
   },
   {
    "duration": 1217,
    "start_time": "2021-09-15T19:17:12.640Z"
   },
   {
    "duration": 33,
    "start_time": "2021-09-15T19:17:28.863Z"
   },
   {
    "duration": 292,
    "start_time": "2021-09-15T19:18:05.988Z"
   },
   {
    "duration": 55,
    "start_time": "2021-09-15T19:18:14.760Z"
   },
   {
    "duration": 60,
    "start_time": "2021-09-15T19:18:23.550Z"
   },
   {
    "duration": 1486,
    "start_time": "2021-09-15T19:21:03.530Z"
   },
   {
    "duration": 201,
    "start_time": "2021-09-15T19:21:29.504Z"
   },
   {
    "duration": 198,
    "start_time": "2021-09-15T19:22:07.809Z"
   },
   {
    "duration": 1667,
    "start_time": "2021-09-15T19:23:04.654Z"
   },
   {
    "duration": 193,
    "start_time": "2021-09-15T19:23:12.805Z"
   },
   {
    "duration": 202,
    "start_time": "2021-09-15T19:26:03.804Z"
   },
   {
    "duration": 197,
    "start_time": "2021-09-15T19:27:44.137Z"
   },
   {
    "duration": 199,
    "start_time": "2021-09-15T19:28:07.211Z"
   },
   {
    "duration": 200,
    "start_time": "2021-09-15T19:29:25.733Z"
   },
   {
    "duration": 1328,
    "start_time": "2021-09-15T19:30:05.719Z"
   },
   {
    "duration": 198,
    "start_time": "2021-09-15T19:31:10.290Z"
   },
   {
    "duration": 519,
    "start_time": "2021-09-15T19:31:36.152Z"
   },
   {
    "duration": 559,
    "start_time": "2021-09-15T19:31:52.068Z"
   },
   {
    "duration": 6,
    "start_time": "2021-09-15T19:39:48.859Z"
   },
   {
    "duration": 10,
    "start_time": "2021-09-15T19:40:24.050Z"
   },
   {
    "duration": 198,
    "start_time": "2021-09-15T19:41:25.396Z"
   },
   {
    "duration": 3,
    "start_time": "2021-09-15T19:45:57.201Z"
   },
   {
    "duration": 6,
    "start_time": "2021-09-15T19:46:03.227Z"
   },
   {
    "duration": 359,
    "start_time": "2021-09-15T19:47:32.646Z"
   },
   {
    "duration": 205,
    "start_time": "2021-09-15T19:48:07.147Z"
   },
   {
    "duration": 501,
    "start_time": "2021-09-15T19:52:36.579Z"
   },
   {
    "duration": 555,
    "start_time": "2021-09-15T19:52:51.740Z"
   },
   {
    "duration": 203,
    "start_time": "2021-09-15T19:53:12.171Z"
   },
   {
    "duration": 202,
    "start_time": "2021-09-15T19:53:21.568Z"
   },
   {
    "duration": 194,
    "start_time": "2021-09-15T19:55:27.761Z"
   },
   {
    "duration": 201,
    "start_time": "2021-09-15T19:56:38.987Z"
   },
   {
    "duration": 33,
    "start_time": "2021-09-15T19:57:24.749Z"
   },
   {
    "duration": 11378,
    "start_time": "2021-09-15T19:57:40.865Z"
   },
   {
    "duration": 8650,
    "start_time": "2021-09-15T19:59:24.419Z"
   },
   {
    "duration": 33,
    "start_time": "2021-09-15T19:59:35.405Z"
   },
   {
    "duration": 33,
    "start_time": "2021-09-15T19:59:42.652Z"
   },
   {
    "duration": 206,
    "start_time": "2021-09-15T19:59:47.164Z"
   },
   {
    "duration": 70,
    "start_time": "2021-09-15T20:03:38.844Z"
   },
   {
    "duration": 76,
    "start_time": "2021-09-15T20:04:12.371Z"
   },
   {
    "duration": 71,
    "start_time": "2021-09-15T20:04:33.418Z"
   },
   {
    "duration": 6557,
    "start_time": "2021-09-15T20:05:12.478Z"
   },
   {
    "duration": 207,
    "start_time": "2021-09-15T20:05:32.156Z"
   },
   {
    "duration": 195,
    "start_time": "2021-09-15T20:06:03.411Z"
   },
   {
    "duration": 65,
    "start_time": "2021-09-15T20:07:55.923Z"
   },
   {
    "duration": 194,
    "start_time": "2021-09-15T20:08:23.138Z"
   },
   {
    "duration": 602,
    "start_time": "2021-09-15T20:10:58.139Z"
   },
   {
    "duration": 205,
    "start_time": "2021-09-15T20:11:11.267Z"
   },
   {
    "duration": 210,
    "start_time": "2021-09-15T20:11:31.963Z"
   },
   {
    "duration": 198,
    "start_time": "2021-09-15T20:12:33.758Z"
   },
   {
    "duration": 203,
    "start_time": "2021-09-15T20:12:52.988Z"
   },
   {
    "duration": 200,
    "start_time": "2021-09-15T20:18:27.264Z"
   },
   {
    "duration": 4,
    "start_time": "2021-09-15T20:19:08.915Z"
   },
   {
    "duration": 492,
    "start_time": "2021-09-15T20:19:39.137Z"
   },
   {
    "duration": 482,
    "start_time": "2021-09-15T20:20:01.643Z"
   },
   {
    "duration": 197,
    "start_time": "2021-09-15T20:20:21.593Z"
   },
   {
    "duration": 738,
    "start_time": "2021-09-15T20:21:18.894Z"
   },
   {
    "duration": 200,
    "start_time": "2021-09-15T20:21:57.568Z"
   },
   {
    "duration": 193,
    "start_time": "2021-09-15T20:22:06.929Z"
   },
   {
    "duration": 205,
    "start_time": "2021-09-15T20:22:25.532Z"
   },
   {
    "duration": 196,
    "start_time": "2021-09-15T20:22:40.891Z"
   },
   {
    "duration": 196,
    "start_time": "2021-09-15T20:22:48.997Z"
   },
   {
    "duration": 486,
    "start_time": "2021-09-15T20:22:55.650Z"
   },
   {
    "duration": 200,
    "start_time": "2021-09-15T20:23:16.327Z"
   },
   {
    "duration": 195,
    "start_time": "2021-09-15T20:24:59.158Z"
   },
   {
    "duration": 197,
    "start_time": "2021-09-15T20:25:35.818Z"
   },
   {
    "duration": 289,
    "start_time": "2021-09-15T20:25:48.905Z"
   },
   {
    "duration": 5,
    "start_time": "2021-09-15T20:26:09.052Z"
   },
   {
    "duration": 195,
    "start_time": "2021-09-15T20:26:20.746Z"
   },
   {
    "duration": 205,
    "start_time": "2021-09-15T20:27:05.720Z"
   },
   {
    "duration": 204,
    "start_time": "2021-09-15T20:29:25.017Z"
   },
   {
    "duration": 206,
    "start_time": "2021-09-15T20:29:41.412Z"
   },
   {
    "duration": 209,
    "start_time": "2021-09-15T20:30:03.695Z"
   },
   {
    "duration": 209,
    "start_time": "2021-09-15T20:35:17.812Z"
   },
   {
    "duration": 506,
    "start_time": "2021-09-15T20:37:30.187Z"
   },
   {
    "duration": 218,
    "start_time": "2021-09-15T20:39:14.042Z"
   },
   {
    "duration": 211,
    "start_time": "2021-09-15T20:40:13.624Z"
   },
   {
    "duration": 905,
    "start_time": "2021-09-15T20:40:35.151Z"
   },
   {
    "duration": 222,
    "start_time": "2021-09-15T20:40:44.329Z"
   },
   {
    "duration": 212,
    "start_time": "2021-09-15T20:41:01.807Z"
   },
   {
    "duration": 211,
    "start_time": "2021-09-15T20:41:51.239Z"
   },
   {
    "duration": 210,
    "start_time": "2021-09-15T20:42:06.217Z"
   },
   {
    "duration": 202,
    "start_time": "2021-09-15T20:42:33.564Z"
   },
   {
    "duration": 4,
    "start_time": "2021-09-15T20:43:25.851Z"
   },
   {
    "duration": 300,
    "start_time": "2021-09-15T20:43:51.707Z"
   },
   {
    "duration": 6,
    "start_time": "2021-09-15T20:44:07.780Z"
   },
   {
    "duration": 1953,
    "start_time": "2021-09-15T20:44:36.855Z"
   },
   {
    "duration": 6,
    "start_time": "2021-09-15T20:44:54.192Z"
   },
   {
    "duration": 5,
    "start_time": "2021-09-15T20:50:56.266Z"
   },
   {
    "duration": 4,
    "start_time": "2021-09-15T20:51:33.155Z"
   },
   {
    "duration": 4,
    "start_time": "2021-09-15T20:51:48.463Z"
   },
   {
    "duration": 3,
    "start_time": "2021-09-15T20:54:20.396Z"
   },
   {
    "duration": 373,
    "start_time": "2021-09-15T20:57:10.532Z"
   },
   {
    "duration": 7,
    "start_time": "2021-09-15T20:58:07.317Z"
   },
   {
    "duration": 213,
    "start_time": "2021-09-15T20:58:43.203Z"
   },
   {
    "duration": 120,
    "start_time": "2021-09-15T21:05:03.767Z"
   },
   {
    "duration": 2272,
    "start_time": "2021-09-15T21:06:29.934Z"
   },
   {
    "duration": 194,
    "start_time": "2021-09-15T21:06:32.208Z"
   },
   {
    "duration": 4,
    "start_time": "2021-09-15T21:06:32.404Z"
   },
   {
    "duration": 78,
    "start_time": "2021-09-15T21:06:32.410Z"
   },
   {
    "duration": 7,
    "start_time": "2021-09-15T21:06:32.490Z"
   },
   {
    "duration": 17,
    "start_time": "2021-09-15T21:06:32.499Z"
   },
   {
    "duration": 6,
    "start_time": "2021-09-15T21:06:32.518Z"
   },
   {
    "duration": 24,
    "start_time": "2021-09-15T21:06:32.526Z"
   },
   {
    "duration": 28,
    "start_time": "2021-09-15T21:06:32.553Z"
   },
   {
    "duration": 77,
    "start_time": "2021-09-15T21:06:32.583Z"
   },
   {
    "duration": 407,
    "start_time": "2021-09-15T21:06:32.662Z"
   },
   {
    "duration": -38,
    "start_time": "2021-09-15T21:06:33.109Z"
   },
   {
    "duration": -39,
    "start_time": "2021-09-15T21:06:33.111Z"
   },
   {
    "duration": -40,
    "start_time": "2021-09-15T21:06:33.113Z"
   },
   {
    "duration": -40,
    "start_time": "2021-09-15T21:06:33.114Z"
   },
   {
    "duration": -44,
    "start_time": "2021-09-15T21:06:33.119Z"
   },
   {
    "duration": -44,
    "start_time": "2021-09-15T21:06:33.120Z"
   },
   {
    "duration": -45,
    "start_time": "2021-09-15T21:06:33.122Z"
   },
   {
    "duration": -45,
    "start_time": "2021-09-15T21:06:33.123Z"
   },
   {
    "duration": -45,
    "start_time": "2021-09-15T21:06:33.124Z"
   },
   {
    "duration": -45,
    "start_time": "2021-09-15T21:06:33.125Z"
   },
   {
    "duration": -46,
    "start_time": "2021-09-15T21:06:33.127Z"
   },
   {
    "duration": -46,
    "start_time": "2021-09-15T21:06:33.128Z"
   },
   {
    "duration": -46,
    "start_time": "2021-09-15T21:06:33.129Z"
   },
   {
    "duration": 1574,
    "start_time": "2021-09-15T21:07:21.322Z"
   },
   {
    "duration": 201,
    "start_time": "2021-09-15T21:07:22.898Z"
   },
   {
    "duration": 4,
    "start_time": "2021-09-15T21:07:23.101Z"
   },
   {
    "duration": 77,
    "start_time": "2021-09-15T21:07:23.106Z"
   },
   {
    "duration": 8,
    "start_time": "2021-09-15T21:07:23.184Z"
   },
   {
    "duration": 16,
    "start_time": "2021-09-15T21:07:23.193Z"
   },
   {
    "duration": 6,
    "start_time": "2021-09-15T21:07:23.210Z"
   },
   {
    "duration": 8,
    "start_time": "2021-09-15T21:07:23.218Z"
   },
   {
    "duration": 28,
    "start_time": "2021-09-15T21:07:23.249Z"
   },
   {
    "duration": 71,
    "start_time": "2021-09-15T21:07:23.279Z"
   },
   {
    "duration": 645,
    "start_time": "2021-09-15T21:07:23.352Z"
   },
   {
    "duration": 73,
    "start_time": "2021-09-15T21:07:23.999Z"
   },
   {
    "duration": 9,
    "start_time": "2021-09-15T21:07:24.074Z"
   },
   {
    "duration": 104,
    "start_time": "2021-09-15T21:07:24.085Z"
   },
   {
    "duration": 99,
    "start_time": "2021-09-15T21:07:24.191Z"
   },
   {
    "duration": 127,
    "start_time": "2021-09-15T21:07:24.291Z"
   },
   {
    "duration": 81,
    "start_time": "2021-09-15T21:07:24.420Z"
   },
   {
    "duration": 454,
    "start_time": "2021-09-15T21:07:24.503Z"
   },
   {
    "duration": -1895,
    "start_time": "2021-09-15T21:07:26.854Z"
   },
   {
    "duration": -1895,
    "start_time": "2021-09-15T21:07:26.855Z"
   },
   {
    "duration": -1895,
    "start_time": "2021-09-15T21:07:26.856Z"
   },
   {
    "duration": -1894,
    "start_time": "2021-09-15T21:07:26.856Z"
   },
   {
    "duration": -1895,
    "start_time": "2021-09-15T21:07:26.857Z"
   },
   {
    "duration": 212,
    "start_time": "2021-09-15T21:07:43.464Z"
   },
   {
    "duration": 127,
    "start_time": "2021-09-15T21:07:47.017Z"
   },
   {
    "duration": 213,
    "start_time": "2021-09-15T21:08:23.577Z"
   },
   {
    "duration": 1640,
    "start_time": "2021-09-15T21:08:39.924Z"
   },
   {
    "duration": 194,
    "start_time": "2021-09-15T21:08:41.566Z"
   },
   {
    "duration": 5,
    "start_time": "2021-09-15T21:08:41.762Z"
   },
   {
    "duration": 68,
    "start_time": "2021-09-15T21:08:41.769Z"
   },
   {
    "duration": 17,
    "start_time": "2021-09-15T21:08:41.839Z"
   },
   {
    "duration": 15,
    "start_time": "2021-09-15T21:08:41.858Z"
   },
   {
    "duration": 6,
    "start_time": "2021-09-15T21:08:41.874Z"
   },
   {
    "duration": 4,
    "start_time": "2021-09-15T21:08:41.883Z"
   },
   {
    "duration": 26,
    "start_time": "2021-09-15T21:08:41.889Z"
   },
   {
    "duration": 59,
    "start_time": "2021-09-15T21:08:41.949Z"
   },
   {
    "duration": 655,
    "start_time": "2021-09-15T21:08:42.010Z"
   },
   {
    "duration": 88,
    "start_time": "2021-09-15T21:08:42.666Z"
   },
   {
    "duration": 8,
    "start_time": "2021-09-15T21:08:42.756Z"
   },
   {
    "duration": 102,
    "start_time": "2021-09-15T21:08:42.766Z"
   },
   {
    "duration": 81,
    "start_time": "2021-09-15T21:08:42.869Z"
   },
   {
    "duration": 138,
    "start_time": "2021-09-15T21:08:42.952Z"
   },
   {
    "duration": 170,
    "start_time": "2021-09-15T21:08:43.092Z"
   },
   {
    "duration": 333,
    "start_time": "2021-09-15T21:08:43.264Z"
   },
   {
    "duration": 126,
    "start_time": "2021-09-15T21:08:43.598Z"
   },
   {
    "duration": 3,
    "start_time": "2021-09-15T21:08:43.726Z"
   },
   {
    "duration": 20,
    "start_time": "2021-09-15T21:08:43.730Z"
   },
   {
    "duration": 4,
    "start_time": "2021-09-15T21:09:13.441Z"
   },
   {
    "duration": 6,
    "start_time": "2021-09-15T21:09:16.424Z"
   },
   {
    "duration": 527,
    "start_time": "2021-09-15T21:10:50.666Z"
   },
   {
    "duration": 6,
    "start_time": "2021-09-15T21:11:43.859Z"
   },
   {
    "duration": 341,
    "start_time": "2021-09-15T21:19:43.990Z"
   },
   {
    "duration": 10078,
    "start_time": "2021-09-15T21:19:59.044Z"
   },
   {
    "duration": 6,
    "start_time": "2021-09-15T21:22:36.652Z"
   },
   {
    "duration": 1060,
    "start_time": "2021-09-15T21:23:44.195Z"
   },
   {
    "duration": 469,
    "start_time": "2021-09-15T21:23:53.934Z"
   },
   {
    "duration": 7,
    "start_time": "2021-09-15T21:24:39.761Z"
   },
   {
    "duration": 349,
    "start_time": "2021-09-15T21:26:10.966Z"
   },
   {
    "duration": 446,
    "start_time": "2021-09-15T21:27:05.835Z"
   },
   {
    "duration": 7,
    "start_time": "2021-09-15T21:27:14.173Z"
   },
   {
    "duration": 382,
    "start_time": "2021-09-15T21:27:46.524Z"
   },
   {
    "duration": 982,
    "start_time": "2021-09-15T21:29:16.825Z"
   },
   {
    "duration": 304,
    "start_time": "2021-09-15T21:30:18.855Z"
   },
   {
    "duration": 1992,
    "start_time": "2021-09-15T21:30:43.261Z"
   },
   {
    "duration": 2430,
    "start_time": "2021-09-15T21:31:29.160Z"
   },
   {
    "duration": 6,
    "start_time": "2021-09-15T21:34:17.602Z"
   },
   {
    "duration": 4964,
    "start_time": "2021-09-15T21:34:36.937Z"
   },
   {
    "duration": 5,
    "start_time": "2021-09-15T21:35:45.781Z"
   },
   {
    "duration": 6,
    "start_time": "2021-09-15T21:36:46.834Z"
   },
   {
    "duration": 5486,
    "start_time": "2021-09-15T21:36:58.160Z"
   },
   {
    "duration": 8,
    "start_time": "2021-09-15T21:37:14.109Z"
   },
   {
    "duration": 6,
    "start_time": "2021-09-15T21:37:26.198Z"
   },
   {
    "duration": 6,
    "start_time": "2021-09-15T21:37:33.312Z"
   },
   {
    "duration": 11,
    "start_time": "2021-09-15T21:37:55.432Z"
   },
   {
    "duration": 6,
    "start_time": "2021-09-15T21:38:05.829Z"
   },
   {
    "duration": 2105,
    "start_time": "2021-09-16T07:11:26.483Z"
   },
   {
    "duration": 198,
    "start_time": "2021-09-16T07:11:28.590Z"
   },
   {
    "duration": 5,
    "start_time": "2021-09-16T07:11:28.790Z"
   },
   {
    "duration": 79,
    "start_time": "2021-09-16T07:11:28.797Z"
   },
   {
    "duration": 10,
    "start_time": "2021-09-16T07:11:28.878Z"
   },
   {
    "duration": 20,
    "start_time": "2021-09-16T07:11:28.890Z"
   },
   {
    "duration": 7,
    "start_time": "2021-09-16T07:11:28.912Z"
   },
   {
    "duration": 17,
    "start_time": "2021-09-16T07:11:28.923Z"
   },
   {
    "duration": 47,
    "start_time": "2021-09-16T07:11:28.942Z"
   },
   {
    "duration": 59,
    "start_time": "2021-09-16T07:11:28.990Z"
   },
   {
    "duration": 856,
    "start_time": "2021-09-16T07:11:29.051Z"
   },
   {
    "duration": 80,
    "start_time": "2021-09-16T07:11:29.910Z"
   },
   {
    "duration": 11,
    "start_time": "2021-09-16T07:11:29.991Z"
   },
   {
    "duration": 117,
    "start_time": "2021-09-16T07:11:30.005Z"
   },
   {
    "duration": 105,
    "start_time": "2021-09-16T07:11:30.124Z"
   },
   {
    "duration": 152,
    "start_time": "2021-09-16T07:11:30.230Z"
   },
   {
    "duration": 67,
    "start_time": "2021-09-16T07:11:30.383Z"
   },
   {
    "duration": 232,
    "start_time": "2021-09-16T07:11:30.451Z"
   },
   {
    "duration": 137,
    "start_time": "2021-09-16T07:11:30.685Z"
   },
   {
    "duration": 7,
    "start_time": "2021-09-16T07:11:30.823Z"
   },
   {
    "duration": 32,
    "start_time": "2021-09-16T07:11:30.832Z"
   },
   {
    "duration": 204,
    "start_time": "2021-09-16T07:11:30.866Z"
   },
   {
    "duration": 15,
    "start_time": "2021-09-16T07:11:31.057Z"
   },
   {
    "duration": 7,
    "start_time": "2021-09-16T07:12:14.233Z"
   },
   {
    "duration": 8,
    "start_time": "2021-09-16T07:12:38.214Z"
   },
   {
    "duration": 5,
    "start_time": "2021-09-16T07:12:51.352Z"
   },
   {
    "duration": 7,
    "start_time": "2021-09-16T07:13:00.616Z"
   },
   {
    "duration": 7,
    "start_time": "2021-09-16T07:13:18.022Z"
   },
   {
    "duration": 564,
    "start_time": "2021-09-16T07:13:27.275Z"
   },
   {
    "duration": 7,
    "start_time": "2021-09-16T07:13:35.166Z"
   },
   {
    "duration": 11,
    "start_time": "2021-09-16T07:14:06.109Z"
   },
   {
    "duration": 11,
    "start_time": "2021-09-16T07:14:53.054Z"
   },
   {
    "duration": 352,
    "start_time": "2021-09-16T07:15:33.008Z"
   },
   {
    "duration": 8,
    "start_time": "2021-09-16T07:16:12.549Z"
   },
   {
    "duration": 11,
    "start_time": "2021-09-16T07:27:52.354Z"
   },
   {
    "duration": 5,
    "start_time": "2021-09-16T07:31:58.182Z"
   },
   {
    "duration": 7,
    "start_time": "2021-09-16T07:32:02.098Z"
   },
   {
    "duration": 5,
    "start_time": "2021-09-16T07:32:12.729Z"
   },
   {
    "duration": 8,
    "start_time": "2021-09-16T07:32:16.320Z"
   },
   {
    "duration": 6,
    "start_time": "2021-09-16T07:33:46.999Z"
   },
   {
    "duration": 8,
    "start_time": "2021-09-16T07:33:50.484Z"
   },
   {
    "duration": 5,
    "start_time": "2021-09-16T07:34:25.511Z"
   },
   {
    "duration": 7,
    "start_time": "2021-09-16T07:34:29.018Z"
   },
   {
    "duration": 6,
    "start_time": "2021-09-16T07:35:42.187Z"
   },
   {
    "duration": 8,
    "start_time": "2021-09-16T07:35:44.581Z"
   },
   {
    "duration": 5,
    "start_time": "2021-09-16T07:36:37.838Z"
   },
   {
    "duration": 6,
    "start_time": "2021-09-16T07:36:43.384Z"
   },
   {
    "duration": 6,
    "start_time": "2021-09-16T07:37:25.021Z"
   },
   {
    "duration": 7,
    "start_time": "2021-09-16T07:37:27.974Z"
   },
   {
    "duration": 8,
    "start_time": "2021-09-16T07:37:44.984Z"
   },
   {
    "duration": 7,
    "start_time": "2021-09-16T07:38:13.091Z"
   },
   {
    "duration": 228,
    "start_time": "2021-09-16T07:40:00.560Z"
   },
   {
    "duration": 5,
    "start_time": "2021-09-16T07:42:05.549Z"
   },
   {
    "duration": 375,
    "start_time": "2021-09-16T07:42:26.834Z"
   },
   {
    "duration": 5,
    "start_time": "2021-09-16T07:42:43.782Z"
   },
   {
    "duration": 4,
    "start_time": "2021-09-16T07:43:39.542Z"
   },
   {
    "duration": 124,
    "start_time": "2021-09-16T07:44:51.590Z"
   },
   {
    "duration": 4,
    "start_time": "2021-09-16T07:44:59.690Z"
   },
   {
    "duration": 23,
    "start_time": "2021-09-16T07:45:44.958Z"
   },
   {
    "duration": 4,
    "start_time": "2021-09-16T07:47:29.091Z"
   },
   {
    "duration": 5,
    "start_time": "2021-09-16T07:47:39.282Z"
   },
   {
    "duration": 16,
    "start_time": "2021-09-16T07:47:58.377Z"
   },
   {
    "duration": 18,
    "start_time": "2021-09-16T07:48:35.713Z"
   },
   {
    "duration": 5,
    "start_time": "2021-09-16T07:54:21.760Z"
   },
   {
    "duration": 15,
    "start_time": "2021-09-16T07:54:28.238Z"
   },
   {
    "duration": 14,
    "start_time": "2021-09-16T07:54:44.714Z"
   },
   {
    "duration": 206,
    "start_time": "2021-09-16T08:05:28.622Z"
   },
   {
    "duration": 5,
    "start_time": "2021-09-16T08:07:29.559Z"
   },
   {
    "duration": 6,
    "start_time": "2021-09-16T08:07:46.643Z"
   },
   {
    "duration": 18,
    "start_time": "2021-09-16T08:07:54.676Z"
   },
   {
    "duration": 17,
    "start_time": "2021-09-16T08:10:19.099Z"
   },
   {
    "duration": 19,
    "start_time": "2021-09-16T08:10:44.392Z"
   },
   {
    "duration": 20,
    "start_time": "2021-09-16T08:12:03.229Z"
   },
   {
    "duration": 20,
    "start_time": "2021-09-16T08:12:15.154Z"
   },
   {
    "duration": 21,
    "start_time": "2021-09-16T08:13:08.189Z"
   },
   {
    "duration": 20,
    "start_time": "2021-09-16T08:13:27.143Z"
   },
   {
    "duration": 21,
    "start_time": "2021-09-16T08:16:38.306Z"
   },
   {
    "duration": 20,
    "start_time": "2021-09-16T08:17:06.695Z"
   },
   {
    "duration": 6,
    "start_time": "2021-09-16T08:17:34.071Z"
   },
   {
    "duration": 17,
    "start_time": "2021-09-16T08:17:37.244Z"
   },
   {
    "duration": 6,
    "start_time": "2021-09-16T08:17:56.867Z"
   },
   {
    "duration": 8,
    "start_time": "2021-09-16T08:18:01.206Z"
   },
   {
    "duration": 20,
    "start_time": "2021-09-16T08:18:09.494Z"
   },
   {
    "duration": 22,
    "start_time": "2021-09-16T08:20:06.062Z"
   },
   {
    "duration": 22,
    "start_time": "2021-09-16T08:20:59.147Z"
   },
   {
    "duration": 234,
    "start_time": "2021-09-16T08:26:01.743Z"
   },
   {
    "duration": 228,
    "start_time": "2021-09-16T08:26:30.054Z"
   },
   {
    "duration": 20,
    "start_time": "2021-09-16T08:26:58.648Z"
   },
   {
    "duration": 382,
    "start_time": "2021-09-16T08:31:03.492Z"
   },
   {
    "duration": 7,
    "start_time": "2021-09-16T08:31:12.038Z"
   },
   {
    "duration": 6,
    "start_time": "2021-09-16T08:36:55.525Z"
   },
   {
    "duration": 7,
    "start_time": "2021-09-16T08:37:01.142Z"
   },
   {
    "duration": 17,
    "start_time": "2021-09-16T08:37:08.719Z"
   },
   {
    "duration": 22,
    "start_time": "2021-09-16T08:37:14.968Z"
   },
   {
    "duration": 21,
    "start_time": "2021-09-16T08:37:27.284Z"
   },
   {
    "duration": 23,
    "start_time": "2021-09-16T08:40:01.962Z"
   },
   {
    "duration": 41,
    "start_time": "2021-09-16T08:40:42.493Z"
   },
   {
    "duration": 5,
    "start_time": "2021-09-16T09:26:02.004Z"
   },
   {
    "duration": 26,
    "start_time": "2021-09-16T09:26:20.947Z"
   },
   {
    "duration": 7545,
    "start_time": "2021-09-16T09:26:40.997Z"
   },
   {
    "duration": 164,
    "start_time": "2021-09-16T09:27:02.268Z"
   },
   {
    "duration": 121,
    "start_time": "2021-09-16T09:31:10.598Z"
   },
   {
    "duration": 376,
    "start_time": "2021-09-16T09:31:38.506Z"
   },
   {
    "duration": 11005,
    "start_time": "2021-09-16T09:32:27.608Z"
   },
   {
    "duration": 7053,
    "start_time": "2021-09-16T09:32:59.351Z"
   },
   {
    "duration": 5,
    "start_time": "2021-09-16T09:33:10.190Z"
   },
   {
    "duration": 8,
    "start_time": "2021-09-16T09:33:17.899Z"
   },
   {
    "duration": 224,
    "start_time": "2021-09-16T09:35:06.243Z"
   },
   {
    "duration": 1502,
    "start_time": "2021-09-16T09:36:35.289Z"
   },
   {
    "duration": 57,
    "start_time": "2021-09-16T09:36:54.267Z"
   },
   {
    "duration": 55,
    "start_time": "2021-09-16T09:38:01.399Z"
   },
   {
    "duration": 121,
    "start_time": "2021-09-16T09:38:11.105Z"
   },
   {
    "duration": 8,
    "start_time": "2021-09-16T09:40:05.341Z"
   },
   {
    "duration": 227,
    "start_time": "2021-09-16T09:40:21.710Z"
   },
   {
    "duration": 122,
    "start_time": "2021-09-16T09:40:26.561Z"
   },
   {
    "duration": 7,
    "start_time": "2021-09-16T09:42:04.051Z"
   },
   {
    "duration": 157,
    "start_time": "2021-09-16T09:51:38.105Z"
   },
   {
    "duration": 330,
    "start_time": "2021-09-16T09:52:37.476Z"
   },
   {
    "duration": 160,
    "start_time": "2021-09-16T09:54:44.807Z"
   },
   {
    "duration": 157,
    "start_time": "2021-09-16T09:56:22.015Z"
   },
   {
    "duration": 159,
    "start_time": "2021-09-16T09:56:43.395Z"
   },
   {
    "duration": 175,
    "start_time": "2021-09-16T09:58:07.184Z"
   },
   {
    "duration": 319,
    "start_time": "2021-09-16T09:58:17.983Z"
   },
   {
    "duration": 166,
    "start_time": "2021-09-16T09:59:35.610Z"
   },
   {
    "duration": 156,
    "start_time": "2021-09-16T09:59:48.621Z"
   },
   {
    "duration": 162,
    "start_time": "2021-09-16T10:00:46.367Z"
   },
   {
    "duration": 318,
    "start_time": "2021-09-16T10:00:53.924Z"
   },
   {
    "duration": 1863,
    "start_time": "2021-09-18T04:41:47.791Z"
   },
   {
    "duration": 283,
    "start_time": "2021-09-18T04:41:49.656Z"
   },
   {
    "duration": 5,
    "start_time": "2021-09-18T04:41:49.949Z"
   },
   {
    "duration": 66,
    "start_time": "2021-09-18T04:41:49.955Z"
   },
   {
    "duration": 8,
    "start_time": "2021-09-18T04:41:50.023Z"
   },
   {
    "duration": 29,
    "start_time": "2021-09-18T04:41:50.033Z"
   },
   {
    "duration": 7,
    "start_time": "2021-09-18T04:41:50.064Z"
   },
   {
    "duration": 6,
    "start_time": "2021-09-18T04:41:50.074Z"
   },
   {
    "duration": 27,
    "start_time": "2021-09-18T04:41:50.082Z"
   },
   {
    "duration": 7851,
    "start_time": "2021-09-18T04:41:50.111Z"
   },
   {
    "duration": 321,
    "start_time": "2021-09-18T04:41:57.964Z"
   },
   {
    "duration": 86,
    "start_time": "2021-09-18T04:41:58.286Z"
   },
   {
    "duration": 8,
    "start_time": "2021-09-18T04:41:58.374Z"
   },
   {
    "duration": 91,
    "start_time": "2021-09-18T04:41:58.384Z"
   },
   {
    "duration": 106,
    "start_time": "2021-09-18T04:41:58.476Z"
   },
   {
    "duration": 278,
    "start_time": "2021-09-18T04:41:58.584Z"
   },
   {
    "duration": 8,
    "start_time": "2021-09-18T04:41:58.864Z"
   },
   {
    "duration": 176,
    "start_time": "2021-09-18T04:41:58.874Z"
   },
   {
    "duration": 402,
    "start_time": "2021-09-18T04:41:59.052Z"
   },
   {
    "duration": 226,
    "start_time": "2021-09-18T04:41:59.456Z"
   },
   {
    "duration": 483,
    "start_time": "2021-09-18T04:41:59.684Z"
   },
   {
    "duration": -2107,
    "start_time": "2021-09-18T04:42:02.276Z"
   },
   {
    "duration": -2107,
    "start_time": "2021-09-18T04:42:02.277Z"
   },
   {
    "duration": -2107,
    "start_time": "2021-09-18T04:42:02.278Z"
   },
   {
    "duration": -2110,
    "start_time": "2021-09-18T04:42:02.282Z"
   },
   {
    "duration": -2110,
    "start_time": "2021-09-18T04:42:02.283Z"
   },
   {
    "duration": -2110,
    "start_time": "2021-09-18T04:42:02.284Z"
   },
   {
    "duration": 97,
    "start_time": "2021-09-18T05:25:13.754Z"
   },
   {
    "duration": 7049,
    "start_time": "2021-09-18T05:48:34.761Z"
   },
   {
    "duration": 11991,
    "start_time": "2021-09-18T05:52:26.381Z"
   },
   {
    "duration": 241,
    "start_time": "2021-09-18T05:54:04.892Z"
   },
   {
    "duration": 7227,
    "start_time": "2021-09-18T06:00:17.041Z"
   },
   {
    "duration": 372,
    "start_time": "2021-09-18T06:05:47.308Z"
   },
   {
    "duration": 364,
    "start_time": "2021-09-18T06:06:25.066Z"
   },
   {
    "duration": 130,
    "start_time": "2021-09-18T06:07:00.053Z"
   },
   {
    "duration": 121,
    "start_time": "2021-09-18T06:07:38.266Z"
   },
   {
    "duration": 89,
    "start_time": "2021-09-18T06:09:17.312Z"
   },
   {
    "duration": 4319,
    "start_time": "2021-09-18T06:09:45.050Z"
   },
   {
    "duration": 204,
    "start_time": "2021-09-18T06:11:54.501Z"
   },
   {
    "duration": 458,
    "start_time": "2021-09-18T06:12:45.522Z"
   },
   {
    "duration": 458,
    "start_time": "2021-09-18T06:12:54.378Z"
   },
   {
    "duration": 365,
    "start_time": "2021-09-18T06:23:32.388Z"
   },
   {
    "duration": 12398,
    "start_time": "2021-09-18T06:35:50.373Z"
   },
   {
    "duration": 12124,
    "start_time": "2021-09-18T06:36:45.813Z"
   },
   {
    "duration": 7424,
    "start_time": "2021-09-18T06:37:39.194Z"
   },
   {
    "duration": 162,
    "start_time": "2021-09-18T06:44:28.399Z"
   },
   {
    "duration": 156,
    "start_time": "2021-09-18T06:45:32.481Z"
   },
   {
    "duration": 155,
    "start_time": "2021-09-18T06:45:39.137Z"
   },
   {
    "duration": 360,
    "start_time": "2021-09-18T07:07:56.014Z"
   },
   {
    "duration": 47,
    "start_time": "2021-09-18T07:34:26.224Z"
   },
   {
    "duration": 250,
    "start_time": "2021-09-18T07:34:53.025Z"
   },
   {
    "duration": 242,
    "start_time": "2021-09-18T07:35:09.888Z"
   },
   {
    "duration": 213,
    "start_time": "2021-09-18T07:35:20.285Z"
   },
   {
    "duration": 239,
    "start_time": "2021-09-18T07:35:42.351Z"
   },
   {
    "duration": 463,
    "start_time": "2021-09-18T07:38:20.376Z"
   },
   {
    "duration": 246,
    "start_time": "2021-09-18T07:39:06.882Z"
   },
   {
    "duration": 89,
    "start_time": "2021-09-18T07:53:42.902Z"
   },
   {
    "duration": 102,
    "start_time": "2021-09-18T07:54:59.024Z"
   },
   {
    "duration": 109,
    "start_time": "2021-09-18T07:56:28.036Z"
   },
   {
    "duration": 97,
    "start_time": "2021-09-18T07:57:10.117Z"
   },
   {
    "duration": 262,
    "start_time": "2021-09-18T07:57:18.112Z"
   },
   {
    "duration": 306,
    "start_time": "2021-09-18T07:57:27.072Z"
   },
   {
    "duration": 261,
    "start_time": "2021-09-18T07:57:33.958Z"
   },
   {
    "duration": 86,
    "start_time": "2021-09-18T07:58:26.064Z"
   },
   {
    "duration": 92,
    "start_time": "2021-09-18T07:58:31.787Z"
   },
   {
    "duration": 13,
    "start_time": "2021-09-18T07:58:41.932Z"
   },
   {
    "duration": 12,
    "start_time": "2021-09-18T07:59:20.400Z"
   },
   {
    "duration": 12,
    "start_time": "2021-09-18T08:00:17.516Z"
   },
   {
    "duration": 12,
    "start_time": "2021-09-18T08:01:09.001Z"
   },
   {
    "duration": 90,
    "start_time": "2021-09-18T08:03:18.354Z"
   },
   {
    "duration": 10,
    "start_time": "2021-09-18T08:03:31.809Z"
   },
   {
    "duration": 10,
    "start_time": "2021-09-18T08:06:02.619Z"
   },
   {
    "duration": 6,
    "start_time": "2021-09-18T08:07:52.521Z"
   },
   {
    "duration": 8,
    "start_time": "2021-09-18T08:07:55.631Z"
   },
   {
    "duration": 6831,
    "start_time": "2021-09-18T08:15:14.572Z"
   },
   {
    "duration": 8707,
    "start_time": "2021-09-18T08:15:25.903Z"
   },
   {
    "duration": 10,
    "start_time": "2021-09-18T08:16:32.307Z"
   },
   {
    "duration": 28,
    "start_time": "2021-09-18T08:17:40.864Z"
   },
   {
    "duration": 26,
    "start_time": "2021-09-18T08:18:27.231Z"
   },
   {
    "duration": 96,
    "start_time": "2021-09-18T08:37:28.685Z"
   },
   {
    "duration": 107,
    "start_time": "2021-09-18T08:37:38.756Z"
   },
   {
    "duration": 42,
    "start_time": "2021-09-18T08:39:33.995Z"
   },
   {
    "duration": 34,
    "start_time": "2021-09-18T08:39:50.491Z"
   },
   {
    "duration": 36,
    "start_time": "2021-09-18T08:40:09.357Z"
   },
   {
    "duration": 35,
    "start_time": "2021-09-18T08:40:22.485Z"
   },
   {
    "duration": 35,
    "start_time": "2021-09-18T08:40:48.753Z"
   },
   {
    "duration": 55,
    "start_time": "2021-09-18T08:41:25.939Z"
   },
   {
    "duration": 51,
    "start_time": "2021-09-18T08:41:40.782Z"
   },
   {
    "duration": 99,
    "start_time": "2021-09-18T08:42:05.678Z"
   },
   {
    "duration": 39,
    "start_time": "2021-09-18T08:42:10.942Z"
   },
   {
    "duration": 546,
    "start_time": "2021-09-18T08:43:13.064Z"
   },
   {
    "duration": 438,
    "start_time": "2021-09-18T08:43:35.176Z"
   },
   {
    "duration": 42,
    "start_time": "2021-09-18T08:44:11.753Z"
   },
   {
    "duration": 46,
    "start_time": "2021-09-18T08:44:25.561Z"
   },
   {
    "duration": 44,
    "start_time": "2021-09-18T08:44:35.686Z"
   },
   {
    "duration": 43,
    "start_time": "2021-09-18T08:44:57.790Z"
   },
   {
    "duration": 44,
    "start_time": "2021-09-18T08:47:13.424Z"
   },
   {
    "duration": 83,
    "start_time": "2021-09-18T08:51:12.340Z"
   },
   {
    "duration": 52,
    "start_time": "2021-09-18T08:52:01.440Z"
   },
   {
    "duration": 63,
    "start_time": "2021-09-18T08:54:19.522Z"
   },
   {
    "duration": 59,
    "start_time": "2021-09-18T08:54:51.718Z"
   },
   {
    "duration": 58,
    "start_time": "2021-09-18T08:55:13.548Z"
   },
   {
    "duration": 54,
    "start_time": "2021-09-18T08:55:48.409Z"
   },
   {
    "duration": 88,
    "start_time": "2021-09-18T09:00:09.876Z"
   },
   {
    "duration": 114,
    "start_time": "2021-09-18T09:00:48.514Z"
   },
   {
    "duration": 50,
    "start_time": "2021-09-18T09:03:16.486Z"
   },
   {
    "duration": 25,
    "start_time": "2021-09-18T09:03:29.920Z"
   },
   {
    "duration": 37,
    "start_time": "2021-09-18T09:04:39.524Z"
   },
   {
    "duration": 1465,
    "start_time": "2021-09-18T10:10:21.373Z"
   },
   {
    "duration": 195,
    "start_time": "2021-09-18T10:10:22.840Z"
   },
   {
    "duration": 4,
    "start_time": "2021-09-18T10:10:23.037Z"
   },
   {
    "duration": 78,
    "start_time": "2021-09-18T10:10:23.049Z"
   },
   {
    "duration": 31,
    "start_time": "2021-09-18T10:10:23.129Z"
   },
   {
    "duration": 1530,
    "start_time": "2021-09-18T10:12:28.505Z"
   },
   {
    "duration": 193,
    "start_time": "2021-09-18T10:12:30.037Z"
   },
   {
    "duration": 4,
    "start_time": "2021-09-18T10:12:30.233Z"
   },
   {
    "duration": 78,
    "start_time": "2021-09-18T10:12:30.239Z"
   },
   {
    "duration": 31,
    "start_time": "2021-09-18T10:12:30.319Z"
   },
   {
    "duration": 60,
    "start_time": "2021-09-18T10:12:30.352Z"
   },
   {
    "duration": 6,
    "start_time": "2021-09-18T10:12:30.415Z"
   },
   {
    "duration": 8,
    "start_time": "2021-09-18T10:12:30.422Z"
   },
   {
    "duration": 28,
    "start_time": "2021-09-18T10:12:30.451Z"
   },
   {
    "duration": 595,
    "start_time": "2021-09-18T10:12:30.481Z"
   },
   {
    "duration": 79,
    "start_time": "2021-09-18T10:12:31.078Z"
   },
   {
    "duration": 348,
    "start_time": "2021-09-18T10:12:31.159Z"
   },
   {
    "duration": 11,
    "start_time": "2021-09-18T10:12:31.509Z"
   },
   {
    "duration": 63,
    "start_time": "2021-09-18T10:12:31.522Z"
   },
   {
    "duration": 25,
    "start_time": "2021-09-18T10:12:31.586Z"
   },
   {
    "duration": 67,
    "start_time": "2021-09-18T10:12:31.613Z"
   },
   {
    "duration": 131,
    "start_time": "2021-09-18T10:12:31.682Z"
   },
   {
    "duration": 9,
    "start_time": "2021-09-18T10:12:31.814Z"
   },
   {
    "duration": 60,
    "start_time": "2021-09-18T10:12:31.824Z"
   },
   {
    "duration": 201,
    "start_time": "2021-09-18T10:12:31.885Z"
   },
   {
    "duration": 129,
    "start_time": "2021-09-18T10:12:32.087Z"
   },
   {
    "duration": 5,
    "start_time": "2021-09-18T10:12:32.218Z"
   },
   {
    "duration": 704,
    "start_time": "2021-09-18T10:12:32.225Z"
   },
   {
    "duration": -1640,
    "start_time": "2021-09-18T10:12:34.571Z"
   },
   {
    "duration": -1639,
    "start_time": "2021-09-18T10:12:34.571Z"
   },
   {
    "duration": -1639,
    "start_time": "2021-09-18T10:12:34.572Z"
   },
   {
    "duration": -1639,
    "start_time": "2021-09-18T10:12:34.573Z"
   },
   {
    "duration": 22,
    "start_time": "2021-09-18T10:13:13.553Z"
   },
   {
    "duration": 1202,
    "start_time": "2021-09-18T10:19:02.352Z"
   },
   {
    "duration": 1936,
    "start_time": "2021-09-18T10:20:19.958Z"
   },
   {
    "duration": 195,
    "start_time": "2021-09-18T10:20:21.896Z"
   },
   {
    "duration": 5,
    "start_time": "2021-09-18T10:20:22.093Z"
   },
   {
    "duration": 88,
    "start_time": "2021-09-18T10:20:22.099Z"
   },
   {
    "duration": 16,
    "start_time": "2021-09-18T10:20:22.188Z"
   },
   {
    "duration": 82,
    "start_time": "2021-09-18T10:20:22.205Z"
   },
   {
    "duration": 70,
    "start_time": "2021-09-18T10:20:22.290Z"
   },
   {
    "duration": 6,
    "start_time": "2021-09-18T10:20:22.362Z"
   },
   {
    "duration": 7,
    "start_time": "2021-09-18T10:20:22.369Z"
   },
   {
    "duration": 83,
    "start_time": "2021-09-18T10:20:22.378Z"
   },
   {
    "duration": 802,
    "start_time": "2021-09-18T10:20:22.463Z"
   },
   {
    "duration": 84,
    "start_time": "2021-09-18T10:20:23.268Z"
   },
   {
    "duration": 423,
    "start_time": "2021-09-18T10:20:23.353Z"
   },
   {
    "duration": 11,
    "start_time": "2021-09-18T10:20:23.778Z"
   },
   {
    "duration": 85,
    "start_time": "2021-09-18T10:20:23.791Z"
   },
   {
    "duration": 76,
    "start_time": "2021-09-18T10:20:23.878Z"
   },
   {
    "duration": 59,
    "start_time": "2021-09-18T10:20:23.956Z"
   },
   {
    "duration": 149,
    "start_time": "2021-09-18T10:20:24.017Z"
   },
   {
    "duration": 9,
    "start_time": "2021-09-18T10:20:24.168Z"
   },
   {
    "duration": 57,
    "start_time": "2021-09-18T10:20:24.180Z"
   },
   {
    "duration": 207,
    "start_time": "2021-09-18T10:20:24.238Z"
   },
   {
    "duration": 146,
    "start_time": "2021-09-18T10:20:24.448Z"
   },
   {
    "duration": 8,
    "start_time": "2021-09-18T10:20:24.596Z"
   },
   {
    "duration": 787,
    "start_time": "2021-09-18T10:20:24.606Z"
   },
   {
    "duration": -12720,
    "start_time": "2021-09-18T10:20:38.116Z"
   },
   {
    "duration": -12798,
    "start_time": "2021-09-18T10:20:38.196Z"
   },
   {
    "duration": -12800,
    "start_time": "2021-09-18T10:20:38.199Z"
   },
   {
    "duration": -12801,
    "start_time": "2021-09-18T10:20:38.200Z"
   },
   {
    "duration": 89,
    "start_time": "2021-09-18T10:22:15.711Z"
   },
   {
    "duration": 183,
    "start_time": "2021-09-18T10:22:23.982Z"
   },
   {
    "duration": 285,
    "start_time": "2021-09-18T11:12:50.687Z"
   },
   {
    "duration": 5,
    "start_time": "2021-09-18T11:13:07.410Z"
   },
   {
    "duration": 118,
    "start_time": "2021-09-18T11:13:12.380Z"
   },
   {
    "duration": 11,
    "start_time": "2021-09-18T11:13:47.696Z"
   },
   {
    "duration": 115,
    "start_time": "2021-09-18T11:20:54.057Z"
   },
   {
    "duration": 8,
    "start_time": "2021-09-18T11:30:10.161Z"
   },
   {
    "duration": 10160,
    "start_time": "2021-09-18T11:33:43.241Z"
   },
   {
    "duration": 160,
    "start_time": "2021-09-18T11:34:26.120Z"
   },
   {
    "duration": 324,
    "start_time": "2021-09-18T11:35:09.453Z"
   },
   {
    "duration": 1683,
    "start_time": "2021-09-18T11:42:42.942Z"
   },
   {
    "duration": 195,
    "start_time": "2021-09-18T11:42:44.627Z"
   },
   {
    "duration": 4,
    "start_time": "2021-09-18T11:42:44.824Z"
   },
   {
    "duration": 85,
    "start_time": "2021-09-18T11:42:44.830Z"
   },
   {
    "duration": 17,
    "start_time": "2021-09-18T11:42:44.917Z"
   },
   {
    "duration": 72,
    "start_time": "2021-09-18T11:42:44.936Z"
   },
   {
    "duration": 8,
    "start_time": "2021-09-18T11:42:45.010Z"
   },
   {
    "duration": 7,
    "start_time": "2021-09-18T11:42:45.021Z"
   },
   {
    "duration": 39,
    "start_time": "2021-09-18T11:42:45.053Z"
   },
   {
    "duration": 700,
    "start_time": "2021-09-18T11:42:45.094Z"
   },
   {
    "duration": 87,
    "start_time": "2021-09-18T11:42:45.796Z"
   },
   {
    "duration": 700,
    "start_time": "2021-09-18T11:42:45.885Z"
   },
   {
    "duration": 62,
    "start_time": "2021-09-18T11:42:46.587Z"
   },
   {
    "duration": 60,
    "start_time": "2021-09-18T11:42:46.651Z"
   },
   {
    "duration": 37,
    "start_time": "2021-09-18T11:42:46.751Z"
   },
   {
    "duration": 115,
    "start_time": "2021-09-18T11:42:46.790Z"
   },
   {
    "duration": 15,
    "start_time": "2021-09-18T11:42:46.907Z"
   },
   {
    "duration": 5,
    "start_time": "2021-09-18T11:42:46.924Z"
   },
   {
    "duration": 144,
    "start_time": "2021-09-18T11:42:46.931Z"
   },
   {
    "duration": 188,
    "start_time": "2021-09-18T11:42:47.077Z"
   },
   {
    "duration": 44,
    "start_time": "2021-09-18T11:42:47.267Z"
   },
   {
    "duration": 228,
    "start_time": "2021-09-18T11:42:47.313Z"
   },
   {
    "duration": 136,
    "start_time": "2021-09-18T11:42:47.549Z"
   },
   {
    "duration": 7,
    "start_time": "2021-09-18T11:42:47.687Z"
   },
   {
    "duration": 12,
    "start_time": "2021-09-18T11:42:47.696Z"
   },
   {
    "duration": 39,
    "start_time": "2021-09-18T11:42:47.710Z"
   },
   {
    "duration": 26,
    "start_time": "2021-09-18T11:42:47.751Z"
   },
   {
    "duration": 76,
    "start_time": "2021-09-18T11:42:47.779Z"
   },
   {
    "duration": 410,
    "start_time": "2021-09-18T11:42:47.857Z"
   },
   {
    "duration": 4771,
    "start_time": "2021-09-18T11:49:31.258Z"
   },
   {
    "duration": 207,
    "start_time": "2021-09-18T11:50:06.954Z"
   },
   {
    "duration": 321,
    "start_time": "2021-09-18T11:50:46.337Z"
   },
   {
    "duration": 243,
    "start_time": "2021-09-18T11:51:22.765Z"
   },
   {
    "duration": 128,
    "start_time": "2021-09-18T11:51:35.726Z"
   },
   {
    "duration": 118,
    "start_time": "2021-09-18T11:52:59.845Z"
   },
   {
    "duration": 6,
    "start_time": "2021-09-18T12:07:51.380Z"
   },
   {
    "duration": 7,
    "start_time": "2021-09-18T12:07:54.329Z"
   },
   {
    "duration": 1462,
    "start_time": "2021-09-18T12:08:44.178Z"
   },
   {
    "duration": 199,
    "start_time": "2021-09-18T12:08:45.642Z"
   },
   {
    "duration": 4,
    "start_time": "2021-09-18T12:08:45.843Z"
   },
   {
    "duration": 73,
    "start_time": "2021-09-18T12:08:45.849Z"
   },
   {
    "duration": 25,
    "start_time": "2021-09-18T12:08:45.924Z"
   },
   {
    "duration": 60,
    "start_time": "2021-09-18T12:08:45.951Z"
   },
   {
    "duration": 6,
    "start_time": "2021-09-18T12:08:46.012Z"
   },
   {
    "duration": 28,
    "start_time": "2021-09-18T12:08:46.021Z"
   },
   {
    "duration": 29,
    "start_time": "2021-09-18T12:08:46.051Z"
   },
   {
    "duration": 590,
    "start_time": "2021-09-18T12:08:46.081Z"
   },
   {
    "duration": 78,
    "start_time": "2021-09-18T12:08:46.675Z"
   },
   {
    "duration": 366,
    "start_time": "2021-09-18T12:08:46.754Z"
   },
   {
    "duration": 11,
    "start_time": "2021-09-18T12:08:47.122Z"
   },
   {
    "duration": 56,
    "start_time": "2021-09-18T12:08:47.149Z"
   },
   {
    "duration": 25,
    "start_time": "2021-09-18T12:08:49.408Z"
   },
   {
    "duration": 61,
    "start_time": "2021-09-18T12:09:11.848Z"
   },
   {
    "duration": 10,
    "start_time": "2021-09-18T12:09:12.039Z"
   },
   {
    "duration": 5,
    "start_time": "2021-09-18T12:09:12.168Z"
   },
   {
    "duration": 117,
    "start_time": "2021-09-18T12:09:12.388Z"
   },
   {
    "duration": 161,
    "start_time": "2021-09-18T12:09:12.718Z"
   },
   {
    "duration": 1324,
    "start_time": "2021-09-18T12:09:13.449Z"
   },
   {
    "duration": -32,
    "start_time": "2021-09-18T12:09:14.808Z"
   },
   {
    "duration": -34,
    "start_time": "2021-09-18T12:09:14.811Z"
   },
   {
    "duration": -35,
    "start_time": "2021-09-18T12:09:14.813Z"
   },
   {
    "duration": 6564,
    "start_time": "2021-09-18T12:09:14.919Z"
   },
   {
    "duration": -17,
    "start_time": "2021-09-18T12:09:21.502Z"
   },
   {
    "duration": -18,
    "start_time": "2021-09-18T12:09:21.504Z"
   },
   {
    "duration": -19,
    "start_time": "2021-09-18T12:09:21.506Z"
   },
   {
    "duration": 1151,
    "start_time": "2021-09-18T12:10:38.393Z"
   },
   {
    "duration": 2231,
    "start_time": "2021-09-18T12:10:57.132Z"
   },
   {
    "duration": 190,
    "start_time": "2021-09-18T12:12:08.833Z"
   },
   {
    "duration": 191,
    "start_time": "2021-09-18T12:12:21.263Z"
   },
   {
    "duration": 237,
    "start_time": "2021-09-18T12:13:57.678Z"
   },
   {
    "duration": 1326,
    "start_time": "2021-09-18T12:15:36.686Z"
   },
   {
    "duration": 34,
    "start_time": "2021-09-18T12:16:54.284Z"
   },
   {
    "duration": 224,
    "start_time": "2021-09-18T12:18:02.091Z"
   },
   {
    "duration": 190,
    "start_time": "2021-09-18T12:18:37.292Z"
   },
   {
    "duration": 57,
    "start_time": "2021-09-18T12:19:06.757Z"
   },
   {
    "duration": 48,
    "start_time": "2021-09-18T12:20:13.540Z"
   },
   {
    "duration": 46,
    "start_time": "2021-09-18T12:20:31.632Z"
   },
   {
    "duration": 49,
    "start_time": "2021-09-18T12:20:42.996Z"
   },
   {
    "duration": 49,
    "start_time": "2021-09-18T12:22:35.773Z"
   },
   {
    "duration": 193,
    "start_time": "2021-09-18T12:22:55.233Z"
   },
   {
    "duration": 46,
    "start_time": "2021-09-18T12:25:28.627Z"
   },
   {
    "duration": 197,
    "start_time": "2021-09-18T12:25:31.603Z"
   },
   {
    "duration": 255,
    "start_time": "2021-09-18T12:25:48.338Z"
   },
   {
    "duration": 146,
    "start_time": "2021-09-18T12:26:02.098Z"
   },
   {
    "duration": 311,
    "start_time": "2021-09-18T12:26:41.388Z"
   },
   {
    "duration": 262,
    "start_time": "2021-09-18T13:40:27.810Z"
   },
   {
    "duration": 6,
    "start_time": "2021-09-18T13:40:37.859Z"
   },
   {
    "duration": 8,
    "start_time": "2021-09-18T13:40:42.231Z"
   },
   {
    "duration": 14,
    "start_time": "2021-09-18T13:45:43.332Z"
   },
   {
    "duration": 16,
    "start_time": "2021-09-18T13:51:33.508Z"
   },
   {
    "duration": 294,
    "start_time": "2021-09-18T14:00:00.721Z"
   },
   {
    "duration": 6,
    "start_time": "2021-09-18T14:00:06.409Z"
   },
   {
    "duration": 6,
    "start_time": "2021-09-18T14:00:13.972Z"
   },
   {
    "duration": 8,
    "start_time": "2021-09-18T14:00:22.260Z"
   },
   {
    "duration": 16,
    "start_time": "2021-09-18T14:00:40.542Z"
   },
   {
    "duration": 8,
    "start_time": "2021-09-18T14:02:09.364Z"
   },
   {
    "duration": 16,
    "start_time": "2021-09-18T14:02:18.170Z"
   },
   {
    "duration": 19,
    "start_time": "2021-09-18T14:02:26.800Z"
   },
   {
    "duration": 19,
    "start_time": "2021-09-18T14:02:30.782Z"
   },
   {
    "duration": 17,
    "start_time": "2021-09-18T14:03:08.188Z"
   },
   {
    "duration": 4,
    "start_time": "2021-09-18T14:30:02.073Z"
   },
   {
    "duration": 1449,
    "start_time": "2021-09-18T15:30:37.495Z"
   },
   {
    "duration": 311,
    "start_time": "2021-09-18T15:30:38.946Z"
   },
   {
    "duration": 6,
    "start_time": "2021-09-18T15:30:39.260Z"
   },
   {
    "duration": 83,
    "start_time": "2021-09-18T15:30:39.268Z"
   },
   {
    "duration": 17,
    "start_time": "2021-09-18T15:30:39.353Z"
   },
   {
    "duration": 61,
    "start_time": "2021-09-18T15:30:39.371Z"
   },
   {
    "duration": 6,
    "start_time": "2021-09-18T15:30:39.450Z"
   },
   {
    "duration": 5,
    "start_time": "2021-09-18T15:30:39.458Z"
   },
   {
    "duration": 28,
    "start_time": "2021-09-18T15:30:39.466Z"
   },
   {
    "duration": 584,
    "start_time": "2021-09-18T15:30:39.496Z"
   },
   {
    "duration": 80,
    "start_time": "2021-09-18T15:30:40.082Z"
   },
   {
    "duration": 363,
    "start_time": "2021-09-18T15:30:40.163Z"
   },
   {
    "duration": 27,
    "start_time": "2021-09-18T15:30:40.528Z"
   },
   {
    "duration": 70,
    "start_time": "2021-09-18T15:30:40.557Z"
   },
   {
    "duration": 48,
    "start_time": "2021-09-18T15:30:40.628Z"
   },
   {
    "duration": 90,
    "start_time": "2021-09-18T15:30:40.678Z"
   },
   {
    "duration": 9,
    "start_time": "2021-09-18T15:30:40.769Z"
   },
   {
    "duration": 3,
    "start_time": "2021-09-18T15:30:40.780Z"
   },
   {
    "duration": 131,
    "start_time": "2021-09-18T15:30:40.785Z"
   },
   {
    "duration": 174,
    "start_time": "2021-09-18T15:30:40.918Z"
   },
   {
    "duration": 292,
    "start_time": "2021-09-18T15:30:41.094Z"
   },
   {
    "duration": 139,
    "start_time": "2021-09-18T15:30:41.388Z"
   },
   {
    "duration": 5,
    "start_time": "2021-09-18T15:30:41.529Z"
   },
   {
    "duration": 19,
    "start_time": "2021-09-18T15:30:41.535Z"
   },
   {
    "duration": 16,
    "start_time": "2021-09-18T15:30:41.556Z"
   },
   {
    "duration": 16,
    "start_time": "2021-09-18T15:30:41.574Z"
   },
   {
    "duration": 23,
    "start_time": "2021-09-18T15:30:41.594Z"
   },
   {
    "duration": 52,
    "start_time": "2021-09-18T15:30:41.619Z"
   },
   {
    "duration": 4,
    "start_time": "2021-09-18T15:30:41.673Z"
   },
   {
    "duration": 1416,
    "start_time": "2021-09-19T05:09:38.016Z"
   },
   {
    "duration": 176,
    "start_time": "2021-09-19T05:09:39.434Z"
   },
   {
    "duration": 4,
    "start_time": "2021-09-19T05:09:39.611Z"
   },
   {
    "duration": 72,
    "start_time": "2021-09-19T05:09:39.617Z"
   },
   {
    "duration": 14,
    "start_time": "2021-09-19T05:09:39.690Z"
   },
   {
    "duration": 64,
    "start_time": "2021-09-19T05:09:39.705Z"
   },
   {
    "duration": 5,
    "start_time": "2021-09-19T05:09:39.771Z"
   },
   {
    "duration": 5,
    "start_time": "2021-09-19T05:09:39.778Z"
   },
   {
    "duration": 25,
    "start_time": "2021-09-19T05:09:39.785Z"
   },
   {
    "duration": 524,
    "start_time": "2021-09-19T05:09:39.811Z"
   },
   {
    "duration": 38,
    "start_time": "2021-09-19T05:09:40.344Z"
   },
   {
    "duration": 320,
    "start_time": "2021-09-19T05:09:40.383Z"
   },
   {
    "duration": 9,
    "start_time": "2021-09-19T05:09:40.704Z"
   },
   {
    "duration": 63,
    "start_time": "2021-09-19T05:09:40.715Z"
   },
   {
    "duration": 21,
    "start_time": "2021-09-19T05:09:40.780Z"
   },
   {
    "duration": 73,
    "start_time": "2021-09-19T05:09:40.803Z"
   },
   {
    "duration": 9,
    "start_time": "2021-09-19T05:09:40.877Z"
   },
   {
    "duration": 3,
    "start_time": "2021-09-19T05:09:40.887Z"
   },
   {
    "duration": 119,
    "start_time": "2021-09-19T05:09:40.892Z"
   },
   {
    "duration": 156,
    "start_time": "2021-09-19T05:09:41.012Z"
   },
   {
    "duration": 219,
    "start_time": "2021-09-19T05:09:41.169Z"
   },
   {
    "duration": 113,
    "start_time": "2021-09-19T05:09:41.390Z"
   },
   {
    "duration": 4,
    "start_time": "2021-09-19T05:09:41.505Z"
   },
   {
    "duration": 10,
    "start_time": "2021-09-19T05:09:41.511Z"
   },
   {
    "duration": 29,
    "start_time": "2021-09-19T05:09:41.522Z"
   },
   {
    "duration": 16,
    "start_time": "2021-09-19T05:09:41.553Z"
   },
   {
    "duration": 16,
    "start_time": "2021-09-19T05:09:41.571Z"
   },
   {
    "duration": 15,
    "start_time": "2021-09-19T05:09:41.589Z"
   },
   {
    "duration": 3,
    "start_time": "2021-09-19T05:09:41.606Z"
   },
   {
    "duration": 1391,
    "start_time": "2021-09-19T05:42:38.957Z"
   },
   {
    "duration": 175,
    "start_time": "2021-09-19T05:42:40.350Z"
   },
   {
    "duration": 4,
    "start_time": "2021-09-19T05:42:40.526Z"
   },
   {
    "duration": 66,
    "start_time": "2021-09-19T05:42:40.532Z"
   },
   {
    "duration": 13,
    "start_time": "2021-09-19T05:42:40.600Z"
   },
   {
    "duration": 66,
    "start_time": "2021-09-19T05:42:40.614Z"
   },
   {
    "duration": 5,
    "start_time": "2021-09-19T05:42:40.682Z"
   },
   {
    "duration": 6,
    "start_time": "2021-09-19T05:42:40.689Z"
   },
   {
    "duration": 24,
    "start_time": "2021-09-19T05:42:40.697Z"
   },
   {
    "duration": 498,
    "start_time": "2021-09-19T05:42:40.723Z"
   },
   {
    "duration": 52,
    "start_time": "2021-09-19T05:42:41.223Z"
   },
   {
    "duration": 317,
    "start_time": "2021-09-19T05:42:41.277Z"
   },
   {
    "duration": 8,
    "start_time": "2021-09-19T05:42:41.596Z"
   },
   {
    "duration": 59,
    "start_time": "2021-09-19T05:42:41.606Z"
   },
   {
    "duration": 21,
    "start_time": "2021-09-19T05:42:41.666Z"
   },
   {
    "duration": 66,
    "start_time": "2021-09-19T05:42:41.689Z"
   },
   {
    "duration": 8,
    "start_time": "2021-09-19T05:42:41.757Z"
   },
   {
    "duration": 4,
    "start_time": "2021-09-19T05:42:41.766Z"
   },
   {
    "duration": 117,
    "start_time": "2021-09-19T05:42:41.771Z"
   },
   {
    "duration": 148,
    "start_time": "2021-09-19T05:42:41.890Z"
   },
   {
    "duration": 219,
    "start_time": "2021-09-19T05:42:42.039Z"
   },
   {
    "duration": 117,
    "start_time": "2021-09-19T05:42:42.259Z"
   },
   {
    "duration": 5,
    "start_time": "2021-09-19T05:42:42.377Z"
   },
   {
    "duration": 7,
    "start_time": "2021-09-19T05:42:42.383Z"
   },
   {
    "duration": 14,
    "start_time": "2021-09-19T05:42:42.392Z"
   },
   {
    "duration": 15,
    "start_time": "2021-09-19T05:42:42.407Z"
   },
   {
    "duration": 15,
    "start_time": "2021-09-19T05:42:42.446Z"
   },
   {
    "duration": 15,
    "start_time": "2021-09-19T05:42:42.463Z"
   },
   {
    "duration": 4,
    "start_time": "2021-09-19T05:42:42.479Z"
   },
   {
    "duration": 25671,
    "start_time": "2021-09-19T20:18:15.878Z"
   },
   {
    "duration": 267,
    "start_time": "2021-09-19T20:18:41.552Z"
   },
   {
    "duration": 6,
    "start_time": "2021-09-19T20:18:41.822Z"
   },
   {
    "duration": 127,
    "start_time": "2021-09-19T20:18:41.832Z"
   },
   {
    "duration": 21,
    "start_time": "2021-09-19T20:18:41.961Z"
   },
   {
    "duration": 120,
    "start_time": "2021-09-19T20:18:41.984Z"
   },
   {
    "duration": 9,
    "start_time": "2021-09-19T20:18:42.106Z"
   },
   {
    "duration": 33,
    "start_time": "2021-09-19T20:18:42.121Z"
   },
   {
    "duration": 39,
    "start_time": "2021-09-19T20:18:42.159Z"
   },
   {
    "duration": 837,
    "start_time": "2021-09-19T20:18:42.201Z"
   },
   {
    "duration": 117,
    "start_time": "2021-09-19T20:18:43.042Z"
   },
   {
    "duration": 463,
    "start_time": "2021-09-19T20:18:43.162Z"
   },
   {
    "duration": 27,
    "start_time": "2021-09-19T20:18:43.628Z"
   },
   {
    "duration": 98,
    "start_time": "2021-09-19T20:18:43.657Z"
   },
   {
    "duration": 35,
    "start_time": "2021-09-19T20:18:43.757Z"
   },
   {
    "duration": 113,
    "start_time": "2021-09-19T20:18:43.794Z"
   },
   {
    "duration": 16,
    "start_time": "2021-09-19T20:18:43.909Z"
   },
   {
    "duration": 30,
    "start_time": "2021-09-19T20:18:43.927Z"
   },
   {
    "duration": 199,
    "start_time": "2021-09-19T20:18:43.959Z"
   },
   {
    "duration": 255,
    "start_time": "2021-09-19T20:18:44.161Z"
   },
   {
    "duration": 346,
    "start_time": "2021-09-19T20:18:44.419Z"
   },
   {
    "duration": 213,
    "start_time": "2021-09-19T20:18:44.767Z"
   },
   {
    "duration": 9,
    "start_time": "2021-09-19T20:18:44.984Z"
   },
   {
    "duration": 48,
    "start_time": "2021-09-19T20:18:44.996Z"
   },
   {
    "duration": 33,
    "start_time": "2021-09-19T20:18:45.047Z"
   },
   {
    "duration": 29,
    "start_time": "2021-09-19T20:18:45.083Z"
   },
   {
    "duration": 52,
    "start_time": "2021-09-19T20:18:45.115Z"
   },
   {
    "duration": 27,
    "start_time": "2021-09-19T20:18:45.169Z"
   },
   {
    "duration": 18,
    "start_time": "2021-09-19T20:18:45.198Z"
   },
   {
    "duration": 85,
    "start_time": "2021-09-19T20:23:07.883Z"
   },
   {
    "duration": 553,
    "start_time": "2021-09-19T20:28:49.271Z"
   },
   {
    "duration": 1861,
    "start_time": "2021-09-20T05:17:35.715Z"
   },
   {
    "duration": 260,
    "start_time": "2021-09-20T05:17:37.578Z"
   },
   {
    "duration": 5,
    "start_time": "2021-09-20T05:17:37.854Z"
   },
   {
    "duration": 106,
    "start_time": "2021-09-20T05:17:37.861Z"
   },
   {
    "duration": 21,
    "start_time": "2021-09-20T05:17:37.969Z"
   },
   {
    "duration": 119,
    "start_time": "2021-09-20T05:17:37.992Z"
   },
   {
    "duration": 7,
    "start_time": "2021-09-20T05:17:38.115Z"
   },
   {
    "duration": 74,
    "start_time": "2021-09-20T05:17:38.125Z"
   },
   {
    "duration": 36,
    "start_time": "2021-09-20T05:17:38.201Z"
   },
   {
    "duration": 778,
    "start_time": "2021-09-20T05:17:38.255Z"
   },
   {
    "duration": 121,
    "start_time": "2021-09-20T05:17:39.035Z"
   },
   {
    "duration": 452,
    "start_time": "2021-09-20T05:17:39.160Z"
   },
   {
    "duration": 14,
    "start_time": "2021-09-20T05:17:39.614Z"
   },
   {
    "duration": 82,
    "start_time": "2021-09-20T05:17:39.631Z"
   },
   {
    "duration": 65,
    "start_time": "2021-09-20T05:17:39.715Z"
   },
   {
    "duration": 85,
    "start_time": "2021-09-20T05:17:39.782Z"
   },
   {
    "duration": 15,
    "start_time": "2021-09-20T05:17:39.869Z"
   },
   {
    "duration": 5,
    "start_time": "2021-09-20T05:17:39.886Z"
   },
   {
    "duration": 219,
    "start_time": "2021-09-20T05:17:39.895Z"
   },
   {
    "duration": 237,
    "start_time": "2021-09-20T05:17:40.117Z"
   },
   {
    "duration": 333,
    "start_time": "2021-09-20T05:17:40.357Z"
   },
   {
    "duration": 195,
    "start_time": "2021-09-20T05:17:40.694Z"
   },
   {
    "duration": 8,
    "start_time": "2021-09-20T05:17:40.891Z"
   },
   {
    "duration": 15,
    "start_time": "2021-09-20T05:17:40.902Z"
   },
   {
    "duration": 53,
    "start_time": "2021-09-20T05:17:40.919Z"
   },
   {
    "duration": 28,
    "start_time": "2021-09-20T05:17:40.976Z"
   },
   {
    "duration": 60,
    "start_time": "2021-09-20T05:17:41.007Z"
   },
   {
    "duration": 29,
    "start_time": "2021-09-20T05:17:41.070Z"
   },
   {
    "duration": 6,
    "start_time": "2021-09-20T05:17:41.101Z"
   },
   {
    "duration": 37,
    "start_time": "2021-09-20T05:18:42.894Z"
   },
   {
    "duration": 38,
    "start_time": "2021-09-20T05:19:07.982Z"
   },
   {
    "duration": 39,
    "start_time": "2021-09-20T05:19:13.204Z"
   },
   {
    "duration": 39,
    "start_time": "2021-09-20T05:19:38.824Z"
   },
   {
    "duration": 319,
    "start_time": "2021-09-20T05:31:45.316Z"
   },
   {
    "duration": 8,
    "start_time": "2021-09-20T05:32:46.242Z"
   },
   {
    "duration": 86,
    "start_time": "2021-09-20T05:39:32.086Z"
   },
   {
    "duration": 102,
    "start_time": "2021-09-20T05:39:45.643Z"
   },
   {
    "duration": 8,
    "start_time": "2021-09-20T05:39:55.272Z"
   },
   {
    "duration": 82,
    "start_time": "2021-09-20T05:40:21.318Z"
   },
   {
    "duration": 87,
    "start_time": "2021-09-20T05:41:25.098Z"
   },
   {
    "duration": 13,
    "start_time": "2021-09-20T05:42:07.817Z"
   },
   {
    "duration": 14,
    "start_time": "2021-09-20T05:43:06.434Z"
   },
   {
    "duration": 593,
    "start_time": "2021-09-20T05:48:55.995Z"
   },
   {
    "duration": 30,
    "start_time": "2021-09-20T05:49:06.105Z"
   },
   {
    "duration": 6892,
    "start_time": "2021-09-20T05:49:27.768Z"
   },
   {
    "duration": 193,
    "start_time": "2021-09-20T05:49:41.347Z"
   },
   {
    "duration": 192,
    "start_time": "2021-09-20T05:50:04.742Z"
   },
   {
    "duration": 206,
    "start_time": "2021-09-20T05:55:25.651Z"
   },
   {
    "duration": 553,
    "start_time": "2021-09-20T05:56:01.889Z"
   },
   {
    "duration": 207,
    "start_time": "2021-09-20T06:01:59.892Z"
   },
   {
    "duration": 175,
    "start_time": "2021-09-20T06:22:00.447Z"
   },
   {
    "duration": 237,
    "start_time": "2021-09-20T06:22:15.475Z"
   },
   {
    "duration": 327,
    "start_time": "2021-09-20T06:22:35.720Z"
   },
   {
    "duration": 181,
    "start_time": "2021-09-20T06:42:26.455Z"
   },
   {
    "duration": 289,
    "start_time": "2021-09-20T06:42:47.432Z"
   },
   {
    "duration": 178,
    "start_time": "2021-09-20T06:43:07.286Z"
   },
   {
    "duration": 120,
    "start_time": "2021-09-20T06:48:02.023Z"
   },
   {
    "duration": 267,
    "start_time": "2021-09-20T06:48:52.811Z"
   },
   {
    "duration": 178,
    "start_time": "2021-09-20T06:50:37.762Z"
   },
   {
    "duration": 392,
    "start_time": "2021-09-20T06:51:14.746Z"
   },
   {
    "duration": 183,
    "start_time": "2021-09-20T06:51:40.565Z"
   },
   {
    "duration": 222,
    "start_time": "2021-09-20T06:55:14.463Z"
   },
   {
    "duration": 173,
    "start_time": "2021-09-20T06:55:59.744Z"
   },
   {
    "duration": 400,
    "start_time": "2021-09-20T06:56:38.871Z"
   },
   {
    "duration": 10,
    "start_time": "2021-09-20T06:57:23.332Z"
   },
   {
    "duration": 22,
    "start_time": "2021-09-20T06:57:32.573Z"
   },
   {
    "duration": 27,
    "start_time": "2021-09-20T06:57:46.137Z"
   },
   {
    "duration": 27,
    "start_time": "2021-09-20T06:57:54.121Z"
   },
   {
    "duration": 27,
    "start_time": "2021-09-20T06:58:03.911Z"
   },
   {
    "duration": 5,
    "start_time": "2021-09-20T06:58:33.385Z"
   },
   {
    "duration": 488,
    "start_time": "2021-10-05T19:22:20.808Z"
   },
   {
    "duration": 1921,
    "start_time": "2021-10-05T19:22:26.363Z"
   },
   {
    "duration": 2762,
    "start_time": "2021-10-05T19:22:28.524Z"
   },
   {
    "duration": 28070,
    "start_time": "2021-11-12T06:32:46.337Z"
   },
   {
    "duration": 881,
    "start_time": "2021-11-12T06:33:14.410Z"
   },
   {
    "duration": 524,
    "start_time": "2021-11-12T06:33:15.294Z"
   },
   {
    "duration": 46,
    "start_time": "2021-11-12T06:33:15.830Z"
   },
   {
    "duration": 117,
    "start_time": "2021-11-12T06:33:15.878Z"
   },
   {
    "duration": 150,
    "start_time": "2021-11-12T06:33:15.998Z"
   },
   {
    "duration": 118,
    "start_time": "2021-11-12T06:33:16.151Z"
   },
   {
    "duration": 323,
    "start_time": "2021-11-12T06:33:16.273Z"
   },
   {
    "duration": 43,
    "start_time": "2021-11-12T06:33:16.599Z"
   },
   {
    "duration": 65,
    "start_time": "2021-11-12T06:33:16.644Z"
   },
   {
    "duration": 27,
    "start_time": "2021-11-12T06:33:16.712Z"
   },
   {
    "duration": 37,
    "start_time": "2021-11-12T06:33:16.741Z"
   },
   {
    "duration": 986,
    "start_time": "2021-11-12T06:33:16.781Z"
   },
   {
    "duration": 6,
    "start_time": "2021-11-12T06:33:17.770Z"
   },
   {
    "duration": 2965,
    "start_time": "2021-11-12T06:33:17.779Z"
   },
   {
    "duration": 9,
    "start_time": "2021-11-12T06:33:20.746Z"
   },
   {
    "duration": 37,
    "start_time": "2021-11-12T06:33:20.757Z"
   },
   {
    "duration": 32,
    "start_time": "2021-11-12T06:33:20.797Z"
   },
   {
    "duration": 53,
    "start_time": "2021-11-12T06:33:20.831Z"
   },
   {
    "duration": 57,
    "start_time": "2021-11-12T06:33:20.886Z"
   },
   {
    "duration": 223,
    "start_time": "2021-11-12T06:33:20.945Z"
   },
   {
    "duration": 454,
    "start_time": "2021-11-12T06:33:21.170Z"
   },
   {
    "duration": 10,
    "start_time": "2021-11-12T06:33:21.630Z"
   },
   {
    "duration": 15,
    "start_time": "2021-11-12T06:33:21.643Z"
   },
   {
    "duration": 11,
    "start_time": "2021-11-12T06:33:21.660Z"
   },
   {
    "duration": 55,
    "start_time": "2021-11-12T06:33:21.674Z"
   },
   {
    "duration": 44,
    "start_time": "2021-11-12T06:33:21.732Z"
   },
   {
    "duration": 215,
    "start_time": "2021-11-12T06:33:21.779Z"
   },
   {
    "duration": 136,
    "start_time": "2021-11-12T06:33:21.997Z"
   },
   {
    "duration": 10,
    "start_time": "2021-11-12T06:33:22.135Z"
   },
   {
    "duration": 2159,
    "start_time": "2021-11-12T06:33:22.148Z"
   },
   {
    "duration": 80,
    "start_time": "2021-11-12T06:33:24.309Z"
   },
   {
    "duration": 211,
    "start_time": "2021-11-12T06:33:24.392Z"
   },
   {
    "duration": 8,
    "start_time": "2021-11-12T06:33:24.606Z"
   },
   {
    "duration": 24,
    "start_time": "2021-11-12T06:33:24.629Z"
   },
   {
    "duration": 17667,
    "start_time": "2021-11-12T08:39:29.350Z"
   },
   {
    "duration": 854,
    "start_time": "2021-11-12T08:39:47.020Z"
   },
   {
    "duration": 433,
    "start_time": "2021-11-12T08:39:47.876Z"
   },
   {
    "duration": 52,
    "start_time": "2021-11-12T08:39:48.312Z"
   },
   {
    "duration": 109,
    "start_time": "2021-11-12T08:39:48.367Z"
   },
   {
    "duration": 151,
    "start_time": "2021-11-12T08:39:48.479Z"
   },
   {
    "duration": 120,
    "start_time": "2021-11-12T08:39:48.632Z"
   },
   {
    "duration": 307,
    "start_time": "2021-11-12T08:39:48.756Z"
   },
   {
    "duration": 31,
    "start_time": "2021-11-12T08:39:49.066Z"
   },
   {
    "duration": 91,
    "start_time": "2021-11-12T08:39:49.099Z"
   },
   {
    "duration": 15,
    "start_time": "2021-11-12T08:39:49.192Z"
   },
   {
    "duration": 42,
    "start_time": "2021-11-12T08:39:49.209Z"
   },
   {
    "duration": 992,
    "start_time": "2021-11-12T08:39:49.253Z"
   },
   {
    "duration": 5,
    "start_time": "2021-11-12T08:39:50.247Z"
   },
   {
    "duration": 2913,
    "start_time": "2021-11-12T08:39:50.255Z"
   },
   {
    "duration": 10,
    "start_time": "2021-11-12T08:39:53.170Z"
   },
   {
    "duration": 47,
    "start_time": "2021-11-12T08:39:53.182Z"
   },
   {
    "duration": 11,
    "start_time": "2021-11-12T08:39:53.231Z"
   },
   {
    "duration": 52,
    "start_time": "2021-11-12T08:39:53.245Z"
   },
   {
    "duration": 59,
    "start_time": "2021-11-12T08:39:53.299Z"
   },
   {
    "duration": 231,
    "start_time": "2021-11-12T08:39:53.361Z"
   },
   {
    "duration": 450,
    "start_time": "2021-11-12T08:39:53.595Z"
   },
   {
    "duration": 10,
    "start_time": "2021-11-12T08:39:54.051Z"
   },
   {
    "duration": 18,
    "start_time": "2021-11-12T08:39:54.064Z"
   },
   {
    "duration": 46,
    "start_time": "2021-11-12T08:39:54.085Z"
   },
   {
    "duration": 15,
    "start_time": "2021-11-12T08:39:54.134Z"
   },
   {
    "duration": 45,
    "start_time": "2021-11-12T08:39:54.152Z"
   },
   {
    "duration": 221,
    "start_time": "2021-11-12T08:39:54.200Z"
   },
   {
    "duration": 134,
    "start_time": "2021-11-12T08:39:54.423Z"
   },
   {
    "duration": 8,
    "start_time": "2021-11-12T08:39:54.560Z"
   },
   {
    "duration": 2080,
    "start_time": "2021-11-12T08:39:54.571Z"
   },
   {
    "duration": 77,
    "start_time": "2021-11-12T08:39:56.653Z"
   },
   {
    "duration": 201,
    "start_time": "2021-11-12T08:39:56.733Z"
   },
   {
    "duration": 8,
    "start_time": "2021-11-12T08:39:56.936Z"
   },
   {
    "duration": 41,
    "start_time": "2021-11-12T08:39:56.947Z"
   },
   {
    "duration": 1883,
    "start_time": "2021-11-12T12:34:03.600Z"
   },
   {
    "duration": 945,
    "start_time": "2021-11-12T12:34:05.486Z"
   },
   {
    "duration": 395,
    "start_time": "2021-11-12T12:34:06.434Z"
   },
   {
    "duration": 62,
    "start_time": "2021-11-12T12:34:06.833Z"
   },
   {
    "duration": 110,
    "start_time": "2021-11-12T12:34:06.898Z"
   },
   {
    "duration": 153,
    "start_time": "2021-11-12T12:34:07.011Z"
   },
   {
    "duration": 151,
    "start_time": "2021-11-12T12:34:07.167Z"
   },
   {
    "duration": 366,
    "start_time": "2021-11-12T12:34:07.324Z"
   },
   {
    "duration": 66,
    "start_time": "2021-11-12T12:34:07.694Z"
   },
   {
    "duration": 68,
    "start_time": "2021-11-12T12:34:07.762Z"
   },
   {
    "duration": 33,
    "start_time": "2021-11-12T12:34:07.833Z"
   },
   {
    "duration": 34,
    "start_time": "2021-11-12T12:34:07.869Z"
   },
   {
    "duration": 1168,
    "start_time": "2021-11-12T12:34:07.906Z"
   },
   {
    "duration": 7,
    "start_time": "2021-11-12T12:34:09.077Z"
   },
   {
    "duration": 3099,
    "start_time": "2021-11-12T12:34:09.087Z"
   },
   {
    "duration": 9,
    "start_time": "2021-11-12T12:34:12.189Z"
   },
   {
    "duration": 24,
    "start_time": "2021-11-12T12:34:12.201Z"
   },
   {
    "duration": 39,
    "start_time": "2021-11-12T12:34:12.227Z"
   },
   {
    "duration": 49,
    "start_time": "2021-11-12T12:34:12.269Z"
   },
   {
    "duration": 60,
    "start_time": "2021-11-12T12:34:12.321Z"
   },
   {
    "duration": 226,
    "start_time": "2021-11-12T12:34:12.384Z"
   },
   {
    "duration": 435,
    "start_time": "2021-11-12T12:34:12.612Z"
   },
   {
    "duration": 12,
    "start_time": "2021-11-12T12:34:13.052Z"
   },
   {
    "duration": 18,
    "start_time": "2021-11-12T12:34:13.067Z"
   },
   {
    "duration": 12,
    "start_time": "2021-11-12T12:34:13.088Z"
   },
   {
    "duration": 21,
    "start_time": "2021-11-12T12:34:13.102Z"
   },
   {
    "duration": 71,
    "start_time": "2021-11-12T12:34:13.125Z"
   },
   {
    "duration": 281,
    "start_time": "2021-11-12T12:34:13.199Z"
   },
   {
    "duration": 214,
    "start_time": "2021-11-12T12:34:13.484Z"
   },
   {
    "duration": 13,
    "start_time": "2021-11-12T12:34:13.702Z"
   },
   {
    "duration": 2248,
    "start_time": "2021-11-12T12:34:13.718Z"
   },
   {
    "duration": 64,
    "start_time": "2021-11-12T12:34:15.968Z"
   },
   {
    "duration": 216,
    "start_time": "2021-11-12T12:34:16.035Z"
   },
   {
    "duration": 8,
    "start_time": "2021-11-12T12:34:16.254Z"
   },
   {
    "duration": 31,
    "start_time": "2021-11-12T12:34:16.265Z"
   },
   {
    "duration": 827,
    "start_time": "2021-11-12T12:38:41.382Z"
   },
   {
    "duration": 1930,
    "start_time": "2021-11-12T12:39:01.388Z"
   },
   {
    "duration": 965,
    "start_time": "2021-11-12T12:39:03.321Z"
   },
   {
    "duration": 371,
    "start_time": "2021-11-12T12:39:04.289Z"
   },
   {
    "duration": 44,
    "start_time": "2021-11-12T12:39:04.663Z"
   },
   {
    "duration": 121,
    "start_time": "2021-11-12T12:39:04.711Z"
   },
   {
    "duration": 139,
    "start_time": "2021-11-12T12:39:04.835Z"
   },
   {
    "duration": 133,
    "start_time": "2021-11-12T12:39:04.977Z"
   },
   {
    "duration": 300,
    "start_time": "2021-11-12T12:39:05.115Z"
   },
   {
    "duration": 48,
    "start_time": "2021-11-12T12:39:05.419Z"
   },
   {
    "duration": 67,
    "start_time": "2021-11-12T12:39:05.470Z"
   },
   {
    "duration": 31,
    "start_time": "2021-11-12T12:39:05.539Z"
   },
   {
    "duration": 23,
    "start_time": "2021-11-12T12:39:05.573Z"
   },
   {
    "duration": 967,
    "start_time": "2021-11-12T12:39:05.599Z"
   },
   {
    "duration": 5,
    "start_time": "2021-11-12T12:39:06.568Z"
   },
   {
    "duration": 2669,
    "start_time": "2021-11-12T12:39:06.575Z"
   },
   {
    "duration": 16,
    "start_time": "2021-11-12T12:39:09.247Z"
   },
   {
    "duration": 24,
    "start_time": "2021-11-12T12:39:09.266Z"
   },
   {
    "duration": 10,
    "start_time": "2021-11-12T12:39:09.293Z"
   },
   {
    "duration": 82,
    "start_time": "2021-11-12T12:39:09.306Z"
   },
   {
    "duration": 33,
    "start_time": "2021-11-12T12:39:09.390Z"
   },
   {
    "duration": 233,
    "start_time": "2021-11-12T12:39:09.426Z"
   },
   {
    "duration": 418,
    "start_time": "2021-11-12T12:39:09.661Z"
   },
   {
    "duration": 9,
    "start_time": "2021-11-12T12:39:10.084Z"
   },
   {
    "duration": 16,
    "start_time": "2021-11-12T12:39:10.095Z"
   },
   {
    "duration": 8,
    "start_time": "2021-11-12T12:39:10.114Z"
   },
   {
    "duration": 45,
    "start_time": "2021-11-12T12:39:10.124Z"
   },
   {
    "duration": 46,
    "start_time": "2021-11-12T12:39:10.171Z"
   },
   {
    "duration": 193,
    "start_time": "2021-11-12T12:39:10.219Z"
   },
   {
    "duration": 136,
    "start_time": "2021-11-12T12:39:10.414Z"
   },
   {
    "duration": 13,
    "start_time": "2021-11-12T12:39:10.553Z"
   },
   {
    "duration": 1894,
    "start_time": "2021-11-12T12:39:10.569Z"
   },
   {
    "duration": 61,
    "start_time": "2021-11-12T12:39:12.465Z"
   },
   {
    "duration": 201,
    "start_time": "2021-11-12T12:39:12.528Z"
   },
   {
    "duration": 8,
    "start_time": "2021-11-12T12:39:12.732Z"
   },
   {
    "duration": 34,
    "start_time": "2021-11-12T12:39:12.742Z"
   },
   {
    "duration": 638,
    "start_time": "2021-11-12T12:42:11.304Z"
   },
   {
    "duration": 7,
    "start_time": "2021-11-12T12:45:41.812Z"
   },
   {
    "duration": 437,
    "start_time": "2021-11-12T12:47:18.731Z"
   },
   {
    "duration": 403,
    "start_time": "2021-11-12T12:54:47.936Z"
   },
   {
    "duration": 360,
    "start_time": "2021-11-12T12:55:54.700Z"
   },
   {
    "duration": 79,
    "start_time": "2021-11-12T13:02:13.488Z"
   },
   {
    "duration": 87,
    "start_time": "2021-11-12T13:03:01.581Z"
   },
   {
    "duration": 84,
    "start_time": "2021-11-12T13:03:28.400Z"
   },
   {
    "duration": 1579,
    "start_time": "2021-11-12T13:04:05.101Z"
   },
   {
    "duration": 86,
    "start_time": "2021-11-12T13:04:27.830Z"
   },
   {
    "duration": 103,
    "start_time": "2021-11-12T13:04:40.922Z"
   },
   {
    "duration": 85,
    "start_time": "2021-11-12T13:04:57.637Z"
   },
   {
    "duration": 12,
    "start_time": "2021-11-12T13:06:11.681Z"
   },
   {
    "duration": 13,
    "start_time": "2021-11-12T13:07:34.202Z"
   },
   {
    "duration": 191,
    "start_time": "2021-11-12T13:10:47.882Z"
   },
   {
    "duration": 366,
    "start_time": "2021-11-12T13:11:10.660Z"
   },
   {
    "duration": 178,
    "start_time": "2021-11-12T13:11:48.276Z"
   },
   {
    "duration": 203,
    "start_time": "2021-11-12T13:12:25.008Z"
   },
   {
    "duration": 182,
    "start_time": "2021-11-12T13:12:47.600Z"
   },
   {
    "duration": 362,
    "start_time": "2021-11-12T13:12:58.241Z"
   },
   {
    "duration": 16,
    "start_time": "2021-11-12T13:22:52.590Z"
   },
   {
    "duration": 13,
    "start_time": "2021-11-12T13:23:15.088Z"
   },
   {
    "duration": 1901,
    "start_time": "2021-11-12T13:24:06.076Z"
   },
   {
    "duration": 840,
    "start_time": "2021-11-12T13:24:07.979Z"
   },
   {
    "duration": 396,
    "start_time": "2021-11-12T13:24:08.822Z"
   },
   {
    "duration": 64,
    "start_time": "2021-11-12T13:24:09.221Z"
   },
   {
    "duration": 101,
    "start_time": "2021-11-12T13:24:09.288Z"
   },
   {
    "duration": 730,
    "start_time": "2021-11-12T13:24:09.391Z"
   },
   {
    "duration": 359,
    "start_time": "2021-11-12T13:24:10.124Z"
   },
   {
    "duration": 123,
    "start_time": "2021-11-12T13:24:10.487Z"
   },
   {
    "duration": 288,
    "start_time": "2021-11-12T13:24:10.613Z"
   },
   {
    "duration": 29,
    "start_time": "2021-11-12T13:24:10.903Z"
   },
   {
    "duration": 81,
    "start_time": "2021-11-12T13:24:10.935Z"
   },
   {
    "duration": 15,
    "start_time": "2021-11-12T13:24:11.018Z"
   },
   {
    "duration": 40,
    "start_time": "2021-11-12T13:24:11.036Z"
   },
   {
    "duration": 426,
    "start_time": "2021-11-12T13:24:11.079Z"
   },
   {
    "duration": 5,
    "start_time": "2021-11-12T13:24:11.507Z"
   },
   {
    "duration": 2569,
    "start_time": "2021-11-12T13:24:11.515Z"
   },
   {
    "duration": 12,
    "start_time": "2021-11-12T13:24:14.087Z"
   },
   {
    "duration": 25,
    "start_time": "2021-11-12T13:24:14.101Z"
   },
   {
    "duration": 40,
    "start_time": "2021-11-12T13:24:14.129Z"
   },
   {
    "duration": 52,
    "start_time": "2021-11-12T13:24:14.172Z"
   },
   {
    "duration": 55,
    "start_time": "2021-11-12T13:24:14.226Z"
   },
   {
    "duration": 335,
    "start_time": "2021-11-12T13:24:14.284Z"
   },
   {
    "duration": 297,
    "start_time": "2021-11-12T13:24:14.624Z"
   },
   {
    "duration": 8,
    "start_time": "2021-11-12T13:24:14.924Z"
   },
   {
    "duration": 36,
    "start_time": "2021-11-12T13:24:14.934Z"
   },
   {
    "duration": 10,
    "start_time": "2021-11-12T13:24:14.972Z"
   },
   {
    "duration": 13,
    "start_time": "2021-11-12T13:24:14.984Z"
   },
   {
    "duration": 66,
    "start_time": "2021-11-12T13:24:14.999Z"
   },
   {
    "duration": 196,
    "start_time": "2021-11-12T13:24:15.067Z"
   },
   {
    "duration": 130,
    "start_time": "2021-11-12T13:24:15.265Z"
   },
   {
    "duration": 9,
    "start_time": "2021-11-12T13:24:15.398Z"
   },
   {
    "duration": 1940,
    "start_time": "2021-11-12T13:24:15.409Z"
   },
   {
    "duration": 64,
    "start_time": "2021-11-12T13:24:17.351Z"
   },
   {
    "duration": 196,
    "start_time": "2021-11-12T13:24:17.417Z"
   },
   {
    "duration": 8,
    "start_time": "2021-11-12T13:24:17.615Z"
   },
   {
    "duration": 42,
    "start_time": "2021-11-12T13:24:17.625Z"
   },
   {
    "duration": 590,
    "start_time": "2021-11-12T14:26:02.233Z"
   },
   {
    "duration": 4,
    "start_time": "2021-11-12T14:26:17.339Z"
   },
   {
    "duration": 6,
    "start_time": "2021-11-12T14:26:23.885Z"
   },
   {
    "duration": 436,
    "start_time": "2021-11-12T14:35:38.846Z"
   },
   {
    "duration": 416,
    "start_time": "2021-11-12T14:36:08.841Z"
   },
   {
    "duration": 12,
    "start_time": "2021-11-12T14:36:25.071Z"
   },
   {
    "duration": 10,
    "start_time": "2021-11-12T14:36:38.148Z"
   },
   {
    "duration": 1483,
    "start_time": "2021-11-13T06:20:30.369Z"
   },
   {
    "duration": 597,
    "start_time": "2021-11-13T06:20:31.854Z"
   },
   {
    "duration": 259,
    "start_time": "2021-11-13T06:20:32.454Z"
   },
   {
    "duration": 27,
    "start_time": "2021-11-13T06:20:32.715Z"
   },
   {
    "duration": 76,
    "start_time": "2021-11-13T06:20:32.743Z"
   },
   {
    "duration": 480,
    "start_time": "2021-11-13T06:20:32.821Z"
   },
   {
    "duration": 204,
    "start_time": "2021-11-13T06:20:33.303Z"
   },
   {
    "duration": 57,
    "start_time": "2021-11-13T06:20:33.509Z"
   },
   {
    "duration": 205,
    "start_time": "2021-11-13T06:20:33.568Z"
   },
   {
    "duration": 20,
    "start_time": "2021-11-13T06:20:33.775Z"
   },
   {
    "duration": 50,
    "start_time": "2021-11-13T06:20:33.797Z"
   },
   {
    "duration": 9,
    "start_time": "2021-11-13T06:20:33.849Z"
   },
   {
    "duration": 18,
    "start_time": "2021-11-13T06:20:33.860Z"
   },
   {
    "duration": 292,
    "start_time": "2021-11-13T06:20:33.880Z"
   },
   {
    "duration": 3,
    "start_time": "2021-11-13T06:20:34.173Z"
   },
   {
    "duration": 1398,
    "start_time": "2021-11-13T06:20:34.178Z"
   },
   {
    "duration": 7,
    "start_time": "2021-11-13T06:20:35.578Z"
   },
   {
    "duration": 26,
    "start_time": "2021-11-13T06:20:35.586Z"
   },
   {
    "duration": 9,
    "start_time": "2021-11-13T06:20:35.613Z"
   },
   {
    "duration": 38,
    "start_time": "2021-11-13T06:20:35.623Z"
   },
   {
    "duration": 8,
    "start_time": "2021-11-13T06:20:35.663Z"
   },
   {
    "duration": 43,
    "start_time": "2021-11-13T06:20:35.674Z"
   },
   {
    "duration": 235,
    "start_time": "2021-11-13T06:20:35.719Z"
   },
   {
    "duration": 223,
    "start_time": "2021-11-13T06:20:35.956Z"
   },
   {
    "duration": 7,
    "start_time": "2021-11-13T06:20:36.180Z"
   },
   {
    "duration": 29,
    "start_time": "2021-11-13T06:20:36.188Z"
   },
   {
    "duration": 12,
    "start_time": "2021-11-13T06:20:36.219Z"
   },
   {
    "duration": 14,
    "start_time": "2021-11-13T06:20:36.233Z"
   },
   {
    "duration": 32,
    "start_time": "2021-11-13T06:20:36.249Z"
   },
   {
    "duration": 118,
    "start_time": "2021-11-13T06:20:36.283Z"
   },
   {
    "duration": 74,
    "start_time": "2021-11-13T06:20:36.403Z"
   },
   {
    "duration": 5,
    "start_time": "2021-11-13T06:20:36.479Z"
   },
   {
    "duration": 1259,
    "start_time": "2021-11-13T06:20:36.486Z"
   },
   {
    "duration": 40,
    "start_time": "2021-11-13T06:20:37.747Z"
   },
   {
    "duration": 127,
    "start_time": "2021-11-13T06:20:37.788Z"
   },
   {
    "duration": 5,
    "start_time": "2021-11-13T06:20:37.916Z"
   },
   {
    "duration": 19,
    "start_time": "2021-11-13T06:20:37.923Z"
   },
   {
    "duration": 4,
    "start_time": "2021-11-13T06:29:27.421Z"
   },
   {
    "duration": 5,
    "start_time": "2021-11-13T06:29:36.831Z"
   },
   {
    "duration": 610,
    "start_time": "2021-11-13T06:30:00.493Z"
   },
   {
    "duration": 400,
    "start_time": "2021-11-13T06:30:40.365Z"
   },
   {
    "duration": 4,
    "start_time": "2021-11-13T06:31:54.842Z"
   },
   {
    "duration": 563,
    "start_time": "2021-11-13T06:32:52.293Z"
   },
   {
    "duration": 449,
    "start_time": "2021-11-13T06:33:19.268Z"
   },
   {
    "duration": 7,
    "start_time": "2021-11-13T06:33:25.375Z"
   },
   {
    "duration": 7,
    "start_time": "2021-11-13T06:39:31.794Z"
   },
   {
    "duration": 7,
    "start_time": "2021-11-13T06:40:06.208Z"
   },
   {
    "duration": 7,
    "start_time": "2021-11-13T06:41:36.148Z"
   },
   {
    "duration": 7,
    "start_time": "2021-11-13T06:41:44.846Z"
   },
   {
    "duration": 14,
    "start_time": "2021-11-13T06:51:54.574Z"
   },
   {
    "duration": 376,
    "start_time": "2021-11-13T06:53:58.829Z"
   },
   {
    "duration": 7,
    "start_time": "2021-11-13T06:55:12.153Z"
   },
   {
    "duration": 23,
    "start_time": "2021-11-13T06:55:57.354Z"
   },
   {
    "duration": 22,
    "start_time": "2021-11-13T06:56:35.203Z"
   },
   {
    "duration": 3,
    "start_time": "2021-11-13T06:56:48.081Z"
   },
   {
    "duration": 2,
    "start_time": "2021-11-13T06:56:55.367Z"
   },
   {
    "duration": 4,
    "start_time": "2021-11-13T06:57:05.310Z"
   },
   {
    "duration": 447,
    "start_time": "2021-11-13T06:57:32.613Z"
   },
   {
    "duration": 24,
    "start_time": "2021-11-13T06:57:39.218Z"
   },
   {
    "duration": 25,
    "start_time": "2021-11-13T06:58:46.684Z"
   },
   {
    "duration": 122,
    "start_time": "2021-11-13T06:59:38.199Z"
   },
   {
    "duration": 25,
    "start_time": "2021-11-13T06:59:51.693Z"
   },
   {
    "duration": 25,
    "start_time": "2021-11-13T07:00:26.553Z"
   },
   {
    "duration": 362,
    "start_time": "2021-11-13T07:11:17.409Z"
   },
   {
    "duration": 380,
    "start_time": "2021-11-13T07:11:57.280Z"
   },
   {
    "duration": 26,
    "start_time": "2021-11-13T07:14:35.238Z"
   },
   {
    "duration": 23,
    "start_time": "2021-11-13T07:15:01.112Z"
   },
   {
    "duration": 153,
    "start_time": "2021-11-13T07:15:21.673Z"
   },
   {
    "duration": 235,
    "start_time": "2021-11-13T07:16:50.679Z"
   },
   {
    "duration": 358,
    "start_time": "2021-11-13T07:19:45.079Z"
   },
   {
    "duration": 233,
    "start_time": "2021-11-13T07:21:02.934Z"
   },
   {
    "duration": 246,
    "start_time": "2021-11-13T07:22:02.132Z"
   },
   {
    "duration": 1561,
    "start_time": "2021-11-13T07:25:10.306Z"
   },
   {
    "duration": 601,
    "start_time": "2021-11-13T07:25:11.868Z"
   },
   {
    "duration": 271,
    "start_time": "2021-11-13T07:25:12.471Z"
   },
   {
    "duration": 29,
    "start_time": "2021-11-13T07:25:12.743Z"
   },
   {
    "duration": 80,
    "start_time": "2021-11-13T07:25:12.774Z"
   },
   {
    "duration": 478,
    "start_time": "2021-11-13T07:25:12.856Z"
   },
   {
    "duration": 206,
    "start_time": "2021-11-13T07:25:13.335Z"
   },
   {
    "duration": 80,
    "start_time": "2021-11-13T07:25:13.543Z"
   },
   {
    "duration": 201,
    "start_time": "2021-11-13T07:25:13.625Z"
   },
   {
    "duration": 21,
    "start_time": "2021-11-13T07:25:13.827Z"
   },
   {
    "duration": 57,
    "start_time": "2021-11-13T07:25:13.849Z"
   },
   {
    "duration": 14,
    "start_time": "2021-11-13T07:25:13.908Z"
   },
   {
    "duration": 23,
    "start_time": "2021-11-13T07:25:13.924Z"
   },
   {
    "duration": 290,
    "start_time": "2021-11-13T07:25:13.948Z"
   },
   {
    "duration": 4,
    "start_time": "2021-11-13T07:25:14.239Z"
   },
   {
    "duration": 1340,
    "start_time": "2021-11-13T07:25:14.244Z"
   },
   {
    "duration": 7,
    "start_time": "2021-11-13T07:25:15.586Z"
   },
   {
    "duration": 15,
    "start_time": "2021-11-13T07:25:15.606Z"
   },
   {
    "duration": 8,
    "start_time": "2021-11-13T07:25:15.623Z"
   },
   {
    "duration": 31,
    "start_time": "2021-11-13T07:25:15.633Z"
   },
   {
    "duration": 7,
    "start_time": "2021-11-13T07:25:15.665Z"
   },
   {
    "duration": 50,
    "start_time": "2021-11-13T07:25:15.673Z"
   },
   {
    "duration": 4,
    "start_time": "2021-11-13T07:25:15.726Z"
   },
   {
    "duration": 26,
    "start_time": "2021-11-13T07:25:15.731Z"
   },
   {
    "duration": 250,
    "start_time": "2021-11-13T07:25:15.759Z"
   },
   {
    "duration": 114,
    "start_time": "2021-11-13T07:25:16.010Z"
   },
   {
    "duration": 3,
    "start_time": "2021-11-13T07:25:16.123Z"
   },
   {
    "duration": -6,
    "start_time": "2021-11-13T07:25:16.133Z"
   },
   {
    "duration": -7,
    "start_time": "2021-11-13T07:25:16.135Z"
   },
   {
    "duration": -9,
    "start_time": "2021-11-13T07:25:16.139Z"
   },
   {
    "duration": -15,
    "start_time": "2021-11-13T07:25:16.146Z"
   },
   {
    "duration": -15,
    "start_time": "2021-11-13T07:25:16.147Z"
   },
   {
    "duration": -16,
    "start_time": "2021-11-13T07:25:16.149Z"
   },
   {
    "duration": -16,
    "start_time": "2021-11-13T07:25:16.150Z"
   },
   {
    "duration": -16,
    "start_time": "2021-11-13T07:25:16.151Z"
   },
   {
    "duration": -16,
    "start_time": "2021-11-13T07:25:16.152Z"
   },
   {
    "duration": -17,
    "start_time": "2021-11-13T07:25:16.154Z"
   },
   {
    "duration": -17,
    "start_time": "2021-11-13T07:25:16.155Z"
   },
   {
    "duration": -17,
    "start_time": "2021-11-13T07:25:16.156Z"
   },
   {
    "duration": -22,
    "start_time": "2021-11-13T07:25:16.162Z"
   },
   {
    "duration": -22,
    "start_time": "2021-11-13T07:25:16.163Z"
   },
   {
    "duration": 249,
    "start_time": "2021-11-13T07:25:38.890Z"
   },
   {
    "duration": 1443,
    "start_time": "2021-11-13T07:33:44.540Z"
   },
   {
    "duration": 644,
    "start_time": "2021-11-13T07:33:45.986Z"
   },
   {
    "duration": 273,
    "start_time": "2021-11-13T07:33:46.633Z"
   },
   {
    "duration": 27,
    "start_time": "2021-11-13T07:33:46.908Z"
   },
   {
    "duration": 72,
    "start_time": "2021-11-13T07:33:46.937Z"
   },
   {
    "duration": 568,
    "start_time": "2021-11-13T07:33:47.011Z"
   },
   {
    "duration": 241,
    "start_time": "2021-11-13T07:33:47.581Z"
   },
   {
    "duration": 85,
    "start_time": "2021-11-13T07:33:47.825Z"
   },
   {
    "duration": 198,
    "start_time": "2021-11-13T07:33:47.912Z"
   },
   {
    "duration": 22,
    "start_time": "2021-11-13T07:33:48.111Z"
   },
   {
    "duration": 47,
    "start_time": "2021-11-13T07:33:48.135Z"
   },
   {
    "duration": 11,
    "start_time": "2021-11-13T07:33:48.206Z"
   },
   {
    "duration": 17,
    "start_time": "2021-11-13T07:33:48.219Z"
   },
   {
    "duration": 302,
    "start_time": "2021-11-13T07:33:48.238Z"
   },
   {
    "duration": 5,
    "start_time": "2021-11-13T07:33:48.542Z"
   },
   {
    "duration": 1362,
    "start_time": "2021-11-13T07:33:48.549Z"
   },
   {
    "duration": 7,
    "start_time": "2021-11-13T07:33:49.913Z"
   },
   {
    "duration": 18,
    "start_time": "2021-11-13T07:33:49.922Z"
   },
   {
    "duration": 10,
    "start_time": "2021-11-13T07:33:49.942Z"
   },
   {
    "duration": 57,
    "start_time": "2021-11-13T07:33:49.954Z"
   },
   {
    "duration": 7,
    "start_time": "2021-11-13T07:33:50.013Z"
   },
   {
    "duration": 34,
    "start_time": "2021-11-13T07:33:50.021Z"
   },
   {
    "duration": 4,
    "start_time": "2021-11-13T07:33:50.058Z"
   },
   {
    "duration": 42,
    "start_time": "2021-11-13T07:33:50.064Z"
   },
   {
    "duration": 241,
    "start_time": "2021-11-13T07:33:50.108Z"
   },
   {
    "duration": 255,
    "start_time": "2021-11-13T07:33:50.351Z"
   },
   {
    "duration": 187,
    "start_time": "2021-11-13T07:33:50.608Z"
   },
   {
    "duration": 9,
    "start_time": "2021-11-13T07:33:50.797Z"
   },
   {
    "duration": 13,
    "start_time": "2021-11-13T07:33:50.808Z"
   },
   {
    "duration": 7,
    "start_time": "2021-11-13T07:33:50.822Z"
   },
   {
    "duration": 11,
    "start_time": "2021-11-13T07:33:50.830Z"
   },
   {
    "duration": 32,
    "start_time": "2021-11-13T07:33:50.842Z"
   },
   {
    "duration": 266,
    "start_time": "2021-11-13T07:33:50.876Z"
   },
   {
    "duration": 85,
    "start_time": "2021-11-13T07:33:51.143Z"
   },
   {
    "duration": 6,
    "start_time": "2021-11-13T07:33:51.229Z"
   },
   {
    "duration": 1247,
    "start_time": "2021-11-13T07:33:51.236Z"
   },
   {
    "duration": 48,
    "start_time": "2021-11-13T07:33:52.485Z"
   },
   {
    "duration": 121,
    "start_time": "2021-11-13T07:33:52.535Z"
   },
   {
    "duration": 5,
    "start_time": "2021-11-13T07:33:52.658Z"
   },
   {
    "duration": 19,
    "start_time": "2021-11-13T07:33:52.664Z"
   },
   {
    "duration": 157,
    "start_time": "2021-11-13T07:40:24.945Z"
   },
   {
    "duration": 515,
    "start_time": "2021-11-13T07:40:30.360Z"
   },
   {
    "duration": 379,
    "start_time": "2021-11-13T07:40:47.628Z"
   },
   {
    "duration": 373,
    "start_time": "2021-11-13T07:54:11.776Z"
   },
   {
    "duration": 364,
    "start_time": "2021-11-13T07:54:54.946Z"
   },
   {
    "duration": 376,
    "start_time": "2021-11-13T07:57:34.180Z"
   },
   {
    "duration": 26,
    "start_time": "2021-11-13T07:57:45.440Z"
   },
   {
    "duration": 11172,
    "start_time": "2021-11-13T07:58:18.944Z"
   },
   {
    "duration": 25,
    "start_time": "2021-11-13T07:58:43.405Z"
   },
   {
    "duration": 25,
    "start_time": "2021-11-13T07:59:05.432Z"
   },
   {
    "duration": 106,
    "start_time": "2021-11-13T08:01:53.085Z"
   },
   {
    "duration": 7,
    "start_time": "2021-11-13T08:28:50.473Z"
   },
   {
    "duration": 9,
    "start_time": "2021-11-13T08:29:15.895Z"
   },
   {
    "duration": 10,
    "start_time": "2021-11-13T08:31:19.958Z"
   },
   {
    "duration": 12,
    "start_time": "2021-11-13T08:32:17.957Z"
   },
   {
    "duration": 11,
    "start_time": "2021-11-13T08:43:42.936Z"
   },
   {
    "duration": 11,
    "start_time": "2021-11-13T08:47:18.410Z"
   },
   {
    "duration": 9,
    "start_time": "2021-11-13T08:47:51.679Z"
   },
   {
    "duration": 834,
    "start_time": "2021-11-13T08:49:14.938Z"
   },
   {
    "duration": 10,
    "start_time": "2021-11-13T08:49:20.136Z"
   },
   {
    "duration": 8,
    "start_time": "2021-11-13T08:49:38.370Z"
   },
   {
    "duration": 9,
    "start_time": "2021-11-13T08:53:10.462Z"
   },
   {
    "duration": 8,
    "start_time": "2021-11-13T08:53:16.688Z"
   },
   {
    "duration": 26,
    "start_time": "2021-11-13T08:53:28.431Z"
   },
   {
    "duration": 8,
    "start_time": "2021-11-13T08:53:31.816Z"
   },
   {
    "duration": 8,
    "start_time": "2021-11-13T08:53:35.177Z"
   },
   {
    "duration": 8,
    "start_time": "2021-11-13T08:54:30.413Z"
   },
   {
    "duration": 370,
    "start_time": "2021-11-13T08:55:04.053Z"
   },
   {
    "duration": 7,
    "start_time": "2021-11-13T08:55:41.961Z"
   },
   {
    "duration": 7,
    "start_time": "2021-11-13T08:55:54.948Z"
   },
   {
    "duration": 22,
    "start_time": "2021-11-13T08:56:31.673Z"
   },
   {
    "duration": 10,
    "start_time": "2021-11-13T08:56:55.051Z"
   },
   {
    "duration": 8,
    "start_time": "2021-11-13T08:57:36.432Z"
   },
   {
    "duration": 25,
    "start_time": "2021-11-13T09:00:22.066Z"
   },
   {
    "duration": 12,
    "start_time": "2021-11-13T09:00:31.712Z"
   },
   {
    "duration": 11,
    "start_time": "2021-11-13T09:00:35.519Z"
   },
   {
    "duration": 9,
    "start_time": "2021-11-13T09:01:13.180Z"
   },
   {
    "duration": 15,
    "start_time": "2021-11-13T09:02:10.455Z"
   },
   {
    "duration": 106,
    "start_time": "2021-11-13T09:04:55.780Z"
   },
   {
    "duration": 386,
    "start_time": "2021-11-13T09:05:40.912Z"
   },
   {
    "duration": 8854,
    "start_time": "2021-11-13T09:09:47.173Z"
   },
   {
    "duration": 1492,
    "start_time": "2021-11-13T09:10:59.313Z"
   },
   {
    "duration": 42,
    "start_time": "2021-11-13T09:11:35.589Z"
   },
   {
    "duration": 22,
    "start_time": "2021-11-13T09:19:13.706Z"
   },
   {
    "duration": 25,
    "start_time": "2021-11-13T09:19:52.453Z"
   },
   {
    "duration": 21,
    "start_time": "2021-11-13T09:20:09.800Z"
   },
   {
    "duration": 20,
    "start_time": "2021-11-13T09:21:12.189Z"
   },
   {
    "duration": 42,
    "start_time": "2021-11-13T09:33:54.236Z"
   },
   {
    "duration": 41,
    "start_time": "2021-11-13T09:35:03.449Z"
   },
   {
    "duration": 39,
    "start_time": "2021-11-13T09:35:36.738Z"
   },
   {
    "duration": 41,
    "start_time": "2021-11-13T09:35:45.468Z"
   },
   {
    "duration": 42,
    "start_time": "2021-11-13T09:36:49.855Z"
   },
   {
    "duration": 68,
    "start_time": "2021-11-13T09:38:36.119Z"
   },
   {
    "duration": 50,
    "start_time": "2021-11-13T09:41:32.051Z"
   },
   {
    "duration": 22,
    "start_time": "2021-11-13T09:41:58.418Z"
   },
   {
    "duration": 117,
    "start_time": "2021-11-13T09:43:35.989Z"
   },
   {
    "duration": 338,
    "start_time": "2021-11-13T09:45:10.546Z"
   },
   {
    "duration": 21,
    "start_time": "2021-11-13T09:50:44.078Z"
   },
   {
    "duration": 22,
    "start_time": "2021-11-13T09:50:59.497Z"
   },
   {
    "duration": 23,
    "start_time": "2021-11-13T09:51:11.268Z"
   },
   {
    "duration": 22,
    "start_time": "2021-11-13T09:57:35.765Z"
   },
   {
    "duration": 18,
    "start_time": "2021-11-13T09:57:48.269Z"
   },
   {
    "duration": 6,
    "start_time": "2021-11-13T09:58:28.618Z"
   },
   {
    "duration": 18,
    "start_time": "2021-11-13T09:58:32.297Z"
   },
   {
    "duration": 15,
    "start_time": "2021-11-13T10:01:15.393Z"
   },
   {
    "duration": 24,
    "start_time": "2021-11-13T10:01:22.539Z"
   },
   {
    "duration": 18,
    "start_time": "2021-11-13T10:03:15.937Z"
   },
   {
    "duration": 1474,
    "start_time": "2021-11-13T10:03:25.781Z"
   },
   {
    "duration": 648,
    "start_time": "2021-11-13T10:03:27.257Z"
   },
   {
    "duration": 260,
    "start_time": "2021-11-13T10:03:27.907Z"
   },
   {
    "duration": 43,
    "start_time": "2021-11-13T10:03:28.169Z"
   },
   {
    "duration": 58,
    "start_time": "2021-11-13T10:03:28.213Z"
   },
   {
    "duration": 477,
    "start_time": "2021-11-13T10:03:28.273Z"
   },
   {
    "duration": 185,
    "start_time": "2021-11-13T10:03:28.752Z"
   },
   {
    "duration": 95,
    "start_time": "2021-11-13T10:03:28.939Z"
   },
   {
    "duration": 201,
    "start_time": "2021-11-13T10:03:29.037Z"
   },
   {
    "duration": 24,
    "start_time": "2021-11-13T10:03:29.240Z"
   },
   {
    "duration": 63,
    "start_time": "2021-11-13T10:03:29.266Z"
   },
   {
    "duration": 12,
    "start_time": "2021-11-13T10:03:29.330Z"
   },
   {
    "duration": 17,
    "start_time": "2021-11-13T10:03:29.343Z"
   },
   {
    "duration": 286,
    "start_time": "2021-11-13T10:03:29.362Z"
   },
   {
    "duration": 3,
    "start_time": "2021-11-13T10:03:29.649Z"
   },
   {
    "duration": 1390,
    "start_time": "2021-11-13T10:03:29.654Z"
   },
   {
    "duration": 9,
    "start_time": "2021-11-13T10:03:31.046Z"
   },
   {
    "duration": 23,
    "start_time": "2021-11-13T10:03:31.056Z"
   },
   {
    "duration": 30,
    "start_time": "2021-11-13T10:03:31.082Z"
   },
   {
    "duration": 46,
    "start_time": "2021-11-13T10:03:31.114Z"
   },
   {
    "duration": 9,
    "start_time": "2021-11-13T10:03:31.162Z"
   },
   {
    "duration": 70,
    "start_time": "2021-11-13T10:03:31.173Z"
   },
   {
    "duration": 4,
    "start_time": "2021-11-13T10:03:31.245Z"
   },
   {
    "duration": 40,
    "start_time": "2021-11-13T10:03:31.251Z"
   },
   {
    "duration": 241,
    "start_time": "2021-11-13T10:03:31.293Z"
   },
   {
    "duration": 270,
    "start_time": "2021-11-13T10:03:31.536Z"
   },
   {
    "duration": 187,
    "start_time": "2021-11-13T10:03:31.810Z"
   },
   {
    "duration": 11,
    "start_time": "2021-11-13T10:03:31.999Z"
   },
   {
    "duration": 14,
    "start_time": "2021-11-13T10:03:32.012Z"
   },
   {
    "duration": 8,
    "start_time": "2021-11-13T10:03:32.028Z"
   },
   {
    "duration": 19,
    "start_time": "2021-11-13T10:03:32.037Z"
   },
   {
    "duration": 32,
    "start_time": "2021-11-13T10:03:32.058Z"
   },
   {
    "duration": 25,
    "start_time": "2021-11-13T10:03:32.092Z"
   },
   {
    "duration": 22,
    "start_time": "2021-11-13T10:03:32.119Z"
   },
   {
    "duration": 376,
    "start_time": "2021-11-13T10:03:32.143Z"
   },
   {
    "duration": 86,
    "start_time": "2021-11-13T10:03:32.521Z"
   },
   {
    "duration": 5,
    "start_time": "2021-11-13T10:03:32.609Z"
   },
   {
    "duration": 1280,
    "start_time": "2021-11-13T10:03:32.616Z"
   },
   {
    "duration": 27,
    "start_time": "2021-11-13T10:03:33.898Z"
   },
   {
    "duration": 51,
    "start_time": "2021-11-13T10:03:33.927Z"
   },
   {
    "duration": 291,
    "start_time": "2021-11-13T10:03:33.979Z"
   },
   {
    "duration": 5,
    "start_time": "2021-11-13T10:03:34.272Z"
   },
   {
    "duration": 37,
    "start_time": "2021-11-13T10:03:34.279Z"
   },
   {
    "duration": 5,
    "start_time": "2021-11-13T10:05:45.256Z"
   },
   {
    "duration": 18,
    "start_time": "2021-11-13T10:06:03.871Z"
   },
   {
    "duration": 8,
    "start_time": "2021-11-13T10:18:37.357Z"
   },
   {
    "duration": 8,
    "start_time": "2021-11-13T10:18:58.358Z"
   },
   {
    "duration": 26,
    "start_time": "2021-11-13T10:20:27.522Z"
   },
   {
    "duration": 25,
    "start_time": "2021-11-13T10:20:46.365Z"
   },
   {
    "duration": 26,
    "start_time": "2021-11-13T10:21:36.378Z"
   },
   {
    "duration": 1507,
    "start_time": "2021-11-13T10:26:12.290Z"
   },
   {
    "duration": 632,
    "start_time": "2021-11-13T10:26:13.798Z"
   },
   {
    "duration": 289,
    "start_time": "2021-11-13T10:26:14.432Z"
   },
   {
    "duration": 32,
    "start_time": "2021-11-13T10:26:14.723Z"
   },
   {
    "duration": 86,
    "start_time": "2021-11-13T10:26:14.757Z"
   },
   {
    "duration": 496,
    "start_time": "2021-11-13T10:26:14.844Z"
   },
   {
    "duration": 207,
    "start_time": "2021-11-13T10:26:15.342Z"
   },
   {
    "duration": 105,
    "start_time": "2021-11-13T10:26:15.552Z"
   },
   {
    "duration": 220,
    "start_time": "2021-11-13T10:26:15.659Z"
   },
   {
    "duration": 32,
    "start_time": "2021-11-13T10:26:15.881Z"
   },
   {
    "duration": 48,
    "start_time": "2021-11-13T10:26:15.915Z"
   },
   {
    "duration": 13,
    "start_time": "2021-11-13T10:26:15.965Z"
   },
   {
    "duration": 39,
    "start_time": "2021-11-13T10:26:15.980Z"
   },
   {
    "duration": 308,
    "start_time": "2021-11-13T10:26:16.021Z"
   },
   {
    "duration": 3,
    "start_time": "2021-11-13T10:26:16.331Z"
   },
   {
    "duration": 1474,
    "start_time": "2021-11-13T10:26:16.336Z"
   },
   {
    "duration": 7,
    "start_time": "2021-11-13T10:26:17.812Z"
   },
   {
    "duration": 21,
    "start_time": "2021-11-13T10:26:17.820Z"
   },
   {
    "duration": 9,
    "start_time": "2021-11-13T10:26:17.843Z"
   },
   {
    "duration": 54,
    "start_time": "2021-11-13T10:26:17.853Z"
   },
   {
    "duration": 7,
    "start_time": "2021-11-13T10:26:17.909Z"
   },
   {
    "duration": 33,
    "start_time": "2021-11-13T10:26:17.918Z"
   },
   {
    "duration": 26,
    "start_time": "2021-11-13T10:26:17.954Z"
   },
   {
    "duration": 253,
    "start_time": "2021-11-13T10:26:17.982Z"
   },
   {
    "duration": 258,
    "start_time": "2021-11-13T10:26:18.236Z"
   },
   {
    "duration": 187,
    "start_time": "2021-11-13T10:26:18.496Z"
   },
   {
    "duration": 5,
    "start_time": "2021-11-13T10:26:18.685Z"
   },
   {
    "duration": 19,
    "start_time": "2021-11-13T10:26:18.692Z"
   },
   {
    "duration": 11,
    "start_time": "2021-11-13T10:26:18.712Z"
   },
   {
    "duration": 10,
    "start_time": "2021-11-13T10:26:18.724Z"
   },
   {
    "duration": 30,
    "start_time": "2021-11-13T10:26:18.735Z"
   },
   {
    "duration": 11,
    "start_time": "2021-11-13T10:26:18.766Z"
   },
   {
    "duration": 35,
    "start_time": "2021-11-13T10:26:18.778Z"
   },
   {
    "duration": 383,
    "start_time": "2021-11-13T10:26:18.815Z"
   },
   {
    "duration": 81,
    "start_time": "2021-11-13T10:26:19.199Z"
   },
   {
    "duration": 5,
    "start_time": "2021-11-13T10:26:19.282Z"
   },
   {
    "duration": 1547,
    "start_time": "2021-11-13T10:26:19.289Z"
   },
   {
    "duration": 24,
    "start_time": "2021-11-13T10:26:20.838Z"
   },
   {
    "duration": 63,
    "start_time": "2021-11-13T10:26:20.864Z"
   },
   {
    "duration": 246,
    "start_time": "2021-11-13T10:26:20.929Z"
   },
   {
    "duration": 6,
    "start_time": "2021-11-13T10:26:21.177Z"
   },
   {
    "duration": 47,
    "start_time": "2021-11-13T10:26:21.184Z"
   }
  ],
  "kernelspec": {
   "display_name": "Python 3",
   "language": "python",
   "name": "python3"
  },
  "language_info": {
   "codemirror_mode": {
    "name": "ipython",
    "version": 3
   },
   "file_extension": ".py",
   "mimetype": "text/x-python",
   "name": "python",
   "nbconvert_exporter": "python",
   "pygments_lexer": "ipython3",
   "version": "3.7.10"
  },
  "toc": {
   "base_numbering": 1,
   "nav_menu": {},
   "number_sections": true,
   "sideBar": true,
   "skip_h1_title": true,
   "title_cell": "Содержание",
   "title_sidebar": "Содержание",
   "toc_cell": true,
   "toc_position": {},
   "toc_section_display": true,
   "toc_window_display": false
  }
 },
 "nbformat": 4,
 "nbformat_minor": 2
}
