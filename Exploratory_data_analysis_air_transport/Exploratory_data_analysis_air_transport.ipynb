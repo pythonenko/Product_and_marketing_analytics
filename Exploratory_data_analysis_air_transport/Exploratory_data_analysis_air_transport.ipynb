{
 "cells": [
  {
   "cell_type": "markdown",
   "metadata": {
    "toc": true
   },
   "source": [
    "<h1>Содержание<span class=\"tocSkip\"></span></h1>\n",
    "<div class=\"toc\"><ul class=\"toc-item\"><li><span><a href=\"#Изучение-данных\" data-toc-modified-id=\"Изучение-данных-1\"><span class=\"toc-item-num\">1&nbsp;&nbsp;</span>Изучение данных</a></span></li><li><span><a href=\"#Исследовательский-анализ-данных\" data-toc-modified-id=\"Исследовательский-анализ-данных-2\"><span class=\"toc-item-num\">2&nbsp;&nbsp;</span>Исследовательский анализ данных</a></span><ul class=\"toc-item\"><li><span><a href=\"#Модели-самолетов-и-количество-рейсов\" data-toc-modified-id=\"Модели-самолетов-и-количество-рейсов-2.1\"><span class=\"toc-item-num\">2.1&nbsp;&nbsp;</span>Модели самолетов и количество рейсов</a></span></li><li><span><a href=\"#Города-и-количество-рейсов\" data-toc-modified-id=\"Города-и-количество-рейсов-2.2\"><span class=\"toc-item-num\">2.2&nbsp;&nbsp;</span>Города и количество рейсов</a></span></li><li><span><a href=\"#Топ-10-городов-и-количество-рейсов\" data-toc-modified-id=\"Топ-10-городов-и-количество-рейсов-2.3\"><span class=\"toc-item-num\">2.3&nbsp;&nbsp;</span>Топ-10 городов и количество рейсов</a></span></li></ul></li></ul></div>"
   ]
  },
  {
   "cell_type": "markdown",
   "metadata": {},
   "source": [
    "# Анализ факторов спроса на авиаперевозки #"
   ]
  },
  {
   "cell_type": "markdown",
   "metadata": {},
   "source": [
    "В рамках изучения предпрочтений пользователей российской авиакомпании «F9» проанализируем динамику пассажирских перевозок в месяцы проведения музыкальных фестивалей. Также изучим, как соотносится число совершаемых полетов для разных моделей самолетов.  \n",
    "\n",
    "На предварительном этапе сбора и обработки данных было установлено, что лучшие музыкальные фестивали 2018 года проходили в период с 1 июля по 8 августа. Для лучшего понимания влияния фестивалей на пассажиропоток дальнейший анализ будет проводиться на примере Москвы - города с максимальным числом рейсов, где проходило три фестиваля: Park Live, Пикник Афиши и Видфест.\n",
    "\n",
    "Распределение перевозок по моделям самолетов будет анализироваться на основе данных по всем городам."
   ]
  },
  {
   "cell_type": "code",
   "execution_count": 1,
   "metadata": {},
   "outputs": [],
   "source": [
    "import pandas as pd\n",
    "import numpy as np\n",
    "import os\n",
    "import matplotlib.pyplot as plt\n",
    "import seaborn as sns\n",
    "from IPython.display import display"
   ]
  },
  {
   "cell_type": "markdown",
   "metadata": {},
   "source": [
    "## Изучение данных ##"
   ]
  },
  {
   "cell_type": "markdown",
   "metadata": {},
   "source": [
    "Откроем файлы с данными и изучим общую информацию:"
   ]
  },
  {
   "cell_type": "code",
   "execution_count": 2,
   "metadata": {},
   "outputs": [],
   "source": [
    "def file_read (server_path, filename):\n",
    "    if os.path.exists(server_path):\n",
    "        file_read = pd.read_csv(server_path)\n",
    "    else:\n",
    "        file_read = pd.read_csv(filename)\n",
    "    return file_read\n",
    "    \n",
    "models = file_read('/datasets/query_1.csv','query_1.csv')\n",
    "cities = file_read('/datasets/query_3.csv','query_3.csv')"
   ]
  },
  {
   "cell_type": "markdown",
   "metadata": {},
   "source": [
    "**Модели самолетов**"
   ]
  },
  {
   "cell_type": "code",
   "execution_count": 3,
   "metadata": {},
   "outputs": [
    {
     "name": "stdout",
     "output_type": "stream",
     "text": [
      "<class 'pandas.core.frame.DataFrame'>\n",
      "RangeIndex: 8 entries, 0 to 7\n",
      "Data columns (total 3 columns):\n",
      "Unnamed: 0        8 non-null int64\n",
      "model             8 non-null object\n",
      "flights_amount    8 non-null int64\n",
      "dtypes: int64(2), object(1)\n",
      "memory usage: 320.0+ bytes\n"
     ]
    },
    {
     "data": {
      "text/html": [
       "<div>\n",
       "<style scoped>\n",
       "    .dataframe tbody tr th:only-of-type {\n",
       "        vertical-align: middle;\n",
       "    }\n",
       "\n",
       "    .dataframe tbody tr th {\n",
       "        vertical-align: top;\n",
       "    }\n",
       "\n",
       "    .dataframe thead th {\n",
       "        text-align: right;\n",
       "    }\n",
       "</style>\n",
       "<table border=\"1\" class=\"dataframe\">\n",
       "  <thead>\n",
       "    <tr style=\"text-align: right;\">\n",
       "      <th></th>\n",
       "      <th>Unnamed: 0</th>\n",
       "      <th>model</th>\n",
       "      <th>flights_amount</th>\n",
       "    </tr>\n",
       "  </thead>\n",
       "  <tbody>\n",
       "    <tr>\n",
       "      <td>0</td>\n",
       "      <td>0</td>\n",
       "      <td>Airbus A319-100</td>\n",
       "      <td>607</td>\n",
       "    </tr>\n",
       "    <tr>\n",
       "      <td>1</td>\n",
       "      <td>1</td>\n",
       "      <td>Airbus A321-200</td>\n",
       "      <td>960</td>\n",
       "    </tr>\n",
       "    <tr>\n",
       "      <td>2</td>\n",
       "      <td>2</td>\n",
       "      <td>Boeing 737-300</td>\n",
       "      <td>630</td>\n",
       "    </tr>\n",
       "    <tr>\n",
       "      <td>3</td>\n",
       "      <td>3</td>\n",
       "      <td>Boeing 767-300</td>\n",
       "      <td>600</td>\n",
       "    </tr>\n",
       "    <tr>\n",
       "      <td>4</td>\n",
       "      <td>4</td>\n",
       "      <td>Boeing 777-300</td>\n",
       "      <td>300</td>\n",
       "    </tr>\n",
       "    <tr>\n",
       "      <td>5</td>\n",
       "      <td>5</td>\n",
       "      <td>Bombardier CRJ-200</td>\n",
       "      <td>4446</td>\n",
       "    </tr>\n",
       "    <tr>\n",
       "      <td>6</td>\n",
       "      <td>6</td>\n",
       "      <td>Cessna 208 Caravan</td>\n",
       "      <td>4557</td>\n",
       "    </tr>\n",
       "    <tr>\n",
       "      <td>7</td>\n",
       "      <td>7</td>\n",
       "      <td>Sukhoi SuperJet-100</td>\n",
       "      <td>4185</td>\n",
       "    </tr>\n",
       "  </tbody>\n",
       "</table>\n",
       "</div>"
      ],
      "text/plain": [
       "   Unnamed: 0                model  flights_amount\n",
       "0           0      Airbus A319-100             607\n",
       "1           1      Airbus A321-200             960\n",
       "2           2       Boeing 737-300             630\n",
       "3           3       Boeing 767-300             600\n",
       "4           4       Boeing 777-300             300\n",
       "5           5   Bombardier CRJ-200            4446\n",
       "6           6   Cessna 208 Caravan            4557\n",
       "7           7  Sukhoi SuperJet-100            4185"
      ]
     },
     "metadata": {},
     "output_type": "display_data"
    },
    {
     "name": "stdout",
     "output_type": "stream",
     "text": [
      "Дубликатов в таблице: 0\n"
     ]
    }
   ],
   "source": [
    "models.info()\n",
    "display(models)\n",
    "print('Дубликатов в таблице: {}'.format(models.duplicated().sum()))"
   ]
  },
  {
   "cell_type": "markdown",
   "metadata": {},
   "source": [
    "В первом наборе данных содержится информация о количестве рейсов, выполненных на каждой модели самолета в сентябре 2018 года. Таблица содержит 8 записей, типы данных распознаны корректно."
   ]
  },
  {
   "cell_type": "markdown",
   "metadata": {},
   "source": [
    "**Города**"
   ]
  },
  {
   "cell_type": "code",
   "execution_count": 4,
   "metadata": {},
   "outputs": [
    {
     "name": "stdout",
     "output_type": "stream",
     "text": [
      "<class 'pandas.core.frame.DataFrame'>\n",
      "RangeIndex: 101 entries, 0 to 100\n",
      "Data columns (total 3 columns):\n",
      "Unnamed: 0         101 non-null int64\n",
      "city               101 non-null object\n",
      "average_flights    101 non-null float64\n",
      "dtypes: float64(1), int64(1), object(1)\n",
      "memory usage: 2.5+ KB\n"
     ]
    },
    {
     "data": {
      "text/html": [
       "<div>\n",
       "<style scoped>\n",
       "    .dataframe tbody tr th:only-of-type {\n",
       "        vertical-align: middle;\n",
       "    }\n",
       "\n",
       "    .dataframe tbody tr th {\n",
       "        vertical-align: top;\n",
       "    }\n",
       "\n",
       "    .dataframe thead th {\n",
       "        text-align: right;\n",
       "    }\n",
       "</style>\n",
       "<table border=\"1\" class=\"dataframe\">\n",
       "  <thead>\n",
       "    <tr style=\"text-align: right;\">\n",
       "      <th></th>\n",
       "      <th>Unnamed: 0</th>\n",
       "      <th>city</th>\n",
       "      <th>average_flights</th>\n",
       "    </tr>\n",
       "  </thead>\n",
       "  <tbody>\n",
       "    <tr>\n",
       "      <td>0</td>\n",
       "      <td>0</td>\n",
       "      <td>Абакан</td>\n",
       "      <td>3.870968</td>\n",
       "    </tr>\n",
       "    <tr>\n",
       "      <td>1</td>\n",
       "      <td>1</td>\n",
       "      <td>Анадырь</td>\n",
       "      <td>1.000000</td>\n",
       "    </tr>\n",
       "    <tr>\n",
       "      <td>2</td>\n",
       "      <td>2</td>\n",
       "      <td>Анапа</td>\n",
       "      <td>2.161290</td>\n",
       "    </tr>\n",
       "    <tr>\n",
       "      <td>3</td>\n",
       "      <td>3</td>\n",
       "      <td>Архангельск</td>\n",
       "      <td>5.354839</td>\n",
       "    </tr>\n",
       "    <tr>\n",
       "      <td>4</td>\n",
       "      <td>4</td>\n",
       "      <td>Астрахань</td>\n",
       "      <td>2.451613</td>\n",
       "    </tr>\n",
       "  </tbody>\n",
       "</table>\n",
       "</div>"
      ],
      "text/plain": [
       "   Unnamed: 0         city  average_flights\n",
       "0           0       Абакан         3.870968\n",
       "1           1      Анадырь         1.000000\n",
       "2           2        Анапа         2.161290\n",
       "3           3  Архангельск         5.354839\n",
       "4           4    Астрахань         2.451613"
      ]
     },
     "metadata": {},
     "output_type": "display_data"
    },
    {
     "name": "stdout",
     "output_type": "stream",
     "text": [
      "Дубликатов в таблице: 0\n"
     ]
    }
   ],
   "source": [
    "cities.info()\n",
    "display(cities.head())\n",
    "print('Дубликатов в таблице: {}'.format(cities.duplicated().sum()))"
   ]
  },
  {
   "cell_type": "markdown",
   "metadata": {},
   "source": [
    "Второй набор данных содержит среднедневное количество прибывающих рейсов в августе 2018 года по 101 городу. Типы переменных так же распознаны корректно."
   ]
  },
  {
   "cell_type": "markdown",
   "metadata": {},
   "source": [
    "## Исследовательский анализ данных"
   ]
  },
  {
   "cell_type": "markdown",
   "metadata": {},
   "source": [
    "### Модели самолетов и количество рейсов ###"
   ]
  },
  {
   "cell_type": "code",
   "execution_count": 5,
   "metadata": {},
   "outputs": [
    {
     "data": {
      "image/png": "[encoded data removed]",
      "text/plain": [
       "<Figure size 720x432 with 1 Axes>"
      ]
     },
     "metadata": {
      "needs_background": "light"
     },
     "output_type": "display_data"
    }
   ],
   "source": [
    "models = models.sort_values(by='flights_amount', ascending=False)\n",
    "plt.figure(figsize=(10,6))\n",
    "sns.barplot(y = models['model'], x=models['flights_amount'], palette='YlOrRd')\n",
    "plt.title(\"Число полетов по моделя самолетов\")\n",
    "plt.ylabel(\"Модель\")\n",
    "plt.xlabel(\"Число полетов\")\n",
    "plt.show()"
   ]
  },
  {
   "cell_type": "code",
   "execution_count": 6,
   "metadata": {},
   "outputs": [
    {
     "data": {
      "image/png": "[encoded data removed]",
      "text/plain": [
       "<Figure size 720x648 with 1 Axes>"
      ]
     },
     "metadata": {},
     "output_type": "display_data"
    }
   ],
   "source": [
    "pie, ax = plt.subplots(figsize=[10,9])\n",
    "labels = models['model']\n",
    "plt.pie(x=models['flights_amount'], autopct=\"%.1f%%\", labels=labels, colors=plt.cm.Set3.colors, pctdistance=0.9)\n",
    "plt.title('Число полетов по моделям', fontsize=14)\n",
    "plt.show()  "
   ]
  },
  {
   "cell_type": "markdown",
   "metadata": {},
   "source": [
    "Важно обратить внимание на то, что модели Cessna 208 Caravan и Bombardier CRJ-200, являющиеся лидерами по числу рейсов, предназначены для малой авиации (до 14 и 50 пассажиров соответственно) и используются для полетов малой протяженности и непопулярных направлений. Следовательно, при большем количесве рейсов пассажиропоток на этих самолетах может оказаться существенно меньше, чем для более вместительных моделей. Sukhoi SuperJet-100, занявший 3 место, использовался в 25,7% рейсов.\n",
    "\n",
    "На этапе предварительной обработки данных было также посчитано, что за рассматриваемый период различные модели Airbus совершили 1567 полетов, Boeing - 1530 полетов, а 13188 полетов произведено на суднах других производителей."
   ]
  },
  {
   "cell_type": "markdown",
   "metadata": {},
   "source": [
    "### Города и количество рейсов ###"
   ]
  },
  {
   "cell_type": "code",
   "execution_count": 7,
   "metadata": {
    "scrolled": false
   },
   "outputs": [
    {
     "data": {
      "image/png": "[encoded data removed]",
      "text/plain": [
       "<Figure size 1080x2880 with 1 Axes>"
      ]
     },
     "metadata": {
      "needs_background": "light"
     },
     "output_type": "display_data"
    }
   ],
   "source": [
    "cities = cities.sort_values(by='average_flights', ascending=False)\n",
    "plt.figure(figsize=(15,40))\n",
    "sns.barplot(y = cities['city'], x=cities['average_flights'], palette='YlOrRd')\n",
    "plt.title(\"Число полетов в день по городам\")\n",
    "plt.xlabel(\"Число полетов\")\n",
    "plt.ylabel(\"Город\")\n",
    "plt.show()"
   ]
  },
  {
   "cell_type": "code",
   "execution_count": 8,
   "metadata": {},
   "outputs": [
    {
     "data": {
      "image/png": "[encoded data removed]",
      "text/plain": [
       "<Figure size 720x288 with 1 Axes>"
      ]
     },
     "metadata": {
      "needs_background": "light"
     },
     "output_type": "display_data"
    },
    {
     "data": {
      "text/plain": [
       "count    101.000000\n",
       "mean       5.494189\n",
       "std       13.119790\n",
       "min        1.000000\n",
       "25%        2.000000\n",
       "50%        3.000000\n",
       "75%        5.870968\n",
       "max      129.774194\n",
       "Name: average_flights, dtype: float64"
      ]
     },
     "execution_count": 8,
     "metadata": {},
     "output_type": "execute_result"
    }
   ],
   "source": [
    "cities.plot(y = 'average_flights', kind = 'hist', bins = 100, color = 'peru',\n",
    "            legend=None, grid=True, figsize = (10,4), range = (0,130))\n",
    "plt.xlabel('Количество рейсов')\n",
    "plt.ylabel('Частота')\n",
    "plt.title('Среднедневное количество рейсов', fontweight =\"bold\")\n",
    "plt.show()\n",
    "cities['average_flights'].describe()"
   ]
  },
  {
   "cell_type": "markdown",
   "metadata": {},
   "source": [
    "Для большинства городов проведения фестивалей есть информация о количестве прибывших рейсов (кроме Иркутска и Твери). Это может расширить возможности дальнейшего анализа событийного эффекта.\n",
    "\n",
    "В среднем ежедневно каждый город принимал 5,5 рейсов, при этом в половину городов ежедневно прибывало от 2 до 6 рейсов. Распределение смещено вправо за счет Москвы и Санкт-Петербурга."
   ]
  },
  {
   "cell_type": "markdown",
   "metadata": {},
   "source": [
    "### Топ-10 городов и количество рейсов ###"
   ]
  },
  {
   "cell_type": "code",
   "execution_count": 9,
   "metadata": {},
   "outputs": [
    {
     "data": {
      "text/html": [
       "<div>\n",
       "<style scoped>\n",
       "    .dataframe tbody tr th:only-of-type {\n",
       "        vertical-align: middle;\n",
       "    }\n",
       "\n",
       "    .dataframe tbody tr th {\n",
       "        vertical-align: top;\n",
       "    }\n",
       "\n",
       "    .dataframe thead th {\n",
       "        text-align: right;\n",
       "    }\n",
       "</style>\n",
       "<table border=\"1\" class=\"dataframe\">\n",
       "  <thead>\n",
       "    <tr style=\"text-align: right;\">\n",
       "      <th></th>\n",
       "      <th>Unnamed: 0</th>\n",
       "      <th>city</th>\n",
       "      <th>average_flights</th>\n",
       "    </tr>\n",
       "  </thead>\n",
       "  <tbody>\n",
       "    <tr>\n",
       "      <td>0</td>\n",
       "      <td>43</td>\n",
       "      <td>Москва</td>\n",
       "      <td>129.77</td>\n",
       "    </tr>\n",
       "    <tr>\n",
       "      <td>1</td>\n",
       "      <td>70</td>\n",
       "      <td>Санкт-Петербург</td>\n",
       "      <td>31.16</td>\n",
       "    </tr>\n",
       "    <tr>\n",
       "      <td>2</td>\n",
       "      <td>54</td>\n",
       "      <td>Новосибирск</td>\n",
       "      <td>17.32</td>\n",
       "    </tr>\n",
       "    <tr>\n",
       "      <td>3</td>\n",
       "      <td>33</td>\n",
       "      <td>Красноярск</td>\n",
       "      <td>11.58</td>\n",
       "    </tr>\n",
       "    <tr>\n",
       "      <td>4</td>\n",
       "      <td>20</td>\n",
       "      <td>Екатеринбург</td>\n",
       "      <td>11.32</td>\n",
       "    </tr>\n",
       "    <tr>\n",
       "      <td>5</td>\n",
       "      <td>67</td>\n",
       "      <td>Ростов-на-Дону</td>\n",
       "      <td>10.19</td>\n",
       "    </tr>\n",
       "    <tr>\n",
       "      <td>6</td>\n",
       "      <td>63</td>\n",
       "      <td>Пермь</td>\n",
       "      <td>10.13</td>\n",
       "    </tr>\n",
       "    <tr>\n",
       "      <td>7</td>\n",
       "      <td>10</td>\n",
       "      <td>Брянск</td>\n",
       "      <td>10.00</td>\n",
       "    </tr>\n",
       "    <tr>\n",
       "      <td>8</td>\n",
       "      <td>74</td>\n",
       "      <td>Сочи</td>\n",
       "      <td>9.61</td>\n",
       "    </tr>\n",
       "    <tr>\n",
       "      <td>9</td>\n",
       "      <td>84</td>\n",
       "      <td>Ульяновск</td>\n",
       "      <td>9.58</td>\n",
       "    </tr>\n",
       "  </tbody>\n",
       "</table>\n",
       "</div>"
      ],
      "text/plain": [
       "   Unnamed: 0             city  average_flights\n",
       "0          43           Москва           129.77\n",
       "1          70  Санкт-Петербург            31.16\n",
       "2          54      Новосибирск            17.32\n",
       "3          33       Красноярск            11.58\n",
       "4          20     Екатеринбург            11.32\n",
       "5          67   Ростов-на-Дону            10.19\n",
       "6          63            Пермь            10.13\n",
       "7          10           Брянск            10.00\n",
       "8          74             Сочи             9.61\n",
       "9          84        Ульяновск             9.58"
      ]
     },
     "metadata": {},
     "output_type": "display_data"
    }
   ],
   "source": [
    "top_cities=cities.sort_values(by='average_flights', ascending=False).reset_index(drop=True).round(2).head(10)\n",
    "display(top_cities)"
   ]
  },
  {
   "cell_type": "code",
   "execution_count": 10,
   "metadata": {},
   "outputs": [
    {
     "data": {
      "image/png": "[encoded data removed]",
      "text/plain": [
       "<Figure size 1080x288 with 1 Axes>"
      ]
     },
     "metadata": {
      "needs_background": "light"
     },
     "output_type": "display_data"
    }
   ],
   "source": [
    "plt.figure(figsize=(15,4))\n",
    "sns.barplot(x = top_cities['city'], y=top_cities['average_flights'], palette='YlOrRd')\n",
    "plt.title(\"Число полетов в день\")\n",
    "plt.xlabel(\"город\")\n",
    "plt.ylabel(\"Число полетов\")\n",
    "plt.show()"
   ]
  },
  {
   "cell_type": "markdown",
   "metadata": {},
   "source": [
    "Закономерно, что Москва являлась лидером по числу среднедневных рейсов в августе 2018 года. На 2 месте Санкт-Петербург со значением в 4 раза меньше. Остальные города первой десятки ежедневно принимали не более 20 рейсов в среднем."
   ]
  },
  {
   "cell_type": "markdown",
   "metadata": {},
   "source": [
    "# Общие выводы #"
   ]
  },
  {
   "cell_type": "markdown",
   "metadata": {},
   "source": [
    "**Предварительная обработка данных**    \n",
    "Исходные данные содержали информацию о 104 аэропортах в российском 101 городе (3 аэропорта находятся в Москве) и рейсах, прибывающих и вылетающих из этих аэропортов. \n",
    "\n",
    "Чтобы посчитать среднее количество рейсов в день для каждого города, на предварительном этапе было произведено объединение таблиц flights и airports по идентификаторам аэропортов, после чего данные были агрегированы по городам.\n",
    "    \n",
    "Чтобы найти количество рейсов на каждой модели самолёта, было необходимо объединить содержимое таблиц flights и aircrafts по уникальным идентификаторам самолётов. При этом вылеты по моделям самолетов были посчитаны за сентябрь, хотя дальнейший анализ распределения рейсов строился на данных августа. Несмотря на то, что соотношение полетов по моделям в августе аналогично данным за сентябрь, при последующем анализе следует выбирать единый отрезок времени для всех срезов.\n",
    "\n",
    "Чтобы посчитать количество билетов, купленных на рейсы в Москву и соотнести с неделями проведения фестивалей, было также произведено последовательное объединение таблиц с рейсами, проданными билетами, аэропортами, а также полученной путем парсинга таблицы с датами и городами проведения фестивалей.\n",
    "    \n",
    "**Основной анализ**    \n",
    "Последующий анализ полученных таблиц показал, что наибольшей популярностью в рассматриваемый период пользовались самолеты малой вместимости моделей Bombardier CRJ-200, Cessna 208 Caravan и Sukhoi SuperJet-100: за август было совершено 4446, 4557 и 4185 полетов соответственно. В свою очередь, предварительное изучение рейсов самолетов стандартной вместимости показало, что суммарно самолеты всех моделей Airbus совершили 1567 полетов, Boeing - 1530 полетов.\n",
    "\n",
    "Самыми популярными, исходя из среднедневного числа прилетающих рейсов, оказались такие города, как Москва, Санкт-Петербург, Новосибирск, Красноярск\tи Екатеринбург, однако значение показателя по Москве (129,77) в 4 раза больше, чем в Санкт-Петербурге (31,16) и более чем в 7 раз больше, чем в других городах первой десятки. Четрверть от всех рассматриваемых городов принимала менее 2 самолетов в день в среднем. Наименее популярными оказались такие города, как Ижевск, Петропавлосвк-Камчатский, Комсомольск-на-Амуре, Нягань и Нефтеюганск. Можно предположить, что значительная часть рейсов в эти города выполняется самолетами малой вместительности. \n",
    "    \n",
    "Изучение распредления рейсов по городам и моделям самолетов позволяет не столько сделать выводы о предпочтениях пользователей, сколько понять ограничения данных. Во-первых, из-за различий вместимости разных моделей самолоетов некорректно анализировать только число рейсов, более надежной метрикой для анализа событийных или иных эффектов будет пассажиропоток. Во-вторых, имеющиеся данные дают возможность оценивать \"фествильный эффект\" не только для Москвы, но и для ряда других городов, отличающихся как по числу рейсов, так и по пассажиропотоку.\n",
    "\n",
    "Полученная на предварительном этапе таблица еженедельного пассажиропотока в Москве не позволяет сделать выводы о связи фестивалей и спроса на билеты: в недели проведения фестивалей спрос на билеты близок или даже ниже в сравнении с другими неделями.Учитывая это наблюдение, при дальнейшем анализе можно проверить гипотезу о том, что во время фестивалей спрос практически не меняется (используя данные нескольких городов)."
   ]
  }
 ],
 "metadata": {
  "ExecuteTimeLog": [
   {
    "duration": 594,
    "start_time": "2021-07-22T09:52:10.568Z"
   },
   {
    "duration": 2094,
    "start_time": "2021-07-22T09:52:15.811Z"
   },
   {
    "duration": 29,
    "start_time": "2021-07-22T09:52:18.984Z"
   },
   {
    "duration": 19,
    "start_time": "2021-07-22T09:53:07.090Z"
   },
   {
    "duration": 13,
    "start_time": "2021-07-22T09:53:41.741Z"
   },
   {
    "duration": 15,
    "start_time": "2021-07-22T09:53:55.507Z"
   },
   {
    "duration": 12,
    "start_time": "2021-07-22T10:01:19.993Z"
   },
   {
    "duration": 13,
    "start_time": "2021-07-22T10:02:02.945Z"
   },
   {
    "duration": 14,
    "start_time": "2021-07-22T10:02:44.442Z"
   },
   {
    "duration": 15,
    "start_time": "2021-07-22T10:04:22.732Z"
   },
   {
    "duration": 5,
    "start_time": "2021-07-22T10:04:47.345Z"
   },
   {
    "duration": 13,
    "start_time": "2021-07-22T10:04:52.995Z"
   },
   {
    "duration": 24,
    "start_time": "2021-07-22T10:15:21.584Z"
   },
   {
    "duration": 287,
    "start_time": "2021-07-22T10:23:11.229Z"
   },
   {
    "duration": 288,
    "start_time": "2021-07-22T10:23:49.301Z"
   },
   {
    "duration": 319,
    "start_time": "2021-07-22T10:25:43.334Z"
   },
   {
    "duration": 342,
    "start_time": "2021-07-22T10:25:51.931Z"
   },
   {
    "duration": 2327,
    "start_time": "2021-07-22T10:27:11.925Z"
   },
   {
    "duration": 2455,
    "start_time": "2021-07-22T10:27:25.659Z"
   },
   {
    "duration": 368,
    "start_time": "2021-07-22T10:28:01.523Z"
   },
   {
    "duration": 367,
    "start_time": "2021-07-22T10:28:10.543Z"
   },
   {
    "duration": 3365,
    "start_time": "2021-07-22T10:35:20.086Z"
   },
   {
    "duration": 3435,
    "start_time": "2021-07-22T10:36:29.860Z"
   },
   {
    "duration": 2999,
    "start_time": "2021-07-22T10:37:05.205Z"
   },
   {
    "duration": 2437,
    "start_time": "2021-07-22T10:37:19.084Z"
   },
   {
    "duration": 328,
    "start_time": "2021-07-22T10:38:01.610Z"
   },
   {
    "duration": 4,
    "start_time": "2021-07-22T19:00:25.560Z"
   },
   {
    "duration": 2037,
    "start_time": "2021-07-22T19:00:34.243Z"
   },
   {
    "duration": 30,
    "start_time": "2021-07-22T19:00:36.282Z"
   },
   {
    "duration": 19,
    "start_time": "2021-07-22T19:00:36.315Z"
   },
   {
    "duration": 17,
    "start_time": "2021-07-22T19:00:36.338Z"
   },
   {
    "duration": 6,
    "start_time": "2021-07-22T19:00:36.361Z"
   },
   {
    "duration": 22,
    "start_time": "2021-07-22T19:00:36.370Z"
   },
   {
    "duration": 515,
    "start_time": "2021-07-22T19:00:36.396Z"
   },
   {
    "duration": 3639,
    "start_time": "2021-07-22T19:00:36.915Z"
   },
   {
    "duration": 479,
    "start_time": "2021-07-22T19:00:40.562Z"
   },
   {
    "duration": 383,
    "start_time": "2021-07-22T19:01:53.879Z"
   },
   {
    "duration": 486,
    "start_time": "2021-07-22T19:01:59.268Z"
   },
   {
    "duration": 14,
    "start_time": "2021-07-23T18:49:58.633Z"
   },
   {
    "duration": 12,
    "start_time": "2021-07-23T18:52:12.103Z"
   },
   {
    "duration": 12,
    "start_time": "2021-07-23T18:52:42.828Z"
   },
   {
    "duration": 341,
    "start_time": "2021-07-23T19:07:25.037Z"
   },
   {
    "duration": 460,
    "start_time": "2021-07-23T19:08:21.357Z"
   },
   {
    "duration": 314,
    "start_time": "2021-07-23T19:17:25.044Z"
   },
   {
    "duration": 845,
    "start_time": "2021-07-23T19:24:29.521Z"
   },
   {
    "duration": 297,
    "start_time": "2021-07-23T19:25:17.808Z"
   },
   {
    "duration": 283,
    "start_time": "2021-07-23T19:27:11.871Z"
   },
   {
    "duration": 465,
    "start_time": "2021-07-23T19:29:02.778Z"
   },
   {
    "duration": 467,
    "start_time": "2021-07-23T19:31:54.128Z"
   },
   {
    "duration": 2550,
    "start_time": "2021-07-23T19:32:20.383Z"
   },
   {
    "duration": 2645,
    "start_time": "2021-07-23T19:33:40.892Z"
   },
   {
    "duration": 3570,
    "start_time": "2021-07-23T19:33:50.917Z"
   },
   {
    "duration": 1354,
    "start_time": "2021-07-23T19:34:59.444Z"
   },
   {
    "duration": 3564,
    "start_time": "2021-07-23T19:37:10.001Z"
   },
   {
    "duration": 3423,
    "start_time": "2021-07-23T19:38:01.495Z"
   },
   {
    "duration": 266,
    "start_time": "2021-07-23T19:38:16.327Z"
   },
   {
    "duration": 3482,
    "start_time": "2021-07-23T19:38:25.099Z"
   },
   {
    "duration": 417,
    "start_time": "2021-07-23T19:39:50.045Z"
   },
   {
    "duration": 812,
    "start_time": "2021-07-23T19:40:02.279Z"
   },
   {
    "duration": 501,
    "start_time": "2021-07-23T19:40:29.111Z"
   },
   {
    "duration": 503,
    "start_time": "2021-07-23T19:40:54.064Z"
   },
   {
    "duration": 665,
    "start_time": "2021-07-23T19:41:05.057Z"
   },
   {
    "duration": 926,
    "start_time": "2021-07-23T19:48:04.239Z"
   },
   {
    "duration": 635,
    "start_time": "2021-07-23T19:49:06.272Z"
   },
   {
    "duration": 375,
    "start_time": "2021-07-23T19:51:34.828Z"
   },
   {
    "duration": 289,
    "start_time": "2021-07-23T19:53:20.839Z"
   },
   {
    "duration": 538,
    "start_time": "2021-07-23T19:53:33.486Z"
   },
   {
    "duration": 1026,
    "start_time": "2021-07-23T20:00:11.452Z"
   },
   {
    "duration": 622,
    "start_time": "2021-07-23T20:00:51.943Z"
   },
   {
    "duration": 1978,
    "start_time": "2021-07-23T20:01:29.679Z"
   },
   {
    "duration": 34,
    "start_time": "2021-07-23T20:01:31.661Z"
   },
   {
    "duration": 25,
    "start_time": "2021-07-23T20:01:31.699Z"
   },
   {
    "duration": 19,
    "start_time": "2021-07-23T20:01:31.727Z"
   },
   {
    "duration": 5,
    "start_time": "2021-07-23T20:01:31.763Z"
   },
   {
    "duration": 29,
    "start_time": "2021-07-23T20:01:31.771Z"
   },
   {
    "duration": 475,
    "start_time": "2021-07-23T20:01:31.803Z"
   },
   {
    "duration": 394,
    "start_time": "2021-07-23T20:01:32.282Z"
   },
   {
    "duration": 3299,
    "start_time": "2021-07-23T20:01:32.679Z"
   },
   {
    "duration": 4688,
    "start_time": "2021-07-23T20:01:35.981Z"
   },
   {
    "duration": 945,
    "start_time": "2021-07-23T20:01:40.672Z"
   },
   {
    "duration": 466,
    "start_time": "2021-07-23T20:01:41.620Z"
   },
   {
    "duration": 413,
    "start_time": "2021-07-23T20:01:42.089Z"
   },
   {
    "duration": 388,
    "start_time": "2021-07-23T20:03:50.660Z"
   },
   {
    "duration": 4893,
    "start_time": "2021-07-23T20:04:40.347Z"
   },
   {
    "duration": 629,
    "start_time": "2021-07-23T20:05:54.860Z"
   },
   {
    "duration": 3662,
    "start_time": "2021-07-23T20:07:15.333Z"
   },
   {
    "duration": 3416,
    "start_time": "2021-07-23T20:08:19.736Z"
   },
   {
    "duration": 381,
    "start_time": "2021-07-23T20:09:29.814Z"
   },
   {
    "duration": 439,
    "start_time": "2021-07-23T20:09:51.640Z"
   },
   {
    "duration": 620,
    "start_time": "2021-07-23T20:10:28.192Z"
   },
   {
    "duration": 421,
    "start_time": "2021-07-23T20:10:37.002Z"
   },
   {
    "duration": 422,
    "start_time": "2021-07-23T20:12:11.957Z"
   },
   {
    "duration": 408,
    "start_time": "2021-07-23T20:12:19.993Z"
   },
   {
    "duration": 406,
    "start_time": "2021-07-23T20:12:35.784Z"
   },
   {
    "duration": 592,
    "start_time": "2021-07-23T20:19:28.829Z"
   },
   {
    "duration": 620,
    "start_time": "2021-07-23T20:19:40.154Z"
   },
   {
    "duration": 283,
    "start_time": "2021-07-23T20:19:47.171Z"
   },
   {
    "duration": 3633,
    "start_time": "2021-07-23T20:23:12.671Z"
   },
   {
    "duration": 589,
    "start_time": "2021-07-23T20:23:35.835Z"
   },
   {
    "duration": 446,
    "start_time": "2021-07-23T20:23:47.147Z"
   },
   {
    "duration": 385,
    "start_time": "2021-07-23T20:24:08.696Z"
   },
   {
    "duration": 388,
    "start_time": "2021-07-23T20:24:17.489Z"
   },
   {
    "duration": 422,
    "start_time": "2021-07-23T20:24:54.852Z"
   },
   {
    "duration": 444,
    "start_time": "2021-07-23T20:25:30.456Z"
   },
   {
    "duration": 386,
    "start_time": "2021-07-23T20:25:41.124Z"
   },
   {
    "duration": 422,
    "start_time": "2021-07-23T20:27:27.025Z"
   },
   {
    "duration": 409,
    "start_time": "2021-07-23T20:27:45.596Z"
   },
   {
    "duration": 311,
    "start_time": "2021-07-23T20:28:07.860Z"
   },
   {
    "duration": 378,
    "start_time": "2021-07-23T20:28:16.975Z"
   },
   {
    "duration": 303,
    "start_time": "2021-07-23T20:31:41.002Z"
   },
   {
    "duration": 403,
    "start_time": "2021-07-23T20:31:47.666Z"
   },
   {
    "duration": 398,
    "start_time": "2021-07-23T20:39:15.585Z"
   },
   {
    "duration": 3569,
    "start_time": "2021-07-23T20:40:13.823Z"
   },
   {
    "duration": 388,
    "start_time": "2021-07-23T20:40:34.525Z"
   },
   {
    "duration": 88,
    "start_time": "2021-07-23T20:42:38.449Z"
   },
   {
    "duration": 656,
    "start_time": "2021-07-23T20:42:46.309Z"
   },
   {
    "duration": 679,
    "start_time": "2021-07-23T20:43:59.259Z"
   },
   {
    "duration": 296,
    "start_time": "2021-07-23T20:51:56.278Z"
   },
   {
    "duration": 294,
    "start_time": "2021-07-23T20:52:41.599Z"
   },
   {
    "duration": 427,
    "start_time": "2021-07-23T20:52:50.295Z"
   },
   {
    "duration": 300,
    "start_time": "2021-07-23T20:53:15.266Z"
   },
   {
    "duration": 282,
    "start_time": "2021-07-23T20:54:11.039Z"
   },
   {
    "duration": 284,
    "start_time": "2021-07-23T20:54:46.273Z"
   },
   {
    "duration": 291,
    "start_time": "2021-07-23T20:55:28.246Z"
   },
   {
    "duration": 285,
    "start_time": "2021-07-23T20:56:01.113Z"
   },
   {
    "duration": 289,
    "start_time": "2021-07-23T20:56:08.750Z"
   },
   {
    "duration": 634,
    "start_time": "2021-07-23T20:57:47.994Z"
   },
   {
    "duration": 656,
    "start_time": "2021-07-23T20:59:02.646Z"
   },
   {
    "duration": 392,
    "start_time": "2021-07-23T20:59:14.917Z"
   },
   {
    "duration": 518,
    "start_time": "2021-07-23T20:59:28.563Z"
   },
   {
    "duration": 1920,
    "start_time": "2021-07-23T21:00:32.044Z"
   },
   {
    "duration": 30,
    "start_time": "2021-07-23T21:00:33.967Z"
   },
   {
    "duration": 20,
    "start_time": "2021-07-23T21:00:34.001Z"
   },
   {
    "duration": 17,
    "start_time": "2021-07-23T21:00:34.024Z"
   },
   {
    "duration": 22,
    "start_time": "2021-07-23T21:00:34.043Z"
   },
   {
    "duration": 27,
    "start_time": "2021-07-23T21:00:34.067Z"
   },
   {
    "duration": 436,
    "start_time": "2021-07-23T21:00:34.096Z"
   },
   {
    "duration": 302,
    "start_time": "2021-07-23T21:00:34.535Z"
   },
   {
    "duration": 3523,
    "start_time": "2021-07-23T21:00:34.840Z"
   },
   {
    "duration": 802,
    "start_time": "2021-07-23T21:00:38.365Z"
   },
   {
    "duration": 416,
    "start_time": "2021-07-23T21:00:39.169Z"
   },
   {
    "duration": 1912,
    "start_time": "2021-07-24T07:10:30.952Z"
   },
   {
    "duration": 31,
    "start_time": "2021-07-24T07:10:32.867Z"
   },
   {
    "duration": 31,
    "start_time": "2021-07-24T07:10:32.901Z"
   },
   {
    "duration": 30,
    "start_time": "2021-07-24T07:10:32.935Z"
   },
   {
    "duration": 32,
    "start_time": "2021-07-24T07:10:32.969Z"
   },
   {
    "duration": 48,
    "start_time": "2021-07-24T07:10:33.003Z"
   },
   {
    "duration": 445,
    "start_time": "2021-07-24T07:10:33.054Z"
   },
   {
    "duration": 306,
    "start_time": "2021-07-24T07:10:33.502Z"
   },
   {
    "duration": 3501,
    "start_time": "2021-07-24T07:10:33.811Z"
   },
   {
    "duration": 816,
    "start_time": "2021-07-24T07:10:37.314Z"
   },
   {
    "duration": 406,
    "start_time": "2021-07-24T07:10:38.133Z"
   },
   {
    "duration": 13,
    "start_time": "2021-07-24T08:03:04.661Z"
   },
   {
    "duration": 12,
    "start_time": "2021-07-24T08:04:33.294Z"
   },
   {
    "duration": 379,
    "start_time": "2021-07-24T08:14:31.801Z"
   },
   {
    "duration": 3432,
    "start_time": "2021-07-24T08:41:20.071Z"
   },
   {
    "duration": 3516,
    "start_time": "2021-07-24T08:42:00.092Z"
   },
   {
    "duration": 1922,
    "start_time": "2021-07-24T09:13:26.242Z"
   },
   {
    "duration": 33,
    "start_time": "2021-07-24T09:13:28.168Z"
   },
   {
    "duration": 27,
    "start_time": "2021-07-24T09:13:28.205Z"
   },
   {
    "duration": 35,
    "start_time": "2021-07-24T09:13:28.236Z"
   },
   {
    "duration": 398,
    "start_time": "2021-07-24T09:13:28.274Z"
   },
   {
    "duration": 295,
    "start_time": "2021-07-24T09:13:28.674Z"
   },
   {
    "duration": 3406,
    "start_time": "2021-07-24T09:13:28.971Z"
   },
   {
    "duration": 755,
    "start_time": "2021-07-24T09:13:32.381Z"
   },
   {
    "duration": 24,
    "start_time": "2021-07-24T09:13:33.138Z"
   },
   {
    "duration": 392,
    "start_time": "2021-07-24T09:13:33.164Z"
   },
   {
    "duration": 1988,
    "start_time": "2021-07-24T09:19:31.131Z"
   },
   {
    "duration": 30,
    "start_time": "2021-07-24T09:19:33.122Z"
   },
   {
    "duration": 18,
    "start_time": "2021-07-24T09:19:33.155Z"
   },
   {
    "duration": 16,
    "start_time": "2021-07-24T09:19:33.176Z"
   },
   {
    "duration": 419,
    "start_time": "2021-07-24T09:19:33.194Z"
   },
   {
    "duration": 311,
    "start_time": "2021-07-24T09:19:33.616Z"
   },
   {
    "duration": 3460,
    "start_time": "2021-07-24T09:19:33.931Z"
   },
   {
    "duration": 781,
    "start_time": "2021-07-24T09:19:37.394Z"
   },
   {
    "duration": 12,
    "start_time": "2021-07-24T09:19:38.179Z"
   },
   {
    "duration": 407,
    "start_time": "2021-07-24T09:19:38.194Z"
   },
   {
    "duration": 76,
    "start_time": "2021-07-24T12:20:57.816Z"
   },
   {
    "duration": 11004,
    "start_time": "2021-07-24T12:21:21.390Z"
   },
   {
    "duration": 27,
    "start_time": "2021-07-24T12:21:32.396Z"
   },
   {
    "duration": 12,
    "start_time": "2021-07-24T12:21:32.428Z"
   },
   {
    "duration": 11,
    "start_time": "2021-07-24T12:21:32.441Z"
   },
   {
    "duration": 203,
    "start_time": "2021-07-24T12:21:32.453Z"
   },
   {
    "duration": 172,
    "start_time": "2021-07-24T12:21:32.657Z"
   },
   {
    "duration": 1970,
    "start_time": "2021-07-24T12:21:32.831Z"
   },
   {
    "duration": 433,
    "start_time": "2021-07-24T12:21:34.803Z"
   },
   {
    "duration": 7,
    "start_time": "2021-07-24T12:21:35.238Z"
   },
   {
    "duration": 235,
    "start_time": "2021-07-24T12:21:35.246Z"
   },
   {
    "duration": 73,
    "start_time": "2021-07-24T12:22:21.082Z"
   },
   {
    "duration": 76,
    "start_time": "2021-07-24T12:23:07.087Z"
   },
   {
    "duration": 78,
    "start_time": "2021-07-24T12:23:41.227Z"
   },
   {
    "duration": 73,
    "start_time": "2021-07-24T12:28:39.103Z"
   },
   {
    "duration": 1103,
    "start_time": "2021-07-24T12:35:24.388Z"
   },
   {
    "duration": 2054,
    "start_time": "2021-07-24T12:35:34.323Z"
   },
   {
    "duration": 33,
    "start_time": "2021-07-24T12:35:36.380Z"
   },
   {
    "duration": 23,
    "start_time": "2021-07-24T12:35:36.417Z"
   },
   {
    "duration": 18,
    "start_time": "2021-07-24T12:35:36.443Z"
   },
   {
    "duration": 385,
    "start_time": "2021-07-24T12:35:36.464Z"
   },
   {
    "duration": 314,
    "start_time": "2021-07-24T12:35:36.851Z"
   },
   {
    "duration": 3688,
    "start_time": "2021-07-24T12:35:37.168Z"
   },
   {
    "duration": 758,
    "start_time": "2021-07-24T12:35:40.860Z"
   },
   {
    "duration": 14,
    "start_time": "2021-07-24T12:35:41.622Z"
   },
   {
    "duration": 405,
    "start_time": "2021-07-24T12:35:41.639Z"
   },
   {
    "duration": 3327,
    "start_time": "2021-07-24T12:37:30.311Z"
   },
   {
    "duration": 16,
    "start_time": "2021-07-24T12:39:30.326Z"
   },
   {
    "duration": 14,
    "start_time": "2021-07-24T12:39:56.038Z"
   },
   {
    "duration": 647,
    "start_time": "2021-07-24T12:46:06.340Z"
   },
   {
    "duration": 651,
    "start_time": "2021-07-24T12:46:24.492Z"
   },
   {
    "duration": 2200,
    "start_time": "2021-07-24T12:47:47.723Z"
   },
   {
    "duration": 707,
    "start_time": "2021-07-24T12:49:03.630Z"
   },
   {
    "duration": 1525,
    "start_time": "2021-07-24T12:51:23.674Z"
   },
   {
    "duration": 31,
    "start_time": "2021-07-24T12:51:25.202Z"
   },
   {
    "duration": 22,
    "start_time": "2021-07-24T12:51:25.236Z"
   },
   {
    "duration": 26,
    "start_time": "2021-07-24T12:51:25.261Z"
   },
   {
    "duration": 391,
    "start_time": "2021-07-24T12:51:25.290Z"
   },
   {
    "duration": 311,
    "start_time": "2021-07-24T12:51:25.686Z"
   },
   {
    "duration": 3500,
    "start_time": "2021-07-24T12:51:26.000Z"
   },
   {
    "duration": 1020,
    "start_time": "2021-07-24T12:51:29.503Z"
   },
   {
    "duration": 14,
    "start_time": "2021-07-24T12:51:30.526Z"
   },
   {
    "duration": 410,
    "start_time": "2021-07-24T12:51:30.542Z"
   },
   {
    "duration": 1618,
    "start_time": "2021-07-24T12:52:01.154Z"
   },
   {
    "duration": 35,
    "start_time": "2021-07-24T12:52:02.775Z"
   },
   {
    "duration": 21,
    "start_time": "2021-07-24T12:52:02.814Z"
   },
   {
    "duration": 21,
    "start_time": "2021-07-24T12:52:02.839Z"
   },
   {
    "duration": 419,
    "start_time": "2021-07-24T12:52:02.863Z"
   },
   {
    "duration": 321,
    "start_time": "2021-07-24T12:52:03.286Z"
   },
   {
    "duration": 3534,
    "start_time": "2021-07-24T12:52:03.610Z"
   },
   {
    "duration": 711,
    "start_time": "2021-07-24T12:52:07.148Z"
   },
   {
    "duration": 29,
    "start_time": "2021-07-24T12:52:07.862Z"
   },
   {
    "duration": 397,
    "start_time": "2021-07-24T12:52:07.894Z"
   },
   {
    "duration": 1515,
    "start_time": "2021-10-05T17:55:36.435Z"
   },
   {
    "duration": 33,
    "start_time": "2021-10-05T17:55:37.952Z"
   },
   {
    "duration": 20,
    "start_time": "2021-10-05T17:55:37.992Z"
   },
   {
    "duration": 39,
    "start_time": "2021-10-05T17:55:38.015Z"
   },
   {
    "duration": 400,
    "start_time": "2021-10-05T17:55:38.057Z"
   },
   {
    "duration": 325,
    "start_time": "2021-10-05T17:55:38.461Z"
   },
   {
    "duration": 3581,
    "start_time": "2021-10-05T17:55:38.788Z"
   },
   {
    "duration": 799,
    "start_time": "2021-10-05T17:55:42.373Z"
   },
   {
    "duration": 14,
    "start_time": "2021-10-05T17:55:43.175Z"
   },
   {
    "duration": 431,
    "start_time": "2021-10-05T17:55:43.191Z"
   },
   {
    "duration": 1419,
    "start_time": "2021-10-05T17:58:12.882Z"
   },
   {
    "duration": 572,
    "start_time": "2021-10-05T17:58:14.303Z"
   },
   {
    "duration": 22,
    "start_time": "2021-10-05T17:58:14.877Z"
   },
   {
    "duration": 43,
    "start_time": "2021-10-05T17:58:14.902Z"
   },
   {
    "duration": 398,
    "start_time": "2021-10-05T17:58:14.948Z"
   },
   {
    "duration": 324,
    "start_time": "2021-10-05T17:58:15.348Z"
   },
   {
    "duration": 3809,
    "start_time": "2021-10-05T17:58:15.674Z"
   },
   {
    "duration": 759,
    "start_time": "2021-10-05T17:58:19.486Z"
   },
   {
    "duration": 16,
    "start_time": "2021-10-05T17:58:20.248Z"
   },
   {
    "duration": 422,
    "start_time": "2021-10-05T17:58:20.267Z"
   }
  ],
  "kernelspec": {
   "display_name": "Python 3",
   "language": "python",
   "name": "python3"
  },
  "language_info": {
   "codemirror_mode": {
    "name": "ipython",
    "version": 3
   },
   "file_extension": ".py",
   "mimetype": "text/x-python",
   "name": "python",
   "nbconvert_exporter": "python",
   "pygments_lexer": "ipython3",
   "version": "3.7.10"
  },
  "toc": {
   "base_numbering": 1,
   "nav_menu": {},
   "number_sections": true,
   "sideBar": true,
   "skip_h1_title": true,
   "title_cell": "Содержание",
   "title_sidebar": "Contents",
   "toc_cell": true,
   "toc_position": {
    "height": "calc(100% - 180px)",
    "left": "10px",
    "top": "150px",
    "width": "270.391px"
   },
   "toc_section_display": true,
   "toc_window_display": true
  }
 },
 "nbformat": 4,
 "nbformat_minor": 2
}
