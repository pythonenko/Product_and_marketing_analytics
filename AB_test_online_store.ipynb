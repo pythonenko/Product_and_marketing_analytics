{
 "cells": [
  {
   "cell_type": "markdown",
   "metadata": {
    "toc": true
   },
   "source": [
    "<h1>Содержание<span class=\"tocSkip\"></span></h1>\n",
    "<div class=\"toc\"><ul class=\"toc-item\"><li><span><a href=\"#Изучение-и-предобработка-данных\" data-toc-modified-id=\"Изучение-и-предобработка-данных-1\"><span class=\"toc-item-num\">1&nbsp;&nbsp;</span>Изучение и предобработка данных</a></span><ul class=\"toc-item\"><li><span><a href=\"#Проверка-типов-переменных,-пропусков-и-дубликатов\" data-toc-modified-id=\"Проверка-типов-переменных,-пропусков-и-дубликатов-1.1\"><span class=\"toc-item-num\">1.1&nbsp;&nbsp;</span>Проверка типов переменных, пропусков и дубликатов</a></span></li><li><span><a href=\"#Обработка-типов-и-названий-переменных\" data-toc-modified-id=\"Обработка-типов-и-названий-переменных-1.2\"><span class=\"toc-item-num\">1.2&nbsp;&nbsp;</span>Обработка типов и названий переменных</a></span></li><li><span><a href=\"#Проверка-аномалий-в-данных\" data-toc-modified-id=\"Проверка-аномалий-в-данных-1.3\"><span class=\"toc-item-num\">1.3&nbsp;&nbsp;</span>Проверка аномалий в данных</a></span></li></ul></li><li><span><a href=\"#Приоритизация-гипотез.\" data-toc-modified-id=\"Приоритизация-гипотез.-2\"><span class=\"toc-item-num\">2&nbsp;&nbsp;</span>Приоритизация гипотез.</a></span><ul class=\"toc-item\"><li><span><a href=\"#Приоритизация-ICE\" data-toc-modified-id=\"Приоритизация-ICE-2.1\"><span class=\"toc-item-num\">2.1&nbsp;&nbsp;</span>Приоритизация ICE</a></span></li><li><span><a href=\"#Приоритизация-RICE\" data-toc-modified-id=\"Приоритизация-RICE-2.2\"><span class=\"toc-item-num\">2.2&nbsp;&nbsp;</span>Приоритизация RICE</a></span></li></ul></li><li><span><a href=\"#Анализ-A/B-теста\" data-toc-modified-id=\"Анализ-A/B-теста-3\"><span class=\"toc-item-num\">3&nbsp;&nbsp;</span>Анализ A/B-теста</a></span><ul class=\"toc-item\"><li><span><a href=\"#График-кумулятивной-выручки-по-группам\" data-toc-modified-id=\"График-кумулятивной-выручки-по-группам-3.1\"><span class=\"toc-item-num\">3.1&nbsp;&nbsp;</span>График кумулятивной выручки по группам</a></span></li><li><span><a href=\"#График-кумулятивного-среднего-чека-по-группам\" data-toc-modified-id=\"График-кумулятивного-среднего-чека-по-группам-3.2\"><span class=\"toc-item-num\">3.2&nbsp;&nbsp;</span>График кумулятивного среднего чека по группам</a></span></li><li><span><a href=\"#График-относительного-изменения-кумулятивного-среднего-чека\" data-toc-modified-id=\"График-относительного-изменения-кумулятивного-среднего-чека-3.3\"><span class=\"toc-item-num\">3.3&nbsp;&nbsp;</span>График относительного изменения кумулятивного среднего чека</a></span></li><li><span><a href=\"#График-кумулятивной-конверсии-по-группам\" data-toc-modified-id=\"График-кумулятивной-конверсии-по-группам-3.4\"><span class=\"toc-item-num\">3.4&nbsp;&nbsp;</span>График кумулятивной конверсии по группам</a></span></li><li><span><a href=\"#График-относительного-изменения-кумулятивной-конверсии\" data-toc-modified-id=\"График-относительного-изменения-кумулятивной-конверсии-3.5\"><span class=\"toc-item-num\">3.5&nbsp;&nbsp;</span>График относительного изменения кумулятивной конверсии</a></span></li><li><span><a href=\"#График-количества-заказов-по-пользователям\" data-toc-modified-id=\"График-количества-заказов-по-пользователям-3.6\"><span class=\"toc-item-num\">3.6&nbsp;&nbsp;</span>График количества заказов по пользователям</a></span></li><li><span><a href=\"#95-й-и-99-й-перцентили-количества-заказов-на-пользователя\" data-toc-modified-id=\"95-й-и-99-й-перцентили-количества-заказов-на-пользователя-3.7\"><span class=\"toc-item-num\">3.7&nbsp;&nbsp;</span>95-й и 99-й перцентили количества заказов на пользователя</a></span></li><li><span><a href=\"#График-стоимостей-заказов\" data-toc-modified-id=\"График-стоимостей-заказов-3.8\"><span class=\"toc-item-num\">3.8&nbsp;&nbsp;</span>График стоимостей заказов</a></span></li><li><span><a href=\"#95-й-и-99-й-перцентили-стоимости-заказов\" data-toc-modified-id=\"95-й-и-99-й-перцентили-стоимости-заказов-3.9\"><span class=\"toc-item-num\">3.9&nbsp;&nbsp;</span>95-й и 99-й перцентили стоимости заказов</a></span></li><li><span><a href=\"#Статистическая-значимость-различий-в-конверсии-между-группами\" data-toc-modified-id=\"Статистическая-значимость-различий-в-конверсии-между-группами-3.10\"><span class=\"toc-item-num\">3.10&nbsp;&nbsp;</span>Статистическая значимость различий в конверсии между группами</a></span></li><li><span><a href=\"#Статистическая-значимость-различий-в-среднем-чеке-заказа\" data-toc-modified-id=\"Статистическая-значимость-различий-в-среднем-чеке-заказа-3.11\"><span class=\"toc-item-num\">3.11&nbsp;&nbsp;</span>Статистическая значимость различий в среднем чеке заказа</a></span></li><li><span><a href=\"#Статистическая-значимость-различий-в-конверсии-по-«очищенным»-данным\" data-toc-modified-id=\"Статистическая-значимость-различий-в-конверсии-по-«очищенным»-данным-3.12\"><span class=\"toc-item-num\">3.12&nbsp;&nbsp;</span>Статистическая значимость различий в конверсии по «очищенным» данным</a></span></li><li><span><a href=\"#Статистическая-значимость-различий-в-среднем-чеке-по-«очищенным»-данным\" data-toc-modified-id=\"Статистическая-значимость-различий-в-среднем-чеке-по-«очищенным»-данным-3.13\"><span class=\"toc-item-num\">3.13&nbsp;&nbsp;</span>Статистическая значимость различий в среднем чеке по «очищенным» данным</a></span></li></ul></li></ul></div>"
   ]
  },
  {
   "cell_type": "markdown",
   "metadata": {},
   "source": [
    "# Анализ результатов A/B-теста интернет-магазина #\n",
    "\n",
    "Определим наиболее приоритетные гипотезы для увеличения выручки интернет-магазина, а также проанализируем результаты проведенного A/B-теста на основе различий в метриках конверсии и среднего чека. Это позволит принять решение о продолжении или остановке теста и выявить победителя эксперимента."
   ]
  },
  {
   "cell_type": "code",
   "execution_count": 1,
   "metadata": {},
   "outputs": [],
   "source": [
    "import pandas as pd\n",
    "import numpy as np\n",
    "from scipy import stats as st\n",
    "import matplotlib as mpl\n",
    "import matplotlib.pyplot as plt\n",
    "import seaborn as sns\n",
    "import math\n",
    "import os\n",
    "from IPython.display import display\n",
    "from plotly.subplots import make_subplots\n",
    "import plotly.graph_objects as go\n",
    "import scipy.stats as stats\n",
    "import datetime as dt"
   ]
  },
  {
   "cell_type": "markdown",
   "metadata": {},
   "source": [
    "## Изучение и предобработка данных"
   ]
  },
  {
   "cell_type": "markdown",
   "metadata": {},
   "source": [
    "### Проверка типов переменных, пропусков и дубликатов"
   ]
  },
  {
   "cell_type": "markdown",
   "metadata": {},
   "source": [
    "Откроем файлы с данными и изучим общую информацию:"
   ]
  },
  {
   "cell_type": "code",
   "execution_count": 2,
   "metadata": {},
   "outputs": [],
   "source": [
    "def file_read (server_path, filename, date_column):\n",
    "    if os.path.exists(server_path):\n",
    "        file_read = pd.read_csv(server_path, parse_dates=date_column)\n",
    "    else:\n",
    "        file_read = pd.read_csv(filename, parse_dates=date_column)\n",
    "    return file_read\n",
    "    \n",
    "hypothesis = file_read('/datasets/hypothesis.csv','hypothesis.csv', False)\n",
    "orders = file_read('/datasets/orders.csv','orders.csv', ['date'])\n",
    "visitors = file_read('/datasets/visitors.csv','visitors.csv', ['date'])"
   ]
  },
  {
   "cell_type": "code",
   "execution_count": 3,
   "metadata": {},
   "outputs": [
    {
     "name": "stdout",
     "output_type": "stream",
     "text": [
      "\u001b[1mHypothesis\n"
     ]
    },
    {
     "data": {
      "text/html": [
       "<div>\n",
       "<style scoped>\n",
       "    .dataframe tbody tr th:only-of-type {\n",
       "        vertical-align: middle;\n",
       "    }\n",
       "\n",
       "    .dataframe tbody tr th {\n",
       "        vertical-align: top;\n",
       "    }\n",
       "\n",
       "    .dataframe thead th {\n",
       "        text-align: right;\n",
       "    }\n",
       "</style>\n",
       "<table border=\"1\" class=\"dataframe\">\n",
       "  <thead>\n",
       "    <tr style=\"text-align: right;\">\n",
       "      <th></th>\n",
       "      <th>Hypothesis</th>\n",
       "      <th>Reach</th>\n",
       "      <th>Impact</th>\n",
       "      <th>Confidence</th>\n",
       "      <th>Efforts</th>\n",
       "    </tr>\n",
       "  </thead>\n",
       "  <tbody>\n",
       "    <tr>\n",
       "      <td>0</td>\n",
       "      <td>Добавить два новых канала привлечения трафика,...</td>\n",
       "      <td>3</td>\n",
       "      <td>10</td>\n",
       "      <td>8</td>\n",
       "      <td>6</td>\n",
       "    </tr>\n",
       "    <tr>\n",
       "      <td>1</td>\n",
       "      <td>Запустить собственную службу доставки, что сок...</td>\n",
       "      <td>2</td>\n",
       "      <td>5</td>\n",
       "      <td>4</td>\n",
       "      <td>10</td>\n",
       "    </tr>\n",
       "    <tr>\n",
       "      <td>2</td>\n",
       "      <td>Добавить блоки рекомендаций товаров на сайт ин...</td>\n",
       "      <td>8</td>\n",
       "      <td>3</td>\n",
       "      <td>7</td>\n",
       "      <td>3</td>\n",
       "    </tr>\n",
       "    <tr>\n",
       "      <td>3</td>\n",
       "      <td>Изменить структура категорий, что увеличит кон...</td>\n",
       "      <td>8</td>\n",
       "      <td>3</td>\n",
       "      <td>3</td>\n",
       "      <td>8</td>\n",
       "    </tr>\n",
       "    <tr>\n",
       "      <td>4</td>\n",
       "      <td>Изменить цвет фона главной страницы, чтобы уве...</td>\n",
       "      <td>3</td>\n",
       "      <td>1</td>\n",
       "      <td>1</td>\n",
       "      <td>1</td>\n",
       "    </tr>\n",
       "    <tr>\n",
       "      <td>5</td>\n",
       "      <td>Добавить страницу отзывов клиентов о магазине,...</td>\n",
       "      <td>3</td>\n",
       "      <td>2</td>\n",
       "      <td>2</td>\n",
       "      <td>3</td>\n",
       "    </tr>\n",
       "    <tr>\n",
       "      <td>6</td>\n",
       "      <td>Показать на главной странице баннеры с актуаль...</td>\n",
       "      <td>5</td>\n",
       "      <td>3</td>\n",
       "      <td>8</td>\n",
       "      <td>3</td>\n",
       "    </tr>\n",
       "    <tr>\n",
       "      <td>7</td>\n",
       "      <td>Добавить форму подписки на все основные страни...</td>\n",
       "      <td>10</td>\n",
       "      <td>7</td>\n",
       "      <td>8</td>\n",
       "      <td>5</td>\n",
       "    </tr>\n",
       "    <tr>\n",
       "      <td>8</td>\n",
       "      <td>Запустить акцию, дающую скидку на товар в день...</td>\n",
       "      <td>1</td>\n",
       "      <td>9</td>\n",
       "      <td>9</td>\n",
       "      <td>5</td>\n",
       "    </tr>\n",
       "  </tbody>\n",
       "</table>\n",
       "</div>"
      ],
      "text/plain": [
       "                                          Hypothesis  Reach  Impact  \\\n",
       "0  Добавить два новых канала привлечения трафика,...      3      10   \n",
       "1  Запустить собственную службу доставки, что сок...      2       5   \n",
       "2  Добавить блоки рекомендаций товаров на сайт ин...      8       3   \n",
       "3  Изменить структура категорий, что увеличит кон...      8       3   \n",
       "4  Изменить цвет фона главной страницы, чтобы уве...      3       1   \n",
       "5  Добавить страницу отзывов клиентов о магазине,...      3       2   \n",
       "6  Показать на главной странице баннеры с актуаль...      5       3   \n",
       "7  Добавить форму подписки на все основные страни...     10       7   \n",
       "8  Запустить акцию, дающую скидку на товар в день...      1       9   \n",
       "\n",
       "   Confidence  Efforts  \n",
       "0           8        6  \n",
       "1           4       10  \n",
       "2           7        3  \n",
       "3           3        8  \n",
       "4           1        1  \n",
       "5           2        3  \n",
       "6           8        3  \n",
       "7           8        5  \n",
       "8           9        5  "
      ]
     },
     "metadata": {},
     "output_type": "display_data"
    },
    {
     "name": "stdout",
     "output_type": "stream",
     "text": [
      "<class 'pandas.core.frame.DataFrame'>\n",
      "RangeIndex: 9 entries, 0 to 8\n",
      "Data columns (total 5 columns):\n",
      "Hypothesis    9 non-null object\n",
      "Reach         9 non-null int64\n",
      "Impact        9 non-null int64\n",
      "Confidence    9 non-null int64\n",
      "Efforts       9 non-null int64\n",
      "dtypes: int64(4), object(1)\n",
      "memory usage: 488.0+ bytes\n",
      "\n",
      "Дубликатов в таблице: 0\n",
      "\n",
      "\u001b[1mOrders\n"
     ]
    },
    {
     "data": {
      "text/html": [
       "<div>\n",
       "<style scoped>\n",
       "    .dataframe tbody tr th:only-of-type {\n",
       "        vertical-align: middle;\n",
       "    }\n",
       "\n",
       "    .dataframe tbody tr th {\n",
       "        vertical-align: top;\n",
       "    }\n",
       "\n",
       "    .dataframe thead th {\n",
       "        text-align: right;\n",
       "    }\n",
       "</style>\n",
       "<table border=\"1\" class=\"dataframe\">\n",
       "  <thead>\n",
       "    <tr style=\"text-align: right;\">\n",
       "      <th></th>\n",
       "      <th>transactionId</th>\n",
       "      <th>visitorId</th>\n",
       "      <th>date</th>\n",
       "      <th>revenue</th>\n",
       "      <th>group</th>\n",
       "    </tr>\n",
       "  </thead>\n",
       "  <tbody>\n",
       "    <tr>\n",
       "      <td>0</td>\n",
       "      <td>3667963787</td>\n",
       "      <td>3312258926</td>\n",
       "      <td>2019-08-15</td>\n",
       "      <td>1650</td>\n",
       "      <td>B</td>\n",
       "    </tr>\n",
       "    <tr>\n",
       "      <td>1</td>\n",
       "      <td>2804400009</td>\n",
       "      <td>3642806036</td>\n",
       "      <td>2019-08-15</td>\n",
       "      <td>730</td>\n",
       "      <td>B</td>\n",
       "    </tr>\n",
       "    <tr>\n",
       "      <td>2</td>\n",
       "      <td>2961555356</td>\n",
       "      <td>4069496402</td>\n",
       "      <td>2019-08-15</td>\n",
       "      <td>400</td>\n",
       "      <td>A</td>\n",
       "    </tr>\n",
       "    <tr>\n",
       "      <td>3</td>\n",
       "      <td>3797467345</td>\n",
       "      <td>1196621759</td>\n",
       "      <td>2019-08-15</td>\n",
       "      <td>9759</td>\n",
       "      <td>B</td>\n",
       "    </tr>\n",
       "    <tr>\n",
       "      <td>4</td>\n",
       "      <td>2282983706</td>\n",
       "      <td>2322279887</td>\n",
       "      <td>2019-08-15</td>\n",
       "      <td>2308</td>\n",
       "      <td>B</td>\n",
       "    </tr>\n",
       "    <tr>\n",
       "      <td>5</td>\n",
       "      <td>182168103</td>\n",
       "      <td>935554773</td>\n",
       "      <td>2019-08-15</td>\n",
       "      <td>2210</td>\n",
       "      <td>B</td>\n",
       "    </tr>\n",
       "    <tr>\n",
       "      <td>6</td>\n",
       "      <td>398296753</td>\n",
       "      <td>2900797465</td>\n",
       "      <td>2019-08-15</td>\n",
       "      <td>1860</td>\n",
       "      <td>B</td>\n",
       "    </tr>\n",
       "    <tr>\n",
       "      <td>7</td>\n",
       "      <td>2626614568</td>\n",
       "      <td>78758296</td>\n",
       "      <td>2019-08-15</td>\n",
       "      <td>1044</td>\n",
       "      <td>A</td>\n",
       "    </tr>\n",
       "    <tr>\n",
       "      <td>8</td>\n",
       "      <td>1576988021</td>\n",
       "      <td>295230930</td>\n",
       "      <td>2019-08-15</td>\n",
       "      <td>13710</td>\n",
       "      <td>A</td>\n",
       "    </tr>\n",
       "    <tr>\n",
       "      <td>9</td>\n",
       "      <td>1506739906</td>\n",
       "      <td>1882260405</td>\n",
       "      <td>2019-08-15</td>\n",
       "      <td>1855</td>\n",
       "      <td>B</td>\n",
       "    </tr>\n",
       "  </tbody>\n",
       "</table>\n",
       "</div>"
      ],
      "text/plain": [
       "   transactionId   visitorId       date  revenue group\n",
       "0     3667963787  3312258926 2019-08-15     1650     B\n",
       "1     2804400009  3642806036 2019-08-15      730     B\n",
       "2     2961555356  4069496402 2019-08-15      400     A\n",
       "3     3797467345  1196621759 2019-08-15     9759     B\n",
       "4     2282983706  2322279887 2019-08-15     2308     B\n",
       "5      182168103   935554773 2019-08-15     2210     B\n",
       "6      398296753  2900797465 2019-08-15     1860     B\n",
       "7     2626614568    78758296 2019-08-15     1044     A\n",
       "8     1576988021   295230930 2019-08-15    13710     A\n",
       "9     1506739906  1882260405 2019-08-15     1855     B"
      ]
     },
     "metadata": {},
     "output_type": "display_data"
    },
    {
     "name": "stdout",
     "output_type": "stream",
     "text": [
      "<class 'pandas.core.frame.DataFrame'>\n",
      "RangeIndex: 1197 entries, 0 to 1196\n",
      "Data columns (total 5 columns):\n",
      "transactionId    1197 non-null int64\n",
      "visitorId        1197 non-null int64\n",
      "date             1197 non-null datetime64[ns]\n",
      "revenue          1197 non-null int64\n",
      "group            1197 non-null object\n",
      "dtypes: datetime64[ns](1), int64(3), object(1)\n",
      "memory usage: 46.9+ KB\n",
      "\n",
      "Дубликатов в таблице: 0\n",
      "\n",
      "\u001b[1mVisitors\n"
     ]
    },
    {
     "data": {
      "text/html": [
       "<div>\n",
       "<style scoped>\n",
       "    .dataframe tbody tr th:only-of-type {\n",
       "        vertical-align: middle;\n",
       "    }\n",
       "\n",
       "    .dataframe tbody tr th {\n",
       "        vertical-align: top;\n",
       "    }\n",
       "\n",
       "    .dataframe thead th {\n",
       "        text-align: right;\n",
       "    }\n",
       "</style>\n",
       "<table border=\"1\" class=\"dataframe\">\n",
       "  <thead>\n",
       "    <tr style=\"text-align: right;\">\n",
       "      <th></th>\n",
       "      <th>date</th>\n",
       "      <th>group</th>\n",
       "      <th>visitors</th>\n",
       "    </tr>\n",
       "  </thead>\n",
       "  <tbody>\n",
       "    <tr>\n",
       "      <td>0</td>\n",
       "      <td>2019-08-01</td>\n",
       "      <td>A</td>\n",
       "      <td>719</td>\n",
       "    </tr>\n",
       "    <tr>\n",
       "      <td>1</td>\n",
       "      <td>2019-08-02</td>\n",
       "      <td>A</td>\n",
       "      <td>619</td>\n",
       "    </tr>\n",
       "    <tr>\n",
       "      <td>2</td>\n",
       "      <td>2019-08-03</td>\n",
       "      <td>A</td>\n",
       "      <td>507</td>\n",
       "    </tr>\n",
       "    <tr>\n",
       "      <td>3</td>\n",
       "      <td>2019-08-04</td>\n",
       "      <td>A</td>\n",
       "      <td>717</td>\n",
       "    </tr>\n",
       "    <tr>\n",
       "      <td>4</td>\n",
       "      <td>2019-08-05</td>\n",
       "      <td>A</td>\n",
       "      <td>756</td>\n",
       "    </tr>\n",
       "    <tr>\n",
       "      <td>5</td>\n",
       "      <td>2019-08-06</td>\n",
       "      <td>A</td>\n",
       "      <td>667</td>\n",
       "    </tr>\n",
       "    <tr>\n",
       "      <td>6</td>\n",
       "      <td>2019-08-07</td>\n",
       "      <td>A</td>\n",
       "      <td>644</td>\n",
       "    </tr>\n",
       "    <tr>\n",
       "      <td>7</td>\n",
       "      <td>2019-08-08</td>\n",
       "      <td>A</td>\n",
       "      <td>610</td>\n",
       "    </tr>\n",
       "    <tr>\n",
       "      <td>8</td>\n",
       "      <td>2019-08-09</td>\n",
       "      <td>A</td>\n",
       "      <td>617</td>\n",
       "    </tr>\n",
       "    <tr>\n",
       "      <td>9</td>\n",
       "      <td>2019-08-10</td>\n",
       "      <td>A</td>\n",
       "      <td>406</td>\n",
       "    </tr>\n",
       "  </tbody>\n",
       "</table>\n",
       "</div>"
      ],
      "text/plain": [
       "        date group  visitors\n",
       "0 2019-08-01     A       719\n",
       "1 2019-08-02     A       619\n",
       "2 2019-08-03     A       507\n",
       "3 2019-08-04     A       717\n",
       "4 2019-08-05     A       756\n",
       "5 2019-08-06     A       667\n",
       "6 2019-08-07     A       644\n",
       "7 2019-08-08     A       610\n",
       "8 2019-08-09     A       617\n",
       "9 2019-08-10     A       406"
      ]
     },
     "metadata": {},
     "output_type": "display_data"
    },
    {
     "name": "stdout",
     "output_type": "stream",
     "text": [
      "<class 'pandas.core.frame.DataFrame'>\n",
      "RangeIndex: 62 entries, 0 to 61\n",
      "Data columns (total 3 columns):\n",
      "date        62 non-null datetime64[ns]\n",
      "group       62 non-null object\n",
      "visitors    62 non-null int64\n",
      "dtypes: datetime64[ns](1), int64(1), object(1)\n",
      "memory usage: 1.6+ KB\n",
      "\n",
      "Дубликатов в таблице: 0\n",
      "\n"
     ]
    }
   ],
   "source": [
    "file_list = [hypothesis, orders, visitors]\n",
    "names = ['Hypothesis', 'Orders', 'Visitors']\n",
    "\n",
    "for data, name in zip(file_list, names):\n",
    "    print('\\033[1m'+ name)\n",
    "    display(data.head(10))\n",
    "    data.info()\n",
    "    print()\n",
    "    print('Дубликатов в таблице: {}'.format(data.duplicated().sum()))\n",
    "    print()"
   ]
  },
  {
   "cell_type": "markdown",
   "metadata": {},
   "source": [
    "**Вывод.** Во всех трех таблицах дубликатов или пропусков не обнаружено.\n",
    "\n",
    "Необходимо обработать названия столбцов таблиц hypothesis (привести к нижнему регистру) и orders (использовав нижнее подчеркивание в качестве пробелов)."
   ]
  },
  {
   "cell_type": "markdown",
   "metadata": {},
   "source": [
    "### Обработка типов и названий переменных"
   ]
  },
  {
   "cell_type": "markdown",
   "metadata": {},
   "source": [
    "Приведем названия столбцов к универсальному формату:"
   ]
  },
  {
   "cell_type": "code",
   "execution_count": 4,
   "metadata": {},
   "outputs": [],
   "source": [
    "hypothesis.columns = hypothesis.columns.str.lower()\n",
    "orders.columns = ['transaction_id', 'visitor_id', 'date', 'revenue', 'group']"
   ]
  },
  {
   "cell_type": "markdown",
   "metadata": {},
   "source": [
    "### Проверка аномалий в данных"
   ]
  },
  {
   "cell_type": "code",
   "execution_count": 5,
   "metadata": {},
   "outputs": [
    {
     "name": "stdout",
     "output_type": "stream",
     "text": [
      "Группы orders: ['B' 'A']\n",
      "Группы visitors: ['A' 'B']\n"
     ]
    }
   ],
   "source": [
    "print('Группы orders:', orders['group'].unique())\n",
    "print('Группы visitors:', visitors['group'].unique())"
   ]
  },
  {
   "cell_type": "markdown",
   "metadata": {},
   "source": [
    "Группирующие переменные, обозначающие контрольную и экспериментальную группы, закодированы корректно."
   ]
  },
  {
   "cell_type": "markdown",
   "metadata": {},
   "source": [
    "Изучим основные характеристики распределения количественных переменных и дат:"
   ]
  },
  {
   "cell_type": "code",
   "execution_count": 6,
   "metadata": {},
   "outputs": [
    {
     "data": {
      "text/html": [
       "<div>\n",
       "<style scoped>\n",
       "    .dataframe tbody tr th:only-of-type {\n",
       "        vertical-align: middle;\n",
       "    }\n",
       "\n",
       "    .dataframe tbody tr th {\n",
       "        vertical-align: top;\n",
       "    }\n",
       "\n",
       "    .dataframe thead th {\n",
       "        text-align: right;\n",
       "    }\n",
       "</style>\n",
       "<table border=\"1\" class=\"dataframe\">\n",
       "  <thead>\n",
       "    <tr style=\"text-align: right;\">\n",
       "      <th></th>\n",
       "      <th>count</th>\n",
       "      <th>unique</th>\n",
       "      <th>top</th>\n",
       "      <th>freq</th>\n",
       "      <th>first</th>\n",
       "      <th>last</th>\n",
       "    </tr>\n",
       "    <tr>\n",
       "      <th>group</th>\n",
       "      <th></th>\n",
       "      <th></th>\n",
       "      <th></th>\n",
       "      <th></th>\n",
       "      <th></th>\n",
       "      <th></th>\n",
       "    </tr>\n",
       "  </thead>\n",
       "  <tbody>\n",
       "    <tr>\n",
       "      <td>A</td>\n",
       "      <td>31</td>\n",
       "      <td>31</td>\n",
       "      <td>2019-08-02</td>\n",
       "      <td>1</td>\n",
       "      <td>2019-08-01</td>\n",
       "      <td>2019-08-31</td>\n",
       "    </tr>\n",
       "    <tr>\n",
       "      <td>B</td>\n",
       "      <td>31</td>\n",
       "      <td>31</td>\n",
       "      <td>2019-08-02</td>\n",
       "      <td>1</td>\n",
       "      <td>2019-08-01</td>\n",
       "      <td>2019-08-31</td>\n",
       "    </tr>\n",
       "  </tbody>\n",
       "</table>\n",
       "</div>"
      ],
      "text/plain": [
       "      count unique        top freq      first       last\n",
       "group                                                   \n",
       "A        31     31 2019-08-02    1 2019-08-01 2019-08-31\n",
       "B        31     31 2019-08-02    1 2019-08-01 2019-08-31"
      ]
     },
     "metadata": {},
     "output_type": "display_data"
    },
    {
     "data": {
      "text/html": [
       "<div>\n",
       "<style scoped>\n",
       "    .dataframe tbody tr th:only-of-type {\n",
       "        vertical-align: middle;\n",
       "    }\n",
       "\n",
       "    .dataframe tbody tr th {\n",
       "        vertical-align: top;\n",
       "    }\n",
       "\n",
       "    .dataframe thead th {\n",
       "        text-align: right;\n",
       "    }\n",
       "</style>\n",
       "<table border=\"1\" class=\"dataframe\">\n",
       "  <thead>\n",
       "    <tr style=\"text-align: right;\">\n",
       "      <th></th>\n",
       "      <th>count</th>\n",
       "      <th>unique</th>\n",
       "      <th>top</th>\n",
       "      <th>freq</th>\n",
       "      <th>first</th>\n",
       "      <th>last</th>\n",
       "    </tr>\n",
       "    <tr>\n",
       "      <th>group</th>\n",
       "      <th></th>\n",
       "      <th></th>\n",
       "      <th></th>\n",
       "      <th></th>\n",
       "      <th></th>\n",
       "      <th></th>\n",
       "    </tr>\n",
       "  </thead>\n",
       "  <tbody>\n",
       "    <tr>\n",
       "      <td>A</td>\n",
       "      <td>557</td>\n",
       "      <td>31</td>\n",
       "      <td>2019-08-27</td>\n",
       "      <td>28</td>\n",
       "      <td>2019-08-01</td>\n",
       "      <td>2019-08-31</td>\n",
       "    </tr>\n",
       "    <tr>\n",
       "      <td>B</td>\n",
       "      <td>640</td>\n",
       "      <td>31</td>\n",
       "      <td>2019-08-15</td>\n",
       "      <td>31</td>\n",
       "      <td>2019-08-01</td>\n",
       "      <td>2019-08-31</td>\n",
       "    </tr>\n",
       "  </tbody>\n",
       "</table>\n",
       "</div>"
      ],
      "text/plain": [
       "      count unique        top freq      first       last\n",
       "group                                                   \n",
       "A       557     31 2019-08-27   28 2019-08-01 2019-08-31\n",
       "B       640     31 2019-08-15   31 2019-08-01 2019-08-31"
      ]
     },
     "metadata": {},
     "output_type": "display_data"
    },
    {
     "data": {
      "text/html": [
       "<div>\n",
       "<style scoped>\n",
       "    .dataframe tbody tr th:only-of-type {\n",
       "        vertical-align: middle;\n",
       "    }\n",
       "\n",
       "    .dataframe tbody tr th {\n",
       "        vertical-align: top;\n",
       "    }\n",
       "\n",
       "    .dataframe thead th {\n",
       "        text-align: right;\n",
       "    }\n",
       "</style>\n",
       "<table border=\"1\" class=\"dataframe\">\n",
       "  <thead>\n",
       "    <tr style=\"text-align: right;\">\n",
       "      <th></th>\n",
       "      <th>count</th>\n",
       "      <th>mean</th>\n",
       "      <th>std</th>\n",
       "      <th>min</th>\n",
       "      <th>25%</th>\n",
       "      <th>50%</th>\n",
       "      <th>75%</th>\n",
       "      <th>max</th>\n",
       "    </tr>\n",
       "    <tr>\n",
       "      <th>group</th>\n",
       "      <th></th>\n",
       "      <th></th>\n",
       "      <th></th>\n",
       "      <th></th>\n",
       "      <th></th>\n",
       "      <th></th>\n",
       "      <th></th>\n",
       "      <th></th>\n",
       "    </tr>\n",
       "  </thead>\n",
       "  <tbody>\n",
       "    <tr>\n",
       "      <td>A</td>\n",
       "      <td>31.0</td>\n",
       "      <td>604.0</td>\n",
       "      <td>112.0</td>\n",
       "      <td>361.0</td>\n",
       "      <td>541.0</td>\n",
       "      <td>619.0</td>\n",
       "      <td>705.0</td>\n",
       "      <td>756.0</td>\n",
       "    </tr>\n",
       "    <tr>\n",
       "      <td>B</td>\n",
       "      <td>31.0</td>\n",
       "      <td>610.0</td>\n",
       "      <td>118.0</td>\n",
       "      <td>369.0</td>\n",
       "      <td>537.0</td>\n",
       "      <td>654.0</td>\n",
       "      <td>711.0</td>\n",
       "      <td>770.0</td>\n",
       "    </tr>\n",
       "  </tbody>\n",
       "</table>\n",
       "</div>"
      ],
      "text/plain": [
       "       count   mean    std    min    25%    50%    75%    max\n",
       "group                                                        \n",
       "A       31.0  604.0  112.0  361.0  541.0  619.0  705.0  756.0\n",
       "B       31.0  610.0  118.0  369.0  537.0  654.0  711.0  770.0"
      ]
     },
     "metadata": {},
     "output_type": "display_data"
    },
    {
     "data": {
      "text/html": [
       "<div>\n",
       "<style scoped>\n",
       "    .dataframe tbody tr th:only-of-type {\n",
       "        vertical-align: middle;\n",
       "    }\n",
       "\n",
       "    .dataframe tbody tr th {\n",
       "        vertical-align: top;\n",
       "    }\n",
       "\n",
       "    .dataframe thead th {\n",
       "        text-align: right;\n",
       "    }\n",
       "</style>\n",
       "<table border=\"1\" class=\"dataframe\">\n",
       "  <thead>\n",
       "    <tr style=\"text-align: right;\">\n",
       "      <th></th>\n",
       "      <th>count</th>\n",
       "      <th>mean</th>\n",
       "      <th>std</th>\n",
       "      <th>min</th>\n",
       "      <th>25%</th>\n",
       "      <th>50%</th>\n",
       "      <th>75%</th>\n",
       "      <th>max</th>\n",
       "    </tr>\n",
       "    <tr>\n",
       "      <th>group</th>\n",
       "      <th></th>\n",
       "      <th></th>\n",
       "      <th></th>\n",
       "      <th></th>\n",
       "      <th></th>\n",
       "      <th></th>\n",
       "      <th></th>\n",
       "      <th></th>\n",
       "    </tr>\n",
       "  </thead>\n",
       "  <tbody>\n",
       "    <tr>\n",
       "      <td>A</td>\n",
       "      <td>557.0</td>\n",
       "      <td>7334.0</td>\n",
       "      <td>11848.0</td>\n",
       "      <td>50.0</td>\n",
       "      <td>1188.0</td>\n",
       "      <td>3000.0</td>\n",
       "      <td>8280.0</td>\n",
       "      <td>93940.0</td>\n",
       "    </tr>\n",
       "    <tr>\n",
       "      <td>B</td>\n",
       "      <td>640.0</td>\n",
       "      <td>9231.0</td>\n",
       "      <td>52450.0</td>\n",
       "      <td>50.0</td>\n",
       "      <td>1312.0</td>\n",
       "      <td>2965.0</td>\n",
       "      <td>8355.0</td>\n",
       "      <td>1294500.0</td>\n",
       "    </tr>\n",
       "  </tbody>\n",
       "</table>\n",
       "</div>"
      ],
      "text/plain": [
       "       count    mean      std   min     25%     50%     75%        max\n",
       "group                                                                 \n",
       "A      557.0  7334.0  11848.0  50.0  1188.0  3000.0  8280.0    93940.0\n",
       "B      640.0  9231.0  52450.0  50.0  1312.0  2965.0  8355.0  1294500.0"
      ]
     },
     "metadata": {},
     "output_type": "display_data"
    },
    {
     "data": {
      "text/plain": [
       "group\n",
       "A    18736\n",
       "B    18916\n",
       "Name: visitors, dtype: int64"
      ]
     },
     "metadata": {},
     "output_type": "display_data"
    }
   ],
   "source": [
    "display(visitors.groupby('group')['date'].describe())\n",
    "display(orders.groupby('group')['date'].describe())\n",
    "display(visitors.groupby('group')['visitors'].describe().round())\n",
    "display(orders.groupby('group')['revenue'].describe().round())\n",
    "\n",
    "display(visitors.groupby('group')['visitors'].sum())"
   ]
  },
  {
   "cell_type": "markdown",
   "metadata": {},
   "source": [
    "**Вывод.** Контрольная и экспериментальная группы сбалансированы по времени и числу наблюдений: эксперимент продолжался ровно один месяц, в контрольной группе накоплена информация по 18736 визитам, в экспериментальной - по 18916 визитам. Соотношение числа заказов составляет 557 и 640 соответственно.\n",
    "\n",
    "Распределение ежедневного числа визитов в обеих группах смещено влево (средние значения меньше медианы), при этом явно выбивающихся значений нет.\n",
    "\n",
    "Распределение выручки существенно смещено вправо (среднее превышает медиану более чем в 2 раза), есть выбивающиеся максимальные значения в обеих группах. Влияние данных выбросов на распределение необходимо учитывать при дальнейшем анализе результатов A/B-теста."
   ]
  },
  {
   "cell_type": "markdown",
   "metadata": {},
   "source": [
    "## Приоритизация гипотез. ##"
   ]
  },
  {
   "cell_type": "markdown",
   "metadata": {},
   "source": [
    "### Приоритизация ICE"
   ]
  },
  {
   "cell_type": "markdown",
   "metadata": {},
   "source": [
    "Приоритизируем гипотезы с применением фреймворка ICE:"
   ]
  },
  {
   "cell_type": "code",
   "execution_count": 7,
   "metadata": {},
   "outputs": [
    {
     "data": {
      "text/html": [
       "<div>\n",
       "<style scoped>\n",
       "    .dataframe tbody tr th:only-of-type {\n",
       "        vertical-align: middle;\n",
       "    }\n",
       "\n",
       "    .dataframe tbody tr th {\n",
       "        vertical-align: top;\n",
       "    }\n",
       "\n",
       "    .dataframe thead th {\n",
       "        text-align: right;\n",
       "    }\n",
       "</style>\n",
       "<table border=\"1\" class=\"dataframe\">\n",
       "  <thead>\n",
       "    <tr style=\"text-align: right;\">\n",
       "      <th></th>\n",
       "      <th>hypothesis</th>\n",
       "      <th>ice</th>\n",
       "    </tr>\n",
       "  </thead>\n",
       "  <tbody>\n",
       "    <tr>\n",
       "      <td>8</td>\n",
       "      <td>Запустить акцию, дающую скидку на товар в день...</td>\n",
       "      <td>16.20</td>\n",
       "    </tr>\n",
       "    <tr>\n",
       "      <td>0</td>\n",
       "      <td>Добавить два новых канала привлечения трафика,...</td>\n",
       "      <td>13.33</td>\n",
       "    </tr>\n",
       "    <tr>\n",
       "      <td>7</td>\n",
       "      <td>Добавить форму подписки на все основные страни...</td>\n",
       "      <td>11.20</td>\n",
       "    </tr>\n",
       "    <tr>\n",
       "      <td>6</td>\n",
       "      <td>Показать на главной странице баннеры с актуаль...</td>\n",
       "      <td>8.00</td>\n",
       "    </tr>\n",
       "    <tr>\n",
       "      <td>2</td>\n",
       "      <td>Добавить блоки рекомендаций товаров на сайт ин...</td>\n",
       "      <td>7.00</td>\n",
       "    </tr>\n",
       "    <tr>\n",
       "      <td>1</td>\n",
       "      <td>Запустить собственную службу доставки, что сок...</td>\n",
       "      <td>2.00</td>\n",
       "    </tr>\n",
       "    <tr>\n",
       "      <td>5</td>\n",
       "      <td>Добавить страницу отзывов клиентов о магазине,...</td>\n",
       "      <td>1.33</td>\n",
       "    </tr>\n",
       "    <tr>\n",
       "      <td>3</td>\n",
       "      <td>Изменить структура категорий, что увеличит кон...</td>\n",
       "      <td>1.12</td>\n",
       "    </tr>\n",
       "    <tr>\n",
       "      <td>4</td>\n",
       "      <td>Изменить цвет фона главной страницы, чтобы уве...</td>\n",
       "      <td>1.00</td>\n",
       "    </tr>\n",
       "  </tbody>\n",
       "</table>\n",
       "</div>"
      ],
      "text/plain": [
       "                                          hypothesis    ice\n",
       "8  Запустить акцию, дающую скидку на товар в день...  16.20\n",
       "0  Добавить два новых канала привлечения трафика,...  13.33\n",
       "7  Добавить форму подписки на все основные страни...  11.20\n",
       "6  Показать на главной странице баннеры с актуаль...   8.00\n",
       "2  Добавить блоки рекомендаций товаров на сайт ин...   7.00\n",
       "1  Запустить собственную службу доставки, что сок...   2.00\n",
       "5  Добавить страницу отзывов клиентов о магазине,...   1.33\n",
       "3  Изменить структура категорий, что увеличит кон...   1.12\n",
       "4  Изменить цвет фона главной страницы, чтобы уве...   1.00"
      ]
     },
     "metadata": {},
     "output_type": "display_data"
    }
   ],
   "source": [
    "hypothesis['ice'] = (hypothesis['impact']*hypothesis['confidence']/hypothesis['efforts']).round(2)\n",
    "display(hypothesis[['hypothesis','ice']].sort_values(by='ice', ascending=False))"
   ]
  },
  {
   "cell_type": "markdown",
   "metadata": {},
   "source": [
    "**Вывод.** Наиболее приоритетными по соотношению факторов влияния на пользователей, уверенности в оценке влияния, а также затрат на реализацию являются гипотезы:\n",
    "- Запустить акцию, дающую скидку на товар в день рождения\n",
    "- Добавить два новых канала привлечения трафика, что позволит привлекать на 30% больше пользователей\n",
    "- Добавить форму подписки на все основные страницы, чтобы собрать базу клиентов для email-рассылок"
   ]
  },
  {
   "cell_type": "markdown",
   "metadata": {},
   "source": [
    "### Приоритизация RICE"
   ]
  },
  {
   "cell_type": "markdown",
   "metadata": {},
   "source": [
    "Приоритизируем гипотезы с применением фреймворка RICE и проиллюстрируем отличия от рейтинга по методике ICE на графике:"
   ]
  },
  {
   "cell_type": "code",
   "execution_count": 8,
   "metadata": {},
   "outputs": [
    {
     "data": {
      "text/html": [
       "<div>\n",
       "<style scoped>\n",
       "    .dataframe tbody tr th:only-of-type {\n",
       "        vertical-align: middle;\n",
       "    }\n",
       "\n",
       "    .dataframe tbody tr th {\n",
       "        vertical-align: top;\n",
       "    }\n",
       "\n",
       "    .dataframe thead th {\n",
       "        text-align: right;\n",
       "    }\n",
       "</style>\n",
       "<table border=\"1\" class=\"dataframe\">\n",
       "  <thead>\n",
       "    <tr style=\"text-align: right;\">\n",
       "      <th></th>\n",
       "      <th>hypothesis</th>\n",
       "      <th>rice</th>\n",
       "    </tr>\n",
       "  </thead>\n",
       "  <tbody>\n",
       "    <tr>\n",
       "      <td>7</td>\n",
       "      <td>Добавить форму подписки на все основные страни...</td>\n",
       "      <td>112.0</td>\n",
       "    </tr>\n",
       "    <tr>\n",
       "      <td>2</td>\n",
       "      <td>Добавить блоки рекомендаций товаров на сайт ин...</td>\n",
       "      <td>56.0</td>\n",
       "    </tr>\n",
       "    <tr>\n",
       "      <td>0</td>\n",
       "      <td>Добавить два новых канала привлечения трафика,...</td>\n",
       "      <td>40.0</td>\n",
       "    </tr>\n",
       "    <tr>\n",
       "      <td>6</td>\n",
       "      <td>Показать на главной странице баннеры с актуаль...</td>\n",
       "      <td>40.0</td>\n",
       "    </tr>\n",
       "    <tr>\n",
       "      <td>8</td>\n",
       "      <td>Запустить акцию, дающую скидку на товар в день...</td>\n",
       "      <td>16.2</td>\n",
       "    </tr>\n",
       "    <tr>\n",
       "      <td>3</td>\n",
       "      <td>Изменить структура категорий, что увеличит кон...</td>\n",
       "      <td>9.0</td>\n",
       "    </tr>\n",
       "    <tr>\n",
       "      <td>1</td>\n",
       "      <td>Запустить собственную службу доставки, что сок...</td>\n",
       "      <td>4.0</td>\n",
       "    </tr>\n",
       "    <tr>\n",
       "      <td>5</td>\n",
       "      <td>Добавить страницу отзывов клиентов о магазине,...</td>\n",
       "      <td>4.0</td>\n",
       "    </tr>\n",
       "    <tr>\n",
       "      <td>4</td>\n",
       "      <td>Изменить цвет фона главной страницы, чтобы уве...</td>\n",
       "      <td>3.0</td>\n",
       "    </tr>\n",
       "  </tbody>\n",
       "</table>\n",
       "</div>"
      ],
      "text/plain": [
       "                                          hypothesis   rice\n",
       "7  Добавить форму подписки на все основные страни...  112.0\n",
       "2  Добавить блоки рекомендаций товаров на сайт ин...   56.0\n",
       "0  Добавить два новых канала привлечения трафика,...   40.0\n",
       "6  Показать на главной странице баннеры с актуаль...   40.0\n",
       "8  Запустить акцию, дающую скидку на товар в день...   16.2\n",
       "3  Изменить структура категорий, что увеличит кон...    9.0\n",
       "1  Запустить собственную службу доставки, что сок...    4.0\n",
       "5  Добавить страницу отзывов клиентов о магазине,...    4.0\n",
       "4  Изменить цвет фона главной страницы, чтобы уве...    3.0"
      ]
     },
     "metadata": {},
     "output_type": "display_data"
    }
   ],
   "source": [
    "hypothesis['rice'] = (hypothesis['reach']*hypothesis['impact']*hypothesis['confidence']\n",
    "                      /hypothesis['efforts']).round(2)\n",
    "display(hypothesis[['hypothesis','rice']].sort_values(by='rice', ascending=False))"
   ]
  },
  {
   "cell_type": "code",
   "execution_count": 9,
   "metadata": {},
   "outputs": [
    {
     "data": {
      "image/png": "[encoded data removed]",
      "text/plain": [
       "<Figure size 1080x1080 with 1 Axes>"
      ]
     },
     "metadata": {},
     "output_type": "display_data"
    }
   ],
   "source": [
    "sns.set_style('darkgrid')\n",
    "sns.set_palette('Set2')\n",
    "hypothesis.sort_values(by='rice', ascending=True).plot(\n",
    "    kind='barh', x=\"hypothesis\", y=[\"ice\", \"rice\"], figsize=(15,15))\n",
    "plt.xlabel(\"score\", fontsize=20)\n",
    "plt.ylabel(\"hypothesis\", fontsize=20)\n",
    "plt.yticks(fontsize=20)\n",
    "plt.legend(fontsize=20)\n",
    "plt.title('Hypothesis priority', fontsize=20)\n",
    "plt.show()"
   ]
  },
  {
   "cell_type": "markdown",
   "metadata": {},
   "source": [
    "**Вывод.** \n",
    "При применении фреймворка RICE вместо ICE состав ТОП-5 гипотез остался прежним, однако их позиции в рейтинге изменились.\n",
    "\n",
    "Лидирующими оказались гипотезы:\n",
    "- Гипотеза \"Добавить форму подписки на все основные страницы, чтобы собрать базу клиентов для email-рассылок\" переместилась с 3 на 1 место за счет большего охвата аудитории\n",
    "- Гипотеза \"Добавить блоки рекомендаций товаров на сайт интернет магазина, чтобы повысить конверсию и средний чек заказа\" переместилась с 5 на 2 место\n",
    "- 3 место разделили гипотезы \"Добавить два новых канала привлечения трафика, что позволит привлекать на 30% больше пользователей\" и \"Показать на главной странице баннеры с актуальными акциями и распродажами, чтобы увеличить конверсию\"\n",
    "\n",
    "Гипотеза \"Запустить акцию, дающую скидку на товар в день рождения\" понизилась в приоритетности из-за малого охвата аудитории.\n",
    "\n",
    "Не приоритетными по всей совокупности критериев в обоих случаях оказались гипотезы:\n",
    "- Добавить страницу отзывов клиентов о магазине, что позволит увеличить количество заказов (низкий охват и влияние)\n",
    "- Изменить структуру категорий, что увеличит конверсию, т.к. пользователи быстрее найдут нужный товар (дорого)\n",
    "- Изменить цвет фона главной страницы, чтобы увеличить вовлеченность пользователей (минимальный охват и влияние)\n",
    "- Запустить собственную службу доставки, что сократит срок доставки заказов (дорого и непредсказуемо)"
   ]
  },
  {
   "cell_type": "markdown",
   "metadata": {},
   "source": [
    "## Анализ A/B-теста ##"
   ]
  },
  {
   "cell_type": "markdown",
   "metadata": {},
   "source": [
    "Подготовим данные для дальнейшего анализа: создадим сводную таблицу, содержащую ежедневные и накопленные значения метрик визитов, уникальных посетителей, числа заказов, выручки и конверсии для каждой группы."
   ]
  },
  {
   "cell_type": "code",
   "execution_count": 10,
   "metadata": {},
   "outputs": [
    {
     "data": {
      "text/html": [
       "<div>\n",
       "<style scoped>\n",
       "    .dataframe tbody tr th:only-of-type {\n",
       "        vertical-align: middle;\n",
       "    }\n",
       "\n",
       "    .dataframe tbody tr th {\n",
       "        vertical-align: top;\n",
       "    }\n",
       "\n",
       "    .dataframe thead th {\n",
       "        text-align: right;\n",
       "    }\n",
       "</style>\n",
       "<table border=\"1\" class=\"dataframe\">\n",
       "  <thead>\n",
       "    <tr style=\"text-align: right;\">\n",
       "      <th></th>\n",
       "      <th>date</th>\n",
       "      <th>revenue_A</th>\n",
       "      <th>revenue_B</th>\n",
       "      <th>orders_A</th>\n",
       "      <th>orders_B</th>\n",
       "      <th>unique_visitors_A</th>\n",
       "      <th>unique_visitors_B</th>\n",
       "      <th>visitors_A</th>\n",
       "      <th>visitors_B</th>\n",
       "      <th>orders_cum_A</th>\n",
       "      <th>orders_cum_B</th>\n",
       "      <th>revenue_cum_A</th>\n",
       "      <th>revenue_cum_B</th>\n",
       "      <th>visitors_cum_A</th>\n",
       "      <th>visitors_cum_B</th>\n",
       "      <th>conversion_A</th>\n",
       "      <th>conversion_B</th>\n",
       "    </tr>\n",
       "  </thead>\n",
       "  <tbody>\n",
       "    <tr>\n",
       "      <td>0</td>\n",
       "      <td>2019-08-01</td>\n",
       "      <td>148579</td>\n",
       "      <td>101217</td>\n",
       "      <td>24</td>\n",
       "      <td>21</td>\n",
       "      <td>20</td>\n",
       "      <td>20</td>\n",
       "      <td>719</td>\n",
       "      <td>713</td>\n",
       "      <td>24</td>\n",
       "      <td>21</td>\n",
       "      <td>148579</td>\n",
       "      <td>101217</td>\n",
       "      <td>719</td>\n",
       "      <td>713</td>\n",
       "      <td>0.033380</td>\n",
       "      <td>0.029453</td>\n",
       "    </tr>\n",
       "    <tr>\n",
       "      <td>1</td>\n",
       "      <td>2019-08-02</td>\n",
       "      <td>93822</td>\n",
       "      <td>165531</td>\n",
       "      <td>20</td>\n",
       "      <td>24</td>\n",
       "      <td>19</td>\n",
       "      <td>23</td>\n",
       "      <td>619</td>\n",
       "      <td>581</td>\n",
       "      <td>44</td>\n",
       "      <td>45</td>\n",
       "      <td>242401</td>\n",
       "      <td>266748</td>\n",
       "      <td>1338</td>\n",
       "      <td>1294</td>\n",
       "      <td>0.032885</td>\n",
       "      <td>0.034776</td>\n",
       "    </tr>\n",
       "    <tr>\n",
       "      <td>2</td>\n",
       "      <td>2019-08-03</td>\n",
       "      <td>112473</td>\n",
       "      <td>114248</td>\n",
       "      <td>24</td>\n",
       "      <td>16</td>\n",
       "      <td>24</td>\n",
       "      <td>16</td>\n",
       "      <td>507</td>\n",
       "      <td>509</td>\n",
       "      <td>68</td>\n",
       "      <td>61</td>\n",
       "      <td>354874</td>\n",
       "      <td>380996</td>\n",
       "      <td>1845</td>\n",
       "      <td>1803</td>\n",
       "      <td>0.036856</td>\n",
       "      <td>0.033833</td>\n",
       "    </tr>\n",
       "    <tr>\n",
       "      <td>3</td>\n",
       "      <td>2019-08-04</td>\n",
       "      <td>70825</td>\n",
       "      <td>108571</td>\n",
       "      <td>16</td>\n",
       "      <td>17</td>\n",
       "      <td>15</td>\n",
       "      <td>16</td>\n",
       "      <td>717</td>\n",
       "      <td>770</td>\n",
       "      <td>84</td>\n",
       "      <td>78</td>\n",
       "      <td>425699</td>\n",
       "      <td>489567</td>\n",
       "      <td>2562</td>\n",
       "      <td>2573</td>\n",
       "      <td>0.032787</td>\n",
       "      <td>0.030315</td>\n",
       "    </tr>\n",
       "    <tr>\n",
       "      <td>4</td>\n",
       "      <td>2019-08-05</td>\n",
       "      <td>124218</td>\n",
       "      <td>92428</td>\n",
       "      <td>25</td>\n",
       "      <td>23</td>\n",
       "      <td>25</td>\n",
       "      <td>23</td>\n",
       "      <td>756</td>\n",
       "      <td>707</td>\n",
       "      <td>109</td>\n",
       "      <td>101</td>\n",
       "      <td>549917</td>\n",
       "      <td>581995</td>\n",
       "      <td>3318</td>\n",
       "      <td>3280</td>\n",
       "      <td>0.032851</td>\n",
       "      <td>0.030793</td>\n",
       "    </tr>\n",
       "  </tbody>\n",
       "</table>\n",
       "</div>"
      ],
      "text/plain": [
       "        date  revenue_A  revenue_B  orders_A  orders_B  unique_visitors_A  \\\n",
       "0 2019-08-01     148579     101217        24        21                 20   \n",
       "1 2019-08-02      93822     165531        20        24                 19   \n",
       "2 2019-08-03     112473     114248        24        16                 24   \n",
       "3 2019-08-04      70825     108571        16        17                 15   \n",
       "4 2019-08-05     124218      92428        25        23                 25   \n",
       "\n",
       "   unique_visitors_B  visitors_A  visitors_B  orders_cum_A  orders_cum_B  \\\n",
       "0                 20         719         713            24            21   \n",
       "1                 23         619         581            44            45   \n",
       "2                 16         507         509            68            61   \n",
       "3                 16         717         770            84            78   \n",
       "4                 23         756         707           109           101   \n",
       "\n",
       "   revenue_cum_A  revenue_cum_B  visitors_cum_A  visitors_cum_B  conversion_A  \\\n",
       "0         148579         101217             719             713      0.033380   \n",
       "1         242401         266748            1338            1294      0.032885   \n",
       "2         354874         380996            1845            1803      0.036856   \n",
       "3         425699         489567            2562            2573      0.032787   \n",
       "4         549917         581995            3318            3280      0.032851   \n",
       "\n",
       "   conversion_B  \n",
       "0      0.029453  \n",
       "1      0.034776  \n",
       "2      0.033833  \n",
       "3      0.030315  \n",
       "4      0.030793  "
      ]
     },
     "execution_count": 10,
     "metadata": {},
     "output_type": "execute_result"
    }
   ],
   "source": [
    "orders_agg = orders.pivot_table(\n",
    "    index='date', \n",
    "    columns = 'group', \n",
    "    values=['revenue', 'visitor_id', 'transaction_id'], \n",
    "    aggfunc=({'transaction_id': pd.Series.nunique,\n",
    "          'visitor_id': pd.Series.nunique,\n",
    "          'revenue': 'sum'})\n",
    "   ).reset_index()\n",
    "\n",
    "orders_agg.columns = ['date', 'revenue_A', 'revenue_B', 'orders_A', 'orders_B', \n",
    "                'unique_visitors_A', 'unique_visitors_B']\n",
    "\n",
    "visitors_agg = visitors.pivot_table(\n",
    "    index='date', \n",
    "    columns = 'group', \n",
    "    values=['visitors'], \n",
    "    aggfunc='sum').reset_index()\n",
    "\n",
    "visitors_agg.columns = ['date','visitors_A', 'visitors_B']\n",
    "\n",
    "merge = orders_agg.merge(visitors_agg, left_on='date', right_on='date', how='left')\n",
    "\n",
    "\n",
    "merge['orders_cum_A'] = merge[('orders_A')].cumsum(axis=0)\n",
    "merge['orders_cum_B'] = merge[('orders_B')].cumsum(axis=0)\n",
    "merge['revenue_cum_A'] = merge[('revenue_A')].cumsum(axis=0)\n",
    "merge['revenue_cum_B'] = merge[('revenue_B')].cumsum(axis=0)\n",
    "merge['visitors_cum_A'] = merge['visitors_A'].cumsum(axis=0)\n",
    "merge['visitors_cum_B'] = merge['visitors_B'].cumsum(axis=0)\n",
    "merge['conversion_A'] = merge['orders_cum_A']/merge['visitors_cum_A']\n",
    "merge['conversion_B'] = merge['orders_cum_B']/merge['visitors_cum_B']\n",
    "\n",
    "\n",
    "merge.head()"
   ]
  },
  {
   "cell_type": "markdown",
   "metadata": {},
   "source": [
    "### График кумулятивной выручки по группам"
   ]
  },
  {
   "cell_type": "markdown",
   "metadata": {},
   "source": [
    "Начнем анализ результатов A/B-теста с построения графика кумулятивной выручки по группам."
   ]
  },
  {
   "cell_type": "code",
   "execution_count": 11,
   "metadata": {},
   "outputs": [
    {
     "data": {
      "image/png": "[encoded data removed]",
      "text/plain": [
       "<Figure size 1008x504 with 1 Axes>"
      ]
     },
     "metadata": {},
     "output_type": "display_data"
    }
   ],
   "source": [
    "plt.figure(figsize=(14,7))\n",
    "sns.set_style('darkgrid')\n",
    "sns.set_palette('Set2')\n",
    "sns.lineplot(data=merge, x=\"date\", y=\"revenue_cum_A\", palette=\"tab10\")\n",
    "sns.lineplot(data=merge, x=\"date\", y=\"revenue_cum_B\", palette=\"tab10\")\n",
    "plt.legend(['revenue_cum_A', 'revenue_cum_B'])\n",
    "plt.xlabel(\"date\")\n",
    "plt.ylabel(\"revenue\")\n",
    "plt.title('Cumilative revenue', fontsize=14)\n",
    "plt.show()"
   ]
  },
  {
   "cell_type": "markdown",
   "metadata": {},
   "source": [
    "**Вывод.** В целом выручка почти равномерно увеличивалась в течение всего теста. Начиная с 5 дня эксперимента группа B опережала контрольную группу по накопленной выручке, а с 13 дня разрыв увеличился, достигнув к концу теста значения, близкого к 6000000 (против 4000000 в контрольной группе). Однако резкий скачок графика выручки экспериментальной группы может сигнализировать о всплесках числа заказов, либо о появлении очень дорогих заказов в выборке."
   ]
  },
  {
   "cell_type": "markdown",
   "metadata": {},
   "source": [
    "### График кумулятивного среднего чека по группам"
   ]
  },
  {
   "cell_type": "markdown",
   "metadata": {},
   "source": [
    "Построим график кумулятивного среднего чека по группам."
   ]
  },
  {
   "cell_type": "code",
   "execution_count": 12,
   "metadata": {},
   "outputs": [
    {
     "data": {
      "image/png": "[encoded data removed]",
      "text/plain": [
       "<Figure size 1008x504 with 1 Axes>"
      ]
     },
     "metadata": {},
     "output_type": "display_data"
    }
   ],
   "source": [
    "merge['avg_check_cum_A']= merge['revenue_cum_A']/merge['orders_cum_A']\n",
    "merge['avg_check_cum_B']= merge['revenue_cum_B']/merge['orders_cum_B']\n",
    "\n",
    "plt.figure(figsize=(14,7))\n",
    "sns.set_style('darkgrid')\n",
    "sns.set_palette('Set2')\n",
    "sns.lineplot(data=merge, x=\"date\", y=\"avg_check_cum_A\", legend=\"full\", palette=\"tab10\")\n",
    "sns.lineplot(data=merge, x=\"date\", y=\"avg_check_cum_B\", legend=\"full\", palette=\"tab10\")\n",
    "plt.legend(['avg_check_cum_A', 'avg_check_cum_B'])\n",
    "plt.xlabel(\"date\")\n",
    "plt.ylabel(\"avg_check\")\n",
    "plt.title('Cumilative average check', fontsize=14)\n",
    "plt.show()"
   ]
  },
  {
   "cell_type": "markdown",
   "metadata": {},
   "source": [
    "**Вывод.** Кумулятивное значение среднего чека колебалось на протяжении первой половины теста, однако после 17 дня эксперимента метрика группы B превысила 7000 и вырвалась вперед, что также может быть следствием влияния выбросов."
   ]
  },
  {
   "cell_type": "markdown",
   "metadata": {},
   "source": [
    "Ещё можно отметить, что ближе к концу значения группы А по сути вышли на плато, а вот значения для B всё ещё интенсивно опускаются. (из-за большого выброса, группе B потребуется больше времени для стабилизации значений)."
   ]
  },
  {
   "cell_type": "markdown",
   "metadata": {},
   "source": [
    "### График относительного изменения кумулятивного среднего чека"
   ]
  },
  {
   "cell_type": "markdown",
   "metadata": {},
   "source": [
    "Построим график относительного изменения кумулятивного среднего чека группы B к группе A."
   ]
  },
  {
   "cell_type": "code",
   "execution_count": 13,
   "metadata": {},
   "outputs": [
    {
     "data": {
      "image/png": "[encoded data removed]",
      "text/plain": [
       "<Figure size 1008x504 with 1 Axes>"
      ]
     },
     "metadata": {},
     "output_type": "display_data"
    }
   ],
   "source": [
    "plt.figure(figsize=(14,7))\n",
    "plt.plot(merge['date'], \n",
    "         merge['avg_check_cum_B']/merge['avg_check_cum_A']-1)\n",
    "plt.xlabel(\"date\")\n",
    "plt.ylabel(\"avg_check_ratio\")\n",
    "plt.title('Average check ratio', fontsize=14)\n",
    "plt.axhline(y=0, color='black', linestyle='--') \n",
    "plt.show()"
   ]
  },
  {
   "cell_type": "markdown",
   "metadata": {},
   "source": [
    "**Вывод.** Результаты теста значительно менялись несколько раз и не стабилизировались к концу теста. В целом экспериментальная группа показала лучший результат по метрике в сравнении с контрольной группой."
   ]
  },
  {
   "cell_type": "markdown",
   "metadata": {},
   "source": [
    "### График кумулятивной конверсии по группам"
   ]
  },
  {
   "cell_type": "markdown",
   "metadata": {},
   "source": [
    "Построим график кумулятивной конверсии по группам."
   ]
  },
  {
   "cell_type": "code",
   "execution_count": 14,
   "metadata": {},
   "outputs": [
    {
     "data": {
      "image/png": "[encoded data removed]",
      "text/plain": [
       "<Figure size 1008x504 with 1 Axes>"
      ]
     },
     "metadata": {},
     "output_type": "display_data"
    }
   ],
   "source": [
    "plt.figure(figsize=(14,7))\n",
    "sns.set_style('darkgrid')\n",
    "sns.set_palette('Set2')\n",
    "sns.lineplot(data=merge, x=\"date\", y=\"conversion_A\", legend=\"full\", palette=\"tab10\")\n",
    "sns.lineplot(data=merge, x=\"date\", y=\"conversion_B\", legend=\"full\", palette=\"tab10\")\n",
    "plt.legend(['conversion_A', 'conversion_B'])\n",
    "plt.xlabel(\"date\")\n",
    "plt.ylabel(\"conversion\")\n",
    "plt.title('Cumilative conversion', fontsize=14)\n",
    "plt.show()"
   ]
  },
  {
   "cell_type": "markdown",
   "metadata": {},
   "source": [
    "**Вывод.** В первые 6 дней эксперимента метрики кумулятивной конверсии обеих групп сильно колебались, после чего в экспериментальной группе конверсия существенно выросла и оставалась в диапазоне от 3.4% до 3.6%, в то время как в группе A метрика колебалась между 2.9% и 3.1%. Насколько значимы данные отличия статистически - проверим далее."
   ]
  },
  {
   "cell_type": "markdown",
   "metadata": {},
   "source": [
    "### График относительного изменения кумулятивной конверсии"
   ]
  },
  {
   "cell_type": "markdown",
   "metadata": {},
   "source": [
    "Построим график относительного изменения кумулятивной конверсии группы B к группе A."
   ]
  },
  {
   "cell_type": "code",
   "execution_count": 15,
   "metadata": {},
   "outputs": [
    {
     "data": {
      "image/png": "[encoded data removed]",
      "text/plain": [
       "<Figure size 1008x504 with 1 Axes>"
      ]
     },
     "metadata": {},
     "output_type": "display_data"
    }
   ],
   "source": [
    "plt.figure(figsize=(14,7))\n",
    "plt.plot(merge['date'], \n",
    "         merge['conversion_B']/merge['conversion_A']-1)\n",
    "plt.xlabel(\"date\")\n",
    "plt.ylabel(\"Conversion ratio\")\n",
    "plt.title('Conversion ratio', fontsize=14)\n",
    "plt.axhline(y=0, color='black', linestyle='--') \n",
    "plt.show()"
   ]
  },
  {
   "cell_type": "markdown",
   "metadata": {},
   "source": [
    "**Вывод.** В отличие от среднего чека, конверсия группы B была выше в сравнении с контрольной группой на протяжении большей части теста - начиная с 6 дня эксперимента. Однако нельзя говорить о том, что отношение конверсий стабилизировалось к концу теста."
   ]
  },
  {
   "cell_type": "markdown",
   "metadata": {},
   "source": [
    "### График количества заказов по пользователям"
   ]
  },
  {
   "cell_type": "markdown",
   "metadata": {},
   "source": [
    "Построим точечный график количества заказов по пользователям."
   ]
  },
  {
   "cell_type": "code",
   "execution_count": 16,
   "metadata": {
    "scrolled": false
   },
   "outputs": [
    {
     "data": {
      "image/png": "[encoded data removed]",
      "text/plain": [
       "<Figure size 1008x504 with 1 Axes>"
      ]
     },
     "metadata": {},
     "output_type": "display_data"
    }
   ],
   "source": [
    "ordersByUsers = (\n",
    "    orders.drop(['group', 'revenue', 'date'], axis=1)\n",
    "    .groupby('visitor_id', as_index=False)\n",
    "    .agg({'transaction_id': pd.Series.nunique})\n",
    ")\n",
    "ordersByUsers.columns = ['visitor_id', 'orders']\n",
    "\n",
    "x_values = pd.Series(range(0, len(ordersByUsers)))\n",
    "\n",
    "plt.figure(figsize=(14,7))\n",
    "plt.ylabel(\"Orders by users\")\n",
    "plt.title('orders by users', fontsize=14)\n",
    "plt.yticks(np.arange(0, 12, 1)) \n",
    "plt.scatter(x_values, ordersByUsers['orders']) \n",
    "plt.show()"
   ]
  },
  {
   "cell_type": "markdown",
   "metadata": {},
   "source": [
    "**Вывод.** В данных преобладают пользователи, совершившие не более 4 заказов (чаще всего 1). Отдельные пользователи совершили от 8 до 11 заказов. Вероятно, для корректной интерпретации результатов эксперимента их необходимо исключить из анализа. Для определения границ отсечения выбросов посчитаем выборочные процентили. "
   ]
  },
  {
   "cell_type": "markdown",
   "metadata": {},
   "source": [
    "### 95-й и 99-й перцентили количества заказов на пользователя"
   ]
  },
  {
   "cell_type": "markdown",
   "metadata": {},
   "source": [
    "Посчитаем 95-й и 99-й перцентили количества заказов на пользователя."
   ]
  },
  {
   "cell_type": "code",
   "execution_count": 17,
   "metadata": {},
   "outputs": [
    {
     "name": "stdout",
     "output_type": "stream",
     "text": [
      "[2. 4.]\n"
     ]
    }
   ],
   "source": [
    "print(np.percentile(ordersByUsers['orders'], [95, 99])) "
   ]
  },
  {
   "cell_type": "markdown",
   "metadata": {},
   "source": [
    "Не более 1% пользователей оформляли больше чем 4 заказа. И 5% пользователей заказывали более двух раз."
   ]
  },
  {
   "cell_type": "markdown",
   "metadata": {},
   "source": [
    "### График стоимостей заказов"
   ]
  },
  {
   "cell_type": "markdown",
   "metadata": {},
   "source": [
    "Построим точечный график стоимостей заказов."
   ]
  },
  {
   "cell_type": "code",
   "execution_count": 18,
   "metadata": {},
   "outputs": [
    {
     "data": {
      "image/png": "[encoded data removed]",
      "text/plain": [
       "<Figure size 1008x504 with 1 Axes>"
      ]
     },
     "metadata": {},
     "output_type": "display_data"
    }
   ],
   "source": [
    "x_values = pd.Series(range(0, len(orders['revenue'])))\n",
    "\n",
    "plt.figure(figsize=(14,7))\n",
    "plt.ylabel(\"Revenue\")\n",
    "plt.title('revenue', fontsize=14)\n",
    "plt.scatter(x_values, orders['revenue']) \n",
    "plt.yscale('log')\n",
    "plt.show()"
   ]
  },
  {
   "cell_type": "markdown",
   "metadata": {},
   "source": [
    "**Вывод.** Стоимость почти всех заказов в выборке не превышала 100000. На графике видно как минимум два выброса, которые необходимо исключить из анализа (превышающие 1200000 и 200000). Посчитаем выборочные процентили для более точного определения границ выбросов."
   ]
  },
  {
   "cell_type": "markdown",
   "metadata": {},
   "source": [
    "Если преобразовать ось y к логарифмической шкале, на графике видно, что большая часть значений находится в диапазоне от 100 до 100000, с преобладанием значений в границах 1000-10000."
   ]
  },
  {
   "cell_type": "markdown",
   "metadata": {},
   "source": [
    "### 95-й и 99-й перцентили стоимости заказов"
   ]
  },
  {
   "cell_type": "markdown",
   "metadata": {},
   "source": [
    "Посчитаем 95-й и 99-й перцентили стоимости заказов."
   ]
  },
  {
   "cell_type": "code",
   "execution_count": 19,
   "metadata": {},
   "outputs": [
    {
     "name": "stdout",
     "output_type": "stream",
     "text": [
      "[28000.  58233.2]\n"
     ]
    }
   ],
   "source": [
    "print(np.percentile(orders['revenue'], [95, 99]))"
   ]
  },
  {
   "cell_type": "markdown",
   "metadata": {},
   "source": [
    "Чек 5% заказов превысил 28000 и всего 1% заказов оказались дороже 58233."
   ]
  },
  {
   "cell_type": "markdown",
   "metadata": {},
   "source": [
    "### Статистическая значимость различий в конверсии между группами"
   ]
  },
  {
   "cell_type": "markdown",
   "metadata": {},
   "source": [
    "Рассчитаем количество заказов каждого пользователя для групп A и B и создадим соответствующие подвыборки всех пользователей и совершенных ими заказов, включая нулевые знечения."
   ]
  },
  {
   "cell_type": "code",
   "execution_count": 20,
   "metadata": {},
   "outputs": [],
   "source": [
    "ordersByUsersA = (\n",
    "    orders[orders['group'] == 'A']\n",
    "    .groupby('visitor_id', as_index=False)\n",
    "    .agg({'transaction_id': pd.Series.nunique}))\n",
    "\n",
    "ordersByUsersA.columns = ['visitor_id', 'orders']\n",
    "\n",
    "ordersByUsersB = (\n",
    "    orders[orders['group'] == 'B']\n",
    "    .groupby('visitor_id', as_index=False)\n",
    "    .agg({'transaction_id': pd.Series.nunique}))\n",
    "\n",
    "ordersByUsersB.columns = ['visitor_id', 'orders'] \n",
    "\n",
    "sampleA = pd.concat([\n",
    "    ordersByUsersA['orders'],\n",
    "    pd.Series(0, index=np.arange(merge['visitors_A'].sum() - len(ordersByUsersA['orders'])), name='orders')],axis=0)\n",
    "\n",
    "sampleB = pd.concat([\n",
    "    ordersByUsersB['orders'],\n",
    "    pd.Series(0, index=np.arange(merge['visitors_B'].sum() - len(ordersByUsersB['orders'])), name='orders')],axis=0) "
   ]
  },
  {
   "cell_type": "markdown",
   "metadata": {},
   "source": [
    " Проверим гипотезу \"Распределение конверсий пользователей экспериментальной и контрольной групп различается\" при помощи непараметрического теста Манна-Уитни:\n",
    "    \n",
    "* H0 - нет статистически значимых различий между распределениями конверсии выборок экспериментальной и контрольной групп;\n",
    "    \n",
    "* H1 - есть статистически значимые различия между распределениями конверсии выборок экспериментальной и контрольной групп.\n",
    "\n",
    "Графики метрик на протяжении эксперимента говорят о сильной вариации в данных, поэтому минимизируем риск обнаружения ложных межгрупповых отличий и установим пороговое значение alpha, равным 0.05, то есть будем отвергать нулевую гипотезу, если вероятность обнаружить межргупповые различия при их отсутствии в генеральной совокупности меньше 5%.\n",
    "\n",
    "Посчитаем статистическую значимость различий в конверсии между группами. "
   ]
  },
  {
   "cell_type": "code",
   "execution_count": 21,
   "metadata": {},
   "outputs": [
    {
     "name": "stdout",
     "output_type": "stream",
     "text": [
      "p-значение: 0.0084\n",
      "Отвергаем нулевую гипотезу\n",
      "Конверсия A: 2.97%\n",
      "Конверсия B: 3.38%\n",
      "Относительный выигрыш группы B равен: 13.8%\n"
     ]
    }
   ],
   "source": [
    "alpha = 0.05\n",
    "\n",
    "results = stats.mannwhitneyu(sampleA, sampleB)\n",
    "\n",
    "print('p-значение:', results.pvalue.round(5))\n",
    "\n",
    "if results.pvalue < alpha:\n",
    "    print(\"Отвергаем нулевую гипотезу\")\n",
    "else:\n",
    "    print(\"Не получилось отвергнуть нулевую гипотезу\")\n",
    "    \n",
    "print(\"Конверсия A: {:.2%}\".format(merge['orders_A'].sum()/merge['visitors_A'].sum()))\n",
    "print(\"Конверсия B: {:.2%}\".format(merge['orders_B'].sum()/merge['visitors_B'].sum()))\n",
    "\n",
    "print(\"Относительный выигрыш группы B равен: {:.1%}\".format(\n",
    "    (merge['orders_B'].sum()/merge['visitors_B'].sum())/\n",
    "    (merge['orders_A'].sum()/merge['visitors_A'].sum())-1))"
   ]
  },
  {
   "cell_type": "markdown",
   "metadata": {},
   "source": [
    "**Вывод.**\n",
    "Полученное значение p-value говорит о том, что выборочные конверсии достаточно далеки друг от друга, чтобы отбросить нулевую гипотезу об их равестве в генеральной совокупности (вероятность получить такое различие случайно крайне мала). Значит, конверсия в группе B статистически значимо отличается от конверсии в группе A.\n",
    "\n",
    "Однако решение об успешности эксперимента только по достижении статистической значимости было бы неверным. Статистическая значимость могла быть достигнута в первый месяц тестирования из-за флуктуаций в данных. При первичном анализе данных было установлено, что в контрольной группе накоплена информация по 18736 визитам, в экспериментальной - по 18916 визитам. Используя калькулятор выборки (https://www.evanmiller.org/ab-testing/sample-size.html), можно рассчитать, что при базовом уровне конверсии 3% (как в контрольной группе) и минимальном различимом эффекте 10% (не имея формулировку гипотезы, будем ориентироваться на значение, близкое к результатам эксперимента) необходимый минимальный размер выборки на каждую вариацию составляет 51486. Следовательно, тест завершился преждевременно, хоть и достигнута статистическая значимость."
   ]
  },
  {
   "cell_type": "markdown",
   "metadata": {},
   "source": [
    "### Статистическая значимость различий в среднем чеке заказа"
   ]
  },
  {
   "cell_type": "markdown",
   "metadata": {},
   "source": [
    "Проверим гипотезу \"Распределение среднего чека пользователей экспериментальной и контрольной групп различается\" при помощи непараметрического теста Манна-Уитни:\n",
    "    \n",
    "* H0 - нет статистически значимых различий между распределениями среднего чека групп A и B;\n",
    "    \n",
    "* H1 - есть статистически значимые различия между распределениями среднего чека групп A и B."
   ]
  },
  {
   "cell_type": "code",
   "execution_count": 22,
   "metadata": {},
   "outputs": [
    {
     "name": "stdout",
     "output_type": "stream",
     "text": [
      "p-значение: 0.365\n",
      "Не получилось отвергнуть нулевую гипотезу\n",
      "Средний чек A: 7334\n",
      "Средний чек B: 9231\n",
      "Относительный выигрыш группы B равен: 25.9%\n"
     ]
    }
   ],
   "source": [
    "results = stats.mannwhitneyu(\n",
    "    orders[orders['group']=='A']['revenue'], \n",
    "    orders[orders['group']=='B']['revenue'])\n",
    "\n",
    "print('p-значение:', results.pvalue.round(3))\n",
    "\n",
    "if results.pvalue < alpha:\n",
    "    print(\"Отвергаем нулевую гипотезу\")\n",
    "else:\n",
    "    print(\"Не получилось отвергнуть нулевую гипотезу\")\n",
    "\n",
    "print(\"Средний чек A: {:.0f}\".format(orders[orders['group']=='A']['revenue'].mean()))\n",
    "print(\"Средний чек B: {:.0f}\".format(orders[orders['group']=='B']['revenue'].mean()))\n",
    "\n",
    "print(\"Относительный выигрыш группы B равен: {:.1%}\".format(\n",
    "    orders[orders['group']=='B']['revenue'].mean()/\n",
    "    orders[orders['group']=='A']['revenue'].mean()-1)) "
   ]
  },
  {
   "cell_type": "markdown",
   "metadata": {},
   "source": [
    "**Вывод.** Несмотря на то, что средний чек экспериментальной группы превышает метрику контрольной группы на 26%, полученное значение p-value говорит о том, что с вероятностью 37% такое или большее различие можно получить случайно. Это явно слишком большая вероятность, чтобы делать вывод о значимом различии между средними чеками, отвергаем нулевую гипотезу, значимых отличий нет.\n",
    "\n",
    "Визуализируем плотность распределения метрики по группам, чтобы понять причину столь сильных различий при их незначимости."
   ]
  },
  {
   "cell_type": "code",
   "execution_count": 23,
   "metadata": {},
   "outputs": [
    {
     "data": {
      "image/png": "[encoded data removed]",
      "text/plain": [
       "<Figure size 720x288 with 1 Axes>"
      ]
     },
     "metadata": {},
     "output_type": "display_data"
    },
    {
     "data": {
      "image/png": "[encoded data removed]",
      "text/plain": [
       "<Figure size 720x288 with 1 Axes>"
      ]
     },
     "metadata": {},
     "output_type": "display_data"
    }
   ],
   "source": [
    "plt.figure(figsize=(10,4))\n",
    "sns.kdeplot(orders.query(\"group == 'A'\")['revenue'], shade=True, label=\"A\", alpha=.5).set(xlim=(0))\n",
    "sns.kdeplot(orders.query(\"group == 'B'\")['revenue'], shade=True, label=\"B\", alpha=.5).set(xlim=(0))\n",
    "plt.title('Average check density')\n",
    "plt.xlabel('Average check')\n",
    "plt.ylabel('Density')\n",
    "plt.show()\n",
    "\n",
    "plt.figure(figsize=(10,4))\n",
    "sns.boxplot(x='group', y='revenue', data=orders)\n",
    "plt.ylim(0, 40000)\n",
    "plt.show()"
   ]
  },
  {
   "cell_type": "markdown",
   "metadata": {},
   "source": [
    "Опираясь на визуальный анализ плотности распределения, можно убедиться, что отличия в среднем чеке экспериментальной и контрольной групп вызваны выбросами: отличия как в медианных значениях, так и межквартильном размахе минимальны, распределния обеих групп скошены вправо, при этом в данных много выбросов и среднее группы B находится существенно правее (на первом графике)."
   ]
  },
  {
   "cell_type": "markdown",
   "metadata": {},
   "source": [
    "### Статистическая значимость различий в конверсии по «очищенным» данным"
   ]
  },
  {
   "cell_type": "markdown",
   "metadata": {},
   "source": [
    "Подготовим очищенные от аномалий данные. Примем за аномальных пользователей тех, кто совершил 4 заказа и более, или совершил заказ на сумму 58233 и более. Так мы уберём 1% пользователей с наибольшим числом заказов и 1% заказов с наибольшей стоимостью."
   ]
  },
  {
   "cell_type": "code",
   "execution_count": 24,
   "metadata": {},
   "outputs": [],
   "source": [
    "orders_cut = np.percentile(ordersByUsers['orders'], 99)\n",
    "revenue_cut = np.percentile(orders['revenue'], 99)\n",
    "\n",
    "usersWithManyOrders = pd.concat([\n",
    "    ordersByUsersA[ordersByUsersA['orders'] >= orders_cut]['visitor_id'],\n",
    "    ordersByUsersB[ordersByUsersB['orders'] >= orders_cut]['visitor_id']], axis=0)\n",
    "\n",
    "usersWithExpensiveOrders = orders[orders['revenue'] >= revenue_cut]['visitor_id']\n",
    "\n",
    "abnormalUsers = (\n",
    "    pd.concat([usersWithManyOrders, usersWithExpensiveOrders], axis=0)\n",
    "    .drop_duplicates()\n",
    "    .sort_values())\n",
    "\n",
    "sampleAFiltered = pd.concat([\n",
    "    ordersByUsersA[np.logical_not(ordersByUsersA['visitor_id'].isin(abnormalUsers))]['orders'],\n",
    "    pd.Series(0, index=np.arange(merge['visitors_A'].sum() - len(ordersByUsersA['orders'])),\n",
    "              name='orders')], axis=0)\n",
    "\n",
    "sampleBFiltered = pd.concat([\n",
    "    ordersByUsersB[np.logical_not(ordersByUsersB['visitor_id'].isin(abnormalUsers))]['orders'],\n",
    "    pd.Series(0, index=np.arange(merge['visitors_B'].sum() - len(ordersByUsersB['orders'])),\n",
    "              name='orders')], axis=0) \n"
   ]
  },
  {
   "cell_type": "markdown",
   "metadata": {},
   "source": [
    "Посчитаем статистическую значимость различий в конверсии между группами по «очищенным» данным."
   ]
  },
  {
   "cell_type": "code",
   "execution_count": 25,
   "metadata": {},
   "outputs": [
    {
     "name": "stdout",
     "output_type": "stream",
     "text": [
      "p-значение: 0.007\n",
      "Отвергаем нулевую гипотезу\n",
      "Конверсия A: 2.77%\n",
      "Конверсия B: 3.19%\n",
      "Относительный выигрыш группы B равен: 15.1%\n"
     ]
    }
   ],
   "source": [
    "results = stats.mannwhitneyu(\n",
    "    sampleAFiltered, \n",
    "    sampleBFiltered)\n",
    "\n",
    "print('p-значение:', results.pvalue.round(3))\n",
    "\n",
    "if results.pvalue < alpha:\n",
    "    print(\"Отвергаем нулевую гипотезу\")\n",
    "else:\n",
    "    print(\"Не получилось отвергнуть нулевую гипотезу\")\n",
    "    \n",
    "print(\"Конверсия A: {:.2%}\".format(sampleAFiltered.mean()))\n",
    "print(\"Конверсия B: {:.2%}\".format(sampleBFiltered.mean()))\n",
    "\n",
    "print(\"Относительный выигрыш группы B равен: {:.1%}\".\n",
    "      format(sampleBFiltered.mean()/sampleAFiltered.mean()-1)) "
   ]
  },
  {
   "cell_type": "markdown",
   "metadata": {},
   "source": [
    "**Вывод.** Полученное значение p-value по-прежнему говорит о том, что конверсия в группе B статистически значимо отличается от конверсии в группе A. При этом относительный выигрыш группы B вырос, составив 15.1% (против 13.8% на сырых данных)."
   ]
  },
  {
   "cell_type": "markdown",
   "metadata": {},
   "source": [
    "### Статистическая значимость различий в среднем чеке по «очищенным» данным"
   ]
  },
  {
   "cell_type": "markdown",
   "metadata": {},
   "source": [
    "Посчитаем статистическую значимость различий в среднем чеке заказа между группами по «очищенным» данным."
   ]
  },
  {
   "cell_type": "code",
   "execution_count": 26,
   "metadata": {},
   "outputs": [],
   "source": [
    "sampleAFiltered = orders[\n",
    "    np.logical_and(orders['group'] == 'A', \n",
    "                   np.logical_not(orders['visitor_id'].isin(abnormalUsers)))]['revenue']\n",
    "\n",
    "sampleBFiltered = orders[\n",
    "    np.logical_and(orders['group'] == 'B',\n",
    "                np.logical_not(orders['visitor_id'].isin(abnormalUsers)))]['revenue']"
   ]
  },
  {
   "cell_type": "code",
   "execution_count": 27,
   "metadata": {},
   "outputs": [
    {
     "name": "stdout",
     "output_type": "stream",
     "text": [
      "p-значение: 0.479\n",
      "Не получилось отвергнуть нулевую гипотезу\n",
      "Средний чек A: 6491\n",
      "Средний чек B: 6401\n",
      "Относительный выигрыш группы B равен: -1.4%\n"
     ]
    }
   ],
   "source": [
    "results = stats.mannwhitneyu(\n",
    "    sampleAFiltered, \n",
    "    sampleBFiltered)\n",
    "\n",
    "print('p-значение:', results.pvalue.round(3))\n",
    "\n",
    "if results.pvalue < alpha:\n",
    "    print(\"Отвергаем нулевую гипотезу\")\n",
    "else:\n",
    "    print(\"Не получилось отвергнуть нулевую гипотезу\")\n",
    "    \n",
    "print(\"Средний чек A: {:.0f}\".format(sampleAFiltered.mean()))\n",
    "print(\"Средний чек B: {:.0f}\".format(sampleBFiltered.mean()))\n",
    "    \n",
    "print(\"Относительный выигрыш группы B равен: {:.1%}\"\n",
    "      .format(sampleBFiltered.mean()/ sampleAFiltered.mean()- 1)) "
   ]
  },
  {
   "cell_type": "markdown",
   "metadata": {},
   "source": [
    "**Вывод.** Удаление выбросов не позволило достичь статистической значимости, при этом в результате очистки данных было обнаружено, что средний чек в экспериментальной группе на 1,4% ниже, тогда как на сырых данных относительный выигрыш группы B составлял 25.9%."
   ]
  },
  {
   "cell_type": "markdown",
   "metadata": {},
   "source": [
    "# Выводы #"
   ]
  },
  {
   "cell_type": "markdown",
   "metadata": {},
   "source": [
    "Согласно результатам приоритизации гипотез с применением фреймворков RICE и ICE, чтобы максимизировать ожидаемое улучшение ключевых метрик бизнеса, интернет-магазину следует в первую очередь проверять следующие гипотезы:\n",
    "- \"Добавить форму подписки на все основные страницы, чтобы собрать базу клиентов для email-рассылок\"\n",
    "- \"Добавить блоки рекомендаций товаров на сайт интернет магазина, чтобы повысить конверсию и средний чек заказа\"\n",
    "- \"Добавить два новых канала привлечения трафика, что позволит привлекать на 30% больше пользователей\"\n",
    "- \"Показать на главной странице баннеры с актуальными акциями и распродажами, чтобы увеличить конверсию\"\n",
    "\n",
    "Анализ результатов проведенного A/B-теста показал, что:\n",
    "* Начиная с 5 дня эксперимента группа B опережала контрольную группу по накопленной выручке, а с 13 дня разрыв увеличился, достигнув к концу теста значения, близкого к 6000000 (против 4000000 в контрольной группе). \n",
    "* После 17 дня эксперимента кумулятивное значение среднего чека группы B превысила 7000 и вырвалась вперед, однако результаты теста значительно менялись несколько раз и не стабилизировались к концу теста.\n",
    "* Начиная с 6 дня теста в экспериментальной группе конверсия существенно выросла и оставалась в диапазоне от 3.4% до 3.6%, в то время как в группе A метрика колебалась между 2.9% и 3.1%, однако отношение конверсий не стабилизировалось к концу эксперимента.\n",
    "\n",
    "Еще на предварительном этапе обработки данных были обнаружены выбивающиеся значения выручки в обеих группах. Чтобы снизить влияние выбросов на распределение, при дальнейшем анализе результатов A/B-теста из данных были удалены пользователи, оформившие 4 заказа и более (1% наблюдений) и заказы с чеком 58233 и больше (1% наблюдений).\n",
    "\n",
    "* Результаты проверки гипотез показали, что есть статистически значимое различие конверсии между группами - как по сырым данным, так и после фильтрации аномалий. При этом после удаления выбросов относительный выигрыш группы B вырос, составив 15.1% (против 13.8% на сырых данных).\n",
    "* Также было установлено, что значимых отличий в метрике среднего чека между контрольной и экспериментальной группами нет (как на сырых данных, так и после удаления аномалий). В результате очистки данных было обнаружено, что средний чек в экспериментальной группе на 1,4% ниже, тогда как на сырых данных относительный выигрыш группы B составлял 25.9%.\n",
    "\n",
    "Тем не менее решение об успешности эксперимента только по достижении статистической значимости было бы неверным, поскольку при базовом уровне конверсии 3% (как в контрольной группе) и минимальном различимом эффекте 10% (значение, близкое к результатам эксперимента) необходимый минимальный размер выборки на каждую вариацию составляет 51486 визитов (в то время как анализ базировался на 18736 наблюдениях в группе A и 18916 - в группе B). Кроме того, к концу эксперимента ключевые метрики продолжали колебаться. Следовательно, тест завершился преждевременно.\n",
    "\n",
    "Учитывая недостаточный размер выборки и сильную вариативность в данных, нельзя признать тест успешным и зафиксировать различия между группами. Таким образом, тест следует продолжить, несмотря на обнаруженное статистически значимое отличие конверсии в экспериментальной и контрольной группах. По сути продолжение теста не вызывает проблему подглядывания, поскольку данное решение будет основано не на полученных результатах, а на необходимости достижения требуемого количества наблюдений."
   ]
  }
 ],
 "metadata": {
  "ExecuteTimeLog": [
   {
    "duration": 2310,
    "start_time": "2021-08-17T16:26:31.265Z"
   },
   {
    "duration": 79,
    "start_time": "2021-08-17T16:26:45.410Z"
   },
   {
    "duration": 22,
    "start_time": "2021-08-17T16:26:50.872Z"
   },
   {
    "duration": 50,
    "start_time": "2021-08-18T10:37:04.963Z"
   },
   {
    "duration": 544,
    "start_time": "2021-08-18T10:38:28.036Z"
   },
   {
    "duration": 358,
    "start_time": "2021-08-18T11:01:37.155Z"
   },
   {
    "duration": 44,
    "start_time": "2021-08-18T11:04:46.540Z"
   },
   {
    "duration": 45,
    "start_time": "2021-08-18T11:10:04.581Z"
   },
   {
    "duration": 54,
    "start_time": "2021-08-18T11:10:31.273Z"
   },
   {
    "duration": 42,
    "start_time": "2021-08-18T11:10:56.449Z"
   },
   {
    "duration": 126,
    "start_time": "2021-08-18T11:11:34.360Z"
   },
   {
    "duration": 52,
    "start_time": "2021-08-18T11:11:50.054Z"
   },
   {
    "duration": 50,
    "start_time": "2021-08-18T11:12:03.842Z"
   },
   {
    "duration": 47,
    "start_time": "2021-08-18T11:12:12.132Z"
   },
   {
    "duration": 43,
    "start_time": "2021-08-18T11:12:37.138Z"
   },
   {
    "duration": 42,
    "start_time": "2021-08-18T11:13:21.351Z"
   },
   {
    "duration": 40,
    "start_time": "2021-08-18T11:17:20.087Z"
   },
   {
    "duration": 40,
    "start_time": "2021-08-18T11:18:10.290Z"
   },
   {
    "duration": 16,
    "start_time": "2021-08-18T11:18:19.339Z"
   },
   {
    "duration": 17,
    "start_time": "2021-08-18T11:18:28.243Z"
   },
   {
    "duration": 40,
    "start_time": "2021-08-18T11:18:56.503Z"
   },
   {
    "duration": 5,
    "start_time": "2021-08-18T11:19:47.899Z"
   },
   {
    "duration": 47,
    "start_time": "2021-08-18T11:22:02.168Z"
   },
   {
    "duration": 48,
    "start_time": "2021-08-18T11:22:16.938Z"
   },
   {
    "duration": 127,
    "start_time": "2021-08-18T11:25:46.299Z"
   },
   {
    "duration": 10,
    "start_time": "2021-08-18T11:26:51.256Z"
   },
   {
    "duration": 51,
    "start_time": "2021-08-18T11:28:44.966Z"
   },
   {
    "duration": 52,
    "start_time": "2021-08-18T11:29:00.025Z"
   },
   {
    "duration": 50,
    "start_time": "2021-08-18T11:29:05.099Z"
   },
   {
    "duration": 8,
    "start_time": "2021-08-18T11:31:33.727Z"
   },
   {
    "duration": 6,
    "start_time": "2021-08-18T11:33:07.844Z"
   },
   {
    "duration": 6,
    "start_time": "2021-08-18T11:34:18.638Z"
   },
   {
    "duration": 378,
    "start_time": "2021-08-18T12:22:18.459Z"
   },
   {
    "duration": 8,
    "start_time": "2021-08-18T12:22:41.977Z"
   },
   {
    "duration": 373,
    "start_time": "2021-08-18T12:23:05.026Z"
   },
   {
    "duration": 1833,
    "start_time": "2021-08-18T12:23:37.511Z"
   },
   {
    "duration": 69,
    "start_time": "2021-08-18T12:23:39.347Z"
   },
   {
    "duration": 55,
    "start_time": "2021-08-18T12:23:39.419Z"
   },
   {
    "duration": 4,
    "start_time": "2021-08-18T12:23:39.477Z"
   },
   {
    "duration": 11,
    "start_time": "2021-08-18T12:23:39.484Z"
   },
   {
    "duration": 9,
    "start_time": "2021-08-18T12:23:39.497Z"
   },
   {
    "duration": 550,
    "start_time": "2021-08-18T12:23:39.508Z"
   },
   {
    "duration": -75,
    "start_time": "2021-08-18T12:23:40.136Z"
   },
   {
    "duration": -77,
    "start_time": "2021-08-18T12:23:40.139Z"
   },
   {
    "duration": 19,
    "start_time": "2021-08-18T12:24:22.515Z"
   },
   {
    "duration": 386,
    "start_time": "2021-08-18T12:26:10.225Z"
   },
   {
    "duration": 444,
    "start_time": "2021-08-18T12:26:49.876Z"
   },
   {
    "duration": 451,
    "start_time": "2021-08-18T12:28:24.621Z"
   },
   {
    "duration": 421,
    "start_time": "2021-08-18T12:28:48.478Z"
   },
   {
    "duration": 67,
    "start_time": "2021-08-18T12:28:58.515Z"
   },
   {
    "duration": 33,
    "start_time": "2021-08-18T12:30:15.826Z"
   },
   {
    "duration": 29,
    "start_time": "2021-08-18T12:32:46.049Z"
   },
   {
    "duration": 34,
    "start_time": "2021-08-18T12:32:59.004Z"
   },
   {
    "duration": 31,
    "start_time": "2021-08-18T12:33:06.371Z"
   },
   {
    "duration": 50,
    "start_time": "2021-08-18T13:01:54.646Z"
   },
   {
    "duration": 98,
    "start_time": "2021-08-18T13:02:21.201Z"
   },
   {
    "duration": 122,
    "start_time": "2021-08-18T13:05:24.537Z"
   },
   {
    "duration": 63,
    "start_time": "2021-08-18T14:23:21.671Z"
   },
   {
    "duration": 15,
    "start_time": "2021-08-18T14:23:30.765Z"
   },
   {
    "duration": 15,
    "start_time": "2021-08-18T14:23:55.045Z"
   },
   {
    "duration": 17,
    "start_time": "2021-08-18T14:30:04.063Z"
   },
   {
    "duration": 17,
    "start_time": "2021-08-18T14:31:02.821Z"
   },
   {
    "duration": 16,
    "start_time": "2021-08-18T14:34:28.882Z"
   },
   {
    "duration": 13,
    "start_time": "2021-08-18T14:35:39.580Z"
   },
   {
    "duration": 15,
    "start_time": "2021-08-18T14:35:50.586Z"
   },
   {
    "duration": 19,
    "start_time": "2021-08-18T14:36:03.063Z"
   },
   {
    "duration": 19,
    "start_time": "2021-08-18T14:36:33.546Z"
   },
   {
    "duration": 7,
    "start_time": "2021-08-18T17:07:58.662Z"
   },
   {
    "duration": 7,
    "start_time": "2021-08-18T17:11:23.097Z"
   },
   {
    "duration": 4,
    "start_time": "2021-08-18T17:11:51.069Z"
   },
   {
    "duration": 342,
    "start_time": "2021-08-18T17:12:36.607Z"
   },
   {
    "duration": 6,
    "start_time": "2021-08-18T17:14:48.281Z"
   },
   {
    "duration": 16,
    "start_time": "2021-08-18T17:15:29.357Z"
   },
   {
    "duration": 14,
    "start_time": "2021-08-18T17:16:21.121Z"
   },
   {
    "duration": 575,
    "start_time": "2021-08-18T17:19:35.745Z"
   },
   {
    "duration": 19,
    "start_time": "2021-08-18T17:19:43.425Z"
   },
   {
    "duration": 10,
    "start_time": "2021-08-18T17:20:22.878Z"
   },
   {
    "duration": 313,
    "start_time": "2021-08-18T17:20:35.068Z"
   },
   {
    "duration": 19,
    "start_time": "2021-08-18T17:21:05.536Z"
   },
   {
    "duration": 645,
    "start_time": "2021-08-18T17:24:07.263Z"
   },
   {
    "duration": 5,
    "start_time": "2021-08-18T17:26:13.426Z"
   },
   {
    "duration": 647,
    "start_time": "2021-08-18T17:27:26.065Z"
   },
   {
    "duration": 19,
    "start_time": "2021-08-18T17:33:06.512Z"
   },
   {
    "duration": 370,
    "start_time": "2021-08-18T17:41:39.797Z"
   },
   {
    "duration": 26,
    "start_time": "2021-08-18T17:41:53.123Z"
   },
   {
    "duration": 12,
    "start_time": "2021-08-18T17:42:03.208Z"
   },
   {
    "duration": 356,
    "start_time": "2021-08-18T17:44:37.502Z"
   },
   {
    "duration": 30,
    "start_time": "2021-08-18T17:44:45.784Z"
   },
   {
    "duration": 10064,
    "start_time": "2021-08-18T17:45:40.660Z"
   },
   {
    "duration": -66,
    "start_time": "2021-08-18T17:45:50.792Z"
   },
   {
    "duration": 10442,
    "start_time": "2021-08-18T17:45:53.353Z"
   },
   {
    "duration": 27,
    "start_time": "2021-08-18T17:46:43.011Z"
   },
   {
    "duration": 502,
    "start_time": "2021-08-18T17:46:48.488Z"
   },
   {
    "duration": 666,
    "start_time": "2021-08-18T17:47:22.056Z"
   },
   {
    "duration": 675,
    "start_time": "2021-08-18T17:48:56.047Z"
   },
   {
    "duration": 6,
    "start_time": "2021-08-18T17:50:05.090Z"
   },
   {
    "duration": 763,
    "start_time": "2021-08-18T17:52:01.559Z"
   },
   {
    "duration": 27,
    "start_time": "2021-08-18T17:53:43.433Z"
   },
   {
    "duration": 9401,
    "start_time": "2021-08-18T17:55:07.628Z"
   },
   {
    "duration": 687,
    "start_time": "2021-08-18T17:55:39.537Z"
   },
   {
    "duration": 711,
    "start_time": "2021-08-18T17:55:57.924Z"
   },
   {
    "duration": 707,
    "start_time": "2021-08-18T17:56:16.325Z"
   },
   {
    "duration": 701,
    "start_time": "2021-08-18T17:56:27.639Z"
   },
   {
    "duration": 671,
    "start_time": "2021-08-18T17:56:44.561Z"
   },
   {
    "duration": 805,
    "start_time": "2021-08-18T17:56:55.343Z"
   },
   {
    "duration": 1925,
    "start_time": "2021-08-18T17:57:37.538Z"
   },
   {
    "duration": 66,
    "start_time": "2021-08-18T17:57:39.466Z"
   },
   {
    "duration": 55,
    "start_time": "2021-08-18T17:57:39.536Z"
   },
   {
    "duration": 5,
    "start_time": "2021-08-18T17:57:39.594Z"
   },
   {
    "duration": 7,
    "start_time": "2021-08-18T17:57:39.602Z"
   },
   {
    "duration": 48,
    "start_time": "2021-08-18T17:57:39.611Z"
   },
   {
    "duration": 6,
    "start_time": "2021-08-18T17:57:39.662Z"
   },
   {
    "duration": 122,
    "start_time": "2021-08-18T17:57:39.671Z"
   },
   {
    "duration": 15,
    "start_time": "2021-08-18T17:57:39.795Z"
   },
   {
    "duration": 43,
    "start_time": "2021-08-18T17:57:39.813Z"
   },
   {
    "duration": 939,
    "start_time": "2021-08-18T17:57:39.858Z"
   },
   {
    "duration": 711,
    "start_time": "2021-08-18T17:57:40.855Z"
   },
   {
    "duration": 683,
    "start_time": "2021-08-18T17:57:41.569Z"
   },
   {
    "duration": 32,
    "start_time": "2021-08-18T17:57:42.257Z"
   },
   {
    "duration": 688,
    "start_time": "2021-08-18T17:57:42.291Z"
   },
   {
    "duration": 680,
    "start_time": "2021-08-18T17:57:42.981Z"
   },
   {
    "duration": 701,
    "start_time": "2021-08-18T17:57:43.664Z"
   },
   {
    "duration": 662,
    "start_time": "2021-08-18T17:58:51.663Z"
   },
   {
    "duration": 561,
    "start_time": "2021-08-18T18:01:19.898Z"
   },
   {
    "duration": 804,
    "start_time": "2021-08-18T18:02:26.499Z"
   },
   {
    "duration": 816,
    "start_time": "2021-08-18T18:03:31.915Z"
   },
   {
    "duration": 846,
    "start_time": "2021-08-18T18:05:54.658Z"
   },
   {
    "duration": 6,
    "start_time": "2021-08-18T18:06:27.047Z"
   },
   {
    "duration": 10002,
    "start_time": "2021-08-18T18:08:43.589Z"
   },
   {
    "duration": 555,
    "start_time": "2021-08-18T18:09:52.250Z"
   },
   {
    "duration": 766,
    "start_time": "2021-08-18T18:10:22.970Z"
   },
   {
    "duration": 6,
    "start_time": "2021-08-18T18:10:54.308Z"
   },
   {
    "duration": 12,
    "start_time": "2021-08-18T18:19:44.129Z"
   },
   {
    "duration": 14,
    "start_time": "2021-08-18T18:20:52.675Z"
   },
   {
    "duration": 19,
    "start_time": "2021-08-18T18:23:11.123Z"
   },
   {
    "duration": 21,
    "start_time": "2021-08-18T18:24:54.475Z"
   },
   {
    "duration": 9583,
    "start_time": "2021-08-18T18:37:16.728Z"
   },
   {
    "duration": 44,
    "start_time": "2021-08-18T18:38:32.105Z"
   },
   {
    "duration": 95,
    "start_time": "2021-08-18T18:49:19.561Z"
   },
   {
    "duration": 191,
    "start_time": "2021-08-18T18:49:37.494Z"
   },
   {
    "duration": 312,
    "start_time": "2021-08-18T18:52:40.885Z"
   },
   {
    "duration": 406,
    "start_time": "2021-08-18T18:53:08.400Z"
   },
   {
    "duration": 448,
    "start_time": "2021-08-18T18:53:44.198Z"
   },
   {
    "duration": 493,
    "start_time": "2021-08-18T18:53:55.354Z"
   },
   {
    "duration": 736,
    "start_time": "2021-08-18T18:55:42.864Z"
   },
   {
    "duration": 645,
    "start_time": "2021-08-18T18:55:52.228Z"
   },
   {
    "duration": 357,
    "start_time": "2021-08-18T18:58:02.167Z"
   },
   {
    "duration": 5,
    "start_time": "2021-08-18T18:59:04.904Z"
   },
   {
    "duration": 617,
    "start_time": "2021-08-18T18:59:26.388Z"
   },
   {
    "duration": 15,
    "start_time": "2021-08-18T18:59:29.102Z"
   },
   {
    "duration": 14,
    "start_time": "2021-08-18T19:03:04.500Z"
   },
   {
    "duration": 16,
    "start_time": "2021-08-18T19:08:52.723Z"
   },
   {
    "duration": 22,
    "start_time": "2021-08-18T19:09:56.993Z"
   },
   {
    "duration": 11,
    "start_time": "2021-08-18T19:10:14.888Z"
   },
   {
    "duration": 21,
    "start_time": "2021-08-18T19:12:13.773Z"
   },
   {
    "duration": 1917,
    "start_time": "2021-08-18T19:23:51.716Z"
   },
   {
    "duration": 90,
    "start_time": "2021-08-18T19:23:53.636Z"
   },
   {
    "duration": 55,
    "start_time": "2021-08-18T19:23:53.729Z"
   },
   {
    "duration": 4,
    "start_time": "2021-08-18T19:23:53.787Z"
   },
   {
    "duration": 8,
    "start_time": "2021-08-18T19:23:53.794Z"
   },
   {
    "duration": 14,
    "start_time": "2021-08-18T19:23:53.804Z"
   },
   {
    "duration": 38,
    "start_time": "2021-08-18T19:23:53.821Z"
   },
   {
    "duration": 122,
    "start_time": "2021-08-18T19:23:53.863Z"
   },
   {
    "duration": 18,
    "start_time": "2021-08-18T19:23:53.989Z"
   },
   {
    "duration": 48,
    "start_time": "2021-08-18T19:23:54.010Z"
   },
   {
    "duration": 611,
    "start_time": "2021-08-18T19:23:54.061Z"
   },
   {
    "duration": 724,
    "start_time": "2021-08-18T19:23:54.675Z"
   },
   {
    "duration": 711,
    "start_time": "2021-08-18T19:23:55.401Z"
   },
   {
    "duration": 42,
    "start_time": "2021-08-18T19:23:56.115Z"
   },
   {
    "duration": 738,
    "start_time": "2021-08-18T19:23:56.160Z"
   },
   {
    "duration": 696,
    "start_time": "2021-08-18T19:23:56.901Z"
   },
   {
    "duration": 728,
    "start_time": "2021-08-18T19:23:57.600Z"
   },
   {
    "duration": 852,
    "start_time": "2021-08-18T19:23:58.330Z"
   },
   {
    "duration": 6,
    "start_time": "2021-08-18T19:23:59.185Z"
   },
   {
    "duration": 803,
    "start_time": "2021-08-18T19:23:59.193Z"
   },
   {
    "duration": 6,
    "start_time": "2021-08-18T19:23:59.998Z"
   },
   {
    "duration": 643,
    "start_time": "2021-08-18T19:24:00.007Z"
   },
   {
    "duration": 16,
    "start_time": "2021-08-18T19:24:00.657Z"
   },
   {
    "duration": 23,
    "start_time": "2021-08-18T19:24:00.676Z"
   },
   {
    "duration": 34,
    "start_time": "2021-08-18T19:24:00.701Z"
   },
   {
    "duration": 38,
    "start_time": "2021-08-18T19:24:00.738Z"
   },
   {
    "duration": 34,
    "start_time": "2021-08-18T19:24:00.779Z"
   },
   {
    "duration": 2795,
    "start_time": "2021-08-19T06:14:29.766Z"
   },
   {
    "duration": 118,
    "start_time": "2021-08-19T06:14:32.564Z"
   },
   {
    "duration": 54,
    "start_time": "2021-08-19T06:14:32.684Z"
   },
   {
    "duration": 4,
    "start_time": "2021-08-19T06:14:32.740Z"
   },
   {
    "duration": 6,
    "start_time": "2021-08-19T06:14:32.757Z"
   },
   {
    "duration": 14,
    "start_time": "2021-08-19T06:14:32.766Z"
   },
   {
    "duration": 9,
    "start_time": "2021-08-19T06:14:32.782Z"
   },
   {
    "duration": 135,
    "start_time": "2021-08-19T06:14:32.794Z"
   },
   {
    "duration": 37,
    "start_time": "2021-08-19T06:14:32.932Z"
   },
   {
    "duration": 16,
    "start_time": "2021-08-19T06:14:32.972Z"
   },
   {
    "duration": 626,
    "start_time": "2021-08-19T06:14:32.990Z"
   },
   {
    "duration": 701,
    "start_time": "2021-08-19T06:14:33.618Z"
   },
   {
    "duration": 767,
    "start_time": "2021-08-19T06:14:34.321Z"
   },
   {
    "duration": 38,
    "start_time": "2021-08-19T06:14:35.090Z"
   },
   {
    "duration": 703,
    "start_time": "2021-08-19T06:14:35.131Z"
   },
   {
    "duration": 691,
    "start_time": "2021-08-19T06:14:35.836Z"
   },
   {
    "duration": 729,
    "start_time": "2021-08-19T06:14:36.530Z"
   },
   {
    "duration": 852,
    "start_time": "2021-08-19T06:14:37.262Z"
   },
   {
    "duration": 6,
    "start_time": "2021-08-19T06:14:38.116Z"
   },
   {
    "duration": 817,
    "start_time": "2021-08-19T06:14:38.124Z"
   },
   {
    "duration": 14,
    "start_time": "2021-08-19T06:14:38.944Z"
   },
   {
    "duration": 646,
    "start_time": "2021-08-19T06:14:38.960Z"
   },
   {
    "duration": 16,
    "start_time": "2021-08-19T06:14:39.611Z"
   },
   {
    "duration": 36,
    "start_time": "2021-08-19T06:14:39.630Z"
   },
   {
    "duration": 21,
    "start_time": "2021-08-19T06:14:39.669Z"
   },
   {
    "duration": 12,
    "start_time": "2021-08-19T06:14:39.693Z"
   },
   {
    "duration": 59,
    "start_time": "2021-08-19T06:14:39.708Z"
   },
   {
    "duration": 560,
    "start_time": "2021-08-19T06:21:39.214Z"
   },
   {
    "duration": 694,
    "start_time": "2021-08-19T06:21:52.310Z"
   },
   {
    "duration": 357,
    "start_time": "2021-08-19T06:22:09.745Z"
   },
   {
    "duration": 499,
    "start_time": "2021-08-19T06:22:35.421Z"
   },
   {
    "duration": 508,
    "start_time": "2021-08-19T06:22:48.030Z"
   },
   {
    "duration": 535,
    "start_time": "2021-08-19T06:22:56.087Z"
   },
   {
    "duration": 508,
    "start_time": "2021-08-19T06:36:01.016Z"
   },
   {
    "duration": 684,
    "start_time": "2021-08-19T06:39:12.341Z"
   },
   {
    "duration": 741,
    "start_time": "2021-08-19T06:39:57.637Z"
   },
   {
    "duration": 823,
    "start_time": "2021-08-19T06:40:04.042Z"
   },
   {
    "duration": 139,
    "start_time": "2021-08-19T06:41:33.570Z"
   },
   {
    "duration": 741,
    "start_time": "2021-08-19T06:41:41.307Z"
   },
   {
    "duration": 482,
    "start_time": "2021-08-19T06:44:40.956Z"
   },
   {
    "duration": 940,
    "start_time": "2021-08-19T06:46:51.961Z"
   },
   {
    "duration": 833,
    "start_time": "2021-08-19T06:47:03.954Z"
   },
   {
    "duration": 1002,
    "start_time": "2021-08-19T06:47:15.987Z"
   },
   {
    "duration": 1023,
    "start_time": "2021-08-19T06:47:43.331Z"
   },
   {
    "duration": 1104,
    "start_time": "2021-08-19T06:47:50.738Z"
   },
   {
    "duration": 1062,
    "start_time": "2021-08-19T06:57:49.795Z"
   },
   {
    "duration": 1309,
    "start_time": "2021-08-19T06:58:48.894Z"
   },
   {
    "duration": 1077,
    "start_time": "2021-08-19T07:05:39.345Z"
   },
   {
    "duration": 1114,
    "start_time": "2021-08-19T07:08:13.516Z"
   },
   {
    "duration": 1147,
    "start_time": "2021-08-19T07:08:45.260Z"
   },
   {
    "duration": 1156,
    "start_time": "2021-08-19T07:09:01.788Z"
   },
   {
    "duration": 1129,
    "start_time": "2021-08-19T07:10:37.479Z"
   },
   {
    "duration": 33,
    "start_time": "2021-08-19T07:32:54.893Z"
   },
   {
    "duration": 39,
    "start_time": "2021-08-19T07:33:52.618Z"
   },
   {
    "duration": 67,
    "start_time": "2021-08-19T07:35:17.623Z"
   },
   {
    "duration": 24,
    "start_time": "2021-08-19T07:35:37.926Z"
   },
   {
    "duration": 63,
    "start_time": "2021-08-19T07:35:59.579Z"
   },
   {
    "duration": 75,
    "start_time": "2021-08-19T07:36:10.334Z"
   },
   {
    "duration": 30,
    "start_time": "2021-08-19T07:36:25.652Z"
   },
   {
    "duration": 63,
    "start_time": "2021-08-19T07:40:02.828Z"
   },
   {
    "duration": 60,
    "start_time": "2021-08-19T07:41:15.413Z"
   },
   {
    "duration": 60,
    "start_time": "2021-08-19T07:41:29.250Z"
   },
   {
    "duration": 68,
    "start_time": "2021-08-19T07:41:34.469Z"
   },
   {
    "duration": 76,
    "start_time": "2021-08-19T07:42:08.545Z"
   },
   {
    "duration": 78,
    "start_time": "2021-08-19T07:43:21.708Z"
   },
   {
    "duration": 65,
    "start_time": "2021-08-19T07:44:08.906Z"
   },
   {
    "duration": 59,
    "start_time": "2021-08-19T07:44:31.366Z"
   },
   {
    "duration": 85,
    "start_time": "2021-08-19T07:44:36.193Z"
   },
   {
    "duration": 80,
    "start_time": "2021-08-19T07:45:00.979Z"
   },
   {
    "duration": 88,
    "start_time": "2021-08-19T07:45:34.412Z"
   },
   {
    "duration": 27,
    "start_time": "2021-08-19T07:49:16.664Z"
   },
   {
    "duration": 43,
    "start_time": "2021-08-19T07:49:24.733Z"
   },
   {
    "duration": 75,
    "start_time": "2021-08-19T07:51:22.112Z"
   },
   {
    "duration": 80,
    "start_time": "2021-08-19T07:57:58.318Z"
   },
   {
    "duration": 443,
    "start_time": "2021-08-19T07:58:36.363Z"
   },
   {
    "duration": 77,
    "start_time": "2021-08-19T08:10:49.152Z"
   },
   {
    "duration": 103,
    "start_time": "2021-08-19T08:10:57.657Z"
   },
   {
    "duration": 30,
    "start_time": "2021-08-19T08:11:50.268Z"
   },
   {
    "duration": 25,
    "start_time": "2021-08-19T08:12:45.659Z"
   },
   {
    "duration": 33,
    "start_time": "2021-08-19T08:12:53.874Z"
   },
   {
    "duration": 57,
    "start_time": "2021-08-19T08:12:58.524Z"
   },
   {
    "duration": 121,
    "start_time": "2021-08-19T08:13:21.917Z"
   },
   {
    "duration": 163,
    "start_time": "2021-08-19T08:14:57.191Z"
   },
   {
    "duration": 765,
    "start_time": "2021-08-19T08:16:18.774Z"
   },
   {
    "duration": 1936,
    "start_time": "2021-08-19T08:17:03.276Z"
   },
   {
    "duration": 98,
    "start_time": "2021-08-19T08:17:05.214Z"
   },
   {
    "duration": 62,
    "start_time": "2021-08-19T08:17:05.318Z"
   },
   {
    "duration": 4,
    "start_time": "2021-08-19T08:17:05.382Z"
   },
   {
    "duration": 17,
    "start_time": "2021-08-19T08:17:05.388Z"
   },
   {
    "duration": 22,
    "start_time": "2021-08-19T08:17:05.407Z"
   },
   {
    "duration": 8,
    "start_time": "2021-08-19T08:17:05.433Z"
   },
   {
    "duration": 131,
    "start_time": "2021-08-19T08:17:05.444Z"
   },
   {
    "duration": 16,
    "start_time": "2021-08-19T08:17:05.577Z"
   },
   {
    "duration": 23,
    "start_time": "2021-08-19T08:17:05.595Z"
   },
   {
    "duration": 1492,
    "start_time": "2021-08-19T08:17:05.620Z"
   },
   {
    "duration": 11,
    "start_time": "2021-08-19T08:17:07.114Z"
   },
   {
    "duration": 168,
    "start_time": "2021-08-19T08:17:07.128Z"
   },
   {
    "duration": 637,
    "start_time": "2021-08-19T08:17:07.299Z"
   },
   {
    "duration": 711,
    "start_time": "2021-08-19T08:17:07.939Z"
   },
   {
    "duration": 686,
    "start_time": "2021-08-19T08:17:08.656Z"
   },
   {
    "duration": 37,
    "start_time": "2021-08-19T08:17:09.344Z"
   },
   {
    "duration": 712,
    "start_time": "2021-08-19T08:17:09.383Z"
   },
   {
    "duration": 747,
    "start_time": "2021-08-19T08:17:10.098Z"
   },
   {
    "duration": 921,
    "start_time": "2021-08-19T08:17:10.855Z"
   },
   {
    "duration": 904,
    "start_time": "2021-08-19T08:17:11.779Z"
   },
   {
    "duration": 5,
    "start_time": "2021-08-19T08:17:12.688Z"
   },
   {
    "duration": 700,
    "start_time": "2021-08-19T08:17:12.696Z"
   },
   {
    "duration": 6,
    "start_time": "2021-08-19T08:17:13.400Z"
   },
   {
    "duration": 659,
    "start_time": "2021-08-19T08:17:13.409Z"
   },
   {
    "duration": 17,
    "start_time": "2021-08-19T08:17:14.071Z"
   },
   {
    "duration": 14,
    "start_time": "2021-08-19T08:17:14.090Z"
   },
   {
    "duration": 49,
    "start_time": "2021-08-19T08:17:14.107Z"
   },
   {
    "duration": 14,
    "start_time": "2021-08-19T08:17:14.158Z"
   },
   {
    "duration": 21,
    "start_time": "2021-08-19T08:17:14.174Z"
   },
   {
    "duration": 9796,
    "start_time": "2021-08-19T08:21:41.287Z"
   },
   {
    "duration": 116,
    "start_time": "2021-08-19T08:22:49.317Z"
   },
   {
    "duration": 105,
    "start_time": "2021-08-19T08:24:11.777Z"
   },
   {
    "duration": 116,
    "start_time": "2021-08-19T08:24:51.658Z"
   },
   {
    "duration": 27,
    "start_time": "2021-08-19T08:25:14.249Z"
   },
   {
    "duration": 117,
    "start_time": "2021-08-19T08:25:34.232Z"
   },
   {
    "duration": 9721,
    "start_time": "2021-08-19T08:26:42.567Z"
   },
   {
    "duration": -69,
    "start_time": "2021-08-19T08:26:52.360Z"
   },
   {
    "duration": 92,
    "start_time": "2021-08-19T08:27:21.469Z"
   },
   {
    "duration": 19,
    "start_time": "2021-08-19T08:27:28.139Z"
   },
   {
    "duration": 658,
    "start_time": "2021-08-19T08:33:00.808Z"
   },
   {
    "duration": 476,
    "start_time": "2021-08-19T08:41:29.884Z"
   },
   {
    "duration": 638,
    "start_time": "2021-08-19T08:42:47.408Z"
   },
   {
    "duration": 720,
    "start_time": "2021-08-19T08:45:40.214Z"
   },
   {
    "duration": 104,
    "start_time": "2021-08-19T08:48:20.527Z"
   },
   {
    "duration": 661,
    "start_time": "2021-08-19T08:49:24.970Z"
   },
   {
    "duration": 10103,
    "start_time": "2021-08-19T08:51:37.859Z"
   },
   {
    "duration": 670,
    "start_time": "2021-08-19T08:51:54.577Z"
   },
   {
    "duration": 7,
    "start_time": "2021-08-19T09:14:58.931Z"
   },
   {
    "duration": 15,
    "start_time": "2021-08-19T09:16:08.633Z"
   },
   {
    "duration": 7,
    "start_time": "2021-08-19T09:16:12.158Z"
   },
   {
    "duration": 227,
    "start_time": "2021-08-19T09:25:01.550Z"
   },
   {
    "duration": 246,
    "start_time": "2021-08-19T09:27:15.422Z"
   },
   {
    "duration": 25,
    "start_time": "2021-08-19T09:38:52.985Z"
   },
   {
    "duration": 25,
    "start_time": "2021-08-19T09:39:24.220Z"
   },
   {
    "duration": 25,
    "start_time": "2021-08-19T09:39:50.913Z"
   },
   {
    "duration": 17,
    "start_time": "2021-08-19T10:01:07.209Z"
   },
   {
    "duration": 1931,
    "start_time": "2021-08-19T10:09:50.183Z"
   },
   {
    "duration": 129,
    "start_time": "2021-08-19T10:09:52.117Z"
   },
   {
    "duration": 56,
    "start_time": "2021-08-19T10:09:52.249Z"
   },
   {
    "duration": 4,
    "start_time": "2021-08-19T10:09:52.357Z"
   },
   {
    "duration": 16,
    "start_time": "2021-08-19T10:09:52.364Z"
   },
   {
    "duration": 12,
    "start_time": "2021-08-19T10:09:52.382Z"
   },
   {
    "duration": 16,
    "start_time": "2021-08-19T10:09:52.397Z"
   },
   {
    "duration": 236,
    "start_time": "2021-08-19T10:09:52.457Z"
   },
   {
    "duration": 77,
    "start_time": "2021-08-19T10:09:52.697Z"
   },
   {
    "duration": 14,
    "start_time": "2021-08-19T10:09:52.776Z"
   },
   {
    "duration": 1246,
    "start_time": "2021-08-19T10:09:52.793Z"
   },
   {
    "duration": 119,
    "start_time": "2021-08-19T10:09:54.042Z"
   },
   {
    "duration": 669,
    "start_time": "2021-08-19T10:09:54.164Z"
   },
   {
    "duration": 630,
    "start_time": "2021-08-19T10:09:54.836Z"
   },
   {
    "duration": 711,
    "start_time": "2021-08-19T10:09:55.468Z"
   },
   {
    "duration": 646,
    "start_time": "2021-08-19T10:09:56.181Z"
   },
   {
    "duration": 717,
    "start_time": "2021-08-19T10:09:56.829Z"
   },
   {
    "duration": 949,
    "start_time": "2021-08-19T10:09:57.556Z"
   },
   {
    "duration": 6,
    "start_time": "2021-08-19T10:09:58.507Z"
   },
   {
    "duration": 706,
    "start_time": "2021-08-19T10:09:58.515Z"
   },
   {
    "duration": 5,
    "start_time": "2021-08-19T10:09:59.224Z"
   },
   {
    "duration": 239,
    "start_time": "2021-08-19T10:09:59.232Z"
   },
   {
    "duration": 13,
    "start_time": "2021-08-19T10:09:59.475Z"
   },
   {
    "duration": 9079,
    "start_time": "2021-08-19T10:09:59.491Z"
   },
   {
    "duration": -82,
    "start_time": "2021-08-19T10:10:08.655Z"
   },
   {
    "duration": -82,
    "start_time": "2021-08-19T10:10:08.656Z"
   },
   {
    "duration": -84,
    "start_time": "2021-08-19T10:10:08.659Z"
   },
   {
    "duration": 26,
    "start_time": "2021-08-19T10:11:46.477Z"
   },
   {
    "duration": 14,
    "start_time": "2021-08-19T10:11:49.638Z"
   },
   {
    "duration": 1988,
    "start_time": "2021-08-19T10:11:59.261Z"
   },
   {
    "duration": 115,
    "start_time": "2021-08-19T10:12:01.252Z"
   },
   {
    "duration": 56,
    "start_time": "2021-08-19T10:12:01.370Z"
   },
   {
    "duration": 27,
    "start_time": "2021-08-19T10:12:01.429Z"
   },
   {
    "duration": 23,
    "start_time": "2021-08-19T10:12:01.459Z"
   },
   {
    "duration": 29,
    "start_time": "2021-08-19T10:12:01.485Z"
   },
   {
    "duration": 19,
    "start_time": "2021-08-19T10:12:01.516Z"
   },
   {
    "duration": 107,
    "start_time": "2021-08-19T10:12:01.539Z"
   },
   {
    "duration": 16,
    "start_time": "2021-08-19T10:12:01.656Z"
   },
   {
    "duration": 19,
    "start_time": "2021-08-19T10:12:01.675Z"
   },
   {
    "duration": 1050,
    "start_time": "2021-08-19T10:12:01.697Z"
   },
   {
    "duration": 122,
    "start_time": "2021-08-19T10:12:02.750Z"
   },
   {
    "duration": 653,
    "start_time": "2021-08-19T10:12:02.875Z"
   },
   {
    "duration": 627,
    "start_time": "2021-08-19T10:12:03.532Z"
   },
   {
    "duration": 684,
    "start_time": "2021-08-19T10:12:04.162Z"
   },
   {
    "duration": 650,
    "start_time": "2021-08-19T10:12:04.856Z"
   },
   {
    "duration": 722,
    "start_time": "2021-08-19T10:12:05.508Z"
   },
   {
    "duration": 955,
    "start_time": "2021-08-19T10:12:06.233Z"
   },
   {
    "duration": 5,
    "start_time": "2021-08-19T10:12:07.191Z"
   },
   {
    "duration": 721,
    "start_time": "2021-08-19T10:12:07.200Z"
   },
   {
    "duration": 5,
    "start_time": "2021-08-19T10:12:07.924Z"
   },
   {
    "duration": 252,
    "start_time": "2021-08-19T10:12:07.932Z"
   },
   {
    "duration": 15,
    "start_time": "2021-08-19T10:12:08.190Z"
   },
   {
    "duration": 51,
    "start_time": "2021-08-19T10:12:08.208Z"
   },
   {
    "duration": 15,
    "start_time": "2021-08-19T10:12:08.262Z"
   },
   {
    "duration": 4559,
    "start_time": "2021-08-19T10:12:08.280Z"
   },
   {
    "duration": 1150,
    "start_time": "2021-08-19T10:17:18.171Z"
   },
   {
    "duration": 643,
    "start_time": "2021-08-19T10:21:25.301Z"
   },
   {
    "duration": 983,
    "start_time": "2021-08-19T10:22:10.767Z"
   },
   {
    "duration": 660,
    "start_time": "2021-08-19T10:22:23.617Z"
   },
   {
    "duration": 635,
    "start_time": "2021-08-19T10:22:50.284Z"
   },
   {
    "duration": 752,
    "start_time": "2021-08-19T10:23:20.569Z"
   },
   {
    "duration": 569,
    "start_time": "2021-08-19T10:35:22.559Z"
   },
   {
    "duration": 16,
    "start_time": "2021-08-19T10:35:47.624Z"
   },
   {
    "duration": 26,
    "start_time": "2021-08-19T10:36:08.037Z"
   },
   {
    "duration": 16,
    "start_time": "2021-08-19T10:36:25.028Z"
   },
   {
    "duration": 369,
    "start_time": "2021-08-19T10:43:08.804Z"
   },
   {
    "duration": 8,
    "start_time": "2021-08-19T10:43:24.761Z"
   },
   {
    "duration": 7,
    "start_time": "2021-08-19T10:44:00.388Z"
   },
   {
    "duration": 11,
    "start_time": "2021-08-19T10:44:55.753Z"
   },
   {
    "duration": 10,
    "start_time": "2021-08-19T10:44:58.016Z"
   },
   {
    "duration": 11,
    "start_time": "2021-08-19T10:46:58.067Z"
   },
   {
    "duration": 11,
    "start_time": "2021-08-19T10:47:06.612Z"
   },
   {
    "duration": 14,
    "start_time": "2021-08-19T10:47:27.504Z"
   },
   {
    "duration": 15,
    "start_time": "2021-08-19T10:49:30.720Z"
   },
   {
    "duration": 15,
    "start_time": "2021-08-19T10:49:38.135Z"
   },
   {
    "duration": 8,
    "start_time": "2021-08-19T10:51:02.950Z"
   },
   {
    "duration": 20,
    "start_time": "2021-08-19T10:51:10.287Z"
   },
   {
    "duration": 857,
    "start_time": "2021-08-19T10:52:03.368Z"
   },
   {
    "duration": 674,
    "start_time": "2021-08-19T10:52:37.439Z"
   },
   {
    "duration": 202,
    "start_time": "2021-08-19T10:52:48.604Z"
   },
   {
    "duration": 11,
    "start_time": "2021-08-19T10:52:52.620Z"
   },
   {
    "duration": 1878,
    "start_time": "2021-08-19T10:53:16.993Z"
   },
   {
    "duration": 76,
    "start_time": "2021-08-19T10:53:18.874Z"
   },
   {
    "duration": 57,
    "start_time": "2021-08-19T10:53:18.954Z"
   },
   {
    "duration": 6,
    "start_time": "2021-08-19T10:53:19.014Z"
   },
   {
    "duration": 33,
    "start_time": "2021-08-19T10:53:19.023Z"
   },
   {
    "duration": 13,
    "start_time": "2021-08-19T10:53:19.059Z"
   },
   {
    "duration": 8,
    "start_time": "2021-08-19T10:53:19.075Z"
   },
   {
    "duration": 135,
    "start_time": "2021-08-19T10:53:19.089Z"
   },
   {
    "duration": 35,
    "start_time": "2021-08-19T10:53:19.228Z"
   },
   {
    "duration": 19,
    "start_time": "2021-08-19T10:53:19.266Z"
   },
   {
    "duration": 1202,
    "start_time": "2021-08-19T10:53:19.288Z"
   },
   {
    "duration": 265,
    "start_time": "2021-08-19T10:53:20.493Z"
   },
   {
    "duration": 776,
    "start_time": "2021-08-19T10:53:20.760Z"
   },
   {
    "duration": 665,
    "start_time": "2021-08-19T10:53:21.538Z"
   },
   {
    "duration": 706,
    "start_time": "2021-08-19T10:53:22.206Z"
   },
   {
    "duration": 666,
    "start_time": "2021-08-19T10:53:22.914Z"
   },
   {
    "duration": 682,
    "start_time": "2021-08-19T10:53:23.582Z"
   },
   {
    "duration": 950,
    "start_time": "2021-08-19T10:53:24.267Z"
   },
   {
    "duration": 6,
    "start_time": "2021-08-19T10:53:25.219Z"
   },
   {
    "duration": 712,
    "start_time": "2021-08-19T10:53:25.228Z"
   },
   {
    "duration": 13,
    "start_time": "2021-08-19T10:53:25.943Z"
   },
   {
    "duration": 223,
    "start_time": "2021-08-19T10:53:25.958Z"
   },
   {
    "duration": 11,
    "start_time": "2021-08-19T10:53:26.185Z"
   },
   {
    "duration": 17,
    "start_time": "2021-08-19T10:53:26.199Z"
   },
   {
    "duration": 50,
    "start_time": "2021-08-19T10:53:26.219Z"
   },
   {
    "duration": 15,
    "start_time": "2021-08-19T10:53:26.271Z"
   },
   {
    "duration": 16,
    "start_time": "2021-08-19T10:53:26.289Z"
   },
   {
    "duration": 48,
    "start_time": "2021-08-19T10:53:26.308Z"
   },
   {
    "duration": 6541,
    "start_time": "2021-08-19T10:53:26.359Z"
   },
   {
    "duration": 711,
    "start_time": "2021-08-19T11:00:36.853Z"
   },
   {
    "duration": 697,
    "start_time": "2021-08-19T11:03:01.704Z"
   },
   {
    "duration": 677,
    "start_time": "2021-08-19T11:03:17.559Z"
   },
   {
    "duration": 831,
    "start_time": "2021-08-19T11:03:38.066Z"
   },
   {
    "duration": 679,
    "start_time": "2021-08-19T11:04:36.284Z"
   },
   {
    "duration": 676,
    "start_time": "2021-08-19T11:04:48.131Z"
   },
   {
    "duration": 682,
    "start_time": "2021-08-19T11:04:58.363Z"
   },
   {
    "duration": 787,
    "start_time": "2021-08-19T11:05:15.187Z"
   },
   {
    "duration": 699,
    "start_time": "2021-08-19T11:06:37.723Z"
   },
   {
    "duration": 703,
    "start_time": "2021-08-19T11:06:54.911Z"
   },
   {
    "duration": 802,
    "start_time": "2021-08-19T11:07:25.696Z"
   },
   {
    "duration": 715,
    "start_time": "2021-08-19T11:07:50.914Z"
   },
   {
    "duration": 634,
    "start_time": "2021-08-19T11:36:22.285Z"
   },
   {
    "duration": 709,
    "start_time": "2021-08-19T11:37:17.421Z"
   },
   {
    "duration": 800,
    "start_time": "2021-08-19T11:37:45.282Z"
   },
   {
    "duration": 638,
    "start_time": "2021-08-19T11:38:39.073Z"
   },
   {
    "duration": 15,
    "start_time": "2021-08-19T12:40:10.530Z"
   },
   {
    "duration": 211,
    "start_time": "2021-08-19T12:48:28.189Z"
   },
   {
    "duration": 17,
    "start_time": "2021-08-19T12:49:44.919Z"
   },
   {
    "duration": 218,
    "start_time": "2021-08-19T12:50:02.078Z"
   },
   {
    "duration": 6,
    "start_time": "2021-08-19T12:51:24.235Z"
   },
   {
    "duration": 7,
    "start_time": "2021-08-19T13:00:33.307Z"
   },
   {
    "duration": 13,
    "start_time": "2021-08-19T13:02:01.576Z"
   },
   {
    "duration": 2286,
    "start_time": "2021-08-19T13:35:52.725Z"
   },
   {
    "duration": 108,
    "start_time": "2021-08-19T13:35:55.014Z"
   },
   {
    "duration": 64,
    "start_time": "2021-08-19T13:35:55.125Z"
   },
   {
    "duration": 5,
    "start_time": "2021-08-19T13:35:55.192Z"
   },
   {
    "duration": 9,
    "start_time": "2021-08-19T13:35:55.199Z"
   },
   {
    "duration": 51,
    "start_time": "2021-08-19T13:35:55.210Z"
   },
   {
    "duration": 12,
    "start_time": "2021-08-19T13:35:55.263Z"
   },
   {
    "duration": 142,
    "start_time": "2021-08-19T13:35:55.278Z"
   },
   {
    "duration": 41,
    "start_time": "2021-08-19T13:35:55.424Z"
   },
   {
    "duration": 16,
    "start_time": "2021-08-19T13:35:55.468Z"
   },
   {
    "duration": 1101,
    "start_time": "2021-08-19T13:35:55.487Z"
   },
   {
    "duration": 128,
    "start_time": "2021-08-19T13:35:56.591Z"
   },
   {
    "duration": 701,
    "start_time": "2021-08-19T13:35:56.721Z"
   },
   {
    "duration": 677,
    "start_time": "2021-08-19T13:35:57.425Z"
   },
   {
    "duration": 750,
    "start_time": "2021-08-19T13:35:58.104Z"
   },
   {
    "duration": 691,
    "start_time": "2021-08-19T13:35:58.857Z"
   },
   {
    "duration": 689,
    "start_time": "2021-08-19T13:35:59.551Z"
   },
   {
    "duration": 969,
    "start_time": "2021-08-19T13:36:00.242Z"
   },
   {
    "duration": 6,
    "start_time": "2021-08-19T13:36:01.213Z"
   },
   {
    "duration": 706,
    "start_time": "2021-08-19T13:36:01.222Z"
   },
   {
    "duration": 7,
    "start_time": "2021-08-19T13:36:01.930Z"
   },
   {
    "duration": 237,
    "start_time": "2021-08-19T13:36:01.939Z"
   },
   {
    "duration": 11,
    "start_time": "2021-08-19T13:36:02.179Z"
   },
   {
    "duration": 38,
    "start_time": "2021-08-19T13:36:02.193Z"
   },
   {
    "duration": 30,
    "start_time": "2021-08-19T13:36:02.234Z"
   },
   {
    "duration": 740,
    "start_time": "2021-08-19T13:36:02.266Z"
   },
   {
    "duration": 19,
    "start_time": "2021-08-19T13:36:03.011Z"
   },
   {
    "duration": 34,
    "start_time": "2021-08-19T13:36:03.033Z"
   },
   {
    "duration": 14,
    "start_time": "2021-08-19T13:36:03.070Z"
   },
   {
    "duration": 47,
    "start_time": "2021-08-19T13:36:03.086Z"
   },
   {
    "duration": 4737,
    "start_time": "2021-08-19T13:36:03.137Z"
   },
   {
    "duration": 6,
    "start_time": "2021-08-19T14:03:18.539Z"
   },
   {
    "duration": 102,
    "start_time": "2021-08-19T14:48:27.509Z"
   },
   {
    "duration": 101,
    "start_time": "2021-08-19T14:49:41.976Z"
   },
   {
    "duration": 1152,
    "start_time": "2021-08-19T15:12:56.147Z"
   },
   {
    "duration": 1132,
    "start_time": "2021-08-19T15:13:10.858Z"
   },
   {
    "duration": 1137,
    "start_time": "2021-08-19T15:14:22.110Z"
   },
   {
    "duration": 1086,
    "start_time": "2021-08-19T15:14:37.196Z"
   },
   {
    "duration": 1108,
    "start_time": "2021-08-19T15:15:06.959Z"
   },
   {
    "duration": 2303,
    "start_time": "2021-08-19T15:15:20.397Z"
   },
   {
    "duration": 65,
    "start_time": "2021-08-19T15:15:22.703Z"
   },
   {
    "duration": 53,
    "start_time": "2021-08-19T15:15:22.772Z"
   },
   {
    "duration": 30,
    "start_time": "2021-08-19T15:15:22.828Z"
   },
   {
    "duration": 13,
    "start_time": "2021-08-19T15:15:22.861Z"
   },
   {
    "duration": 9,
    "start_time": "2021-08-19T15:15:22.877Z"
   },
   {
    "duration": 143,
    "start_time": "2021-08-19T15:15:22.889Z"
   },
   {
    "duration": 32,
    "start_time": "2021-08-19T15:15:23.035Z"
   },
   {
    "duration": 16,
    "start_time": "2021-08-19T15:15:23.070Z"
   },
   {
    "duration": 1593,
    "start_time": "2021-08-19T15:15:23.088Z"
   },
   {
    "duration": 125,
    "start_time": "2021-08-19T15:15:24.684Z"
   },
   {
    "duration": 686,
    "start_time": "2021-08-19T15:15:24.812Z"
   },
   {
    "duration": 698,
    "start_time": "2021-08-19T15:15:25.501Z"
   },
   {
    "duration": 720,
    "start_time": "2021-08-19T15:15:26.202Z"
   },
   {
    "duration": 694,
    "start_time": "2021-08-19T15:15:26.924Z"
   },
   {
    "duration": 706,
    "start_time": "2021-08-19T15:15:27.620Z"
   },
   {
    "duration": 944,
    "start_time": "2021-08-19T15:15:28.329Z"
   },
   {
    "duration": 6,
    "start_time": "2021-08-19T15:15:29.275Z"
   },
   {
    "duration": 647,
    "start_time": "2021-08-19T15:15:29.283Z"
   },
   {
    "duration": 7,
    "start_time": "2021-08-19T15:15:29.933Z"
   },
   {
    "duration": 238,
    "start_time": "2021-08-19T15:15:29.956Z"
   },
   {
    "duration": 12,
    "start_time": "2021-08-19T15:15:30.196Z"
   },
   {
    "duration": 27,
    "start_time": "2021-08-19T15:15:30.212Z"
   },
   {
    "duration": 25,
    "start_time": "2021-08-19T15:15:30.256Z"
   },
   {
    "duration": 783,
    "start_time": "2021-08-19T15:15:30.283Z"
   },
   {
    "duration": 20,
    "start_time": "2021-08-19T15:15:31.068Z"
   },
   {
    "duration": 25,
    "start_time": "2021-08-19T15:15:31.090Z"
   },
   {
    "duration": 25,
    "start_time": "2021-08-19T15:15:31.117Z"
   },
   {
    "duration": 28,
    "start_time": "2021-08-19T15:15:31.145Z"
   },
   {
    "duration": 4981,
    "start_time": "2021-08-19T15:15:31.175Z"
   },
   {
    "duration": 1183,
    "start_time": "2021-08-19T15:21:43.953Z"
   },
   {
    "duration": 1155,
    "start_time": "2021-08-19T15:22:31.765Z"
   },
   {
    "duration": 784,
    "start_time": "2021-08-19T15:22:58.663Z"
   },
   {
    "duration": 677,
    "start_time": "2021-08-19T15:23:19.985Z"
   },
   {
    "duration": 1141,
    "start_time": "2021-08-19T15:23:34.525Z"
   },
   {
    "duration": 2193,
    "start_time": "2021-08-19T15:23:47.179Z"
   },
   {
    "duration": 70,
    "start_time": "2021-08-19T15:23:49.374Z"
   },
   {
    "duration": 56,
    "start_time": "2021-08-19T15:23:49.450Z"
   },
   {
    "duration": 4,
    "start_time": "2021-08-19T15:23:49.509Z"
   },
   {
    "duration": 46,
    "start_time": "2021-08-19T15:23:49.516Z"
   },
   {
    "duration": 9,
    "start_time": "2021-08-19T15:23:49.565Z"
   },
   {
    "duration": 142,
    "start_time": "2021-08-19T15:23:49.577Z"
   },
   {
    "duration": 35,
    "start_time": "2021-08-19T15:23:49.722Z"
   },
   {
    "duration": 16,
    "start_time": "2021-08-19T15:23:49.760Z"
   },
   {
    "duration": 1223,
    "start_time": "2021-08-19T15:23:49.779Z"
   },
   {
    "duration": 126,
    "start_time": "2021-08-19T15:23:51.004Z"
   },
   {
    "duration": 696,
    "start_time": "2021-08-19T15:23:51.133Z"
   },
   {
    "duration": 678,
    "start_time": "2021-08-19T15:23:51.832Z"
   },
   {
    "duration": 732,
    "start_time": "2021-08-19T15:23:52.512Z"
   },
   {
    "duration": 688,
    "start_time": "2021-08-19T15:23:53.247Z"
   },
   {
    "duration": 715,
    "start_time": "2021-08-19T15:23:53.937Z"
   },
   {
    "duration": 959,
    "start_time": "2021-08-19T15:23:54.654Z"
   },
   {
    "duration": 5,
    "start_time": "2021-08-19T15:23:55.615Z"
   },
   {
    "duration": 749,
    "start_time": "2021-08-19T15:23:55.623Z"
   },
   {
    "duration": 6,
    "start_time": "2021-08-19T15:23:56.375Z"
   },
   {
    "duration": 239,
    "start_time": "2021-08-19T15:23:56.383Z"
   },
   {
    "duration": 31,
    "start_time": "2021-08-19T15:23:56.626Z"
   },
   {
    "duration": 6,
    "start_time": "2021-08-19T15:23:56.659Z"
   },
   {
    "duration": 27,
    "start_time": "2021-08-19T15:23:56.668Z"
   },
   {
    "duration": 739,
    "start_time": "2021-08-19T15:23:56.697Z"
   },
   {
    "duration": 30,
    "start_time": "2021-08-19T15:23:57.438Z"
   },
   {
    "duration": 10,
    "start_time": "2021-08-19T15:23:57.471Z"
   },
   {
    "duration": 21,
    "start_time": "2021-08-19T15:23:57.483Z"
   },
   {
    "duration": 15,
    "start_time": "2021-08-19T15:23:57.506Z"
   },
   {
    "duration": 4782,
    "start_time": "2021-08-19T15:23:57.556Z"
   },
   {
    "duration": 6,
    "start_time": "2021-08-19T16:38:08.540Z"
   },
   {
    "duration": 6,
    "start_time": "2021-08-19T16:47:13.961Z"
   },
   {
    "duration": 13,
    "start_time": "2021-08-19T17:14:01.828Z"
   },
   {
    "duration": 566,
    "start_time": "2021-08-19T17:15:46.661Z"
   },
   {
    "duration": 385,
    "start_time": "2021-08-19T17:15:57.280Z"
   },
   {
    "duration": 11,
    "start_time": "2021-08-19T17:17:28.090Z"
   },
   {
    "duration": 14,
    "start_time": "2021-08-19T17:17:39.670Z"
   },
   {
    "duration": 14,
    "start_time": "2021-08-19T17:19:33.832Z"
   },
   {
    "duration": 14,
    "start_time": "2021-08-19T17:24:03.146Z"
   },
   {
    "duration": 17,
    "start_time": "2021-08-19T17:24:30.863Z"
   },
   {
    "duration": 16,
    "start_time": "2021-08-19T17:25:13.960Z"
   },
   {
    "duration": 1134,
    "start_time": "2021-08-19T17:26:34.188Z"
   },
   {
    "duration": 15,
    "start_time": "2021-08-19T17:28:01.999Z"
   },
   {
    "duration": 18,
    "start_time": "2021-08-19T17:28:17.298Z"
   },
   {
    "duration": 18,
    "start_time": "2021-08-19T17:33:36.012Z"
   },
   {
    "duration": 147,
    "start_time": "2021-08-19T17:35:44.493Z"
   },
   {
    "duration": 21,
    "start_time": "2021-08-19T17:35:58.282Z"
   },
   {
    "duration": 24,
    "start_time": "2021-08-19T17:37:15.818Z"
   },
   {
    "duration": 21,
    "start_time": "2021-08-19T17:37:32.883Z"
   },
   {
    "duration": 23,
    "start_time": "2021-08-19T17:37:46.530Z"
   },
   {
    "duration": 836,
    "start_time": "2021-08-19T17:50:27.319Z"
   },
   {
    "duration": 1054,
    "start_time": "2021-08-19T17:50:49.213Z"
   },
   {
    "duration": 827,
    "start_time": "2021-08-19T17:51:22.188Z"
   },
   {
    "duration": 791,
    "start_time": "2021-08-19T17:54:40.591Z"
   },
   {
    "duration": 21,
    "start_time": "2021-08-19T18:10:25.871Z"
   },
   {
    "duration": 10,
    "start_time": "2021-08-19T18:10:28.805Z"
   },
   {
    "duration": 11,
    "start_time": "2021-08-19T18:10:46.836Z"
   },
   {
    "duration": 11,
    "start_time": "2021-08-19T18:11:02.578Z"
   },
   {
    "duration": 12,
    "start_time": "2021-08-19T18:11:04.808Z"
   },
   {
    "duration": 235,
    "start_time": "2021-08-19T18:11:20.686Z"
   },
   {
    "duration": 13,
    "start_time": "2021-08-19T18:11:23.806Z"
   },
   {
    "duration": 20,
    "start_time": "2021-08-19T18:11:32.258Z"
   },
   {
    "duration": 847,
    "start_time": "2021-08-19T18:11:40.466Z"
   },
   {
    "duration": 20,
    "start_time": "2021-08-19T18:11:54.800Z"
   },
   {
    "duration": 11,
    "start_time": "2021-08-19T18:11:57.890Z"
   },
   {
    "duration": 19,
    "start_time": "2021-08-19T18:13:40.495Z"
   },
   {
    "duration": 12,
    "start_time": "2021-08-19T18:13:44.729Z"
   },
   {
    "duration": 11,
    "start_time": "2021-08-19T18:13:59.874Z"
   },
   {
    "duration": 9,
    "start_time": "2021-08-19T18:14:02.011Z"
   },
   {
    "duration": 20,
    "start_time": "2021-08-19T18:19:46.744Z"
   },
   {
    "duration": 12,
    "start_time": "2021-08-19T18:21:03.030Z"
   },
   {
    "duration": 10,
    "start_time": "2021-08-19T18:27:13.459Z"
   },
   {
    "duration": 10,
    "start_time": "2021-08-19T18:27:15.939Z"
   },
   {
    "duration": 1985,
    "start_time": "2021-08-19T18:34:35.233Z"
   },
   {
    "duration": 80,
    "start_time": "2021-08-19T18:34:37.222Z"
   },
   {
    "duration": 58,
    "start_time": "2021-08-19T18:34:37.307Z"
   },
   {
    "duration": 4,
    "start_time": "2021-08-19T18:34:37.368Z"
   },
   {
    "duration": 15,
    "start_time": "2021-08-19T18:34:37.375Z"
   },
   {
    "duration": 21,
    "start_time": "2021-08-19T18:34:37.393Z"
   },
   {
    "duration": 153,
    "start_time": "2021-08-19T18:34:37.418Z"
   },
   {
    "duration": 16,
    "start_time": "2021-08-19T18:34:37.574Z"
   },
   {
    "duration": 15,
    "start_time": "2021-08-19T18:34:37.593Z"
   },
   {
    "duration": 1222,
    "start_time": "2021-08-19T18:34:37.611Z"
   },
   {
    "duration": 127,
    "start_time": "2021-08-19T18:34:38.836Z"
   },
   {
    "duration": 685,
    "start_time": "2021-08-19T18:34:38.966Z"
   },
   {
    "duration": 669,
    "start_time": "2021-08-19T18:34:39.656Z"
   },
   {
    "duration": 786,
    "start_time": "2021-08-19T18:34:40.329Z"
   },
   {
    "duration": 785,
    "start_time": "2021-08-19T18:34:41.117Z"
   },
   {
    "duration": 707,
    "start_time": "2021-08-19T18:34:41.905Z"
   },
   {
    "duration": 934,
    "start_time": "2021-08-19T18:34:42.614Z"
   },
   {
    "duration": 8,
    "start_time": "2021-08-19T18:34:43.555Z"
   },
   {
    "duration": 647,
    "start_time": "2021-08-19T18:34:43.566Z"
   },
   {
    "duration": 8,
    "start_time": "2021-08-19T18:34:44.215Z"
   },
   {
    "duration": 231,
    "start_time": "2021-08-19T18:34:44.226Z"
   },
   {
    "duration": 17,
    "start_time": "2021-08-19T18:34:44.463Z"
   },
   {
    "duration": 24,
    "start_time": "2021-08-19T18:34:44.484Z"
   },
   {
    "duration": 775,
    "start_time": "2021-08-19T18:34:44.556Z"
   },
   {
    "duration": 32,
    "start_time": "2021-08-19T18:34:45.333Z"
   },
   {
    "duration": 18,
    "start_time": "2021-08-19T18:34:45.367Z"
   },
   {
    "duration": 11,
    "start_time": "2021-08-19T18:34:45.387Z"
   },
   {
    "duration": 13,
    "start_time": "2021-08-19T18:34:45.401Z"
   },
   {
    "duration": 5003,
    "start_time": "2021-08-19T18:34:45.458Z"
   },
   {
    "duration": 2013,
    "start_time": "2021-08-19T18:43:57.501Z"
   },
   {
    "duration": 66,
    "start_time": "2021-08-19T18:43:59.517Z"
   },
   {
    "duration": 56,
    "start_time": "2021-08-19T18:43:59.586Z"
   },
   {
    "duration": 4,
    "start_time": "2021-08-19T18:43:59.644Z"
   },
   {
    "duration": 20,
    "start_time": "2021-08-19T18:43:59.651Z"
   },
   {
    "duration": 20,
    "start_time": "2021-08-19T18:43:59.673Z"
   },
   {
    "duration": 111,
    "start_time": "2021-08-19T18:43:59.695Z"
   },
   {
    "duration": 15,
    "start_time": "2021-08-19T18:43:59.811Z"
   },
   {
    "duration": 15,
    "start_time": "2021-08-19T18:43:59.830Z"
   },
   {
    "duration": 1309,
    "start_time": "2021-08-19T18:43:59.848Z"
   },
   {
    "duration": 208,
    "start_time": "2021-08-19T18:44:01.160Z"
   },
   {
    "duration": 988,
    "start_time": "2021-08-19T18:44:01.371Z"
   },
   {
    "duration": 806,
    "start_time": "2021-08-19T18:44:02.361Z"
   },
   {
    "duration": 678,
    "start_time": "2021-08-19T18:44:03.171Z"
   },
   {
    "duration": 686,
    "start_time": "2021-08-19T18:44:03.852Z"
   },
   {
    "duration": 693,
    "start_time": "2021-08-19T18:44:04.540Z"
   },
   {
    "duration": 933,
    "start_time": "2021-08-19T18:44:05.235Z"
   },
   {
    "duration": 6,
    "start_time": "2021-08-19T18:44:06.170Z"
   },
   {
    "duration": 655,
    "start_time": "2021-08-19T18:44:06.178Z"
   },
   {
    "duration": 5,
    "start_time": "2021-08-19T18:44:06.836Z"
   },
   {
    "duration": 260,
    "start_time": "2021-08-19T18:44:06.843Z"
   },
   {
    "duration": 16,
    "start_time": "2021-08-19T18:44:07.105Z"
   },
   {
    "duration": 44,
    "start_time": "2021-08-19T18:44:07.125Z"
   },
   {
    "duration": 767,
    "start_time": "2021-08-19T18:44:07.171Z"
   },
   {
    "duration": 27,
    "start_time": "2021-08-19T18:44:07.941Z"
   },
   {
    "duration": 23,
    "start_time": "2021-08-19T18:44:07.970Z"
   },
   {
    "duration": 26,
    "start_time": "2021-08-19T18:44:07.996Z"
   },
   {
    "duration": 17,
    "start_time": "2021-08-19T18:44:08.025Z"
   },
   {
    "duration": 4716,
    "start_time": "2021-08-19T18:44:08.056Z"
   },
   {
    "duration": 1878,
    "start_time": "2021-08-20T06:17:21.982Z"
   },
   {
    "duration": 77,
    "start_time": "2021-08-20T06:17:23.863Z"
   },
   {
    "duration": 54,
    "start_time": "2021-08-20T06:17:23.942Z"
   },
   {
    "duration": 4,
    "start_time": "2021-08-20T06:17:23.999Z"
   },
   {
    "duration": 14,
    "start_time": "2021-08-20T06:17:24.005Z"
   },
   {
    "duration": 7,
    "start_time": "2021-08-20T06:17:24.056Z"
   },
   {
    "duration": 134,
    "start_time": "2021-08-20T06:17:24.066Z"
   },
   {
    "duration": 16,
    "start_time": "2021-08-20T06:17:24.203Z"
   },
   {
    "duration": 45,
    "start_time": "2021-08-20T06:17:24.221Z"
   },
   {
    "duration": 1509,
    "start_time": "2021-08-20T06:17:24.269Z"
   },
   {
    "duration": 214,
    "start_time": "2021-08-20T06:17:25.781Z"
   },
   {
    "duration": 747,
    "start_time": "2021-08-20T06:17:25.998Z"
   },
   {
    "duration": 657,
    "start_time": "2021-08-20T06:17:26.748Z"
   },
   {
    "duration": 672,
    "start_time": "2021-08-20T06:17:27.407Z"
   },
   {
    "duration": 688,
    "start_time": "2021-08-20T06:17:28.082Z"
   },
   {
    "duration": 769,
    "start_time": "2021-08-20T06:17:28.773Z"
   },
   {
    "duration": 960,
    "start_time": "2021-08-20T06:17:29.544Z"
   },
   {
    "duration": 6,
    "start_time": "2021-08-20T06:17:30.509Z"
   },
   {
    "duration": 704,
    "start_time": "2021-08-20T06:17:30.518Z"
   },
   {
    "duration": 6,
    "start_time": "2021-08-20T06:17:31.224Z"
   },
   {
    "duration": 233,
    "start_time": "2021-08-20T06:17:31.232Z"
   },
   {
    "duration": 13,
    "start_time": "2021-08-20T06:17:31.467Z"
   },
   {
    "duration": 19,
    "start_time": "2021-08-20T06:17:31.483Z"
   },
   {
    "duration": 786,
    "start_time": "2021-08-20T06:17:31.505Z"
   },
   {
    "duration": 21,
    "start_time": "2021-08-20T06:17:32.294Z"
   },
   {
    "duration": 41,
    "start_time": "2021-08-20T06:17:32.318Z"
   },
   {
    "duration": 11,
    "start_time": "2021-08-20T06:17:32.362Z"
   },
   {
    "duration": 16,
    "start_time": "2021-08-20T06:17:32.376Z"
   },
   {
    "duration": 2180,
    "start_time": "2021-08-20T12:05:51.670Z"
   },
   {
    "duration": 91,
    "start_time": "2021-08-20T12:05:53.853Z"
   },
   {
    "duration": 77,
    "start_time": "2021-08-20T12:05:53.947Z"
   },
   {
    "duration": 6,
    "start_time": "2021-08-20T12:05:54.028Z"
   },
   {
    "duration": 20,
    "start_time": "2021-08-20T12:05:54.064Z"
   },
   {
    "duration": 10,
    "start_time": "2021-08-20T12:05:54.087Z"
   },
   {
    "duration": 187,
    "start_time": "2021-08-20T12:05:54.099Z"
   },
   {
    "duration": 19,
    "start_time": "2021-08-20T12:05:54.292Z"
   },
   {
    "duration": 18,
    "start_time": "2021-08-20T12:05:54.315Z"
   },
   {
    "duration": 1628,
    "start_time": "2021-08-20T12:05:54.364Z"
   },
   {
    "duration": 137,
    "start_time": "2021-08-20T12:05:55.996Z"
   },
   {
    "duration": 694,
    "start_time": "2021-08-20T12:05:56.135Z"
   },
   {
    "duration": 698,
    "start_time": "2021-08-20T12:05:56.831Z"
   },
   {
    "duration": 734,
    "start_time": "2021-08-20T12:05:57.532Z"
   },
   {
    "duration": 773,
    "start_time": "2021-08-20T12:05:58.269Z"
   },
   {
    "duration": 706,
    "start_time": "2021-08-20T12:05:59.045Z"
   },
   {
    "duration": 941,
    "start_time": "2021-08-20T12:05:59.753Z"
   },
   {
    "duration": 6,
    "start_time": "2021-08-20T12:06:00.696Z"
   },
   {
    "duration": 693,
    "start_time": "2021-08-20T12:06:00.705Z"
   },
   {
    "duration": 6,
    "start_time": "2021-08-20T12:06:01.401Z"
   },
   {
    "duration": 226,
    "start_time": "2021-08-20T12:06:01.409Z"
   },
   {
    "duration": 26,
    "start_time": "2021-08-20T12:06:01.637Z"
   },
   {
    "duration": 40,
    "start_time": "2021-08-20T12:06:01.671Z"
   },
   {
    "duration": 1260,
    "start_time": "2021-08-20T12:06:01.715Z"
   },
   {
    "duration": 31,
    "start_time": "2021-08-20T12:06:02.978Z"
   },
   {
    "duration": 24,
    "start_time": "2021-08-20T12:06:03.012Z"
   },
   {
    "duration": 37,
    "start_time": "2021-08-20T12:06:03.039Z"
   },
   {
    "duration": 18,
    "start_time": "2021-08-20T12:06:03.079Z"
   },
   {
    "duration": 2023,
    "start_time": "2021-08-20T12:58:45.273Z"
   },
   {
    "duration": 74,
    "start_time": "2021-08-20T12:58:47.299Z"
   },
   {
    "duration": 54,
    "start_time": "2021-08-20T12:58:47.376Z"
   },
   {
    "duration": 4,
    "start_time": "2021-08-20T12:58:47.433Z"
   },
   {
    "duration": 30,
    "start_time": "2021-08-20T12:58:47.440Z"
   },
   {
    "duration": 15,
    "start_time": "2021-08-20T12:58:47.473Z"
   },
   {
    "duration": 132,
    "start_time": "2021-08-20T12:58:47.491Z"
   },
   {
    "duration": 41,
    "start_time": "2021-08-20T12:58:47.630Z"
   },
   {
    "duration": 17,
    "start_time": "2021-08-20T12:58:47.675Z"
   },
   {
    "duration": 1173,
    "start_time": "2021-08-20T12:58:47.695Z"
   },
   {
    "duration": 112,
    "start_time": "2021-08-20T12:58:48.871Z"
   },
   {
    "duration": 681,
    "start_time": "2021-08-20T12:58:48.985Z"
   },
   {
    "duration": 664,
    "start_time": "2021-08-20T12:58:49.668Z"
   },
   {
    "duration": 738,
    "start_time": "2021-08-20T12:58:50.335Z"
   },
   {
    "duration": 701,
    "start_time": "2021-08-20T12:58:51.076Z"
   },
   {
    "duration": 672,
    "start_time": "2021-08-20T12:58:51.779Z"
   },
   {
    "duration": 1064,
    "start_time": "2021-08-20T12:58:52.453Z"
   },
   {
    "duration": 7,
    "start_time": "2021-08-20T12:58:53.520Z"
   },
   {
    "duration": 705,
    "start_time": "2021-08-20T12:58:53.530Z"
   },
   {
    "duration": 7,
    "start_time": "2021-08-20T12:58:54.238Z"
   },
   {
    "duration": 239,
    "start_time": "2021-08-20T12:58:54.262Z"
   },
   {
    "duration": 14,
    "start_time": "2021-08-20T12:58:54.504Z"
   },
   {
    "duration": 45,
    "start_time": "2021-08-20T12:58:54.523Z"
   },
   {
    "duration": 784,
    "start_time": "2021-08-20T12:58:54.571Z"
   },
   {
    "duration": 21,
    "start_time": "2021-08-20T12:58:55.357Z"
   },
   {
    "duration": 13,
    "start_time": "2021-08-20T12:58:55.380Z"
   },
   {
    "duration": 11,
    "start_time": "2021-08-20T12:58:55.396Z"
   },
   {
    "duration": 52,
    "start_time": "2021-08-20T12:58:55.410Z"
   },
   {
    "duration": 854,
    "start_time": "2021-08-21T07:54:02.880Z"
   },
   {
    "duration": 64,
    "start_time": "2021-08-21T07:56:09.963Z"
   },
   {
    "duration": 64,
    "start_time": "2021-08-21T07:56:37.043Z"
   },
   {
    "duration": 53,
    "start_time": "2021-08-21T08:14:41.081Z"
   },
   {
    "duration": 97,
    "start_time": "2021-08-21T08:15:35.239Z"
   },
   {
    "duration": 50,
    "start_time": "2021-08-21T08:15:37.991Z"
   },
   {
    "duration": 90,
    "start_time": "2021-08-21T08:24:36.424Z"
   },
   {
    "duration": 50,
    "start_time": "2021-08-21T08:24:41.576Z"
   },
   {
    "duration": 1906,
    "start_time": "2021-08-21T08:25:47.561Z"
   },
   {
    "duration": 73,
    "start_time": "2021-08-21T08:25:49.473Z"
   },
   {
    "duration": 55,
    "start_time": "2021-08-21T08:25:49.549Z"
   },
   {
    "duration": 4,
    "start_time": "2021-08-21T08:25:49.607Z"
   },
   {
    "duration": 42,
    "start_time": "2021-08-21T08:25:49.614Z"
   },
   {
    "duration": 10,
    "start_time": "2021-08-21T08:25:49.658Z"
   },
   {
    "duration": 140,
    "start_time": "2021-08-21T08:25:49.673Z"
   },
   {
    "duration": 41,
    "start_time": "2021-08-21T08:25:49.816Z"
   },
   {
    "duration": 15,
    "start_time": "2021-08-21T08:25:49.860Z"
   },
   {
    "duration": 1174,
    "start_time": "2021-08-21T08:25:49.878Z"
   },
   {
    "duration": 121,
    "start_time": "2021-08-21T08:25:51.056Z"
   },
   {
    "duration": 680,
    "start_time": "2021-08-21T08:25:51.180Z"
   },
   {
    "duration": 716,
    "start_time": "2021-08-21T08:25:51.863Z"
   },
   {
    "duration": 683,
    "start_time": "2021-08-21T08:25:52.581Z"
   },
   {
    "duration": 697,
    "start_time": "2021-08-21T08:25:53.266Z"
   },
   {
    "duration": 694,
    "start_time": "2021-08-21T08:25:53.965Z"
   },
   {
    "duration": 919,
    "start_time": "2021-08-21T08:25:54.661Z"
   },
   {
    "duration": 7,
    "start_time": "2021-08-21T08:25:55.582Z"
   },
   {
    "duration": 633,
    "start_time": "2021-08-21T08:25:55.592Z"
   },
   {
    "duration": 5,
    "start_time": "2021-08-21T08:25:56.228Z"
   },
   {
    "duration": 272,
    "start_time": "2021-08-21T08:25:56.235Z"
   },
   {
    "duration": 13,
    "start_time": "2021-08-21T08:25:56.512Z"
   },
   {
    "duration": 42,
    "start_time": "2021-08-21T08:25:56.528Z"
   },
   {
    "duration": 802,
    "start_time": "2021-08-21T08:25:56.573Z"
   },
   {
    "duration": 20,
    "start_time": "2021-08-21T08:25:57.378Z"
   },
   {
    "duration": 16,
    "start_time": "2021-08-21T08:25:57.401Z"
   },
   {
    "duration": 45,
    "start_time": "2021-08-21T08:25:57.419Z"
   },
   {
    "duration": 12,
    "start_time": "2021-08-21T08:25:57.466Z"
   },
   {
    "duration": 1985,
    "start_time": "2021-08-21T08:27:46.098Z"
   },
   {
    "duration": 93,
    "start_time": "2021-08-21T08:27:48.086Z"
   },
   {
    "duration": 79,
    "start_time": "2021-08-21T08:27:48.185Z"
   },
   {
    "duration": 5,
    "start_time": "2021-08-21T08:27:48.267Z"
   },
   {
    "duration": 33,
    "start_time": "2021-08-21T08:27:48.274Z"
   },
   {
    "duration": 147,
    "start_time": "2021-08-21T08:27:48.310Z"
   },
   {
    "duration": 17,
    "start_time": "2021-08-21T08:27:48.461Z"
   },
   {
    "duration": 15,
    "start_time": "2021-08-21T08:27:48.481Z"
   },
   {
    "duration": 1550,
    "start_time": "2021-08-21T08:27:48.499Z"
   },
   {
    "duration": 126,
    "start_time": "2021-08-21T08:27:50.052Z"
   },
   {
    "duration": 914,
    "start_time": "2021-08-21T08:27:50.182Z"
   },
   {
    "duration": 822,
    "start_time": "2021-08-21T08:27:51.098Z"
   },
   {
    "duration": 707,
    "start_time": "2021-08-21T08:27:51.923Z"
   },
   {
    "duration": 683,
    "start_time": "2021-08-21T08:27:52.633Z"
   },
   {
    "duration": 708,
    "start_time": "2021-08-21T08:27:53.320Z"
   },
   {
    "duration": 948,
    "start_time": "2021-08-21T08:27:54.031Z"
   },
   {
    "duration": 8,
    "start_time": "2021-08-21T08:27:54.982Z"
   },
   {
    "duration": 704,
    "start_time": "2021-08-21T08:27:54.993Z"
   },
   {
    "duration": 5,
    "start_time": "2021-08-21T08:27:55.701Z"
   },
   {
    "duration": 250,
    "start_time": "2021-08-21T08:27:55.708Z"
   },
   {
    "duration": 14,
    "start_time": "2021-08-21T08:27:55.961Z"
   },
   {
    "duration": 22,
    "start_time": "2021-08-21T08:27:55.982Z"
   },
   {
    "duration": 825,
    "start_time": "2021-08-21T08:27:56.007Z"
   },
   {
    "duration": 36,
    "start_time": "2021-08-21T08:27:56.835Z"
   },
   {
    "duration": 27,
    "start_time": "2021-08-21T08:27:56.873Z"
   },
   {
    "duration": 11,
    "start_time": "2021-08-21T08:27:56.902Z"
   },
   {
    "duration": 10,
    "start_time": "2021-08-21T08:27:56.915Z"
   },
   {
    "duration": 1237,
    "start_time": "2021-08-21T08:31:31.532Z"
   },
   {
    "duration": 1307,
    "start_time": "2021-08-21T08:33:16.188Z"
   },
   {
    "duration": 1100,
    "start_time": "2021-08-21T08:33:27.523Z"
   },
   {
    "duration": 839,
    "start_time": "2021-08-21T08:33:35.082Z"
   },
   {
    "duration": 1198,
    "start_time": "2021-08-21T08:33:52.549Z"
   },
   {
    "duration": 1152,
    "start_time": "2021-08-21T08:35:24.415Z"
   },
   {
    "duration": 1213,
    "start_time": "2021-08-21T08:35:32.126Z"
   },
   {
    "duration": 915,
    "start_time": "2021-08-21T08:36:37.005Z"
   },
   {
    "duration": 1663,
    "start_time": "2021-08-21T08:41:04.286Z"
   },
   {
    "duration": 1057,
    "start_time": "2021-08-21T08:46:32.250Z"
   },
   {
    "duration": 1029,
    "start_time": "2021-08-21T08:47:28.823Z"
   },
   {
    "duration": 409,
    "start_time": "2021-08-21T08:47:41.283Z"
   },
   {
    "duration": 1177,
    "start_time": "2021-08-21T08:47:54.535Z"
   },
   {
    "duration": 1018,
    "start_time": "2021-08-21T08:48:16.831Z"
   },
   {
    "duration": 901,
    "start_time": "2021-08-21T08:50:51.391Z"
   },
   {
    "duration": 841,
    "start_time": "2021-08-21T08:53:50.863Z"
   },
   {
    "duration": 21,
    "start_time": "2021-08-21T09:23:36.235Z"
   },
   {
    "duration": 1992,
    "start_time": "2021-08-21T09:23:58.019Z"
   },
   {
    "duration": 100,
    "start_time": "2021-08-21T09:24:00.014Z"
   },
   {
    "duration": 61,
    "start_time": "2021-08-21T09:24:00.116Z"
   },
   {
    "duration": 4,
    "start_time": "2021-08-21T09:24:00.180Z"
   },
   {
    "duration": 31,
    "start_time": "2021-08-21T09:24:00.187Z"
   },
   {
    "duration": 118,
    "start_time": "2021-08-21T09:24:00.220Z"
   },
   {
    "duration": 29,
    "start_time": "2021-08-21T09:24:00.340Z"
   },
   {
    "duration": 26,
    "start_time": "2021-08-21T09:24:00.372Z"
   },
   {
    "duration": 1202,
    "start_time": "2021-08-21T09:24:00.401Z"
   },
   {
    "duration": 185,
    "start_time": "2021-08-21T09:24:01.605Z"
   },
   {
    "duration": 1027,
    "start_time": "2021-08-21T09:24:01.793Z"
   },
   {
    "duration": 667,
    "start_time": "2021-08-21T09:24:02.822Z"
   },
   {
    "duration": 705,
    "start_time": "2021-08-21T09:24:03.491Z"
   },
   {
    "duration": 698,
    "start_time": "2021-08-21T09:24:04.198Z"
   },
   {
    "duration": 744,
    "start_time": "2021-08-21T09:24:04.899Z"
   },
   {
    "duration": 946,
    "start_time": "2021-08-21T09:24:05.645Z"
   },
   {
    "duration": 6,
    "start_time": "2021-08-21T09:24:06.593Z"
   },
   {
    "duration": 1303,
    "start_time": "2021-08-21T09:24:06.601Z"
   },
   {
    "duration": 6,
    "start_time": "2021-08-21T09:24:07.906Z"
   },
   {
    "duration": 280,
    "start_time": "2021-08-21T09:24:07.915Z"
   },
   {
    "duration": 13,
    "start_time": "2021-08-21T09:24:08.197Z"
   },
   {
    "duration": 29,
    "start_time": "2021-08-21T09:24:08.213Z"
   },
   {
    "duration": 758,
    "start_time": "2021-08-21T09:24:08.259Z"
   },
   {
    "duration": 38,
    "start_time": "2021-08-21T09:24:09.019Z"
   },
   {
    "duration": 13,
    "start_time": "2021-08-21T09:24:09.059Z"
   },
   {
    "duration": 15,
    "start_time": "2021-08-21T09:24:09.075Z"
   },
   {
    "duration": 16,
    "start_time": "2021-08-21T09:24:09.092Z"
   },
   {
    "duration": 2151,
    "start_time": "2021-10-05T18:51:37.069Z"
   },
   {
    "duration": 74,
    "start_time": "2021-10-05T18:51:39.226Z"
   },
   {
    "duration": 133,
    "start_time": "2021-10-05T18:51:39.303Z"
   },
   {
    "duration": 6,
    "start_time": "2021-10-05T18:51:39.439Z"
   },
   {
    "duration": 9,
    "start_time": "2021-10-05T18:51:39.448Z"
   },
   {
    "duration": 283,
    "start_time": "2021-10-05T18:51:39.459Z"
   },
   {
    "duration": 15,
    "start_time": "2021-10-05T18:51:39.745Z"
   },
   {
    "duration": 78,
    "start_time": "2021-10-05T18:51:39.764Z"
   },
   {
    "duration": 1492,
    "start_time": "2021-10-05T18:51:39.845Z"
   },
   {
    "duration": 121,
    "start_time": "2021-10-05T18:51:41.339Z"
   },
   {
    "duration": 711,
    "start_time": "2021-10-05T18:51:41.463Z"
   },
   {
    "duration": 715,
    "start_time": "2021-10-05T18:51:42.177Z"
   },
   {
    "duration": 763,
    "start_time": "2021-10-05T18:51:42.895Z"
   },
   {
    "duration": 723,
    "start_time": "2021-10-05T18:51:43.661Z"
   },
   {
    "duration": 769,
    "start_time": "2021-10-05T18:51:44.386Z"
   },
   {
    "duration": 943,
    "start_time": "2021-10-05T18:51:45.157Z"
   },
   {
    "duration": 5,
    "start_time": "2021-10-05T18:51:46.102Z"
   },
   {
    "duration": 1299,
    "start_time": "2021-10-05T18:51:46.109Z"
   },
   {
    "duration": 20,
    "start_time": "2021-10-05T18:51:47.411Z"
   },
   {
    "duration": 311,
    "start_time": "2021-10-05T18:51:47.434Z"
   },
   {
    "duration": 19,
    "start_time": "2021-10-05T18:51:47.748Z"
   },
   {
    "duration": 24,
    "start_time": "2021-10-05T18:51:47.770Z"
   },
   {
    "duration": 1034,
    "start_time": "2021-10-05T18:51:47.826Z"
   },
   {
    "duration": 29,
    "start_time": "2021-10-05T18:51:48.863Z"
   },
   {
    "duration": 40,
    "start_time": "2021-10-05T18:51:48.895Z"
   },
   {
    "duration": 16,
    "start_time": "2021-10-05T18:51:48.938Z"
   },
   {
    "duration": 15,
    "start_time": "2021-10-05T18:51:48.957Z"
   },
   {
    "duration": 2031,
    "start_time": "2021-10-05T18:54:17.739Z"
   },
   {
    "duration": 914,
    "start_time": "2021-10-05T18:54:19.773Z"
   },
   {
    "duration": 61,
    "start_time": "2021-10-05T18:54:20.691Z"
   },
   {
    "duration": 6,
    "start_time": "2021-10-05T18:54:20.755Z"
   },
   {
    "duration": 22,
    "start_time": "2021-10-05T18:54:20.764Z"
   },
   {
    "duration": 169,
    "start_time": "2021-10-05T18:54:20.789Z"
   },
   {
    "duration": 20,
    "start_time": "2021-10-05T18:54:20.961Z"
   },
   {
    "duration": 16,
    "start_time": "2021-10-05T18:54:20.984Z"
   },
   {
    "duration": 1335,
    "start_time": "2021-10-05T18:54:21.027Z"
   },
   {
    "duration": 172,
    "start_time": "2021-10-05T18:54:22.367Z"
   },
   {
    "duration": 1027,
    "start_time": "2021-10-05T18:54:22.543Z"
   },
   {
    "duration": 997,
    "start_time": "2021-10-05T18:54:23.573Z"
   },
   {
    "duration": 774,
    "start_time": "2021-10-05T18:54:24.573Z"
   },
   {
    "duration": 843,
    "start_time": "2021-10-05T18:54:25.351Z"
   },
   {
    "duration": 743,
    "start_time": "2021-10-05T18:54:26.197Z"
   },
   {
    "duration": 968,
    "start_time": "2021-10-05T18:54:26.942Z"
   },
   {
    "duration": 9,
    "start_time": "2021-10-05T18:54:27.913Z"
   },
   {
    "duration": 1325,
    "start_time": "2021-10-05T18:54:27.928Z"
   },
   {
    "duration": 6,
    "start_time": "2021-10-05T18:54:29.255Z"
   },
   {
    "duration": 274,
    "start_time": "2021-10-05T18:54:29.266Z"
   },
   {
    "duration": 23,
    "start_time": "2021-10-05T18:54:29.542Z"
   },
   {
    "duration": 20,
    "start_time": "2021-10-05T18:54:29.568Z"
   },
   {
    "duration": 988,
    "start_time": "2021-10-05T18:54:29.591Z"
   },
   {
    "duration": 21,
    "start_time": "2021-10-05T18:54:30.582Z"
   },
   {
    "duration": 58,
    "start_time": "2021-10-05T18:54:30.628Z"
   },
   {
    "duration": 36,
    "start_time": "2021-10-05T18:54:30.689Z"
   },
   {
    "duration": 25,
    "start_time": "2021-10-05T18:54:30.733Z"
   }
  ],
  "kernelspec": {
   "display_name": "Python 3",
   "language": "python",
   "name": "python3"
  },
  "language_info": {
   "codemirror_mode": {
    "name": "ipython",
    "version": 3
   },
   "file_extension": ".py",
   "mimetype": "text/x-python",
   "name": "python",
   "nbconvert_exporter": "python",
   "pygments_lexer": "ipython3",
   "version": "3.7.10"
  },
  "toc": {
   "base_numbering": 1,
   "nav_menu": {},
   "number_sections": true,
   "sideBar": true,
   "skip_h1_title": true,
   "title_cell": "Содержание",
   "title_sidebar": "Содержание",
   "toc_cell": true,
   "toc_position": {
    "height": "calc(100% - 180px)",
    "left": "10px",
    "top": "150px",
    "width": "270.391px"
   },
   "toc_section_display": true,
   "toc_window_display": true
  }
 },
 "nbformat": 4,
 "nbformat_minor": 2
}
