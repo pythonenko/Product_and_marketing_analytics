{
 "cells": [
  {
   "cell_type": "markdown",
   "metadata": {
    "toc": true
   },
   "source": [
    "<h1>Содержание<span class=\"tocSkip\"></span></h1>\n",
    "<div class=\"toc\"><ul class=\"toc-item\"><li><span><a href=\"#Изучение-данных\" data-toc-modified-id=\"Изучение-данных-1\"><span class=\"toc-item-num\">1&nbsp;&nbsp;</span>Изучение данных</a></span></li><li><span><a href=\"#Подготовка-данных\" data-toc-modified-id=\"Подготовка-данных-2\"><span class=\"toc-item-num\">2&nbsp;&nbsp;</span>Подготовка данных</a></span><ul class=\"toc-item\"><li><span><a href=\"#Изменим-тип-данных-и-обработаем-переменные-дат-и-времени\" data-toc-modified-id=\"Изменим-тип-данных-и-обработаем-переменные-дат-и-времени-2.1\"><span class=\"toc-item-num\">2.1&nbsp;&nbsp;</span>Изменим тип данных и обработаем переменные дат и времени</a></span></li><li><span><a href=\"#Проверим-наличие-дубликатов\" data-toc-modified-id=\"Проверим-наличие-дубликатов-2.2\"><span class=\"toc-item-num\">2.2&nbsp;&nbsp;</span>Проверим наличие дубликатов</a></span></li><li><span><a href=\"#Изучим-данные-на-предмет-аномалий-и-ошибок\" data-toc-modified-id=\"Изучим-данные-на-предмет-аномалий-и-ошибок-2.3\"><span class=\"toc-item-num\">2.3&nbsp;&nbsp;</span>Изучим данные на предмет аномалий и ошибок</a></span></li><li><span><a href=\"#Обработаем-нулевые-значения\" data-toc-modified-id=\"Обработаем-нулевые-значения-2.4\"><span class=\"toc-item-num\">2.4&nbsp;&nbsp;</span>Обработаем нулевые значения</a></span></li><li><span><a href=\"#Проверим-категориальные-переменные\" data-toc-modified-id=\"Проверим-категориальные-переменные-2.5\"><span class=\"toc-item-num\">2.5&nbsp;&nbsp;</span>Проверим категориальные переменные</a></span></li></ul></li><li><span><a href=\"#Исследовательский-анализ-данных\" data-toc-modified-id=\"Исследовательский-анализ-данных-3\"><span class=\"toc-item-num\">3&nbsp;&nbsp;</span>Исследовательский анализ данных</a></span><ul class=\"toc-item\"><li><span><a href=\"#Расчет-метрик-по-месяцам-в-разрезе-пользователей\" data-toc-modified-id=\"Расчет-метрик-по-месяцам-в-разрезе-пользователей-3.1\"><span class=\"toc-item-num\">3.1&nbsp;&nbsp;</span>Расчет метрик по месяцам в разрезе пользователей</a></span></li><li><span><a href=\"#Посчитаем-помесячную-выручку-с-каждого-пользователя\" data-toc-modified-id=\"Посчитаем-помесячную-выручку-с-каждого-пользователя-3.2\"><span class=\"toc-item-num\">3.2&nbsp;&nbsp;</span>Посчитаем помесячную выручку с каждого пользователя</a></span></li><li><span><a href=\"#Проанализируем-различия-в-потреблении-между-тарифами\" data-toc-modified-id=\"Проанализируем-различия-в-потреблении-между-тарифами-3.3\"><span class=\"toc-item-num\">3.3&nbsp;&nbsp;</span>Проанализируем различия в потреблении между тарифами</a></span></li></ul></li><li><span><a href=\"#Проверка-гипотез\" data-toc-modified-id=\"Проверка-гипотез-4\"><span class=\"toc-item-num\">4&nbsp;&nbsp;</span>Проверка гипотез</a></span><ul class=\"toc-item\"><li><span><a href=\"#Сравнение-средней-выручки-по-тарифам\" data-toc-modified-id=\"Сравнение-средней-выручки-по-тарифам-4.1\"><span class=\"toc-item-num\">4.1&nbsp;&nbsp;</span>Сравнение средней выручки по тарифам</a></span></li><li><span><a href=\"#Сравнение-средней-выручки-по-тарифам\" data-toc-modified-id=\"Сравнение-средней-выручки-по-тарифам-4.2\"><span class=\"toc-item-num\">4.2&nbsp;&nbsp;</span>Сравнение средней выручки по тарифам</a></span></li></ul></li><li><span><a href=\"#Общий-вывод\" data-toc-modified-id=\"Общий-вывод-5\"><span class=\"toc-item-num\">5&nbsp;&nbsp;</span>Общий вывод</a></span></li></ul></div>"
   ]
  },
  {
   "cell_type": "markdown",
   "metadata": {},
   "source": [
    "# Определение перспективного тарифа для телеком компании\n",
    "На основе данных о поведении клиентов федерального оператора сотовой связи «Мегалайн» за 2018 год проанализируем, какой тариф - «Смарт» или «Ультра» - приносит больше денег компании. Анализ будет проводиться на выборке по 500 пользователям, содержащей информацию о характеристиках клиентов, изпользуемом тарифе, количестве звонков и сообщений. Это позволит сделать вывод, какой тариф лучше, и в дальнейшем скорректировать рекламный бюджет."
   ]
  },
  {
   "cell_type": "code",
   "execution_count": 1,
   "metadata": {},
   "outputs": [],
   "source": [
    "import pandas as pd\n",
    "import numpy as np\n",
    "from scipy import stats as st\n",
    "import matplotlib as mpl\n",
    "import matplotlib.pyplot as plt\n",
    "import seaborn as sns\n",
    "import math\n",
    "from IPython.display import display"
   ]
  },
  {
   "cell_type": "markdown",
   "metadata": {},
   "source": [
    "## Изучение данных"
   ]
  },
  {
   "cell_type": "markdown",
   "metadata": {},
   "source": [
    "Откроем файлы с данными и изучим общую информацию:"
   ]
  },
  {
   "cell_type": "code",
   "execution_count": 2,
   "metadata": {},
   "outputs": [],
   "source": [
    "def file_read (server_path, filename):\n",
    "    try: \n",
    "        file_read = pd.read_csv(server_path)\n",
    "    except: \n",
    "        file_read = pd.read_csv(filename)\n",
    "    return file_read\n",
    "\n",
    "calls = file_read('/datasets/calls.csv','calls.csv')\n",
    "internet = file_read('/datasets/internet.csv','internet.csv')\n",
    "messages = file_read('/datasets/messages.csv', 'messages.csv')\n",
    "tariffs = file_read('/datasets/tariffs.csv', 'tariffs.csv')\n",
    "users = file_read('/datasets/users.csv','users.csv')"
   ]
  },
  {
   "cell_type": "markdown",
   "metadata": {},
   "source": [
    "**Звонки**"
   ]
  },
  {
   "cell_type": "code",
   "execution_count": 3,
   "metadata": {},
   "outputs": [
    {
     "name": "stdout",
     "output_type": "stream",
     "text": [
      "<class 'pandas.core.frame.DataFrame'>\n",
      "RangeIndex: 202607 entries, 0 to 202606\n",
      "Data columns (total 5 columns):\n",
      "Unnamed: 0    202607 non-null int64\n",
      "id            202607 non-null object\n",
      "call_date     202607 non-null object\n",
      "duration      202607 non-null float64\n",
      "user_id       202607 non-null int64\n",
      "dtypes: float64(1), int64(2), object(2)\n",
      "memory usage: 7.7+ MB\n"
     ]
    },
    {
     "data": {
      "text/html": [
       "<div>\n",
       "<style scoped>\n",
       "    .dataframe tbody tr th:only-of-type {\n",
       "        vertical-align: middle;\n",
       "    }\n",
       "\n",
       "    .dataframe tbody tr th {\n",
       "        vertical-align: top;\n",
       "    }\n",
       "\n",
       "    .dataframe thead th {\n",
       "        text-align: right;\n",
       "    }\n",
       "</style>\n",
       "<table border=\"1\" class=\"dataframe\">\n",
       "  <thead>\n",
       "    <tr style=\"text-align: right;\">\n",
       "      <th></th>\n",
       "      <th>Unnamed: 0</th>\n",
       "      <th>id</th>\n",
       "      <th>call_date</th>\n",
       "      <th>duration</th>\n",
       "      <th>user_id</th>\n",
       "    </tr>\n",
       "  </thead>\n",
       "  <tbody>\n",
       "    <tr>\n",
       "      <td>0</td>\n",
       "      <td>0</td>\n",
       "      <td>1000_0</td>\n",
       "      <td>2018-07-25</td>\n",
       "      <td>0.00</td>\n",
       "      <td>1000</td>\n",
       "    </tr>\n",
       "    <tr>\n",
       "      <td>1</td>\n",
       "      <td>1</td>\n",
       "      <td>1000_1</td>\n",
       "      <td>2018-08-17</td>\n",
       "      <td>0.00</td>\n",
       "      <td>1000</td>\n",
       "    </tr>\n",
       "    <tr>\n",
       "      <td>2</td>\n",
       "      <td>2</td>\n",
       "      <td>1000_2</td>\n",
       "      <td>2018-06-11</td>\n",
       "      <td>2.85</td>\n",
       "      <td>1000</td>\n",
       "    </tr>\n",
       "    <tr>\n",
       "      <td>3</td>\n",
       "      <td>3</td>\n",
       "      <td>1000_3</td>\n",
       "      <td>2018-09-21</td>\n",
       "      <td>13.80</td>\n",
       "      <td>1000</td>\n",
       "    </tr>\n",
       "    <tr>\n",
       "      <td>4</td>\n",
       "      <td>4</td>\n",
       "      <td>1000_4</td>\n",
       "      <td>2018-12-15</td>\n",
       "      <td>5.18</td>\n",
       "      <td>1000</td>\n",
       "    </tr>\n",
       "  </tbody>\n",
       "</table>\n",
       "</div>"
      ],
      "text/plain": [
       "   Unnamed: 0      id   call_date  duration  user_id\n",
       "0           0  1000_0  2018-07-25      0.00     1000\n",
       "1           1  1000_1  2018-08-17      0.00     1000\n",
       "2           2  1000_2  2018-06-11      2.85     1000\n",
       "3           3  1000_3  2018-09-21     13.80     1000\n",
       "4           4  1000_4  2018-12-15      5.18     1000"
      ]
     },
     "metadata": {},
     "output_type": "display_data"
    }
   ],
   "source": [
    "calls.info()\n",
    "display(calls.head())"
   ]
  },
  {
   "cell_type": "markdown",
   "metadata": {},
   "source": [
    "В таблице calls 202607 записей и 4 переменные, пропусков не обнаружено, однако следует заменить тип данных call_date на формат datetime. Также для корректного расчета использованных пакетных минут необходимо округлить длительность каждого звонка до большего целого значения."
   ]
  },
  {
   "cell_type": "markdown",
   "metadata": {},
   "source": [
    "**Интернет**"
   ]
  },
  {
   "cell_type": "code",
   "execution_count": 4,
   "metadata": {},
   "outputs": [
    {
     "name": "stdout",
     "output_type": "stream",
     "text": [
      "<class 'pandas.core.frame.DataFrame'>\n",
      "RangeIndex: 149396 entries, 0 to 149395\n",
      "Data columns (total 6 columns):\n",
      "Unnamed: 0      149396 non-null int64\n",
      "Unnamed: 0.1    149396 non-null int64\n",
      "id              149396 non-null object\n",
      "mb_used         149396 non-null float64\n",
      "session_date    149396 non-null object\n",
      "user_id         149396 non-null int64\n",
      "dtypes: float64(1), int64(3), object(2)\n",
      "memory usage: 6.8+ MB\n"
     ]
    },
    {
     "data": {
      "text/html": [
       "<div>\n",
       "<style scoped>\n",
       "    .dataframe tbody tr th:only-of-type {\n",
       "        vertical-align: middle;\n",
       "    }\n",
       "\n",
       "    .dataframe tbody tr th {\n",
       "        vertical-align: top;\n",
       "    }\n",
       "\n",
       "    .dataframe thead th {\n",
       "        text-align: right;\n",
       "    }\n",
       "</style>\n",
       "<table border=\"1\" class=\"dataframe\">\n",
       "  <thead>\n",
       "    <tr style=\"text-align: right;\">\n",
       "      <th></th>\n",
       "      <th>Unnamed: 0.1</th>\n",
       "      <th>id</th>\n",
       "      <th>mb_used</th>\n",
       "      <th>session_date</th>\n",
       "      <th>user_id</th>\n",
       "    </tr>\n",
       "  </thead>\n",
       "  <tbody>\n",
       "    <tr>\n",
       "      <td>0</td>\n",
       "      <td>0</td>\n",
       "      <td>1000_0</td>\n",
       "      <td>112.95</td>\n",
       "      <td>2018-11-25</td>\n",
       "      <td>1000</td>\n",
       "    </tr>\n",
       "    <tr>\n",
       "      <td>1</td>\n",
       "      <td>1</td>\n",
       "      <td>1000_1</td>\n",
       "      <td>1052.81</td>\n",
       "      <td>2018-09-07</td>\n",
       "      <td>1000</td>\n",
       "    </tr>\n",
       "    <tr>\n",
       "      <td>2</td>\n",
       "      <td>2</td>\n",
       "      <td>1000_2</td>\n",
       "      <td>1197.26</td>\n",
       "      <td>2018-06-25</td>\n",
       "      <td>1000</td>\n",
       "    </tr>\n",
       "    <tr>\n",
       "      <td>3</td>\n",
       "      <td>3</td>\n",
       "      <td>1000_3</td>\n",
       "      <td>550.27</td>\n",
       "      <td>2018-08-22</td>\n",
       "      <td>1000</td>\n",
       "    </tr>\n",
       "    <tr>\n",
       "      <td>4</td>\n",
       "      <td>4</td>\n",
       "      <td>1000_4</td>\n",
       "      <td>302.56</td>\n",
       "      <td>2018-09-24</td>\n",
       "      <td>1000</td>\n",
       "    </tr>\n",
       "  </tbody>\n",
       "</table>\n",
       "</div>"
      ],
      "text/plain": [
       "   Unnamed: 0.1      id  mb_used session_date  user_id\n",
       "0             0  1000_0   112.95   2018-11-25     1000\n",
       "1             1  1000_1  1052.81   2018-09-07     1000\n",
       "2             2  1000_2  1197.26   2018-06-25     1000\n",
       "3             3  1000_3   550.27   2018-08-22     1000\n",
       "4             4  1000_4   302.56   2018-09-24     1000"
      ]
     },
     "metadata": {},
     "output_type": "display_data"
    }
   ],
   "source": [
    "internet.info()\n",
    "internet = internet.drop('Unnamed: 0', 1)\n",
    "display(internet.head())"
   ]
  },
  {
   "cell_type": "markdown",
   "metadata": {},
   "source": [
    "В исходной таблице internet 149396 записей и 5 переменных, при этом один столбец лишний, поэтому удалили его из таблицы. Пропусков так же не обнаружено, однако следует зменить тип данных session_date на формат datetime."
   ]
  },
  {
   "cell_type": "markdown",
   "metadata": {},
   "source": [
    "**Сообщения**"
   ]
  },
  {
   "cell_type": "code",
   "execution_count": 5,
   "metadata": {},
   "outputs": [
    {
     "name": "stdout",
     "output_type": "stream",
     "text": [
      "<class 'pandas.core.frame.DataFrame'>\n",
      "RangeIndex: 123036 entries, 0 to 123035\n",
      "Data columns (total 4 columns):\n",
      "Unnamed: 0      123036 non-null int64\n",
      "id              123036 non-null object\n",
      "message_date    123036 non-null object\n",
      "user_id         123036 non-null int64\n",
      "dtypes: int64(2), object(2)\n",
      "memory usage: 3.8+ MB\n"
     ]
    },
    {
     "data": {
      "text/html": [
       "<div>\n",
       "<style scoped>\n",
       "    .dataframe tbody tr th:only-of-type {\n",
       "        vertical-align: middle;\n",
       "    }\n",
       "\n",
       "    .dataframe tbody tr th {\n",
       "        vertical-align: top;\n",
       "    }\n",
       "\n",
       "    .dataframe thead th {\n",
       "        text-align: right;\n",
       "    }\n",
       "</style>\n",
       "<table border=\"1\" class=\"dataframe\">\n",
       "  <thead>\n",
       "    <tr style=\"text-align: right;\">\n",
       "      <th></th>\n",
       "      <th>Unnamed: 0</th>\n",
       "      <th>id</th>\n",
       "      <th>message_date</th>\n",
       "      <th>user_id</th>\n",
       "    </tr>\n",
       "  </thead>\n",
       "  <tbody>\n",
       "    <tr>\n",
       "      <td>0</td>\n",
       "      <td>0</td>\n",
       "      <td>1000_0</td>\n",
       "      <td>2018-06-27</td>\n",
       "      <td>1000</td>\n",
       "    </tr>\n",
       "    <tr>\n",
       "      <td>1</td>\n",
       "      <td>1</td>\n",
       "      <td>1000_1</td>\n",
       "      <td>2018-10-08</td>\n",
       "      <td>1000</td>\n",
       "    </tr>\n",
       "    <tr>\n",
       "      <td>2</td>\n",
       "      <td>2</td>\n",
       "      <td>1000_2</td>\n",
       "      <td>2018-08-04</td>\n",
       "      <td>1000</td>\n",
       "    </tr>\n",
       "    <tr>\n",
       "      <td>3</td>\n",
       "      <td>3</td>\n",
       "      <td>1000_3</td>\n",
       "      <td>2018-06-16</td>\n",
       "      <td>1000</td>\n",
       "    </tr>\n",
       "    <tr>\n",
       "      <td>4</td>\n",
       "      <td>4</td>\n",
       "      <td>1000_4</td>\n",
       "      <td>2018-12-05</td>\n",
       "      <td>1000</td>\n",
       "    </tr>\n",
       "  </tbody>\n",
       "</table>\n",
       "</div>"
      ],
      "text/plain": [
       "   Unnamed: 0      id message_date  user_id\n",
       "0           0  1000_0   2018-06-27     1000\n",
       "1           1  1000_1   2018-10-08     1000\n",
       "2           2  1000_2   2018-08-04     1000\n",
       "3           3  1000_3   2018-06-16     1000\n",
       "4           4  1000_4   2018-12-05     1000"
      ]
     },
     "metadata": {},
     "output_type": "display_data"
    }
   ],
   "source": [
    "messages.info()\n",
    "display(messages.head())"
   ]
  },
  {
   "cell_type": "markdown",
   "metadata": {},
   "source": [
    "123036 наблюдений и 3 переменных в таблице messages, пропусков так же нет, следует заменить тип message_date на datetime."
   ]
  },
  {
   "cell_type": "markdown",
   "metadata": {},
   "source": [
    "**Тарифы**"
   ]
  },
  {
   "cell_type": "code",
   "execution_count": 6,
   "metadata": {},
   "outputs": [
    {
     "name": "stdout",
     "output_type": "stream",
     "text": [
      "<class 'pandas.core.frame.DataFrame'>\n",
      "RangeIndex: 2 entries, 0 to 1\n",
      "Data columns (total 9 columns):\n",
      "Unnamed: 0               2 non-null int64\n",
      "messages_included        2 non-null int64\n",
      "mb_per_month_included    2 non-null int64\n",
      "minutes_included         2 non-null int64\n",
      "rub_monthly_fee          2 non-null int64\n",
      "rub_per_gb               2 non-null int64\n",
      "rub_per_message          2 non-null int64\n",
      "rub_per_minute           2 non-null int64\n",
      "tariff_name              2 non-null object\n",
      "dtypes: int64(8), object(1)\n",
      "memory usage: 272.0+ bytes\n"
     ]
    },
    {
     "data": {
      "text/html": [
       "<div>\n",
       "<style scoped>\n",
       "    .dataframe tbody tr th:only-of-type {\n",
       "        vertical-align: middle;\n",
       "    }\n",
       "\n",
       "    .dataframe tbody tr th {\n",
       "        vertical-align: top;\n",
       "    }\n",
       "\n",
       "    .dataframe thead th {\n",
       "        text-align: right;\n",
       "    }\n",
       "</style>\n",
       "<table border=\"1\" class=\"dataframe\">\n",
       "  <thead>\n",
       "    <tr style=\"text-align: right;\">\n",
       "      <th></th>\n",
       "      <th>Unnamed: 0</th>\n",
       "      <th>messages_included</th>\n",
       "      <th>mb_per_month_included</th>\n",
       "      <th>minutes_included</th>\n",
       "      <th>rub_monthly_fee</th>\n",
       "      <th>rub_per_gb</th>\n",
       "      <th>rub_per_message</th>\n",
       "      <th>rub_per_minute</th>\n",
       "      <th>tariff_name</th>\n",
       "    </tr>\n",
       "  </thead>\n",
       "  <tbody>\n",
       "    <tr>\n",
       "      <td>0</td>\n",
       "      <td>0</td>\n",
       "      <td>50</td>\n",
       "      <td>15360</td>\n",
       "      <td>500</td>\n",
       "      <td>550</td>\n",
       "      <td>200</td>\n",
       "      <td>3</td>\n",
       "      <td>3</td>\n",
       "      <td>smart</td>\n",
       "    </tr>\n",
       "    <tr>\n",
       "      <td>1</td>\n",
       "      <td>1</td>\n",
       "      <td>1000</td>\n",
       "      <td>30720</td>\n",
       "      <td>3000</td>\n",
       "      <td>1950</td>\n",
       "      <td>150</td>\n",
       "      <td>1</td>\n",
       "      <td>1</td>\n",
       "      <td>ultra</td>\n",
       "    </tr>\n",
       "  </tbody>\n",
       "</table>\n",
       "</div>"
      ],
      "text/plain": [
       "   Unnamed: 0  messages_included  mb_per_month_included  minutes_included  \\\n",
       "0           0                 50                  15360               500   \n",
       "1           1               1000                  30720              3000   \n",
       "\n",
       "   rub_monthly_fee  rub_per_gb  rub_per_message  rub_per_minute tariff_name  \n",
       "0              550         200                3               3       smart  \n",
       "1             1950         150                1               1       ultra  "
      ]
     },
     "metadata": {},
     "output_type": "display_data"
    }
   ],
   "source": [
    "tariffs.info()\n",
    "display(tariffs)"
   ]
  },
  {
   "cell_type": "markdown",
   "metadata": {},
   "source": [
    "В таблице содержатся характеристики двух тарифов, данные введены корректно. Обратим внимание, что дополнительный трафик тарифицируется по гигабайтам, что нужно учесть в дальнейших расчетах."
   ]
  },
  {
   "cell_type": "markdown",
   "metadata": {},
   "source": [
    "**Абоненты**"
   ]
  },
  {
   "cell_type": "code",
   "execution_count": 7,
   "metadata": {},
   "outputs": [
    {
     "name": "stdout",
     "output_type": "stream",
     "text": [
      "<class 'pandas.core.frame.DataFrame'>\n",
      "RangeIndex: 500 entries, 0 to 499\n",
      "Data columns (total 9 columns):\n",
      "Unnamed: 0    500 non-null int64\n",
      "user_id       500 non-null int64\n",
      "age           500 non-null int64\n",
      "churn_date    38 non-null object\n",
      "city          500 non-null object\n",
      "first_name    500 non-null object\n",
      "last_name     500 non-null object\n",
      "reg_date      500 non-null object\n",
      "tariff        500 non-null object\n",
      "dtypes: int64(3), object(6)\n",
      "memory usage: 35.3+ KB\n"
     ]
    },
    {
     "data": {
      "text/html": [
       "<div>\n",
       "<style scoped>\n",
       "    .dataframe tbody tr th:only-of-type {\n",
       "        vertical-align: middle;\n",
       "    }\n",
       "\n",
       "    .dataframe tbody tr th {\n",
       "        vertical-align: top;\n",
       "    }\n",
       "\n",
       "    .dataframe thead th {\n",
       "        text-align: right;\n",
       "    }\n",
       "</style>\n",
       "<table border=\"1\" class=\"dataframe\">\n",
       "  <thead>\n",
       "    <tr style=\"text-align: right;\">\n",
       "      <th></th>\n",
       "      <th>Unnamed: 0</th>\n",
       "      <th>user_id</th>\n",
       "      <th>age</th>\n",
       "      <th>churn_date</th>\n",
       "      <th>city</th>\n",
       "      <th>first_name</th>\n",
       "      <th>last_name</th>\n",
       "      <th>reg_date</th>\n",
       "      <th>tariff</th>\n",
       "    </tr>\n",
       "  </thead>\n",
       "  <tbody>\n",
       "    <tr>\n",
       "      <td>0</td>\n",
       "      <td>0</td>\n",
       "      <td>1000</td>\n",
       "      <td>52</td>\n",
       "      <td>NaN</td>\n",
       "      <td>Краснодар</td>\n",
       "      <td>Рафаил</td>\n",
       "      <td>Верещагин</td>\n",
       "      <td>2018-05-25</td>\n",
       "      <td>ultra</td>\n",
       "    </tr>\n",
       "    <tr>\n",
       "      <td>1</td>\n",
       "      <td>1</td>\n",
       "      <td>1001</td>\n",
       "      <td>41</td>\n",
       "      <td>NaN</td>\n",
       "      <td>Москва</td>\n",
       "      <td>Иван</td>\n",
       "      <td>Ежов</td>\n",
       "      <td>2018-11-01</td>\n",
       "      <td>smart</td>\n",
       "    </tr>\n",
       "    <tr>\n",
       "      <td>2</td>\n",
       "      <td>2</td>\n",
       "      <td>1002</td>\n",
       "      <td>59</td>\n",
       "      <td>NaN</td>\n",
       "      <td>Стерлитамак</td>\n",
       "      <td>Евгений</td>\n",
       "      <td>Абрамович</td>\n",
       "      <td>2018-06-17</td>\n",
       "      <td>smart</td>\n",
       "    </tr>\n",
       "    <tr>\n",
       "      <td>3</td>\n",
       "      <td>3</td>\n",
       "      <td>1003</td>\n",
       "      <td>23</td>\n",
       "      <td>NaN</td>\n",
       "      <td>Москва</td>\n",
       "      <td>Белла</td>\n",
       "      <td>Белякова</td>\n",
       "      <td>2018-08-17</td>\n",
       "      <td>ultra</td>\n",
       "    </tr>\n",
       "    <tr>\n",
       "      <td>4</td>\n",
       "      <td>4</td>\n",
       "      <td>1004</td>\n",
       "      <td>68</td>\n",
       "      <td>NaN</td>\n",
       "      <td>Новокузнецк</td>\n",
       "      <td>Татьяна</td>\n",
       "      <td>Авдеенко</td>\n",
       "      <td>2018-05-14</td>\n",
       "      <td>ultra</td>\n",
       "    </tr>\n",
       "  </tbody>\n",
       "</table>\n",
       "</div>"
      ],
      "text/plain": [
       "   Unnamed: 0  user_id  age churn_date         city first_name  last_name  \\\n",
       "0           0     1000   52        NaN    Краснодар     Рафаил  Верещагин   \n",
       "1           1     1001   41        NaN       Москва       Иван       Ежов   \n",
       "2           2     1002   59        NaN  Стерлитамак    Евгений  Абрамович   \n",
       "3           3     1003   23        NaN       Москва      Белла   Белякова   \n",
       "4           4     1004   68        NaN  Новокузнецк    Татьяна   Авдеенко   \n",
       "\n",
       "     reg_date tariff  \n",
       "0  2018-05-25  ultra  \n",
       "1  2018-11-01  smart  \n",
       "2  2018-06-17  smart  \n",
       "3  2018-08-17  ultra  \n",
       "4  2018-05-14  ultra  "
      ]
     },
     "metadata": {},
     "output_type": "display_data"
    }
   ],
   "source": [
    "users.info()\n",
    "display(users.head())"
   ]
  },
  {
   "cell_type": "markdown",
   "metadata": {},
   "source": [
    "Единственная переменная с пропусками в таблице users - показатель оттока, что обосновано, поскольку пропущенные значения означают, что клиент продолжает пользоваться услугами оператора."
   ]
  },
  {
   "cell_type": "markdown",
   "metadata": {},
   "source": [
    "Проверим, по всем ли абонентам есть информация о звонках, трафике и сообщениях:"
   ]
  },
  {
   "cell_type": "code",
   "execution_count": 8,
   "metadata": {},
   "outputs": [
    {
     "name": "stdout",
     "output_type": "stream",
     "text": [
      "Абонентов без звонков: 8\n",
      "Абонентов без трафика: 3\n",
      "Абонентов без сообщений: 74\n",
      "Неактивные абоненты: [1128, 1371]\n"
     ]
    }
   ],
   "source": [
    "def inactive (table):\n",
    "    u = users['user_id'].unique()\n",
    "    a = table['user_id'].unique()\n",
    "    result=list(set(u) - set(a))\n",
    "    return result\n",
    "\n",
    "print ('Абонентов без звонков:', len(inactive(calls)))\n",
    "print ('Абонентов без трафика:', len(inactive(internet)))\n",
    "print ('Абонентов без сообщений:', len(inactive(messages)))\n",
    "print ('Неактивные абоненты:',list(set(inactive(calls)) & set(inactive(internet)) & set(inactive(messages))))"
   ]
  },
  {
   "cell_type": "markdown",
   "metadata": {},
   "source": [
    "В данных есть пользователи, которые не совершали звонков, не отправляли sms, не использовали мобильный интернет в 2018 году. Два абонента вообще не пользовались услугами связи и, зарегистрировавшись в декабре, сразу перешли в категорию ушедших клиентов (тем не менее, их нужно учитывать в анализе, поскольку абонентскую плату они выплачивали):"
   ]
  },
  {
   "cell_type": "code",
   "execution_count": 9,
   "metadata": {},
   "outputs": [
    {
     "data": {
      "text/html": [
       "<div>\n",
       "<style scoped>\n",
       "    .dataframe tbody tr th:only-of-type {\n",
       "        vertical-align: middle;\n",
       "    }\n",
       "\n",
       "    .dataframe tbody tr th {\n",
       "        vertical-align: top;\n",
       "    }\n",
       "\n",
       "    .dataframe thead th {\n",
       "        text-align: right;\n",
       "    }\n",
       "</style>\n",
       "<table border=\"1\" class=\"dataframe\">\n",
       "  <thead>\n",
       "    <tr style=\"text-align: right;\">\n",
       "      <th></th>\n",
       "      <th>Unnamed: 0</th>\n",
       "      <th>user_id</th>\n",
       "      <th>age</th>\n",
       "      <th>churn_date</th>\n",
       "      <th>city</th>\n",
       "      <th>first_name</th>\n",
       "      <th>last_name</th>\n",
       "      <th>reg_date</th>\n",
       "      <th>tariff</th>\n",
       "    </tr>\n",
       "  </thead>\n",
       "  <tbody>\n",
       "    <tr>\n",
       "      <td>128</td>\n",
       "      <td>128</td>\n",
       "      <td>1128</td>\n",
       "      <td>51</td>\n",
       "      <td>2018-12-23</td>\n",
       "      <td>Волжский</td>\n",
       "      <td>Ксения</td>\n",
       "      <td>Агаева</td>\n",
       "      <td>2018-12-15</td>\n",
       "      <td>ultra</td>\n",
       "    </tr>\n",
       "    <tr>\n",
       "      <td>371</td>\n",
       "      <td>371</td>\n",
       "      <td>1371</td>\n",
       "      <td>50</td>\n",
       "      <td>2018-12-30</td>\n",
       "      <td>Омск</td>\n",
       "      <td>Ириней</td>\n",
       "      <td>Трофимов</td>\n",
       "      <td>2018-12-25</td>\n",
       "      <td>smart</td>\n",
       "    </tr>\n",
       "  </tbody>\n",
       "</table>\n",
       "</div>"
      ],
      "text/plain": [
       "     Unnamed: 0  user_id  age  churn_date      city first_name last_name  \\\n",
       "128         128     1128   51  2018-12-23  Волжский     Ксения    Агаева   \n",
       "371         371     1371   50  2018-12-30      Омск     Ириней  Трофимов   \n",
       "\n",
       "       reg_date tariff  \n",
       "128  2018-12-15  ultra  \n",
       "371  2018-12-25  smart  "
      ]
     },
     "execution_count": 9,
     "metadata": {},
     "output_type": "execute_result"
    }
   ],
   "source": [
    "users.query('user_id == [1371,1128]')"
   ]
  },
  {
   "cell_type": "markdown",
   "metadata": {},
   "source": [
    "## Подготовка данных"
   ]
  },
  {
   "cell_type": "markdown",
   "metadata": {},
   "source": [
    "### Изменим тип данных и обработаем переменные дат и времени ###"
   ]
  },
  {
   "cell_type": "markdown",
   "metadata": {},
   "source": [
    "Приведем данные к нужным типам: заменим тип данных call_date, message_date, session_date и reg_date на формат datetime."
   ]
  },
  {
   "cell_type": "code",
   "execution_count": 10,
   "metadata": {},
   "outputs": [],
   "source": [
    "calls['call_date'] = pd.to_datetime(calls['call_date'], format = '%Y-%m-%d')\n",
    "messages['message_date'] = pd.to_datetime(messages['message_date'], format = '%Y-%m-%d')\n",
    "internet['session_date'] = pd.to_datetime(internet['session_date'], format = '%Y-%m-%d')\n",
    "users['reg_date'] = pd.to_datetime(users['reg_date'], format = '%Y-%m-%d')\n",
    "users['churn_date'] = pd.to_datetime(users['churn_date'], format = '%Y-%m-%d')"
   ]
  },
  {
   "cell_type": "markdown",
   "metadata": {},
   "source": [
    "Добавим переменные месяцев. Это понадобится для анализа ежемесячного потребления услуг оператора."
   ]
  },
  {
   "cell_type": "code",
   "execution_count": 11,
   "metadata": {},
   "outputs": [],
   "source": [
    "calls['month'] = calls['call_date'].dt.month\n",
    "internet['month'] = internet['session_date'].dt.month\n",
    "messages['month'] = messages['message_date'].dt.month"
   ]
  },
  {
   "cell_type": "markdown",
   "metadata": {},
   "source": [
    "Поскольку каждый звонок засчитывается поминутно, округлим длительность звонков до большего целого значения (в минутах)."
   ]
  },
  {
   "cell_type": "code",
   "execution_count": 12,
   "metadata": {},
   "outputs": [],
   "source": [
    "calls['duration'] = np.ceil(calls['duration'])"
   ]
  },
  {
   "cell_type": "markdown",
   "metadata": {},
   "source": [
    "### Проверим наличие дубликатов ###"
   ]
  },
  {
   "cell_type": "code",
   "execution_count": 13,
   "metadata": {},
   "outputs": [
    {
     "name": "stdout",
     "output_type": "stream",
     "text": [
      "Дубликатов в таблице calls: 0\n",
      "Дубликатов в таблице internet: 0\n",
      "Дубликатов в таблице messages: 0\n",
      "Дубликатов в таблице tariffs: 0\n",
      "Дубликатов в таблице users: 0\n"
     ]
    }
   ],
   "source": [
    "print('Дубликатов в таблице calls: {}'.format(calls.duplicated().sum()))\n",
    "print('Дубликатов в таблице internet: {}'.format(internet.duplicated().sum()))\n",
    "print('Дубликатов в таблице messages: {}'.format(messages.duplicated().sum()))\n",
    "print('Дубликатов в таблице tariffs: {}'.format(tariffs.duplicated().sum()))\n",
    "print('Дубликатов в таблице users: {}'.format(users.duplicated().sum()))"
   ]
  },
  {
   "cell_type": "markdown",
   "metadata": {},
   "source": [
    "Удалять дубликаты не нужно."
   ]
  },
  {
   "cell_type": "markdown",
   "metadata": {},
   "source": [
    "### Изучим данные на предмет аномалий и ошибок ###"
   ]
  },
  {
   "cell_type": "markdown",
   "metadata": {},
   "source": [
    "Изучим переменные длительности звонков и потребления трафика."
   ]
  },
  {
   "cell_type": "code",
   "execution_count": 14,
   "metadata": {},
   "outputs": [
    {
     "data": {
      "text/plain": [
       "count    202607.000000\n",
       "mean          7.158198\n",
       "std           5.959173\n",
       "min           0.000000\n",
       "25%           2.000000\n",
       "50%           6.000000\n",
       "75%          11.000000\n",
       "max          38.000000\n",
       "Name: duration, dtype: float64"
      ]
     },
     "metadata": {},
     "output_type": "display_data"
    },
    {
     "data": {
      "text/plain": [
       "count    149396.000000\n",
       "mean        370.192426\n",
       "std         278.300951\n",
       "min           0.000000\n",
       "25%         138.187500\n",
       "50%         348.015000\n",
       "75%         559.552500\n",
       "max        1724.830000\n",
       "Name: mb_used, dtype: float64"
      ]
     },
     "metadata": {},
     "output_type": "display_data"
    },
    {
     "data": {
      "text/plain": [
       "<matplotlib.axes._subplots.AxesSubplot at 0x7fe5f03f4d90>"
      ]
     },
     "execution_count": 14,
     "metadata": {},
     "output_type": "execute_result"
    },
    {
     "data": {
      "image/png": "[encoded data removed]",
      "text/plain": [
       "<Figure size 720x288 with 1 Axes>"
      ]
     },
     "metadata": {
      "needs_background": "light"
     },
     "output_type": "display_data"
    },
    {
     "data": {
      "image/png": "[encoded data removed]",
      "text/plain": [
       "<Figure size 720x288 with 1 Axes>"
      ]
     },
     "metadata": {
      "needs_background": "light"
     },
     "output_type": "display_data"
    }
   ],
   "source": [
    "display(calls.loc[:,'duration'].describe())\n",
    "calls.plot(y = 'duration', kind = 'hist', bins = 40, grid=True, figsize = (10,4), range = (0,40))\n",
    "\n",
    "display(internet.loc[:,'mb_used'].describe())\n",
    "internet.plot(y = 'mb_used', kind = 'hist', bins = 100, grid=True, figsize = (10,4), range = (0,1750))"
   ]
  },
  {
   "cell_type": "markdown",
   "metadata": {},
   "source": [
    "50% совершаемых звонков длятся от 2 до 11 минут, в среднем 7 минут. 50% сессий потребляют от 138 до 560 мегабайт трафика, в среднем 379 мегабайт. Как у переменной duration, так и у переменной mb_used средние значения больше медианы, что говорит о том, что распределение скошено вправо. Кроме того, высокое стандартное отклонение говорит о сильном разбросе в данных и наличии выбросов.\n",
    "\n",
    "Также у обеих переменных обнаружено много значений в районе 0, изучим их отдельно."
   ]
  },
  {
   "cell_type": "code",
   "execution_count": 15,
   "metadata": {},
   "outputs": [
    {
     "data": {
      "text/html": [
       "<div>\n",
       "<style scoped>\n",
       "    .dataframe tbody tr th:only-of-type {\n",
       "        vertical-align: middle;\n",
       "    }\n",
       "\n",
       "    .dataframe tbody tr th {\n",
       "        vertical-align: top;\n",
       "    }\n",
       "\n",
       "    .dataframe thead th {\n",
       "        text-align: right;\n",
       "    }\n",
       "</style>\n",
       "<table border=\"1\" class=\"dataframe\">\n",
       "  <thead>\n",
       "    <tr style=\"text-align: right;\">\n",
       "      <th></th>\n",
       "      <th>Unnamed: 0</th>\n",
       "      <th>id</th>\n",
       "      <th>call_date</th>\n",
       "      <th>duration</th>\n",
       "      <th>user_id</th>\n",
       "      <th>month</th>\n",
       "    </tr>\n",
       "  </thead>\n",
       "  <tbody>\n",
       "    <tr>\n",
       "      <td>0</td>\n",
       "      <td>0</td>\n",
       "      <td>1000_0</td>\n",
       "      <td>2018-07-25</td>\n",
       "      <td>0.0</td>\n",
       "      <td>1000</td>\n",
       "      <td>7</td>\n",
       "    </tr>\n",
       "    <tr>\n",
       "      <td>1</td>\n",
       "      <td>1</td>\n",
       "      <td>1000_1</td>\n",
       "      <td>2018-08-17</td>\n",
       "      <td>0.0</td>\n",
       "      <td>1000</td>\n",
       "      <td>8</td>\n",
       "    </tr>\n",
       "    <tr>\n",
       "      <td>5</td>\n",
       "      <td>5</td>\n",
       "      <td>1000_5</td>\n",
       "      <td>2018-11-02</td>\n",
       "      <td>0.0</td>\n",
       "      <td>1000</td>\n",
       "      <td>11</td>\n",
       "    </tr>\n",
       "    <tr>\n",
       "      <td>6</td>\n",
       "      <td>6</td>\n",
       "      <td>1000_6</td>\n",
       "      <td>2018-10-18</td>\n",
       "      <td>0.0</td>\n",
       "      <td>1000</td>\n",
       "      <td>10</td>\n",
       "    </tr>\n",
       "    <tr>\n",
       "      <td>9</td>\n",
       "      <td>9</td>\n",
       "      <td>1000_9</td>\n",
       "      <td>2018-08-15</td>\n",
       "      <td>0.0</td>\n",
       "      <td>1000</td>\n",
       "      <td>8</td>\n",
       "    </tr>\n",
       "    <tr>\n",
       "      <td>36</td>\n",
       "      <td>36</td>\n",
       "      <td>1000_36</td>\n",
       "      <td>2018-10-09</td>\n",
       "      <td>0.0</td>\n",
       "      <td>1000</td>\n",
       "      <td>10</td>\n",
       "    </tr>\n",
       "    <tr>\n",
       "      <td>38</td>\n",
       "      <td>38</td>\n",
       "      <td>1000_38</td>\n",
       "      <td>2018-05-25</td>\n",
       "      <td>0.0</td>\n",
       "      <td>1000</td>\n",
       "      <td>5</td>\n",
       "    </tr>\n",
       "    <tr>\n",
       "      <td>39</td>\n",
       "      <td>39</td>\n",
       "      <td>1000_39</td>\n",
       "      <td>2018-06-13</td>\n",
       "      <td>0.0</td>\n",
       "      <td>1000</td>\n",
       "      <td>6</td>\n",
       "    </tr>\n",
       "    <tr>\n",
       "      <td>40</td>\n",
       "      <td>40</td>\n",
       "      <td>1000_40</td>\n",
       "      <td>2018-10-25</td>\n",
       "      <td>0.0</td>\n",
       "      <td>1000</td>\n",
       "      <td>10</td>\n",
       "    </tr>\n",
       "    <tr>\n",
       "      <td>47</td>\n",
       "      <td>47</td>\n",
       "      <td>1000_47</td>\n",
       "      <td>2018-07-14</td>\n",
       "      <td>0.0</td>\n",
       "      <td>1000</td>\n",
       "      <td>7</td>\n",
       "    </tr>\n",
       "  </tbody>\n",
       "</table>\n",
       "</div>"
      ],
      "text/plain": [
       "    Unnamed: 0       id  call_date  duration  user_id  month\n",
       "0            0   1000_0 2018-07-25       0.0     1000      7\n",
       "1            1   1000_1 2018-08-17       0.0     1000      8\n",
       "5            5   1000_5 2018-11-02       0.0     1000     11\n",
       "6            6   1000_6 2018-10-18       0.0     1000     10\n",
       "9            9   1000_9 2018-08-15       0.0     1000      8\n",
       "36          36  1000_36 2018-10-09       0.0     1000     10\n",
       "38          38  1000_38 2018-05-25       0.0     1000      5\n",
       "39          39  1000_39 2018-06-13       0.0     1000      6\n",
       "40          40  1000_40 2018-10-25       0.0     1000     10\n",
       "47          47  1000_47 2018-07-14       0.0     1000      7"
      ]
     },
     "metadata": {},
     "output_type": "display_data"
    },
    {
     "name": "stdout",
     "output_type": "stream",
     "text": [
      "Количество звонков с длительностью 0:  39613\n",
      "Клиентов с пропущенными звонками:  492\n"
     ]
    }
   ],
   "source": [
    "display(calls[calls['duration']== 0].head(10))\n",
    "print('Количество звонков с длительностью 0: ', calls[calls['duration']== 0]['duration'].count())\n",
    "print('Клиентов с пропущенными звонками: ', calls[calls['duration']== 0]['user_id'].value_counts().count())"
   ]
  },
  {
   "cell_type": "markdown",
   "metadata": {},
   "source": [
    "Длительность 39613 звонков (около 20% от всей совокупности) — 0.0 минут. При этом 492 клиента (почти все) имеют звонки с нулевой длительностью. Это могут быть пропущенные звонки. По сути это мусор в данных: если учитывать такие звонки наравне с успешными, результаты будут искажены. Значит, такие нулевые значения лучше не обрабатывать и убрать из данных."
   ]
  },
  {
   "cell_type": "code",
   "execution_count": 16,
   "metadata": {},
   "outputs": [
    {
     "data": {
      "text/html": [
       "<div>\n",
       "<style scoped>\n",
       "    .dataframe tbody tr th:only-of-type {\n",
       "        vertical-align: middle;\n",
       "    }\n",
       "\n",
       "    .dataframe tbody tr th {\n",
       "        vertical-align: top;\n",
       "    }\n",
       "\n",
       "    .dataframe thead th {\n",
       "        text-align: right;\n",
       "    }\n",
       "</style>\n",
       "<table border=\"1\" class=\"dataframe\">\n",
       "  <thead>\n",
       "    <tr style=\"text-align: right;\">\n",
       "      <th></th>\n",
       "      <th>Unnamed: 0.1</th>\n",
       "      <th>id</th>\n",
       "      <th>mb_used</th>\n",
       "      <th>session_date</th>\n",
       "      <th>user_id</th>\n",
       "      <th>month</th>\n",
       "    </tr>\n",
       "  </thead>\n",
       "  <tbody>\n",
       "    <tr>\n",
       "      <td>11</td>\n",
       "      <td>11</td>\n",
       "      <td>1000_11</td>\n",
       "      <td>0.0</td>\n",
       "      <td>2018-08-28</td>\n",
       "      <td>1000</td>\n",
       "      <td>8</td>\n",
       "    </tr>\n",
       "    <tr>\n",
       "      <td>38</td>\n",
       "      <td>38</td>\n",
       "      <td>1000_38</td>\n",
       "      <td>0.0</td>\n",
       "      <td>2018-11-27</td>\n",
       "      <td>1000</td>\n",
       "      <td>11</td>\n",
       "    </tr>\n",
       "    <tr>\n",
       "      <td>46</td>\n",
       "      <td>46</td>\n",
       "      <td>1000_46</td>\n",
       "      <td>0.0</td>\n",
       "      <td>2018-06-30</td>\n",
       "      <td>1000</td>\n",
       "      <td>6</td>\n",
       "    </tr>\n",
       "    <tr>\n",
       "      <td>67</td>\n",
       "      <td>67</td>\n",
       "      <td>1000_67</td>\n",
       "      <td>0.0</td>\n",
       "      <td>2018-06-16</td>\n",
       "      <td>1000</td>\n",
       "      <td>6</td>\n",
       "    </tr>\n",
       "    <tr>\n",
       "      <td>72</td>\n",
       "      <td>72</td>\n",
       "      <td>1000_72</td>\n",
       "      <td>0.0</td>\n",
       "      <td>2018-06-15</td>\n",
       "      <td>1000</td>\n",
       "      <td>6</td>\n",
       "    </tr>\n",
       "    <tr>\n",
       "      <td>103</td>\n",
       "      <td>103</td>\n",
       "      <td>1000_103</td>\n",
       "      <td>0.0</td>\n",
       "      <td>2018-05-26</td>\n",
       "      <td>1000</td>\n",
       "      <td>5</td>\n",
       "    </tr>\n",
       "    <tr>\n",
       "      <td>111</td>\n",
       "      <td>111</td>\n",
       "      <td>1000_111</td>\n",
       "      <td>0.0</td>\n",
       "      <td>2018-09-01</td>\n",
       "      <td>1000</td>\n",
       "      <td>9</td>\n",
       "    </tr>\n",
       "    <tr>\n",
       "      <td>131</td>\n",
       "      <td>131</td>\n",
       "      <td>1000_131</td>\n",
       "      <td>0.0</td>\n",
       "      <td>2018-06-15</td>\n",
       "      <td>1000</td>\n",
       "      <td>6</td>\n",
       "    </tr>\n",
       "    <tr>\n",
       "      <td>143</td>\n",
       "      <td>143</td>\n",
       "      <td>1000_143</td>\n",
       "      <td>0.0</td>\n",
       "      <td>2018-12-29</td>\n",
       "      <td>1000</td>\n",
       "      <td>12</td>\n",
       "    </tr>\n",
       "    <tr>\n",
       "      <td>157</td>\n",
       "      <td>157</td>\n",
       "      <td>1000_157</td>\n",
       "      <td>0.0</td>\n",
       "      <td>2018-07-11</td>\n",
       "      <td>1000</td>\n",
       "      <td>7</td>\n",
       "    </tr>\n",
       "  </tbody>\n",
       "</table>\n",
       "</div>"
      ],
      "text/plain": [
       "     Unnamed: 0.1        id  mb_used session_date  user_id  month\n",
       "11             11   1000_11      0.0   2018-08-28     1000      8\n",
       "38             38   1000_38      0.0   2018-11-27     1000     11\n",
       "46             46   1000_46      0.0   2018-06-30     1000      6\n",
       "67             67   1000_67      0.0   2018-06-16     1000      6\n",
       "72             72   1000_72      0.0   2018-06-15     1000      6\n",
       "103           103  1000_103      0.0   2018-05-26     1000      5\n",
       "111           111  1000_111      0.0   2018-09-01     1000      9\n",
       "131           131  1000_131      0.0   2018-06-15     1000      6\n",
       "143           143  1000_143      0.0   2018-12-29     1000     12\n",
       "157           157  1000_157      0.0   2018-07-11     1000      7"
      ]
     },
     "metadata": {},
     "output_type": "display_data"
    },
    {
     "name": "stdout",
     "output_type": "stream",
     "text": [
      "Количество сессий с нулевым трафиком:  19598\n",
      "Клиентов с сессиями без потребления трафика:  494\n"
     ]
    }
   ],
   "source": [
    "display(internet[internet['mb_used']== 0].head(10))\n",
    "print('Количество сессий с нулевым трафиком: ', internet[internet['mb_used']== 0]['mb_used'].count())\n",
    "print('Клиентов с сессиями без потребления трафика: ', internet[internet['mb_used']== 0]['user_id'].value_counts().count())"
   ]
  },
  {
   "cell_type": "markdown",
   "metadata": {},
   "source": [
    "Обнаружено 19598, или 13% сессий без потребления трафика. Такие сессии также есть почти у всех пользователей. По аналогии исключим такие значения из анализа."
   ]
  },
  {
   "cell_type": "markdown",
   "metadata": {},
   "source": [
    "### Обработаем нулевые значения ###"
   ]
  },
  {
   "cell_type": "code",
   "execution_count": 17,
   "metadata": {},
   "outputs": [],
   "source": [
    "calls = calls.query('duration != 0')\n",
    "internet = internet.query('mb_used != 0')"
   ]
  },
  {
   "cell_type": "markdown",
   "metadata": {},
   "source": [
    "Еще раз посмотрим на распределения и графики."
   ]
  },
  {
   "cell_type": "code",
   "execution_count": 18,
   "metadata": {},
   "outputs": [
    {
     "data": {
      "text/plain": [
       "count    162994.000000\n",
       "mean          8.897880\n",
       "std           5.353761\n",
       "min           1.000000\n",
       "25%           5.000000\n",
       "50%           8.000000\n",
       "75%          12.000000\n",
       "max          38.000000\n",
       "Name: duration, dtype: float64"
      ]
     },
     "metadata": {},
     "output_type": "display_data"
    },
    {
     "data": {
      "text/plain": [
       "count    129798.000000\n",
       "mean        426.087210\n",
       "std         255.596447\n",
       "min           0.030000\n",
       "25%         227.460000\n",
       "50%         400.540000\n",
       "75%         592.947500\n",
       "max        1724.830000\n",
       "Name: mb_used, dtype: float64"
      ]
     },
     "metadata": {},
     "output_type": "display_data"
    },
    {
     "data": {
      "text/plain": [
       "<matplotlib.axes._subplots.AxesSubplot at 0x7fe5f0a00ad0>"
      ]
     },
     "execution_count": 18,
     "metadata": {},
     "output_type": "execute_result"
    },
    {
     "data": {
      "image/png": "[encoded data removed]",
      "text/plain": [
       "<Figure size 720x288 with 1 Axes>"
      ]
     },
     "metadata": {
      "needs_background": "light"
     },
     "output_type": "display_data"
    },
    {
     "data": {
      "image/png": "[encoded data removed]",
      "text/plain": [
       "<Figure size 720x288 with 1 Axes>"
      ]
     },
     "metadata": {
      "needs_background": "light"
     },
     "output_type": "display_data"
    }
   ],
   "source": [
    "display(calls.loc[:,'duration'].describe())\n",
    "calls.plot(y = 'duration', kind = 'hist', bins = 39, grid=True, figsize = (10,4), range = (0,40))\n",
    "\n",
    "display(internet.loc[:,'mb_used'].describe())\n",
    "internet.plot(y = 'mb_used', kind = 'hist', bins = 100, grid=True, figsize = (10,4), range = (0,1750))"
   ]
  },
  {
   "cell_type": "markdown",
   "metadata": {},
   "source": [
    "Средние и медианные значения выросли, вариация снизилась, смещение распределения вправо сохранилось. Можно предположить, что данные в генеральной совокупности распределены нормально и симметрично, а скошенность - следствие ограниченного размера выборки."
   ]
  },
  {
   "cell_type": "markdown",
   "metadata": {},
   "source": [
    "### Проверим категориальные переменные ###"
   ]
  },
  {
   "cell_type": "code",
   "execution_count": 19,
   "metadata": {
    "scrolled": false
   },
   "outputs": [
    {
     "name": "stdout",
     "output_type": "stream",
     "text": [
      "[52 41 59 23 68 67 21 65 63 24 26 44 38 36 64 58 73 71 61 72 42 56 32 62\n",
      " 20 51 28 66 31 37 47 40 69 48 33 39 43 46 45 55 53 34 49 25 18 70 50 19\n",
      " 54 60 29 27 74 22 30 75 57 35]\n",
      "['Краснодар' 'Москва' 'Стерлитамак' 'Новокузнецк' 'Набережные Челны'\n",
      " 'Ульяновск' 'Челябинск' 'Пермь' 'Тюмень' 'Самара' 'Санкт-Петербург'\n",
      " 'Иваново' 'Чебоксары' 'Омск' 'Уфа' 'Томск' 'Чита' 'Мурманск'\n",
      " 'Петрозаводск' 'Тверь' 'Екатеринбург' 'Махачкала' 'Вологда' 'Череповец'\n",
      " 'Ярославль' 'Сочи' 'Хабаровск' 'Ставрополь' 'Рязань' 'Улан-Удэ' 'Тула'\n",
      " 'Саратов' 'Ростов-на-Дону' 'Казань' 'Иркутск' 'Курск' 'Калуга' 'Якутск'\n",
      " 'Астрахань' 'Химки' 'Владикавказ' 'Волгоград' 'Саранск' 'Ижевск'\n",
      " 'Новосибирск' 'Брянск' 'Тольятти' 'Нижний Тагил' 'Орёл' 'Белгород'\n",
      " 'Воронеж' 'Волжский' 'Курган' 'Барнаул' 'Красноярск' 'Архангельск'\n",
      " 'Липецк' 'Кемерово' 'Киров' 'Сургут' 'Пенза' 'Магнитогорск'\n",
      " 'Нижний Новгород' 'Кострома' 'Владивосток' 'Тамбов' 'Балашиха'\n",
      " 'Севастополь' 'Калининград' 'Оренбург' 'Смоленск' 'Нижневартовск'\n",
      " 'Владимир' 'Новороссийск' 'Грозный' 'Подольск']\n",
      "['Рафаил' 'Иван' 'Евгений' 'Белла' 'Татьяна' 'Афанасий' 'Леонид' 'Юна'\n",
      " 'Рустэм' 'Василиса' 'Эдуард' 'Веселина' 'Варлам' 'Борис' 'Яков' 'Рузана'\n",
      " 'Марица' 'Мария' 'Матвей' 'Игнатий' 'Тала' 'Святослав' 'Людмила' 'Иулиан'\n",
      " 'Владислав' 'Рустем' 'Алексей' 'Мариетта' 'Лаврентий' 'Инна' 'Лия'\n",
      " 'Розалия' 'Анжелика' 'Изольда' 'Агнесса' 'Юрий' 'Михаил' 'Константин'\n",
      " 'Марианна' 'Иннокентий' 'Джемма' 'Екатерина' 'Милица' 'Лола' 'Габриель'\n",
      " 'Кристина' 'Павел' 'Ренальд' 'Луиза' 'Радислав' 'Динара' 'Лукий' 'Глеб'\n",
      " 'Тамара' 'Александр' 'Таира' 'Роза' 'Исак' 'Юзефа' 'Ким' 'Гордей' 'Эльза'\n",
      " 'Гектор' 'Андрей' 'Рафаэль' 'Фёдор' 'Харитон' 'Еремей' 'Всеволод' 'Софья'\n",
      " 'Авксентий' 'Виолетта' 'Ириней' 'Гелена' 'Ксения' 'Вера' 'Вениамин'\n",
      " 'Вероника' 'Даниэла' 'Алла' 'Элеонора' 'Аюна' 'Руслан' 'Онисим' 'Марта'\n",
      " 'Эльвира' 'Габриэль' 'Исаак' 'Милана' 'Арнольд' 'Маргарита' 'Рашид'\n",
      " 'Альберта' 'Дана' 'Олег' 'Альбин' 'Сабина' 'Яна' 'Анвар' 'Инара' 'Нина'\n",
      " 'Надежда' 'Марьяна' 'Милена' 'Пётр' 'Леся' 'Светлана' 'Клариса' 'Симона'\n",
      " 'Арсен' 'Ефим' 'Юлий' 'Владимир' 'Евдокия' 'Алиса' 'Майя' 'Лариса'\n",
      " 'Марина' 'Валерий' 'Виктория' 'Игорь' 'Эльга' 'Лев' 'Геральд' 'Клавдия'\n",
      " 'Лилия' 'Георгина' 'Вадим' 'Каролина' 'Алан' 'Агафья' 'Лолита' 'Радим'\n",
      " 'Наталья' 'Рем' 'Снежана' 'Мануэла' 'Рэм' 'Виталий' 'Рауль' 'Степан'\n",
      " 'Егор' 'Демьян' 'Агата' 'Геннадий' 'Адам' 'Мирослава' 'Елена' 'Ева'\n",
      " 'Евфросинья' 'Арина' 'Гайдар' 'Артемий' 'Рустам' 'Ермолай' 'Кузьма'\n",
      " 'Рубен' 'Ахмет' 'Раиса' 'Денис' 'Нелли' 'Касьян' 'Сара' 'Роксана' 'Леон'\n",
      " 'Алина' 'Даниил' 'Зинаида' 'Артём' 'Анатолий' 'Лейла' 'Александра'\n",
      " 'Серафима' 'Алевтина' 'Эмилия' 'Мадина' 'Антонина' 'Саида' 'Трофим'\n",
      " 'Аким' 'Мальвина' 'Аурелия' 'Мстислав' 'Аксён' 'Семён' 'Валерия'\n",
      " 'Григорий' 'Таисия' 'Арсений' 'Эдита' 'Дебора' 'Олеся' 'Альфред' 'Тихон'\n",
      " 'Наида' 'Илья' 'Инесса' 'Юлия' 'Рудольф' 'Максим' 'Инга' 'Эсмеральда'\n",
      " 'Дайна' 'Джозефина' 'Тимофей' 'Виктор' 'Валентина' 'Анита' 'Илзе'\n",
      " 'Галина' 'Варвара' 'Анфиса' 'Доминика' 'Лаура' 'Рената' 'Оксана'\n",
      " 'Георгий' 'Лидия' 'Евгения' 'Фаддей' 'Герасим' 'Радомир' 'Ренат'\n",
      " 'Владислава' 'Роберт' 'Элина' 'Станислав' 'Элла' 'Гарри' 'Берта' 'Геодар'\n",
      " 'Эльмира' 'Клара' 'Камилла' 'Джулия' 'Карина' 'Нателла' 'Леонтий'\n",
      " 'Ростислав' 'Ангелина' 'Алёна' 'Ринат' 'Эллада' 'Николай' 'Руслана'\n",
      " 'Трифон']\n",
      "['Верещагин' 'Ежов' 'Абрамович' 'Белякова' 'Авдеенко' 'Горлов' 'Ермолаев'\n",
      " 'Березина' 'Пономарёв' 'Блинова' 'Кононов' 'Алёшко' 'Соловьев'\n",
      " 'Андреенко' 'Акинфьев' 'Алюшина' 'Сазонова' 'Аленникова' 'Золотов'\n",
      " 'Круглов' 'Костина' 'Тихонов' 'Трофимова' 'Мельникова' 'Антипов' 'Акинин'\n",
      " 'Бородин' 'Авдеев' 'Евсеев' 'Селезнев' 'Русанова' 'Тимофеев' 'Игнатьева'\n",
      " 'Бабушкина' 'Бондарев' 'Аракина' 'Андропова' 'Архипова' 'Денисова'\n",
      " 'Одинцов' 'Кравцов' 'Добрынин' 'Родионова' 'Рябов' 'Карасева'\n",
      " 'Александрова' 'Меркулова' 'Мясникова' 'Ларин' 'Аничкина' 'Сомова'\n",
      " 'Панов' 'Фёдоров' 'Платонова' 'Артемьев' 'Дьячкова' 'Глушков' 'Свиридов'\n",
      " 'Рудаков' 'Ситникова' 'Коршунов' 'Климова' 'Алфеева' 'Игнатова' 'Малахов'\n",
      " 'Абашкина' 'Демьянов' 'Кочетов' 'Селиванова' 'Чумаков' 'Андрейкин'\n",
      " 'Павловский' 'Никулин' 'Шарапов' 'Кольцова' 'Литвинов' 'Авроров'\n",
      " 'Игнатьев' 'Терехова' 'Малышев' 'Галкин' 'Спиридонова' 'Дорофеева'\n",
      " 'Аксёнов' 'Абалакова' 'Нечаева' 'Астафьева' 'Суслова' 'Амельченко'\n",
      " 'Лапина' 'Пугачева' 'Кабанова' 'Кулешова' 'Озерова' 'Сергеева'\n",
      " 'Красильников' 'Колобов' 'Королькова' 'Лобанова' 'Поляков' 'Рыбакова'\n",
      " 'Костин' 'Воронин' 'Болдырев' 'Андрющенко' 'Александрович' 'Макарова'\n",
      " 'Казанцев' 'Булгаков' 'Колесова' 'Толкачев' 'Шевцова' 'Латышева'\n",
      " 'Сухарев' 'Абдулина' 'Афанасова' 'Устинов' 'Андрианов' 'Арсенкова'\n",
      " 'Ильина' 'Агаева' 'Морозов' 'Крюкова' 'Афонасьева' 'Алехина' 'Аникина'\n",
      " 'Авросимова' 'Воронина' 'Левин' 'Артёшин' 'Ерофеева' 'Корнеева'\n",
      " 'Ахматулин' 'Короткова' 'Алешкова' 'Покровский' 'Ефремов' 'Алешин'\n",
      " 'Никонов' 'Синицын' 'Киреева' 'Алексеенко' 'Муравьева' 'Молчанова'\n",
      " 'Щербакова' 'Одинцова' 'Тихомирова' 'Чернов' 'Белоусова' 'Андрейчук'\n",
      " 'Авдонюшкин' 'Голованова' 'Минаева' 'Вишневский' 'Лебедев' 'Медведев'\n",
      " 'Жданов' 'Ананьева' 'Карташова' 'Козлов' 'Иванова' 'Карасев' 'Григорьева'\n",
      " 'Розанова' 'Марков' 'Куприянов' 'Жарова' 'Астапенко' 'Мишин' 'Аврорин'\n",
      " 'Агаев' 'Тарасова' 'Родина' 'Абакумов' 'Овчинников' 'Соколов' 'Зубкова'\n",
      " 'Абоимов' 'Акиндинов' 'Мальцев' 'Безруков' 'Наумов' 'Петухова' 'Чернышев'\n",
      " 'Черняев' 'Швецов' 'Демьянова' 'Ларионова' 'Веселов' 'Адаменко'\n",
      " 'Григорьев' 'Лазарева' 'Семина' 'Шарапова' 'Зеленина' 'Сахарова'\n",
      " 'Сорокин' 'Серебрякова' 'Азимова' 'Пономарев' 'Муравьёв' 'Алиев'\n",
      " 'Малинин' 'Сазонов' 'Мамонтова' 'Некрасов' 'Астапов' 'Сафонова'\n",
      " 'Панфилов' 'Тарасов' 'Горбачева' 'Бобылёв' 'Калинина' 'Алфимов'\n",
      " 'Капустин' 'Авдюков' 'Ларина' 'Алфимова' 'Алексеева' 'Басова' 'Демидов'\n",
      " 'Кошелева' 'Ёрохов' 'Шарова' 'Федосеев' 'Леонтьев' 'Макеев' 'Коновалова'\n",
      " 'Минаев' 'Авдушева' 'Ракова' 'Тетерина' 'Масленникова' 'Сухарева'\n",
      " 'Пономарева' 'Панфилова' 'Беляев' 'Третьякова' 'Горбунов' 'Пантелеева'\n",
      " 'Зайцев' 'Жукова' 'Адамов' 'Антропова' 'Седова' 'Трошин' 'Ахмадулин'\n",
      " 'Вешнякова' 'Чижова' 'Корнилов' 'Еремин' 'Елизаров' 'Крюков' 'Троицкий'\n",
      " 'Худяков' 'Зимина' 'Аракчеев' 'Крючков' 'Давыдов' 'Богданова' 'Анищенко'\n",
      " 'Дубинина' 'Асафьева' 'Черный' 'Абрамцев' 'Чеснокова' 'Симонова'\n",
      " 'Азерников' 'Авраменко' 'Абаимов' 'Абакшина' 'Соловьёв' 'Лаптева' 'Попов'\n",
      " 'Авсейкина' 'Корнилова' 'Касьянова' 'Нестеров' 'Крылова' 'Поликарпова'\n",
      " 'Суслов' 'Амелишко' 'Агапеева' 'Алымова' 'Зыков' 'Парфенов' 'Киселёв'\n",
      " 'Софронов' 'Сальников' 'Носкова' 'Барсуков' 'Севастьянова' 'Аркадьев'\n",
      " 'Золотова' 'Малинина' 'Антонова' 'Алексеичев' 'Орлов' 'Алютин' 'Кузнецов'\n",
      " 'Казакова' 'Верещагина' 'Ёркина' 'Антропов' 'Фокина' 'Громова' 'Курочкин'\n",
      " 'Козырева' 'Румянцева' 'Кулагина' 'Абрикосова' 'Гончаров' 'Ермилов'\n",
      " 'Логинов' 'Абашкин' 'Болдырева' 'Вишняков' 'Фетисова' 'Антоненко'\n",
      " 'Гришина' 'Сысоев' 'Трофимов' 'Авраамова' 'Афанасенко' 'Акимычева'\n",
      " 'Акимов' 'Семин' 'Бычкова' 'Кочергина' 'Нестерова' 'Родионов' 'Зуев'\n",
      " 'Беляева' 'Беликова' 'Зубков' 'Кондратов' 'Савельева' 'Чистякова'\n",
      " 'Ахмедов' 'Абрашина' 'Артёмов' 'Васильева' 'Измайлова' 'Амелин' 'Уваров'\n",
      " 'Белова' 'Семёнов' 'Пирогова' 'Кукушкин' 'Ильин' 'Прокофьева' 'Афонин'\n",
      " 'Фролов' 'Лукин' 'Ёлчина' 'Макаров' 'Ахматов' 'Яшина' 'Корольков'\n",
      " 'Устинова' 'Силин' 'Ёрохова' 'Фомин' 'Азаров' 'Добрынина' 'Тимофеева'\n",
      " 'Кочетков' 'Алёшкова' 'Субботина' 'Ерофеев' 'Селезнева' 'Бородина'\n",
      " 'Афонина' 'Матвеев' 'Белозёров' 'Ковалева' 'Афинин' 'Иванов' 'Артемчук'\n",
      " 'Алешина' 'Дроздов' 'Новикова' 'Козлова' 'Завьялова' 'Абалдуева'\n",
      " 'Акуленко' 'Авринский' 'Авчинникова' 'Абрамычева' 'Авросинова' 'Ёркин'\n",
      " 'Шевцов' 'Александрюк' 'Авдышев' 'Абалкин' 'Лосева' 'Гаврилова' 'Боброва'\n",
      " 'Любимов' 'Фадеева' 'Семенова' 'Серов' 'Константинова' 'Богданов'\n",
      " 'Емельянова' 'Блохина' 'Борисова' 'Сухова' 'Моргунов' 'Кириллов'\n",
      " 'Филатов' 'Алесин' 'Артёменко' 'Ахматулина' 'Андропов' 'Фокин' 'Блохин'\n",
      " 'Агеева' 'Акимчин']\n",
      "['ultra' 'smart']\n"
     ]
    }
   ],
   "source": [
    "print(users['age'].unique())\n",
    "print(users['city'].unique())          \n",
    "print(users['first_name'].unique())    \n",
    "print(users['last_name'].unique())    \n",
    "print(users['tariff'].unique())        "
   ]
  },
  {
   "cell_type": "markdown",
   "metadata": {},
   "source": [
    "Все категориальные переменные закодированы корректно, аномальных значений или неявных дубликов не обнаружено."
   ]
  },
  {
   "cell_type": "markdown",
   "metadata": {},
   "source": [
    "Теперь все ошибки устранены, данные можно объединять в целостный массив для дальнейшего анализа."
   ]
  },
  {
   "cell_type": "markdown",
   "metadata": {},
   "source": [
    "## Исследовательский анализ данных"
   ]
  },
  {
   "cell_type": "markdown",
   "metadata": {},
   "source": [
    "### Расчет метрик по месяцам в разрезе пользователей ###"
   ]
  },
  {
   "cell_type": "markdown",
   "metadata": {},
   "source": [
    "Создадим таблицы по звонкам, трафику и сообщениям, где строки - это статистика каждого клиента с разрезе месяцев. Посчитаем для каждого пользователя: количество сделанных звонков и израсходованных минут разговора по месяцам; количество отправленных сообщений по месяцам; объем израсходованного интернет-трафика по месяцам."
   ]
  },
  {
   "cell_type": "code",
   "execution_count": 20,
   "metadata": {
    "scrolled": true
   },
   "outputs": [],
   "source": [
    "calls_users = calls.pivot_table(index=['user_id', 'month'], values='duration', aggfunc=['count', 'sum'], fill_value=0)\n",
    "calls_users.columns = ['total_calls', 'total_duration']\n",
    "\n",
    "internet_users = internet.pivot_table(index=['user_id', 'month'], values='mb_used', aggfunc=['count', 'sum'], fill_value=0)\n",
    "internet_users.columns = ['total_sessions', 'total_traffic']\n",
    "\n",
    "messages_users = messages.pivot_table(index=['user_id', 'month'], values='id', aggfunc=['count'], fill_value=0)\n",
    "messages_users.columns = ['total_messages']"
   ]
  },
  {
   "cell_type": "markdown",
   "metadata": {},
   "source": [
    "Прежде чем приступать к объединению данных по звонкам, трафику и сообщениям, создадим таблицу активности абонентов в разрезе месяцев. Это позволит учесть абонентов, не использующих услуги связи, но при этом вносящих абонентскую плату."
   ]
  },
  {
   "cell_type": "code",
   "execution_count": 21,
   "metadata": {
    "scrolled": true
   },
   "outputs": [
    {
     "name": "stdout",
     "output_type": "stream",
     "text": [
      "3216\n"
     ]
    },
    {
     "data": {
      "text/html": [
       "<div>\n",
       "<style scoped>\n",
       "    .dataframe tbody tr th:only-of-type {\n",
       "        vertical-align: middle;\n",
       "    }\n",
       "\n",
       "    .dataframe tbody tr th {\n",
       "        vertical-align: top;\n",
       "    }\n",
       "\n",
       "    .dataframe thead th {\n",
       "        text-align: right;\n",
       "    }\n",
       "</style>\n",
       "<table border=\"1\" class=\"dataframe\">\n",
       "  <thead>\n",
       "    <tr style=\"text-align: right;\">\n",
       "      <th></th>\n",
       "      <th>Unnamed: 0</th>\n",
       "      <th>user_id</th>\n",
       "      <th>age</th>\n",
       "      <th>churn_date</th>\n",
       "      <th>city</th>\n",
       "      <th>first_name</th>\n",
       "      <th>last_name</th>\n",
       "      <th>reg_date</th>\n",
       "      <th>tariff</th>\n",
       "      <th>total_months</th>\n",
       "      <th>month</th>\n",
       "    </tr>\n",
       "  </thead>\n",
       "  <tbody>\n",
       "    <tr>\n",
       "      <td>0</td>\n",
       "      <td>0</td>\n",
       "      <td>1000</td>\n",
       "      <td>52</td>\n",
       "      <td>NaT</td>\n",
       "      <td>Краснодар</td>\n",
       "      <td>Рафаил</td>\n",
       "      <td>Верещагин</td>\n",
       "      <td>2018-05-25</td>\n",
       "      <td>ultra</td>\n",
       "      <td>8.0</td>\n",
       "      <td>5</td>\n",
       "    </tr>\n",
       "    <tr>\n",
       "      <td>0</td>\n",
       "      <td>0</td>\n",
       "      <td>1000</td>\n",
       "      <td>52</td>\n",
       "      <td>NaT</td>\n",
       "      <td>Краснодар</td>\n",
       "      <td>Рафаил</td>\n",
       "      <td>Верещагин</td>\n",
       "      <td>2018-05-25</td>\n",
       "      <td>ultra</td>\n",
       "      <td>8.0</td>\n",
       "      <td>6</td>\n",
       "    </tr>\n",
       "    <tr>\n",
       "      <td>0</td>\n",
       "      <td>0</td>\n",
       "      <td>1000</td>\n",
       "      <td>52</td>\n",
       "      <td>NaT</td>\n",
       "      <td>Краснодар</td>\n",
       "      <td>Рафаил</td>\n",
       "      <td>Верещагин</td>\n",
       "      <td>2018-05-25</td>\n",
       "      <td>ultra</td>\n",
       "      <td>8.0</td>\n",
       "      <td>7</td>\n",
       "    </tr>\n",
       "    <tr>\n",
       "      <td>0</td>\n",
       "      <td>0</td>\n",
       "      <td>1000</td>\n",
       "      <td>52</td>\n",
       "      <td>NaT</td>\n",
       "      <td>Краснодар</td>\n",
       "      <td>Рафаил</td>\n",
       "      <td>Верещагин</td>\n",
       "      <td>2018-05-25</td>\n",
       "      <td>ultra</td>\n",
       "      <td>8.0</td>\n",
       "      <td>8</td>\n",
       "    </tr>\n",
       "    <tr>\n",
       "      <td>0</td>\n",
       "      <td>0</td>\n",
       "      <td>1000</td>\n",
       "      <td>52</td>\n",
       "      <td>NaT</td>\n",
       "      <td>Краснодар</td>\n",
       "      <td>Рафаил</td>\n",
       "      <td>Верещагин</td>\n",
       "      <td>2018-05-25</td>\n",
       "      <td>ultra</td>\n",
       "      <td>8.0</td>\n",
       "      <td>9</td>\n",
       "    </tr>\n",
       "    <tr>\n",
       "      <td>0</td>\n",
       "      <td>0</td>\n",
       "      <td>1000</td>\n",
       "      <td>52</td>\n",
       "      <td>NaT</td>\n",
       "      <td>Краснодар</td>\n",
       "      <td>Рафаил</td>\n",
       "      <td>Верещагин</td>\n",
       "      <td>2018-05-25</td>\n",
       "      <td>ultra</td>\n",
       "      <td>8.0</td>\n",
       "      <td>10</td>\n",
       "    </tr>\n",
       "    <tr>\n",
       "      <td>0</td>\n",
       "      <td>0</td>\n",
       "      <td>1000</td>\n",
       "      <td>52</td>\n",
       "      <td>NaT</td>\n",
       "      <td>Краснодар</td>\n",
       "      <td>Рафаил</td>\n",
       "      <td>Верещагин</td>\n",
       "      <td>2018-05-25</td>\n",
       "      <td>ultra</td>\n",
       "      <td>8.0</td>\n",
       "      <td>11</td>\n",
       "    </tr>\n",
       "    <tr>\n",
       "      <td>0</td>\n",
       "      <td>0</td>\n",
       "      <td>1000</td>\n",
       "      <td>52</td>\n",
       "      <td>NaT</td>\n",
       "      <td>Краснодар</td>\n",
       "      <td>Рафаил</td>\n",
       "      <td>Верещагин</td>\n",
       "      <td>2018-05-25</td>\n",
       "      <td>ultra</td>\n",
       "      <td>8.0</td>\n",
       "      <td>12</td>\n",
       "    </tr>\n",
       "    <tr>\n",
       "      <td>1</td>\n",
       "      <td>1</td>\n",
       "      <td>1001</td>\n",
       "      <td>41</td>\n",
       "      <td>NaT</td>\n",
       "      <td>Москва</td>\n",
       "      <td>Иван</td>\n",
       "      <td>Ежов</td>\n",
       "      <td>2018-11-01</td>\n",
       "      <td>smart</td>\n",
       "      <td>2.0</td>\n",
       "      <td>11</td>\n",
       "    </tr>\n",
       "    <tr>\n",
       "      <td>1</td>\n",
       "      <td>1</td>\n",
       "      <td>1001</td>\n",
       "      <td>41</td>\n",
       "      <td>NaT</td>\n",
       "      <td>Москва</td>\n",
       "      <td>Иван</td>\n",
       "      <td>Ежов</td>\n",
       "      <td>2018-11-01</td>\n",
       "      <td>smart</td>\n",
       "      <td>2.0</td>\n",
       "      <td>12</td>\n",
       "    </tr>\n",
       "  </tbody>\n",
       "</table>\n",
       "</div>"
      ],
      "text/plain": [
       "   Unnamed: 0  user_id  age churn_date       city first_name  last_name  \\\n",
       "0           0     1000   52        NaT  Краснодар     Рафаил  Верещагин   \n",
       "0           0     1000   52        NaT  Краснодар     Рафаил  Верещагин   \n",
       "0           0     1000   52        NaT  Краснодар     Рафаил  Верещагин   \n",
       "0           0     1000   52        NaT  Краснодар     Рафаил  Верещагин   \n",
       "0           0     1000   52        NaT  Краснодар     Рафаил  Верещагин   \n",
       "0           0     1000   52        NaT  Краснодар     Рафаил  Верещагин   \n",
       "0           0     1000   52        NaT  Краснодар     Рафаил  Верещагин   \n",
       "0           0     1000   52        NaT  Краснодар     Рафаил  Верещагин   \n",
       "1           1     1001   41        NaT     Москва       Иван       Ежов   \n",
       "1           1     1001   41        NaT     Москва       Иван       Ежов   \n",
       "\n",
       "    reg_date tariff  total_months  month  \n",
       "0 2018-05-25  ultra           8.0      5  \n",
       "0 2018-05-25  ultra           8.0      6  \n",
       "0 2018-05-25  ultra           8.0      7  \n",
       "0 2018-05-25  ultra           8.0      8  \n",
       "0 2018-05-25  ultra           8.0      9  \n",
       "0 2018-05-25  ultra           8.0     10  \n",
       "0 2018-05-25  ultra           8.0     11  \n",
       "0 2018-05-25  ultra           8.0     12  \n",
       "1 2018-11-01  smart           2.0     11  \n",
       "1 2018-11-01  smart           2.0     12  "
      ]
     },
     "metadata": {},
     "output_type": "display_data"
    }
   ],
   "source": [
    "# добавим расчет количества месяцев обслуживания в таблице users\n",
    "# если churn_date пустые, принимаем декабрь за последний месяц\n",
    "users['total_months'] = users['churn_date'].dt.month.fillna(value = 12) - users['reg_date'].dt.month + 1\n",
    "\n",
    "# дублируем строки users по количеству месяцев обслуживания\n",
    "data = users.loc[users.index.repeat(users['total_months'])]\n",
    "data['month'] =(data.groupby(level=0)['reg_date']\n",
    "                  .transform(lambda x: pd.date_range(start=x.iat[0], freq='M', periods=len(x)))).dt.month\n",
    "\n",
    "print(len(data))\n",
    "display(data.head(10))"
   ]
  },
  {
   "cell_type": "markdown",
   "metadata": {},
   "source": [
    "Получили 3216 записей помесячной активности абонентов."
   ]
  },
  {
   "cell_type": "markdown",
   "metadata": {},
   "source": [
    "Объединим таблицу с данными из трех таблиц об использовании услуг связи пользователями и параметрами тарифов."
   ]
  },
  {
   "cell_type": "code",
   "execution_count": 22,
   "metadata": {},
   "outputs": [
    {
     "data": {
      "text/html": [
       "<div>\n",
       "<style scoped>\n",
       "    .dataframe tbody tr th:only-of-type {\n",
       "        vertical-align: middle;\n",
       "    }\n",
       "\n",
       "    .dataframe tbody tr th {\n",
       "        vertical-align: top;\n",
       "    }\n",
       "\n",
       "    .dataframe thead th {\n",
       "        text-align: right;\n",
       "    }\n",
       "</style>\n",
       "<table border=\"1\" class=\"dataframe\">\n",
       "  <thead>\n",
       "    <tr style=\"text-align: right;\">\n",
       "      <th></th>\n",
       "      <th>index</th>\n",
       "      <th>Unnamed: 0</th>\n",
       "      <th>user_id</th>\n",
       "      <th>age</th>\n",
       "      <th>churn_date</th>\n",
       "      <th>city</th>\n",
       "      <th>first_name</th>\n",
       "      <th>last_name</th>\n",
       "      <th>reg_date</th>\n",
       "      <th>tariff</th>\n",
       "      <th>total_months</th>\n",
       "      <th>month</th>\n",
       "      <th>total_calls</th>\n",
       "      <th>total_duration</th>\n",
       "      <th>total_sessions</th>\n",
       "      <th>total_traffic</th>\n",
       "      <th>total_messages</th>\n",
       "    </tr>\n",
       "  </thead>\n",
       "  <tbody>\n",
       "    <tr>\n",
       "      <td>0</td>\n",
       "      <td>0</td>\n",
       "      <td>0</td>\n",
       "      <td>1000</td>\n",
       "      <td>52</td>\n",
       "      <td>NaT</td>\n",
       "      <td>Краснодар</td>\n",
       "      <td>Рафаил</td>\n",
       "      <td>Верещагин</td>\n",
       "      <td>2018-05-25</td>\n",
       "      <td>ultra</td>\n",
       "      <td>8.0</td>\n",
       "      <td>5</td>\n",
       "      <td>17.0</td>\n",
       "      <td>159.0</td>\n",
       "      <td>4.0</td>\n",
       "      <td>2253.49</td>\n",
       "      <td>22.0</td>\n",
       "    </tr>\n",
       "    <tr>\n",
       "      <td>1</td>\n",
       "      <td>0</td>\n",
       "      <td>0</td>\n",
       "      <td>1000</td>\n",
       "      <td>52</td>\n",
       "      <td>NaT</td>\n",
       "      <td>Краснодар</td>\n",
       "      <td>Рафаил</td>\n",
       "      <td>Верещагин</td>\n",
       "      <td>2018-05-25</td>\n",
       "      <td>ultra</td>\n",
       "      <td>8.0</td>\n",
       "      <td>6</td>\n",
       "      <td>28.0</td>\n",
       "      <td>172.0</td>\n",
       "      <td>44.0</td>\n",
       "      <td>23233.77</td>\n",
       "      <td>60.0</td>\n",
       "    </tr>\n",
       "    <tr>\n",
       "      <td>2</td>\n",
       "      <td>0</td>\n",
       "      <td>0</td>\n",
       "      <td>1000</td>\n",
       "      <td>52</td>\n",
       "      <td>NaT</td>\n",
       "      <td>Краснодар</td>\n",
       "      <td>Рафаил</td>\n",
       "      <td>Верещагин</td>\n",
       "      <td>2018-05-25</td>\n",
       "      <td>ultra</td>\n",
       "      <td>8.0</td>\n",
       "      <td>7</td>\n",
       "      <td>41.0</td>\n",
       "      <td>340.0</td>\n",
       "      <td>28.0</td>\n",
       "      <td>14003.64</td>\n",
       "      <td>75.0</td>\n",
       "    </tr>\n",
       "    <tr>\n",
       "      <td>3</td>\n",
       "      <td>0</td>\n",
       "      <td>0</td>\n",
       "      <td>1000</td>\n",
       "      <td>52</td>\n",
       "      <td>NaT</td>\n",
       "      <td>Краснодар</td>\n",
       "      <td>Рафаил</td>\n",
       "      <td>Верещагин</td>\n",
       "      <td>2018-05-25</td>\n",
       "      <td>ultra</td>\n",
       "      <td>8.0</td>\n",
       "      <td>8</td>\n",
       "      <td>42.0</td>\n",
       "      <td>408.0</td>\n",
       "      <td>27.0</td>\n",
       "      <td>14055.93</td>\n",
       "      <td>81.0</td>\n",
       "    </tr>\n",
       "    <tr>\n",
       "      <td>4</td>\n",
       "      <td>0</td>\n",
       "      <td>0</td>\n",
       "      <td>1000</td>\n",
       "      <td>52</td>\n",
       "      <td>NaT</td>\n",
       "      <td>Краснодар</td>\n",
       "      <td>Рафаил</td>\n",
       "      <td>Верещагин</td>\n",
       "      <td>2018-05-25</td>\n",
       "      <td>ultra</td>\n",
       "      <td>8.0</td>\n",
       "      <td>9</td>\n",
       "      <td>46.0</td>\n",
       "      <td>466.0</td>\n",
       "      <td>25.0</td>\n",
       "      <td>14568.91</td>\n",
       "      <td>57.0</td>\n",
       "    </tr>\n",
       "  </tbody>\n",
       "</table>\n",
       "</div>"
      ],
      "text/plain": [
       "   index  Unnamed: 0  user_id  age churn_date       city first_name  \\\n",
       "0      0           0     1000   52        NaT  Краснодар     Рафаил   \n",
       "1      0           0     1000   52        NaT  Краснодар     Рафаил   \n",
       "2      0           0     1000   52        NaT  Краснодар     Рафаил   \n",
       "3      0           0     1000   52        NaT  Краснодар     Рафаил   \n",
       "4      0           0     1000   52        NaT  Краснодар     Рафаил   \n",
       "\n",
       "   last_name   reg_date tariff  total_months  month  total_calls  \\\n",
       "0  Верещагин 2018-05-25  ultra           8.0      5         17.0   \n",
       "1  Верещагин 2018-05-25  ultra           8.0      6         28.0   \n",
       "2  Верещагин 2018-05-25  ultra           8.0      7         41.0   \n",
       "3  Верещагин 2018-05-25  ultra           8.0      8         42.0   \n",
       "4  Верещагин 2018-05-25  ultra           8.0      9         46.0   \n",
       "\n",
       "   total_duration  total_sessions  total_traffic  total_messages  \n",
       "0           159.0             4.0        2253.49            22.0  \n",
       "1           172.0            44.0       23233.77            60.0  \n",
       "2           340.0            28.0       14003.64            75.0  \n",
       "3           408.0            27.0       14055.93            81.0  \n",
       "4           466.0            25.0       14568.91            57.0  "
      ]
     },
     "execution_count": 22,
     "metadata": {},
     "output_type": "execute_result"
    }
   ],
   "source": [
    "data = data.join(calls_users, on=['user_id', 'month'], how=\"outer\").join(internet_users, on=['user_id', 'month'], how=\"outer\")\\\n",
    ".join(messages_users, on=['user_id', 'month'], how=\"outer\", rsuffix='_y').reset_index()\n",
    "data.head()"
   ]
  },
  {
   "cell_type": "code",
   "execution_count": 23,
   "metadata": {},
   "outputs": [
    {
     "data": {
      "text/html": [
       "<div>\n",
       "<style scoped>\n",
       "    .dataframe tbody tr th:only-of-type {\n",
       "        vertical-align: middle;\n",
       "    }\n",
       "\n",
       "    .dataframe tbody tr th {\n",
       "        vertical-align: top;\n",
       "    }\n",
       "\n",
       "    .dataframe thead th {\n",
       "        text-align: right;\n",
       "    }\n",
       "</style>\n",
       "<table border=\"1\" class=\"dataframe\">\n",
       "  <thead>\n",
       "    <tr style=\"text-align: right;\">\n",
       "      <th></th>\n",
       "      <th>index</th>\n",
       "      <th>Unnamed: 0_x</th>\n",
       "      <th>user_id</th>\n",
       "      <th>age</th>\n",
       "      <th>churn_date</th>\n",
       "      <th>city</th>\n",
       "      <th>first_name</th>\n",
       "      <th>last_name</th>\n",
       "      <th>reg_date</th>\n",
       "      <th>tariff</th>\n",
       "      <th>...</th>\n",
       "      <th>total_messages</th>\n",
       "      <th>Unnamed: 0_y</th>\n",
       "      <th>messages_included</th>\n",
       "      <th>mb_per_month_included</th>\n",
       "      <th>minutes_included</th>\n",
       "      <th>rub_monthly_fee</th>\n",
       "      <th>rub_per_gb</th>\n",
       "      <th>rub_per_message</th>\n",
       "      <th>rub_per_minute</th>\n",
       "      <th>tariff_name</th>\n",
       "    </tr>\n",
       "  </thead>\n",
       "  <tbody>\n",
       "    <tr>\n",
       "      <td>0</td>\n",
       "      <td>0</td>\n",
       "      <td>0</td>\n",
       "      <td>1000</td>\n",
       "      <td>52</td>\n",
       "      <td>NaT</td>\n",
       "      <td>Краснодар</td>\n",
       "      <td>Рафаил</td>\n",
       "      <td>Верещагин</td>\n",
       "      <td>2018-05-25</td>\n",
       "      <td>ultra</td>\n",
       "      <td>...</td>\n",
       "      <td>22.0</td>\n",
       "      <td>1</td>\n",
       "      <td>1000</td>\n",
       "      <td>30720</td>\n",
       "      <td>3000</td>\n",
       "      <td>1950</td>\n",
       "      <td>150</td>\n",
       "      <td>1</td>\n",
       "      <td>1</td>\n",
       "      <td>ultra</td>\n",
       "    </tr>\n",
       "    <tr>\n",
       "      <td>1</td>\n",
       "      <td>0</td>\n",
       "      <td>0</td>\n",
       "      <td>1000</td>\n",
       "      <td>52</td>\n",
       "      <td>NaT</td>\n",
       "      <td>Краснодар</td>\n",
       "      <td>Рафаил</td>\n",
       "      <td>Верещагин</td>\n",
       "      <td>2018-05-25</td>\n",
       "      <td>ultra</td>\n",
       "      <td>...</td>\n",
       "      <td>60.0</td>\n",
       "      <td>1</td>\n",
       "      <td>1000</td>\n",
       "      <td>30720</td>\n",
       "      <td>3000</td>\n",
       "      <td>1950</td>\n",
       "      <td>150</td>\n",
       "      <td>1</td>\n",
       "      <td>1</td>\n",
       "      <td>ultra</td>\n",
       "    </tr>\n",
       "    <tr>\n",
       "      <td>2</td>\n",
       "      <td>0</td>\n",
       "      <td>0</td>\n",
       "      <td>1000</td>\n",
       "      <td>52</td>\n",
       "      <td>NaT</td>\n",
       "      <td>Краснодар</td>\n",
       "      <td>Рафаил</td>\n",
       "      <td>Верещагин</td>\n",
       "      <td>2018-05-25</td>\n",
       "      <td>ultra</td>\n",
       "      <td>...</td>\n",
       "      <td>75.0</td>\n",
       "      <td>1</td>\n",
       "      <td>1000</td>\n",
       "      <td>30720</td>\n",
       "      <td>3000</td>\n",
       "      <td>1950</td>\n",
       "      <td>150</td>\n",
       "      <td>1</td>\n",
       "      <td>1</td>\n",
       "      <td>ultra</td>\n",
       "    </tr>\n",
       "    <tr>\n",
       "      <td>3</td>\n",
       "      <td>0</td>\n",
       "      <td>0</td>\n",
       "      <td>1000</td>\n",
       "      <td>52</td>\n",
       "      <td>NaT</td>\n",
       "      <td>Краснодар</td>\n",
       "      <td>Рафаил</td>\n",
       "      <td>Верещагин</td>\n",
       "      <td>2018-05-25</td>\n",
       "      <td>ultra</td>\n",
       "      <td>...</td>\n",
       "      <td>81.0</td>\n",
       "      <td>1</td>\n",
       "      <td>1000</td>\n",
       "      <td>30720</td>\n",
       "      <td>3000</td>\n",
       "      <td>1950</td>\n",
       "      <td>150</td>\n",
       "      <td>1</td>\n",
       "      <td>1</td>\n",
       "      <td>ultra</td>\n",
       "    </tr>\n",
       "    <tr>\n",
       "      <td>4</td>\n",
       "      <td>0</td>\n",
       "      <td>0</td>\n",
       "      <td>1000</td>\n",
       "      <td>52</td>\n",
       "      <td>NaT</td>\n",
       "      <td>Краснодар</td>\n",
       "      <td>Рафаил</td>\n",
       "      <td>Верещагин</td>\n",
       "      <td>2018-05-25</td>\n",
       "      <td>ultra</td>\n",
       "      <td>...</td>\n",
       "      <td>57.0</td>\n",
       "      <td>1</td>\n",
       "      <td>1000</td>\n",
       "      <td>30720</td>\n",
       "      <td>3000</td>\n",
       "      <td>1950</td>\n",
       "      <td>150</td>\n",
       "      <td>1</td>\n",
       "      <td>1</td>\n",
       "      <td>ultra</td>\n",
       "    </tr>\n",
       "  </tbody>\n",
       "</table>\n",
       "<p>5 rows × 26 columns</p>\n",
       "</div>"
      ],
      "text/plain": [
       "   index  Unnamed: 0_x  user_id  age churn_date       city first_name  \\\n",
       "0      0             0     1000   52        NaT  Краснодар     Рафаил   \n",
       "1      0             0     1000   52        NaT  Краснодар     Рафаил   \n",
       "2      0             0     1000   52        NaT  Краснодар     Рафаил   \n",
       "3      0             0     1000   52        NaT  Краснодар     Рафаил   \n",
       "4      0             0     1000   52        NaT  Краснодар     Рафаил   \n",
       "\n",
       "   last_name   reg_date tariff  ...  total_messages  Unnamed: 0_y  \\\n",
       "0  Верещагин 2018-05-25  ultra  ...            22.0             1   \n",
       "1  Верещагин 2018-05-25  ultra  ...            60.0             1   \n",
       "2  Верещагин 2018-05-25  ultra  ...            75.0             1   \n",
       "3  Верещагин 2018-05-25  ultra  ...            81.0             1   \n",
       "4  Верещагин 2018-05-25  ultra  ...            57.0             1   \n",
       "\n",
       "   messages_included  mb_per_month_included  minutes_included  \\\n",
       "0               1000                  30720              3000   \n",
       "1               1000                  30720              3000   \n",
       "2               1000                  30720              3000   \n",
       "3               1000                  30720              3000   \n",
       "4               1000                  30720              3000   \n",
       "\n",
       "   rub_monthly_fee  rub_per_gb  rub_per_message  rub_per_minute  tariff_name  \n",
       "0             1950         150                1               1        ultra  \n",
       "1             1950         150                1               1        ultra  \n",
       "2             1950         150                1               1        ultra  \n",
       "3             1950         150                1               1        ultra  \n",
       "4             1950         150                1               1        ultra  \n",
       "\n",
       "[5 rows x 26 columns]"
      ]
     },
     "metadata": {},
     "output_type": "display_data"
    },
    {
     "name": "stdout",
     "output_type": "stream",
     "text": [
      "<class 'pandas.core.frame.DataFrame'>\n",
      "Int64Index: 3216 entries, 0 to 3215\n",
      "Data columns (total 26 columns):\n",
      "index                    3216 non-null int64\n",
      "Unnamed: 0_x             3216 non-null int64\n",
      "user_id                  3216 non-null int64\n",
      "age                      3216 non-null int64\n",
      "churn_date               189 non-null datetime64[ns]\n",
      "city                     3216 non-null object\n",
      "first_name               3216 non-null object\n",
      "last_name                3216 non-null object\n",
      "reg_date                 3216 non-null datetime64[ns]\n",
      "tariff                   3216 non-null object\n",
      "total_months             3216 non-null float64\n",
      "month                    3216 non-null int64\n",
      "total_calls              3168 non-null float64\n",
      "total_duration           3168 non-null float64\n",
      "total_sessions           3201 non-null float64\n",
      "total_traffic            3201 non-null float64\n",
      "total_messages           2717 non-null float64\n",
      "Unnamed: 0_y             3216 non-null int64\n",
      "messages_included        3216 non-null int64\n",
      "mb_per_month_included    3216 non-null int64\n",
      "minutes_included         3216 non-null int64\n",
      "rub_monthly_fee          3216 non-null int64\n",
      "rub_per_gb               3216 non-null int64\n",
      "rub_per_message          3216 non-null int64\n",
      "rub_per_minute           3216 non-null int64\n",
      "tariff_name              3216 non-null object\n",
      "dtypes: datetime64[ns](2), float64(6), int64(13), object(5)\n",
      "memory usage: 678.4+ KB\n",
      "None\n"
     ]
    }
   ],
   "source": [
    "data = data.merge(tariffs, left_on='tariff', right_on='tariff_name')\n",
    "display(data.head())\n",
    "print(data.info())"
   ]
  },
  {
   "cell_type": "markdown",
   "metadata": {},
   "source": [
    "Поскольку пустые значения в объединенной таблице (в столбцах total_calls, total_duration, total_sessions, total_traffic, total_messages) - это фактически отсутствие потребления категории услуг конкретным абонентом в конкретный месяц, избавимся от пропущенных значений путем замены на 0."
   ]
  },
  {
   "cell_type": "code",
   "execution_count": 24,
   "metadata": {
    "scrolled": true
   },
   "outputs": [
    {
     "name": "stdout",
     "output_type": "stream",
     "text": [
      "<class 'pandas.core.frame.DataFrame'>\n",
      "Int64Index: 3216 entries, 0 to 3215\n",
      "Data columns (total 26 columns):\n",
      "index                    3216 non-null int64\n",
      "Unnamed: 0_x             3216 non-null int64\n",
      "user_id                  3216 non-null int64\n",
      "age                      3216 non-null int64\n",
      "churn_date               189 non-null datetime64[ns]\n",
      "city                     3216 non-null object\n",
      "first_name               3216 non-null object\n",
      "last_name                3216 non-null object\n",
      "reg_date                 3216 non-null datetime64[ns]\n",
      "tariff                   3216 non-null object\n",
      "total_months             3216 non-null float64\n",
      "month                    3216 non-null int64\n",
      "total_calls              3216 non-null float64\n",
      "total_duration           3216 non-null float64\n",
      "total_sessions           3216 non-null float64\n",
      "total_traffic            3216 non-null float64\n",
      "total_messages           3216 non-null float64\n",
      "Unnamed: 0_y             3216 non-null int64\n",
      "messages_included        3216 non-null int64\n",
      "mb_per_month_included    3216 non-null int64\n",
      "minutes_included         3216 non-null int64\n",
      "rub_monthly_fee          3216 non-null int64\n",
      "rub_per_gb               3216 non-null int64\n",
      "rub_per_message          3216 non-null int64\n",
      "rub_per_minute           3216 non-null int64\n",
      "tariff_name              3216 non-null object\n",
      "dtypes: datetime64[ns](2), float64(6), int64(13), object(5)\n",
      "memory usage: 678.4+ KB\n",
      "None\n"
     ]
    }
   ],
   "source": [
    "varlist = ['total_calls', 'total_duration','total_sessions','total_traffic','total_messages']\n",
    "data[varlist]= data[varlist].fillna(value=0)\n",
    "print(data.info())"
   ]
  },
  {
   "cell_type": "markdown",
   "metadata": {},
   "source": [
    "Проверим общее число абонентов в объединенной таблице и суммарные значения трафика, сообщений и звонков."
   ]
  },
  {
   "cell_type": "code",
   "execution_count": 25,
   "metadata": {},
   "outputs": [
    {
     "name": "stdout",
     "output_type": "stream",
     "text": [
      "Число абонентов в объединенной таблице:  500\n"
     ]
    },
    {
     "data": {
      "text/html": [
       "<div>\n",
       "<style scoped>\n",
       "    .dataframe tbody tr th:only-of-type {\n",
       "        vertical-align: middle;\n",
       "    }\n",
       "\n",
       "    .dataframe tbody tr th {\n",
       "        vertical-align: top;\n",
       "    }\n",
       "\n",
       "    .dataframe thead th {\n",
       "        text-align: right;\n",
       "    }\n",
       "</style>\n",
       "<table border=\"1\" class=\"dataframe\">\n",
       "  <thead>\n",
       "    <tr style=\"text-align: right;\">\n",
       "      <th></th>\n",
       "      <th>После объединения</th>\n",
       "      <th>Исходные данные</th>\n",
       "    </tr>\n",
       "  </thead>\n",
       "  <tbody>\n",
       "    <tr>\n",
       "      <td>total_calls</td>\n",
       "      <td>162994.00</td>\n",
       "      <td>162994.00</td>\n",
       "    </tr>\n",
       "    <tr>\n",
       "      <td>total_duration</td>\n",
       "      <td>1450301.00</td>\n",
       "      <td>1450301.00</td>\n",
       "    </tr>\n",
       "    <tr>\n",
       "      <td>total_sessions</td>\n",
       "      <td>129798.00</td>\n",
       "      <td>129798.00</td>\n",
       "    </tr>\n",
       "    <tr>\n",
       "      <td>total_traffic</td>\n",
       "      <td>55305267.73</td>\n",
       "      <td>55305267.73</td>\n",
       "    </tr>\n",
       "    <tr>\n",
       "      <td>total_messages</td>\n",
       "      <td>123036.00</td>\n",
       "      <td>123036.00</td>\n",
       "    </tr>\n",
       "  </tbody>\n",
       "</table>\n",
       "</div>"
      ],
      "text/plain": [
       "                После объединения  Исходные данные\n",
       "total_calls             162994.00        162994.00\n",
       "total_duration         1450301.00       1450301.00\n",
       "total_sessions          129798.00        129798.00\n",
       "total_traffic         55305267.73      55305267.73\n",
       "total_messages          123036.00        123036.00"
      ]
     },
     "metadata": {},
     "output_type": "display_data"
    }
   ],
   "source": [
    "print('Число абонентов в объединенной таблице: ', len(data['user_id'].unique()))\n",
    "\n",
    "df = pd.DataFrame({'После объединения': pd.Series(data[varlist].sum())})\n",
    "\n",
    "df['Исходные данные']= [calls['duration'].count(), calls['duration'].sum(),\\\n",
    " internet['mb_used'].count(), internet['mb_used'].sum(),messages['message_date'].count()]\n",
    "display(df)"
   ]
  },
  {
   "cell_type": "markdown",
   "metadata": {},
   "source": [
    "Контрольные суммы и число абонентов в исходной и сводной таблицах совпадают."
   ]
  },
  {
   "cell_type": "markdown",
   "metadata": {},
   "source": [
    "### Посчитаем помесячную выручку с каждого пользователя ###"
   ]
  },
  {
   "cell_type": "markdown",
   "metadata": {},
   "source": [
    "Вычтем бесплатный лимит из суммарного количества звонков, сообщений и интернет-трафика, а остаток умножим на значение из тарифного плана.\n",
    "Поскольку трафик за месяц тарифицируется по гигабайтам, округлим трафик до целых гигабайт в большую сторону.\n",
    "Результирующие значения - сколько каждый пользователь должен заплатить в этом месяце за дополнительный трафик, звонки и сообщения в рамках его тарифного плана."
   ]
  },
  {
   "cell_type": "code",
   "execution_count": 26,
   "metadata": {},
   "outputs": [],
   "source": [
    "data['calls_paid']= (\n",
    "    data['total_duration']-data['minutes_included']).apply(\n",
    "    lambda x: max(0,x))*data['rub_per_minute']\n",
    "data['messages_paid']= (\n",
    "    data['total_messages']-data['messages_included']).apply(\n",
    "    lambda x: max(0,x))*data['rub_per_message']\n",
    "data['traffic_paid']= (\n",
    "    data['total_traffic']-data['mb_per_month_included']).apply(\n",
    "    lambda x: math.ceil(max(0, x/1024)))*data['rub_per_gb']"
   ]
  },
  {
   "cell_type": "markdown",
   "metadata": {},
   "source": [
    "Сложим дополнительные расходы на связь и интернет и абонентскую плату, соответствующую тарифному плану. В результате получим ежемесячную выручку по всем абонентам в выборке."
   ]
  },
  {
   "cell_type": "code",
   "execution_count": 27,
   "metadata": {},
   "outputs": [],
   "source": [
    "data['profit']= data['calls_paid'] + data['messages_paid'] + data['traffic_paid'] + data['rub_monthly_fee']"
   ]
  },
  {
   "cell_type": "markdown",
   "metadata": {},
   "source": [
    "Удалим столбцы для промежуточных расчетов."
   ]
  },
  {
   "cell_type": "code",
   "execution_count": 28,
   "metadata": {},
   "outputs": [
    {
     "data": {
      "text/html": [
       "<div>\n",
       "<style scoped>\n",
       "    .dataframe tbody tr th:only-of-type {\n",
       "        vertical-align: middle;\n",
       "    }\n",
       "\n",
       "    .dataframe tbody tr th {\n",
       "        vertical-align: top;\n",
       "    }\n",
       "\n",
       "    .dataframe thead th {\n",
       "        text-align: right;\n",
       "    }\n",
       "</style>\n",
       "<table border=\"1\" class=\"dataframe\">\n",
       "  <thead>\n",
       "    <tr style=\"text-align: right;\">\n",
       "      <th></th>\n",
       "      <th>Unnamed: 0_x</th>\n",
       "      <th>user_id</th>\n",
       "      <th>city</th>\n",
       "      <th>month</th>\n",
       "      <th>total_calls</th>\n",
       "      <th>total_duration</th>\n",
       "      <th>total_sessions</th>\n",
       "      <th>total_traffic</th>\n",
       "      <th>total_messages</th>\n",
       "      <th>Unnamed: 0_y</th>\n",
       "      <th>tariff_name</th>\n",
       "      <th>profit</th>\n",
       "    </tr>\n",
       "  </thead>\n",
       "  <tbody>\n",
       "    <tr>\n",
       "      <td>0</td>\n",
       "      <td>0</td>\n",
       "      <td>1000</td>\n",
       "      <td>Краснодар</td>\n",
       "      <td>5</td>\n",
       "      <td>17.0</td>\n",
       "      <td>159.0</td>\n",
       "      <td>4.0</td>\n",
       "      <td>2253.49</td>\n",
       "      <td>22.0</td>\n",
       "      <td>1</td>\n",
       "      <td>ultra</td>\n",
       "      <td>1950.0</td>\n",
       "    </tr>\n",
       "    <tr>\n",
       "      <td>1</td>\n",
       "      <td>0</td>\n",
       "      <td>1000</td>\n",
       "      <td>Краснодар</td>\n",
       "      <td>6</td>\n",
       "      <td>28.0</td>\n",
       "      <td>172.0</td>\n",
       "      <td>44.0</td>\n",
       "      <td>23233.77</td>\n",
       "      <td>60.0</td>\n",
       "      <td>1</td>\n",
       "      <td>ultra</td>\n",
       "      <td>1950.0</td>\n",
       "    </tr>\n",
       "    <tr>\n",
       "      <td>2</td>\n",
       "      <td>0</td>\n",
       "      <td>1000</td>\n",
       "      <td>Краснодар</td>\n",
       "      <td>7</td>\n",
       "      <td>41.0</td>\n",
       "      <td>340.0</td>\n",
       "      <td>28.0</td>\n",
       "      <td>14003.64</td>\n",
       "      <td>75.0</td>\n",
       "      <td>1</td>\n",
       "      <td>ultra</td>\n",
       "      <td>1950.0</td>\n",
       "    </tr>\n",
       "    <tr>\n",
       "      <td>3</td>\n",
       "      <td>0</td>\n",
       "      <td>1000</td>\n",
       "      <td>Краснодар</td>\n",
       "      <td>8</td>\n",
       "      <td>42.0</td>\n",
       "      <td>408.0</td>\n",
       "      <td>27.0</td>\n",
       "      <td>14055.93</td>\n",
       "      <td>81.0</td>\n",
       "      <td>1</td>\n",
       "      <td>ultra</td>\n",
       "      <td>1950.0</td>\n",
       "    </tr>\n",
       "    <tr>\n",
       "      <td>4</td>\n",
       "      <td>0</td>\n",
       "      <td>1000</td>\n",
       "      <td>Краснодар</td>\n",
       "      <td>9</td>\n",
       "      <td>46.0</td>\n",
       "      <td>466.0</td>\n",
       "      <td>25.0</td>\n",
       "      <td>14568.91</td>\n",
       "      <td>57.0</td>\n",
       "      <td>1</td>\n",
       "      <td>ultra</td>\n",
       "      <td>1950.0</td>\n",
       "    </tr>\n",
       "  </tbody>\n",
       "</table>\n",
       "</div>"
      ],
      "text/plain": [
       "   Unnamed: 0_x  user_id       city  month  total_calls  total_duration  \\\n",
       "0             0     1000  Краснодар      5         17.0           159.0   \n",
       "1             0     1000  Краснодар      6         28.0           172.0   \n",
       "2             0     1000  Краснодар      7         41.0           340.0   \n",
       "3             0     1000  Краснодар      8         42.0           408.0   \n",
       "4             0     1000  Краснодар      9         46.0           466.0   \n",
       "\n",
       "   total_sessions  total_traffic  total_messages  Unnamed: 0_y tariff_name  \\\n",
       "0             4.0        2253.49            22.0             1       ultra   \n",
       "1            44.0       23233.77            60.0             1       ultra   \n",
       "2            28.0       14003.64            75.0             1       ultra   \n",
       "3            27.0       14055.93            81.0             1       ultra   \n",
       "4            25.0       14568.91            57.0             1       ultra   \n",
       "\n",
       "   profit  \n",
       "0  1950.0  \n",
       "1  1950.0  \n",
       "2  1950.0  \n",
       "3  1950.0  \n",
       "4  1950.0  "
      ]
     },
     "execution_count": 28,
     "metadata": {},
     "output_type": "execute_result"
    }
   ],
   "source": [
    "data.columns\n",
    "data = data.drop(\n",
    "    ['index','age', 'churn_date', 'first_name','last_name', 'reg_date', 'tariff', 'total_months',\n",
    " 'messages_included', 'mb_per_month_included','minutes_included', 'rub_monthly_fee', 'rub_per_gb', \n",
    " 'rub_per_message','rub_per_minute', 'calls_paid', 'messages_paid','traffic_paid'], 1)\n",
    "data.head()"
   ]
  },
  {
   "cell_type": "markdown",
   "metadata": {},
   "source": [
    "Сравним переменные ежемесячного потребления услуг связи (звонки, сообщения и интернет) в разрезе тарифов \"Смарт\" и \"Ультра\". Изучим описательные статистики и построим графики плотности для визуализации распределения."
   ]
  },
  {
   "cell_type": "markdown",
   "metadata": {},
   "source": [
    "### Проанализируем различия в потреблении между тарифами ###"
   ]
  },
  {
   "cell_type": "code",
   "execution_count": 29,
   "metadata": {},
   "outputs": [],
   "source": [
    "def compare (y, name):\n",
    "    display (data.groupby('tariff_name')[y].describe().round(1))\n",
    "    display (data.groupby('tariff_name')[y].agg(['var', 'std'], ddof=1).round(1))\n",
    "    sns.kdeplot(data.query(\"tariff_name == 'ultra'\")[y], shade=True, label=\"ultra\", alpha=.5).set(xlim=(0))\n",
    "    sns.kdeplot(data.query(\"tariff_name == 'smart'\")[y], shade=True, label=\"smart\", alpha=.5).set(xlim=(0))\n",
    "    plt.title(name)\n",
    "    plt.xlabel(y)\n",
    "    plt.ylabel('Density')\n",
    "    plt.show()\n",
    "    sns.boxplot(x='tariff_name', y=y, data=data)"
   ]
  },
  {
   "cell_type": "markdown",
   "metadata": {},
   "source": [
    "**Звонки**"
   ]
  },
  {
   "cell_type": "code",
   "execution_count": 30,
   "metadata": {
    "scrolled": false
   },
   "outputs": [
    {
     "data": {
      "text/html": [
       "<div>\n",
       "<style scoped>\n",
       "    .dataframe tbody tr th:only-of-type {\n",
       "        vertical-align: middle;\n",
       "    }\n",
       "\n",
       "    .dataframe tbody tr th {\n",
       "        vertical-align: top;\n",
       "    }\n",
       "\n",
       "    .dataframe thead th {\n",
       "        text-align: right;\n",
       "    }\n",
       "</style>\n",
       "<table border=\"1\" class=\"dataframe\">\n",
       "  <thead>\n",
       "    <tr style=\"text-align: right;\">\n",
       "      <th></th>\n",
       "      <th>count</th>\n",
       "      <th>mean</th>\n",
       "      <th>std</th>\n",
       "      <th>min</th>\n",
       "      <th>25%</th>\n",
       "      <th>50%</th>\n",
       "      <th>75%</th>\n",
       "      <th>max</th>\n",
       "    </tr>\n",
       "    <tr>\n",
       "      <th>tariff_name</th>\n",
       "      <th></th>\n",
       "      <th></th>\n",
       "      <th></th>\n",
       "      <th></th>\n",
       "      <th></th>\n",
       "      <th></th>\n",
       "      <th></th>\n",
       "      <th></th>\n",
       "    </tr>\n",
       "  </thead>\n",
       "  <tbody>\n",
       "    <tr>\n",
       "      <td>smart</td>\n",
       "      <td>2230.0</td>\n",
       "      <td>417.7</td>\n",
       "      <td>190.5</td>\n",
       "      <td>0.0</td>\n",
       "      <td>282.0</td>\n",
       "      <td>421.5</td>\n",
       "      <td>545.0</td>\n",
       "      <td>1435.0</td>\n",
       "    </tr>\n",
       "    <tr>\n",
       "      <td>ultra</td>\n",
       "      <td>986.0</td>\n",
       "      <td>526.1</td>\n",
       "      <td>317.9</td>\n",
       "      <td>0.0</td>\n",
       "      <td>282.5</td>\n",
       "      <td>518.0</td>\n",
       "      <td>751.8</td>\n",
       "      <td>1673.0</td>\n",
       "    </tr>\n",
       "  </tbody>\n",
       "</table>\n",
       "</div>"
      ],
      "text/plain": [
       "              count   mean    std  min    25%    50%    75%     max\n",
       "tariff_name                                                        \n",
       "smart        2230.0  417.7  190.5  0.0  282.0  421.5  545.0  1435.0\n",
       "ultra         986.0  526.1  317.9  0.0  282.5  518.0  751.8  1673.0"
      ]
     },
     "metadata": {},
     "output_type": "display_data"
    },
    {
     "data": {
      "text/html": [
       "<div>\n",
       "<style scoped>\n",
       "    .dataframe tbody tr th:only-of-type {\n",
       "        vertical-align: middle;\n",
       "    }\n",
       "\n",
       "    .dataframe tbody tr th {\n",
       "        vertical-align: top;\n",
       "    }\n",
       "\n",
       "    .dataframe thead th {\n",
       "        text-align: right;\n",
       "    }\n",
       "</style>\n",
       "<table border=\"1\" class=\"dataframe\">\n",
       "  <thead>\n",
       "    <tr style=\"text-align: right;\">\n",
       "      <th></th>\n",
       "      <th>var</th>\n",
       "      <th>std</th>\n",
       "    </tr>\n",
       "    <tr>\n",
       "      <th>tariff_name</th>\n",
       "      <th></th>\n",
       "      <th></th>\n",
       "    </tr>\n",
       "  </thead>\n",
       "  <tbody>\n",
       "    <tr>\n",
       "      <td>smart</td>\n",
       "      <td>36281.4</td>\n",
       "      <td>190.5</td>\n",
       "    </tr>\n",
       "    <tr>\n",
       "      <td>ultra</td>\n",
       "      <td>101052.5</td>\n",
       "      <td>317.9</td>\n",
       "    </tr>\n",
       "  </tbody>\n",
       "</table>\n",
       "</div>"
      ],
      "text/plain": [
       "                  var    std\n",
       "tariff_name                 \n",
       "smart         36281.4  190.5\n",
       "ultra        101052.5  317.9"
      ]
     },
     "metadata": {},
     "output_type": "display_data"
    },
    {
     "data": {
      "image/png": "[encoded data removed]",
      "text/plain": [
       "<Figure size 432x288 with 1 Axes>"
      ]
     },
     "metadata": {
      "needs_background": "light"
     },
     "output_type": "display_data"
    },
    {
     "data": {
      "image/png": "[encoded data removed]",
      "text/plain": [
       "<Figure size 432x288 with 1 Axes>"
      ]
     },
     "metadata": {
      "needs_background": "light"
     },
     "output_type": "display_data"
    }
   ],
   "source": [
    "compare('total_duration', 'Плотность распределения длительности звонков')"
   ]
  },
  {
   "cell_type": "markdown",
   "metadata": {},
   "source": [
    "**Сообщения**"
   ]
  },
  {
   "cell_type": "code",
   "execution_count": 31,
   "metadata": {},
   "outputs": [
    {
     "data": {
      "text/html": [
       "<div>\n",
       "<style scoped>\n",
       "    .dataframe tbody tr th:only-of-type {\n",
       "        vertical-align: middle;\n",
       "    }\n",
       "\n",
       "    .dataframe tbody tr th {\n",
       "        vertical-align: top;\n",
       "    }\n",
       "\n",
       "    .dataframe thead th {\n",
       "        text-align: right;\n",
       "    }\n",
       "</style>\n",
       "<table border=\"1\" class=\"dataframe\">\n",
       "  <thead>\n",
       "    <tr style=\"text-align: right;\">\n",
       "      <th></th>\n",
       "      <th>count</th>\n",
       "      <th>mean</th>\n",
       "      <th>std</th>\n",
       "      <th>min</th>\n",
       "      <th>25%</th>\n",
       "      <th>50%</th>\n",
       "      <th>75%</th>\n",
       "      <th>max</th>\n",
       "    </tr>\n",
       "    <tr>\n",
       "      <th>tariff_name</th>\n",
       "      <th></th>\n",
       "      <th></th>\n",
       "      <th></th>\n",
       "      <th></th>\n",
       "      <th></th>\n",
       "      <th></th>\n",
       "      <th></th>\n",
       "      <th></th>\n",
       "    </tr>\n",
       "  </thead>\n",
       "  <tbody>\n",
       "    <tr>\n",
       "      <td>smart</td>\n",
       "      <td>2230.0</td>\n",
       "      <td>33.4</td>\n",
       "      <td>28.2</td>\n",
       "      <td>0.0</td>\n",
       "      <td>10.0</td>\n",
       "      <td>28.0</td>\n",
       "      <td>51.0</td>\n",
       "      <td>143.0</td>\n",
       "    </tr>\n",
       "    <tr>\n",
       "      <td>ultra</td>\n",
       "      <td>986.0</td>\n",
       "      <td>49.3</td>\n",
       "      <td>47.8</td>\n",
       "      <td>0.0</td>\n",
       "      <td>6.0</td>\n",
       "      <td>38.0</td>\n",
       "      <td>78.8</td>\n",
       "      <td>224.0</td>\n",
       "    </tr>\n",
       "  </tbody>\n",
       "</table>\n",
       "</div>"
      ],
      "text/plain": [
       "              count  mean   std  min   25%   50%   75%    max\n",
       "tariff_name                                                  \n",
       "smart        2230.0  33.4  28.2  0.0  10.0  28.0  51.0  143.0\n",
       "ultra         986.0  49.3  47.8  0.0   6.0  38.0  78.8  224.0"
      ]
     },
     "metadata": {},
     "output_type": "display_data"
    },
    {
     "data": {
      "text/html": [
       "<div>\n",
       "<style scoped>\n",
       "    .dataframe tbody tr th:only-of-type {\n",
       "        vertical-align: middle;\n",
       "    }\n",
       "\n",
       "    .dataframe tbody tr th {\n",
       "        vertical-align: top;\n",
       "    }\n",
       "\n",
       "    .dataframe thead th {\n",
       "        text-align: right;\n",
       "    }\n",
       "</style>\n",
       "<table border=\"1\" class=\"dataframe\">\n",
       "  <thead>\n",
       "    <tr style=\"text-align: right;\">\n",
       "      <th></th>\n",
       "      <th>var</th>\n",
       "      <th>std</th>\n",
       "    </tr>\n",
       "    <tr>\n",
       "      <th>tariff_name</th>\n",
       "      <th></th>\n",
       "      <th></th>\n",
       "    </tr>\n",
       "  </thead>\n",
       "  <tbody>\n",
       "    <tr>\n",
       "      <td>smart</td>\n",
       "      <td>797.0</td>\n",
       "      <td>28.2</td>\n",
       "    </tr>\n",
       "    <tr>\n",
       "      <td>ultra</td>\n",
       "      <td>2285.4</td>\n",
       "      <td>47.8</td>\n",
       "    </tr>\n",
       "  </tbody>\n",
       "</table>\n",
       "</div>"
      ],
      "text/plain": [
       "                var   std\n",
       "tariff_name              \n",
       "smart         797.0  28.2\n",
       "ultra        2285.4  47.8"
      ]
     },
     "metadata": {},
     "output_type": "display_data"
    },
    {
     "data": {
      "image/png": "[encoded data removed]",
      "text/plain": [
       "<Figure size 432x288 with 1 Axes>"
      ]
     },
     "metadata": {
      "needs_background": "light"
     },
     "output_type": "display_data"
    },
    {
     "data": {
      "image/png": "[encoded data removed]",
      "text/plain": [
       "<Figure size 432x288 with 1 Axes>"
      ]
     },
     "metadata": {
      "needs_background": "light"
     },
     "output_type": "display_data"
    }
   ],
   "source": [
    "compare('total_messages', 'Плотность распределения числа сообщений')"
   ]
  },
  {
   "cell_type": "markdown",
   "metadata": {},
   "source": [
    "**Интернет**"
   ]
  },
  {
   "cell_type": "code",
   "execution_count": 32,
   "metadata": {},
   "outputs": [
    {
     "data": {
      "text/html": [
       "<div>\n",
       "<style scoped>\n",
       "    .dataframe tbody tr th:only-of-type {\n",
       "        vertical-align: middle;\n",
       "    }\n",
       "\n",
       "    .dataframe tbody tr th {\n",
       "        vertical-align: top;\n",
       "    }\n",
       "\n",
       "    .dataframe thead th {\n",
       "        text-align: right;\n",
       "    }\n",
       "</style>\n",
       "<table border=\"1\" class=\"dataframe\">\n",
       "  <thead>\n",
       "    <tr style=\"text-align: right;\">\n",
       "      <th></th>\n",
       "      <th>count</th>\n",
       "      <th>mean</th>\n",
       "      <th>std</th>\n",
       "      <th>min</th>\n",
       "      <th>25%</th>\n",
       "      <th>50%</th>\n",
       "      <th>75%</th>\n",
       "      <th>max</th>\n",
       "    </tr>\n",
       "    <tr>\n",
       "      <th>tariff_name</th>\n",
       "      <th></th>\n",
       "      <th></th>\n",
       "      <th></th>\n",
       "      <th></th>\n",
       "      <th></th>\n",
       "      <th></th>\n",
       "      <th></th>\n",
       "      <th></th>\n",
       "    </tr>\n",
       "  </thead>\n",
       "  <tbody>\n",
       "    <tr>\n",
       "      <td>smart</td>\n",
       "      <td>2230.0</td>\n",
       "      <td>16201.1</td>\n",
       "      <td>5879.2</td>\n",
       "      <td>0.0</td>\n",
       "      <td>12630.0</td>\n",
       "      <td>16505.5</td>\n",
       "      <td>20042.1</td>\n",
       "      <td>38552.4</td>\n",
       "    </tr>\n",
       "    <tr>\n",
       "      <td>ultra</td>\n",
       "      <td>986.0</td>\n",
       "      <td>19449.1</td>\n",
       "      <td>10101.1</td>\n",
       "      <td>0.0</td>\n",
       "      <td>11748.6</td>\n",
       "      <td>19304.0</td>\n",
       "      <td>26835.9</td>\n",
       "      <td>49745.7</td>\n",
       "    </tr>\n",
       "  </tbody>\n",
       "</table>\n",
       "</div>"
      ],
      "text/plain": [
       "              count     mean      std  min      25%      50%      75%      max\n",
       "tariff_name                                                                   \n",
       "smart        2230.0  16201.1   5879.2  0.0  12630.0  16505.5  20042.1  38552.4\n",
       "ultra         986.0  19449.1  10101.1  0.0  11748.6  19304.0  26835.9  49745.7"
      ]
     },
     "metadata": {},
     "output_type": "display_data"
    },
    {
     "data": {
      "text/html": [
       "<div>\n",
       "<style scoped>\n",
       "    .dataframe tbody tr th:only-of-type {\n",
       "        vertical-align: middle;\n",
       "    }\n",
       "\n",
       "    .dataframe tbody tr th {\n",
       "        vertical-align: top;\n",
       "    }\n",
       "\n",
       "    .dataframe thead th {\n",
       "        text-align: right;\n",
       "    }\n",
       "</style>\n",
       "<table border=\"1\" class=\"dataframe\">\n",
       "  <thead>\n",
       "    <tr style=\"text-align: right;\">\n",
       "      <th></th>\n",
       "      <th>var</th>\n",
       "      <th>std</th>\n",
       "    </tr>\n",
       "    <tr>\n",
       "      <th>tariff_name</th>\n",
       "      <th></th>\n",
       "      <th></th>\n",
       "    </tr>\n",
       "  </thead>\n",
       "  <tbody>\n",
       "    <tr>\n",
       "      <td>smart</td>\n",
       "      <td>34564843.5</td>\n",
       "      <td>5879.2</td>\n",
       "    </tr>\n",
       "    <tr>\n",
       "      <td>ultra</td>\n",
       "      <td>102032129.5</td>\n",
       "      <td>10101.1</td>\n",
       "    </tr>\n",
       "  </tbody>\n",
       "</table>\n",
       "</div>"
      ],
      "text/plain": [
       "                     var      std\n",
       "tariff_name                      \n",
       "smart         34564843.5   5879.2\n",
       "ultra        102032129.5  10101.1"
      ]
     },
     "metadata": {},
     "output_type": "display_data"
    },
    {
     "data": {
      "image/png": "[encoded data removed]",
      "text/plain": [
       "<Figure size 432x288 with 1 Axes>"
      ]
     },
     "metadata": {
      "needs_background": "light"
     },
     "output_type": "display_data"
    },
    {
     "data": {
      "image/png": "[encoded data removed]",
      "text/plain": [
       "<Figure size 432x288 with 1 Axes>"
      ]
     },
     "metadata": {
      "needs_background": "light"
     },
     "output_type": "display_data"
    }
   ],
   "source": [
    "compare('total_traffic', 'Плотность распределения потребляемого трафика')"
   ]
  },
  {
   "cell_type": "markdown",
   "metadata": {},
   "source": [
    "В среднем абоненты тарифа \"Ультра\" совершают на 26% больше звонков, на 48% чаще отправляют сообщения и потребляют на 20% больше интернет-трафика по сравнению с абонентами тарифа \"Смарт\". Об этом говорят отличия как в средних, так и в медианных значениях. При этом межквартильный размах и вариация данных (среднеквадратичное отклонение) среди абоненстов тарифа \"Ультра\" значительно больше, в то время как поведение абонентов тарифа \"Смарт\" более однородно, а при визуальном анализе ближе к нормальному распределению.\n",
    "\n",
    "Распределния всех переменных (для обеих групп) скошены вправо, кроме длительности звонков абонентов \"Смарт\". Учитывая, что переменные не могут принимать отрицательные значения, число сообщенией отличается несимметричностью распределния (сильнее остальных скошен вправо), что говорит о присутствии выбросов. Также эта переменная характеризуется явным преобладанием наблюдений с 0 отправленных в месяц SMS, что можно объяснить массовым переходом на мессенджеры. \n",
    "\n",
    "Опираясь на визуальный анализ плотности распределения и описательные статистики, можно предположить, что абоненты тарифа \"Ультра\", с более высокой интенсивностью потребления услуг связи, приносят больше выручки компании. Выдвинем гипотезы."
   ]
  },
  {
   "cell_type": "markdown",
   "metadata": {},
   "source": [
    "## Проверка гипотез"
   ]
  },
  {
   "cell_type": "markdown",
   "metadata": {},
   "source": [
    "### Сравнение средней выручки по тарифам ###"
   ]
  },
  {
   "cell_type": "code",
   "execution_count": 33,
   "metadata": {},
   "outputs": [
    {
     "data": {
      "text/html": [
       "<div>\n",
       "<style scoped>\n",
       "    .dataframe tbody tr th:only-of-type {\n",
       "        vertical-align: middle;\n",
       "    }\n",
       "\n",
       "    .dataframe tbody tr th {\n",
       "        vertical-align: top;\n",
       "    }\n",
       "\n",
       "    .dataframe thead th {\n",
       "        text-align: right;\n",
       "    }\n",
       "</style>\n",
       "<table border=\"1\" class=\"dataframe\">\n",
       "  <thead>\n",
       "    <tr style=\"text-align: right;\">\n",
       "      <th></th>\n",
       "      <th>count</th>\n",
       "      <th>mean</th>\n",
       "      <th>std</th>\n",
       "      <th>min</th>\n",
       "      <th>25%</th>\n",
       "      <th>50%</th>\n",
       "      <th>75%</th>\n",
       "      <th>max</th>\n",
       "    </tr>\n",
       "    <tr>\n",
       "      <th>tariff_name</th>\n",
       "      <th></th>\n",
       "      <th></th>\n",
       "      <th></th>\n",
       "      <th></th>\n",
       "      <th></th>\n",
       "      <th></th>\n",
       "      <th></th>\n",
       "      <th></th>\n",
       "    </tr>\n",
       "  </thead>\n",
       "  <tbody>\n",
       "    <tr>\n",
       "      <td>smart</td>\n",
       "      <td>2230.0</td>\n",
       "      <td>1289.6</td>\n",
       "      <td>818.4</td>\n",
       "      <td>550.0</td>\n",
       "      <td>550.0</td>\n",
       "      <td>1021.0</td>\n",
       "      <td>1750.0</td>\n",
       "      <td>6770.0</td>\n",
       "    </tr>\n",
       "    <tr>\n",
       "      <td>ultra</td>\n",
       "      <td>986.0</td>\n",
       "      <td>2070.0</td>\n",
       "      <td>376.0</td>\n",
       "      <td>1950.0</td>\n",
       "      <td>1950.0</td>\n",
       "      <td>1950.0</td>\n",
       "      <td>1950.0</td>\n",
       "      <td>4800.0</td>\n",
       "    </tr>\n",
       "  </tbody>\n",
       "</table>\n",
       "</div>"
      ],
      "text/plain": [
       "              count    mean    std     min     25%     50%     75%     max\n",
       "tariff_name                                                               \n",
       "smart        2230.0  1289.6  818.4   550.0   550.0  1021.0  1750.0  6770.0\n",
       "ultra         986.0  2070.0  376.0  1950.0  1950.0  1950.0  1950.0  4800.0"
      ]
     },
     "metadata": {},
     "output_type": "display_data"
    }
   ],
   "source": [
    "display (data.groupby('tariff_name')['profit'].describe().round(1))"
   ]
  },
  {
   "cell_type": "markdown",
   "metadata": {},
   "source": [
    "Средние выборочные (а также медианные) значения ежемесячной выручки по двум тарифам отличаются (на 60% больше среди абонентов \"Ультра\"), однако какова верояность получить такие различия случайно?\n",
    "\n",
    "Проверим гипотезу \"Средняя выручка пользователей тарифов \"Ультра\" и \"Смарт\" различается\" (это альтернативная гипотеза). Нулевая гипотеза: различий в выручке между тарифами нет."
   ]
  },
  {
   "cell_type": "markdown",
   "metadata": {},
   "source": [
    "Стандратное отклонение profit среди абонентов тарифа \"Смарт\" говорит о сильной вариации в данных, поэтому минимизируем риск обнаружения ложных межгрупповых отличий и установим пороговое значение alpha, равным 0.01, то есть будем отвергать нулевую гипотезу, если вероятность обнаружить межргупповые различия при их отсутствии в генеральной совокупности меньше 1%."
   ]
  },
  {
   "cell_type": "code",
   "execution_count": 34,
   "metadata": {},
   "outputs": [
    {
     "name": "stdout",
     "output_type": "stream",
     "text": [
      "p-значение: 8.081909555489933e-161\n",
      "Отвергаем нулевую гипотезу\n"
     ]
    }
   ],
   "source": [
    "alpha = 0.01\n",
    "results = st.ttest_ind(data.query(\"tariff_name == 'ultra'\")['profit'], data.query(\"tariff_name == 'smart'\")['profit'])\n",
    "\n",
    "print('p-значение:', results.pvalue)\n",
    "\n",
    "if results.pvalue < alpha:\n",
    "    print(\"Отвергаем нулевую гипотезу\")\n",
    "else:\n",
    "    print(\"Не получилось отвергнуть нулевую гипотезу\")"
   ]
  },
  {
   "cell_type": "markdown",
   "metadata": {},
   "source": [
    "**Вывод.**\n",
    "Полученное значение p-value говорит о том, что выборочные средние достаточно далеки друг от друга, чтобы отбросить нулевую гипотезу об их равестве в генеральной совокупности (вероятность получить такое различие случайно крайне мала). Значит, средняя выручка тарифа \"Смарт\" статистически значимо отличается от выручки тарифа \"Ультра\"."
   ]
  },
  {
   "cell_type": "markdown",
   "metadata": {},
   "source": [
    "### Сравнение средней выручки по тарифам ###"
   ]
  },
  {
   "cell_type": "code",
   "execution_count": 35,
   "metadata": {},
   "outputs": [
    {
     "data": {
      "text/plain": [
       "count     611.0\n",
       "mean     1546.7\n",
       "std       752.1\n",
       "min       550.0\n",
       "25%       780.5\n",
       "50%      1750.0\n",
       "75%      1950.0\n",
       "max      5321.0\n",
       "Name: profit, dtype: float64"
      ]
     },
     "metadata": {},
     "output_type": "display_data"
    },
    {
     "data": {
      "text/plain": [
       "count    2605.0\n",
       "mean     1524.7\n",
       "std       808.7\n",
       "min       550.0\n",
       "25%       750.0\n",
       "50%      1583.0\n",
       "75%      1950.0\n",
       "max      6770.0\n",
       "Name: profit, dtype: float64"
      ]
     },
     "metadata": {},
     "output_type": "display_data"
    }
   ],
   "source": [
    "moscow_data = data.query(\"city == 'Москва'\")\n",
    "regions_data = data.query(\"city != 'Москва'\")\n",
    "display (moscow_data['profit'].describe().round(1))\n",
    "display (regions_data['profit'].describe().round(1))"
   ]
  },
  {
   "cell_type": "markdown",
   "metadata": {},
   "source": [
    "Также будем использовать строгий критерий для проверки гипотезы (alpha=0.01), поскольку средние значения profit по группам очень близки и, учитывая сильную вариацию в данных, велик риск обнаружить ложноположительные отличия."
   ]
  },
  {
   "cell_type": "markdown",
   "metadata": {},
   "source": [
    "Различие выборочных средних между выручкой абонентов из Москвы и других регионов менее выражено: среднемесячная выручка в Москве всего на 1,6% больше.\n",
    "\n",
    "Проверим гипотезу \"Средняя выручка пользователей из Москвы отличается от выручки пользователей из других регионов\" (альтернативная гипотеза). Нулевая гипотеза: различий в выручке между Московой и другими регионами нет."
   ]
  },
  {
   "cell_type": "code",
   "execution_count": 36,
   "metadata": {},
   "outputs": [
    {
     "name": "stdout",
     "output_type": "stream",
     "text": [
      "p-значение: 0.5400751614511182\n",
      "Не получилось отвергнуть нулевую гипотезу\n"
     ]
    }
   ],
   "source": [
    "results = st.ttest_ind(moscow_data['profit'], regions_data['profit'])\n",
    "\n",
    "print('p-значение:', results.pvalue)\n",
    "\n",
    "if results.pvalue < alpha:\n",
    "    print(\"Отвергаем нулевую гипотезу\")\n",
    "else:\n",
    "    print(\"Не получилось отвергнуть нулевую гипотезу\")"
   ]
  },
  {
   "cell_type": "markdown",
   "metadata": {},
   "source": [
    "Полученное значение p-value говорит о том, что хотя средняя выруска абонентов из Москвы выше, с вероятностью 50% такое или большее различие можно получить случайно. Это явно слишком большая вероятность, чтобы делать вывод о значимом различии между средними, отвергаем нулевую гипотезу, значимых отличий выручки между Москвой и другими регионами нет."
   ]
  },
  {
   "cell_type": "markdown",
   "metadata": {},
   "source": [
    "## Общий вывод"
   ]
  },
  {
   "cell_type": "markdown",
   "metadata": {},
   "source": [
    "Предварительный анализ тарифов на небольшой выборке клиентов показал, что 50% совершаемых звонков длятся 5-12 минут, в среднем 9 минут, при этом 50% сессий потребляют 228-593 мегабайт трафика, в среднем 426 мегабайт. \n",
    "\n",
    "Однако есть различия в том, как абоненты разных тарифов пользуются услугами оператора. В частности, абоненты тарифа \"Ультра\" ежемесячно совершают на 30% больше звонков, на 58% чаще отправляют сообщения и потребляют на 21% больше интернет-трафика по сравнению с абонентами тарифа \"Смарт\". \n",
    "\n",
    "Также анализ показал, что абоненты тарифа \"Ультра\" в среднем приносят больше выручки компании, при этом отличия статистически значимы. Несмотря на это, следует учитывать, что эта категория абонентов занимает меньшую долю, по крайней мере в выборочной совокупности:"
   ]
  },
  {
   "cell_type": "code",
   "execution_count": 37,
   "metadata": {},
   "outputs": [
    {
     "data": {
      "text/html": [
       "<div>\n",
       "<style scoped>\n",
       "    .dataframe tbody tr th:only-of-type {\n",
       "        vertical-align: middle;\n",
       "    }\n",
       "\n",
       "    .dataframe tbody tr th {\n",
       "        vertical-align: top;\n",
       "    }\n",
       "\n",
       "    .dataframe thead th {\n",
       "        text-align: right;\n",
       "    }\n",
       "</style>\n",
       "<table border=\"1\" class=\"dataframe\">\n",
       "  <thead>\n",
       "    <tr style=\"text-align: right;\">\n",
       "      <th></th>\n",
       "      <th>tariff_name</th>\n",
       "      <th>count</th>\n",
       "      <th>sum</th>\n",
       "      <th>share</th>\n",
       "    </tr>\n",
       "  </thead>\n",
       "  <tbody>\n",
       "    <tr>\n",
       "      <td>0</td>\n",
       "      <td>smart</td>\n",
       "      <td>2230</td>\n",
       "      <td>2875901.0</td>\n",
       "      <td>58.489519</td>\n",
       "    </tr>\n",
       "    <tr>\n",
       "      <td>1</td>\n",
       "      <td>ultra</td>\n",
       "      <td>986</td>\n",
       "      <td>2041050.0</td>\n",
       "      <td>41.510481</td>\n",
       "    </tr>\n",
       "  </tbody>\n",
       "</table>\n",
       "</div>"
      ],
      "text/plain": [
       "  tariff_name  count        sum      share\n",
       "0       smart   2230  2875901.0  58.489519\n",
       "1       ultra    986  2041050.0  41.510481"
      ]
     },
     "execution_count": 37,
     "metadata": {},
     "output_type": "execute_result"
    }
   ],
   "source": [
    "profit=data.pivot_table(\n",
    "    index='tariff_name', values=['profit'], aggfunc=['count', 'sum']).reset_index()\n",
    "profit.columns = ['tariff_name','count','sum']\n",
    "profit['share']=profit['sum']/(profit['sum'].sum())*100\n",
    "profit"
   ]
  },
  {
   "cell_type": "markdown",
   "metadata": {},
   "source": [
    "Если в выборке соблюдена пропорция абонентов генеральной совокупности, то примерное соотношение выручки будет: 60% - у абонентов тарифа \"Смарт\" и 40% - у абонентов тарифа \"Ультра\". Следовательно, при принятии решений об оптимизации рекламного бюджета необходимо учитывать не только среднемесячную выручку с каждой категории абонентов, но и их баланс в клиентском портфеле."
   ]
  },
  {
   "cell_type": "markdown",
   "metadata": {},
   "source": [
    "Учитывая, что каждый новый абонент тарифа \"Ультра\" приносит в среднем больше выручки компании, этот тариф является более перспективным для продвижения.\n",
    "    Однако этот вывод будет работать только при условии, что и затраты на привлечение одного абонента \"Ультра\" близки или хотя бы сопоставимы с CAC тарифа \"Смарт\". На практике может оказаться, что продвижение более догого тарифа приносит меньшую конверсию охвата в клиентов, и, следовательно, каждый новый клиент будет существенно дороже."
   ]
  }
 ],
 "metadata": {
  "ExecuteTimeLog": [
   {
    "duration": 2420,
    "start_time": "2021-06-24T07:16:57.921Z"
   },
   {
    "duration": 2570,
    "start_time": "2021-06-24T07:21:09.852Z"
   },
   {
    "duration": 1820,
    "start_time": "2021-06-24T07:24:38.955Z"
   },
   {
    "duration": 1795,
    "start_time": "2021-06-24T07:25:04.170Z"
   },
   {
    "duration": 1756,
    "start_time": "2021-06-24T07:31:33.183Z"
   },
   {
    "duration": 1747,
    "start_time": "2021-06-24T07:32:49.363Z"
   },
   {
    "duration": 2079,
    "start_time": "2021-06-24T07:34:22.818Z"
   },
   {
    "duration": 228,
    "start_time": "2021-06-24T07:35:00.006Z"
   },
   {
    "duration": 212,
    "start_time": "2021-06-24T07:35:07.591Z"
   },
   {
    "duration": 205,
    "start_time": "2021-06-24T07:39:54.095Z"
   },
   {
    "duration": 126,
    "start_time": "2021-06-24T07:42:22.340Z"
   },
   {
    "duration": 31,
    "start_time": "2021-06-24T07:45:07.577Z"
   },
   {
    "duration": 47,
    "start_time": "2021-06-24T07:51:49.887Z"
   },
   {
    "duration": 129,
    "start_time": "2021-06-24T08:13:44.299Z"
   },
   {
    "duration": 58,
    "start_time": "2021-06-24T08:19:32.882Z"
   },
   {
    "duration": 68,
    "start_time": "2021-06-24T08:20:58.973Z"
   },
   {
    "duration": 36,
    "start_time": "2021-06-24T08:21:13.442Z"
   },
   {
    "duration": 19,
    "start_time": "2021-06-24T08:22:27.956Z"
   },
   {
    "duration": 269,
    "start_time": "2021-06-24T08:27:47.862Z"
   },
   {
    "duration": 21,
    "start_time": "2021-06-24T08:36:04.463Z"
   },
   {
    "duration": 11,
    "start_time": "2021-06-24T08:36:47.674Z"
   },
   {
    "duration": 109,
    "start_time": "2021-06-24T08:46:35.834Z"
   },
   {
    "duration": 21,
    "start_time": "2021-06-24T08:47:04.974Z"
   },
   {
    "duration": 34,
    "start_time": "2021-06-24T08:47:47.635Z"
   },
   {
    "duration": 1158,
    "start_time": "2021-06-24T08:48:34.374Z"
   },
   {
    "duration": 1441,
    "start_time": "2021-06-24T08:49:44.396Z"
   },
   {
    "duration": 1470,
    "start_time": "2021-06-24T08:50:32.068Z"
   },
   {
    "duration": 8,
    "start_time": "2021-06-24T11:41:56.938Z"
   },
   {
    "duration": 25,
    "start_time": "2021-06-24T11:58:28.007Z"
   },
   {
    "duration": 27,
    "start_time": "2021-06-24T12:10:13.364Z"
   },
   {
    "duration": 37,
    "start_time": "2021-06-24T12:11:01.632Z"
   },
   {
    "duration": 39,
    "start_time": "2021-06-24T12:11:44.152Z"
   },
   {
    "duration": 47,
    "start_time": "2021-06-24T12:35:13.239Z"
   },
   {
    "duration": 46,
    "start_time": "2021-06-24T12:35:37.072Z"
   },
   {
    "duration": 56,
    "start_time": "2021-06-24T12:36:01.367Z"
   },
   {
    "duration": 43,
    "start_time": "2021-06-24T12:37:12.072Z"
   },
   {
    "duration": 43,
    "start_time": "2021-06-24T12:39:03.613Z"
   },
   {
    "duration": 57,
    "start_time": "2021-06-24T12:41:16.425Z"
   },
   {
    "duration": 36,
    "start_time": "2021-06-24T12:41:31.036Z"
   },
   {
    "duration": 50,
    "start_time": "2021-06-24T12:41:57.985Z"
   },
   {
    "duration": 40,
    "start_time": "2021-06-24T12:42:09.206Z"
   },
   {
    "duration": 42,
    "start_time": "2021-06-24T12:43:12.398Z"
   },
   {
    "duration": 40,
    "start_time": "2021-06-24T12:44:07.176Z"
   },
   {
    "duration": 39,
    "start_time": "2021-06-24T12:45:00.660Z"
   },
   {
    "duration": 38,
    "start_time": "2021-06-24T12:45:22.871Z"
   },
   {
    "duration": 35,
    "start_time": "2021-06-24T12:49:17.432Z"
   },
   {
    "duration": 32,
    "start_time": "2021-06-24T12:50:43.065Z"
   },
   {
    "duration": 930,
    "start_time": "2021-06-24T13:11:07.923Z"
   },
   {
    "duration": 39,
    "start_time": "2021-06-24T15:42:24.231Z"
   },
   {
    "duration": 406,
    "start_time": "2021-06-24T15:43:19.972Z"
   },
   {
    "duration": 54,
    "start_time": "2021-06-24T15:50:37.193Z"
   },
   {
    "duration": 47,
    "start_time": "2021-06-24T15:54:07.771Z"
   },
   {
    "duration": 352,
    "start_time": "2021-06-24T20:32:37.186Z"
   },
   {
    "duration": 944,
    "start_time": "2021-06-24T20:32:54.702Z"
   },
   {
    "duration": 195,
    "start_time": "2021-06-24T20:32:59.664Z"
   },
   {
    "duration": 139,
    "start_time": "2021-06-24T20:33:03.922Z"
   },
   {
    "duration": 33,
    "start_time": "2021-06-24T20:33:07.862Z"
   },
   {
    "duration": 83,
    "start_time": "2021-06-24T20:33:11.704Z"
   },
   {
    "duration": 96,
    "start_time": "2021-06-24T20:33:17.327Z"
   },
   {
    "duration": 258,
    "start_time": "2021-06-24T20:33:22.479Z"
   },
   {
    "duration": 1560,
    "start_time": "2021-06-24T20:33:27.157Z"
   },
   {
    "duration": 38,
    "start_time": "2021-06-24T20:33:32.801Z"
   },
   {
    "duration": 28,
    "start_time": "2021-06-24T20:33:37.529Z"
   },
   {
    "duration": 39,
    "start_time": "2021-06-24T20:33:42.064Z"
   },
   {
    "duration": 11,
    "start_time": "2021-06-24T20:33:49.101Z"
   },
   {
    "duration": 42,
    "start_time": "2021-06-24T20:33:57.070Z"
   },
   {
    "duration": 78,
    "start_time": "2021-06-24T20:35:26.870Z"
   },
   {
    "duration": 273,
    "start_time": "2021-06-24T20:35:56.418Z"
   },
   {
    "duration": 54,
    "start_time": "2021-06-24T20:36:29.993Z"
   },
   {
    "duration": 41,
    "start_time": "2021-06-24T20:37:11.996Z"
   },
   {
    "duration": 70,
    "start_time": "2021-06-24T20:40:31.123Z"
   },
   {
    "duration": 1084,
    "start_time": "2021-06-24T20:45:41.739Z"
   },
   {
    "duration": 39,
    "start_time": "2021-06-24T20:46:13.156Z"
   },
   {
    "duration": 41,
    "start_time": "2021-06-24T21:00:10.080Z"
   },
   {
    "duration": 230,
    "start_time": "2021-06-24T21:04:02.423Z"
   },
   {
    "duration": 203,
    "start_time": "2021-06-24T21:04:04.468Z"
   },
   {
    "duration": 139,
    "start_time": "2021-06-24T21:04:06.643Z"
   },
   {
    "duration": 35,
    "start_time": "2021-06-24T21:04:08.822Z"
   },
   {
    "duration": 64,
    "start_time": "2021-06-24T21:04:11.333Z"
   },
   {
    "duration": 85,
    "start_time": "2021-06-24T21:04:15.350Z"
   },
   {
    "duration": 255,
    "start_time": "2021-06-24T21:04:17.187Z"
   },
   {
    "duration": 1395,
    "start_time": "2021-06-24T21:04:19.590Z"
   },
   {
    "duration": 36,
    "start_time": "2021-06-24T21:04:23.266Z"
   },
   {
    "duration": 30,
    "start_time": "2021-06-24T21:04:25.965Z"
   },
   {
    "duration": 27,
    "start_time": "2021-06-24T21:04:30.795Z"
   },
   {
    "duration": 12,
    "start_time": "2021-06-24T21:04:31.965Z"
   },
   {
    "duration": 39,
    "start_time": "2021-06-24T21:04:44.824Z"
   },
   {
    "duration": 43,
    "start_time": "2021-06-24T21:05:14.365Z"
   },
   {
    "duration": 962,
    "start_time": "2021-06-24T21:06:23.481Z"
   },
   {
    "duration": 199,
    "start_time": "2021-06-24T21:06:24.446Z"
   },
   {
    "duration": 129,
    "start_time": "2021-06-24T21:06:24.647Z"
   },
   {
    "duration": 32,
    "start_time": "2021-06-24T21:06:24.779Z"
   },
   {
    "duration": 62,
    "start_time": "2021-06-24T21:06:24.813Z"
   },
   {
    "duration": 93,
    "start_time": "2021-06-24T21:06:24.877Z"
   },
   {
    "duration": 271,
    "start_time": "2021-06-24T21:06:24.973Z"
   },
   {
    "duration": 1618,
    "start_time": "2021-06-24T21:06:25.247Z"
   },
   {
    "duration": 50,
    "start_time": "2021-06-24T21:06:26.867Z"
   },
   {
    "duration": 29,
    "start_time": "2021-06-24T21:06:26.919Z"
   },
   {
    "duration": 62,
    "start_time": "2021-06-24T21:06:26.950Z"
   },
   {
    "duration": 11,
    "start_time": "2021-06-24T21:06:27.014Z"
   },
   {
    "duration": 41,
    "start_time": "2021-06-24T21:06:27.028Z"
   },
   {
    "duration": 70,
    "start_time": "2021-06-24T21:06:27.072Z"
   },
   {
    "duration": 94,
    "start_time": "2021-06-24T21:06:27.145Z"
   },
   {
    "duration": 578,
    "start_time": "2021-06-24T21:09:31.681Z"
   },
   {
    "duration": 2071,
    "start_time": "2021-06-24T21:09:49.718Z"
   },
   {
    "duration": 39,
    "start_time": "2021-06-24T21:10:19.980Z"
   },
   {
    "duration": 62,
    "start_time": "2021-06-24T21:11:41.606Z"
   },
   {
    "duration": 71,
    "start_time": "2021-06-24T21:12:58.077Z"
   },
   {
    "duration": 49,
    "start_time": "2021-06-24T21:14:38.085Z"
   },
   {
    "duration": 64,
    "start_time": "2021-06-24T21:15:32.051Z"
   },
   {
    "duration": 93,
    "start_time": "2021-06-24T21:17:34.486Z"
   },
   {
    "duration": 473,
    "start_time": "2021-06-25T08:40:44.524Z"
   },
   {
    "duration": 317,
    "start_time": "2021-06-25T08:40:52.128Z"
   },
   {
    "duration": 986,
    "start_time": "2021-06-25T08:41:02.170Z"
   },
   {
    "duration": 205,
    "start_time": "2021-06-25T08:41:03.162Z"
   },
   {
    "duration": 139,
    "start_time": "2021-06-25T08:41:03.370Z"
   },
   {
    "duration": 30,
    "start_time": "2021-06-25T08:41:03.512Z"
   },
   {
    "duration": 98,
    "start_time": "2021-06-25T08:41:03.544Z"
   },
   {
    "duration": 101,
    "start_time": "2021-06-25T08:41:03.645Z"
   },
   {
    "duration": 289,
    "start_time": "2021-06-25T08:41:03.748Z"
   },
   {
    "duration": 1621,
    "start_time": "2021-06-25T08:41:04.043Z"
   },
   {
    "duration": 36,
    "start_time": "2021-06-25T08:41:05.667Z"
   },
   {
    "duration": 64,
    "start_time": "2021-06-25T08:41:05.706Z"
   },
   {
    "duration": 38,
    "start_time": "2021-06-25T08:41:05.773Z"
   },
   {
    "duration": 11,
    "start_time": "2021-06-25T08:41:05.813Z"
   },
   {
    "duration": 96,
    "start_time": "2021-06-25T08:41:05.826Z"
   },
   {
    "duration": 104,
    "start_time": "2021-06-25T08:41:05.924Z"
   },
   {
    "duration": 395,
    "start_time": "2021-06-25T08:41:06.030Z"
   },
   {
    "duration": -150,
    "start_time": "2021-06-25T08:41:06.577Z"
   },
   {
    "duration": 77,
    "start_time": "2021-06-25T08:42:31.963Z"
   },
   {
    "duration": 113,
    "start_time": "2021-06-25T08:45:56.078Z"
   },
   {
    "duration": 75,
    "start_time": "2021-06-25T08:46:04.330Z"
   },
   {
    "duration": 1647,
    "start_time": "2021-06-25T08:54:04.896Z"
   },
   {
    "duration": 36,
    "start_time": "2021-06-25T09:00:05.513Z"
   },
   {
    "duration": 990,
    "start_time": "2021-06-25T09:00:35.784Z"
   },
   {
    "duration": 205,
    "start_time": "2021-06-25T09:00:36.777Z"
   },
   {
    "duration": 136,
    "start_time": "2021-06-25T09:00:36.985Z"
   },
   {
    "duration": 38,
    "start_time": "2021-06-25T09:00:37.124Z"
   },
   {
    "duration": 80,
    "start_time": "2021-06-25T09:00:37.164Z"
   },
   {
    "duration": 116,
    "start_time": "2021-06-25T09:00:37.247Z"
   },
   {
    "duration": 298,
    "start_time": "2021-06-25T09:00:37.365Z"
   },
   {
    "duration": 1578,
    "start_time": "2021-06-25T09:00:37.666Z"
   },
   {
    "duration": 45,
    "start_time": "2021-06-25T09:00:39.247Z"
   },
   {
    "duration": 31,
    "start_time": "2021-06-25T09:00:39.295Z"
   },
   {
    "duration": 63,
    "start_time": "2021-06-25T09:00:39.328Z"
   },
   {
    "duration": 1397,
    "start_time": "2021-06-25T09:00:39.394Z"
   },
   {
    "duration": 11,
    "start_time": "2021-06-25T09:00:40.794Z"
   },
   {
    "duration": 91,
    "start_time": "2021-06-25T09:00:40.807Z"
   },
   {
    "duration": 93,
    "start_time": "2021-06-25T09:00:40.901Z"
   },
   {
    "duration": 473,
    "start_time": "2021-06-25T09:00:40.996Z"
   },
   {
    "duration": -50,
    "start_time": "2021-06-25T09:00:41.522Z"
   },
   {
    "duration": 34,
    "start_time": "2021-06-25T09:00:52.867Z"
   },
   {
    "duration": 49,
    "start_time": "2021-06-25T09:02:06.004Z"
   },
   {
    "duration": 48,
    "start_time": "2021-06-25T09:02:27.597Z"
   },
   {
    "duration": 1047,
    "start_time": "2021-06-25T09:04:10.439Z"
   },
   {
    "duration": 202,
    "start_time": "2021-06-25T09:04:11.488Z"
   },
   {
    "duration": 145,
    "start_time": "2021-06-25T09:04:11.693Z"
   },
   {
    "duration": 30,
    "start_time": "2021-06-25T09:04:11.841Z"
   },
   {
    "duration": 80,
    "start_time": "2021-06-25T09:04:11.873Z"
   },
   {
    "duration": 106,
    "start_time": "2021-06-25T09:04:11.956Z"
   },
   {
    "duration": 272,
    "start_time": "2021-06-25T09:04:12.064Z"
   },
   {
    "duration": 1625,
    "start_time": "2021-06-25T09:04:12.339Z"
   },
   {
    "duration": 36,
    "start_time": "2021-06-25T09:04:13.967Z"
   },
   {
    "duration": 58,
    "start_time": "2021-06-25T09:04:14.005Z"
   },
   {
    "duration": 19,
    "start_time": "2021-06-25T09:04:14.065Z"
   },
   {
    "duration": 1550,
    "start_time": "2021-06-25T09:04:14.087Z"
   },
   {
    "duration": 23,
    "start_time": "2021-06-25T09:04:15.639Z"
   },
   {
    "duration": 75,
    "start_time": "2021-06-25T09:04:15.665Z"
   },
   {
    "duration": 99,
    "start_time": "2021-06-25T09:04:15.743Z"
   },
   {
    "duration": 509,
    "start_time": "2021-06-25T09:04:15.845Z"
   },
   {
    "duration": -52,
    "start_time": "2021-06-25T09:04:16.409Z"
   },
   {
    "duration": 988,
    "start_time": "2021-06-25T09:09:10.690Z"
   },
   {
    "duration": 204,
    "start_time": "2021-06-25T09:09:11.680Z"
   },
   {
    "duration": 146,
    "start_time": "2021-06-25T09:09:11.889Z"
   },
   {
    "duration": 31,
    "start_time": "2021-06-25T09:09:12.037Z"
   },
   {
    "duration": 88,
    "start_time": "2021-06-25T09:09:12.070Z"
   },
   {
    "duration": 101,
    "start_time": "2021-06-25T09:09:12.160Z"
   },
   {
    "duration": 295,
    "start_time": "2021-06-25T09:09:12.266Z"
   },
   {
    "duration": 1615,
    "start_time": "2021-06-25T09:09:12.564Z"
   },
   {
    "duration": 38,
    "start_time": "2021-06-25T09:09:14.181Z"
   },
   {
    "duration": 58,
    "start_time": "2021-06-25T09:09:14.221Z"
   },
   {
    "duration": 52,
    "start_time": "2021-06-25T09:09:14.281Z"
   },
   {
    "duration": 1459,
    "start_time": "2021-06-25T09:09:14.335Z"
   },
   {
    "duration": 10,
    "start_time": "2021-06-25T09:09:15.797Z"
   },
   {
    "duration": 91,
    "start_time": "2021-06-25T09:09:15.809Z"
   },
   {
    "duration": 91,
    "start_time": "2021-06-25T09:09:15.902Z"
   },
   {
    "duration": 442,
    "start_time": "2021-06-25T09:09:15.996Z"
   },
   {
    "duration": -168,
    "start_time": "2021-06-25T09:09:16.609Z"
   },
   {
    "duration": 966,
    "start_time": "2021-06-25T09:15:49.915Z"
   },
   {
    "duration": 212,
    "start_time": "2021-06-25T09:15:50.883Z"
   },
   {
    "duration": 151,
    "start_time": "2021-06-25T09:15:51.100Z"
   },
   {
    "duration": 31,
    "start_time": "2021-06-25T09:15:51.261Z"
   },
   {
    "duration": 87,
    "start_time": "2021-06-25T09:15:51.295Z"
   },
   {
    "duration": 111,
    "start_time": "2021-06-25T09:15:51.385Z"
   },
   {
    "duration": 298,
    "start_time": "2021-06-25T09:15:51.498Z"
   },
   {
    "duration": 1664,
    "start_time": "2021-06-25T09:15:51.800Z"
   },
   {
    "duration": 37,
    "start_time": "2021-06-25T09:15:53.468Z"
   },
   {
    "duration": 65,
    "start_time": "2021-06-25T09:15:53.507Z"
   },
   {
    "duration": 29,
    "start_time": "2021-06-25T09:15:53.575Z"
   },
   {
    "duration": 1634,
    "start_time": "2021-06-25T09:15:53.606Z"
   },
   {
    "duration": 21,
    "start_time": "2021-06-25T09:15:55.243Z"
   },
   {
    "duration": 71,
    "start_time": "2021-06-25T09:15:55.267Z"
   },
   {
    "duration": 104,
    "start_time": "2021-06-25T09:15:55.340Z"
   },
   {
    "duration": 464,
    "start_time": "2021-06-25T09:15:55.447Z"
   },
   {
    "duration": -169,
    "start_time": "2021-06-25T09:15:56.083Z"
   },
   {
    "duration": 957,
    "start_time": "2021-06-25T09:17:18.392Z"
   },
   {
    "duration": 207,
    "start_time": "2021-06-25T09:17:19.352Z"
   },
   {
    "duration": 137,
    "start_time": "2021-06-25T09:17:19.562Z"
   },
   {
    "duration": 29,
    "start_time": "2021-06-25T09:17:19.701Z"
   },
   {
    "duration": 73,
    "start_time": "2021-06-25T09:17:19.732Z"
   },
   {
    "duration": 97,
    "start_time": "2021-06-25T09:17:19.808Z"
   },
   {
    "duration": 275,
    "start_time": "2021-06-25T09:17:19.907Z"
   },
   {
    "duration": 1580,
    "start_time": "2021-06-25T09:17:20.185Z"
   },
   {
    "duration": 35,
    "start_time": "2021-06-25T09:17:21.767Z"
   },
   {
    "duration": 57,
    "start_time": "2021-06-25T09:17:21.805Z"
   },
   {
    "duration": 43,
    "start_time": "2021-06-25T09:17:21.864Z"
   },
   {
    "duration": 1413,
    "start_time": "2021-06-25T09:17:21.909Z"
   },
   {
    "duration": 10,
    "start_time": "2021-06-25T09:17:23.324Z"
   },
   {
    "duration": 85,
    "start_time": "2021-06-25T09:17:23.337Z"
   },
   {
    "duration": 92,
    "start_time": "2021-06-25T09:17:23.424Z"
   },
   {
    "duration": 424,
    "start_time": "2021-06-25T09:17:23.519Z"
   },
   {
    "duration": -81,
    "start_time": "2021-06-25T09:17:24.026Z"
   },
   {
    "duration": 1010,
    "start_time": "2021-06-25T09:27:56.053Z"
   },
   {
    "duration": 214,
    "start_time": "2021-06-25T09:27:57.066Z"
   },
   {
    "duration": 155,
    "start_time": "2021-06-25T09:27:57.283Z"
   },
   {
    "duration": 34,
    "start_time": "2021-06-25T09:27:57.441Z"
   },
   {
    "duration": 84,
    "start_time": "2021-06-25T09:27:57.478Z"
   },
   {
    "duration": 118,
    "start_time": "2021-06-25T09:27:57.565Z"
   },
   {
    "duration": 287,
    "start_time": "2021-06-25T09:27:57.685Z"
   },
   {
    "duration": 1644,
    "start_time": "2021-06-25T09:27:57.976Z"
   },
   {
    "duration": 51,
    "start_time": "2021-06-25T09:27:59.622Z"
   },
   {
    "duration": 31,
    "start_time": "2021-06-25T09:27:59.675Z"
   },
   {
    "duration": 8290,
    "start_time": "2021-06-25T09:27:59.709Z"
   },
   {
    "duration": -110,
    "start_time": "2021-06-25T09:28:08.111Z"
   },
   {
    "duration": -111,
    "start_time": "2021-06-25T09:28:08.114Z"
   },
   {
    "duration": -113,
    "start_time": "2021-06-25T09:28:08.118Z"
   },
   {
    "duration": -115,
    "start_time": "2021-06-25T09:28:08.121Z"
   },
   {
    "duration": -118,
    "start_time": "2021-06-25T09:28:08.125Z"
   },
   {
    "duration": -119,
    "start_time": "2021-06-25T09:28:08.128Z"
   },
   {
    "duration": 1012,
    "start_time": "2021-06-25T09:29:08.655Z"
   },
   {
    "duration": 223,
    "start_time": "2021-06-25T09:29:09.670Z"
   },
   {
    "duration": 149,
    "start_time": "2021-06-25T09:29:09.895Z"
   },
   {
    "duration": 33,
    "start_time": "2021-06-25T09:29:10.047Z"
   },
   {
    "duration": 63,
    "start_time": "2021-06-25T09:29:10.083Z"
   },
   {
    "duration": 100,
    "start_time": "2021-06-25T09:29:10.148Z"
   },
   {
    "duration": 291,
    "start_time": "2021-06-25T09:29:10.251Z"
   },
   {
    "duration": 1663,
    "start_time": "2021-06-25T09:29:10.547Z"
   },
   {
    "duration": 59,
    "start_time": "2021-06-25T09:29:12.214Z"
   },
   {
    "duration": 32,
    "start_time": "2021-06-25T09:29:12.276Z"
   },
   {
    "duration": 10632,
    "start_time": "2021-06-25T09:29:12.310Z"
   },
   {
    "duration": -194,
    "start_time": "2021-06-25T09:29:23.139Z"
   },
   {
    "duration": -196,
    "start_time": "2021-06-25T09:29:23.143Z"
   },
   {
    "duration": -198,
    "start_time": "2021-06-25T09:29:23.147Z"
   },
   {
    "duration": -202,
    "start_time": "2021-06-25T09:29:23.152Z"
   },
   {
    "duration": -203,
    "start_time": "2021-06-25T09:29:23.155Z"
   },
   {
    "duration": -205,
    "start_time": "2021-06-25T09:29:23.158Z"
   },
   {
    "duration": 42,
    "start_time": "2021-06-25T09:30:24.571Z"
   },
   {
    "duration": 68,
    "start_time": "2021-06-25T09:30:37.321Z"
   },
   {
    "duration": 1030,
    "start_time": "2021-06-25T09:35:02.735Z"
   },
   {
    "duration": 211,
    "start_time": "2021-06-25T09:35:03.767Z"
   },
   {
    "duration": 140,
    "start_time": "2021-06-25T09:35:03.980Z"
   },
   {
    "duration": 39,
    "start_time": "2021-06-25T09:35:04.123Z"
   },
   {
    "duration": 85,
    "start_time": "2021-06-25T09:35:04.165Z"
   },
   {
    "duration": 99,
    "start_time": "2021-06-25T09:35:04.252Z"
   },
   {
    "duration": 286,
    "start_time": "2021-06-25T09:35:04.353Z"
   },
   {
    "duration": 1548,
    "start_time": "2021-06-25T09:35:04.642Z"
   },
   {
    "duration": 36,
    "start_time": "2021-06-25T09:35:06.193Z"
   },
   {
    "duration": 51,
    "start_time": "2021-06-25T09:35:06.232Z"
   },
   {
    "duration": 55,
    "start_time": "2021-06-25T09:35:06.286Z"
   },
   {
    "duration": 437,
    "start_time": "2021-06-25T09:35:06.343Z"
   },
   {
    "duration": -237,
    "start_time": "2021-06-25T09:35:07.020Z"
   },
   {
    "duration": -241,
    "start_time": "2021-06-25T09:35:07.025Z"
   },
   {
    "duration": -249,
    "start_time": "2021-06-25T09:35:07.035Z"
   },
   {
    "duration": -252,
    "start_time": "2021-06-25T09:35:07.039Z"
   },
   {
    "duration": -254,
    "start_time": "2021-06-25T09:35:07.043Z"
   },
   {
    "duration": 334,
    "start_time": "2021-06-25T09:36:30.535Z"
   },
   {
    "duration": 311,
    "start_time": "2021-06-25T09:36:43.903Z"
   },
   {
    "duration": 45,
    "start_time": "2021-06-25T09:37:03.244Z"
   },
   {
    "duration": 1410,
    "start_time": "2021-06-25T09:37:07.214Z"
   },
   {
    "duration": 1422,
    "start_time": "2021-06-25T09:37:33.400Z"
   },
   {
    "duration": 51,
    "start_time": "2021-06-25T09:37:40.167Z"
   },
   {
    "duration": 1390,
    "start_time": "2021-06-25T09:37:46.428Z"
   },
   {
    "duration": 44,
    "start_time": "2021-06-25T09:38:13.758Z"
   },
   {
    "duration": 1515,
    "start_time": "2021-06-25T09:38:40.723Z"
   },
   {
    "duration": 65,
    "start_time": "2021-06-25T09:38:53.855Z"
   },
   {
    "duration": 9432,
    "start_time": "2021-06-25T09:55:12.035Z"
   },
   {
    "duration": 9180,
    "start_time": "2021-06-25T09:57:29.889Z"
   },
   {
    "duration": 319,
    "start_time": "2021-06-25T09:59:36.321Z"
   },
   {
    "duration": 25,
    "start_time": "2021-06-25T10:01:59.406Z"
   },
   {
    "duration": 1409,
    "start_time": "2021-06-25T10:02:32.790Z"
   },
   {
    "duration": 41,
    "start_time": "2021-06-25T10:02:51.671Z"
   },
   {
    "duration": 23,
    "start_time": "2021-06-25T10:02:57.877Z"
   },
   {
    "duration": 28,
    "start_time": "2021-06-25T10:03:05.916Z"
   },
   {
    "duration": 62,
    "start_time": "2021-06-25T10:04:07.211Z"
   },
   {
    "duration": 64,
    "start_time": "2021-06-25T10:04:25.400Z"
   },
   {
    "duration": 2173,
    "start_time": "2021-06-25T10:04:34.313Z"
   },
   {
    "duration": 75,
    "start_time": "2021-06-25T10:07:02.186Z"
   },
   {
    "duration": 93,
    "start_time": "2021-06-25T10:07:13.802Z"
   },
   {
    "duration": 1081,
    "start_time": "2021-06-25T10:07:26.197Z"
   },
   {
    "duration": 245,
    "start_time": "2021-06-25T10:07:27.281Z"
   },
   {
    "duration": 153,
    "start_time": "2021-06-25T10:07:27.532Z"
   },
   {
    "duration": 29,
    "start_time": "2021-06-25T10:07:27.688Z"
   },
   {
    "duration": 71,
    "start_time": "2021-06-25T10:07:27.719Z"
   },
   {
    "duration": 111,
    "start_time": "2021-06-25T10:07:27.792Z"
   },
   {
    "duration": 289,
    "start_time": "2021-06-25T10:07:27.907Z"
   },
   {
    "duration": 1631,
    "start_time": "2021-06-25T10:07:28.199Z"
   },
   {
    "duration": 52,
    "start_time": "2021-06-25T10:07:29.833Z"
   },
   {
    "duration": 34,
    "start_time": "2021-06-25T10:07:29.888Z"
   },
   {
    "duration": 79,
    "start_time": "2021-06-25T10:07:29.925Z"
   },
   {
    "duration": 1459,
    "start_time": "2021-06-25T10:07:30.007Z"
   },
   {
    "duration": 13,
    "start_time": "2021-06-25T10:07:31.469Z"
   },
   {
    "duration": 111,
    "start_time": "2021-06-25T10:07:31.485Z"
   },
   {
    "duration": 500,
    "start_time": "2021-06-25T10:07:31.599Z"
   },
   {
    "duration": -202,
    "start_time": "2021-06-25T10:07:32.305Z"
   },
   {
    "duration": -205,
    "start_time": "2021-06-25T10:07:32.310Z"
   },
   {
    "duration": 78,
    "start_time": "2021-06-25T10:08:30.897Z"
   },
   {
    "duration": 985,
    "start_time": "2021-06-25T10:11:53.593Z"
   },
   {
    "duration": 208,
    "start_time": "2021-06-25T10:11:54.581Z"
   },
   {
    "duration": 144,
    "start_time": "2021-06-25T10:11:54.792Z"
   },
   {
    "duration": 30,
    "start_time": "2021-06-25T10:11:54.938Z"
   },
   {
    "duration": 108,
    "start_time": "2021-06-25T10:11:54.971Z"
   },
   {
    "duration": 116,
    "start_time": "2021-06-25T10:11:55.081Z"
   },
   {
    "duration": 94,
    "start_time": "2021-06-25T10:11:55.199Z"
   },
   {
    "duration": 291,
    "start_time": "2021-06-25T10:11:55.296Z"
   },
   {
    "duration": 1628,
    "start_time": "2021-06-25T10:11:55.590Z"
   },
   {
    "duration": 56,
    "start_time": "2021-06-25T10:11:57.220Z"
   },
   {
    "duration": 32,
    "start_time": "2021-06-25T10:11:57.279Z"
   },
   {
    "duration": 74,
    "start_time": "2021-06-25T10:11:57.314Z"
   },
   {
    "duration": 1488,
    "start_time": "2021-06-25T10:11:57.390Z"
   },
   {
    "duration": 13,
    "start_time": "2021-06-25T10:11:58.881Z"
   },
   {
    "duration": 427,
    "start_time": "2021-06-25T10:11:58.897Z"
   },
   {
    "duration": -48,
    "start_time": "2021-06-25T10:11:59.376Z"
   },
   {
    "duration": -52,
    "start_time": "2021-06-25T10:11:59.382Z"
   },
   {
    "duration": 79,
    "start_time": "2021-06-25T10:12:17.358Z"
   },
   {
    "duration": 76,
    "start_time": "2021-06-25T10:12:28.992Z"
   },
   {
    "duration": 1009,
    "start_time": "2021-06-25T10:12:42.469Z"
   },
   {
    "duration": 213,
    "start_time": "2021-06-25T10:12:43.482Z"
   },
   {
    "duration": 148,
    "start_time": "2021-06-25T10:12:43.703Z"
   },
   {
    "duration": 31,
    "start_time": "2021-06-25T10:12:43.853Z"
   },
   {
    "duration": 63,
    "start_time": "2021-06-25T10:12:43.886Z"
   },
   {
    "duration": 98,
    "start_time": "2021-06-25T10:12:43.951Z"
   },
   {
    "duration": 78,
    "start_time": "2021-06-25T10:12:44.053Z"
   },
   {
    "duration": 303,
    "start_time": "2021-06-25T10:12:44.134Z"
   },
   {
    "duration": 1593,
    "start_time": "2021-06-25T10:12:44.440Z"
   },
   {
    "duration": 48,
    "start_time": "2021-06-25T10:12:46.036Z"
   },
   {
    "duration": 31,
    "start_time": "2021-06-25T10:12:46.087Z"
   },
   {
    "duration": 74,
    "start_time": "2021-06-25T10:12:46.120Z"
   },
   {
    "duration": 1439,
    "start_time": "2021-06-25T10:12:46.196Z"
   },
   {
    "duration": 29,
    "start_time": "2021-06-25T10:12:47.638Z"
   },
   {
    "duration": 409,
    "start_time": "2021-06-25T10:12:47.670Z"
   },
   {
    "duration": -43,
    "start_time": "2021-06-25T10:12:48.125Z"
   },
   {
    "duration": -51,
    "start_time": "2021-06-25T10:12:48.135Z"
   },
   {
    "duration": 78,
    "start_time": "2021-06-25T10:22:56.156Z"
   },
   {
    "duration": 77,
    "start_time": "2021-06-25T10:23:22.738Z"
   },
   {
    "duration": 77,
    "start_time": "2021-06-25T10:27:13.926Z"
   },
   {
    "duration": 74,
    "start_time": "2021-06-25T10:28:12.629Z"
   },
   {
    "duration": 196,
    "start_time": "2021-06-25T10:38:48.407Z"
   },
   {
    "duration": 27,
    "start_time": "2021-06-25T10:43:03.755Z"
   },
   {
    "duration": 169,
    "start_time": "2021-06-25T14:10:53.518Z"
   },
   {
    "duration": 32,
    "start_time": "2021-06-25T14:10:59.838Z"
   },
   {
    "duration": 993,
    "start_time": "2021-06-25T15:05:40.784Z"
   },
   {
    "duration": 216,
    "start_time": "2021-06-25T15:05:41.780Z"
   },
   {
    "duration": 148,
    "start_time": "2021-06-25T15:05:41.999Z"
   },
   {
    "duration": 31,
    "start_time": "2021-06-25T15:05:42.161Z"
   },
   {
    "duration": 75,
    "start_time": "2021-06-25T15:05:42.195Z"
   },
   {
    "duration": 171,
    "start_time": "2021-06-25T15:05:42.273Z"
   },
   {
    "duration": 92,
    "start_time": "2021-06-25T15:05:42.447Z"
   },
   {
    "duration": 397,
    "start_time": "2021-06-25T15:05:42.544Z"
   },
   {
    "duration": 2452,
    "start_time": "2021-06-25T15:05:42.944Z"
   },
   {
    "duration": 38,
    "start_time": "2021-06-25T15:05:45.400Z"
   },
   {
    "duration": 48,
    "start_time": "2021-06-25T15:05:45.440Z"
   },
   {
    "duration": 75,
    "start_time": "2021-06-25T15:05:45.491Z"
   },
   {
    "duration": 1483,
    "start_time": "2021-06-25T15:05:45.569Z"
   },
   {
    "duration": 13,
    "start_time": "2021-06-25T15:05:47.062Z"
   },
   {
    "duration": 227,
    "start_time": "2021-06-25T15:05:47.077Z"
   },
   {
    "duration": 57,
    "start_time": "2021-06-25T15:05:47.306Z"
   },
   {
    "duration": 159,
    "start_time": "2021-06-25T15:05:47.366Z"
   },
   {
    "duration": 44,
    "start_time": "2021-06-25T15:10:22.634Z"
   },
   {
    "duration": 57,
    "start_time": "2021-06-25T15:13:39.792Z"
   },
   {
    "duration": 58,
    "start_time": "2021-06-25T15:14:56.806Z"
   },
   {
    "duration": 192,
    "start_time": "2021-06-25T15:16:46.890Z"
   },
   {
    "duration": 1482,
    "start_time": "2021-06-25T15:30:02.446Z"
   },
   {
    "duration": 189,
    "start_time": "2021-06-25T15:30:40.497Z"
   },
   {
    "duration": 181,
    "start_time": "2021-06-25T15:31:24.639Z"
   },
   {
    "duration": 260,
    "start_time": "2021-06-25T15:32:09.271Z"
   },
   {
    "duration": 327,
    "start_time": "2021-06-25T15:32:26.977Z"
   },
   {
    "duration": 375,
    "start_time": "2021-06-25T15:32:58.252Z"
   },
   {
    "duration": 379,
    "start_time": "2021-06-25T15:33:03.135Z"
   },
   {
    "duration": 327,
    "start_time": "2021-06-25T15:33:22.591Z"
   },
   {
    "duration": 190,
    "start_time": "2021-06-25T15:34:07.452Z"
   },
   {
    "duration": 322,
    "start_time": "2021-06-25T15:34:22.981Z"
   },
   {
    "duration": 411,
    "start_time": "2021-06-25T15:34:55.048Z"
   },
   {
    "duration": 379,
    "start_time": "2021-06-25T15:35:07.156Z"
   },
   {
    "duration": 408,
    "start_time": "2021-06-25T15:35:21.725Z"
   },
   {
    "duration": 1028,
    "start_time": "2021-06-25T15:36:03.311Z"
   },
   {
    "duration": 206,
    "start_time": "2021-06-25T15:36:04.342Z"
   },
   {
    "duration": 132,
    "start_time": "2021-06-25T15:36:04.561Z"
   },
   {
    "duration": 29,
    "start_time": "2021-06-25T15:36:04.696Z"
   },
   {
    "duration": 45,
    "start_time": "2021-06-25T15:36:04.728Z"
   },
   {
    "duration": 112,
    "start_time": "2021-06-25T15:36:04.775Z"
   },
   {
    "duration": 80,
    "start_time": "2021-06-25T15:36:04.889Z"
   },
   {
    "duration": 291,
    "start_time": "2021-06-25T15:36:04.973Z"
   },
   {
    "duration": 1717,
    "start_time": "2021-06-25T15:36:05.266Z"
   },
   {
    "duration": 36,
    "start_time": "2021-06-25T15:36:06.986Z"
   },
   {
    "duration": 54,
    "start_time": "2021-06-25T15:36:07.025Z"
   },
   {
    "duration": 49,
    "start_time": "2021-06-25T15:36:07.082Z"
   },
   {
    "duration": 1476,
    "start_time": "2021-06-25T15:36:07.134Z"
   },
   {
    "duration": 10,
    "start_time": "2021-06-25T15:36:08.613Z"
   },
   {
    "duration": 214,
    "start_time": "2021-06-25T15:36:08.625Z"
   },
   {
    "duration": 452,
    "start_time": "2021-06-25T15:36:08.841Z"
   },
   {
    "duration": -215,
    "start_time": "2021-06-25T15:36:09.511Z"
   },
   {
    "duration": 192,
    "start_time": "2021-06-25T15:37:53.821Z"
   },
   {
    "duration": 28,
    "start_time": "2021-06-25T15:38:02.744Z"
   },
   {
    "duration": 27,
    "start_time": "2021-06-25T15:38:15.763Z"
   },
   {
    "duration": 37,
    "start_time": "2021-06-25T15:38:48.164Z"
   },
   {
    "duration": 108,
    "start_time": "2021-06-25T15:39:06.818Z"
   },
   {
    "duration": 337,
    "start_time": "2021-06-25T15:39:13.986Z"
   },
   {
    "duration": 56,
    "start_time": "2021-06-25T15:39:48.424Z"
   },
   {
    "duration": 344,
    "start_time": "2021-06-25T15:40:18.300Z"
   },
   {
    "duration": 1311,
    "start_time": "2021-06-25T15:41:05.385Z"
   },
   {
    "duration": 298,
    "start_time": "2021-06-25T15:41:06.700Z"
   },
   {
    "duration": 150,
    "start_time": "2021-06-25T15:41:07.002Z"
   },
   {
    "duration": 30,
    "start_time": "2021-06-25T15:41:07.162Z"
   },
   {
    "duration": 47,
    "start_time": "2021-06-25T15:41:07.194Z"
   },
   {
    "duration": 106,
    "start_time": "2021-06-25T15:41:07.244Z"
   },
   {
    "duration": 78,
    "start_time": "2021-06-25T15:41:07.353Z"
   },
   {
    "duration": 297,
    "start_time": "2021-06-25T15:41:07.436Z"
   },
   {
    "duration": 1667,
    "start_time": "2021-06-25T15:41:07.736Z"
   },
   {
    "duration": 36,
    "start_time": "2021-06-25T15:41:09.406Z"
   },
   {
    "duration": 45,
    "start_time": "2021-06-25T15:41:09.445Z"
   },
   {
    "duration": 76,
    "start_time": "2021-06-25T15:41:09.492Z"
   },
   {
    "duration": 1484,
    "start_time": "2021-06-25T15:41:09.571Z"
   },
   {
    "duration": 12,
    "start_time": "2021-06-25T15:41:11.061Z"
   },
   {
    "duration": 218,
    "start_time": "2021-06-25T15:41:11.076Z"
   },
   {
    "duration": 200,
    "start_time": "2021-06-25T15:41:11.296Z"
   },
   {
    "duration": 35,
    "start_time": "2021-06-25T15:41:11.499Z"
   },
   {
    "duration": 108,
    "start_time": "2021-06-25T15:41:11.536Z"
   },
   {
    "duration": 479,
    "start_time": "2021-06-25T15:42:39.357Z"
   },
   {
    "duration": 6,
    "start_time": "2021-06-25T15:43:31.511Z"
   },
   {
    "duration": 57,
    "start_time": "2021-06-25T15:55:24.771Z"
   },
   {
    "duration": 102,
    "start_time": "2021-06-25T16:03:57.385Z"
   },
   {
    "duration": 97,
    "start_time": "2021-06-25T16:04:07.293Z"
   },
   {
    "duration": 368,
    "start_time": "2021-06-25T16:04:17.537Z"
   },
   {
    "duration": 69,
    "start_time": "2021-06-25T16:05:13.064Z"
   },
   {
    "duration": 1187,
    "start_time": "2021-06-25T16:05:53.043Z"
   },
   {
    "duration": 220,
    "start_time": "2021-06-25T16:05:54.233Z"
   },
   {
    "duration": 147,
    "start_time": "2021-06-25T16:05:54.463Z"
   },
   {
    "duration": 31,
    "start_time": "2021-06-25T16:05:54.613Z"
   },
   {
    "duration": 61,
    "start_time": "2021-06-25T16:05:54.646Z"
   },
   {
    "duration": 108,
    "start_time": "2021-06-25T16:05:54.710Z"
   },
   {
    "duration": 89,
    "start_time": "2021-06-25T16:05:54.821Z"
   },
   {
    "duration": 318,
    "start_time": "2021-06-25T16:05:54.914Z"
   },
   {
    "duration": 1729,
    "start_time": "2021-06-25T16:05:55.235Z"
   },
   {
    "duration": 42,
    "start_time": "2021-06-25T16:05:56.967Z"
   },
   {
    "duration": 68,
    "start_time": "2021-06-25T16:05:57.011Z"
   },
   {
    "duration": 51,
    "start_time": "2021-06-25T16:05:57.081Z"
   },
   {
    "duration": 1405,
    "start_time": "2021-06-25T16:05:57.134Z"
   },
   {
    "duration": 19,
    "start_time": "2021-06-25T16:05:58.542Z"
   },
   {
    "duration": 219,
    "start_time": "2021-06-25T16:05:58.563Z"
   },
   {
    "duration": 208,
    "start_time": "2021-06-25T16:05:58.784Z"
   },
   {
    "duration": 35,
    "start_time": "2021-06-25T16:05:58.995Z"
   },
   {
    "duration": 6,
    "start_time": "2021-06-25T16:05:59.033Z"
   },
   {
    "duration": 79,
    "start_time": "2021-06-25T16:05:59.041Z"
   },
   {
    "duration": 107,
    "start_time": "2021-06-25T16:05:59.122Z"
   },
   {
    "duration": 467,
    "start_time": "2021-06-25T16:07:09.256Z"
   },
   {
    "duration": 1074,
    "start_time": "2021-06-25T16:07:35.051Z"
   },
   {
    "duration": 219,
    "start_time": "2021-06-25T16:07:36.127Z"
   },
   {
    "duration": 150,
    "start_time": "2021-06-25T16:07:36.349Z"
   },
   {
    "duration": 29,
    "start_time": "2021-06-25T16:07:36.502Z"
   },
   {
    "duration": 63,
    "start_time": "2021-06-25T16:07:36.534Z"
   },
   {
    "duration": 163,
    "start_time": "2021-06-25T16:07:36.600Z"
   },
   {
    "duration": 98,
    "start_time": "2021-06-25T16:07:36.766Z"
   },
   {
    "duration": 370,
    "start_time": "2021-06-25T16:07:36.870Z"
   },
   {
    "duration": 1728,
    "start_time": "2021-06-25T16:07:37.243Z"
   },
   {
    "duration": 39,
    "start_time": "2021-06-25T16:07:38.974Z"
   },
   {
    "duration": 63,
    "start_time": "2021-06-25T16:07:39.016Z"
   },
   {
    "duration": 55,
    "start_time": "2021-06-25T16:07:39.082Z"
   },
   {
    "duration": 1561,
    "start_time": "2021-06-25T16:07:39.139Z"
   },
   {
    "duration": 12,
    "start_time": "2021-06-25T16:07:40.702Z"
   },
   {
    "duration": 235,
    "start_time": "2021-06-25T16:07:40.717Z"
   },
   {
    "duration": 219,
    "start_time": "2021-06-25T16:07:40.954Z"
   },
   {
    "duration": 36,
    "start_time": "2021-06-25T16:07:41.176Z"
   },
   {
    "duration": 6,
    "start_time": "2021-06-25T16:07:41.214Z"
   },
   {
    "duration": 92,
    "start_time": "2021-06-25T16:07:41.223Z"
   },
   {
    "duration": 119,
    "start_time": "2021-06-25T16:07:41.318Z"
   },
   {
    "duration": 50,
    "start_time": "2021-06-25T16:13:44.960Z"
   },
   {
    "duration": 415,
    "start_time": "2021-06-25T16:14:28.998Z"
   },
   {
    "duration": 351,
    "start_time": "2021-06-25T16:14:38.204Z"
   },
   {
    "duration": 311,
    "start_time": "2021-06-25T16:15:47.208Z"
   },
   {
    "duration": 5,
    "start_time": "2021-06-25T16:17:11.622Z"
   },
   {
    "duration": 5,
    "start_time": "2021-06-25T16:18:27.012Z"
   },
   {
    "duration": 48,
    "start_time": "2021-06-25T16:18:35.698Z"
   },
   {
    "duration": 425,
    "start_time": "2021-06-25T16:19:26.320Z"
   },
   {
    "duration": 824,
    "start_time": "2021-06-25T17:09:26.361Z"
   },
   {
    "duration": 286,
    "start_time": "2021-06-25T17:17:30.796Z"
   },
   {
    "duration": 456,
    "start_time": "2021-06-25T17:18:50.041Z"
   },
   {
    "duration": 422,
    "start_time": "2021-06-25T17:19:26.422Z"
   },
   {
    "duration": 158,
    "start_time": "2021-06-25T17:20:26.529Z"
   },
   {
    "duration": 1451,
    "start_time": "2021-06-25T17:24:21.903Z"
   },
   {
    "duration": 51,
    "start_time": "2021-06-25T17:24:43.830Z"
   },
   {
    "duration": 55,
    "start_time": "2021-06-25T17:25:06.670Z"
   },
   {
    "duration": 126,
    "start_time": "2021-06-25T17:25:49.430Z"
   },
   {
    "duration": 383,
    "start_time": "2021-06-25T17:28:23.277Z"
   },
   {
    "duration": 345,
    "start_time": "2021-06-25T17:28:29.148Z"
   },
   {
    "duration": 439,
    "start_time": "2021-06-25T17:36:52.313Z"
   },
   {
    "duration": 341,
    "start_time": "2021-06-25T17:37:33.049Z"
   },
   {
    "duration": 8,
    "start_time": "2021-06-25T17:43:29.325Z"
   },
   {
    "duration": 54,
    "start_time": "2021-06-25T17:43:43.338Z"
   },
   {
    "duration": 41,
    "start_time": "2021-06-25T17:44:05.926Z"
   },
   {
    "duration": 1066,
    "start_time": "2021-06-25T17:46:52.750Z"
   },
   {
    "duration": 228,
    "start_time": "2021-06-25T17:46:53.818Z"
   },
   {
    "duration": 148,
    "start_time": "2021-06-25T17:46:54.049Z"
   },
   {
    "duration": 33,
    "start_time": "2021-06-25T17:46:54.201Z"
   },
   {
    "duration": 84,
    "start_time": "2021-06-25T17:46:54.238Z"
   },
   {
    "duration": 119,
    "start_time": "2021-06-25T17:46:54.325Z"
   },
   {
    "duration": 78,
    "start_time": "2021-06-25T17:46:54.446Z"
   },
   {
    "duration": 315,
    "start_time": "2021-06-25T17:46:54.526Z"
   },
   {
    "duration": 1902,
    "start_time": "2021-06-25T17:46:54.846Z"
   },
   {
    "duration": 42,
    "start_time": "2021-06-25T17:46:56.751Z"
   },
   {
    "duration": 31,
    "start_time": "2021-06-25T17:46:56.795Z"
   },
   {
    "duration": 101,
    "start_time": "2021-06-25T17:46:56.830Z"
   },
   {
    "duration": 2211,
    "start_time": "2021-06-25T17:46:56.934Z"
   },
   {
    "duration": 24,
    "start_time": "2021-06-25T17:46:59.148Z"
   },
   {
    "duration": 297,
    "start_time": "2021-06-25T17:46:59.175Z"
   },
   {
    "duration": 291,
    "start_time": "2021-06-25T17:46:59.476Z"
   },
   {
    "duration": 38,
    "start_time": "2021-06-25T17:46:59.769Z"
   },
   {
    "duration": 83,
    "start_time": "2021-06-25T17:46:59.809Z"
   },
   {
    "duration": 29,
    "start_time": "2021-06-25T17:46:59.894Z"
   },
   {
    "duration": 93,
    "start_time": "2021-06-25T17:46:59.926Z"
   },
   {
    "duration": -75,
    "start_time": "2021-06-25T17:47:00.097Z"
   },
   {
    "duration": 32,
    "start_time": "2021-06-25T17:50:19.351Z"
   },
   {
    "duration": 36,
    "start_time": "2021-06-25T17:52:07.661Z"
   },
   {
    "duration": 36,
    "start_time": "2021-06-25T18:02:25.841Z"
   },
   {
    "duration": 71,
    "start_time": "2021-06-25T18:02:33.861Z"
   },
   {
    "duration": 21,
    "start_time": "2021-06-25T18:02:47.962Z"
   },
   {
    "duration": 57,
    "start_time": "2021-06-25T18:02:55.221Z"
   },
   {
    "duration": 58,
    "start_time": "2021-06-25T18:04:25.049Z"
   },
   {
    "duration": 59,
    "start_time": "2021-06-25T18:04:44.714Z"
   },
   {
    "duration": 58,
    "start_time": "2021-06-25T18:05:33.710Z"
   },
   {
    "duration": 69,
    "start_time": "2021-06-25T18:06:57.387Z"
   },
   {
    "duration": 77,
    "start_time": "2021-06-25T18:07:33.409Z"
   },
   {
    "duration": 85,
    "start_time": "2021-06-25T18:10:15.620Z"
   },
   {
    "duration": 67,
    "start_time": "2021-06-25T18:11:03.694Z"
   },
   {
    "duration": 58,
    "start_time": "2021-06-25T18:12:26.115Z"
   },
   {
    "duration": 33,
    "start_time": "2021-06-25T18:12:48.707Z"
   },
   {
    "duration": 61,
    "start_time": "2021-06-25T18:12:54.470Z"
   },
   {
    "duration": 70,
    "start_time": "2021-06-25T18:13:03.252Z"
   },
   {
    "duration": 61,
    "start_time": "2021-06-25T18:14:15.577Z"
   },
   {
    "duration": 62,
    "start_time": "2021-06-25T18:17:59.799Z"
   },
   {
    "duration": 61,
    "start_time": "2021-06-25T18:18:22.822Z"
   },
   {
    "duration": 60,
    "start_time": "2021-06-25T18:27:35.183Z"
   },
   {
    "duration": 60,
    "start_time": "2021-06-25T18:31:10.468Z"
   },
   {
    "duration": 452,
    "start_time": "2021-06-25T18:33:40.524Z"
   },
   {
    "duration": 60,
    "start_time": "2021-06-25T18:34:27.565Z"
   },
   {
    "duration": 59,
    "start_time": "2021-06-25T18:35:03.096Z"
   },
   {
    "duration": 121,
    "start_time": "2021-06-25T18:35:26.204Z"
   },
   {
    "duration": 118,
    "start_time": "2021-06-25T18:35:44.465Z"
   },
   {
    "duration": 101,
    "start_time": "2021-06-25T18:35:57.604Z"
   },
   {
    "duration": 1512,
    "start_time": "2021-06-25T18:36:42.825Z"
   },
   {
    "duration": 22,
    "start_time": "2021-06-25T18:37:13.696Z"
   },
   {
    "duration": 17,
    "start_time": "2021-06-25T18:37:22.644Z"
   },
   {
    "duration": 16,
    "start_time": "2021-06-25T18:37:46.856Z"
   },
   {
    "duration": 61,
    "start_time": "2021-06-25T18:37:58.083Z"
   },
   {
    "duration": 6,
    "start_time": "2021-06-25T18:40:19.893Z"
   },
   {
    "duration": 374,
    "start_time": "2021-06-25T18:41:51.805Z"
   },
   {
    "duration": 52,
    "start_time": "2021-06-25T18:43:34.917Z"
   },
   {
    "duration": 17,
    "start_time": "2021-06-25T18:44:24.035Z"
   },
   {
    "duration": 63,
    "start_time": "2021-06-25T18:44:50.164Z"
   },
   {
    "duration": 66,
    "start_time": "2021-06-25T18:45:37.404Z"
   },
   {
    "duration": 126,
    "start_time": "2021-06-25T18:57:00.043Z"
   },
   {
    "duration": 1276,
    "start_time": "2021-06-25T18:57:09.542Z"
   },
   {
    "duration": 219,
    "start_time": "2021-06-25T18:57:10.821Z"
   },
   {
    "duration": 144,
    "start_time": "2021-06-25T18:57:11.043Z"
   },
   {
    "duration": 33,
    "start_time": "2021-06-25T18:57:11.191Z"
   },
   {
    "duration": 74,
    "start_time": "2021-06-25T18:57:11.227Z"
   },
   {
    "duration": 113,
    "start_time": "2021-06-25T18:57:11.303Z"
   },
   {
    "duration": 85,
    "start_time": "2021-06-25T18:57:11.418Z"
   },
   {
    "duration": 163,
    "start_time": "2021-06-25T18:57:11.506Z"
   },
   {
    "duration": 299,
    "start_time": "2021-06-25T18:57:11.675Z"
   },
   {
    "duration": 1813,
    "start_time": "2021-06-25T18:57:11.978Z"
   },
   {
    "duration": 90,
    "start_time": "2021-06-25T18:57:13.793Z"
   },
   {
    "duration": 85,
    "start_time": "2021-06-25T18:57:13.885Z"
   },
   {
    "duration": 101,
    "start_time": "2021-06-25T18:57:13.972Z"
   },
   {
    "duration": 1513,
    "start_time": "2021-06-25T18:57:14.076Z"
   },
   {
    "duration": 10,
    "start_time": "2021-06-25T18:57:15.592Z"
   },
   {
    "duration": 223,
    "start_time": "2021-06-25T18:57:15.605Z"
   },
   {
    "duration": 237,
    "start_time": "2021-06-25T18:57:15.830Z"
   },
   {
    "duration": 36,
    "start_time": "2021-06-25T18:57:16.069Z"
   },
   {
    "duration": 86,
    "start_time": "2021-06-25T18:57:16.107Z"
   },
   {
    "duration": 82,
    "start_time": "2021-06-25T18:57:16.195Z"
   },
   {
    "duration": 51,
    "start_time": "2021-06-25T18:57:16.279Z"
   },
   {
    "duration": 275,
    "start_time": "2021-06-25T18:57:16.333Z"
   },
   {
    "duration": -73,
    "start_time": "2021-06-25T18:57:16.683Z"
   },
   {
    "duration": 71,
    "start_time": "2021-06-25T18:58:51.490Z"
   },
   {
    "duration": 1003,
    "start_time": "2021-06-25T19:47:40.250Z"
   },
   {
    "duration": 203,
    "start_time": "2021-06-25T19:47:41.263Z"
   },
   {
    "duration": 146,
    "start_time": "2021-06-25T19:47:41.468Z"
   },
   {
    "duration": 28,
    "start_time": "2021-06-25T19:47:41.617Z"
   },
   {
    "duration": 90,
    "start_time": "2021-06-25T19:47:41.648Z"
   },
   {
    "duration": 98,
    "start_time": "2021-06-25T19:47:41.740Z"
   },
   {
    "duration": 81,
    "start_time": "2021-06-25T19:47:41.840Z"
   },
   {
    "duration": 166,
    "start_time": "2021-06-25T19:47:41.925Z"
   },
   {
    "duration": 301,
    "start_time": "2021-06-25T19:47:42.094Z"
   },
   {
    "duration": 2734,
    "start_time": "2021-06-25T19:47:42.398Z"
   },
   {
    "duration": 62,
    "start_time": "2021-06-25T19:47:45.135Z"
   },
   {
    "duration": 63,
    "start_time": "2021-06-25T19:47:45.200Z"
   },
   {
    "duration": 68,
    "start_time": "2021-06-25T19:47:45.266Z"
   },
   {
    "duration": 2225,
    "start_time": "2021-06-25T19:47:45.337Z"
   },
   {
    "duration": 15,
    "start_time": "2021-06-25T19:47:47.565Z"
   },
   {
    "duration": 301,
    "start_time": "2021-06-25T19:47:47.583Z"
   },
   {
    "duration": 295,
    "start_time": "2021-06-25T19:47:47.887Z"
   },
   {
    "duration": 53,
    "start_time": "2021-06-25T19:47:48.185Z"
   },
   {
    "duration": 104,
    "start_time": "2021-06-25T19:47:48.240Z"
   },
   {
    "duration": 40,
    "start_time": "2021-06-25T19:47:48.347Z"
   },
   {
    "duration": 51,
    "start_time": "2021-06-25T19:47:48.390Z"
   },
   {
    "duration": 101,
    "start_time": "2021-06-25T19:47:48.463Z"
   },
   {
    "duration": 55,
    "start_time": "2021-06-25T19:50:59.854Z"
   },
   {
    "duration": 1195,
    "start_time": "2021-06-25T19:59:10.039Z"
   },
   {
    "duration": 126,
    "start_time": "2021-06-25T20:10:23.472Z"
   },
   {
    "duration": 490,
    "start_time": "2021-06-25T20:10:37.645Z"
   },
   {
    "duration": 19,
    "start_time": "2021-06-25T20:10:58.910Z"
   },
   {
    "duration": 22,
    "start_time": "2021-06-25T20:12:28.765Z"
   },
   {
    "duration": 21,
    "start_time": "2021-06-25T20:12:52.521Z"
   },
   {
    "duration": 21,
    "start_time": "2021-06-25T20:13:16.837Z"
   },
   {
    "duration": 18262,
    "start_time": "2021-06-25T20:14:46.839Z"
   },
   {
    "duration": 883,
    "start_time": "2021-06-25T20:15:53.896Z"
   },
   {
    "duration": 901,
    "start_time": "2021-06-25T20:17:08.476Z"
   },
   {
    "duration": 561,
    "start_time": "2021-06-25T20:18:26.759Z"
   },
   {
    "duration": 744,
    "start_time": "2021-06-25T20:19:27.848Z"
   },
   {
    "duration": 676,
    "start_time": "2021-06-25T20:20:05.086Z"
   },
   {
    "duration": 1384,
    "start_time": "2021-06-25T20:20:35.689Z"
   },
   {
    "duration": 867,
    "start_time": "2021-06-25T20:24:16.160Z"
   },
   {
    "duration": 869,
    "start_time": "2021-06-25T20:24:36.141Z"
   },
   {
    "duration": 875,
    "start_time": "2021-06-25T20:25:52.888Z"
   },
   {
    "duration": 865,
    "start_time": "2021-06-25T20:26:03.202Z"
   },
   {
    "duration": 1391,
    "start_time": "2021-06-25T20:28:20.507Z"
   },
   {
    "duration": 605,
    "start_time": "2021-06-25T20:28:55.488Z"
   },
   {
    "duration": 869,
    "start_time": "2021-06-25T20:33:01.914Z"
   },
   {
    "duration": 3244,
    "start_time": "2021-06-25T20:33:26.175Z"
   },
   {
    "duration": 597,
    "start_time": "2021-06-25T20:34:17.802Z"
   },
   {
    "duration": 680,
    "start_time": "2021-06-25T20:35:26.887Z"
   },
   {
    "duration": 393,
    "start_time": "2021-06-25T20:35:36.742Z"
   },
   {
    "duration": 593,
    "start_time": "2021-06-25T20:36:34.333Z"
   },
   {
    "duration": 428,
    "start_time": "2021-06-25T20:36:54.964Z"
   },
   {
    "duration": 450,
    "start_time": "2021-06-25T20:37:22.945Z"
   },
   {
    "duration": 342,
    "start_time": "2021-06-25T20:46:21.362Z"
   },
   {
    "duration": 1406,
    "start_time": "2021-06-25T20:55:13.991Z"
   },
   {
    "duration": 205,
    "start_time": "2021-06-25T20:55:15.399Z"
   },
   {
    "duration": 145,
    "start_time": "2021-06-25T20:55:15.608Z"
   },
   {
    "duration": 31,
    "start_time": "2021-06-25T20:55:15.762Z"
   },
   {
    "duration": 75,
    "start_time": "2021-06-25T20:55:15.796Z"
   },
   {
    "duration": 174,
    "start_time": "2021-06-25T20:55:15.874Z"
   },
   {
    "duration": 74,
    "start_time": "2021-06-25T20:55:16.051Z"
   },
   {
    "duration": 177,
    "start_time": "2021-06-25T20:55:16.129Z"
   },
   {
    "duration": 303,
    "start_time": "2021-06-25T20:55:16.309Z"
   },
   {
    "duration": 2331,
    "start_time": "2021-06-25T20:55:16.615Z"
   },
   {
    "duration": 61,
    "start_time": "2021-06-25T20:55:18.949Z"
   },
   {
    "duration": 71,
    "start_time": "2021-06-25T20:55:19.014Z"
   },
   {
    "duration": 80,
    "start_time": "2021-06-25T20:55:19.088Z"
   },
   {
    "duration": 1390,
    "start_time": "2021-06-25T20:55:19.171Z"
   },
   {
    "duration": 11,
    "start_time": "2021-06-25T20:55:20.564Z"
   },
   {
    "duration": 224,
    "start_time": "2021-06-25T20:55:20.577Z"
   },
   {
    "duration": 35,
    "start_time": "2021-06-25T20:55:20.803Z"
   },
   {
    "duration": 85,
    "start_time": "2021-06-25T20:55:20.841Z"
   },
   {
    "duration": 44,
    "start_time": "2021-06-25T20:55:20.929Z"
   },
   {
    "duration": 5,
    "start_time": "2021-06-25T20:55:20.976Z"
   },
   {
    "duration": 891,
    "start_time": "2021-06-25T20:55:20.984Z"
   },
   {
    "duration": 565,
    "start_time": "2021-06-25T20:55:21.877Z"
   },
   {
    "duration": 817,
    "start_time": "2021-06-25T20:55:22.448Z"
   },
   {
    "duration": 1745,
    "start_time": "2021-06-25T20:55:23.268Z"
   },
   {
    "duration": -115,
    "start_time": "2021-06-25T20:55:25.132Z"
   },
   {
    "duration": 4827,
    "start_time": "2021-06-25T20:57:58.172Z"
   },
   {
    "duration": 12557,
    "start_time": "2021-06-25T20:58:48.119Z"
   },
   {
    "duration": 347,
    "start_time": "2021-06-25T21:02:38.843Z"
   },
   {
    "duration": 257,
    "start_time": "2021-06-25T21:03:14.558Z"
   },
   {
    "duration": 265,
    "start_time": "2021-06-25T21:03:45.781Z"
   },
   {
    "duration": 343,
    "start_time": "2021-06-25T21:04:24.796Z"
   },
   {
    "duration": 632,
    "start_time": "2021-06-25T21:05:18.797Z"
   },
   {
    "duration": 695,
    "start_time": "2021-06-25T21:05:36.344Z"
   },
   {
    "duration": 1229,
    "start_time": "2021-06-25T21:05:47.947Z"
   },
   {
    "duration": 708,
    "start_time": "2021-06-25T21:06:00.363Z"
   },
   {
    "duration": 111,
    "start_time": "2021-06-25T21:15:02.778Z"
   },
   {
    "duration": 300,
    "start_time": "2021-06-25T21:15:29.414Z"
   },
   {
    "duration": 326,
    "start_time": "2021-06-25T21:16:30.959Z"
   },
   {
    "duration": 422,
    "start_time": "2021-06-25T21:16:58.645Z"
   },
   {
    "duration": 300,
    "start_time": "2021-06-25T21:19:09.185Z"
   },
   {
    "duration": 303,
    "start_time": "2021-06-25T21:20:16.280Z"
   },
   {
    "duration": 955,
    "start_time": "2021-06-25T21:20:33.710Z"
   },
   {
    "duration": 545,
    "start_time": "2021-06-25T21:20:50.196Z"
   },
   {
    "duration": 861,
    "start_time": "2021-06-25T21:21:21.599Z"
   },
   {
    "duration": 671,
    "start_time": "2021-06-25T21:21:39.743Z"
   },
   {
    "duration": 582,
    "start_time": "2021-06-25T21:22:01.052Z"
   },
   {
    "duration": 8,
    "start_time": "2021-06-25T21:28:44.473Z"
   },
   {
    "duration": 111,
    "start_time": "2021-06-25T21:29:09.339Z"
   },
   {
    "duration": 14,
    "start_time": "2021-06-25T21:34:22.300Z"
   },
   {
    "duration": 125,
    "start_time": "2021-06-25T21:34:56.697Z"
   },
   {
    "duration": 212,
    "start_time": "2021-06-26T09:37:48.519Z"
   },
   {
    "duration": 1072,
    "start_time": "2021-06-26T09:43:39.714Z"
   },
   {
    "duration": 171,
    "start_time": "2021-06-26T09:43:40.788Z"
   },
   {
    "duration": 145,
    "start_time": "2021-06-26T09:43:40.960Z"
   },
   {
    "duration": 104,
    "start_time": "2021-06-26T09:43:41.106Z"
   },
   {
    "duration": 24,
    "start_time": "2021-06-26T09:43:41.212Z"
   },
   {
    "duration": 42,
    "start_time": "2021-06-26T09:43:41.237Z"
   },
   {
    "duration": 64,
    "start_time": "2021-06-26T09:43:41.281Z"
   },
   {
    "duration": 59,
    "start_time": "2021-06-26T09:43:41.348Z"
   },
   {
    "duration": 92,
    "start_time": "2021-06-26T09:43:41.409Z"
   },
   {
    "duration": 187,
    "start_time": "2021-06-26T09:43:41.502Z"
   },
   {
    "duration": 771,
    "start_time": "2021-06-26T09:43:41.691Z"
   },
   {
    "duration": 34,
    "start_time": "2021-06-26T09:43:42.464Z"
   },
   {
    "duration": 20,
    "start_time": "2021-06-26T09:43:42.500Z"
   },
   {
    "duration": 32,
    "start_time": "2021-06-26T09:43:42.522Z"
   },
   {
    "duration": 773,
    "start_time": "2021-06-26T09:43:42.556Z"
   },
   {
    "duration": 7,
    "start_time": "2021-06-26T09:43:43.330Z"
   },
   {
    "duration": 183,
    "start_time": "2021-06-26T09:43:43.338Z"
   },
   {
    "duration": 22,
    "start_time": "2021-06-26T09:43:43.523Z"
   },
   {
    "duration": 51,
    "start_time": "2021-06-26T09:43:43.546Z"
   },
   {
    "duration": 13,
    "start_time": "2021-06-26T09:43:43.598Z"
   },
   {
    "duration": 6,
    "start_time": "2021-06-26T09:43:43.613Z"
   },
   {
    "duration": 541,
    "start_time": "2021-06-26T09:43:43.621Z"
   },
   {
    "duration": 205,
    "start_time": "2021-06-26T09:43:44.165Z"
   },
   {
    "duration": 366,
    "start_time": "2021-06-26T09:43:44.372Z"
   },
   {
    "duration": 385,
    "start_time": "2021-06-26T09:43:44.740Z"
   },
   {
    "duration": 6577,
    "start_time": "2021-06-26T09:43:45.126Z"
   },
   {
    "duration": 442,
    "start_time": "2021-06-26T09:43:51.704Z"
   },
   {
    "duration": 5,
    "start_time": "2021-06-26T09:43:52.148Z"
   },
   {
    "duration": 11,
    "start_time": "2021-06-26T09:43:52.154Z"
   },
   {
    "duration": 77,
    "start_time": "2021-06-26T09:43:52.167Z"
   },
   {
    "duration": 68,
    "start_time": "2021-06-26T10:36:49.788Z"
   },
   {
    "duration": 61,
    "start_time": "2021-06-26T10:38:46.607Z"
   },
   {
    "duration": 1030,
    "start_time": "2021-06-26T10:39:19.347Z"
   },
   {
    "duration": 172,
    "start_time": "2021-06-26T10:39:20.379Z"
   },
   {
    "duration": 146,
    "start_time": "2021-06-26T10:39:20.553Z"
   },
   {
    "duration": 107,
    "start_time": "2021-06-26T10:39:20.701Z"
   },
   {
    "duration": 25,
    "start_time": "2021-06-26T10:39:20.809Z"
   },
   {
    "duration": 40,
    "start_time": "2021-06-26T10:39:20.836Z"
   },
   {
    "duration": 67,
    "start_time": "2021-06-26T10:39:20.877Z"
   },
   {
    "duration": 51,
    "start_time": "2021-06-26T10:39:20.946Z"
   },
   {
    "duration": 95,
    "start_time": "2021-06-26T10:39:21.000Z"
   },
   {
    "duration": 199,
    "start_time": "2021-06-26T10:39:21.097Z"
   },
   {
    "duration": 773,
    "start_time": "2021-06-26T10:39:21.298Z"
   },
   {
    "duration": 28,
    "start_time": "2021-06-26T10:39:22.073Z"
   },
   {
    "duration": 20,
    "start_time": "2021-06-26T10:39:22.102Z"
   },
   {
    "duration": 22,
    "start_time": "2021-06-26T10:39:22.124Z"
   },
   {
    "duration": 794,
    "start_time": "2021-06-26T10:39:22.148Z"
   },
   {
    "duration": 8,
    "start_time": "2021-06-26T10:39:22.943Z"
   },
   {
    "duration": 170,
    "start_time": "2021-06-26T10:39:22.952Z"
   },
   {
    "duration": 21,
    "start_time": "2021-06-26T10:39:23.124Z"
   },
   {
    "duration": 45,
    "start_time": "2021-06-26T10:39:23.147Z"
   },
   {
    "duration": 12,
    "start_time": "2021-06-26T10:39:23.194Z"
   },
   {
    "duration": 4,
    "start_time": "2021-06-26T10:39:23.207Z"
   },
   {
    "duration": 66,
    "start_time": "2021-06-26T10:39:23.212Z"
   },
   {
    "duration": -147,
    "start_time": "2021-06-26T10:39:23.428Z"
   },
   {
    "duration": -149,
    "start_time": "2021-06-26T10:39:23.431Z"
   },
   {
    "duration": -155,
    "start_time": "2021-06-26T10:39:23.438Z"
   },
   {
    "duration": -196,
    "start_time": "2021-06-26T10:39:23.480Z"
   },
   {
    "duration": -252,
    "start_time": "2021-06-26T10:39:23.537Z"
   },
   {
    "duration": -254,
    "start_time": "2021-06-26T10:39:23.540Z"
   },
   {
    "duration": -258,
    "start_time": "2021-06-26T10:39:23.545Z"
   },
   {
    "duration": -264,
    "start_time": "2021-06-26T10:39:23.552Z"
   },
   {
    "duration": 24,
    "start_time": "2021-06-26T10:39:43.293Z"
   },
   {
    "duration": 4541,
    "start_time": "2021-06-26T10:43:02.293Z"
   },
   {
    "duration": 4449,
    "start_time": "2021-06-26T10:43:22.720Z"
   },
   {
    "duration": 201,
    "start_time": "2021-06-26T10:44:03.444Z"
   },
   {
    "duration": 223,
    "start_time": "2021-06-26T10:44:54.887Z"
   },
   {
    "duration": 211,
    "start_time": "2021-06-26T10:45:30.577Z"
   },
   {
    "duration": 21,
    "start_time": "2021-06-26T10:46:09.018Z"
   },
   {
    "duration": 5876,
    "start_time": "2021-06-26T10:47:56.428Z"
   },
   {
    "duration": 43,
    "start_time": "2021-06-26T10:48:31.582Z"
   },
   {
    "duration": 46,
    "start_time": "2021-06-26T10:49:19.282Z"
   },
   {
    "duration": 44,
    "start_time": "2021-06-26T10:49:31.290Z"
   },
   {
    "duration": 47,
    "start_time": "2021-06-26T10:49:47.453Z"
   },
   {
    "duration": 45,
    "start_time": "2021-06-26T10:49:59.658Z"
   },
   {
    "duration": 50,
    "start_time": "2021-06-26T10:51:12.721Z"
   },
   {
    "duration": 187,
    "start_time": "2021-06-26T10:53:22.132Z"
   },
   {
    "duration": 210,
    "start_time": "2021-06-26T10:53:41.012Z"
   },
   {
    "duration": 229,
    "start_time": "2021-06-26T10:54:01.864Z"
   },
   {
    "duration": 253,
    "start_time": "2021-06-26T10:55:12.203Z"
   },
   {
    "duration": 208,
    "start_time": "2021-06-26T11:02:48.038Z"
   },
   {
    "duration": 286,
    "start_time": "2021-06-26T11:03:04.288Z"
   },
   {
    "duration": 218,
    "start_time": "2021-06-26T11:06:36.114Z"
   },
   {
    "duration": 228,
    "start_time": "2021-06-26T11:07:14.498Z"
   },
   {
    "duration": 202,
    "start_time": "2021-06-26T11:08:22.249Z"
   },
   {
    "duration": 379,
    "start_time": "2021-06-26T11:08:45.393Z"
   },
   {
    "duration": 370,
    "start_time": "2021-06-26T11:08:54.116Z"
   },
   {
    "duration": 375,
    "start_time": "2021-06-26T11:09:18.575Z"
   },
   {
    "duration": 376,
    "start_time": "2021-06-26T11:09:49.972Z"
   },
   {
    "duration": 464,
    "start_time": "2021-06-26T11:10:13.089Z"
   },
   {
    "duration": 6133,
    "start_time": "2021-06-26T11:10:43.603Z"
   },
   {
    "duration": 5,
    "start_time": "2021-06-26T11:58:58.743Z"
   },
   {
    "duration": 10,
    "start_time": "2021-06-26T11:59:05.861Z"
   },
   {
    "duration": 11,
    "start_time": "2021-06-26T12:04:57.546Z"
   },
   {
    "duration": 19,
    "start_time": "2021-06-26T12:05:56.156Z"
   },
   {
    "duration": 13,
    "start_time": "2021-06-26T12:11:48.487Z"
   },
   {
    "duration": 19,
    "start_time": "2021-06-26T12:11:59.988Z"
   },
   {
    "duration": 5,
    "start_time": "2021-06-26T12:18:39.884Z"
   },
   {
    "duration": 12,
    "start_time": "2021-06-26T12:33:40.902Z"
   },
   {
    "duration": 21,
    "start_time": "2021-06-26T12:34:26.690Z"
   },
   {
    "duration": 30,
    "start_time": "2021-06-26T12:36:08.347Z"
   },
   {
    "duration": 28,
    "start_time": "2021-06-26T12:40:15.449Z"
   },
   {
    "duration": 214,
    "start_time": "2021-06-26T12:41:17.821Z"
   },
   {
    "duration": 220,
    "start_time": "2021-06-26T12:41:56.038Z"
   },
   {
    "duration": 28,
    "start_time": "2021-06-26T12:42:23.882Z"
   },
   {
    "duration": 29,
    "start_time": "2021-06-26T12:43:18.364Z"
   },
   {
    "duration": 32,
    "start_time": "2021-06-26T12:44:05.885Z"
   },
   {
    "duration": 22,
    "start_time": "2021-06-26T12:44:27.026Z"
   },
   {
    "duration": 86,
    "start_time": "2021-06-26T12:44:49.205Z"
   },
   {
    "duration": 22,
    "start_time": "2021-06-26T12:44:52.517Z"
   },
   {
    "duration": 1044,
    "start_time": "2021-06-26T12:49:50.126Z"
   },
   {
    "duration": 171,
    "start_time": "2021-06-26T12:49:51.172Z"
   },
   {
    "duration": 139,
    "start_time": "2021-06-26T12:49:51.345Z"
   },
   {
    "duration": 99,
    "start_time": "2021-06-26T12:49:51.486Z"
   },
   {
    "duration": 24,
    "start_time": "2021-06-26T12:49:51.587Z"
   },
   {
    "duration": 74,
    "start_time": "2021-06-26T12:49:51.612Z"
   },
   {
    "duration": 61,
    "start_time": "2021-06-26T12:49:51.688Z"
   },
   {
    "duration": 59,
    "start_time": "2021-06-26T12:49:51.752Z"
   },
   {
    "duration": 94,
    "start_time": "2021-06-26T12:49:51.814Z"
   },
   {
    "duration": 182,
    "start_time": "2021-06-26T12:49:51.910Z"
   },
   {
    "duration": 756,
    "start_time": "2021-06-26T12:49:52.093Z"
   },
   {
    "duration": 33,
    "start_time": "2021-06-26T12:49:52.851Z"
   },
   {
    "duration": 20,
    "start_time": "2021-06-26T12:49:52.886Z"
   },
   {
    "duration": 22,
    "start_time": "2021-06-26T12:49:52.908Z"
   },
   {
    "duration": 770,
    "start_time": "2021-06-26T12:49:52.932Z"
   },
   {
    "duration": 8,
    "start_time": "2021-06-26T12:49:53.703Z"
   },
   {
    "duration": 160,
    "start_time": "2021-06-26T12:49:53.713Z"
   },
   {
    "duration": 24,
    "start_time": "2021-06-26T12:49:53.875Z"
   },
   {
    "duration": 32,
    "start_time": "2021-06-26T12:49:53.901Z"
   },
   {
    "duration": 11,
    "start_time": "2021-06-26T12:49:53.935Z"
   },
   {
    "duration": 3,
    "start_time": "2021-06-26T12:49:53.948Z"
   },
   {
    "duration": 393,
    "start_time": "2021-06-26T12:49:53.952Z"
   },
   {
    "duration": 364,
    "start_time": "2021-06-26T12:49:54.347Z"
   },
   {
    "duration": 373,
    "start_time": "2021-06-26T12:49:54.713Z"
   },
   {
    "duration": 20,
    "start_time": "2021-06-26T12:49:55.088Z"
   },
   {
    "duration": 9,
    "start_time": "2021-06-26T12:49:55.110Z"
   },
   {
    "duration": 18,
    "start_time": "2021-06-26T12:49:55.120Z"
   },
   {
    "duration": 5,
    "start_time": "2021-06-26T12:49:55.139Z"
   },
   {
    "duration": 51,
    "start_time": "2021-06-26T12:49:55.145Z"
   },
   {
    "duration": 67,
    "start_time": "2021-06-26T12:49:55.198Z"
   },
   {
    "duration": 1031,
    "start_time": "2021-06-26T13:21:52.599Z"
   },
   {
    "duration": 174,
    "start_time": "2021-06-26T13:21:53.632Z"
   },
   {
    "duration": 142,
    "start_time": "2021-06-26T13:21:53.808Z"
   },
   {
    "duration": 106,
    "start_time": "2021-06-26T13:21:53.952Z"
   },
   {
    "duration": 24,
    "start_time": "2021-06-26T13:21:54.059Z"
   },
   {
    "duration": 52,
    "start_time": "2021-06-26T13:21:54.085Z"
   },
   {
    "duration": 66,
    "start_time": "2021-06-26T13:21:54.139Z"
   },
   {
    "duration": 48,
    "start_time": "2021-06-26T13:21:54.207Z"
   },
   {
    "duration": 95,
    "start_time": "2021-06-26T13:21:54.257Z"
   },
   {
    "duration": 189,
    "start_time": "2021-06-26T13:21:54.353Z"
   },
   {
    "duration": 746,
    "start_time": "2021-06-26T13:21:54.544Z"
   },
   {
    "duration": 25,
    "start_time": "2021-06-26T13:21:55.292Z"
   },
   {
    "duration": 21,
    "start_time": "2021-06-26T13:21:55.319Z"
   },
   {
    "duration": 47,
    "start_time": "2021-06-26T13:21:55.342Z"
   },
   {
    "duration": 751,
    "start_time": "2021-06-26T13:21:55.390Z"
   },
   {
    "duration": 7,
    "start_time": "2021-06-26T13:21:56.143Z"
   },
   {
    "duration": 166,
    "start_time": "2021-06-26T13:21:56.151Z"
   },
   {
    "duration": 24,
    "start_time": "2021-06-26T13:21:56.319Z"
   },
   {
    "duration": 45,
    "start_time": "2021-06-26T13:21:56.344Z"
   },
   {
    "duration": 12,
    "start_time": "2021-06-26T13:21:56.391Z"
   },
   {
    "duration": 3,
    "start_time": "2021-06-26T13:21:56.405Z"
   },
   {
    "duration": 382,
    "start_time": "2021-06-26T13:21:56.410Z"
   },
   {
    "duration": 370,
    "start_time": "2021-06-26T13:21:56.796Z"
   },
   {
    "duration": 374,
    "start_time": "2021-06-26T13:21:57.168Z"
   },
   {
    "duration": 19,
    "start_time": "2021-06-26T13:21:57.543Z"
   },
   {
    "duration": 27,
    "start_time": "2021-06-26T13:21:57.564Z"
   },
   {
    "duration": 17,
    "start_time": "2021-06-26T13:21:57.593Z"
   },
   {
    "duration": 4,
    "start_time": "2021-06-26T13:21:57.612Z"
   },
   {
    "duration": 24,
    "start_time": "2021-06-26T13:21:57.618Z"
   },
   {
    "duration": 1483,
    "start_time": "2021-06-26T14:43:32.884Z"
   },
   {
    "duration": 237,
    "start_time": "2021-06-26T14:43:34.370Z"
   },
   {
    "duration": 202,
    "start_time": "2021-06-26T14:43:34.610Z"
   },
   {
    "duration": 142,
    "start_time": "2021-06-26T14:43:34.815Z"
   },
   {
    "duration": 30,
    "start_time": "2021-06-26T14:43:34.960Z"
   },
   {
    "duration": 54,
    "start_time": "2021-06-26T14:43:34.993Z"
   },
   {
    "duration": 99,
    "start_time": "2021-06-26T14:43:35.049Z"
   },
   {
    "duration": 76,
    "start_time": "2021-06-26T14:43:35.152Z"
   },
   {
    "duration": 154,
    "start_time": "2021-06-26T14:43:35.231Z"
   },
   {
    "duration": 295,
    "start_time": "2021-06-26T14:43:35.387Z"
   },
   {
    "duration": 1879,
    "start_time": "2021-06-26T14:43:35.685Z"
   },
   {
    "duration": 45,
    "start_time": "2021-06-26T14:43:37.568Z"
   },
   {
    "duration": 60,
    "start_time": "2021-06-26T14:43:37.615Z"
   },
   {
    "duration": 34,
    "start_time": "2021-06-26T14:43:37.678Z"
   },
   {
    "duration": 1339,
    "start_time": "2021-06-26T14:43:37.715Z"
   },
   {
    "duration": 12,
    "start_time": "2021-06-26T14:43:39.057Z"
   },
   {
    "duration": 216,
    "start_time": "2021-06-26T14:43:39.072Z"
   },
   {
    "duration": 35,
    "start_time": "2021-06-26T14:43:39.291Z"
   },
   {
    "duration": 75,
    "start_time": "2021-06-26T14:43:39.329Z"
   },
   {
    "duration": 19,
    "start_time": "2021-06-26T14:43:39.407Z"
   },
   {
    "duration": 7,
    "start_time": "2021-06-26T14:43:39.428Z"
   },
   {
    "duration": 594,
    "start_time": "2021-06-26T14:43:39.462Z"
   },
   {
    "duration": 576,
    "start_time": "2021-06-26T14:43:40.062Z"
   },
   {
    "duration": 592,
    "start_time": "2021-06-26T14:43:40.640Z"
   },
   {
    "duration": 42,
    "start_time": "2021-06-26T14:43:41.234Z"
   },
   {
    "duration": 15,
    "start_time": "2021-06-26T14:43:41.278Z"
   },
   {
    "duration": 30,
    "start_time": "2021-06-26T14:43:41.295Z"
   },
   {
    "duration": 35,
    "start_time": "2021-06-26T14:43:41.327Z"
   },
   {
    "duration": 36,
    "start_time": "2021-06-26T14:43:41.365Z"
   },
   {
    "duration": 582,
    "start_time": "2021-06-27T07:39:02.999Z"
   },
   {
    "duration": 1451,
    "start_time": "2021-06-27T07:39:14.397Z"
   },
   {
    "duration": 231,
    "start_time": "2021-06-27T07:39:15.851Z"
   },
   {
    "duration": 213,
    "start_time": "2021-06-27T07:39:16.085Z"
   },
   {
    "duration": 142,
    "start_time": "2021-06-27T07:39:16.301Z"
   },
   {
    "duration": 31,
    "start_time": "2021-06-27T07:39:16.445Z"
   },
   {
    "duration": 56,
    "start_time": "2021-06-27T07:39:16.478Z"
   },
   {
    "duration": 100,
    "start_time": "2021-06-27T07:39:16.536Z"
   },
   {
    "duration": 77,
    "start_time": "2021-06-27T07:39:16.640Z"
   },
   {
    "duration": 143,
    "start_time": "2021-06-27T07:39:16.720Z"
   },
   {
    "duration": 272,
    "start_time": "2021-06-27T07:39:16.865Z"
   },
   {
    "duration": 1361,
    "start_time": "2021-06-27T07:39:17.140Z"
   },
   {
    "duration": 32,
    "start_time": "2021-06-27T07:39:18.503Z"
   },
   {
    "duration": 29,
    "start_time": "2021-06-27T07:39:18.538Z"
   },
   {
    "duration": 60,
    "start_time": "2021-06-27T07:39:18.569Z"
   },
   {
    "duration": 1157,
    "start_time": "2021-06-27T07:39:18.632Z"
   },
   {
    "duration": 14,
    "start_time": "2021-06-27T07:39:19.792Z"
   },
   {
    "duration": 194,
    "start_time": "2021-06-27T07:39:19.808Z"
   },
   {
    "duration": 33,
    "start_time": "2021-06-27T07:39:20.005Z"
   },
   {
    "duration": 77,
    "start_time": "2021-06-27T07:39:20.040Z"
   },
   {
    "duration": 18,
    "start_time": "2021-06-27T07:39:20.119Z"
   },
   {
    "duration": 6,
    "start_time": "2021-06-27T07:39:20.139Z"
   },
   {
    "duration": 576,
    "start_time": "2021-06-27T07:39:20.147Z"
   },
   {
    "duration": 556,
    "start_time": "2021-06-27T07:39:20.727Z"
   },
   {
    "duration": 571,
    "start_time": "2021-06-27T07:39:21.285Z"
   },
   {
    "duration": 46,
    "start_time": "2021-06-27T07:39:21.859Z"
   },
   {
    "duration": 14,
    "start_time": "2021-06-27T07:39:21.907Z"
   },
   {
    "duration": 29,
    "start_time": "2021-06-27T07:39:21.923Z"
   },
   {
    "duration": 7,
    "start_time": "2021-06-27T07:39:21.954Z"
   },
   {
    "duration": 65,
    "start_time": "2021-06-27T07:39:21.963Z"
   },
   {
    "duration": 196,
    "start_time": "2021-06-27T07:41:26.705Z"
   },
   {
    "duration": 131,
    "start_time": "2021-06-27T07:41:35.354Z"
   },
   {
    "duration": 34,
    "start_time": "2021-06-27T07:41:42.852Z"
   },
   {
    "duration": 33,
    "start_time": "2021-06-27T07:41:52.887Z"
   },
   {
    "duration": 50,
    "start_time": "2021-06-27T07:41:59.876Z"
   },
   {
    "duration": 29,
    "start_time": "2021-06-27T07:45:14.053Z"
   },
   {
    "duration": 43,
    "start_time": "2021-06-27T07:45:22.447Z"
   },
   {
    "duration": 5,
    "start_time": "2021-06-27T08:12:23.610Z"
   },
   {
    "duration": 741,
    "start_time": "2021-06-27T08:14:18.382Z"
   },
   {
    "duration": 747,
    "start_time": "2021-06-27T08:15:17.602Z"
   },
   {
    "duration": 115,
    "start_time": "2021-06-27T08:15:39.440Z"
   },
   {
    "duration": 122,
    "start_time": "2021-06-27T08:16:37.942Z"
   },
   {
    "duration": 121,
    "start_time": "2021-06-27T08:17:13.614Z"
   },
   {
    "duration": 123,
    "start_time": "2021-06-27T08:17:34.214Z"
   },
   {
    "duration": 128,
    "start_time": "2021-06-27T08:18:46.957Z"
   },
   {
    "duration": 111,
    "start_time": "2021-06-27T08:19:14.271Z"
   },
   {
    "duration": 166,
    "start_time": "2021-06-27T08:19:33.710Z"
   },
   {
    "duration": 126,
    "start_time": "2021-06-27T08:21:08.256Z"
   },
   {
    "duration": 128,
    "start_time": "2021-06-27T08:31:27.867Z"
   },
   {
    "duration": 114,
    "start_time": "2021-06-27T08:32:19.216Z"
   },
   {
    "duration": 1318,
    "start_time": "2021-06-27T08:39:07.646Z"
   },
   {
    "duration": 516,
    "start_time": "2021-06-27T08:39:08.967Z"
   },
   {
    "duration": 94,
    "start_time": "2021-06-27T08:39:09.486Z"
   },
   {
    "duration": 77,
    "start_time": "2021-06-27T08:39:09.583Z"
   },
   {
    "duration": 139,
    "start_time": "2021-06-27T08:39:09.663Z"
   },
   {
    "duration": 281,
    "start_time": "2021-06-27T08:39:09.805Z"
   },
   {
    "duration": 1308,
    "start_time": "2021-06-27T08:39:10.089Z"
   },
   {
    "duration": 36,
    "start_time": "2021-06-27T08:39:11.401Z"
   },
   {
    "duration": 60,
    "start_time": "2021-06-27T08:39:11.440Z"
   },
   {
    "duration": 37,
    "start_time": "2021-06-27T08:39:11.503Z"
   },
   {
    "duration": 1189,
    "start_time": "2021-06-27T08:39:11.542Z"
   },
   {
    "duration": 11,
    "start_time": "2021-06-27T08:39:12.733Z"
   },
   {
    "duration": 214,
    "start_time": "2021-06-27T08:39:12.747Z"
   },
   {
    "duration": 38,
    "start_time": "2021-06-27T08:39:12.963Z"
   },
   {
    "duration": 40,
    "start_time": "2021-06-27T08:39:13.004Z"
   },
   {
    "duration": 19,
    "start_time": "2021-06-27T08:39:13.047Z"
   },
   {
    "duration": 33,
    "start_time": "2021-06-27T08:39:13.068Z"
   },
   {
    "duration": 580,
    "start_time": "2021-06-27T08:39:13.104Z"
   },
   {
    "duration": 554,
    "start_time": "2021-06-27T08:39:13.686Z"
   },
   {
    "duration": 570,
    "start_time": "2021-06-27T08:39:14.243Z"
   },
   {
    "duration": 28,
    "start_time": "2021-06-27T08:39:14.815Z"
   },
   {
    "duration": 15,
    "start_time": "2021-06-27T08:39:14.846Z"
   },
   {
    "duration": 53,
    "start_time": "2021-06-27T08:39:14.865Z"
   },
   {
    "duration": 7,
    "start_time": "2021-06-27T08:39:14.921Z"
   },
   {
    "duration": 33,
    "start_time": "2021-06-27T08:39:14.931Z"
   },
   {
    "duration": 94,
    "start_time": "2021-06-27T08:42:54.788Z"
   },
   {
    "duration": 28,
    "start_time": "2021-06-27T08:43:08.807Z"
   },
   {
    "duration": 27,
    "start_time": "2021-06-27T08:44:25.522Z"
   },
   {
    "duration": 26,
    "start_time": "2021-06-27T08:44:57.187Z"
   },
   {
    "duration": 18,
    "start_time": "2021-06-27T08:45:24.539Z"
   },
   {
    "duration": 20,
    "start_time": "2021-06-27T08:46:06.176Z"
   },
   {
    "duration": 1467,
    "start_time": "2021-06-27T08:46:40.537Z"
   },
   {
    "duration": 525,
    "start_time": "2021-06-27T08:46:42.007Z"
   },
   {
    "duration": 39,
    "start_time": "2021-06-27T08:46:42.538Z"
   },
   {
    "duration": 31,
    "start_time": "2021-06-27T08:46:42.580Z"
   },
   {
    "duration": 25,
    "start_time": "2021-06-27T08:46:42.614Z"
   },
   {
    "duration": 18,
    "start_time": "2021-06-27T08:46:42.641Z"
   },
   {
    "duration": 50,
    "start_time": "2021-06-27T08:46:42.663Z"
   },
   {
    "duration": 109,
    "start_time": "2021-06-27T08:46:42.717Z"
   },
   {
    "duration": 81,
    "start_time": "2021-06-27T08:46:42.828Z"
   },
   {
    "duration": 138,
    "start_time": "2021-06-27T08:46:42.912Z"
   },
   {
    "duration": 276,
    "start_time": "2021-06-27T08:46:43.053Z"
   },
   {
    "duration": 1202,
    "start_time": "2021-06-27T08:46:43.331Z"
   },
   {
    "duration": 35,
    "start_time": "2021-06-27T08:46:44.535Z"
   },
   {
    "duration": 50,
    "start_time": "2021-06-27T08:46:44.572Z"
   },
   {
    "duration": 32,
    "start_time": "2021-06-27T08:46:44.625Z"
   },
   {
    "duration": 1178,
    "start_time": "2021-06-27T08:46:44.659Z"
   },
   {
    "duration": 11,
    "start_time": "2021-06-27T08:46:45.839Z"
   },
   {
    "duration": 214,
    "start_time": "2021-06-27T08:46:45.853Z"
   },
   {
    "duration": 39,
    "start_time": "2021-06-27T08:46:46.069Z"
   },
   {
    "duration": 45,
    "start_time": "2021-06-27T08:46:46.110Z"
   },
   {
    "duration": 43,
    "start_time": "2021-06-27T08:46:46.157Z"
   },
   {
    "duration": 6,
    "start_time": "2021-06-27T08:46:46.205Z"
   },
   {
    "duration": 573,
    "start_time": "2021-06-27T08:46:46.213Z"
   },
   {
    "duration": 561,
    "start_time": "2021-06-27T08:46:46.788Z"
   },
   {
    "duration": 571,
    "start_time": "2021-06-27T08:46:47.352Z"
   },
   {
    "duration": 29,
    "start_time": "2021-06-27T08:46:47.925Z"
   },
   {
    "duration": 14,
    "start_time": "2021-06-27T08:46:47.956Z"
   },
   {
    "duration": 25,
    "start_time": "2021-06-27T08:46:48.001Z"
   },
   {
    "duration": 6,
    "start_time": "2021-06-27T08:46:48.029Z"
   },
   {
    "duration": 65,
    "start_time": "2021-06-27T08:46:48.038Z"
   },
   {
    "duration": 103,
    "start_time": "2021-06-27T08:49:04.184Z"
   },
   {
    "duration": 20,
    "start_time": "2021-06-27T08:49:09.967Z"
   },
   {
    "duration": 6,
    "start_time": "2021-06-27T08:49:51.269Z"
   },
   {
    "duration": 31,
    "start_time": "2021-06-27T08:54:21.652Z"
   },
   {
    "duration": 1416,
    "start_time": "2021-06-27T08:54:46.040Z"
   },
   {
    "duration": 504,
    "start_time": "2021-06-27T08:54:47.459Z"
   },
   {
    "duration": 43,
    "start_time": "2021-06-27T08:54:47.967Z"
   },
   {
    "duration": 38,
    "start_time": "2021-06-27T08:54:48.014Z"
   },
   {
    "duration": 47,
    "start_time": "2021-06-27T08:54:48.055Z"
   },
   {
    "duration": 16,
    "start_time": "2021-06-27T08:54:48.105Z"
   },
   {
    "duration": 21,
    "start_time": "2021-06-27T08:54:48.123Z"
   },
   {
    "duration": 128,
    "start_time": "2021-06-27T08:54:48.147Z"
   },
   {
    "duration": 81,
    "start_time": "2021-06-27T08:54:48.278Z"
   },
   {
    "duration": 7,
    "start_time": "2021-06-27T08:54:48.362Z"
   },
   {
    "duration": 253,
    "start_time": "2021-06-27T08:54:48.372Z"
   },
   {
    "duration": 1190,
    "start_time": "2021-06-27T08:54:48.627Z"
   },
   {
    "duration": 37,
    "start_time": "2021-06-27T08:54:49.820Z"
   },
   {
    "duration": 63,
    "start_time": "2021-06-27T08:54:49.860Z"
   },
   {
    "duration": 39,
    "start_time": "2021-06-27T08:54:49.926Z"
   },
   {
    "duration": 1175,
    "start_time": "2021-06-27T08:54:49.968Z"
   },
   {
    "duration": 10,
    "start_time": "2021-06-27T08:54:51.146Z"
   },
   {
    "duration": 225,
    "start_time": "2021-06-27T08:54:51.159Z"
   },
   {
    "duration": 34,
    "start_time": "2021-06-27T08:54:51.386Z"
   },
   {
    "duration": 40,
    "start_time": "2021-06-27T08:54:51.422Z"
   },
   {
    "duration": 46,
    "start_time": "2021-06-27T08:54:51.465Z"
   },
   {
    "duration": 5,
    "start_time": "2021-06-27T08:54:51.514Z"
   },
   {
    "duration": 582,
    "start_time": "2021-06-27T08:54:51.524Z"
   },
   {
    "duration": 562,
    "start_time": "2021-06-27T08:54:52.109Z"
   },
   {
    "duration": 580,
    "start_time": "2021-06-27T08:54:52.674Z"
   },
   {
    "duration": 47,
    "start_time": "2021-06-27T08:54:53.257Z"
   },
   {
    "duration": 15,
    "start_time": "2021-06-27T08:54:53.306Z"
   },
   {
    "duration": 24,
    "start_time": "2021-06-27T08:54:53.324Z"
   },
   {
    "duration": 6,
    "start_time": "2021-06-27T08:54:53.350Z"
   },
   {
    "duration": 70,
    "start_time": "2021-06-27T08:54:53.358Z"
   },
   {
    "duration": 6,
    "start_time": "2021-06-27T09:00:02.704Z"
   },
   {
    "duration": 425,
    "start_time": "2021-06-27T09:00:29.123Z"
   },
   {
    "duration": 277,
    "start_time": "2021-06-27T09:00:41.428Z"
   },
   {
    "duration": 7,
    "start_time": "2021-06-27T09:00:50.899Z"
   },
   {
    "duration": 264,
    "start_time": "2021-06-27T09:01:07.088Z"
   },
   {
    "duration": 884,
    "start_time": "2021-06-27T09:01:14.812Z"
   },
   {
    "duration": 16,
    "start_time": "2021-06-27T09:04:11.523Z"
   },
   {
    "duration": 284,
    "start_time": "2021-06-27T09:04:48.683Z"
   },
   {
    "duration": 293,
    "start_time": "2021-06-27T09:05:06.051Z"
   },
   {
    "duration": 7,
    "start_time": "2021-06-27T09:05:20.982Z"
   },
   {
    "duration": 357,
    "start_time": "2021-06-27T09:05:36.565Z"
   },
   {
    "duration": 6,
    "start_time": "2021-06-27T09:07:10.308Z"
   },
   {
    "duration": 5,
    "start_time": "2021-06-27T09:07:51.762Z"
   },
   {
    "duration": 6817,
    "start_time": "2021-06-27T09:11:17.963Z"
   },
   {
    "duration": 12,
    "start_time": "2021-06-27T09:11:38.836Z"
   },
   {
    "duration": 1531,
    "start_time": "2021-06-27T09:13:47.614Z"
   },
   {
    "duration": 578,
    "start_time": "2021-06-27T09:13:49.148Z"
   },
   {
    "duration": 39,
    "start_time": "2021-06-27T09:13:49.729Z"
   },
   {
    "duration": 61,
    "start_time": "2021-06-27T09:13:49.771Z"
   },
   {
    "duration": 84,
    "start_time": "2021-06-27T09:13:49.835Z"
   },
   {
    "duration": 16,
    "start_time": "2021-06-27T09:13:49.921Z"
   },
   {
    "duration": 20,
    "start_time": "2021-06-27T09:13:49.939Z"
   },
   {
    "duration": 13,
    "start_time": "2021-06-27T09:13:49.962Z"
   },
   {
    "duration": 163,
    "start_time": "2021-06-27T09:13:49.978Z"
   },
   {
    "duration": 172,
    "start_time": "2021-06-27T09:13:50.144Z"
   },
   {
    "duration": 7,
    "start_time": "2021-06-27T09:13:50.319Z"
   },
   {
    "duration": 306,
    "start_time": "2021-06-27T09:13:50.329Z"
   },
   {
    "duration": 1331,
    "start_time": "2021-06-27T09:13:50.637Z"
   },
   {
    "duration": 55,
    "start_time": "2021-06-27T09:13:51.970Z"
   },
   {
    "duration": 29,
    "start_time": "2021-06-27T09:13:52.027Z"
   },
   {
    "duration": 64,
    "start_time": "2021-06-27T09:13:52.059Z"
   },
   {
    "duration": 1254,
    "start_time": "2021-06-27T09:13:52.125Z"
   },
   {
    "duration": 22,
    "start_time": "2021-06-27T09:13:53.382Z"
   },
   {
    "duration": 223,
    "start_time": "2021-06-27T09:13:53.410Z"
   },
   {
    "duration": 30,
    "start_time": "2021-06-27T09:13:53.635Z"
   },
   {
    "duration": 68,
    "start_time": "2021-06-27T09:13:53.667Z"
   },
   {
    "duration": 11,
    "start_time": "2021-06-27T09:13:53.737Z"
   },
   {
    "duration": 18,
    "start_time": "2021-06-27T09:13:53.753Z"
   },
   {
    "duration": 32,
    "start_time": "2021-06-27T09:13:53.773Z"
   },
   {
    "duration": 660,
    "start_time": "2021-06-27T09:13:53.808Z"
   },
   {
    "duration": 625,
    "start_time": "2021-06-27T09:13:54.470Z"
   },
   {
    "duration": 653,
    "start_time": "2021-06-27T09:13:55.101Z"
   },
   {
    "duration": 46,
    "start_time": "2021-06-27T09:13:55.756Z"
   },
   {
    "duration": 17,
    "start_time": "2021-06-27T09:13:55.806Z"
   },
   {
    "duration": 24,
    "start_time": "2021-06-27T09:13:55.826Z"
   },
   {
    "duration": 7,
    "start_time": "2021-06-27T09:13:55.852Z"
   },
   {
    "duration": 38,
    "start_time": "2021-06-27T09:13:55.902Z"
   },
   {
    "duration": 90,
    "start_time": "2021-06-27T09:24:05.714Z"
   },
   {
    "duration": 422,
    "start_time": "2021-06-27T09:24:27.662Z"
   },
   {
    "duration": 298,
    "start_time": "2021-06-27T09:24:47.840Z"
   },
   {
    "duration": 326,
    "start_time": "2021-06-27T09:25:46.368Z"
   },
   {
    "duration": 16,
    "start_time": "2021-06-27T09:25:52.253Z"
   },
   {
    "duration": 26,
    "start_time": "2021-06-27T09:31:15.197Z"
   },
   {
    "duration": 9,
    "start_time": "2021-06-27T09:37:30.698Z"
   },
   {
    "duration": 10,
    "start_time": "2021-06-27T09:38:31.048Z"
   },
   {
    "duration": 104,
    "start_time": "2021-06-27T09:38:48.325Z"
   },
   {
    "duration": 9,
    "start_time": "2021-06-27T09:38:53.327Z"
   },
   {
    "duration": 102,
    "start_time": "2021-06-27T09:39:45.860Z"
   },
   {
    "duration": 12,
    "start_time": "2021-06-27T09:40:09.698Z"
   },
   {
    "duration": 8,
    "start_time": "2021-06-27T09:40:43.175Z"
   },
   {
    "duration": 9,
    "start_time": "2021-06-27T09:40:54.867Z"
   },
   {
    "duration": 486,
    "start_time": "2021-06-27T09:44:19.539Z"
   },
   {
    "duration": 9,
    "start_time": "2021-06-27T09:44:33.492Z"
   },
   {
    "duration": 95,
    "start_time": "2021-06-27T09:45:00.728Z"
   },
   {
    "duration": 11,
    "start_time": "2021-06-27T09:45:06.346Z"
   },
   {
    "duration": 8,
    "start_time": "2021-06-27T09:48:02.040Z"
   },
   {
    "duration": 8,
    "start_time": "2021-06-27T09:48:19.314Z"
   },
   {
    "duration": 9,
    "start_time": "2021-06-27T09:48:37.072Z"
   },
   {
    "duration": 15,
    "start_time": "2021-06-27T09:53:17.445Z"
   },
   {
    "duration": 15,
    "start_time": "2021-06-27T09:54:34.604Z"
   },
   {
    "duration": 269,
    "start_time": "2021-06-27T09:56:43.065Z"
   },
   {
    "duration": 13,
    "start_time": "2021-06-27T09:56:48.390Z"
   },
   {
    "duration": 14,
    "start_time": "2021-06-27T09:57:26.373Z"
   },
   {
    "duration": 11,
    "start_time": "2021-06-27T10:03:37.708Z"
   },
   {
    "duration": 11,
    "start_time": "2021-06-27T10:04:25.089Z"
   },
   {
    "duration": 325,
    "start_time": "2021-06-27T10:06:49.986Z"
   },
   {
    "duration": 17,
    "start_time": "2021-06-27T10:07:48.662Z"
   },
   {
    "duration": 17,
    "start_time": "2021-06-27T10:08:31.637Z"
   },
   {
    "duration": 18,
    "start_time": "2021-06-27T10:09:13.195Z"
   },
   {
    "duration": 17,
    "start_time": "2021-06-27T10:10:15.640Z"
   },
   {
    "duration": 17,
    "start_time": "2021-06-27T10:15:05.642Z"
   },
   {
    "duration": 16,
    "start_time": "2021-06-27T10:15:33.884Z"
   },
   {
    "duration": 16,
    "start_time": "2021-06-27T10:15:58.986Z"
   },
   {
    "duration": 16,
    "start_time": "2021-06-27T10:19:02.528Z"
   },
   {
    "duration": 1396,
    "start_time": "2021-06-27T10:22:52.207Z"
   },
   {
    "duration": 550,
    "start_time": "2021-06-27T10:22:53.605Z"
   },
   {
    "duration": 39,
    "start_time": "2021-06-27T10:22:54.159Z"
   },
   {
    "duration": 40,
    "start_time": "2021-06-27T10:22:54.201Z"
   },
   {
    "duration": 58,
    "start_time": "2021-06-27T10:22:54.244Z"
   },
   {
    "duration": 17,
    "start_time": "2021-06-27T10:22:54.305Z"
   },
   {
    "duration": 21,
    "start_time": "2021-06-27T10:22:54.325Z"
   },
   {
    "duration": 63,
    "start_time": "2021-06-27T10:22:54.350Z"
   },
   {
    "duration": 22,
    "start_time": "2021-06-27T10:22:54.416Z"
   },
   {
    "duration": 133,
    "start_time": "2021-06-27T10:22:54.441Z"
   },
   {
    "duration": 81,
    "start_time": "2021-06-27T10:22:54.576Z"
   },
   {
    "duration": 7,
    "start_time": "2021-06-27T10:22:54.660Z"
   },
   {
    "duration": 251,
    "start_time": "2021-06-27T10:22:54.669Z"
   },
   {
    "duration": 1215,
    "start_time": "2021-06-27T10:22:54.923Z"
   },
   {
    "duration": 66,
    "start_time": "2021-06-27T10:22:56.142Z"
   },
   {
    "duration": 36,
    "start_time": "2021-06-27T10:22:56.211Z"
   },
   {
    "duration": 78,
    "start_time": "2021-06-27T10:22:56.251Z"
   },
   {
    "duration": 1214,
    "start_time": "2021-06-27T10:22:56.332Z"
   },
   {
    "duration": 11,
    "start_time": "2021-06-27T10:22:57.549Z"
   },
   {
    "duration": 226,
    "start_time": "2021-06-27T10:22:57.563Z"
   },
   {
    "duration": 34,
    "start_time": "2021-06-27T10:22:57.792Z"
   },
   {
    "duration": 41,
    "start_time": "2021-06-27T10:22:57.828Z"
   },
   {
    "duration": 37,
    "start_time": "2021-06-27T10:22:57.873Z"
   },
   {
    "duration": 18,
    "start_time": "2021-06-27T10:22:57.914Z"
   },
   {
    "duration": 8,
    "start_time": "2021-06-27T10:22:57.934Z"
   },
   {
    "duration": 636,
    "start_time": "2021-06-27T10:22:57.944Z"
   },
   {
    "duration": 585,
    "start_time": "2021-06-27T10:22:58.583Z"
   },
   {
    "duration": 610,
    "start_time": "2021-06-27T10:22:59.170Z"
   },
   {
    "duration": 41,
    "start_time": "2021-06-27T10:22:59.782Z"
   },
   {
    "duration": 14,
    "start_time": "2021-06-27T10:22:59.826Z"
   },
   {
    "duration": 59,
    "start_time": "2021-06-27T10:22:59.842Z"
   },
   {
    "duration": 7,
    "start_time": "2021-06-27T10:22:59.903Z"
   },
   {
    "duration": 38,
    "start_time": "2021-06-27T10:22:59.912Z"
   },
   {
    "duration": 5,
    "start_time": "2021-06-27T10:34:26.478Z"
   },
   {
    "duration": 6,
    "start_time": "2021-06-27T10:34:35.852Z"
   },
   {
    "duration": 8,
    "start_time": "2021-06-27T10:36:01.704Z"
   },
   {
    "duration": 12,
    "start_time": "2021-06-27T10:37:59.568Z"
   },
   {
    "duration": 16,
    "start_time": "2021-06-27T10:43:26.543Z"
   },
   {
    "duration": 14,
    "start_time": "2021-06-27T10:44:11.108Z"
   },
   {
    "duration": 13,
    "start_time": "2021-06-27T10:45:02.956Z"
   },
   {
    "duration": 22,
    "start_time": "2021-06-27T10:54:16.060Z"
   },
   {
    "duration": 408,
    "start_time": "2021-06-27T10:57:01.307Z"
   },
   {
    "duration": 32,
    "start_time": "2021-06-27T10:57:18.640Z"
   },
   {
    "duration": 33,
    "start_time": "2021-06-27T11:02:08.077Z"
   },
   {
    "duration": 46,
    "start_time": "2021-06-27T11:02:50.601Z"
   },
   {
    "duration": 22,
    "start_time": "2021-06-27T11:03:10.822Z"
   },
   {
    "duration": 1551,
    "start_time": "2021-06-27T11:03:47.807Z"
   },
   {
    "duration": 538,
    "start_time": "2021-06-27T11:03:49.361Z"
   },
   {
    "duration": 110,
    "start_time": "2021-06-27T11:03:49.904Z"
   },
   {
    "duration": 108,
    "start_time": "2021-06-27T11:03:50.018Z"
   },
   {
    "duration": 25,
    "start_time": "2021-06-27T11:03:50.129Z"
   },
   {
    "duration": 51,
    "start_time": "2021-06-27T11:03:50.156Z"
   },
   {
    "duration": 22,
    "start_time": "2021-06-27T11:03:50.210Z"
   },
   {
    "duration": 17,
    "start_time": "2021-06-27T11:03:50.236Z"
   },
   {
    "duration": 20,
    "start_time": "2021-06-27T11:03:50.257Z"
   },
   {
    "duration": 141,
    "start_time": "2021-06-27T11:03:50.301Z"
   },
   {
    "duration": 167,
    "start_time": "2021-06-27T11:03:50.444Z"
   },
   {
    "duration": 8,
    "start_time": "2021-06-27T11:03:50.613Z"
   },
   {
    "duration": 261,
    "start_time": "2021-06-27T11:03:50.623Z"
   },
   {
    "duration": 1398,
    "start_time": "2021-06-27T11:03:50.887Z"
   },
   {
    "duration": 45,
    "start_time": "2021-06-27T11:03:52.288Z"
   },
   {
    "duration": 28,
    "start_time": "2021-06-27T11:03:52.336Z"
   },
   {
    "duration": 37,
    "start_time": "2021-06-27T11:03:52.401Z"
   },
   {
    "duration": 1278,
    "start_time": "2021-06-27T11:03:52.440Z"
   },
   {
    "duration": 11,
    "start_time": "2021-06-27T11:03:53.721Z"
   },
   {
    "duration": 235,
    "start_time": "2021-06-27T11:03:53.734Z"
   },
   {
    "duration": 45,
    "start_time": "2021-06-27T11:03:53.971Z"
   },
   {
    "duration": 44,
    "start_time": "2021-06-27T11:03:54.018Z"
   },
   {
    "duration": 47,
    "start_time": "2021-06-27T11:03:54.067Z"
   },
   {
    "duration": 18,
    "start_time": "2021-06-27T11:03:54.117Z"
   },
   {
    "duration": 5,
    "start_time": "2021-06-27T11:03:54.137Z"
   },
   {
    "duration": 647,
    "start_time": "2021-06-27T11:03:54.144Z"
   },
   {
    "duration": 594,
    "start_time": "2021-06-27T11:03:54.794Z"
   },
   {
    "duration": 610,
    "start_time": "2021-06-27T11:03:55.390Z"
   },
   {
    "duration": 29,
    "start_time": "2021-06-27T11:03:56.002Z"
   },
   {
    "duration": 14,
    "start_time": "2021-06-27T11:03:56.033Z"
   },
   {
    "duration": 63,
    "start_time": "2021-06-27T11:03:56.049Z"
   },
   {
    "duration": 8,
    "start_time": "2021-06-27T11:03:56.115Z"
   },
   {
    "duration": 49,
    "start_time": "2021-06-27T11:03:56.125Z"
   },
   {
    "duration": 1464,
    "start_time": "2021-06-27T11:04:48.676Z"
   },
   {
    "duration": 514,
    "start_time": "2021-06-27T11:04:50.143Z"
   },
   {
    "duration": 39,
    "start_time": "2021-06-27T11:04:50.660Z"
   },
   {
    "duration": 43,
    "start_time": "2021-06-27T11:04:50.701Z"
   },
   {
    "duration": 26,
    "start_time": "2021-06-27T11:04:50.746Z"
   },
   {
    "duration": 18,
    "start_time": "2021-06-27T11:04:50.801Z"
   },
   {
    "duration": 23,
    "start_time": "2021-06-27T11:04:50.821Z"
   },
   {
    "duration": 63,
    "start_time": "2021-06-27T11:04:50.848Z"
   },
   {
    "duration": 21,
    "start_time": "2021-06-27T11:04:50.913Z"
   },
   {
    "duration": 127,
    "start_time": "2021-06-27T11:04:50.937Z"
   },
   {
    "duration": 88,
    "start_time": "2021-06-27T11:04:51.066Z"
   },
   {
    "duration": 7,
    "start_time": "2021-06-27T11:04:51.157Z"
   },
   {
    "duration": 346,
    "start_time": "2021-06-27T11:04:51.166Z"
   },
   {
    "duration": 1265,
    "start_time": "2021-06-27T11:04:51.515Z"
   },
   {
    "duration": 49,
    "start_time": "2021-06-27T11:04:52.782Z"
   },
   {
    "duration": 31,
    "start_time": "2021-06-27T11:04:52.833Z"
   },
   {
    "duration": 65,
    "start_time": "2021-06-27T11:04:52.866Z"
   },
   {
    "duration": 1236,
    "start_time": "2021-06-27T11:04:52.933Z"
   },
   {
    "duration": 10,
    "start_time": "2021-06-27T11:04:54.172Z"
   },
   {
    "duration": 230,
    "start_time": "2021-06-27T11:04:54.184Z"
   },
   {
    "duration": 29,
    "start_time": "2021-06-27T11:04:54.417Z"
   },
   {
    "duration": 70,
    "start_time": "2021-06-27T11:04:54.448Z"
   },
   {
    "duration": 21,
    "start_time": "2021-06-27T11:04:54.522Z"
   },
   {
    "duration": 19,
    "start_time": "2021-06-27T11:04:54.546Z"
   },
   {
    "duration": 36,
    "start_time": "2021-06-27T11:04:54.567Z"
   },
   {
    "duration": 1226,
    "start_time": "2021-06-27T11:04:54.605Z"
   },
   {
    "duration": 830,
    "start_time": "2021-06-27T11:04:55.835Z"
   },
   {
    "duration": 616,
    "start_time": "2021-06-27T11:04:56.668Z"
   },
   {
    "duration": 38,
    "start_time": "2021-06-27T11:04:57.287Z"
   },
   {
    "duration": 14,
    "start_time": "2021-06-27T11:04:57.328Z"
   },
   {
    "duration": 64,
    "start_time": "2021-06-27T11:04:57.345Z"
   },
   {
    "duration": 7,
    "start_time": "2021-06-27T11:04:57.412Z"
   },
   {
    "duration": 41,
    "start_time": "2021-06-27T11:04:57.422Z"
   },
   {
    "duration": 30,
    "start_time": "2021-06-27T11:09:46.882Z"
   },
   {
    "duration": 26,
    "start_time": "2021-06-27T11:10:00.679Z"
   },
   {
    "duration": 26,
    "start_time": "2021-06-27T11:10:24.720Z"
   },
   {
    "duration": 37,
    "start_time": "2021-06-27T11:12:58.605Z"
   },
   {
    "duration": 1389,
    "start_time": "2021-06-27T11:13:08.402Z"
   },
   {
    "duration": 528,
    "start_time": "2021-06-27T11:13:09.794Z"
   },
   {
    "duration": 40,
    "start_time": "2021-06-27T11:13:10.325Z"
   },
   {
    "duration": 48,
    "start_time": "2021-06-27T11:13:10.368Z"
   },
   {
    "duration": 27,
    "start_time": "2021-06-27T11:13:10.419Z"
   },
   {
    "duration": 52,
    "start_time": "2021-06-27T11:13:10.449Z"
   },
   {
    "duration": 21,
    "start_time": "2021-06-27T11:13:10.503Z"
   },
   {
    "duration": 18,
    "start_time": "2021-06-27T11:13:10.529Z"
   },
   {
    "duration": 62,
    "start_time": "2021-06-27T11:13:10.550Z"
   },
   {
    "duration": 125,
    "start_time": "2021-06-27T11:13:10.615Z"
   },
   {
    "duration": 87,
    "start_time": "2021-06-27T11:13:10.743Z"
   },
   {
    "duration": 10,
    "start_time": "2021-06-27T11:13:10.832Z"
   },
   {
    "duration": 280,
    "start_time": "2021-06-27T11:13:10.845Z"
   },
   {
    "duration": 1355,
    "start_time": "2021-06-27T11:13:11.128Z"
   },
   {
    "duration": 51,
    "start_time": "2021-06-27T11:13:12.486Z"
   },
   {
    "duration": 28,
    "start_time": "2021-06-27T11:13:12.540Z"
   },
   {
    "duration": 34,
    "start_time": "2021-06-27T11:13:12.602Z"
   },
   {
    "duration": 1252,
    "start_time": "2021-06-27T11:13:12.638Z"
   },
   {
    "duration": 14,
    "start_time": "2021-06-27T11:13:13.901Z"
   },
   {
    "duration": 236,
    "start_time": "2021-06-27T11:13:13.919Z"
   },
   {
    "duration": 55,
    "start_time": "2021-06-27T11:13:14.157Z"
   },
   {
    "duration": 48,
    "start_time": "2021-06-27T11:13:14.216Z"
   },
   {
    "duration": 49,
    "start_time": "2021-06-27T11:13:14.271Z"
   },
   {
    "duration": 22,
    "start_time": "2021-06-27T11:13:14.324Z"
   },
   {
    "duration": 53,
    "start_time": "2021-06-27T11:13:14.348Z"
   },
   {
    "duration": 610,
    "start_time": "2021-06-27T11:13:14.404Z"
   },
   {
    "duration": 593,
    "start_time": "2021-06-27T11:13:15.017Z"
   },
   {
    "duration": 617,
    "start_time": "2021-06-27T11:13:15.613Z"
   },
   {
    "duration": 29,
    "start_time": "2021-06-27T11:13:16.233Z"
   },
   {
    "duration": 44,
    "start_time": "2021-06-27T11:13:16.264Z"
   },
   {
    "duration": 27,
    "start_time": "2021-06-27T11:13:16.311Z"
   },
   {
    "duration": 7,
    "start_time": "2021-06-27T11:13:16.341Z"
   },
   {
    "duration": 79,
    "start_time": "2021-06-27T11:13:16.350Z"
   },
   {
    "duration": 1590,
    "start_time": "2021-06-27T13:57:52.172Z"
   },
   {
    "duration": 547,
    "start_time": "2021-06-27T13:57:53.765Z"
   },
   {
    "duration": 43,
    "start_time": "2021-06-27T13:57:54.315Z"
   },
   {
    "duration": 42,
    "start_time": "2021-06-27T13:57:54.361Z"
   },
   {
    "duration": 26,
    "start_time": "2021-06-27T13:57:54.406Z"
   },
   {
    "duration": 42,
    "start_time": "2021-06-27T13:57:54.434Z"
   },
   {
    "duration": 23,
    "start_time": "2021-06-27T13:57:54.478Z"
   },
   {
    "duration": 65,
    "start_time": "2021-06-27T13:57:54.504Z"
   },
   {
    "duration": 23,
    "start_time": "2021-06-27T13:57:54.574Z"
   },
   {
    "duration": 123,
    "start_time": "2021-06-27T13:57:54.600Z"
   },
   {
    "duration": 84,
    "start_time": "2021-06-27T13:57:54.726Z"
   },
   {
    "duration": 7,
    "start_time": "2021-06-27T13:57:54.813Z"
   },
   {
    "duration": 264,
    "start_time": "2021-06-27T13:57:54.822Z"
   },
   {
    "duration": 1272,
    "start_time": "2021-06-27T13:57:55.089Z"
   },
   {
    "duration": 36,
    "start_time": "2021-06-27T13:57:56.364Z"
   },
   {
    "duration": 28,
    "start_time": "2021-06-27T13:57:56.403Z"
   },
   {
    "duration": 34,
    "start_time": "2021-06-27T13:57:56.463Z"
   },
   {
    "duration": 1248,
    "start_time": "2021-06-27T13:57:56.499Z"
   },
   {
    "duration": 20,
    "start_time": "2021-06-27T13:57:57.750Z"
   },
   {
    "duration": 233,
    "start_time": "2021-06-27T13:57:57.772Z"
   },
   {
    "duration": 36,
    "start_time": "2021-06-27T13:57:58.008Z"
   },
   {
    "duration": 51,
    "start_time": "2021-06-27T13:57:58.062Z"
   },
   {
    "duration": 23,
    "start_time": "2021-06-27T13:57:58.115Z"
   },
   {
    "duration": 30,
    "start_time": "2021-06-27T13:57:58.163Z"
   },
   {
    "duration": 9,
    "start_time": "2021-06-27T13:57:58.196Z"
   },
   {
    "duration": 897,
    "start_time": "2021-06-27T13:57:58.208Z"
   },
   {
    "duration": 601,
    "start_time": "2021-06-27T13:57:59.111Z"
   },
   {
    "duration": 609,
    "start_time": "2021-06-27T13:57:59.715Z"
   },
   {
    "duration": 47,
    "start_time": "2021-06-27T13:58:00.327Z"
   },
   {
    "duration": 15,
    "start_time": "2021-06-27T13:58:00.376Z"
   },
   {
    "duration": 32,
    "start_time": "2021-06-27T13:58:00.394Z"
   },
   {
    "duration": 8,
    "start_time": "2021-06-27T13:58:00.461Z"
   },
   {
    "duration": 58,
    "start_time": "2021-06-27T13:58:00.472Z"
   },
   {
    "duration": 1509,
    "start_time": "2021-06-27T14:01:04.618Z"
   },
   {
    "duration": 525,
    "start_time": "2021-06-27T14:01:06.130Z"
   },
   {
    "duration": 40,
    "start_time": "2021-06-27T14:01:06.658Z"
   },
   {
    "duration": 63,
    "start_time": "2021-06-27T14:01:06.700Z"
   },
   {
    "duration": 26,
    "start_time": "2021-06-27T14:01:06.766Z"
   },
   {
    "duration": 16,
    "start_time": "2021-06-27T14:01:06.794Z"
   },
   {
    "duration": 57,
    "start_time": "2021-06-27T14:01:06.813Z"
   },
   {
    "duration": 19,
    "start_time": "2021-06-27T14:01:06.875Z"
   },
   {
    "duration": 21,
    "start_time": "2021-06-27T14:01:06.897Z"
   },
   {
    "duration": 128,
    "start_time": "2021-06-27T14:01:06.921Z"
   },
   {
    "duration": 80,
    "start_time": "2021-06-27T14:01:07.051Z"
   },
   {
    "duration": 28,
    "start_time": "2021-06-27T14:01:07.134Z"
   },
   {
    "duration": 257,
    "start_time": "2021-06-27T14:01:07.165Z"
   },
   {
    "duration": 1248,
    "start_time": "2021-06-27T14:01:07.425Z"
   },
   {
    "duration": 43,
    "start_time": "2021-06-27T14:01:08.676Z"
   },
   {
    "duration": 62,
    "start_time": "2021-06-27T14:01:08.722Z"
   },
   {
    "duration": 34,
    "start_time": "2021-06-27T14:01:08.787Z"
   },
   {
    "duration": 1258,
    "start_time": "2021-06-27T14:01:08.823Z"
   },
   {
    "duration": 13,
    "start_time": "2021-06-27T14:01:10.084Z"
   },
   {
    "duration": 230,
    "start_time": "2021-06-27T14:01:10.101Z"
   },
   {
    "duration": 49,
    "start_time": "2021-06-27T14:01:10.334Z"
   },
   {
    "duration": 49,
    "start_time": "2021-06-27T14:01:10.386Z"
   },
   {
    "duration": 45,
    "start_time": "2021-06-27T14:01:10.438Z"
   },
   {
    "duration": 22,
    "start_time": "2021-06-27T14:01:10.486Z"
   },
   {
    "duration": 5,
    "start_time": "2021-06-27T14:01:10.510Z"
   },
   {
    "duration": 631,
    "start_time": "2021-06-27T14:01:10.520Z"
   },
   {
    "duration": 610,
    "start_time": "2021-06-27T14:01:11.154Z"
   },
   {
    "duration": 726,
    "start_time": "2021-06-27T14:01:11.766Z"
   },
   {
    "duration": 30,
    "start_time": "2021-06-27T14:01:12.494Z"
   },
   {
    "duration": 40,
    "start_time": "2021-06-27T14:01:12.526Z"
   },
   {
    "duration": 40,
    "start_time": "2021-06-27T14:01:12.569Z"
   },
   {
    "duration": 6,
    "start_time": "2021-06-27T14:01:12.612Z"
   },
   {
    "duration": 60,
    "start_time": "2021-06-27T14:01:12.621Z"
   },
   {
    "duration": 1557,
    "start_time": "2021-06-27T17:32:16.949Z"
   },
   {
    "duration": 494,
    "start_time": "2021-06-27T17:32:18.509Z"
   },
   {
    "duration": 42,
    "start_time": "2021-06-27T17:32:19.010Z"
   },
   {
    "duration": 55,
    "start_time": "2021-06-27T17:32:19.055Z"
   },
   {
    "duration": 25,
    "start_time": "2021-06-27T17:32:19.112Z"
   },
   {
    "duration": 15,
    "start_time": "2021-06-27T17:32:19.139Z"
   },
   {
    "duration": 20,
    "start_time": "2021-06-27T17:32:19.184Z"
   },
   {
    "duration": 19,
    "start_time": "2021-06-27T17:32:19.207Z"
   },
   {
    "duration": 55,
    "start_time": "2021-06-27T17:32:19.228Z"
   },
   {
    "duration": 98,
    "start_time": "2021-06-27T17:32:19.285Z"
   },
   {
    "duration": 65,
    "start_time": "2021-06-27T17:32:19.385Z"
   },
   {
    "duration": 7,
    "start_time": "2021-06-27T17:32:19.452Z"
   },
   {
    "duration": 245,
    "start_time": "2021-06-27T17:32:19.462Z"
   },
   {
    "duration": 1216,
    "start_time": "2021-06-27T17:32:19.709Z"
   },
   {
    "duration": 33,
    "start_time": "2021-06-27T17:32:20.927Z"
   },
   {
    "duration": 44,
    "start_time": "2021-06-27T17:32:20.963Z"
   },
   {
    "duration": 32,
    "start_time": "2021-06-27T17:32:21.010Z"
   },
   {
    "duration": 1204,
    "start_time": "2021-06-27T17:32:21.044Z"
   },
   {
    "duration": 13,
    "start_time": "2021-06-27T17:32:22.251Z"
   },
   {
    "duration": 212,
    "start_time": "2021-06-27T17:32:22.266Z"
   },
   {
    "duration": 34,
    "start_time": "2021-06-27T17:32:22.480Z"
   },
   {
    "duration": 40,
    "start_time": "2021-06-27T17:32:22.519Z"
   },
   {
    "duration": 14,
    "start_time": "2021-06-27T17:32:22.584Z"
   },
   {
    "duration": 19,
    "start_time": "2021-06-27T17:32:22.600Z"
   },
   {
    "duration": 8,
    "start_time": "2021-06-27T17:32:22.621Z"
   },
   {
    "duration": 612,
    "start_time": "2021-06-27T17:32:22.632Z"
   },
   {
    "duration": 557,
    "start_time": "2021-06-27T17:32:23.246Z"
   },
   {
    "duration": 557,
    "start_time": "2021-06-27T17:32:23.806Z"
   },
   {
    "duration": 39,
    "start_time": "2021-06-27T17:32:24.366Z"
   },
   {
    "duration": 14,
    "start_time": "2021-06-27T17:32:24.408Z"
   },
   {
    "duration": 23,
    "start_time": "2021-06-27T17:32:24.425Z"
   },
   {
    "duration": 6,
    "start_time": "2021-06-27T17:32:24.484Z"
   },
   {
    "duration": 37,
    "start_time": "2021-06-27T17:32:24.493Z"
   },
   {
    "duration": 1468,
    "start_time": "2021-06-27T17:37:48.361Z"
   },
   {
    "duration": 490,
    "start_time": "2021-06-27T17:37:49.831Z"
   },
   {
    "duration": 38,
    "start_time": "2021-06-27T17:37:50.324Z"
   },
   {
    "duration": 39,
    "start_time": "2021-06-27T17:37:50.366Z"
   },
   {
    "duration": 25,
    "start_time": "2021-06-27T17:37:50.408Z"
   },
   {
    "duration": 16,
    "start_time": "2021-06-27T17:37:50.436Z"
   },
   {
    "duration": 20,
    "start_time": "2021-06-27T17:37:50.483Z"
   },
   {
    "duration": 18,
    "start_time": "2021-06-27T17:37:50.506Z"
   },
   {
    "duration": 23,
    "start_time": "2021-06-27T17:37:50.526Z"
   },
   {
    "duration": 120,
    "start_time": "2021-06-27T17:37:50.551Z"
   },
   {
    "duration": 69,
    "start_time": "2021-06-27T17:37:50.683Z"
   },
   {
    "duration": 8,
    "start_time": "2021-06-27T17:37:50.754Z"
   },
   {
    "duration": 253,
    "start_time": "2021-06-27T17:37:50.783Z"
   },
   {
    "duration": 1156,
    "start_time": "2021-06-27T17:37:51.038Z"
   },
   {
    "duration": 50,
    "start_time": "2021-06-27T17:37:52.197Z"
   },
   {
    "duration": 55,
    "start_time": "2021-06-27T17:37:52.250Z"
   },
   {
    "duration": 33,
    "start_time": "2021-06-27T17:37:52.308Z"
   },
   {
    "duration": 1170,
    "start_time": "2021-06-27T17:37:52.343Z"
   },
   {
    "duration": 11,
    "start_time": "2021-06-27T17:37:53.515Z"
   },
   {
    "duration": 217,
    "start_time": "2021-06-27T17:37:53.529Z"
   },
   {
    "duration": 43,
    "start_time": "2021-06-27T17:37:53.748Z"
   },
   {
    "duration": 39,
    "start_time": "2021-06-27T17:37:53.793Z"
   },
   {
    "duration": 2,
    "start_time": "2021-06-27T17:37:53.837Z"
   },
   {
    "duration": 45,
    "start_time": "2021-06-27T17:37:53.842Z"
   },
   {
    "duration": 20,
    "start_time": "2021-06-27T17:37:53.889Z"
   },
   {
    "duration": 9,
    "start_time": "2021-06-27T17:37:53.911Z"
   },
   {
    "duration": 574,
    "start_time": "2021-06-27T17:37:53.922Z"
   },
   {
    "duration": 553,
    "start_time": "2021-06-27T17:37:54.499Z"
   },
   {
    "duration": 590,
    "start_time": "2021-06-27T17:37:55.055Z"
   },
   {
    "duration": 42,
    "start_time": "2021-06-27T17:37:55.648Z"
   },
   {
    "duration": 16,
    "start_time": "2021-06-27T17:37:55.693Z"
   },
   {
    "duration": 24,
    "start_time": "2021-06-27T17:37:55.711Z"
   },
   {
    "duration": 46,
    "start_time": "2021-06-27T17:37:55.738Z"
   },
   {
    "duration": 35,
    "start_time": "2021-06-27T17:37:55.788Z"
   },
   {
    "duration": 421,
    "start_time": "2021-06-27T17:40:19.074Z"
   },
   {
    "duration": 77,
    "start_time": "2021-06-27T17:42:16.970Z"
   },
   {
    "duration": 392,
    "start_time": "2021-06-27T17:42:28.188Z"
   },
   {
    "duration": 121,
    "start_time": "2021-06-27T17:42:37.186Z"
   },
   {
    "duration": 1537,
    "start_time": "2021-06-27T17:42:53.183Z"
   },
   {
    "duration": 517,
    "start_time": "2021-06-27T17:42:54.723Z"
   },
   {
    "duration": 39,
    "start_time": "2021-06-27T17:42:55.243Z"
   },
   {
    "duration": 39,
    "start_time": "2021-06-27T17:42:55.285Z"
   },
   {
    "duration": 26,
    "start_time": "2021-06-27T17:42:55.326Z"
   },
   {
    "duration": 43,
    "start_time": "2021-06-27T17:42:55.354Z"
   },
   {
    "duration": 20,
    "start_time": "2021-06-27T17:42:55.399Z"
   },
   {
    "duration": 21,
    "start_time": "2021-06-27T17:42:55.423Z"
   },
   {
    "duration": 22,
    "start_time": "2021-06-27T17:42:55.485Z"
   },
   {
    "duration": 113,
    "start_time": "2021-06-27T17:42:55.510Z"
   },
   {
    "duration": 78,
    "start_time": "2021-06-27T17:42:55.625Z"
   },
   {
    "duration": 7,
    "start_time": "2021-06-27T17:42:55.706Z"
   },
   {
    "duration": 366,
    "start_time": "2021-06-27T17:42:55.716Z"
   },
   {
    "duration": 1249,
    "start_time": "2021-06-27T17:42:56.085Z"
   },
   {
    "duration": 51,
    "start_time": "2021-06-27T17:42:57.337Z"
   },
   {
    "duration": 28,
    "start_time": "2021-06-27T17:42:57.391Z"
   },
   {
    "duration": 33,
    "start_time": "2021-06-27T17:42:57.421Z"
   },
   {
    "duration": 1154,
    "start_time": "2021-06-27T17:42:57.484Z"
   },
   {
    "duration": 10,
    "start_time": "2021-06-27T17:42:58.640Z"
   },
   {
    "duration": 206,
    "start_time": "2021-06-27T17:42:58.653Z"
   },
   {
    "duration": 42,
    "start_time": "2021-06-27T17:42:58.862Z"
   },
   {
    "duration": 54,
    "start_time": "2021-06-27T17:42:58.907Z"
   },
   {
    "duration": 3,
    "start_time": "2021-06-27T17:42:58.986Z"
   },
   {
    "duration": 16,
    "start_time": "2021-06-27T17:42:58.992Z"
   },
   {
    "duration": 26,
    "start_time": "2021-06-27T17:42:59.010Z"
   },
   {
    "duration": 8,
    "start_time": "2021-06-27T17:42:59.038Z"
   },
   {
    "duration": 584,
    "start_time": "2021-06-27T17:42:59.049Z"
   },
   {
    "duration": 544,
    "start_time": "2021-06-27T17:42:59.635Z"
   },
   {
    "duration": 574,
    "start_time": "2021-06-27T17:43:00.183Z"
   },
   {
    "duration": 43,
    "start_time": "2021-06-27T17:43:00.759Z"
   },
   {
    "duration": 15,
    "start_time": "2021-06-27T17:43:00.804Z"
   },
   {
    "duration": 26,
    "start_time": "2021-06-27T17:43:00.821Z"
   },
   {
    "duration": 34,
    "start_time": "2021-06-27T17:43:00.849Z"
   },
   {
    "duration": 51,
    "start_time": "2021-06-27T17:43:00.886Z"
   },
   {
    "duration": 1453,
    "start_time": "2021-06-27T17:43:47.092Z"
   },
   {
    "duration": 524,
    "start_time": "2021-06-27T17:43:48.548Z"
   },
   {
    "duration": 39,
    "start_time": "2021-06-27T17:43:49.075Z"
   },
   {
    "duration": 39,
    "start_time": "2021-06-27T17:43:49.116Z"
   },
   {
    "duration": 26,
    "start_time": "2021-06-27T17:43:49.183Z"
   },
   {
    "duration": 17,
    "start_time": "2021-06-27T17:43:49.211Z"
   },
   {
    "duration": 53,
    "start_time": "2021-06-27T17:43:49.230Z"
   },
   {
    "duration": 17,
    "start_time": "2021-06-27T17:43:49.287Z"
   },
   {
    "duration": 21,
    "start_time": "2021-06-27T17:43:49.307Z"
   },
   {
    "duration": 124,
    "start_time": "2021-06-27T17:43:49.330Z"
   },
   {
    "duration": 79,
    "start_time": "2021-06-27T17:43:49.456Z"
   },
   {
    "duration": 7,
    "start_time": "2021-06-27T17:43:49.537Z"
   },
   {
    "duration": 280,
    "start_time": "2021-06-27T17:43:49.548Z"
   },
   {
    "duration": 1187,
    "start_time": "2021-06-27T17:43:49.831Z"
   },
   {
    "duration": 37,
    "start_time": "2021-06-27T17:43:51.021Z"
   },
   {
    "duration": 51,
    "start_time": "2021-06-27T17:43:51.061Z"
   },
   {
    "duration": 33,
    "start_time": "2021-06-27T17:43:51.115Z"
   },
   {
    "duration": 1211,
    "start_time": "2021-06-27T17:43:51.151Z"
   },
   {
    "duration": 22,
    "start_time": "2021-06-27T17:43:52.365Z"
   },
   {
    "duration": 220,
    "start_time": "2021-06-27T17:43:52.390Z"
   },
   {
    "duration": 35,
    "start_time": "2021-06-27T17:43:52.612Z"
   },
   {
    "duration": 69,
    "start_time": "2021-06-27T17:43:52.650Z"
   },
   {
    "duration": 3,
    "start_time": "2021-06-27T17:43:52.725Z"
   },
   {
    "duration": 17,
    "start_time": "2021-06-27T17:43:52.732Z"
   },
   {
    "duration": 20,
    "start_time": "2021-06-27T17:43:52.784Z"
   },
   {
    "duration": 6,
    "start_time": "2021-06-27T17:43:52.806Z"
   },
   {
    "duration": 600,
    "start_time": "2021-06-27T17:43:52.814Z"
   },
   {
    "duration": 558,
    "start_time": "2021-06-27T17:43:53.416Z"
   },
   {
    "duration": 562,
    "start_time": "2021-06-27T17:43:53.983Z"
   },
   {
    "duration": 42,
    "start_time": "2021-06-27T17:43:54.547Z"
   },
   {
    "duration": 14,
    "start_time": "2021-06-27T17:43:54.591Z"
   },
   {
    "duration": 29,
    "start_time": "2021-06-27T17:43:54.608Z"
   },
   {
    "duration": 6,
    "start_time": "2021-06-27T17:43:54.640Z"
   },
   {
    "duration": 36,
    "start_time": "2021-06-27T17:43:54.684Z"
   },
   {
    "duration": 1335,
    "start_time": "2021-06-27T17:46:59.135Z"
   },
   {
    "duration": 498,
    "start_time": "2021-06-27T17:47:00.473Z"
   },
   {
    "duration": 39,
    "start_time": "2021-06-27T17:47:00.974Z"
   },
   {
    "duration": 41,
    "start_time": "2021-06-27T17:47:01.016Z"
   },
   {
    "duration": 27,
    "start_time": "2021-06-27T17:47:01.083Z"
   },
   {
    "duration": 17,
    "start_time": "2021-06-27T17:47:01.112Z"
   },
   {
    "duration": 51,
    "start_time": "2021-06-27T17:47:01.132Z"
   },
   {
    "duration": 19,
    "start_time": "2021-06-27T17:47:01.189Z"
   },
   {
    "duration": 29,
    "start_time": "2021-06-27T17:47:01.212Z"
   },
   {
    "duration": 116,
    "start_time": "2021-06-27T17:47:01.243Z"
   },
   {
    "duration": 80,
    "start_time": "2021-06-27T17:47:01.361Z"
   },
   {
    "duration": 7,
    "start_time": "2021-06-27T17:47:01.444Z"
   },
   {
    "duration": 253,
    "start_time": "2021-06-27T17:47:01.453Z"
   },
   {
    "duration": 1177,
    "start_time": "2021-06-27T17:47:01.708Z"
   },
   {
    "duration": 35,
    "start_time": "2021-06-27T17:47:02.888Z"
   },
   {
    "duration": 58,
    "start_time": "2021-06-27T17:47:02.925Z"
   },
   {
    "duration": 38,
    "start_time": "2021-06-27T17:47:02.986Z"
   },
   {
    "duration": 1172,
    "start_time": "2021-06-27T17:47:03.026Z"
   },
   {
    "duration": 12,
    "start_time": "2021-06-27T17:47:04.200Z"
   },
   {
    "duration": 218,
    "start_time": "2021-06-27T17:47:04.214Z"
   },
   {
    "duration": 50,
    "start_time": "2021-06-27T17:47:04.435Z"
   },
   {
    "duration": 53,
    "start_time": "2021-06-27T17:47:04.488Z"
   },
   {
    "duration": 3,
    "start_time": "2021-06-27T17:47:04.546Z"
   },
   {
    "duration": 14,
    "start_time": "2021-06-27T17:47:04.584Z"
   },
   {
    "duration": 19,
    "start_time": "2021-06-27T17:47:04.600Z"
   },
   {
    "duration": 5,
    "start_time": "2021-06-27T17:47:04.621Z"
   },
   {
    "duration": 625,
    "start_time": "2021-06-27T17:47:04.628Z"
   },
   {
    "duration": 909,
    "start_time": "2021-06-27T17:47:05.256Z"
   },
   {
    "duration": 575,
    "start_time": "2021-06-27T17:47:06.167Z"
   },
   {
    "duration": 42,
    "start_time": "2021-06-27T17:47:06.744Z"
   },
   {
    "duration": 16,
    "start_time": "2021-06-27T17:47:06.788Z"
   },
   {
    "duration": 27,
    "start_time": "2021-06-27T17:47:06.807Z"
   },
   {
    "duration": 6,
    "start_time": "2021-06-27T17:47:06.836Z"
   },
   {
    "duration": 48,
    "start_time": "2021-06-27T17:47:06.884Z"
   },
   {
    "duration": 1453,
    "start_time": "2021-06-27T18:00:43.592Z"
   },
   {
    "duration": 507,
    "start_time": "2021-06-27T18:00:45.049Z"
   },
   {
    "duration": 40,
    "start_time": "2021-06-27T18:00:45.559Z"
   },
   {
    "duration": 37,
    "start_time": "2021-06-27T18:00:45.602Z"
   },
   {
    "duration": 50,
    "start_time": "2021-06-27T18:00:45.642Z"
   },
   {
    "duration": 16,
    "start_time": "2021-06-27T18:00:45.695Z"
   },
   {
    "duration": 23,
    "start_time": "2021-06-27T18:00:45.713Z"
   },
   {
    "duration": 57,
    "start_time": "2021-06-27T18:00:45.741Z"
   },
   {
    "duration": 24,
    "start_time": "2021-06-27T18:00:45.801Z"
   },
   {
    "duration": 125,
    "start_time": "2021-06-27T18:00:45.828Z"
   },
   {
    "duration": 80,
    "start_time": "2021-06-27T18:00:45.956Z"
   },
   {
    "duration": 8,
    "start_time": "2021-06-27T18:00:46.038Z"
   },
   {
    "duration": 248,
    "start_time": "2021-06-27T18:00:46.048Z"
   },
   {
    "duration": 2055,
    "start_time": "2021-06-27T18:00:46.299Z"
   },
   {
    "duration": 65,
    "start_time": "2021-06-27T18:00:48.357Z"
   },
   {
    "duration": 67,
    "start_time": "2021-06-27T18:00:48.425Z"
   },
   {
    "duration": 40,
    "start_time": "2021-06-27T18:00:48.495Z"
   },
   {
    "duration": 1429,
    "start_time": "2021-06-27T18:00:48.538Z"
   },
   {
    "duration": 19,
    "start_time": "2021-06-27T18:00:49.969Z"
   },
   {
    "duration": 216,
    "start_time": "2021-06-27T18:00:49.990Z"
   },
   {
    "duration": 38,
    "start_time": "2021-06-27T18:00:50.208Z"
   },
   {
    "duration": 92,
    "start_time": "2021-06-27T18:00:50.250Z"
   },
   {
    "duration": 11,
    "start_time": "2021-06-27T18:00:50.347Z"
   },
   {
    "duration": 43,
    "start_time": "2021-06-27T18:00:50.361Z"
   },
   {
    "duration": 25,
    "start_time": "2021-06-27T18:00:50.408Z"
   },
   {
    "duration": 13,
    "start_time": "2021-06-27T18:00:50.435Z"
   },
   {
    "duration": 703,
    "start_time": "2021-06-27T18:00:50.450Z"
   },
   {
    "duration": -29,
    "start_time": "2021-06-27T18:00:51.184Z"
   },
   {
    "duration": -63,
    "start_time": "2021-06-27T18:00:51.220Z"
   },
   {
    "duration": -77,
    "start_time": "2021-06-27T18:00:51.236Z"
   },
   {
    "duration": -84,
    "start_time": "2021-06-27T18:00:51.244Z"
   },
   {
    "duration": -92,
    "start_time": "2021-06-27T18:00:51.254Z"
   },
   {
    "duration": -95,
    "start_time": "2021-06-27T18:00:51.259Z"
   },
   {
    "duration": -101,
    "start_time": "2021-06-27T18:00:51.266Z"
   },
   {
    "duration": 7202,
    "start_time": "2021-06-27T18:01:58.921Z"
   },
   {
    "duration": 6701,
    "start_time": "2021-06-27T18:03:23.787Z"
   },
   {
    "duration": 275,
    "start_time": "2021-06-27T18:05:06.493Z"
   },
   {
    "duration": 498,
    "start_time": "2021-06-27T18:05:27.201Z"
   },
   {
    "duration": 280,
    "start_time": "2021-06-27T18:05:40.857Z"
   },
   {
    "duration": 15,
    "start_time": "2021-06-27T18:06:09.871Z"
   },
   {
    "duration": 17,
    "start_time": "2021-06-27T18:06:58.736Z"
   },
   {
    "duration": 25,
    "start_time": "2021-06-27T18:07:52.522Z"
   },
   {
    "duration": 1928,
    "start_time": "2021-06-27T18:08:12.700Z"
   },
   {
    "duration": 734,
    "start_time": "2021-06-27T18:08:14.632Z"
   },
   {
    "duration": 61,
    "start_time": "2021-06-27T18:08:15.370Z"
   },
   {
    "duration": 75,
    "start_time": "2021-06-27T18:08:15.435Z"
   },
   {
    "duration": 34,
    "start_time": "2021-06-27T18:08:15.513Z"
   },
   {
    "duration": 43,
    "start_time": "2021-06-27T18:08:15.550Z"
   },
   {
    "duration": 21,
    "start_time": "2021-06-27T18:08:15.596Z"
   },
   {
    "duration": 18,
    "start_time": "2021-06-27T18:08:15.621Z"
   },
   {
    "duration": 50,
    "start_time": "2021-06-27T18:08:15.641Z"
   },
   {
    "duration": 116,
    "start_time": "2021-06-27T18:08:15.694Z"
   },
   {
    "duration": 75,
    "start_time": "2021-06-27T18:08:15.812Z"
   },
   {
    "duration": 7,
    "start_time": "2021-06-27T18:08:15.889Z"
   },
   {
    "duration": 263,
    "start_time": "2021-06-27T18:08:15.898Z"
   },
   {
    "duration": 1424,
    "start_time": "2021-06-27T18:08:16.163Z"
   },
   {
    "duration": 93,
    "start_time": "2021-06-27T18:08:17.590Z"
   },
   {
    "duration": 30,
    "start_time": "2021-06-27T18:08:17.686Z"
   },
   {
    "duration": 85,
    "start_time": "2021-06-27T18:08:17.718Z"
   },
   {
    "duration": 1969,
    "start_time": "2021-06-27T18:08:17.805Z"
   },
   {
    "duration": 16,
    "start_time": "2021-06-27T18:08:19.784Z"
   },
   {
    "duration": 211,
    "start_time": "2021-06-27T18:08:19.802Z"
   },
   {
    "duration": 35,
    "start_time": "2021-06-27T18:08:20.015Z"
   },
   {
    "duration": 69,
    "start_time": "2021-06-27T18:08:20.052Z"
   },
   {
    "duration": 15,
    "start_time": "2021-06-27T18:08:20.126Z"
   },
   {
    "duration": 42,
    "start_time": "2021-06-27T18:08:20.144Z"
   },
   {
    "duration": 18,
    "start_time": "2021-06-27T18:08:20.189Z"
   },
   {
    "duration": 15,
    "start_time": "2021-06-27T18:08:20.209Z"
   },
   {
    "duration": 585,
    "start_time": "2021-06-27T18:08:20.226Z"
   },
   {
    "duration": 574,
    "start_time": "2021-06-27T18:08:20.814Z"
   },
   {
    "duration": 818,
    "start_time": "2021-06-27T18:08:21.390Z"
   },
   {
    "duration": 29,
    "start_time": "2021-06-27T18:08:22.211Z"
   },
   {
    "duration": 41,
    "start_time": "2021-06-27T18:08:22.242Z"
   },
   {
    "duration": 24,
    "start_time": "2021-06-27T18:08:22.286Z"
   },
   {
    "duration": 10,
    "start_time": "2021-06-27T18:08:22.313Z"
   },
   {
    "duration": 69,
    "start_time": "2021-06-27T18:08:22.326Z"
   },
   {
    "duration": 458,
    "start_time": "2021-06-27T18:13:02.121Z"
   },
   {
    "duration": 301,
    "start_time": "2021-06-27T18:13:38.395Z"
   },
   {
    "duration": 300,
    "start_time": "2021-06-27T18:28:03.812Z"
   },
   {
    "duration": 9,
    "start_time": "2021-06-27T18:28:27.756Z"
   },
   {
    "duration": 92,
    "start_time": "2021-06-27T18:29:44.846Z"
   },
   {
    "duration": 112,
    "start_time": "2021-06-27T18:29:53.248Z"
   },
   {
    "duration": 109,
    "start_time": "2021-06-27T18:31:11.487Z"
   },
   {
    "duration": 10,
    "start_time": "2021-06-27T18:32:14.328Z"
   },
   {
    "duration": 24,
    "start_time": "2021-06-27T18:32:22.218Z"
   },
   {
    "duration": 16,
    "start_time": "2021-06-27T18:32:34.260Z"
   },
   {
    "duration": 15,
    "start_time": "2021-06-27T18:33:18.086Z"
   },
   {
    "duration": 12,
    "start_time": "2021-06-27T18:33:32.665Z"
   },
   {
    "duration": 286,
    "start_time": "2021-06-27T18:34:30.944Z"
   },
   {
    "duration": 387,
    "start_time": "2021-06-27T18:35:06.515Z"
   },
   {
    "duration": 12,
    "start_time": "2021-06-27T18:35:11.868Z"
   },
   {
    "duration": 13,
    "start_time": "2021-06-27T18:35:56.412Z"
   },
   {
    "duration": 13,
    "start_time": "2021-06-27T18:38:10.044Z"
   },
   {
    "duration": 16,
    "start_time": "2021-06-27T18:38:15.834Z"
   },
   {
    "duration": 11,
    "start_time": "2021-06-27T18:38:35.292Z"
   },
   {
    "duration": 2681,
    "start_time": "2021-06-27T18:44:15.844Z"
   },
   {
    "duration": 53,
    "start_time": "2021-06-27T18:45:19.195Z"
   },
   {
    "duration": 53,
    "start_time": "2021-06-27T18:45:52.609Z"
   },
   {
    "duration": 12,
    "start_time": "2021-06-27T18:48:15.289Z"
   },
   {
    "duration": 13,
    "start_time": "2021-06-27T18:54:58.768Z"
   },
   {
    "duration": 745,
    "start_time": "2021-06-27T18:55:24.503Z"
   },
   {
    "duration": 15,
    "start_time": "2021-06-27T18:59:24.806Z"
   },
   {
    "duration": 13,
    "start_time": "2021-06-27T18:59:44.252Z"
   },
   {
    "duration": 11,
    "start_time": "2021-06-27T19:00:12.843Z"
   },
   {
    "duration": 14,
    "start_time": "2021-06-27T19:01:01.729Z"
   },
   {
    "duration": 14,
    "start_time": "2021-06-27T19:01:20.883Z"
   },
   {
    "duration": 318,
    "start_time": "2021-06-27T19:05:32.557Z"
   },
   {
    "duration": 383,
    "start_time": "2021-06-27T19:06:29.028Z"
   },
   {
    "duration": 11,
    "start_time": "2021-06-27T19:06:51.769Z"
   },
   {
    "duration": 26,
    "start_time": "2021-06-27T19:08:10.644Z"
   },
   {
    "duration": 18,
    "start_time": "2021-06-27T19:08:29.614Z"
   },
   {
    "duration": 19,
    "start_time": "2021-06-27T19:08:56.266Z"
   },
   {
    "duration": 21,
    "start_time": "2021-06-27T19:09:51.962Z"
   },
   {
    "duration": 19,
    "start_time": "2021-06-27T19:10:13.017Z"
   },
   {
    "duration": 21,
    "start_time": "2021-06-27T19:10:36.034Z"
   },
   {
    "duration": 5,
    "start_time": "2021-06-27T19:12:29.216Z"
   },
   {
    "duration": 6,
    "start_time": "2021-06-27T19:36:46.734Z"
   },
   {
    "duration": 1443,
    "start_time": "2021-06-27T19:37:44.446Z"
   },
   {
    "duration": 503,
    "start_time": "2021-06-27T19:37:45.892Z"
   },
   {
    "duration": 39,
    "start_time": "2021-06-27T19:37:46.398Z"
   },
   {
    "duration": 57,
    "start_time": "2021-06-27T19:37:46.440Z"
   },
   {
    "duration": 25,
    "start_time": "2021-06-27T19:37:46.500Z"
   },
   {
    "duration": 16,
    "start_time": "2021-06-27T19:37:46.528Z"
   },
   {
    "duration": 54,
    "start_time": "2021-06-27T19:37:46.546Z"
   },
   {
    "duration": 22,
    "start_time": "2021-06-27T19:37:46.604Z"
   },
   {
    "duration": 59,
    "start_time": "2021-06-27T19:37:46.630Z"
   },
   {
    "duration": 117,
    "start_time": "2021-06-27T19:37:46.692Z"
   },
   {
    "duration": 82,
    "start_time": "2021-06-27T19:37:46.812Z"
   },
   {
    "duration": 7,
    "start_time": "2021-06-27T19:37:46.896Z"
   },
   {
    "duration": 255,
    "start_time": "2021-06-27T19:37:46.905Z"
   },
   {
    "duration": 1285,
    "start_time": "2021-06-27T19:37:47.162Z"
   },
   {
    "duration": 53,
    "start_time": "2021-06-27T19:37:48.449Z"
   },
   {
    "duration": 29,
    "start_time": "2021-06-27T19:37:48.504Z"
   },
   {
    "duration": 54,
    "start_time": "2021-06-27T19:37:48.535Z"
   },
   {
    "duration": 1195,
    "start_time": "2021-06-27T19:37:48.592Z"
   },
   {
    "duration": 11,
    "start_time": "2021-06-27T19:37:49.790Z"
   },
   {
    "duration": 218,
    "start_time": "2021-06-27T19:37:49.804Z"
   },
   {
    "duration": 61,
    "start_time": "2021-06-27T19:37:50.025Z"
   },
   {
    "duration": 62,
    "start_time": "2021-06-27T19:37:50.089Z"
   },
   {
    "duration": 38,
    "start_time": "2021-06-27T19:37:50.158Z"
   },
   {
    "duration": 19,
    "start_time": "2021-06-27T19:37:50.200Z"
   },
   {
    "duration": 6,
    "start_time": "2021-06-27T19:37:50.221Z"
   },
   {
    "duration": 61,
    "start_time": "2021-06-27T19:37:50.229Z"
   },
   {
    "duration": 9,
    "start_time": "2021-06-27T19:37:50.293Z"
   },
   {
    "duration": 598,
    "start_time": "2021-06-27T19:37:50.304Z"
   },
   {
    "duration": 583,
    "start_time": "2021-06-27T19:37:50.905Z"
   },
   {
    "duration": 589,
    "start_time": "2021-06-27T19:37:51.490Z"
   },
   {
    "duration": 29,
    "start_time": "2021-06-27T19:37:52.081Z"
   },
   {
    "duration": 15,
    "start_time": "2021-06-27T19:37:52.112Z"
   },
   {
    "duration": 64,
    "start_time": "2021-06-27T19:37:52.129Z"
   },
   {
    "duration": 6,
    "start_time": "2021-06-27T19:37:52.196Z"
   },
   {
    "duration": 51,
    "start_time": "2021-06-27T19:37:52.204Z"
   },
   {
    "duration": 20,
    "start_time": "2021-06-27T19:41:10.853Z"
   },
   {
    "duration": 9,
    "start_time": "2021-06-27T19:44:43.784Z"
   },
   {
    "duration": 21,
    "start_time": "2021-06-27T19:45:15.523Z"
   },
   {
    "duration": 20,
    "start_time": "2021-06-27T19:45:32.417Z"
   },
   {
    "duration": 22,
    "start_time": "2021-06-27T19:46:50.648Z"
   },
   {
    "duration": 56,
    "start_time": "2021-06-27T19:48:10.188Z"
   },
   {
    "duration": 446,
    "start_time": "2021-06-27T19:50:00.676Z"
   },
   {
    "duration": 1161,
    "start_time": "2021-06-27T19:51:25.305Z"
   },
   {
    "duration": 21,
    "start_time": "2021-06-27T19:52:05.332Z"
   },
   {
    "duration": 1147,
    "start_time": "2021-06-27T19:52:20.912Z"
   },
   {
    "duration": 1402,
    "start_time": "2021-06-27T19:52:30.588Z"
   },
   {
    "duration": 488,
    "start_time": "2021-06-27T19:52:31.993Z"
   },
   {
    "duration": 40,
    "start_time": "2021-06-27T19:52:32.485Z"
   },
   {
    "duration": 61,
    "start_time": "2021-06-27T19:52:32.528Z"
   },
   {
    "duration": 25,
    "start_time": "2021-06-27T19:52:32.591Z"
   },
   {
    "duration": 15,
    "start_time": "2021-06-27T19:52:32.618Z"
   },
   {
    "duration": 57,
    "start_time": "2021-06-27T19:52:32.635Z"
   },
   {
    "duration": 17,
    "start_time": "2021-06-27T19:52:32.696Z"
   },
   {
    "duration": 22,
    "start_time": "2021-06-27T19:52:32.716Z"
   },
   {
    "duration": 120,
    "start_time": "2021-06-27T19:52:32.741Z"
   },
   {
    "duration": 75,
    "start_time": "2021-06-27T19:52:32.863Z"
   },
   {
    "duration": 7,
    "start_time": "2021-06-27T19:52:32.940Z"
   },
   {
    "duration": 248,
    "start_time": "2021-06-27T19:52:32.950Z"
   },
   {
    "duration": 1165,
    "start_time": "2021-06-27T19:52:33.200Z"
   },
   {
    "duration": 46,
    "start_time": "2021-06-27T19:52:34.369Z"
   },
   {
    "duration": 30,
    "start_time": "2021-06-27T19:52:34.418Z"
   },
   {
    "duration": 63,
    "start_time": "2021-06-27T19:52:34.451Z"
   },
   {
    "duration": 1174,
    "start_time": "2021-06-27T19:52:34.517Z"
   },
   {
    "duration": 11,
    "start_time": "2021-06-27T19:52:35.693Z"
   },
   {
    "duration": 219,
    "start_time": "2021-06-27T19:52:35.706Z"
   },
   {
    "duration": 35,
    "start_time": "2021-06-27T19:52:35.928Z"
   },
   {
    "duration": 67,
    "start_time": "2021-06-27T19:52:35.965Z"
   },
   {
    "duration": 7,
    "start_time": "2021-06-27T19:52:36.037Z"
   },
   {
    "duration": 49,
    "start_time": "2021-06-27T19:52:36.046Z"
   },
   {
    "duration": 24,
    "start_time": "2021-06-27T19:52:36.098Z"
   },
   {
    "duration": 19,
    "start_time": "2021-06-27T19:52:36.124Z"
   },
   {
    "duration": 12,
    "start_time": "2021-06-27T19:52:36.145Z"
   },
   {
    "duration": 583,
    "start_time": "2021-06-27T19:52:36.159Z"
   },
   {
    "duration": 881,
    "start_time": "2021-06-27T19:52:36.744Z"
   },
   {
    "duration": 608,
    "start_time": "2021-06-27T19:52:37.628Z"
   },
   {
    "duration": 45,
    "start_time": "2021-06-27T19:52:38.238Z"
   },
   {
    "duration": 14,
    "start_time": "2021-06-27T19:52:38.285Z"
   },
   {
    "duration": 24,
    "start_time": "2021-06-27T19:52:38.301Z"
   },
   {
    "duration": 7,
    "start_time": "2021-06-27T19:52:38.327Z"
   },
   {
    "duration": 74,
    "start_time": "2021-06-27T19:52:38.336Z"
   },
   {
    "duration": 24,
    "start_time": "2021-06-27T19:53:21.039Z"
   },
   {
    "duration": 51,
    "start_time": "2021-06-27T19:54:10.223Z"
   },
   {
    "duration": 621,
    "start_time": "2021-06-27T19:57:54.074Z"
   },
   {
    "duration": 18,
    "start_time": "2021-06-27T19:58:12.933Z"
   },
   {
    "duration": 22,
    "start_time": "2021-06-27T20:00:27.982Z"
   },
   {
    "duration": 1459,
    "start_time": "2021-06-27T20:00:38.670Z"
   },
   {
    "duration": 470,
    "start_time": "2021-06-27T20:00:40.132Z"
   },
   {
    "duration": 64,
    "start_time": "2021-06-27T20:00:40.605Z"
   },
   {
    "duration": 59,
    "start_time": "2021-06-27T20:00:40.676Z"
   },
   {
    "duration": 24,
    "start_time": "2021-06-27T20:00:40.737Z"
   },
   {
    "duration": 15,
    "start_time": "2021-06-27T20:00:40.784Z"
   },
   {
    "duration": 30,
    "start_time": "2021-06-27T20:00:40.802Z"
   },
   {
    "duration": 16,
    "start_time": "2021-06-27T20:00:40.835Z"
   },
   {
    "duration": 46,
    "start_time": "2021-06-27T20:00:40.854Z"
   },
   {
    "duration": 105,
    "start_time": "2021-06-27T20:00:40.902Z"
   },
   {
    "duration": 74,
    "start_time": "2021-06-27T20:00:41.010Z"
   },
   {
    "duration": 6,
    "start_time": "2021-06-27T20:00:41.087Z"
   },
   {
    "duration": 245,
    "start_time": "2021-06-27T20:00:41.096Z"
   },
   {
    "duration": 1177,
    "start_time": "2021-06-27T20:00:41.344Z"
   },
   {
    "duration": 38,
    "start_time": "2021-06-27T20:00:42.524Z"
   },
   {
    "duration": 32,
    "start_time": "2021-06-27T20:00:42.584Z"
   },
   {
    "duration": 67,
    "start_time": "2021-06-27T20:00:42.619Z"
   },
   {
    "duration": 1173,
    "start_time": "2021-06-27T20:00:42.689Z"
   },
   {
    "duration": 21,
    "start_time": "2021-06-27T20:00:43.864Z"
   },
   {
    "duration": 218,
    "start_time": "2021-06-27T20:00:43.888Z"
   },
   {
    "duration": 36,
    "start_time": "2021-06-27T20:00:44.108Z"
   },
   {
    "duration": 72,
    "start_time": "2021-06-27T20:00:44.147Z"
   },
   {
    "duration": 8,
    "start_time": "2021-06-27T20:00:44.225Z"
   },
   {
    "duration": 50,
    "start_time": "2021-06-27T20:00:44.236Z"
   },
   {
    "duration": 28,
    "start_time": "2021-06-27T20:00:44.289Z"
   },
   {
    "duration": 86,
    "start_time": "2021-06-27T20:00:44.320Z"
   },
   {
    "duration": 8,
    "start_time": "2021-06-27T20:00:44.409Z"
   },
   {
    "duration": 979,
    "start_time": "2021-06-27T20:00:44.420Z"
   },
   {
    "duration": 585,
    "start_time": "2021-06-27T20:00:45.401Z"
   },
   {
    "duration": 604,
    "start_time": "2021-06-27T20:00:45.988Z"
   },
   {
    "duration": 29,
    "start_time": "2021-06-27T20:00:46.594Z"
   },
   {
    "duration": 13,
    "start_time": "2021-06-27T20:00:46.625Z"
   },
   {
    "duration": 57,
    "start_time": "2021-06-27T20:00:46.641Z"
   },
   {
    "duration": 7,
    "start_time": "2021-06-27T20:00:46.701Z"
   },
   {
    "duration": 36,
    "start_time": "2021-06-27T20:00:46.710Z"
   },
   {
    "duration": 24,
    "start_time": "2021-06-27T20:01:05.543Z"
   },
   {
    "duration": 54,
    "start_time": "2021-06-27T20:01:17.906Z"
   },
   {
    "duration": 468,
    "start_time": "2021-06-27T20:04:25.897Z"
   },
   {
    "duration": 9,
    "start_time": "2021-06-27T20:06:08.698Z"
   },
   {
    "duration": 59,
    "start_time": "2021-06-27T20:06:53.197Z"
   },
   {
    "duration": 27,
    "start_time": "2021-06-27T20:07:10.758Z"
   },
   {
    "duration": 29,
    "start_time": "2021-06-27T20:07:47.484Z"
   },
   {
    "duration": 27,
    "start_time": "2021-06-27T20:26:08.120Z"
   },
   {
    "duration": 282,
    "start_time": "2021-06-27T20:27:09.869Z"
   },
   {
    "duration": 291,
    "start_time": "2021-06-27T20:27:54.455Z"
   },
   {
    "duration": 15,
    "start_time": "2021-06-27T20:28:36.208Z"
   },
   {
    "duration": 21,
    "start_time": "2021-06-27T20:29:09.738Z"
   },
   {
    "duration": 32,
    "start_time": "2021-06-27T20:38:29.234Z"
   },
   {
    "duration": 10,
    "start_time": "2021-06-27T20:38:56.404Z"
   },
   {
    "duration": 10,
    "start_time": "2021-06-27T20:39:16.539Z"
   },
   {
    "duration": 7,
    "start_time": "2021-06-27T20:41:25.562Z"
   },
   {
    "duration": 32,
    "start_time": "2021-06-27T20:41:43.545Z"
   },
   {
    "duration": 484,
    "start_time": "2021-06-27T20:45:11.954Z"
   },
   {
    "duration": 33,
    "start_time": "2021-06-27T20:45:22.619Z"
   },
   {
    "duration": 518,
    "start_time": "2021-06-27T20:47:50.206Z"
   },
   {
    "duration": 462,
    "start_time": "2021-06-27T20:48:06.586Z"
   },
   {
    "duration": 468,
    "start_time": "2021-06-27T20:51:44.956Z"
   },
   {
    "duration": 31,
    "start_time": "2021-06-27T20:55:40.390Z"
   },
   {
    "duration": 447,
    "start_time": "2021-06-27T20:56:42.864Z"
   },
   {
    "duration": 31,
    "start_time": "2021-06-27T20:56:49.856Z"
   },
   {
    "duration": 498,
    "start_time": "2021-06-27T20:59:57.917Z"
   },
   {
    "duration": 32,
    "start_time": "2021-06-27T21:04:08.452Z"
   },
   {
    "duration": 20,
    "start_time": "2021-06-27T21:06:35.304Z"
   },
   {
    "duration": 40,
    "start_time": "2021-06-27T21:06:48.334Z"
   },
   {
    "duration": 41,
    "start_time": "2021-06-27T21:07:01.843Z"
   },
   {
    "duration": 19,
    "start_time": "2021-06-27T21:07:38.286Z"
   },
   {
    "duration": 21,
    "start_time": "2021-06-27T21:07:43.014Z"
   },
   {
    "duration": 22,
    "start_time": "2021-06-27T21:07:55.535Z"
   },
   {
    "duration": 23,
    "start_time": "2021-06-27T21:08:08.181Z"
   },
   {
    "duration": 11,
    "start_time": "2021-06-27T21:09:11.664Z"
   },
   {
    "duration": 11,
    "start_time": "2021-06-27T21:10:39.861Z"
   },
   {
    "duration": 109,
    "start_time": "2021-06-27T21:14:18.856Z"
   },
   {
    "duration": 26,
    "start_time": "2021-06-27T21:14:36.361Z"
   },
   {
    "duration": 25,
    "start_time": "2021-06-27T21:14:51.436Z"
   },
   {
    "duration": 25,
    "start_time": "2021-06-27T21:23:41.264Z"
   },
   {
    "duration": 20,
    "start_time": "2021-06-27T21:25:53.157Z"
   },
   {
    "duration": 18,
    "start_time": "2021-06-27T21:26:07.027Z"
   },
   {
    "duration": 18,
    "start_time": "2021-06-27T21:26:31.651Z"
   },
   {
    "duration": 21,
    "start_time": "2021-06-27T21:30:39.659Z"
   },
   {
    "duration": 1548,
    "start_time": "2021-06-28T06:07:52.193Z"
   },
   {
    "duration": 581,
    "start_time": "2021-06-28T06:07:53.744Z"
   },
   {
    "duration": 41,
    "start_time": "2021-06-28T06:07:54.328Z"
   },
   {
    "duration": 43,
    "start_time": "2021-06-28T06:07:54.371Z"
   },
   {
    "duration": 50,
    "start_time": "2021-06-28T06:07:54.416Z"
   },
   {
    "duration": 16,
    "start_time": "2021-06-28T06:07:54.468Z"
   },
   {
    "duration": 19,
    "start_time": "2021-06-28T06:07:54.486Z"
   },
   {
    "duration": 54,
    "start_time": "2021-06-28T06:07:54.508Z"
   },
   {
    "duration": 25,
    "start_time": "2021-06-28T06:07:54.565Z"
   },
   {
    "duration": 116,
    "start_time": "2021-06-28T06:07:54.593Z"
   },
   {
    "duration": 78,
    "start_time": "2021-06-28T06:07:54.712Z"
   },
   {
    "duration": 7,
    "start_time": "2021-06-28T06:07:54.792Z"
   },
   {
    "duration": 262,
    "start_time": "2021-06-28T06:07:54.801Z"
   },
   {
    "duration": 1228,
    "start_time": "2021-06-28T06:07:55.065Z"
   },
   {
    "duration": 37,
    "start_time": "2021-06-28T06:07:56.296Z"
   },
   {
    "duration": 48,
    "start_time": "2021-06-28T06:07:56.335Z"
   },
   {
    "duration": 35,
    "start_time": "2021-06-28T06:07:56.385Z"
   },
   {
    "duration": 1224,
    "start_time": "2021-06-28T06:07:56.423Z"
   },
   {
    "duration": 14,
    "start_time": "2021-06-28T06:07:57.650Z"
   },
   {
    "duration": 228,
    "start_time": "2021-06-28T06:07:57.667Z"
   },
   {
    "duration": 37,
    "start_time": "2021-06-28T06:07:57.897Z"
   },
   {
    "duration": 399,
    "start_time": "2021-06-28T06:07:57.937Z"
   },
   {
    "duration": -96,
    "start_time": "2021-06-28T06:07:58.436Z"
   },
   {
    "duration": -101,
    "start_time": "2021-06-28T06:07:58.442Z"
   },
   {
    "duration": -106,
    "start_time": "2021-06-28T06:07:58.448Z"
   },
   {
    "duration": -109,
    "start_time": "2021-06-28T06:07:58.453Z"
   },
   {
    "duration": -114,
    "start_time": "2021-06-28T06:07:58.459Z"
   },
   {
    "duration": -117,
    "start_time": "2021-06-28T06:07:58.464Z"
   },
   {
    "duration": -123,
    "start_time": "2021-06-28T06:07:58.471Z"
   },
   {
    "duration": -127,
    "start_time": "2021-06-28T06:07:58.476Z"
   },
   {
    "duration": -134,
    "start_time": "2021-06-28T06:07:58.485Z"
   },
   {
    "duration": -139,
    "start_time": "2021-06-28T06:07:58.491Z"
   },
   {
    "duration": -142,
    "start_time": "2021-06-28T06:07:58.496Z"
   },
   {
    "duration": -147,
    "start_time": "2021-06-28T06:07:58.502Z"
   },
   {
    "duration": -150,
    "start_time": "2021-06-28T06:07:58.507Z"
   },
   {
    "duration": -153,
    "start_time": "2021-06-28T06:07:58.511Z"
   },
   {
    "duration": 284,
    "start_time": "2021-06-28T06:18:55.918Z"
   },
   {
    "duration": 437,
    "start_time": "2021-06-28T06:28:13.707Z"
   },
   {
    "duration": 8,
    "start_time": "2021-06-28T06:33:23.272Z"
   },
   {
    "duration": 180,
    "start_time": "2021-06-28T06:34:15.656Z"
   },
   {
    "duration": 67,
    "start_time": "2021-06-28T06:35:06.593Z"
   },
   {
    "duration": 429,
    "start_time": "2021-06-28T06:36:34.752Z"
   },
   {
    "duration": 308,
    "start_time": "2021-06-28T06:39:21.992Z"
   },
   {
    "duration": 326,
    "start_time": "2021-06-28T06:44:41.557Z"
   },
   {
    "duration": 50,
    "start_time": "2021-06-28T06:44:56.338Z"
   },
   {
    "duration": 101,
    "start_time": "2021-06-28T06:45:47.365Z"
   },
   {
    "duration": 273,
    "start_time": "2021-06-28T06:45:58.359Z"
   },
   {
    "duration": 94,
    "start_time": "2021-06-28T06:46:08.079Z"
   },
   {
    "duration": 15,
    "start_time": "2021-06-28T06:48:02.311Z"
   },
   {
    "duration": 15,
    "start_time": "2021-06-28T06:48:20.909Z"
   },
   {
    "duration": 101,
    "start_time": "2021-06-28T06:49:19.592Z"
   },
   {
    "duration": 41,
    "start_time": "2021-06-28T07:03:10.761Z"
   },
   {
    "duration": 30,
    "start_time": "2021-06-28T07:04:08.373Z"
   },
   {
    "duration": 279,
    "start_time": "2021-06-28T07:05:49.426Z"
   },
   {
    "duration": 466,
    "start_time": "2021-06-28T07:06:00.442Z"
   },
   {
    "duration": 277,
    "start_time": "2021-06-28T07:06:29.686Z"
   },
   {
    "duration": 592,
    "start_time": "2021-06-28T07:07:07.491Z"
   },
   {
    "duration": 458,
    "start_time": "2021-06-28T07:08:51.008Z"
   },
   {
    "duration": 439,
    "start_time": "2021-06-28T07:10:17.598Z"
   },
   {
    "duration": 638,
    "start_time": "2021-06-28T07:10:39.549Z"
   },
   {
    "duration": 896,
    "start_time": "2021-06-28T07:11:29.342Z"
   },
   {
    "duration": 427,
    "start_time": "2021-06-28T07:13:26.935Z"
   },
   {
    "duration": 438,
    "start_time": "2021-06-28T07:13:45.441Z"
   },
   {
    "duration": 452,
    "start_time": "2021-06-28T07:13:56.807Z"
   },
   {
    "duration": 478,
    "start_time": "2021-06-28T07:14:36.070Z"
   },
   {
    "duration": 465,
    "start_time": "2021-06-28T07:19:06.374Z"
   },
   {
    "duration": 446,
    "start_time": "2021-06-28T07:19:18.979Z"
   },
   {
    "duration": 278,
    "start_time": "2021-06-28T07:19:43.843Z"
   },
   {
    "duration": 432,
    "start_time": "2021-06-28T07:19:55.443Z"
   },
   {
    "duration": 449,
    "start_time": "2021-06-28T07:20:38.831Z"
   },
   {
    "duration": 325,
    "start_time": "2021-06-28T07:25:34.475Z"
   },
   {
    "duration": 258,
    "start_time": "2021-06-28T07:25:48.471Z"
   },
   {
    "duration": 34,
    "start_time": "2021-06-28T07:26:43.565Z"
   },
   {
    "duration": 480,
    "start_time": "2021-06-28T07:27:12.173Z"
   },
   {
    "duration": 101,
    "start_time": "2021-06-28T07:27:30.176Z"
   },
   {
    "duration": 457,
    "start_time": "2021-06-28T07:27:47.513Z"
   },
   {
    "duration": 438,
    "start_time": "2021-06-28T07:28:12.932Z"
   },
   {
    "duration": 464,
    "start_time": "2021-06-28T07:32:24.507Z"
   },
   {
    "duration": 267,
    "start_time": "2021-06-28T07:39:41.050Z"
   },
   {
    "duration": 34,
    "start_time": "2021-06-28T07:43:10.129Z"
   },
   {
    "duration": 517,
    "start_time": "2021-06-28T07:55:52.076Z"
   },
   {
    "duration": 464,
    "start_time": "2021-06-28T07:56:37.394Z"
   },
   {
    "duration": 422,
    "start_time": "2021-06-28T07:57:12.705Z"
   },
   {
    "duration": 452,
    "start_time": "2021-06-28T07:57:54.762Z"
   },
   {
    "duration": 446,
    "start_time": "2021-06-28T07:58:09.266Z"
   },
   {
    "duration": 478,
    "start_time": "2021-06-28T07:58:25.680Z"
   },
   {
    "duration": 690,
    "start_time": "2021-06-28T07:58:57.515Z"
   },
   {
    "duration": 426,
    "start_time": "2021-06-28T07:59:05.046Z"
   },
   {
    "duration": 437,
    "start_time": "2021-06-28T08:00:39.009Z"
   },
   {
    "duration": 443,
    "start_time": "2021-06-28T08:01:04.677Z"
   },
   {
    "duration": 96,
    "start_time": "2021-06-28T08:09:13.988Z"
   },
   {
    "duration": 84,
    "start_time": "2021-06-28T08:09:41.293Z"
   },
   {
    "duration": 92,
    "start_time": "2021-06-28T08:10:26.476Z"
   },
   {
    "duration": 89,
    "start_time": "2021-06-28T08:10:41.988Z"
   },
   {
    "duration": 311,
    "start_time": "2021-06-28T08:10:47.089Z"
   },
   {
    "duration": 439,
    "start_time": "2021-06-28T08:11:33.682Z"
   },
   {
    "duration": 500,
    "start_time": "2021-06-28T08:12:21.131Z"
   },
   {
    "duration": 455,
    "start_time": "2021-06-28T08:13:24.744Z"
   },
   {
    "duration": 281,
    "start_time": "2021-06-28T08:14:01.744Z"
   },
   {
    "duration": 426,
    "start_time": "2021-06-28T08:14:06.840Z"
   },
   {
    "duration": 458,
    "start_time": "2021-06-28T08:14:49.779Z"
   },
   {
    "duration": 888,
    "start_time": "2021-06-28T08:20:10.189Z"
   },
   {
    "duration": 434,
    "start_time": "2021-06-28T08:20:23.280Z"
   },
   {
    "duration": 465,
    "start_time": "2021-06-28T08:21:41.527Z"
   },
   {
    "duration": 430,
    "start_time": "2021-06-28T08:22:09.062Z"
   },
   {
    "duration": 451,
    "start_time": "2021-06-28T08:23:48.567Z"
   },
   {
    "duration": 447,
    "start_time": "2021-06-28T08:25:03.553Z"
   },
   {
    "duration": 418,
    "start_time": "2021-06-28T08:26:55.770Z"
   },
   {
    "duration": 451,
    "start_time": "2021-06-28T08:27:26.006Z"
   },
   {
    "duration": 469,
    "start_time": "2021-06-28T08:28:32.896Z"
   },
   {
    "duration": 440,
    "start_time": "2021-06-28T08:30:08.954Z"
   },
   {
    "duration": 457,
    "start_time": "2021-06-28T08:30:34.405Z"
   },
   {
    "duration": 466,
    "start_time": "2021-06-28T08:36:54.946Z"
   },
   {
    "duration": 46,
    "start_time": "2021-06-28T08:46:04.426Z"
   },
   {
    "duration": 46,
    "start_time": "2021-06-28T08:46:57.380Z"
   },
   {
    "duration": 456,
    "start_time": "2021-06-28T08:48:35.178Z"
   },
   {
    "duration": 461,
    "start_time": "2021-06-28T08:49:04.246Z"
   },
   {
    "duration": 1459,
    "start_time": "2021-06-28T08:49:34.155Z"
   },
   {
    "duration": 2063,
    "start_time": "2021-06-28T08:49:35.617Z"
   },
   {
    "duration": 40,
    "start_time": "2021-06-28T08:49:37.683Z"
   },
   {
    "duration": 46,
    "start_time": "2021-06-28T08:49:37.726Z"
   },
   {
    "duration": 27,
    "start_time": "2021-06-28T08:49:37.776Z"
   },
   {
    "duration": 19,
    "start_time": "2021-06-28T08:49:37.806Z"
   },
   {
    "duration": 19,
    "start_time": "2021-06-28T08:49:37.857Z"
   },
   {
    "duration": 20,
    "start_time": "2021-06-28T08:49:37.882Z"
   },
   {
    "duration": 60,
    "start_time": "2021-06-28T08:49:37.906Z"
   },
   {
    "duration": 106,
    "start_time": "2021-06-28T08:49:37.968Z"
   },
   {
    "duration": 67,
    "start_time": "2021-06-28T08:49:38.076Z"
   },
   {
    "duration": 6,
    "start_time": "2021-06-28T08:49:38.155Z"
   },
   {
    "duration": 235,
    "start_time": "2021-06-28T08:49:38.163Z"
   },
   {
    "duration": 1167,
    "start_time": "2021-06-28T08:49:38.400Z"
   },
   {
    "duration": 36,
    "start_time": "2021-06-28T08:49:39.570Z"
   },
   {
    "duration": 58,
    "start_time": "2021-06-28T08:49:39.608Z"
   },
   {
    "duration": 33,
    "start_time": "2021-06-28T08:49:39.668Z"
   },
   {
    "duration": 1214,
    "start_time": "2021-06-28T08:49:39.703Z"
   },
   {
    "duration": 11,
    "start_time": "2021-06-28T08:49:40.919Z"
   },
   {
    "duration": 242,
    "start_time": "2021-06-28T08:49:40.933Z"
   },
   {
    "duration": 824,
    "start_time": "2021-06-28T08:49:41.178Z"
   },
   {
    "duration": 54,
    "start_time": "2021-06-28T08:49:42.005Z"
   },
   {
    "duration": 48,
    "start_time": "2021-06-28T08:49:42.064Z"
   },
   {
    "duration": 7,
    "start_time": "2021-06-28T08:49:42.115Z"
   },
   {
    "duration": 46,
    "start_time": "2021-06-28T08:49:42.124Z"
   },
   {
    "duration": 20,
    "start_time": "2021-06-28T08:49:42.173Z"
   },
   {
    "duration": 19,
    "start_time": "2021-06-28T08:49:42.195Z"
   },
   {
    "duration": 41,
    "start_time": "2021-06-28T08:49:42.216Z"
   },
   {
    "duration": 564,
    "start_time": "2021-06-28T08:49:42.259Z"
   },
   {
    "duration": 566,
    "start_time": "2021-06-28T08:49:42.826Z"
   },
   {
    "duration": 666,
    "start_time": "2021-06-28T08:49:43.395Z"
   },
   {
    "duration": 28,
    "start_time": "2021-06-28T08:49:44.064Z"
   },
   {
    "duration": 14,
    "start_time": "2021-06-28T08:49:44.094Z"
   },
   {
    "duration": 54,
    "start_time": "2021-06-28T08:49:44.111Z"
   },
   {
    "duration": 7,
    "start_time": "2021-06-28T08:49:44.167Z"
   },
   {
    "duration": 33,
    "start_time": "2021-06-28T08:49:44.176Z"
   },
   {
    "duration": 1449,
    "start_time": "2021-06-28T08:54:03.781Z"
   },
   {
    "duration": 544,
    "start_time": "2021-06-28T08:54:05.233Z"
   },
   {
    "duration": 40,
    "start_time": "2021-06-28T08:54:05.781Z"
   },
   {
    "duration": 51,
    "start_time": "2021-06-28T08:54:05.824Z"
   },
   {
    "duration": 26,
    "start_time": "2021-06-28T08:54:05.878Z"
   },
   {
    "duration": 15,
    "start_time": "2021-06-28T08:54:05.907Z"
   },
   {
    "duration": 19,
    "start_time": "2021-06-28T08:54:05.956Z"
   },
   {
    "duration": 17,
    "start_time": "2021-06-28T08:54:05.979Z"
   },
   {
    "duration": 20,
    "start_time": "2021-06-28T08:54:05.998Z"
   },
   {
    "duration": 139,
    "start_time": "2021-06-28T08:54:06.020Z"
   },
   {
    "duration": 67,
    "start_time": "2021-06-28T08:54:06.161Z"
   },
   {
    "duration": 7,
    "start_time": "2021-06-28T08:54:06.230Z"
   },
   {
    "duration": 272,
    "start_time": "2021-06-28T08:54:06.239Z"
   },
   {
    "duration": 1220,
    "start_time": "2021-06-28T08:54:06.513Z"
   },
   {
    "duration": 47,
    "start_time": "2021-06-28T08:54:07.735Z"
   },
   {
    "duration": 34,
    "start_time": "2021-06-28T08:54:07.785Z"
   },
   {
    "duration": 57,
    "start_time": "2021-06-28T08:54:07.822Z"
   },
   {
    "duration": 1277,
    "start_time": "2021-06-28T08:54:07.881Z"
   },
   {
    "duration": 10,
    "start_time": "2021-06-28T08:54:09.160Z"
   },
   {
    "duration": 216,
    "start_time": "2021-06-28T08:54:09.172Z"
   },
   {
    "duration": 428,
    "start_time": "2021-06-28T08:54:09.390Z"
   },
   {
    "duration": 59,
    "start_time": "2021-06-28T08:54:09.821Z"
   },
   {
    "duration": 48,
    "start_time": "2021-06-28T08:54:09.885Z"
   },
   {
    "duration": 8,
    "start_time": "2021-06-28T08:54:09.956Z"
   },
   {
    "duration": 20,
    "start_time": "2021-06-28T08:54:09.966Z"
   },
   {
    "duration": 18,
    "start_time": "2021-06-28T08:54:09.988Z"
   },
   {
    "duration": 15,
    "start_time": "2021-06-28T08:54:10.008Z"
   },
   {
    "duration": 699,
    "start_time": "2021-06-28T08:54:10.025Z"
   },
   {
    "duration": 575,
    "start_time": "2021-06-28T08:54:10.727Z"
   },
   {
    "duration": 568,
    "start_time": "2021-06-28T08:54:11.305Z"
   },
   {
    "duration": 29,
    "start_time": "2021-06-28T08:54:11.875Z"
   },
   {
    "duration": 13,
    "start_time": "2021-06-28T08:54:11.906Z"
   },
   {
    "duration": 56,
    "start_time": "2021-06-28T08:54:11.921Z"
   },
   {
    "duration": 6,
    "start_time": "2021-06-28T08:54:11.979Z"
   },
   {
    "duration": 32,
    "start_time": "2021-06-28T08:54:11.988Z"
   },
   {
    "duration": 17,
    "start_time": "2021-06-28T08:54:41.229Z"
   },
   {
    "duration": 6,
    "start_time": "2021-06-28T08:57:30.822Z"
   },
   {
    "duration": 1360,
    "start_time": "2021-06-28T08:59:20.496Z"
   },
   {
    "duration": 653,
    "start_time": "2021-06-28T08:59:21.858Z"
   },
   {
    "duration": 39,
    "start_time": "2021-06-28T08:59:22.514Z"
   },
   {
    "duration": 41,
    "start_time": "2021-06-28T08:59:22.555Z"
   },
   {
    "duration": 24,
    "start_time": "2021-06-28T08:59:22.599Z"
   },
   {
    "duration": 41,
    "start_time": "2021-06-28T08:59:22.625Z"
   },
   {
    "duration": 20,
    "start_time": "2021-06-28T08:59:22.668Z"
   },
   {
    "duration": 17,
    "start_time": "2021-06-28T08:59:22.692Z"
   },
   {
    "duration": 57,
    "start_time": "2021-06-28T08:59:22.711Z"
   },
   {
    "duration": 117,
    "start_time": "2021-06-28T08:59:22.771Z"
   },
   {
    "duration": 76,
    "start_time": "2021-06-28T08:59:22.891Z"
   },
   {
    "duration": 7,
    "start_time": "2021-06-28T08:59:22.969Z"
   },
   {
    "duration": 243,
    "start_time": "2021-06-28T08:59:22.978Z"
   },
   {
    "duration": 1169,
    "start_time": "2021-06-28T08:59:23.223Z"
   },
   {
    "duration": 35,
    "start_time": "2021-06-28T08:59:24.395Z"
   },
   {
    "duration": 52,
    "start_time": "2021-06-28T08:59:24.432Z"
   },
   {
    "duration": 32,
    "start_time": "2021-06-28T08:59:24.487Z"
   },
   {
    "duration": 1184,
    "start_time": "2021-06-28T08:59:24.522Z"
   },
   {
    "duration": 15,
    "start_time": "2021-06-28T08:59:25.710Z"
   },
   {
    "duration": 221,
    "start_time": "2021-06-28T08:59:25.728Z"
   },
   {
    "duration": 416,
    "start_time": "2021-06-28T08:59:25.952Z"
   },
   {
    "duration": 44,
    "start_time": "2021-06-28T08:59:26.371Z"
   },
   {
    "duration": 76,
    "start_time": "2021-06-28T08:59:26.422Z"
   },
   {
    "duration": 18,
    "start_time": "2021-06-28T08:59:26.502Z"
   },
   {
    "duration": 50,
    "start_time": "2021-06-28T08:59:26.523Z"
   },
   {
    "duration": 18,
    "start_time": "2021-06-28T08:59:26.576Z"
   },
   {
    "duration": 8,
    "start_time": "2021-06-28T08:59:26.597Z"
   },
   {
    "duration": 10,
    "start_time": "2021-06-28T08:59:26.607Z"
   },
   {
    "duration": 597,
    "start_time": "2021-06-28T08:59:26.619Z"
   },
   {
    "duration": 573,
    "start_time": "2021-06-28T08:59:27.219Z"
   },
   {
    "duration": 1319,
    "start_time": "2021-06-28T08:59:27.795Z"
   },
   {
    "duration": 41,
    "start_time": "2021-06-28T08:59:29.116Z"
   },
   {
    "duration": 14,
    "start_time": "2021-06-28T08:59:29.160Z"
   },
   {
    "duration": 24,
    "start_time": "2021-06-28T08:59:29.177Z"
   },
   {
    "duration": 6,
    "start_time": "2021-06-28T08:59:29.204Z"
   },
   {
    "duration": 70,
    "start_time": "2021-06-28T08:59:29.213Z"
   },
   {
    "duration": 19,
    "start_time": "2021-06-28T09:07:31.754Z"
   },
   {
    "duration": 428,
    "start_time": "2021-06-28T09:08:41.519Z"
   },
   {
    "duration": 1447,
    "start_time": "2021-06-28T09:08:50.654Z"
   },
   {
    "duration": 567,
    "start_time": "2021-06-28T09:08:52.103Z"
   },
   {
    "duration": 41,
    "start_time": "2021-06-28T09:08:52.673Z"
   },
   {
    "duration": 58,
    "start_time": "2021-06-28T09:08:52.718Z"
   },
   {
    "duration": 29,
    "start_time": "2021-06-28T09:08:52.778Z"
   },
   {
    "duration": 17,
    "start_time": "2021-06-28T09:08:52.810Z"
   },
   {
    "duration": 20,
    "start_time": "2021-06-28T09:08:52.857Z"
   },
   {
    "duration": 18,
    "start_time": "2021-06-28T09:08:52.881Z"
   },
   {
    "duration": 58,
    "start_time": "2021-06-28T09:08:52.902Z"
   },
   {
    "duration": 107,
    "start_time": "2021-06-28T09:08:52.962Z"
   },
   {
    "duration": 69,
    "start_time": "2021-06-28T09:08:53.072Z"
   },
   {
    "duration": 15,
    "start_time": "2021-06-28T09:08:53.143Z"
   },
   {
    "duration": 261,
    "start_time": "2021-06-28T09:08:53.161Z"
   },
   {
    "duration": 1907,
    "start_time": "2021-06-28T09:08:53.425Z"
   },
   {
    "duration": 52,
    "start_time": "2021-06-28T09:08:55.335Z"
   },
   {
    "duration": 34,
    "start_time": "2021-06-28T09:08:55.390Z"
   },
   {
    "duration": 60,
    "start_time": "2021-06-28T09:08:55.427Z"
   },
   {
    "duration": 1204,
    "start_time": "2021-06-28T09:08:55.490Z"
   },
   {
    "duration": 10,
    "start_time": "2021-06-28T09:08:56.697Z"
   },
   {
    "duration": 211,
    "start_time": "2021-06-28T09:08:56.709Z"
   },
   {
    "duration": 463,
    "start_time": "2021-06-28T09:08:56.923Z"
   },
   {
    "duration": 45,
    "start_time": "2021-06-28T09:08:57.388Z"
   },
   {
    "duration": 48,
    "start_time": "2021-06-28T09:08:57.457Z"
   },
   {
    "duration": 15,
    "start_time": "2021-06-28T09:08:57.508Z"
   },
   {
    "duration": 45,
    "start_time": "2021-06-28T09:08:57.526Z"
   },
   {
    "duration": 18,
    "start_time": "2021-06-28T09:08:57.573Z"
   },
   {
    "duration": 6,
    "start_time": "2021-06-28T09:08:57.594Z"
   },
   {
    "duration": 54,
    "start_time": "2021-06-28T09:08:57.603Z"
   },
   {
    "duration": 553,
    "start_time": "2021-06-28T09:08:57.660Z"
   },
   {
    "duration": 566,
    "start_time": "2021-06-28T09:08:58.216Z"
   },
   {
    "duration": 560,
    "start_time": "2021-06-28T09:08:58.784Z"
   },
   {
    "duration": 34,
    "start_time": "2021-06-28T09:08:59.346Z"
   },
   {
    "duration": 13,
    "start_time": "2021-06-28T09:08:59.382Z"
   },
   {
    "duration": 424,
    "start_time": "2021-06-28T09:08:59.397Z"
   },
   {
    "duration": -137,
    "start_time": "2021-06-28T09:08:59.960Z"
   },
   {
    "duration": -142,
    "start_time": "2021-06-28T09:08:59.967Z"
   },
   {
    "duration": 95,
    "start_time": "2021-06-28T09:32:34.830Z"
   },
   {
    "duration": 599,
    "start_time": "2021-06-28T09:32:40.502Z"
   },
   {
    "duration": 641,
    "start_time": "2021-06-28T09:33:16.584Z"
   },
   {
    "duration": 665,
    "start_time": "2021-06-28T09:33:35.337Z"
   },
   {
    "duration": 595,
    "start_time": "2021-06-28T09:34:25.977Z"
   },
   {
    "duration": 612,
    "start_time": "2021-06-28T09:36:05.177Z"
   },
   {
    "duration": 678,
    "start_time": "2021-06-28T09:38:34.172Z"
   },
   {
    "duration": 598,
    "start_time": "2021-06-28T09:38:46.560Z"
   },
   {
    "duration": 618,
    "start_time": "2021-06-28T09:41:25.245Z"
   },
   {
    "duration": 631,
    "start_time": "2021-06-28T09:42:45.868Z"
   },
   {
    "duration": 636,
    "start_time": "2021-06-28T09:43:25.250Z"
   },
   {
    "duration": 554,
    "start_time": "2021-06-28T09:49:53.985Z"
   },
   {
    "duration": 560,
    "start_time": "2021-06-28T09:50:27.191Z"
   },
   {
    "duration": 558,
    "start_time": "2021-06-28T09:50:57.218Z"
   },
   {
    "duration": 360,
    "start_time": "2021-06-28T09:52:09.887Z"
   },
   {
    "duration": 319,
    "start_time": "2021-06-28T09:52:59.441Z"
   },
   {
    "duration": 11,
    "start_time": "2021-06-28T09:53:13.530Z"
   },
   {
    "duration": 525,
    "start_time": "2021-06-28T09:54:48.048Z"
   },
   {
    "duration": 488,
    "start_time": "2021-06-28T09:55:11.421Z"
   },
   {
    "duration": 639,
    "start_time": "2021-06-28T09:55:31.986Z"
   },
   {
    "duration": 832,
    "start_time": "2021-06-28T10:05:26.410Z"
   },
   {
    "duration": 572,
    "start_time": "2021-06-28T10:05:48.253Z"
   },
   {
    "duration": 95,
    "start_time": "2021-06-28T10:08:52.582Z"
   },
   {
    "duration": 594,
    "start_time": "2021-06-28T10:09:03.048Z"
   },
   {
    "duration": 620,
    "start_time": "2021-06-28T10:09:22.107Z"
   },
   {
    "duration": 562,
    "start_time": "2021-06-28T10:10:01.856Z"
   },
   {
    "duration": 1130,
    "start_time": "2021-06-28T10:10:59.418Z"
   },
   {
    "duration": 934,
    "start_time": "2021-06-28T10:11:24.233Z"
   },
   {
    "duration": 795,
    "start_time": "2021-06-28T10:13:23.127Z"
   },
   {
    "duration": 690,
    "start_time": "2021-06-28T10:13:53.841Z"
   },
   {
    "duration": 581,
    "start_time": "2021-06-28T10:14:33.542Z"
   },
   {
    "duration": 590,
    "start_time": "2021-06-28T10:15:03.654Z"
   },
   {
    "duration": 581,
    "start_time": "2021-06-28T10:15:30.877Z"
   },
   {
    "duration": 5,
    "start_time": "2021-06-28T10:18:39.039Z"
   },
   {
    "duration": 453,
    "start_time": "2021-06-28T10:19:07.417Z"
   },
   {
    "duration": 562,
    "start_time": "2021-06-28T10:20:15.216Z"
   },
   {
    "duration": 6,
    "start_time": "2021-06-28T10:21:59.626Z"
   },
   {
    "duration": 551,
    "start_time": "2021-06-28T10:22:16.593Z"
   },
   {
    "duration": 688,
    "start_time": "2021-06-28T10:22:31.968Z"
   },
   {
    "duration": 542,
    "start_time": "2021-06-28T10:23:01.414Z"
   },
   {
    "duration": 537,
    "start_time": "2021-06-28T10:23:34.244Z"
   },
   {
    "duration": 93,
    "start_time": "2021-06-28T10:26:33.036Z"
   },
   {
    "duration": 6,
    "start_time": "2021-06-28T10:26:41.082Z"
   },
   {
    "duration": 635,
    "start_time": "2021-06-28T10:26:52.282Z"
   },
   {
    "duration": 6,
    "start_time": "2021-06-28T10:27:42.344Z"
   },
   {
    "duration": 576,
    "start_time": "2021-06-28T10:27:46.422Z"
   },
   {
    "duration": 7,
    "start_time": "2021-06-28T10:28:31.922Z"
   },
   {
    "duration": 720,
    "start_time": "2021-06-28T10:29:35.082Z"
   },
   {
    "duration": 251,
    "start_time": "2021-06-28T10:31:17.570Z"
   },
   {
    "duration": 6,
    "start_time": "2021-06-28T10:31:28.396Z"
   },
   {
    "duration": 592,
    "start_time": "2021-06-28T10:31:31.546Z"
   },
   {
    "duration": 6,
    "start_time": "2021-06-28T10:32:35.103Z"
   },
   {
    "duration": 555,
    "start_time": "2021-06-28T10:32:39.018Z"
   },
   {
    "duration": 6,
    "start_time": "2021-06-28T10:33:54.252Z"
   },
   {
    "duration": 867,
    "start_time": "2021-06-28T10:33:57.565Z"
   },
   {
    "duration": 7,
    "start_time": "2021-06-28T10:34:13.799Z"
   },
   {
    "duration": 716,
    "start_time": "2021-06-28T10:34:17.293Z"
   },
   {
    "duration": 585,
    "start_time": "2021-06-28T10:35:23.555Z"
   },
   {
    "duration": 591,
    "start_time": "2021-06-28T10:36:02.195Z"
   },
   {
    "duration": 2009,
    "start_time": "2021-06-28T10:39:49.567Z"
   },
   {
    "duration": 7,
    "start_time": "2021-06-28T10:44:59.095Z"
   },
   {
    "duration": 630,
    "start_time": "2021-06-28T10:45:02.580Z"
   },
   {
    "duration": 7,
    "start_time": "2021-06-28T10:46:39.524Z"
   },
   {
    "duration": 618,
    "start_time": "2021-06-28T10:46:43.770Z"
   },
   {
    "duration": 7,
    "start_time": "2021-06-28T10:48:08.421Z"
   },
   {
    "duration": 626,
    "start_time": "2021-06-28T10:48:16.313Z"
   },
   {
    "duration": 7,
    "start_time": "2021-06-28T10:53:12.677Z"
   },
   {
    "duration": 615,
    "start_time": "2021-06-28T10:53:15.804Z"
   },
   {
    "duration": 1472,
    "start_time": "2021-06-28T10:56:03.585Z"
   },
   {
    "duration": 594,
    "start_time": "2021-06-28T10:56:05.060Z"
   },
   {
    "duration": 45,
    "start_time": "2021-06-28T10:56:05.657Z"
   },
   {
    "duration": 69,
    "start_time": "2021-06-28T10:56:05.704Z"
   },
   {
    "duration": 25,
    "start_time": "2021-06-28T10:56:05.775Z"
   },
   {
    "duration": 18,
    "start_time": "2021-06-28T10:56:05.802Z"
   },
   {
    "duration": 57,
    "start_time": "2021-06-28T10:56:05.824Z"
   },
   {
    "duration": 18,
    "start_time": "2021-06-28T10:56:05.885Z"
   },
   {
    "duration": 59,
    "start_time": "2021-06-28T10:56:05.906Z"
   },
   {
    "duration": 112,
    "start_time": "2021-06-28T10:56:05.968Z"
   },
   {
    "duration": 80,
    "start_time": "2021-06-28T10:56:06.082Z"
   },
   {
    "duration": 9,
    "start_time": "2021-06-28T10:56:06.166Z"
   },
   {
    "duration": 261,
    "start_time": "2021-06-28T10:56:06.177Z"
   },
   {
    "duration": 1289,
    "start_time": "2021-06-28T10:56:06.441Z"
   },
   {
    "duration": 51,
    "start_time": "2021-06-28T10:56:07.733Z"
   },
   {
    "duration": 31,
    "start_time": "2021-06-28T10:56:07.786Z"
   },
   {
    "duration": 66,
    "start_time": "2021-06-28T10:56:07.819Z"
   },
   {
    "duration": 1234,
    "start_time": "2021-06-28T10:56:07.887Z"
   },
   {
    "duration": 11,
    "start_time": "2021-06-28T10:56:09.123Z"
   },
   {
    "duration": 244,
    "start_time": "2021-06-28T10:56:09.137Z"
   },
   {
    "duration": 436,
    "start_time": "2021-06-28T10:56:09.383Z"
   },
   {
    "duration": 68,
    "start_time": "2021-06-28T10:56:09.822Z"
   },
   {
    "duration": 45,
    "start_time": "2021-06-28T10:56:09.894Z"
   },
   {
    "duration": 21,
    "start_time": "2021-06-28T10:56:09.956Z"
   },
   {
    "duration": 20,
    "start_time": "2021-06-28T10:56:09.980Z"
   },
   {
    "duration": 53,
    "start_time": "2021-06-28T10:56:10.003Z"
   },
   {
    "duration": 13,
    "start_time": "2021-06-28T10:56:10.059Z"
   },
   {
    "duration": 31,
    "start_time": "2021-06-28T10:56:10.075Z"
   },
   {
    "duration": 7,
    "start_time": "2021-06-28T10:56:10.108Z"
   },
   {
    "duration": 703,
    "start_time": "2021-06-28T10:56:10.117Z"
   },
   {
    "duration": 598,
    "start_time": "2021-06-28T10:56:10.823Z"
   },
   {
    "duration": 720,
    "start_time": "2021-06-28T10:56:11.424Z"
   },
   {
    "duration": 42,
    "start_time": "2021-06-28T10:56:12.147Z"
   },
   {
    "duration": 14,
    "start_time": "2021-06-28T10:56:12.192Z"
   },
   {
    "duration": 471,
    "start_time": "2021-06-28T10:56:12.209Z"
   },
   {
    "duration": -102,
    "start_time": "2021-06-28T10:56:12.784Z"
   },
   {
    "duration": -104,
    "start_time": "2021-06-28T10:56:12.788Z"
   },
   {
    "duration": 7,
    "start_time": "2021-06-28T11:09:23.544Z"
   },
   {
    "duration": 638,
    "start_time": "2021-06-28T11:09:27.607Z"
   },
   {
    "duration": 898,
    "start_time": "2021-06-28T11:16:47.962Z"
   },
   {
    "duration": 121,
    "start_time": "2021-06-28T11:17:02.910Z"
   },
   {
    "duration": 719,
    "start_time": "2021-06-28T11:17:08.642Z"
   },
   {
    "duration": 554,
    "start_time": "2021-06-28T11:19:52.960Z"
   },
   {
    "duration": 579,
    "start_time": "2021-06-28T11:37:54.339Z"
   },
   {
    "duration": 1456,
    "start_time": "2021-06-28T11:51:04.380Z"
   },
   {
    "duration": 550,
    "start_time": "2021-06-28T11:51:05.838Z"
   },
   {
    "duration": 39,
    "start_time": "2021-06-28T11:51:06.391Z"
   },
   {
    "duration": 38,
    "start_time": "2021-06-28T11:51:06.433Z"
   },
   {
    "duration": 24,
    "start_time": "2021-06-28T11:51:06.474Z"
   },
   {
    "duration": 17,
    "start_time": "2021-06-28T11:51:06.501Z"
   },
   {
    "duration": 54,
    "start_time": "2021-06-28T11:51:06.521Z"
   },
   {
    "duration": 24,
    "start_time": "2021-06-28T11:51:06.579Z"
   },
   {
    "duration": 28,
    "start_time": "2021-06-28T11:51:06.606Z"
   },
   {
    "duration": 120,
    "start_time": "2021-06-28T11:51:06.636Z"
   },
   {
    "duration": 68,
    "start_time": "2021-06-28T11:51:06.764Z"
   },
   {
    "duration": 7,
    "start_time": "2021-06-28T11:51:06.835Z"
   },
   {
    "duration": 261,
    "start_time": "2021-06-28T11:51:06.844Z"
   },
   {
    "duration": 1226,
    "start_time": "2021-06-28T11:51:07.108Z"
   },
   {
    "duration": 53,
    "start_time": "2021-06-28T11:51:08.336Z"
   },
   {
    "duration": 27,
    "start_time": "2021-06-28T11:51:08.392Z"
   },
   {
    "duration": 55,
    "start_time": "2021-06-28T11:51:08.422Z"
   },
   {
    "duration": 1206,
    "start_time": "2021-06-28T11:51:08.480Z"
   },
   {
    "duration": 10,
    "start_time": "2021-06-28T11:51:09.689Z"
   },
   {
    "duration": 229,
    "start_time": "2021-06-28T11:51:09.701Z"
   },
   {
    "duration": 553,
    "start_time": "2021-06-28T11:51:09.932Z"
   },
   {
    "duration": 46,
    "start_time": "2021-06-28T11:51:10.488Z"
   },
   {
    "duration": 67,
    "start_time": "2021-06-28T11:51:10.538Z"
   },
   {
    "duration": 14,
    "start_time": "2021-06-28T11:51:10.608Z"
   },
   {
    "duration": 43,
    "start_time": "2021-06-28T11:51:10.624Z"
   },
   {
    "duration": 22,
    "start_time": "2021-06-28T11:51:10.670Z"
   },
   {
    "duration": 12,
    "start_time": "2021-06-28T11:51:10.695Z"
   },
   {
    "duration": 62,
    "start_time": "2021-06-28T11:51:10.709Z"
   },
   {
    "duration": 11,
    "start_time": "2021-06-28T11:51:10.774Z"
   },
   {
    "duration": 632,
    "start_time": "2021-06-28T11:51:10.787Z"
   },
   {
    "duration": 578,
    "start_time": "2021-06-28T11:51:11.421Z"
   },
   {
    "duration": 626,
    "start_time": "2021-06-28T11:51:12.001Z"
   },
   {
    "duration": 46,
    "start_time": "2021-06-28T11:51:12.630Z"
   },
   {
    "duration": 13,
    "start_time": "2021-06-28T11:51:12.679Z"
   },
   {
    "duration": 23,
    "start_time": "2021-06-28T11:51:12.695Z"
   },
   {
    "duration": 46,
    "start_time": "2021-06-28T11:51:12.720Z"
   },
   {
    "duration": 35,
    "start_time": "2021-06-28T11:51:12.771Z"
   },
   {
    "duration": 1332,
    "start_time": "2021-06-28T12:55:17.687Z"
   },
   {
    "duration": 540,
    "start_time": "2021-06-28T12:55:19.022Z"
   },
   {
    "duration": 39,
    "start_time": "2021-06-28T12:55:19.565Z"
   },
   {
    "duration": 57,
    "start_time": "2021-06-28T12:55:19.607Z"
   },
   {
    "duration": 25,
    "start_time": "2021-06-28T12:55:19.666Z"
   },
   {
    "duration": 15,
    "start_time": "2021-06-28T12:55:19.694Z"
   },
   {
    "duration": 60,
    "start_time": "2021-06-28T12:55:19.712Z"
   },
   {
    "duration": 18,
    "start_time": "2021-06-28T12:55:19.776Z"
   },
   {
    "duration": 20,
    "start_time": "2021-06-28T12:55:19.797Z"
   },
   {
    "duration": 126,
    "start_time": "2021-06-28T12:55:19.820Z"
   },
   {
    "duration": 70,
    "start_time": "2021-06-28T12:55:19.948Z"
   },
   {
    "duration": 8,
    "start_time": "2021-06-28T12:55:20.021Z"
   },
   {
    "duration": 270,
    "start_time": "2021-06-28T12:55:20.032Z"
   },
   {
    "duration": 1166,
    "start_time": "2021-06-28T12:55:20.305Z"
   },
   {
    "duration": 39,
    "start_time": "2021-06-28T12:55:21.475Z"
   },
   {
    "duration": 60,
    "start_time": "2021-06-28T12:55:21.517Z"
   },
   {
    "duration": 36,
    "start_time": "2021-06-28T12:55:21.580Z"
   },
   {
    "duration": 1922,
    "start_time": "2021-06-28T12:55:21.618Z"
   },
   {
    "duration": 20,
    "start_time": "2021-06-28T12:55:23.544Z"
   },
   {
    "duration": 217,
    "start_time": "2021-06-28T12:55:23.568Z"
   },
   {
    "duration": 429,
    "start_time": "2021-06-28T12:55:23.788Z"
   },
   {
    "duration": 57,
    "start_time": "2021-06-28T12:55:24.219Z"
   },
   {
    "duration": 45,
    "start_time": "2021-06-28T12:55:24.281Z"
   },
   {
    "duration": 38,
    "start_time": "2021-06-28T12:55:24.329Z"
   },
   {
    "duration": 19,
    "start_time": "2021-06-28T12:55:24.369Z"
   },
   {
    "duration": 18,
    "start_time": "2021-06-28T12:55:24.390Z"
   },
   {
    "duration": 6,
    "start_time": "2021-06-28T12:55:24.411Z"
   },
   {
    "duration": 55,
    "start_time": "2021-06-28T12:55:24.419Z"
   },
   {
    "duration": 7,
    "start_time": "2021-06-28T12:55:24.476Z"
   },
   {
    "duration": 609,
    "start_time": "2021-06-28T12:55:24.485Z"
   },
   {
    "duration": 572,
    "start_time": "2021-06-28T12:55:25.097Z"
   },
   {
    "duration": 601,
    "start_time": "2021-06-28T12:55:25.672Z"
   },
   {
    "duration": 30,
    "start_time": "2021-06-28T12:55:26.276Z"
   },
   {
    "duration": 16,
    "start_time": "2021-06-28T12:55:26.308Z"
   },
   {
    "duration": 32,
    "start_time": "2021-06-28T12:55:26.355Z"
   },
   {
    "duration": 8,
    "start_time": "2021-06-28T12:55:26.390Z"
   },
   {
    "duration": 73,
    "start_time": "2021-06-28T12:55:26.401Z"
   },
   {
    "duration": 737,
    "start_time": "2021-10-05T17:27:35.747Z"
   },
   {
    "duration": 1488,
    "start_time": "2021-10-05T17:27:53.234Z"
   },
   {
    "duration": 4985,
    "start_time": "2021-10-05T17:27:56.976Z"
   },
   {
    "duration": 1503,
    "start_time": "2021-10-05T17:28:10.835Z"
   },
   {
    "duration": 4300,
    "start_time": "2021-10-05T17:28:12.341Z"
   },
   {
    "duration": 39,
    "start_time": "2021-10-05T17:28:16.644Z"
   },
   {
    "duration": 45,
    "start_time": "2021-10-05T17:28:16.687Z"
   },
   {
    "duration": 32,
    "start_time": "2021-10-05T17:28:16.734Z"
   },
   {
    "duration": 24,
    "start_time": "2021-10-05T17:28:16.769Z"
   },
   {
    "duration": 29,
    "start_time": "2021-10-05T17:28:16.823Z"
   },
   {
    "duration": 40,
    "start_time": "2021-10-05T17:28:16.863Z"
   },
   {
    "duration": 36,
    "start_time": "2021-10-05T17:28:16.908Z"
   },
   {
    "duration": 109,
    "start_time": "2021-10-05T17:28:16.947Z"
   },
   {
    "duration": 79,
    "start_time": "2021-10-05T17:28:17.058Z"
   },
   {
    "duration": 5,
    "start_time": "2021-10-05T17:28:17.140Z"
   },
   {
    "duration": 291,
    "start_time": "2021-10-05T17:28:17.148Z"
   },
   {
    "duration": 1306,
    "start_time": "2021-10-05T17:28:17.442Z"
   },
   {
    "duration": 38,
    "start_time": "2021-10-05T17:28:18.751Z"
   },
   {
    "duration": 59,
    "start_time": "2021-10-05T17:28:18.791Z"
   },
   {
    "duration": 28,
    "start_time": "2021-10-05T17:28:18.853Z"
   },
   {
    "duration": 1290,
    "start_time": "2021-10-05T17:28:18.883Z"
   },
   {
    "duration": 10,
    "start_time": "2021-10-05T17:28:20.176Z"
   },
   {
    "duration": 242,
    "start_time": "2021-10-05T17:28:20.188Z"
   },
   {
    "duration": 470,
    "start_time": "2021-10-05T17:28:20.434Z"
   },
   {
    "duration": 58,
    "start_time": "2021-10-05T17:28:20.906Z"
   },
   {
    "duration": 67,
    "start_time": "2021-10-05T17:28:20.966Z"
   },
   {
    "duration": 18,
    "start_time": "2021-10-05T17:28:21.036Z"
   },
   {
    "duration": 20,
    "start_time": "2021-10-05T17:28:21.057Z"
   },
   {
    "duration": 64,
    "start_time": "2021-10-05T17:28:21.079Z"
   },
   {
    "duration": 7,
    "start_time": "2021-10-05T17:28:21.149Z"
   },
   {
    "duration": 29,
    "start_time": "2021-10-05T17:28:21.158Z"
   },
   {
    "duration": 7,
    "start_time": "2021-10-05T17:28:21.190Z"
   },
   {
    "duration": 694,
    "start_time": "2021-10-05T17:28:21.199Z"
   },
   {
    "duration": 649,
    "start_time": "2021-10-05T17:28:21.896Z"
   },
   {
    "duration": 664,
    "start_time": "2021-10-05T17:28:22.548Z"
   },
   {
    "duration": 44,
    "start_time": "2021-10-05T17:28:23.215Z"
   },
   {
    "duration": 14,
    "start_time": "2021-10-05T17:28:23.262Z"
   },
   {
    "duration": 64,
    "start_time": "2021-10-05T17:28:23.278Z"
   },
   {
    "duration": 12,
    "start_time": "2021-10-05T17:28:23.346Z"
   },
   {
    "duration": 67,
    "start_time": "2021-10-05T17:28:23.361Z"
   },
   {
    "duration": 1554,
    "start_time": "2021-10-05T17:33:04.108Z"
   },
   {
    "duration": 3980,
    "start_time": "2021-10-05T17:33:05.665Z"
   },
   {
    "duration": 40,
    "start_time": "2021-10-05T17:33:09.648Z"
   },
   {
    "duration": 47,
    "start_time": "2021-10-05T17:33:09.691Z"
   },
   {
    "duration": 29,
    "start_time": "2021-10-05T17:33:09.740Z"
   },
   {
    "duration": 23,
    "start_time": "2021-10-05T17:33:09.772Z"
   },
   {
    "duration": 49,
    "start_time": "2021-10-05T17:33:09.798Z"
   },
   {
    "duration": 28,
    "start_time": "2021-10-05T17:33:09.854Z"
   },
   {
    "duration": 58,
    "start_time": "2021-10-05T17:33:09.886Z"
   },
   {
    "duration": 125,
    "start_time": "2021-10-05T17:33:09.947Z"
   },
   {
    "duration": 86,
    "start_time": "2021-10-05T17:33:10.075Z"
   },
   {
    "duration": 6,
    "start_time": "2021-10-05T17:33:10.164Z"
   },
   {
    "duration": 276,
    "start_time": "2021-10-05T17:33:10.172Z"
   },
   {
    "duration": 1329,
    "start_time": "2021-10-05T17:33:10.451Z"
   },
   {
    "duration": 62,
    "start_time": "2021-10-05T17:33:11.782Z"
   },
   {
    "duration": 31,
    "start_time": "2021-10-05T17:33:11.846Z"
   },
   {
    "duration": 64,
    "start_time": "2021-10-05T17:33:11.881Z"
   },
   {
    "duration": 1298,
    "start_time": "2021-10-05T17:33:11.947Z"
   },
   {
    "duration": 10,
    "start_time": "2021-10-05T17:33:13.247Z"
   },
   {
    "duration": 244,
    "start_time": "2021-10-05T17:33:13.260Z"
   },
   {
    "duration": 491,
    "start_time": "2021-10-05T17:33:13.506Z"
   },
   {
    "duration": 86,
    "start_time": "2021-10-05T17:33:14.000Z"
   },
   {
    "duration": 68,
    "start_time": "2021-10-05T17:33:14.093Z"
   },
   {
    "duration": 19,
    "start_time": "2021-10-05T17:33:14.164Z"
   },
   {
    "duration": 51,
    "start_time": "2021-10-05T17:33:14.186Z"
   },
   {
    "duration": 19,
    "start_time": "2021-10-05T17:33:14.240Z"
   },
   {
    "duration": 9,
    "start_time": "2021-10-05T17:33:14.261Z"
   },
   {
    "duration": 65,
    "start_time": "2021-10-05T17:33:14.272Z"
   },
   {
    "duration": 10,
    "start_time": "2021-10-05T17:33:14.340Z"
   },
   {
    "duration": 689,
    "start_time": "2021-10-05T17:33:14.352Z"
   },
   {
    "duration": 615,
    "start_time": "2021-10-05T17:33:15.044Z"
   },
   {
    "duration": 634,
    "start_time": "2021-10-05T17:33:15.661Z"
   },
   {
    "duration": 43,
    "start_time": "2021-10-05T17:33:16.298Z"
   },
   {
    "duration": 13,
    "start_time": "2021-10-05T17:33:16.344Z"
   },
   {
    "duration": 30,
    "start_time": "2021-10-05T17:33:16.360Z"
   },
   {
    "duration": 36,
    "start_time": "2021-10-05T17:33:16.392Z"
   },
   {
    "duration": 42,
    "start_time": "2021-10-05T17:33:16.431Z"
   }
  ],
  "kernelspec": {
   "display_name": "Python 3",
   "language": "python",
   "name": "python3"
  },
  "language_info": {
   "codemirror_mode": {
    "name": "ipython",
    "version": 3
   },
   "file_extension": ".py",
   "mimetype": "text/x-python",
   "name": "python",
   "nbconvert_exporter": "python",
   "pygments_lexer": "ipython3",
   "version": "3.7.10"
  },
  "toc": {
   "base_numbering": 1,
   "nav_menu": {},
   "number_sections": true,
   "sideBar": true,
   "skip_h1_title": true,
   "title_cell": "Содержание",
   "title_sidebar": "Contents",
   "toc_cell": true,
   "toc_position": {
    "height": "calc(100% - 180px)",
    "left": "10px",
    "top": "150px",
    "width": "270.391px"
   },
   "toc_section_display": false,
   "toc_window_display": true
  }
 },
 "nbformat": 4,
 "nbformat_minor": 2
}
