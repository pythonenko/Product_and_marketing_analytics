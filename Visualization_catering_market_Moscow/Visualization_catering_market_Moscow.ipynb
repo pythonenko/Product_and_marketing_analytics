{
 "cells": [
  {
   "cell_type": "markdown",
   "metadata": {
    "toc": true
   },
   "source": [
    "<h1>Содержание<span class=\"tocSkip\"></span></h1>\n",
    "<div class=\"toc\"><ul class=\"toc-item\"><li><span><a href=\"#Изучение-и-предобработка-данных\" data-toc-modified-id=\"Изучение-и-предобработка-данных-1\"><span class=\"toc-item-num\">1&nbsp;&nbsp;</span>Изучение и предобработка данных</a></span><ul class=\"toc-item\"><li><span><a href=\"#Загрузка-данных,-проверка-типов-переменных,-пропусков-и-дубликатов\" data-toc-modified-id=\"Загрузка-данных,-проверка-типов-переменных,-пропусков-и-дубликатов-1.1\"><span class=\"toc-item-num\">1.1&nbsp;&nbsp;</span>Загрузка данных, проверка типов переменных, пропусков и дубликатов</a></span></li><li><span><a href=\"#Проверка-аномалий-в-данных\" data-toc-modified-id=\"Проверка-аномалий-в-данных-1.2\"><span class=\"toc-item-num\">1.2&nbsp;&nbsp;</span>Проверка аномалий в данных</a></span></li></ul></li><li><span><a href=\"#Анализ-данных\" data-toc-modified-id=\"Анализ-данных-2\"><span class=\"toc-item-num\">2&nbsp;&nbsp;</span>Анализ данных</a></span><ul class=\"toc-item\"><li><span><a href=\"#Соотношение-видов-объектов-общественного-питания-по-количеству\" data-toc-modified-id=\"Соотношение-видов-объектов-общественного-питания-по-количеству-2.1\"><span class=\"toc-item-num\">2.1&nbsp;&nbsp;</span>Соотношение видов объектов общественного питания по количеству</a></span></li><li><span><a href=\"#Соотношение-сетевых-и-несетевых-заведений-по-количеству\" data-toc-modified-id=\"Соотношение-сетевых-и-несетевых-заведений-по-количеству-2.2\"><span class=\"toc-item-num\">2.2&nbsp;&nbsp;</span>Соотношение сетевых и несетевых заведений по количеству</a></span></li><li><span><a href=\"#Сетевое-распространение-по-видам-объектов-общественного-питания\" data-toc-modified-id=\"Сетевое-распространение-по-видам-объектов-общественного-питания-2.3\"><span class=\"toc-item-num\">2.3&nbsp;&nbsp;</span>Сетевое распространение по видам объектов общественного питания</a></span></li><li><span><a href=\"#Cвязь-между-размером-сети-и-количеством-посадочных-мест\" data-toc-modified-id=\"Cвязь-между-размером-сети-и-количеством-посадочных-мест-2.4\"><span class=\"toc-item-num\">2.4&nbsp;&nbsp;</span>Cвязь между размером сети и количеством посадочных мест</a></span></li><li><span><a href=\"#Среднее-количество-посадочных-мест-по-видам-объектов-общественного-питания\" data-toc-modified-id=\"Среднее-количество-посадочных-мест-по-видам-объектов-общественного-питания-2.5\"><span class=\"toc-item-num\">2.5&nbsp;&nbsp;</span>Среднее количество посадочных мест по видам объектов общественного питания</a></span></li><li><span><a href=\"#Получение-переменной-улиц\" data-toc-modified-id=\"Получение-переменной-улиц-2.6\"><span class=\"toc-item-num\">2.6&nbsp;&nbsp;</span>Получение переменной улиц</a></span></li><li><span><a href=\"#Топ-10-улиц-по-количеству-объектов-общественного-питания.\" data-toc-modified-id=\"Топ-10-улиц-по-количеству-объектов-общественного-питания.-2.7\"><span class=\"toc-item-num\">2.7&nbsp;&nbsp;</span>Топ-10 улиц по количеству объектов общественного питания.</a></span></li><li><span><a href=\"#Определение-районов-с-максимальным-числом-заведений\" data-toc-modified-id=\"Определение-районов-с-максимальным-числом-заведений-2.8\"><span class=\"toc-item-num\">2.8&nbsp;&nbsp;</span>Определение районов с максимальным числом заведений</a></span></li><li><span><a href=\"#Улицы-с-одним-объектом-общественного-питания\" data-toc-modified-id=\"Улицы-с-одним-объектом-общественного-питания-2.9\"><span class=\"toc-item-num\">2.9&nbsp;&nbsp;</span>Улицы с одним объектом общественного питания</a></span></li><li><span><a href=\"#Распределение-количества-посадочных-мест-для-улиц-с-большим-количеством-заведений\" data-toc-modified-id=\"Распределение-количества-посадочных-мест-для-улиц-с-большим-количеством-заведений-2.10\"><span class=\"toc-item-num\">2.10&nbsp;&nbsp;</span>Распределение количества посадочных мест для улиц с большим количеством заведений</a></span></li><li><span><a href=\"#Общий-вывод\" data-toc-modified-id=\"Общий-вывод-2.11\"><span class=\"toc-item-num\">2.11&nbsp;&nbsp;</span>Общий вывод</a></span></li></ul></li></ul></div>"
   ]
  },
  {
   "cell_type": "markdown",
   "metadata": {},
   "source": [
    "# Анализ рынка заведений общественного питания Москвы\n",
    "\n",
    "В рамках подготовки проекта открытия кафе с роботизированным обслуживанием в Москве проведем исследование рынка заведений общественного питания города. Это позволит в дальнейшем принять обоснованное решение о таких значимых параметрах проекта, как вид заведения, количество посадочных мест, район расположения, а также целесообразность развития сетевого формата.\n",
    "\n",
    "Данное исследование основано на следующих источниках данных:\n",
    "* открытые данные о заведениях общественного питания в Москве (с названиями, форматами и типами заведений, адресами и количеством посадочных мест;\n",
    "* справочник адресов и соответствующих им районов города, полученный из API сервиса Яндекс.Геолокатор."
   ]
  },
  {
   "cell_type": "code",
   "execution_count": 1,
   "metadata": {},
   "outputs": [],
   "source": [
    "import pandas as pd\n",
    "import numpy as np\n",
    "from scipy import stats as st\n",
    "import matplotlib.pyplot as plt\n",
    "import seaborn as sns\n",
    "import math\n",
    "import os\n",
    "from IPython.display import display\n",
    "from plotly.subplots import make_subplots\n",
    "import plotly.graph_objects as go\n",
    "import re\n",
    "import json\n",
    "from io import BytesIO\n",
    "import requests\n",
    "import plotly.express as px"
   ]
  },
  {
   "cell_type": "markdown",
   "metadata": {},
   "source": [
    "## Изучение и предобработка данных"
   ]
  },
  {
   "cell_type": "markdown",
   "metadata": {},
   "source": [
    "### Загрузка данных, проверка типов переменных, пропусков и дубликатов"
   ]
  },
  {
   "cell_type": "markdown",
   "metadata": {},
   "source": [
    "Откроем файл с данными о заведениях общественного питания Москвы и изучим общую информацию:"
   ]
  },
  {
   "cell_type": "code",
   "execution_count": 2,
   "metadata": {},
   "outputs": [
    {
     "name": "stdout",
     "output_type": "stream",
     "text": [
      "<class 'pandas.core.frame.DataFrame'>\n",
      "RangeIndex: 15366 entries, 0 to 15365\n",
      "Data columns (total 6 columns):\n",
      "id             15366 non-null int64\n",
      "object_name    15366 non-null object\n",
      "chain          15366 non-null object\n",
      "object_type    15366 non-null object\n",
      "address        15366 non-null object\n",
      "number         15366 non-null int64\n",
      "dtypes: int64(2), object(4)\n",
      "memory usage: 720.4+ KB\n"
     ]
    },
    {
     "data": {
      "text/html": [
       "<div>\n",
       "<style scoped>\n",
       "    .dataframe tbody tr th:only-of-type {\n",
       "        vertical-align: middle;\n",
       "    }\n",
       "\n",
       "    .dataframe tbody tr th {\n",
       "        vertical-align: top;\n",
       "    }\n",
       "\n",
       "    .dataframe thead th {\n",
       "        text-align: right;\n",
       "    }\n",
       "</style>\n",
       "<table border=\"1\" class=\"dataframe\">\n",
       "  <thead>\n",
       "    <tr style=\"text-align: right;\">\n",
       "      <th></th>\n",
       "      <th>id</th>\n",
       "      <th>object_name</th>\n",
       "      <th>chain</th>\n",
       "      <th>object_type</th>\n",
       "      <th>address</th>\n",
       "      <th>number</th>\n",
       "    </tr>\n",
       "  </thead>\n",
       "  <tbody>\n",
       "    <tr>\n",
       "      <td>0</td>\n",
       "      <td>151635</td>\n",
       "      <td>СМЕТАНА</td>\n",
       "      <td>нет</td>\n",
       "      <td>кафе</td>\n",
       "      <td>город Москва, улица Егора Абакумова, дом 9</td>\n",
       "      <td>48</td>\n",
       "    </tr>\n",
       "    <tr>\n",
       "      <td>1</td>\n",
       "      <td>77874</td>\n",
       "      <td>Родник</td>\n",
       "      <td>нет</td>\n",
       "      <td>кафе</td>\n",
       "      <td>город Москва, улица Талалихина, дом 2/1, корпус 1</td>\n",
       "      <td>35</td>\n",
       "    </tr>\n",
       "    <tr>\n",
       "      <td>2</td>\n",
       "      <td>24309</td>\n",
       "      <td>Кафе «Академия»</td>\n",
       "      <td>нет</td>\n",
       "      <td>кафе</td>\n",
       "      <td>город Москва, Абельмановская улица, дом 6</td>\n",
       "      <td>95</td>\n",
       "    </tr>\n",
       "    <tr>\n",
       "      <td>3</td>\n",
       "      <td>21894</td>\n",
       "      <td>ПИЦЦЕТОРИЯ</td>\n",
       "      <td>да</td>\n",
       "      <td>кафе</td>\n",
       "      <td>город Москва, Абрамцевская улица, дом 1</td>\n",
       "      <td>40</td>\n",
       "    </tr>\n",
       "    <tr>\n",
       "      <td>4</td>\n",
       "      <td>119365</td>\n",
       "      <td>Кафе «Вишневая метель»</td>\n",
       "      <td>нет</td>\n",
       "      <td>кафе</td>\n",
       "      <td>город Москва, Абрамцевская улица, дом 9, корпус 1</td>\n",
       "      <td>50</td>\n",
       "    </tr>\n",
       "  </tbody>\n",
       "</table>\n",
       "</div>"
      ],
      "text/plain": [
       "       id             object_name chain object_type  \\\n",
       "0  151635                 СМЕТАНА   нет        кафе   \n",
       "1   77874                  Родник   нет        кафе   \n",
       "2   24309         Кафе «Академия»   нет        кафе   \n",
       "3   21894              ПИЦЦЕТОРИЯ    да        кафе   \n",
       "4  119365  Кафе «Вишневая метель»   нет        кафе   \n",
       "\n",
       "                                             address  number  \n",
       "0         город Москва, улица Егора Абакумова, дом 9      48  \n",
       "1  город Москва, улица Талалихина, дом 2/1, корпус 1      35  \n",
       "2          город Москва, Абельмановская улица, дом 6      95  \n",
       "3            город Москва, Абрамцевская улица, дом 1      40  \n",
       "4  город Москва, Абрамцевская улица, дом 9, корпус 1      50  "
      ]
     },
     "metadata": {},
     "output_type": "display_data"
    },
    {
     "name": "stdout",
     "output_type": "stream",
     "text": [
      "Дубликатов в таблице: 0\n"
     ]
    }
   ],
   "source": [
    "def file_read (server_path, filename):\n",
    "    if os.path.exists(server_path):\n",
    "        file_read = pd.read_csv(server_path)\n",
    "    else:\n",
    "        file_read = pd.read_csv(filename)\n",
    "    return file_read\n",
    "\n",
    "data = file_read('/datasets/rest_data.csv','rest_data.csv')\n",
    "data.info()\n",
    "display(data.head())\n",
    "print('Дубликатов в таблице: {}'.format(data.duplicated().sum()))"
   ]
  },
  {
   "cell_type": "markdown",
   "metadata": {},
   "source": [
    "**Вывод.** В исходном датасете содержится 15366 наблюдений, пропусков и дубликатов не обнаружено, типы переменных распознаны верно, названия столбцов закодированы корректно."
   ]
  },
  {
   "cell_type": "markdown",
   "metadata": {},
   "source": [
    "### Проверка аномалий в данных"
   ]
  },
  {
   "cell_type": "markdown",
   "metadata": {},
   "source": [
    "Изучим категориальные переменные:"
   ]
  },
  {
   "cell_type": "code",
   "execution_count": 3,
   "metadata": {},
   "outputs": [
    {
     "name": "stdout",
     "output_type": "stream",
     "text": [
      "Сетевые рестораны: ['нет' 'да']\n",
      "Типы объектов общественного питания: ['кафе' 'столовая' 'закусочная' 'предприятие быстрого обслуживания'\n",
      " 'ресторан' 'кафетерий' 'буфет' 'бар' 'магазин (отдел кулинарии)']\n"
     ]
    }
   ],
   "source": [
    "print('Сетевые рестораны:', data['chain'].unique())\n",
    "print('Типы объектов общественного питания:', data['object_type'].unique())"
   ]
  },
  {
   "cell_type": "markdown",
   "metadata": {},
   "source": [
    "Категориальные переменные закодированы корректно.\n",
    "\n",
    "Для удобства дальнейшей обработки приведем названия заведений к нижнему регистру, заменим слова \"ресторан\"/\"кафе\" и аналогичные на пустую строку, а также уберем лишние кавычки и пробелы по краям)."
   ]
  },
  {
   "cell_type": "code",
   "execution_count": 4,
   "metadata": {},
   "outputs": [],
   "source": [
    "data['object_name'] = data['object_name'].str.lower()\n",
    "\n",
    "garbage = ['ресторан', 'кафе', 'предприятие быстрого обслуживания', 'пбо', '«', '»']\n",
    "for i in garbage:\n",
    "    data['object_name'] = data['object_name'].str.replace(i, '')\n",
    "    \n",
    "data['object_name'] = data['object_name'].str.strip()"
   ]
  },
  {
   "cell_type": "markdown",
   "metadata": {},
   "source": [
    "Проверим наличие неявных дубликатов в данных:"
   ]
  },
  {
   "cell_type": "code",
   "execution_count": 5,
   "metadata": {},
   "outputs": [
    {
     "name": "stdout",
     "output_type": "stream",
     "text": [
      "Дубликатов по всем переменным, кроме id: 85\n"
     ]
    }
   ],
   "source": [
    "print('Дубликатов по всем переменным, кроме id:', data.duplicated(\n",
    "    ['object_name','address', 'object_type','chain', 'number']).sum())"
   ]
  },
  {
   "cell_type": "markdown",
   "metadata": {},
   "source": [
    "В данных обнаружено 82 записи с дублирующими значениями всех переменных, кроме id заведения. Удалим эти записи."
   ]
  },
  {
   "cell_type": "code",
   "execution_count": 6,
   "metadata": {},
   "outputs": [],
   "source": [
    "data = data.drop_duplicates(['object_name','address', 'object_type','chain', 'number'])"
   ]
  },
  {
   "cell_type": "code",
   "execution_count": 7,
   "metadata": {},
   "outputs": [
    {
     "name": "stdout",
     "output_type": "stream",
     "text": [
      "Дубликатов пар названий и адресов: 155\n"
     ]
    }
   ],
   "source": [
    "print('Дубликатов пар названий и адресов:', data.duplicated(['object_name','address']).sum())"
   ]
  },
  {
   "cell_type": "markdown",
   "metadata": {},
   "source": [
    "Также в данных есть кафе с совпадающими адресами и названиями, изучим несколько примеров подробнее:"
   ]
  },
  {
   "cell_type": "code",
   "execution_count": 8,
   "metadata": {},
   "outputs": [
    {
     "data": {
      "text/html": [
       "<div>\n",
       "<style scoped>\n",
       "    .dataframe tbody tr th:only-of-type {\n",
       "        vertical-align: middle;\n",
       "    }\n",
       "\n",
       "    .dataframe tbody tr th {\n",
       "        vertical-align: top;\n",
       "    }\n",
       "\n",
       "    .dataframe thead tr th {\n",
       "        text-align: left;\n",
       "    }\n",
       "</style>\n",
       "<table border=\"1\" class=\"dataframe\">\n",
       "  <thead>\n",
       "    <tr>\n",
       "      <th></th>\n",
       "      <th>object_name</th>\n",
       "      <th>address</th>\n",
       "      <th>min</th>\n",
       "      <th>max</th>\n",
       "    </tr>\n",
       "    <tr>\n",
       "      <th></th>\n",
       "      <th></th>\n",
       "      <th></th>\n",
       "      <th>number</th>\n",
       "      <th>number</th>\n",
       "    </tr>\n",
       "  </thead>\n",
       "  <tbody>\n",
       "    <tr>\n",
       "      <td>0</td>\n",
       "      <td></td>\n",
       "      <td>город Москва, 1-я Останкинская улица, дом 55</td>\n",
       "      <td>4</td>\n",
       "      <td>30</td>\n",
       "    </tr>\n",
       "    <tr>\n",
       "      <td>1</td>\n",
       "      <td></td>\n",
       "      <td>город Москва, 19-й километр Московской Кольцев...</td>\n",
       "      <td>20</td>\n",
       "      <td>42</td>\n",
       "    </tr>\n",
       "    <tr>\n",
       "      <td>2</td>\n",
       "      <td></td>\n",
       "      <td>город Москва, Береговой проезд, дом 5А, корпус 1</td>\n",
       "      <td>2</td>\n",
       "      <td>25</td>\n",
       "    </tr>\n",
       "    <tr>\n",
       "      <td>3</td>\n",
       "      <td></td>\n",
       "      <td>город Москва, Большая Семёновская улица, дом 16</td>\n",
       "      <td>5</td>\n",
       "      <td>5</td>\n",
       "    </tr>\n",
       "    <tr>\n",
       "      <td>4</td>\n",
       "      <td></td>\n",
       "      <td>город Москва, Варшавское шоссе, дом 95, корпус 1</td>\n",
       "      <td>38</td>\n",
       "      <td>46</td>\n",
       "    </tr>\n",
       "    <tr>\n",
       "      <td>5</td>\n",
       "      <td></td>\n",
       "      <td>город Москва, Воронежская улица, дом 13</td>\n",
       "      <td>24</td>\n",
       "      <td>100</td>\n",
       "    </tr>\n",
       "    <tr>\n",
       "      <td>6</td>\n",
       "      <td></td>\n",
       "      <td>город Москва, Люблинская улица, дом 112, строе...</td>\n",
       "      <td>0</td>\n",
       "      <td>10</td>\n",
       "    </tr>\n",
       "    <tr>\n",
       "      <td>7</td>\n",
       "      <td></td>\n",
       "      <td>город Москва, Малахитовая улица, владение 27, ...</td>\n",
       "      <td>0</td>\n",
       "      <td>10</td>\n",
       "    </tr>\n",
       "    <tr>\n",
       "      <td>8</td>\n",
       "      <td></td>\n",
       "      <td>город Москва, Смольная улица, дом 24Б</td>\n",
       "      <td>4</td>\n",
       "      <td>40</td>\n",
       "    </tr>\n",
       "    <tr>\n",
       "      <td>9</td>\n",
       "      <td></td>\n",
       "      <td>город Москва, Тихорецкий бульвар, владение 1, ...</td>\n",
       "      <td>25</td>\n",
       "      <td>158</td>\n",
       "    </tr>\n",
       "  </tbody>\n",
       "</table>\n",
       "</div>"
      ],
      "text/plain": [
       "  object_name                                            address    min    max\n",
       "                                                                 number number\n",
       "0                   город Москва, 1-я Останкинская улица, дом 55      4     30\n",
       "1              город Москва, 19-й километр Московской Кольцев...     20     42\n",
       "2               город Москва, Береговой проезд, дом 5А, корпус 1      2     25\n",
       "3                город Москва, Большая Семёновская улица, дом 16      5      5\n",
       "4               город Москва, Варшавское шоссе, дом 95, корпус 1     38     46\n",
       "5                        город Москва, Воронежская улица, дом 13     24    100\n",
       "6              город Москва, Люблинская улица, дом 112, строе...      0     10\n",
       "7              город Москва, Малахитовая улица, владение 27, ...      0     10\n",
       "8                          город Москва, Смольная улица, дом 24Б      4     40\n",
       "9              город Москва, Тихорецкий бульвар, владение 1, ...     25    158"
      ]
     },
     "execution_count": 8,
     "metadata": {},
     "output_type": "execute_result"
    }
   ],
   "source": [
    "pivot = data[data.duplicated(subset=['object_name','address'], keep=False)].pivot_table(\n",
    "    index=['object_name','address'], \n",
    "    values='number', \n",
    "    aggfunc=([min, max])\n",
    "   ).reset_index()\n",
    "\n",
    "pivot.head(10)"
   ]
  },
  {
   "cell_type": "markdown",
   "metadata": {},
   "source": [
    "Обнаруженные кафе с совпадающими названиями и адресами отличаются по количеству посадочных мест. Необходимо проверить источник данных и выяснить причину. Однако в рамках данного исследования ошибка определения записей с корректным количеством мест в 125 случаях несущественно повлияет на результат. Поэтому избавимся от дубликатов, оставив записи с максимальным числом мест (как наиболее правдоподобным в фрагменте таблицы выше)."
   ]
  },
  {
   "cell_type": "code",
   "execution_count": 9,
   "metadata": {},
   "outputs": [],
   "source": [
    "data = data.sort_values(\n",
    "    by='number', ascending=False).drop_duplicates(['object_name','address'])"
   ]
  },
  {
   "cell_type": "markdown",
   "metadata": {},
   "source": [
    "Изучим основные характеристики распределения единственной количественной переменной (числа посадочных мест):"
   ]
  },
  {
   "cell_type": "code",
   "execution_count": 10,
   "metadata": {},
   "outputs": [
    {
     "data": {
      "text/plain": [
       "count    15126.000000\n",
       "mean        60.092027\n",
       "std         75.077042\n",
       "min          0.000000\n",
       "25%         14.000000\n",
       "50%         40.000000\n",
       "75%         80.000000\n",
       "max       1700.000000\n",
       "Name: number, dtype: float64"
      ]
     },
     "metadata": {},
     "output_type": "display_data"
    }
   ],
   "source": [
    "display(data['number'].describe())"
   ]
  },
  {
   "cell_type": "markdown",
   "metadata": {},
   "source": [
    "Половина заведений вмещают от 14 до 80 гостей, распределение смещено вправо (средние значения больше медианы в 1,5 раза). Есть выбивающиеся максимальные значения, также есть заведения с 0 посадочных мест, изучим их подробнее."
   ]
  },
  {
   "cell_type": "code",
   "execution_count": 11,
   "metadata": {},
   "outputs": [
    {
     "name": "stdout",
     "output_type": "stream",
     "text": [
      "Заведений с 0 посадочных мест: 1562\n"
     ]
    },
    {
     "data": {
      "text/html": [
       "<div>\n",
       "<style scoped>\n",
       "    .dataframe tbody tr th:only-of-type {\n",
       "        vertical-align: middle;\n",
       "    }\n",
       "\n",
       "    .dataframe tbody tr th {\n",
       "        vertical-align: top;\n",
       "    }\n",
       "\n",
       "    .dataframe thead th {\n",
       "        text-align: right;\n",
       "    }\n",
       "</style>\n",
       "<table border=\"1\" class=\"dataframe\">\n",
       "  <thead>\n",
       "    <tr style=\"text-align: right;\">\n",
       "      <th></th>\n",
       "      <th>id</th>\n",
       "      <th>object_name</th>\n",
       "      <th>chain</th>\n",
       "      <th>object_type</th>\n",
       "      <th>address</th>\n",
       "      <th>number</th>\n",
       "    </tr>\n",
       "  </thead>\n",
       "  <tbody>\n",
       "    <tr>\n",
       "      <td>7513</td>\n",
       "      <td>147435</td>\n",
       "      <td>выпечка</td>\n",
       "      <td>нет</td>\n",
       "      <td>предприятие быстрого обслуживания</td>\n",
       "      <td>город Москва, Шипиловский проезд, владение 39,...</td>\n",
       "      <td>0</td>\n",
       "    </tr>\n",
       "    <tr>\n",
       "      <td>9822</td>\n",
       "      <td>170278</td>\n",
       "      <td>выпечка, шаурма</td>\n",
       "      <td>нет</td>\n",
       "      <td>предприятие быстрого обслуживания</td>\n",
       "      <td>город Москва, Первомайская улица, дом 9</td>\n",
       "      <td>0</td>\n",
       "    </tr>\n",
       "    <tr>\n",
       "      <td>14660</td>\n",
       "      <td>214824</td>\n",
       "      <td>mon bon</td>\n",
       "      <td>нет</td>\n",
       "      <td>предприятие быстрого обслуживания</td>\n",
       "      <td>город Москва, Кировоградская улица, дом 13А</td>\n",
       "      <td>0</td>\n",
       "    </tr>\n",
       "    <tr>\n",
       "      <td>14659</td>\n",
       "      <td>220301</td>\n",
       "      <td>грячие закуски,напитки, поп корн, мороженое,сл...</td>\n",
       "      <td>нет</td>\n",
       "      <td>кафетерий</td>\n",
       "      <td>город Москва, Каширское шоссе, дом 14</td>\n",
       "      <td>0</td>\n",
       "    </tr>\n",
       "    <tr>\n",
       "      <td>9832</td>\n",
       "      <td>170317</td>\n",
       "      <td>донер &amp; тандыр</td>\n",
       "      <td>нет</td>\n",
       "      <td>предприятие быстрого обслуживания</td>\n",
       "      <td>город Москва, Коломенский проезд, дом 8, корпус 5</td>\n",
       "      <td>0</td>\n",
       "    </tr>\n",
       "  </tbody>\n",
       "</table>\n",
       "</div>"
      ],
      "text/plain": [
       "           id                                        object_name chain  \\\n",
       "7513   147435                                            выпечка   нет   \n",
       "9822   170278                                    выпечка, шаурма   нет   \n",
       "14660  214824                                            mon bon   нет   \n",
       "14659  220301  грячие закуски,напитки, поп корн, мороженое,сл...   нет   \n",
       "9832   170317                                     донер & тандыр   нет   \n",
       "\n",
       "                             object_type  \\\n",
       "7513   предприятие быстрого обслуживания   \n",
       "9822   предприятие быстрого обслуживания   \n",
       "14660  предприятие быстрого обслуживания   \n",
       "14659                          кафетерий   \n",
       "9832   предприятие быстрого обслуживания   \n",
       "\n",
       "                                                 address  number  \n",
       "7513   город Москва, Шипиловский проезд, владение 39,...       0  \n",
       "9822             город Москва, Первомайская улица, дом 9       0  \n",
       "14660        город Москва, Кировоградская улица, дом 13А       0  \n",
       "14659              город Москва, Каширское шоссе, дом 14       0  \n",
       "9832   город Москва, Коломенский проезд, дом 8, корпус 5       0  "
      ]
     },
     "metadata": {},
     "output_type": "display_data"
    },
    {
     "name": "stdout",
     "output_type": "stream",
     "text": [
      "Заведений с 1000 и более посадочных мест: 7\n"
     ]
    },
    {
     "data": {
      "text/html": [
       "<div>\n",
       "<style scoped>\n",
       "    .dataframe tbody tr th:only-of-type {\n",
       "        vertical-align: middle;\n",
       "    }\n",
       "\n",
       "    .dataframe tbody tr th {\n",
       "        vertical-align: top;\n",
       "    }\n",
       "\n",
       "    .dataframe thead th {\n",
       "        text-align: right;\n",
       "    }\n",
       "</style>\n",
       "<table border=\"1\" class=\"dataframe\">\n",
       "  <thead>\n",
       "    <tr style=\"text-align: right;\">\n",
       "      <th></th>\n",
       "      <th>id</th>\n",
       "      <th>object_name</th>\n",
       "      <th>chain</th>\n",
       "      <th>object_type</th>\n",
       "      <th>address</th>\n",
       "      <th>number</th>\n",
       "    </tr>\n",
       "  </thead>\n",
       "  <tbody>\n",
       "    <tr>\n",
       "      <td>12723</td>\n",
       "      <td>199696</td>\n",
       "      <td>arena by soho family</td>\n",
       "      <td>нет</td>\n",
       "      <td>бар</td>\n",
       "      <td>город Москва, Кутузовский проспект, дом 36, ст...</td>\n",
       "      <td>1700</td>\n",
       "    </tr>\n",
       "    <tr>\n",
       "      <td>8148</td>\n",
       "      <td>80291</td>\n",
       "      <td>банкетный зал шелк</td>\n",
       "      <td>нет</td>\n",
       "      <td>ресторан</td>\n",
       "      <td>город Москва, Большой Саввинский переулок, дом...</td>\n",
       "      <td>1500</td>\n",
       "    </tr>\n",
       "    <tr>\n",
       "      <td>8345</td>\n",
       "      <td>27750</td>\n",
       "      <td>столовая-буфет</td>\n",
       "      <td>нет</td>\n",
       "      <td>столовая</td>\n",
       "      <td>город Москва, улица Волхонка, дом 15</td>\n",
       "      <td>1400</td>\n",
       "    </tr>\n",
       "    <tr>\n",
       "      <td>9064</td>\n",
       "      <td>19719</td>\n",
       "      <td>комбинат питания управление академсервис</td>\n",
       "      <td>нет</td>\n",
       "      <td>столовая</td>\n",
       "      <td>город Москва, проспект Вернадского, дом 84, ст...</td>\n",
       "      <td>1288</td>\n",
       "    </tr>\n",
       "    <tr>\n",
       "      <td>4480</td>\n",
       "      <td>27024</td>\n",
       "      <td>рум сервис</td>\n",
       "      <td>нет</td>\n",
       "      <td>ресторан</td>\n",
       "      <td>город Москва, Кутузовский проспект, дом 2/1, с...</td>\n",
       "      <td>1200</td>\n",
       "    </tr>\n",
       "  </tbody>\n",
       "</table>\n",
       "</div>"
      ],
      "text/plain": [
       "           id                               object_name chain object_type  \\\n",
       "12723  199696                      arena by soho family   нет         бар   \n",
       "8148    80291                        банкетный зал шелк   нет    ресторан   \n",
       "8345    27750                            столовая-буфет   нет    столовая   \n",
       "9064    19719  комбинат питания управление академсервис   нет    столовая   \n",
       "4480    27024                                рум сервис   нет    ресторан   \n",
       "\n",
       "                                                 address  number  \n",
       "12723  город Москва, Кутузовский проспект, дом 36, ст...    1700  \n",
       "8148   город Москва, Большой Саввинский переулок, дом...    1500  \n",
       "8345                город Москва, улица Волхонка, дом 15    1400  \n",
       "9064   город Москва, проспект Вернадского, дом 84, ст...    1288  \n",
       "4480   город Москва, Кутузовский проспект, дом 2/1, с...    1200  "
      ]
     },
     "metadata": {},
     "output_type": "display_data"
    }
   ],
   "source": [
    "print('Заведений с 0 посадочных мест:', len(data.query('number == 0')))\n",
    "display(data.query('number == 0').head())\n",
    "\n",
    "print('Заведений с 1000 и более посадочных мест:', len(data.query('number > 1000')))\n",
    "display(data.query('number > 1000').head())"
   ]
  },
  {
   "cell_type": "markdown",
   "metadata": {},
   "source": [
    "Можно предположить, что 1569 заведений с 0 посадочных мест - это закусочные, заведения формата black kitchen или точки на рынках и фудкортах (например, Лепим и Варим на Мытной улице, дом 74). Что касается выбивающихся максимальных значений, это могут быть корпоративные и учебные столовые, а также рестораны с большой вместительностью."
   ]
  },
  {
   "cell_type": "markdown",
   "metadata": {},
   "source": [
    "**Вывод.**\n",
    "\n",
    "Исходные данные содержат информацию о заведениях общественного питания Москвы, включая такие параметры, как название заведения, принадлеженость к сети, вид, адрес и число посадочных мест. На этапе предварительной обработки были обнаружены неявные дубликаты, после удаления которых в таблице осталось 15159 записей (из 15366 исходных). В дальнейшем следует подробнее изучить источник данных и понять причину возникновения дубликатов, в частности, почему записям с одинаковыми параметрами присвоены разные id и заведения с совпадающими наваниями и адресами записаны с разным числом посадочных мест."
   ]
  },
  {
   "cell_type": "markdown",
   "metadata": {},
   "source": [
    "## Анализ данных ##"
   ]
  },
  {
   "cell_type": "markdown",
   "metadata": {},
   "source": [
    "### Соотношение видов объектов общественного питания по количеству"
   ]
  },
  {
   "cell_type": "code",
   "execution_count": 12,
   "metadata": {
    "scrolled": false
   },
   "outputs": [
    {
     "data": {
      "text/html": [
       "<div>\n",
       "<style scoped>\n",
       "    .dataframe tbody tr th:only-of-type {\n",
       "        vertical-align: middle;\n",
       "    }\n",
       "\n",
       "    .dataframe tbody tr th {\n",
       "        vertical-align: top;\n",
       "    }\n",
       "\n",
       "    .dataframe thead th {\n",
       "        text-align: right;\n",
       "    }\n",
       "</style>\n",
       "<table border=\"1\" class=\"dataframe\">\n",
       "  <thead>\n",
       "    <tr style=\"text-align: right;\">\n",
       "      <th></th>\n",
       "      <th>index</th>\n",
       "      <th>object_type</th>\n",
       "      <th>percent</th>\n",
       "    </tr>\n",
       "  </thead>\n",
       "  <tbody>\n",
       "    <tr>\n",
       "      <td>0</td>\n",
       "      <td>кафе</td>\n",
       "      <td>5989</td>\n",
       "      <td>39.6%</td>\n",
       "    </tr>\n",
       "    <tr>\n",
       "      <td>1</td>\n",
       "      <td>столовая</td>\n",
       "      <td>2574</td>\n",
       "      <td>17.0%</td>\n",
       "    </tr>\n",
       "    <tr>\n",
       "      <td>2</td>\n",
       "      <td>ресторан</td>\n",
       "      <td>2263</td>\n",
       "      <td>15.0%</td>\n",
       "    </tr>\n",
       "    <tr>\n",
       "      <td>3</td>\n",
       "      <td>предприятие быстрого обслуживания</td>\n",
       "      <td>1881</td>\n",
       "      <td>12.4%</td>\n",
       "    </tr>\n",
       "    <tr>\n",
       "      <td>4</td>\n",
       "      <td>бар</td>\n",
       "      <td>847</td>\n",
       "      <td>5.6%</td>\n",
       "    </tr>\n",
       "    <tr>\n",
       "      <td>5</td>\n",
       "      <td>буфет</td>\n",
       "      <td>566</td>\n",
       "      <td>3.7%</td>\n",
       "    </tr>\n",
       "    <tr>\n",
       "      <td>6</td>\n",
       "      <td>кафетерий</td>\n",
       "      <td>390</td>\n",
       "      <td>2.6%</td>\n",
       "    </tr>\n",
       "    <tr>\n",
       "      <td>7</td>\n",
       "      <td>закусочная</td>\n",
       "      <td>345</td>\n",
       "      <td>2.3%</td>\n",
       "    </tr>\n",
       "    <tr>\n",
       "      <td>8</td>\n",
       "      <td>магазин (отдел кулинарии)</td>\n",
       "      <td>271</td>\n",
       "      <td>1.8%</td>\n",
       "    </tr>\n",
       "  </tbody>\n",
       "</table>\n",
       "</div>"
      ],
      "text/plain": [
       "                               index  object_type percent\n",
       "0                               кафе         5989   39.6%\n",
       "1                           столовая         2574   17.0%\n",
       "2                           ресторан         2263   15.0%\n",
       "3  предприятие быстрого обслуживания         1881   12.4%\n",
       "4                                бар          847    5.6%\n",
       "5                              буфет          566    3.7%\n",
       "6                          кафетерий          390    2.6%\n",
       "7                         закусочная          345    2.3%\n",
       "8          магазин (отдел кулинарии)          271    1.8%"
      ]
     },
     "metadata": {},
     "output_type": "display_data"
    },
    {
     "data": {
      "image/png": "[encoded data removed]",
      "text/plain": [
       "<Figure size 1008x432 with 1 Axes>"
      ]
     },
     "metadata": {
      "needs_background": "light"
     },
     "output_type": "display_data"
    }
   ],
   "source": [
    "object_types = data['object_type'].value_counts().reset_index()\n",
    "object_types['percent'] = (object_types['object_type'] / (object_types['object_type'].sum()) * 100).round(1).astype(str) + '%'\n",
    "display(object_types)\n",
    "\n",
    "plt.figure(figsize=(14,6))\n",
    "sns.set_style('whitegrid')\n",
    "sns.countplot(y=\"object_type\", data=data, palette=\"inferno_r\", order=data[\"object_type\"].value_counts().index)\n",
    "plt.title(\"Число заведений по типам\", fontsize=20)\n",
    "plt.ylabel(\"Тип\", fontsize=10)\n",
    "plt.xlabel(\"Число заведений\", fontsize=12)\n",
    "plt.yticks(fontsize=12)\n",
    "plt.xticks(fontsize=10)\n",
    "plt.xticks(np.arange(0, 6500, 500)) \n",
    "plt.show()"
   ]
  },
  {
   "cell_type": "markdown",
   "metadata": {},
   "source": [
    "На рынке общаественнго питания Москвы преобладают кафе, их доля составляет 40%, менее распространены столовые и рестораны (17% и 15% соответственно). Наименее популярны кафетерии, закусочные и отделы кулинарии."
   ]
  },
  {
   "cell_type": "markdown",
   "metadata": {},
   "source": [
    "### Соотношение сетевых и несетевых заведений по количеству"
   ]
  },
  {
   "cell_type": "code",
   "execution_count": 13,
   "metadata": {},
   "outputs": [
    {
     "data": {
      "image/png": "[encoded data removed]"
     },
     "metadata": {},
     "output_type": "display_data"
    }
   ],
   "source": [
    "chains = data['chain'].value_counts().reset_index()\n",
    "fig = go.Figure(data=[go.Pie(labels=chains['index'], \n",
    "                             values=chains['chain'])])\n",
    "fig.update_layout(title_text='Соотношение сетевых и несетевых заведений', title_font_size=20)\n",
    "fig.update_traces(marker=dict(colors=['#fac228','#9f2a63']))\n",
    "fig.show(width=900, height=500, renderer='png')"
   ]
  },
  {
   "cell_type": "markdown",
   "metadata": {},
   "source": [
    "В Москве преобладают несетевые рестораны и кафе, их доля превышает 80%."
   ]
  },
  {
   "cell_type": "markdown",
   "metadata": {},
   "source": [
    "### Сетевое распространение по видам объектов общественного питания\n"
   ]
  },
  {
   "cell_type": "code",
   "execution_count": 14,
   "metadata": {},
   "outputs": [
    {
     "data": {
      "text/html": [
       "<div>\n",
       "<style scoped>\n",
       "    .dataframe tbody tr th:only-of-type {\n",
       "        vertical-align: middle;\n",
       "    }\n",
       "\n",
       "    .dataframe tbody tr th {\n",
       "        vertical-align: top;\n",
       "    }\n",
       "\n",
       "    .dataframe thead th {\n",
       "        text-align: right;\n",
       "    }\n",
       "</style>\n",
       "<table border=\"1\" class=\"dataframe\">\n",
       "  <thead>\n",
       "    <tr style=\"text-align: right;\">\n",
       "      <th>chain</th>\n",
       "      <th>object_type</th>\n",
       "      <th>да</th>\n",
       "      <th>нет</th>\n",
       "      <th>All</th>\n",
       "      <th>chain_share</th>\n",
       "    </tr>\n",
       "  </thead>\n",
       "  <tbody>\n",
       "    <tr>\n",
       "      <td>0</td>\n",
       "      <td>бар</td>\n",
       "      <td>37</td>\n",
       "      <td>810</td>\n",
       "      <td>847</td>\n",
       "      <td>4.4%</td>\n",
       "    </tr>\n",
       "    <tr>\n",
       "      <td>1</td>\n",
       "      <td>буфет</td>\n",
       "      <td>11</td>\n",
       "      <td>555</td>\n",
       "      <td>566</td>\n",
       "      <td>1.9%</td>\n",
       "    </tr>\n",
       "    <tr>\n",
       "      <td>2</td>\n",
       "      <td>закусочная</td>\n",
       "      <td>56</td>\n",
       "      <td>289</td>\n",
       "      <td>345</td>\n",
       "      <td>16.2%</td>\n",
       "    </tr>\n",
       "    <tr>\n",
       "      <td>3</td>\n",
       "      <td>кафе</td>\n",
       "      <td>1378</td>\n",
       "      <td>4611</td>\n",
       "      <td>5989</td>\n",
       "      <td>23.0%</td>\n",
       "    </tr>\n",
       "    <tr>\n",
       "      <td>4</td>\n",
       "      <td>кафетерий</td>\n",
       "      <td>51</td>\n",
       "      <td>339</td>\n",
       "      <td>390</td>\n",
       "      <td>13.1%</td>\n",
       "    </tr>\n",
       "    <tr>\n",
       "      <td>5</td>\n",
       "      <td>магазин (отдел кулинарии)</td>\n",
       "      <td>78</td>\n",
       "      <td>193</td>\n",
       "      <td>271</td>\n",
       "      <td>28.8%</td>\n",
       "    </tr>\n",
       "    <tr>\n",
       "      <td>6</td>\n",
       "      <td>предприятие быстрого обслуживания</td>\n",
       "      <td>782</td>\n",
       "      <td>1099</td>\n",
       "      <td>1881</td>\n",
       "      <td>41.6%</td>\n",
       "    </tr>\n",
       "    <tr>\n",
       "      <td>7</td>\n",
       "      <td>ресторан</td>\n",
       "      <td>536</td>\n",
       "      <td>1727</td>\n",
       "      <td>2263</td>\n",
       "      <td>23.7%</td>\n",
       "    </tr>\n",
       "    <tr>\n",
       "      <td>8</td>\n",
       "      <td>столовая</td>\n",
       "      <td>3</td>\n",
       "      <td>2571</td>\n",
       "      <td>2574</td>\n",
       "      <td>0.1%</td>\n",
       "    </tr>\n",
       "    <tr>\n",
       "      <td>9</td>\n",
       "      <td>All</td>\n",
       "      <td>2932</td>\n",
       "      <td>12194</td>\n",
       "      <td>15126</td>\n",
       "      <td>19.4%</td>\n",
       "    </tr>\n",
       "  </tbody>\n",
       "</table>\n",
       "</div>"
      ],
      "text/plain": [
       "chain                        object_type    да    нет    All chain_share\n",
       "0                                    бар    37    810    847        4.4%\n",
       "1                                  буфет    11    555    566        1.9%\n",
       "2                             закусочная    56    289    345       16.2%\n",
       "3                                   кафе  1378   4611   5989       23.0%\n",
       "4                              кафетерий    51    339    390       13.1%\n",
       "5              магазин (отдел кулинарии)    78    193    271       28.8%\n",
       "6      предприятие быстрого обслуживания   782   1099   1881       41.6%\n",
       "7                               ресторан   536   1727   2263       23.7%\n",
       "8                               столовая     3   2571   2574        0.1%\n",
       "9                                    All  2932  12194  15126       19.4%"
      ]
     },
     "metadata": {},
     "output_type": "display_data"
    },
    {
     "data": {
      "image/png": "[encoded data removed]",
      "text/plain": [
       "<Figure size 1008x576 with 1 Axes>"
      ]
     },
     "metadata": {},
     "output_type": "display_data"
    }
   ],
   "source": [
    "object_chain = data.pivot_table(index = 'object_type', columns = 'chain',values = 'id',\n",
    "                                        aggfunc = 'count', margins=True).reset_index()\n",
    "object_chain['chain_share'] = (object_chain['да']/object_chain['All']*100).round(1).astype(str) + '%'\n",
    "display(object_chain)\n",
    "\n",
    "plt.figure(figsize=(14,8))\n",
    "sns.set_style('whitegrid')\n",
    "sns.countplot(y=\"object_type\", data=data, hue=\"chain\", palette='inferno_r')\n",
    "plt.title(\"Число заведений по типам\", fontsize=20)\n",
    "plt.ylabel(\"Тип\", fontsize=12)\n",
    "plt.xlabel(\"Число заведений\", fontsize=12)\n",
    "plt.xticks(fontsize=12, rotation=0)\n",
    "plt.yticks(fontsize=12)\n",
    "plt.legend(fontsize=12)\n",
    "plt.xticks(np.arange(0, 6000, 500)) \n",
    "plt.show()"
   ]
  },
  {
   "cell_type": "markdown",
   "metadata": {},
   "source": [
    "Среди всех типов заведений предприятиям быстрого обслуживания наиболее свойственен сетевой формат - 41.5% заведений входят в сети. На втором месте отделы кулинарии (28.8%), на третьем - рестораны (23.7%). Меньше всего сетевых форматов среди столовых и буфетов."
   ]
  },
  {
   "cell_type": "markdown",
   "metadata": {},
   "source": [
    "### Cвязь между размером сети и количеством посадочных мест"
   ]
  },
  {
   "cell_type": "markdown",
   "metadata": {},
   "source": [
    "Изучим взаимосвязь между размером сети и средним количеством посадочных мест в заведении."
   ]
  },
  {
   "cell_type": "code",
   "execution_count": 15,
   "metadata": {},
   "outputs": [
    {
     "data": {
      "text/html": [
       "<div>\n",
       "<style scoped>\n",
       "    .dataframe tbody tr th:only-of-type {\n",
       "        vertical-align: middle;\n",
       "    }\n",
       "\n",
       "    .dataframe tbody tr th {\n",
       "        vertical-align: top;\n",
       "    }\n",
       "\n",
       "    .dataframe thead th {\n",
       "        text-align: right;\n",
       "    }\n",
       "</style>\n",
       "<table border=\"1\" class=\"dataframe\">\n",
       "  <thead>\n",
       "    <tr style=\"text-align: right;\">\n",
       "      <th></th>\n",
       "      <th>count</th>\n",
       "      <th>mean_number</th>\n",
       "    </tr>\n",
       "    <tr>\n",
       "      <th>object_name</th>\n",
       "      <th></th>\n",
       "      <th></th>\n",
       "    </tr>\n",
       "  </thead>\n",
       "  <tbody>\n",
       "    <tr>\n",
       "      <td>-закусочная бургер кинг</td>\n",
       "      <td>1</td>\n",
       "      <td>84.0</td>\n",
       "    </tr>\n",
       "    <tr>\n",
       "      <td>-пекарея волконский</td>\n",
       "      <td>1</td>\n",
       "      <td>3.0</td>\n",
       "    </tr>\n",
       "    <tr>\n",
       "      <td>beverly hills diner</td>\n",
       "      <td>1</td>\n",
       "      <td>88.0</td>\n",
       "    </tr>\n",
       "    <tr>\n",
       "      <td>bierloga</td>\n",
       "      <td>1</td>\n",
       "      <td>75.0</td>\n",
       "    </tr>\n",
       "    <tr>\n",
       "      <td>black &amp; white</td>\n",
       "      <td>1</td>\n",
       "      <td>40.0</td>\n",
       "    </tr>\n",
       "    <tr>\n",
       "      <td>bocconcino</td>\n",
       "      <td>3</td>\n",
       "      <td>67.0</td>\n",
       "    </tr>\n",
       "    <tr>\n",
       "      <td>boobo</td>\n",
       "      <td>1</td>\n",
       "      <td>46.0</td>\n",
       "    </tr>\n",
       "    <tr>\n",
       "      <td>bubbleology</td>\n",
       "      <td>1</td>\n",
       "      <td>6.0</td>\n",
       "    </tr>\n",
       "    <tr>\n",
       "      <td>burger club</td>\n",
       "      <td>3</td>\n",
       "      <td>20.0</td>\n",
       "    </tr>\n",
       "    <tr>\n",
       "      <td>coffeeshop</td>\n",
       "      <td>1</td>\n",
       "      <td>0.0</td>\n",
       "    </tr>\n",
       "  </tbody>\n",
       "</table>\n",
       "</div>"
      ],
      "text/plain": [
       "                         count  mean_number\n",
       "object_name                                \n",
       "-закусочная бургер кинг      1         84.0\n",
       "-пекарея волконский          1          3.0\n",
       "beverly hills diner          1         88.0\n",
       "bierloga                     1         75.0\n",
       "black & white                1         40.0\n",
       "bocconcino                   3         67.0\n",
       "boobo                        1         46.0\n",
       "bubbleology                  1          6.0\n",
       "burger club                  3         20.0\n",
       "coffeeshop                   1          0.0"
      ]
     },
     "metadata": {},
     "output_type": "display_data"
    }
   ],
   "source": [
    "chains = data.loc[data['chain'] == 'да'].pivot_table(\n",
    "    index=['object_name'], \n",
    "    values='number', \n",
    "    aggfunc=(['count', 'mean'])\n",
    "   ).round()\n",
    "chains.columns = ['count', 'mean_number']\n",
    "\n",
    "display(chains.head(10))"
   ]
  },
  {
   "cell_type": "markdown",
   "metadata": {},
   "source": [
    "В данных есть сети с 1 заведением. Удалим эти строки и проанализируем результат:"
   ]
  },
  {
   "cell_type": "code",
   "execution_count": 16,
   "metadata": {},
   "outputs": [
    {
     "data": {
      "image/png": "[encoded data removed]",
      "text/plain": [
       "<Figure size 576x576 with 3 Axes>"
      ]
     },
     "metadata": {},
     "output_type": "display_data"
    },
    {
     "data": {
      "text/html": [
       "<div>\n",
       "<style scoped>\n",
       "    .dataframe tbody tr th:only-of-type {\n",
       "        vertical-align: middle;\n",
       "    }\n",
       "\n",
       "    .dataframe tbody tr th {\n",
       "        vertical-align: top;\n",
       "    }\n",
       "\n",
       "    .dataframe thead th {\n",
       "        text-align: right;\n",
       "    }\n",
       "</style>\n",
       "<table border=\"1\" class=\"dataframe\">\n",
       "  <thead>\n",
       "    <tr style=\"text-align: right;\">\n",
       "      <th></th>\n",
       "      <th>mean_number</th>\n",
       "      <th>count</th>\n",
       "    </tr>\n",
       "  </thead>\n",
       "  <tbody>\n",
       "    <tr>\n",
       "      <td>count</td>\n",
       "      <td>207.00</td>\n",
       "      <td>207.00</td>\n",
       "    </tr>\n",
       "    <tr>\n",
       "      <td>mean</td>\n",
       "      <td>56.58</td>\n",
       "      <td>12.97</td>\n",
       "    </tr>\n",
       "    <tr>\n",
       "      <td>std</td>\n",
       "      <td>47.24</td>\n",
       "      <td>26.50</td>\n",
       "    </tr>\n",
       "    <tr>\n",
       "      <td>min</td>\n",
       "      <td>0.00</td>\n",
       "      <td>2.00</td>\n",
       "    </tr>\n",
       "    <tr>\n",
       "      <td>25%</td>\n",
       "      <td>20.00</td>\n",
       "      <td>2.00</td>\n",
       "    </tr>\n",
       "    <tr>\n",
       "      <td>50%</td>\n",
       "      <td>44.00</td>\n",
       "      <td>5.00</td>\n",
       "    </tr>\n",
       "    <tr>\n",
       "      <td>75%</td>\n",
       "      <td>80.00</td>\n",
       "      <td>9.00</td>\n",
       "    </tr>\n",
       "    <tr>\n",
       "      <td>max</td>\n",
       "      <td>245.00</td>\n",
       "      <td>170.00</td>\n",
       "    </tr>\n",
       "  </tbody>\n",
       "</table>\n",
       "</div>"
      ],
      "text/plain": [
       "       mean_number   count\n",
       "count       207.00  207.00\n",
       "mean         56.58   12.97\n",
       "std          47.24   26.50\n",
       "min           0.00    2.00\n",
       "25%          20.00    2.00\n",
       "50%          44.00    5.00\n",
       "75%          80.00    9.00\n",
       "max         245.00  170.00"
      ]
     },
     "metadata": {},
     "output_type": "display_data"
    }
   ],
   "source": [
    "chains = chains[chains['count'] != 1]\n",
    "\n",
    "r, p = st.pearsonr(chains['mean_number'], chains['count'])\n",
    "\n",
    "sns.set_style('whitegrid')\n",
    "sns.jointplot(x='mean_number', y='count', data=chains, kind='reg', \n",
    "              height=8, ratio=5, space=0.2, ylim=(-10, 180), xlim=(-10, 250), color='#280b53')\n",
    "\n",
    "plt.suptitle(\"Cвязь между размером сети и количеством посадочных мест\", fontsize=20, y = 1.1)\n",
    "plt.ylabel(\"Размер сети\", fontsize=12)\n",
    "plt.xlabel(\"Число мест\", fontsize=12)\n",
    "plt.xticks(fontsize=12)\n",
    "plt.yticks(fontsize=12) \n",
    "plt.legend(['r={0:.3f}'.format(r)], fontsize=12)\n",
    "plt.show()\n",
    "\n",
    "display(chains[['mean_number', 'count']].describe().round(2))"
   ]
  },
  {
   "cell_type": "markdown",
   "metadata": {},
   "source": [
    "Для сетевых форматов Москвы характерно небольшое количество заведений: половина сетей включают от 2 до 9 заведений, при этом отдельные сети могут насчитывать 100 и более заведений (170 максимум), что объясняет смещение распределения вправо. В половине сетей среднее число посадочных мест на одно кафе варьируется от 20 до 80. Индекс корреляции двух переменных, равный 0.038, свидетельствует о том, что размер сети и среднее количество посадочных мест в заведениях не взаимосвязаны."
   ]
  },
  {
   "cell_type": "markdown",
   "metadata": {},
   "source": [
    "### Среднее количество посадочных мест по видам объектов общественного питания"
   ]
  },
  {
   "cell_type": "code",
   "execution_count": 17,
   "metadata": {},
   "outputs": [
    {
     "data": {
      "text/html": [
       "<div>\n",
       "<style scoped>\n",
       "    .dataframe tbody tr th:only-of-type {\n",
       "        vertical-align: middle;\n",
       "    }\n",
       "\n",
       "    .dataframe tbody tr th {\n",
       "        vertical-align: top;\n",
       "    }\n",
       "\n",
       "    .dataframe thead th {\n",
       "        text-align: right;\n",
       "    }\n",
       "</style>\n",
       "<table border=\"1\" class=\"dataframe\">\n",
       "  <thead>\n",
       "    <tr style=\"text-align: right;\">\n",
       "      <th></th>\n",
       "      <th>count</th>\n",
       "      <th>mean</th>\n",
       "      <th>std</th>\n",
       "      <th>min</th>\n",
       "      <th>25%</th>\n",
       "      <th>50%</th>\n",
       "      <th>75%</th>\n",
       "      <th>max</th>\n",
       "    </tr>\n",
       "    <tr>\n",
       "      <th>object_type</th>\n",
       "      <th></th>\n",
       "      <th></th>\n",
       "      <th></th>\n",
       "      <th></th>\n",
       "      <th></th>\n",
       "      <th></th>\n",
       "      <th></th>\n",
       "      <th></th>\n",
       "    </tr>\n",
       "  </thead>\n",
       "  <tbody>\n",
       "    <tr>\n",
       "      <td>бар</td>\n",
       "      <td>847.0</td>\n",
       "      <td>44.0</td>\n",
       "      <td>67.0</td>\n",
       "      <td>0.0</td>\n",
       "      <td>20.0</td>\n",
       "      <td>35.0</td>\n",
       "      <td>50.0</td>\n",
       "      <td>1700.0</td>\n",
       "    </tr>\n",
       "    <tr>\n",
       "      <td>буфет</td>\n",
       "      <td>566.0</td>\n",
       "      <td>52.0</td>\n",
       "      <td>57.0</td>\n",
       "      <td>0.0</td>\n",
       "      <td>15.0</td>\n",
       "      <td>32.0</td>\n",
       "      <td>80.0</td>\n",
       "      <td>320.0</td>\n",
       "    </tr>\n",
       "    <tr>\n",
       "      <td>закусочная</td>\n",
       "      <td>345.0</td>\n",
       "      <td>8.0</td>\n",
       "      <td>16.0</td>\n",
       "      <td>0.0</td>\n",
       "      <td>0.0</td>\n",
       "      <td>0.0</td>\n",
       "      <td>10.0</td>\n",
       "      <td>216.0</td>\n",
       "    </tr>\n",
       "    <tr>\n",
       "      <td>кафе</td>\n",
       "      <td>5989.0</td>\n",
       "      <td>40.0</td>\n",
       "      <td>38.0</td>\n",
       "      <td>0.0</td>\n",
       "      <td>15.0</td>\n",
       "      <td>32.0</td>\n",
       "      <td>50.0</td>\n",
       "      <td>533.0</td>\n",
       "    </tr>\n",
       "    <tr>\n",
       "      <td>кафетерий</td>\n",
       "      <td>390.0</td>\n",
       "      <td>9.0</td>\n",
       "      <td>15.0</td>\n",
       "      <td>0.0</td>\n",
       "      <td>0.0</td>\n",
       "      <td>6.0</td>\n",
       "      <td>12.0</td>\n",
       "      <td>200.0</td>\n",
       "    </tr>\n",
       "    <tr>\n",
       "      <td>магазин (отдел кулинарии)</td>\n",
       "      <td>271.0</td>\n",
       "      <td>6.0</td>\n",
       "      <td>10.0</td>\n",
       "      <td>0.0</td>\n",
       "      <td>0.0</td>\n",
       "      <td>0.0</td>\n",
       "      <td>8.0</td>\n",
       "      <td>50.0</td>\n",
       "    </tr>\n",
       "    <tr>\n",
       "      <td>предприятие быстрого обслуживания</td>\n",
       "      <td>1881.0</td>\n",
       "      <td>21.0</td>\n",
       "      <td>39.0</td>\n",
       "      <td>0.0</td>\n",
       "      <td>0.0</td>\n",
       "      <td>6.0</td>\n",
       "      <td>25.0</td>\n",
       "      <td>580.0</td>\n",
       "    </tr>\n",
       "    <tr>\n",
       "      <td>ресторан</td>\n",
       "      <td>2263.0</td>\n",
       "      <td>97.0</td>\n",
       "      <td>95.0</td>\n",
       "      <td>0.0</td>\n",
       "      <td>48.0</td>\n",
       "      <td>80.0</td>\n",
       "      <td>115.0</td>\n",
       "      <td>1500.0</td>\n",
       "    </tr>\n",
       "    <tr>\n",
       "      <td>столовая</td>\n",
       "      <td>2574.0</td>\n",
       "      <td>130.0</td>\n",
       "      <td>95.0</td>\n",
       "      <td>0.0</td>\n",
       "      <td>52.0</td>\n",
       "      <td>103.0</td>\n",
       "      <td>200.0</td>\n",
       "      <td>1400.0</td>\n",
       "    </tr>\n",
       "  </tbody>\n",
       "</table>\n",
       "</div>"
      ],
      "text/plain": [
       "                                    count   mean   std  min   25%    50%  \\\n",
       "object_type                                                                \n",
       "бар                                 847.0   44.0  67.0  0.0  20.0   35.0   \n",
       "буфет                               566.0   52.0  57.0  0.0  15.0   32.0   \n",
       "закусочная                          345.0    8.0  16.0  0.0   0.0    0.0   \n",
       "кафе                               5989.0   40.0  38.0  0.0  15.0   32.0   \n",
       "кафетерий                           390.0    9.0  15.0  0.0   0.0    6.0   \n",
       "магазин (отдел кулинарии)           271.0    6.0  10.0  0.0   0.0    0.0   \n",
       "предприятие быстрого обслуживания  1881.0   21.0  39.0  0.0   0.0    6.0   \n",
       "ресторан                           2263.0   97.0  95.0  0.0  48.0   80.0   \n",
       "столовая                           2574.0  130.0  95.0  0.0  52.0  103.0   \n",
       "\n",
       "                                     75%     max  \n",
       "object_type                                       \n",
       "бар                                 50.0  1700.0  \n",
       "буфет                               80.0   320.0  \n",
       "закусочная                          10.0   216.0  \n",
       "кафе                                50.0   533.0  \n",
       "кафетерий                           12.0   200.0  \n",
       "магазин (отдел кулинарии)            8.0    50.0  \n",
       "предприятие быстрого обслуживания   25.0   580.0  \n",
       "ресторан                           115.0  1500.0  \n",
       "столовая                           200.0  1400.0  "
      ]
     },
     "metadata": {},
     "output_type": "display_data"
    },
    {
     "data": {
      "image/png": "[encoded data removed]"
     },
     "metadata": {},
     "output_type": "display_data"
    }
   ],
   "source": [
    "display(data.groupby('object_type')['number'].describe().round(0))\n",
    "\n",
    "fig = px.box(data, x=\"object_type\", y=\"number\")\n",
    "\n",
    "fig.update_layout(title_text='Число посадочных мест по типам заведений', \n",
    "                  yaxis_title='Число мест', xaxis_title='Тип заведения', \n",
    "                  title_font_size=20, width=1000, height=600)\n",
    "fig.update_yaxes(range = [0,500], nticks=20)\n",
    "\n",
    "fig.show(width=1000, height=500, renderer='png')"
   ]
  },
  {
   "cell_type": "markdown",
   "metadata": {},
   "source": [
    "Как правило, самыми вместительными заведениями общественного питания являются столовые - от 52 до 200 мест в половине случаев; на втором месте рестораны - с межквартильным размахом от 48 до 115 мест. Бары и кафе очень близки  в распределении переменной, однако средние и медианные значения у баров выше (44 и 35 против 40 и 32 соответственно). Закусочные, кафетерии и отделы кулинарии характеризуются наименьшим количеством посадочных мест - как правило, в пределах 30 мест."
   ]
  },
  {
   "cell_type": "markdown",
   "metadata": {},
   "source": [
    "### Получение переменной улиц"
   ]
  },
  {
   "cell_type": "markdown",
   "metadata": {},
   "source": [
    "Выделим в отдельный столбец информацию об улицах нахождения заведений из столбца address."
   ]
  },
  {
   "cell_type": "code",
   "execution_count": 18,
   "metadata": {},
   "outputs": [],
   "source": [
    "data['split'] = data['address'].str.split(r'\\s*,\\s*|\\s*\\,\\s*')\n",
    "\n",
    "def get_street(address):\n",
    "    street = next(filter(lambda x: \n",
    "                    'улиц' in x or \n",
    "                    'просп' in x or \n",
    "                    'проезд' in x or\n",
    "                    'переул' in x or \n",
    "                    'просек' in x or \n",
    "                    'тупик' in x or \n",
    "                    'буль' in x or\n",
    "                    'алле' in x or\n",
    "                    'линия' in x or\n",
    "                    'килом' in x or\n",
    "                    'кварт' in x or\n",
    "                    'шосс' in x or\n",
    "                    'площ' in x or\n",
    "                    'набер' in x, address), None)\n",
    "    return street\n",
    "\n",
    "data['street'] = data['split'].apply(get_street)"
   ]
  },
  {
   "cell_type": "code",
   "execution_count": 19,
   "metadata": {},
   "outputs": [
    {
     "name": "stdout",
     "output_type": "stream",
     "text": [
      "Не удалось отпределить улицу: 340\n",
      "Доля от общего числа наблюдений: 2.2%\n"
     ]
    }
   ],
   "source": [
    "print('Не удалось отпределить улицу:', len(data[data['street'].isnull()]))\n",
    "print('Доля от общего числа наблюдений: {:.1%}'.format((len(data[data['street'].isnull()])/len(data))))"
   ]
  },
  {
   "cell_type": "markdown",
   "metadata": {},
   "source": [
    "Для 340 строк не удалось установить улицу, поскольку она не указана в явном виде в самих адресах. Поскольку доля таких наблюдений составляет всего 2%, оставим пропуски в текущем виде."
   ]
  },
  {
   "cell_type": "markdown",
   "metadata": {},
   "source": [
    "### Топ-10 улиц по количеству объектов общественного питания. "
   ]
  },
  {
   "cell_type": "code",
   "execution_count": 20,
   "metadata": {},
   "outputs": [
    {
     "data": {
      "text/html": [
       "<div>\n",
       "<style scoped>\n",
       "    .dataframe tbody tr th:only-of-type {\n",
       "        vertical-align: middle;\n",
       "    }\n",
       "\n",
       "    .dataframe tbody tr th {\n",
       "        vertical-align: top;\n",
       "    }\n",
       "\n",
       "    .dataframe thead th {\n",
       "        text-align: right;\n",
       "    }\n",
       "</style>\n",
       "<table border=\"1\" class=\"dataframe\">\n",
       "  <thead>\n",
       "    <tr style=\"text-align: right;\">\n",
       "      <th></th>\n",
       "      <th>street</th>\n",
       "      <th>count</th>\n",
       "    </tr>\n",
       "  </thead>\n",
       "  <tbody>\n",
       "    <tr>\n",
       "      <td>0</td>\n",
       "      <td>проспект Мира</td>\n",
       "      <td>195</td>\n",
       "    </tr>\n",
       "    <tr>\n",
       "      <td>1</td>\n",
       "      <td>Профсоюзная улица</td>\n",
       "      <td>180</td>\n",
       "    </tr>\n",
       "    <tr>\n",
       "      <td>2</td>\n",
       "      <td>Ленинградский проспект</td>\n",
       "      <td>170</td>\n",
       "    </tr>\n",
       "    <tr>\n",
       "      <td>3</td>\n",
       "      <td>Пресненская набережная</td>\n",
       "      <td>164</td>\n",
       "    </tr>\n",
       "    <tr>\n",
       "      <td>4</td>\n",
       "      <td>Варшавское шоссе</td>\n",
       "      <td>163</td>\n",
       "    </tr>\n",
       "    <tr>\n",
       "      <td>5</td>\n",
       "      <td>Ленинский проспект</td>\n",
       "      <td>148</td>\n",
       "    </tr>\n",
       "    <tr>\n",
       "      <td>6</td>\n",
       "      <td>проспект Вернадского</td>\n",
       "      <td>126</td>\n",
       "    </tr>\n",
       "    <tr>\n",
       "      <td>7</td>\n",
       "      <td>Кутузовский проспект</td>\n",
       "      <td>112</td>\n",
       "    </tr>\n",
       "    <tr>\n",
       "      <td>8</td>\n",
       "      <td>Каширское шоссе</td>\n",
       "      <td>110</td>\n",
       "    </tr>\n",
       "    <tr>\n",
       "      <td>9</td>\n",
       "      <td>Кировоградская улица</td>\n",
       "      <td>106</td>\n",
       "    </tr>\n",
       "  </tbody>\n",
       "</table>\n",
       "</div>"
      ],
      "text/plain": [
       "                   street  count\n",
       "0           проспект Мира    195\n",
       "1       Профсоюзная улица    180\n",
       "2  Ленинградский проспект    170\n",
       "3  Пресненская набережная    164\n",
       "4        Варшавское шоссе    163\n",
       "5      Ленинский проспект    148\n",
       "6    проспект Вернадского    126\n",
       "7    Кутузовский проспект    112\n",
       "8         Каширское шоссе    110\n",
       "9    Кировоградская улица    106"
      ]
     },
     "metadata": {},
     "output_type": "display_data"
    },
    {
     "data": {
      "image/png": "[encoded data removed]",
      "text/plain": [
       "<Figure size 720x432 with 1 Axes>"
      ]
     },
     "metadata": {},
     "output_type": "display_data"
    }
   ],
   "source": [
    "streets = data.pivot_table(index = 'street', values = 'id',\n",
    "                                        aggfunc = 'count').sort_values(by='id', ascending=False)\n",
    "streets.columns = ['count']\n",
    "top_streets = streets[:10].reset_index()\n",
    "display(top_streets)\n",
    "\n",
    "plt.figure(figsize=(10,6))\n",
    "sns.set_style('whitegrid')\n",
    "sns.barplot(y = top_streets['street'], x=top_streets['count'], palette='inferno_r')\n",
    "plt.title(\"Число заведений по улицам\", fontsize=20)\n",
    "plt.ylabel(\"Улица\", fontsize=12)\n",
    "plt.xlabel(\"Число заведений\", fontsize=12)\n",
    "plt.yticks(fontsize=12)\n",
    "plt.xticks(fontsize=10)\n",
    "plt.xticks(np.arange(0, 220, 20)) \n",
    "plt.show()"
   ]
  },
  {
   "cell_type": "markdown",
   "metadata": {},
   "source": [
    "Наиболее насыщенными с точки зрения количества заведений общественного питания являются следующие улицы Москвы:\n",
    "* проспект Мира\n",
    "* Профсоюзная улица\n",
    "* Ленинградский проспект\n",
    "* Пресненская набережная\n",
    "* Варшавское шоссе\n",
    "* Ленинский проспект\n",
    "* проспект Вернадского\n",
    "* Кутузовский проспект\n",
    "* Каширское шоссе\n",
    "* Кировоградская улица\n",
    "\n",
    "Среди всех улиц Москвы лидирует проспект Мира - с 197 заведениями."
   ]
  },
  {
   "cell_type": "markdown",
   "metadata": {},
   "source": [
    "### Определение районов с максимальным числом заведений"
   ]
  },
  {
   "cell_type": "markdown",
   "metadata": {},
   "source": [
    "Создадим справочник адресов кафе, находящихся на ТОП-10 улиц:"
   ]
  },
  {
   "cell_type": "code",
   "execution_count": 21,
   "metadata": {},
   "outputs": [
    {
     "name": "stdout",
     "output_type": "stream",
     "text": [
      "Уникальных адресов на ТОП-10 улицах: 592\n"
     ]
    }
   ],
   "source": [
    "top_address = data.loc[data['street'].isin(\n",
    "    top_streets['street'])].groupby(['address', 'street']).agg({'id': 'count'}).reset_index()\n",
    "\n",
    "dict_top = top_address['address']\n",
    "print('Уникальных адресов на ТОП-10 улицах:', len(dict_top))"
   ]
  },
  {
   "cell_type": "markdown",
   "metadata": {},
   "source": [
    "Для определения райнов воспользуемся информацией из API Яндекс.Геокодера. Код для выгрузки координат и районов:"
   ]
  },
  {
   "cell_type": "code",
   "execution_count": 22,
   "metadata": {},
   "outputs": [],
   "source": [
    "BASE_URL = \"https://geocode-maps.yandex.ru/1.x\"\n",
    "apikey = 'xxx' #insert key\n",
    "\n",
    "def location(address):\n",
    "    params = {\n",
    "    \"geocode\": address,\n",
    "    \"apikey\": apikey,\n",
    "    \"format\": \"json\"\n",
    "    }\n",
    "    response = requests.get(BASE_URL, params=params)\n",
    "    response_parsed = json.loads(response.text)\n",
    "    coordinates = response_parsed['response']['GeoObjectCollection']['featureMember'][0]['GeoObject']['Point']['pos']\n",
    "    return coordinates\n",
    "\n",
    "def region(location):\n",
    "    params = {\n",
    "    \"geocode\": location,\n",
    "    \"apikey\": apikey,\n",
    "    \"format\": \"json\"\n",
    "    }\n",
    "    response = requests.get(BASE_URL, params=params)\n",
    "    response_parsed = json.loads(response.text)\n",
    "    output = response_parsed['response']['GeoObjectCollection']['featureMember'][2]['GeoObject']['metaDataProperty']['GeocoderMetaData']['Address']['Components']\n",
    "    data = pd.DataFrame(data=output)\n",
    "    region = data.loc[data['kind'] == 'district', 'name']\n",
    "    return region"
   ]
  },
  {
   "cell_type": "markdown",
   "metadata": {},
   "source": [
    "С использованием API Яндекс.Геокодера выполнена выгрузка районов в несколько итераций, после чего данные добавлены в справочник top_locations:"
   ]
  },
  {
   "cell_type": "code",
   "execution_count": 23,
   "metadata": {},
   "outputs": [],
   "source": [
    "# Выгрузка координат геолокаций \n",
    "#top_locations_250 = dict_top[0:250].apply(location)\n",
    "#top_locations_500 = dict_top[250:500].apply(location)\n",
    "#top_locations_592 = dict_top[500:592].apply(location)\n",
    "#top_locations = [top_locations_250, *top_locations_500, *top_locations_592]\n",
    "#print(len(top_locations))\n",
    "\n",
    "# Добавление геолокаций в справочник\n",
    "#top_address['location'] = top_locations\n",
    "#top_address.head(20)\n",
    "\n",
    "# Выгрузка районов \n",
    "#top_regions_250 = top_locations[0:250].apply(region)\n",
    "#top_regions_500 = top_locations[250:500].apply(region)\n",
    "#top_regions_592 = top_locations[500:592].apply(region)\n",
    "#top_regions = pd.concat([top_regions_250, top_regions_500, top_regions_592],axis=0)\n",
    "\n",
    "# Объелинение данных и сохраниение в csv файл\n",
    "#top_locations = top_address.merge(top_regions, left_index=True, right_index=True, how='left')                      \n",
    "#top_locations.to_csv('top_locations.csv')"
   ]
  },
  {
   "cell_type": "markdown",
   "metadata": {},
   "source": [
    "Полученный справочник сохранен с Google Docs. Код для выгрузки файла:"
   ]
  },
  {
   "cell_type": "code",
   "execution_count": 24,
   "metadata": {},
   "outputs": [
    {
     "data": {
      "text/html": [
       "<div>\n",
       "<style scoped>\n",
       "    .dataframe tbody tr th:only-of-type {\n",
       "        vertical-align: middle;\n",
       "    }\n",
       "\n",
       "    .dataframe tbody tr th {\n",
       "        vertical-align: top;\n",
       "    }\n",
       "\n",
       "    .dataframe thead th {\n",
       "        text-align: right;\n",
       "    }\n",
       "</style>\n",
       "<table border=\"1\" class=\"dataframe\">\n",
       "  <thead>\n",
       "    <tr style=\"text-align: right;\">\n",
       "      <th></th>\n",
       "      <th>Unnamed: 0</th>\n",
       "      <th>address</th>\n",
       "      <th>street</th>\n",
       "      <th>id</th>\n",
       "      <th>location</th>\n",
       "      <th>district</th>\n",
       "    </tr>\n",
       "  </thead>\n",
       "  <tbody>\n",
       "    <tr>\n",
       "      <td>0</td>\n",
       "      <td>0</td>\n",
       "      <td>Варшавское шоссе, владение 99А</td>\n",
       "      <td>Варшавское шоссе</td>\n",
       "      <td>1</td>\n",
       "      <td>37.620636 55.632713</td>\n",
       "      <td>район Чертаново Северное</td>\n",
       "    </tr>\n",
       "    <tr>\n",
       "      <td>1</td>\n",
       "      <td>1</td>\n",
       "      <td>Ленинградский проспект, дом 37, корпус 4</td>\n",
       "      <td>Ленинградский проспект</td>\n",
       "      <td>1</td>\n",
       "      <td>37.540533 55.793313</td>\n",
       "      <td>Хорошёвский район</td>\n",
       "    </tr>\n",
       "    <tr>\n",
       "      <td>2</td>\n",
       "      <td>2</td>\n",
       "      <td>Ленинградский проспект, дом 39, строение 2</td>\n",
       "      <td>Ленинградский проспект</td>\n",
       "      <td>1</td>\n",
       "      <td>37.539877 55.79056</td>\n",
       "      <td>Хорошёвский район</td>\n",
       "    </tr>\n",
       "    <tr>\n",
       "      <td>3</td>\n",
       "      <td>3</td>\n",
       "      <td>Ленинский проспект, владение 164</td>\n",
       "      <td>Ленинский проспект</td>\n",
       "      <td>1</td>\n",
       "      <td>37.468775 55.644064</td>\n",
       "      <td>район Тропарёво-Никулино</td>\n",
       "    </tr>\n",
       "    <tr>\n",
       "      <td>4</td>\n",
       "      <td>4</td>\n",
       "      <td>Профсоюзная улица, дом 118Б, корпус 1</td>\n",
       "      <td>Профсоюзная улица</td>\n",
       "      <td>1</td>\n",
       "      <td>37.516656 55.637642</td>\n",
       "      <td>район Коньково</td>\n",
       "    </tr>\n",
       "  </tbody>\n",
       "</table>\n",
       "</div>"
      ],
      "text/plain": [
       "   Unnamed: 0                                     address  \\\n",
       "0           0              Варшавское шоссе, владение 99А   \n",
       "1           1    Ленинградский проспект, дом 37, корпус 4   \n",
       "2           2  Ленинградский проспект, дом 39, строение 2   \n",
       "3           3            Ленинский проспект, владение 164   \n",
       "4           4       Профсоюзная улица, дом 118Б, корпус 1   \n",
       "\n",
       "                   street  id             location                  district  \n",
       "0        Варшавское шоссе   1  37.620636 55.632713  район Чертаново Северное  \n",
       "1  Ленинградский проспект   1  37.540533 55.793313         Хорошёвский район  \n",
       "2  Ленинградский проспект   1   37.539877 55.79056         Хорошёвский район  \n",
       "3      Ленинский проспект   1  37.468775 55.644064  район Тропарёво-Никулино  \n",
       "4       Профсоюзная улица   1  37.516656 55.637642            район Коньково  "
      ]
     },
     "metadata": {},
     "output_type": "display_data"
    },
    {
     "data": {
      "text/plain": [
       "array(['район Чертаново Северное', 'Хорошёвский район',\n",
       "       'район Тропарёво-Никулино', 'район Коньково',\n",
       "       'район Чертаново Центральное', 'район Южное Бутово',\n",
       "       'Донской район', 'исторический район Волхонка-ЗИЛ',\n",
       "       'район Чертаново Южное', 'Нагорный район',\n",
       "       'район Нагатино-Садовники', 'район Москворечье-Сабурово',\n",
       "       'район Орехово-Борисово Южное', 'район Орехово-Борисово Северное',\n",
       "       'район Дорогомилово', 'район Фили-Давыдково', 'район Беговой',\n",
       "       'район Аэропорт', 'район Сокол', 'район Якиманка',\n",
       "       'Обручевский район', 'район Тёплый Стан',\n",
       "       'район Проспект Вернадского', 'Гагаринский район',\n",
       "       'Ломоносовский район', 'Пресненский район', 'Академический район',\n",
       "       'район Ясенево', 'район Черёмушки', 'квартал № 123',\n",
       "       'район Раменки', 'Останкинский район', 'Алексеевский район',\n",
       "       'Мещанский район', 'район Ростокино', 'район Свиблово',\n",
       "       'Ярославский район'], dtype=object)"
      ]
     },
     "metadata": {},
     "output_type": "display_data"
    }
   ],
   "source": [
    "spreadsheet_id = \"1xOKtkm1YjOfrTjrm0kMwmcBLKRhvxKalyVbcFo43PL4\"\n",
    "file_name = \"https://docs.google.com/spreadsheets/d/{}/export?format=csv\".format(spreadsheet_id)\n",
    "r = requests.get(file_name)\n",
    "top_locations = pd.read_csv(BytesIO(r.content))\n",
    "\n",
    "display(top_locations.head())\n",
    "display(top_locations['district'].unique())"
   ]
  },
  {
   "cell_type": "markdown",
   "metadata": {},
   "source": [
    "Изучим адреса, относящиеся к районам необычными названиями: \"исторический район Волхонка-ЗИЛ\" и \"квартал № 123\"."
   ]
  },
  {
   "cell_type": "code",
   "execution_count": 25,
   "metadata": {},
   "outputs": [
    {
     "data": {
      "text/html": [
       "<div>\n",
       "<style scoped>\n",
       "    .dataframe tbody tr th:only-of-type {\n",
       "        vertical-align: middle;\n",
       "    }\n",
       "\n",
       "    .dataframe tbody tr th {\n",
       "        vertical-align: top;\n",
       "    }\n",
       "\n",
       "    .dataframe thead th {\n",
       "        text-align: right;\n",
       "    }\n",
       "</style>\n",
       "<table border=\"1\" class=\"dataframe\">\n",
       "  <thead>\n",
       "    <tr style=\"text-align: right;\">\n",
       "      <th></th>\n",
       "      <th>Unnamed: 0</th>\n",
       "      <th>address</th>\n",
       "      <th>street</th>\n",
       "      <th>id</th>\n",
       "      <th>location</th>\n",
       "      <th>district</th>\n",
       "    </tr>\n",
       "  </thead>\n",
       "  <tbody>\n",
       "    <tr>\n",
       "      <td>448</td>\n",
       "      <td>448</td>\n",
       "      <td>город Москва, поселение Воскресенское, Варшавс...</td>\n",
       "      <td>Варшавское шоссе</td>\n",
       "      <td>1</td>\n",
       "      <td>37.592851 55.492625</td>\n",
       "      <td>квартал № 123</td>\n",
       "    </tr>\n",
       "  </tbody>\n",
       "</table>\n",
       "</div>"
      ],
      "text/plain": [
       "     Unnamed: 0                                            address  \\\n",
       "448         448  город Москва, поселение Воскресенское, Варшавс...   \n",
       "\n",
       "               street  id             location       district  \n",
       "448  Варшавское шоссе   1  37.592851 55.492625  квартал № 123  "
      ]
     },
     "metadata": {},
     "output_type": "display_data"
    },
    {
     "data": {
      "text/html": [
       "<div>\n",
       "<style scoped>\n",
       "    .dataframe tbody tr th:only-of-type {\n",
       "        vertical-align: middle;\n",
       "    }\n",
       "\n",
       "    .dataframe tbody tr th {\n",
       "        vertical-align: top;\n",
       "    }\n",
       "\n",
       "    .dataframe thead th {\n",
       "        text-align: right;\n",
       "    }\n",
       "</style>\n",
       "<table border=\"1\" class=\"dataframe\">\n",
       "  <thead>\n",
       "    <tr style=\"text-align: right;\">\n",
       "      <th></th>\n",
       "      <th>Unnamed: 0</th>\n",
       "      <th>address</th>\n",
       "      <th>street</th>\n",
       "      <th>id</th>\n",
       "      <th>location</th>\n",
       "      <th>district</th>\n",
       "    </tr>\n",
       "  </thead>\n",
       "  <tbody>\n",
       "    <tr>\n",
       "      <td>10</td>\n",
       "      <td>10</td>\n",
       "      <td>город Москва, Варшавское шоссе, дом 100</td>\n",
       "      <td>Варшавское шоссе</td>\n",
       "      <td>1</td>\n",
       "      <td>37.618821 55.646233</td>\n",
       "      <td>исторический район Волхонка-ЗИЛ</td>\n",
       "    </tr>\n",
       "    <tr>\n",
       "      <td>11</td>\n",
       "      <td>11</td>\n",
       "      <td>город Москва, Варшавское шоссе, дом 102, строе...</td>\n",
       "      <td>Варшавское шоссе</td>\n",
       "      <td>1</td>\n",
       "      <td>37.618965 55.644623</td>\n",
       "      <td>исторический район Волхонка-ЗИЛ</td>\n",
       "    </tr>\n",
       "    <tr>\n",
       "      <td>71</td>\n",
       "      <td>71</td>\n",
       "      <td>город Москва, Варшавское шоссе, дом 60, корпус 2</td>\n",
       "      <td>Варшавское шоссе</td>\n",
       "      <td>1</td>\n",
       "      <td>37.617572 55.661816</td>\n",
       "      <td>исторический район Волхонка-ЗИЛ</td>\n",
       "    </tr>\n",
       "    <tr>\n",
       "      <td>74</td>\n",
       "      <td>74</td>\n",
       "      <td>город Москва, Варшавское шоссе, дом 71, корпус 3</td>\n",
       "      <td>Варшавское шоссе</td>\n",
       "      <td>1</td>\n",
       "      <td>37.621507 55.661034</td>\n",
       "      <td>исторический район Волхонка-ЗИЛ</td>\n",
       "    </tr>\n",
       "    <tr>\n",
       "      <td>75</td>\n",
       "      <td>75</td>\n",
       "      <td>город Москва, Варшавское шоссе, дом 72, корпус 2</td>\n",
       "      <td>Варшавское шоссе</td>\n",
       "      <td>1</td>\n",
       "      <td>37.618767 55.656839</td>\n",
       "      <td>исторический район Волхонка-ЗИЛ</td>\n",
       "    </tr>\n",
       "    <tr>\n",
       "      <td>76</td>\n",
       "      <td>76</td>\n",
       "      <td>город Москва, Варшавское шоссе, дом 81, корпус 2</td>\n",
       "      <td>Варшавское шоссе</td>\n",
       "      <td>1</td>\n",
       "      <td>37.621202 55.656539</td>\n",
       "      <td>исторический район Волхонка-ЗИЛ</td>\n",
       "    </tr>\n",
       "    <tr>\n",
       "      <td>77</td>\n",
       "      <td>77</td>\n",
       "      <td>город Москва, Варшавское шоссе, дом 82</td>\n",
       "      <td>Варшавское шоссе</td>\n",
       "      <td>2</td>\n",
       "      <td>37.618767 55.65178</td>\n",
       "      <td>исторический район Волхонка-ЗИЛ</td>\n",
       "    </tr>\n",
       "    <tr>\n",
       "      <td>78</td>\n",
       "      <td>78</td>\n",
       "      <td>город Москва, Варшавское шоссе, дом 83, строен...</td>\n",
       "      <td>Варшавское шоссе</td>\n",
       "      <td>2</td>\n",
       "      <td>37.62051 55.655823</td>\n",
       "      <td>исторический район Волхонка-ЗИЛ</td>\n",
       "    </tr>\n",
       "    <tr>\n",
       "      <td>79</td>\n",
       "      <td>79</td>\n",
       "      <td>город Москва, Варшавское шоссе, дом 86</td>\n",
       "      <td>Варшавское шоссе</td>\n",
       "      <td>2</td>\n",
       "      <td>37.618821 55.650246</td>\n",
       "      <td>исторический район Волхонка-ЗИЛ</td>\n",
       "    </tr>\n",
       "    <tr>\n",
       "      <td>80</td>\n",
       "      <td>80</td>\n",
       "      <td>город Москва, Варшавское шоссе, дом 86А</td>\n",
       "      <td>Варшавское шоссе</td>\n",
       "      <td>1</td>\n",
       "      <td>37.618776 55.650002</td>\n",
       "      <td>исторический район Волхонка-ЗИЛ</td>\n",
       "    </tr>\n",
       "    <tr>\n",
       "      <td>81</td>\n",
       "      <td>81</td>\n",
       "      <td>город Москва, Варшавское шоссе, дом 87Б</td>\n",
       "      <td>Варшавское шоссе</td>\n",
       "      <td>9</td>\n",
       "      <td>37.620698 55.653644</td>\n",
       "      <td>исторический район Волхонка-ЗИЛ</td>\n",
       "    </tr>\n",
       "    <tr>\n",
       "      <td>85</td>\n",
       "      <td>85</td>\n",
       "      <td>город Москва, Варшавское шоссе, дом 91</td>\n",
       "      <td>Варшавское шоссе</td>\n",
       "      <td>1</td>\n",
       "      <td>37.620447 55.651288</td>\n",
       "      <td>исторический район Волхонка-ЗИЛ</td>\n",
       "    </tr>\n",
       "    <tr>\n",
       "      <td>86</td>\n",
       "      <td>86</td>\n",
       "      <td>город Москва, Варшавское шоссе, дом 91, строен...</td>\n",
       "      <td>Варшавское шоссе</td>\n",
       "      <td>1</td>\n",
       "      <td>37.620339 55.651039</td>\n",
       "      <td>исторический район Волхонка-ЗИЛ</td>\n",
       "    </tr>\n",
       "    <tr>\n",
       "      <td>87</td>\n",
       "      <td>87</td>\n",
       "      <td>город Москва, Варшавское шоссе, дом 93</td>\n",
       "      <td>Варшавское шоссе</td>\n",
       "      <td>1</td>\n",
       "      <td>37.620707 55.646894</td>\n",
       "      <td>исторический район Волхонка-ЗИЛ</td>\n",
       "    </tr>\n",
       "  </tbody>\n",
       "</table>\n",
       "</div>"
      ],
      "text/plain": [
       "    Unnamed: 0                                            address  \\\n",
       "10          10            город Москва, Варшавское шоссе, дом 100   \n",
       "11          11  город Москва, Варшавское шоссе, дом 102, строе...   \n",
       "71          71   город Москва, Варшавское шоссе, дом 60, корпус 2   \n",
       "74          74   город Москва, Варшавское шоссе, дом 71, корпус 3   \n",
       "75          75   город Москва, Варшавское шоссе, дом 72, корпус 2   \n",
       "76          76   город Москва, Варшавское шоссе, дом 81, корпус 2   \n",
       "77          77             город Москва, Варшавское шоссе, дом 82   \n",
       "78          78  город Москва, Варшавское шоссе, дом 83, строен...   \n",
       "79          79             город Москва, Варшавское шоссе, дом 86   \n",
       "80          80            город Москва, Варшавское шоссе, дом 86А   \n",
       "81          81            город Москва, Варшавское шоссе, дом 87Б   \n",
       "85          85             город Москва, Варшавское шоссе, дом 91   \n",
       "86          86  город Москва, Варшавское шоссе, дом 91, строен...   \n",
       "87          87             город Москва, Варшавское шоссе, дом 93   \n",
       "\n",
       "              street  id             location                         district  \n",
       "10  Варшавское шоссе   1  37.618821 55.646233  исторический район Волхонка-ЗИЛ  \n",
       "11  Варшавское шоссе   1  37.618965 55.644623  исторический район Волхонка-ЗИЛ  \n",
       "71  Варшавское шоссе   1  37.617572 55.661816  исторический район Волхонка-ЗИЛ  \n",
       "74  Варшавское шоссе   1  37.621507 55.661034  исторический район Волхонка-ЗИЛ  \n",
       "75  Варшавское шоссе   1  37.618767 55.656839  исторический район Волхонка-ЗИЛ  \n",
       "76  Варшавское шоссе   1  37.621202 55.656539  исторический район Волхонка-ЗИЛ  \n",
       "77  Варшавское шоссе   2   37.618767 55.65178  исторический район Волхонка-ЗИЛ  \n",
       "78  Варшавское шоссе   2   37.62051 55.655823  исторический район Волхонка-ЗИЛ  \n",
       "79  Варшавское шоссе   2  37.618821 55.650246  исторический район Волхонка-ЗИЛ  \n",
       "80  Варшавское шоссе   1  37.618776 55.650002  исторический район Волхонка-ЗИЛ  \n",
       "81  Варшавское шоссе   9  37.620698 55.653644  исторический район Волхонка-ЗИЛ  \n",
       "85  Варшавское шоссе   1  37.620447 55.651288  исторический район Волхонка-ЗИЛ  \n",
       "86  Варшавское шоссе   1  37.620339 55.651039  исторический район Волхонка-ЗИЛ  \n",
       "87  Варшавское шоссе   1  37.620707 55.646894  исторический район Волхонка-ЗИЛ  "
      ]
     },
     "metadata": {},
     "output_type": "display_data"
    }
   ],
   "source": [
    "display(top_locations[top_locations[\"district\"].str.contains('квартал № 123')])\n",
    "display(top_locations[top_locations[\"district\"].str.contains('Волхонка-ЗИЛ')])"
   ]
  },
  {
   "cell_type": "markdown",
   "metadata": {},
   "source": [
    "Район \"квартал № 123\" находится в поселении Воскресенское, поэтому его можно удалить из анализа.\n",
    "\n",
    "Изучим адреса, находящиеся вблизи района \"исторический район Волхонка-ЗИЛ\"."
   ]
  },
  {
   "cell_type": "code",
   "execution_count": 26,
   "metadata": {
    "scrolled": true
   },
   "outputs": [
    {
     "data": {
      "text/html": [
       "<div>\n",
       "<style scoped>\n",
       "    .dataframe tbody tr th:only-of-type {\n",
       "        vertical-align: middle;\n",
       "    }\n",
       "\n",
       "    .dataframe tbody tr th {\n",
       "        vertical-align: top;\n",
       "    }\n",
       "\n",
       "    .dataframe thead th {\n",
       "        text-align: right;\n",
       "    }\n",
       "</style>\n",
       "<table border=\"1\" class=\"dataframe\">\n",
       "  <thead>\n",
       "    <tr style=\"text-align: right;\">\n",
       "      <th></th>\n",
       "      <th>Unnamed: 0</th>\n",
       "      <th>address</th>\n",
       "      <th>street</th>\n",
       "      <th>id</th>\n",
       "      <th>location</th>\n",
       "      <th>district</th>\n",
       "    </tr>\n",
       "  </thead>\n",
       "  <tbody>\n",
       "    <tr>\n",
       "      <td>448</td>\n",
       "      <td>448</td>\n",
       "      <td>город Москва, поселение Воскресенское, Варшавс...</td>\n",
       "      <td>Варшавское шоссе</td>\n",
       "      <td>1</td>\n",
       "      <td>37.592851 55.492625</td>\n",
       "      <td>квартал № 123</td>\n",
       "    </tr>\n",
       "    <tr>\n",
       "      <td>447</td>\n",
       "      <td>447</td>\n",
       "      <td>город Москва, город Щербинка, Варшавское шоссе...</td>\n",
       "      <td>Варшавское шоссе</td>\n",
       "      <td>1</td>\n",
       "      <td>37.574911 55.510803</td>\n",
       "      <td>район Чертаново Северное</td>\n",
       "    </tr>\n",
       "    <tr>\n",
       "      <td>446</td>\n",
       "      <td>446</td>\n",
       "      <td>город Москва, город Щербинка, Варшавское шоссе...</td>\n",
       "      <td>Варшавское шоссе</td>\n",
       "      <td>1</td>\n",
       "      <td>37.564554 55.501315</td>\n",
       "      <td>район Чертаново Северное</td>\n",
       "    </tr>\n",
       "    <tr>\n",
       "      <td>89</td>\n",
       "      <td>89</td>\n",
       "      <td>город Москва, Варшавское шоссе, дом 97</td>\n",
       "      <td>Варшавское шоссе</td>\n",
       "      <td>5</td>\n",
       "      <td>37.624256 55.633226</td>\n",
       "      <td>район Чертаново Северное</td>\n",
       "    </tr>\n",
       "    <tr>\n",
       "      <td>88</td>\n",
       "      <td>88</td>\n",
       "      <td>город Москва, Варшавское шоссе, дом 95, корпус 1</td>\n",
       "      <td>Варшавское шоссе</td>\n",
       "      <td>6</td>\n",
       "      <td>37.621947 55.640274</td>\n",
       "      <td>район Чертаново Северное</td>\n",
       "    </tr>\n",
       "    <tr>\n",
       "      <td>87</td>\n",
       "      <td>87</td>\n",
       "      <td>город Москва, Варшавское шоссе, дом 93</td>\n",
       "      <td>Варшавское шоссе</td>\n",
       "      <td>1</td>\n",
       "      <td>37.620707 55.646894</td>\n",
       "      <td>исторический район Волхонка-ЗИЛ</td>\n",
       "    </tr>\n",
       "    <tr>\n",
       "      <td>86</td>\n",
       "      <td>86</td>\n",
       "      <td>город Москва, Варшавское шоссе, дом 91, строен...</td>\n",
       "      <td>Варшавское шоссе</td>\n",
       "      <td>1</td>\n",
       "      <td>37.620339 55.651039</td>\n",
       "      <td>исторический район Волхонка-ЗИЛ</td>\n",
       "    </tr>\n",
       "    <tr>\n",
       "      <td>85</td>\n",
       "      <td>85</td>\n",
       "      <td>город Москва, Варшавское шоссе, дом 91</td>\n",
       "      <td>Варшавское шоссе</td>\n",
       "      <td>1</td>\n",
       "      <td>37.620447 55.651288</td>\n",
       "      <td>исторический район Волхонка-ЗИЛ</td>\n",
       "    </tr>\n",
       "    <tr>\n",
       "      <td>84</td>\n",
       "      <td>84</td>\n",
       "      <td>город Москва, Варшавское шоссе, дом 9, строени...</td>\n",
       "      <td>Варшавское шоссе</td>\n",
       "      <td>5</td>\n",
       "      <td>37.62369 55.700035</td>\n",
       "      <td>Донской район</td>\n",
       "    </tr>\n",
       "    <tr>\n",
       "      <td>83</td>\n",
       "      <td>83</td>\n",
       "      <td>город Москва, Варшавское шоссе, дом 9, строение 1</td>\n",
       "      <td>Варшавское шоссе</td>\n",
       "      <td>4</td>\n",
       "      <td>37.625594 55.699467</td>\n",
       "      <td>Донской район</td>\n",
       "    </tr>\n",
       "    <tr>\n",
       "      <td>82</td>\n",
       "      <td>82</td>\n",
       "      <td>город Москва, Варшавское шоссе, дом 9</td>\n",
       "      <td>Варшавское шоссе</td>\n",
       "      <td>2</td>\n",
       "      <td>37.621678 55.700486</td>\n",
       "      <td>Донской район</td>\n",
       "    </tr>\n",
       "    <tr>\n",
       "      <td>81</td>\n",
       "      <td>81</td>\n",
       "      <td>город Москва, Варшавское шоссе, дом 87Б</td>\n",
       "      <td>Варшавское шоссе</td>\n",
       "      <td>9</td>\n",
       "      <td>37.620698 55.653644</td>\n",
       "      <td>исторический район Волхонка-ЗИЛ</td>\n",
       "    </tr>\n",
       "    <tr>\n",
       "      <td>80</td>\n",
       "      <td>80</td>\n",
       "      <td>город Москва, Варшавское шоссе, дом 86А</td>\n",
       "      <td>Варшавское шоссе</td>\n",
       "      <td>1</td>\n",
       "      <td>37.618776 55.650002</td>\n",
       "      <td>исторический район Волхонка-ЗИЛ</td>\n",
       "    </tr>\n",
       "    <tr>\n",
       "      <td>79</td>\n",
       "      <td>79</td>\n",
       "      <td>город Москва, Варшавское шоссе, дом 86</td>\n",
       "      <td>Варшавское шоссе</td>\n",
       "      <td>2</td>\n",
       "      <td>37.618821 55.650246</td>\n",
       "      <td>исторический район Волхонка-ЗИЛ</td>\n",
       "    </tr>\n",
       "    <tr>\n",
       "      <td>78</td>\n",
       "      <td>78</td>\n",
       "      <td>город Москва, Варшавское шоссе, дом 83, строен...</td>\n",
       "      <td>Варшавское шоссе</td>\n",
       "      <td>2</td>\n",
       "      <td>37.62051 55.655823</td>\n",
       "      <td>исторический район Волхонка-ЗИЛ</td>\n",
       "    </tr>\n",
       "    <tr>\n",
       "      <td>77</td>\n",
       "      <td>77</td>\n",
       "      <td>город Москва, Варшавское шоссе, дом 82</td>\n",
       "      <td>Варшавское шоссе</td>\n",
       "      <td>2</td>\n",
       "      <td>37.618767 55.65178</td>\n",
       "      <td>исторический район Волхонка-ЗИЛ</td>\n",
       "    </tr>\n",
       "    <tr>\n",
       "      <td>76</td>\n",
       "      <td>76</td>\n",
       "      <td>город Москва, Варшавское шоссе, дом 81, корпус 2</td>\n",
       "      <td>Варшавское шоссе</td>\n",
       "      <td>1</td>\n",
       "      <td>37.621202 55.656539</td>\n",
       "      <td>исторический район Волхонка-ЗИЛ</td>\n",
       "    </tr>\n",
       "    <tr>\n",
       "      <td>75</td>\n",
       "      <td>75</td>\n",
       "      <td>город Москва, Варшавское шоссе, дом 72, корпус 2</td>\n",
       "      <td>Варшавское шоссе</td>\n",
       "      <td>1</td>\n",
       "      <td>37.618767 55.656839</td>\n",
       "      <td>исторический район Волхонка-ЗИЛ</td>\n",
       "    </tr>\n",
       "    <tr>\n",
       "      <td>74</td>\n",
       "      <td>74</td>\n",
       "      <td>город Москва, Варшавское шоссе, дом 71, корпус 3</td>\n",
       "      <td>Варшавское шоссе</td>\n",
       "      <td>1</td>\n",
       "      <td>37.621507 55.661034</td>\n",
       "      <td>исторический район Волхонка-ЗИЛ</td>\n",
       "    </tr>\n",
       "    <tr>\n",
       "      <td>73</td>\n",
       "      <td>73</td>\n",
       "      <td>город Москва, Варшавское шоссе, дом 7, корпус 1</td>\n",
       "      <td>Варшавское шоссе</td>\n",
       "      <td>5</td>\n",
       "      <td>37.622405 55.700877</td>\n",
       "      <td>Донской район</td>\n",
       "    </tr>\n",
       "  </tbody>\n",
       "</table>\n",
       "</div>"
      ],
      "text/plain": [
       "     Unnamed: 0                                            address  \\\n",
       "448         448  город Москва, поселение Воскресенское, Варшавс...   \n",
       "447         447  город Москва, город Щербинка, Варшавское шоссе...   \n",
       "446         446  город Москва, город Щербинка, Варшавское шоссе...   \n",
       "89           89             город Москва, Варшавское шоссе, дом 97   \n",
       "88           88   город Москва, Варшавское шоссе, дом 95, корпус 1   \n",
       "87           87             город Москва, Варшавское шоссе, дом 93   \n",
       "86           86  город Москва, Варшавское шоссе, дом 91, строен...   \n",
       "85           85             город Москва, Варшавское шоссе, дом 91   \n",
       "84           84  город Москва, Варшавское шоссе, дом 9, строени...   \n",
       "83           83  город Москва, Варшавское шоссе, дом 9, строение 1   \n",
       "82           82              город Москва, Варшавское шоссе, дом 9   \n",
       "81           81            город Москва, Варшавское шоссе, дом 87Б   \n",
       "80           80            город Москва, Варшавское шоссе, дом 86А   \n",
       "79           79             город Москва, Варшавское шоссе, дом 86   \n",
       "78           78  город Москва, Варшавское шоссе, дом 83, строен...   \n",
       "77           77             город Москва, Варшавское шоссе, дом 82   \n",
       "76           76   город Москва, Варшавское шоссе, дом 81, корпус 2   \n",
       "75           75   город Москва, Варшавское шоссе, дом 72, корпус 2   \n",
       "74           74   город Москва, Варшавское шоссе, дом 71, корпус 3   \n",
       "73           73    город Москва, Варшавское шоссе, дом 7, корпус 1   \n",
       "\n",
       "               street  id             location  \\\n",
       "448  Варшавское шоссе   1  37.592851 55.492625   \n",
       "447  Варшавское шоссе   1  37.574911 55.510803   \n",
       "446  Варшавское шоссе   1  37.564554 55.501315   \n",
       "89   Варшавское шоссе   5  37.624256 55.633226   \n",
       "88   Варшавское шоссе   6  37.621947 55.640274   \n",
       "87   Варшавское шоссе   1  37.620707 55.646894   \n",
       "86   Варшавское шоссе   1  37.620339 55.651039   \n",
       "85   Варшавское шоссе   1  37.620447 55.651288   \n",
       "84   Варшавское шоссе   5   37.62369 55.700035   \n",
       "83   Варшавское шоссе   4  37.625594 55.699467   \n",
       "82   Варшавское шоссе   2  37.621678 55.700486   \n",
       "81   Варшавское шоссе   9  37.620698 55.653644   \n",
       "80   Варшавское шоссе   1  37.618776 55.650002   \n",
       "79   Варшавское шоссе   2  37.618821 55.650246   \n",
       "78   Варшавское шоссе   2   37.62051 55.655823   \n",
       "77   Варшавское шоссе   2   37.618767 55.65178   \n",
       "76   Варшавское шоссе   1  37.621202 55.656539   \n",
       "75   Варшавское шоссе   1  37.618767 55.656839   \n",
       "74   Варшавское шоссе   1  37.621507 55.661034   \n",
       "73   Варшавское шоссе   5  37.622405 55.700877   \n",
       "\n",
       "                            district  \n",
       "448                    квартал № 123  \n",
       "447         район Чертаново Северное  \n",
       "446         район Чертаново Северное  \n",
       "89          район Чертаново Северное  \n",
       "88          район Чертаново Северное  \n",
       "87   исторический район Волхонка-ЗИЛ  \n",
       "86   исторический район Волхонка-ЗИЛ  \n",
       "85   исторический район Волхонка-ЗИЛ  \n",
       "84                     Донской район  \n",
       "83                     Донской район  \n",
       "82                     Донской район  \n",
       "81   исторический район Волхонка-ЗИЛ  \n",
       "80   исторический район Волхонка-ЗИЛ  \n",
       "79   исторический район Волхонка-ЗИЛ  \n",
       "78   исторический район Волхонка-ЗИЛ  \n",
       "77   исторический район Волхонка-ЗИЛ  \n",
       "76   исторический район Волхонка-ЗИЛ  \n",
       "75   исторический район Волхонка-ЗИЛ  \n",
       "74   исторический район Волхонка-ЗИЛ  \n",
       "73                     Донской район  "
      ]
     },
     "metadata": {},
     "output_type": "display_data"
    }
   ],
   "source": [
    "display(top_locations[top_locations[\"address\"].str.contains('Варшавское шоссе')]\n",
    "        .sort_values(by='address', ascending=False).head(20))"
   ]
  },
  {
   "cell_type": "markdown",
   "metadata": {},
   "source": [
    "Самые близкие адреса находятся в районе Чертаново Северное, заменим значения. А также удалим строку квартала №123."
   ]
  },
  {
   "cell_type": "code",
   "execution_count": 27,
   "metadata": {},
   "outputs": [],
   "source": [
    "top_locations = top_locations[top_locations['district'] != 'квартал № 123']\n",
    "\n",
    "top_locations['district'] = top_locations['district'].str.replace(\n",
    "    'исторический район Волхонка-ЗИЛ', 'район Чертаново Северное')"
   ]
  },
  {
   "cell_type": "markdown",
   "metadata": {},
   "source": [
    "Определим, в каких районах Москвы находятся улицы с наибольшим количеством заведений:"
   ]
  },
  {
   "cell_type": "code",
   "execution_count": 28,
   "metadata": {},
   "outputs": [
    {
     "data": {
      "text/html": [
       "<div>\n",
       "<style scoped>\n",
       "    .dataframe tbody tr th:only-of-type {\n",
       "        vertical-align: middle;\n",
       "    }\n",
       "\n",
       "    .dataframe tbody tr th {\n",
       "        vertical-align: top;\n",
       "    }\n",
       "\n",
       "    .dataframe thead th {\n",
       "        text-align: right;\n",
       "    }\n",
       "</style>\n",
       "<table border=\"1\" class=\"dataframe\">\n",
       "  <thead>\n",
       "    <tr style=\"text-align: right;\">\n",
       "      <th></th>\n",
       "      <th>district</th>\n",
       "      <th>cafes</th>\n",
       "    </tr>\n",
       "  </thead>\n",
       "  <tbody>\n",
       "    <tr>\n",
       "      <td>0</td>\n",
       "      <td>Пресненский район</td>\n",
       "      <td>165</td>\n",
       "    </tr>\n",
       "    <tr>\n",
       "      <td>1</td>\n",
       "      <td>район Чертаново Центральное</td>\n",
       "      <td>88</td>\n",
       "    </tr>\n",
       "    <tr>\n",
       "      <td>2</td>\n",
       "      <td>район Тропарёво-Никулино</td>\n",
       "      <td>86</td>\n",
       "    </tr>\n",
       "    <tr>\n",
       "      <td>3</td>\n",
       "      <td>район Чертаново Северное</td>\n",
       "      <td>72</td>\n",
       "    </tr>\n",
       "    <tr>\n",
       "      <td>4</td>\n",
       "      <td>район Аэропорт</td>\n",
       "      <td>64</td>\n",
       "    </tr>\n",
       "  </tbody>\n",
       "</table>\n",
       "</div>"
      ],
      "text/plain": [
       "                      district  cafes\n",
       "0            Пресненский район    165\n",
       "1  район Чертаново Центральное     88\n",
       "2     район Тропарёво-Никулино     86\n",
       "3     район Чертаново Северное     72\n",
       "4               район Аэропорт     64"
      ]
     },
     "metadata": {},
     "output_type": "display_data"
    },
    {
     "name": "stdout",
     "output_type": "stream",
     "text": [
      "35\n"
     ]
    },
    {
     "data": {
      "image/png": "[encoded data removed]",
      "text/plain": [
       "<Figure size 864x720 with 1 Axes>"
      ]
     },
     "metadata": {},
     "output_type": "display_data"
    }
   ],
   "source": [
    "districts = top_locations.pivot_table(index = 'district', values = 'id',\n",
    "                                        aggfunc = 'sum').sort_values(by='id', ascending=False).reset_index()\n",
    "districts.columns = ['district', 'cafes']\n",
    "display(districts.head())\n",
    "print(len(districts))\n",
    "\n",
    "plt.figure(figsize=(12,10))\n",
    "sns.set_style('whitegrid')\n",
    "sns.barplot(y = districts['district'], x=districts['cafes'], palette='inferno_r')\n",
    "plt.title(\"Число заведений ТОП-10 улиц по районам\", fontsize=20)\n",
    "plt.ylabel(\"Район\", fontsize=12)\n",
    "plt.xlabel(\"Число заведений\", fontsize=20)\n",
    "plt.yticks(fontsize=12)\n",
    "plt.xticks(fontsize=10)\n",
    "plt.xticks(np.arange(0, 200, 10)) \n",
    "plt.show()"
   ]
  },
  {
   "cell_type": "markdown",
   "metadata": {},
   "source": [
    "ТОП-10 улиц с наибольшим количеством заведений находятся в 37 районах Москвы, на каждый из которых приходится от 1 до 165 заведений. Ключевые точки концентрации заведений общественного питания расположены в следующих районах:\n",
    "* Пресненский район\n",
    "* район Чертаново Центральное\n",
    "* район Тропарёво-Никулино\n",
    "* район Аэропорт\n",
    "* Мещанский район"
   ]
  },
  {
   "cell_type": "markdown",
   "metadata": {},
   "source": [
    "### Улицы с одним объектом общественного питания"
   ]
  },
  {
   "cell_type": "code",
   "execution_count": 29,
   "metadata": {},
   "outputs": [
    {
     "name": "stdout",
     "output_type": "stream",
     "text": [
      "Число улиц с одним объектом общественного питания: 570\n"
     ]
    }
   ],
   "source": [
    "boring_streets = streets[streets['count']== 1].reset_index()\n",
    "print(\"Число улиц с одним объектом общественного питания:\", len(boring_streets))"
   ]
  },
  {
   "cell_type": "markdown",
   "metadata": {},
   "source": [
    "Для определения райнов воспользуемся внешней информацией."
   ]
  },
  {
   "cell_type": "markdown",
   "metadata": {},
   "source": [
    "Из-за превышения числа запросов Яндекс.Геокодера пришлось воспользоваться еще одним ресурсом http://hubofdata.ru/storage/f/2013-10-22T09%3A26%3A21.989Z/mosgaz-streets.xls.\n",
    "По прямой ссылке файл не загружается в тетрадку, поэтому также выложила файл в Google Docs."
   ]
  },
  {
   "cell_type": "code",
   "execution_count": 30,
   "metadata": {},
   "outputs": [],
   "source": [
    "spreadsheet_id = \"1soa9FsA0fZkmZO0u5XwAQ8mODrhgzijse3fSwF9PSZc\"\n",
    "    \n",
    "file_name = \"https://docs.google.com/spreadsheets/d/{}/export?format=csv\".format(spreadsheet_id)\n",
    "r = requests.get(file_name)\n",
    "street_dict = pd.read_csv(BytesIO(r.content))"
   ]
  },
  {
   "cell_type": "code",
   "execution_count": 31,
   "metadata": {},
   "outputs": [
    {
     "data": {
      "text/html": [
       "<div>\n",
       "<style scoped>\n",
       "    .dataframe tbody tr th:only-of-type {\n",
       "        vertical-align: middle;\n",
       "    }\n",
       "\n",
       "    .dataframe tbody tr th {\n",
       "        vertical-align: top;\n",
       "    }\n",
       "\n",
       "    .dataframe thead th {\n",
       "        text-align: right;\n",
       "    }\n",
       "</style>\n",
       "<table border=\"1\" class=\"dataframe\">\n",
       "  <thead>\n",
       "    <tr style=\"text-align: right;\">\n",
       "      <th></th>\n",
       "      <th>street</th>\n",
       "      <th>area</th>\n",
       "    </tr>\n",
       "  </thead>\n",
       "  <tbody>\n",
       "    <tr>\n",
       "      <td>0</td>\n",
       "      <td>улица Инессы Арманд</td>\n",
       "      <td>Район Ясенево</td>\n",
       "    </tr>\n",
       "    <tr>\n",
       "      <td>1</td>\n",
       "      <td>4-я Гражданская улица</td>\n",
       "      <td>Район Богородское</td>\n",
       "    </tr>\n",
       "    <tr>\n",
       "      <td>2</td>\n",
       "      <td>3-я Северная линия</td>\n",
       "      <td>Район Северный</td>\n",
       "    </tr>\n",
       "    <tr>\n",
       "      <td>3</td>\n",
       "      <td>3-я Новоостанкинская улица</td>\n",
       "      <td>Останкинский район</td>\n",
       "    </tr>\n",
       "    <tr>\n",
       "      <td>4</td>\n",
       "      <td>3-я Песчаная улица</td>\n",
       "      <td>Хорошевский район</td>\n",
       "    </tr>\n",
       "  </tbody>\n",
       "</table>\n",
       "</div>"
      ],
      "text/plain": [
       "                       street                area\n",
       "0         улица Инессы Арманд       Район Ясенево\n",
       "1       4-я Гражданская улица   Район Богородское\n",
       "2          3-я Северная линия      Район Северный\n",
       "3  3-я Новоостанкинская улица  Останкинский район\n",
       "4          3-я Песчаная улица   Хорошевский район"
      ]
     },
     "metadata": {},
     "output_type": "display_data"
    },
    {
     "name": "stdout",
     "output_type": "stream",
     "text": [
      "Улиц в справочнике: 570\n",
      "Не удалось установить район: 23\n"
     ]
    }
   ],
   "source": [
    "boring_locations = boring_streets.merge(\n",
    "    street_dict, left_on='street', right_on='street', how='left').drop_duplicates(['street'])\n",
    "\n",
    "boring_locations = boring_locations.drop(['streetname', 'areaid', 'okrug', 'count'], axis=1)\n",
    "\n",
    "display(boring_locations.head())\n",
    "print('Улиц в справочнике:', len(boring_locations))\n",
    "print('Не удалось установить район:', len(boring_locations[boring_locations['area'].isnull()]))"
   ]
  },
  {
   "cell_type": "markdown",
   "metadata": {},
   "source": [
    "23 улицы не идентифицированы, что составляет 4% от всех записей, исключим эти наблюдения из анализа и построим график по районам."
   ]
  },
  {
   "cell_type": "code",
   "execution_count": 32,
   "metadata": {},
   "outputs": [
    {
     "data": {
      "text/html": [
       "<div>\n",
       "<style scoped>\n",
       "    .dataframe tbody tr th:only-of-type {\n",
       "        vertical-align: middle;\n",
       "    }\n",
       "\n",
       "    .dataframe tbody tr th {\n",
       "        vertical-align: top;\n",
       "    }\n",
       "\n",
       "    .dataframe thead th {\n",
       "        text-align: right;\n",
       "    }\n",
       "</style>\n",
       "<table border=\"1\" class=\"dataframe\">\n",
       "  <thead>\n",
       "    <tr style=\"text-align: right;\">\n",
       "      <th></th>\n",
       "      <th>district</th>\n",
       "      <th>empty_streets</th>\n",
       "    </tr>\n",
       "  </thead>\n",
       "  <tbody>\n",
       "    <tr>\n",
       "      <td>0</td>\n",
       "      <td>Таганский район</td>\n",
       "      <td>27</td>\n",
       "    </tr>\n",
       "    <tr>\n",
       "      <td>1</td>\n",
       "      <td>Басманный район</td>\n",
       "      <td>26</td>\n",
       "    </tr>\n",
       "    <tr>\n",
       "      <td>2</td>\n",
       "      <td>Район Хамовники</td>\n",
       "      <td>22</td>\n",
       "    </tr>\n",
       "    <tr>\n",
       "      <td>3</td>\n",
       "      <td>Пресненский район</td>\n",
       "      <td>20</td>\n",
       "    </tr>\n",
       "    <tr>\n",
       "      <td>4</td>\n",
       "      <td>Тверской район</td>\n",
       "      <td>20</td>\n",
       "    </tr>\n",
       "    <tr>\n",
       "      <td>5</td>\n",
       "      <td>Район Марьина роща</td>\n",
       "      <td>17</td>\n",
       "    </tr>\n",
       "    <tr>\n",
       "      <td>6</td>\n",
       "      <td>Район Сокольники</td>\n",
       "      <td>15</td>\n",
       "    </tr>\n",
       "    <tr>\n",
       "      <td>7</td>\n",
       "      <td>Район Арбат</td>\n",
       "      <td>14</td>\n",
       "    </tr>\n",
       "    <tr>\n",
       "      <td>8</td>\n",
       "      <td>Район Замоскворечье</td>\n",
       "      <td>14</td>\n",
       "    </tr>\n",
       "    <tr>\n",
       "      <td>9</td>\n",
       "      <td>Мещанский район</td>\n",
       "      <td>13</td>\n",
       "    </tr>\n",
       "  </tbody>\n",
       "</table>\n",
       "</div>"
      ],
      "text/plain": [
       "              district  empty_streets\n",
       "0      Таганский район             27\n",
       "1      Басманный район             26\n",
       "2      Район Хамовники             22\n",
       "3    Пресненский район             20\n",
       "4       Тверской район             20\n",
       "5   Район Марьина роща             17\n",
       "6     Район Сокольники             15\n",
       "7          Район Арбат             14\n",
       "8  Район Замоскворечье             14\n",
       "9      Мещанский район             13"
      ]
     },
     "metadata": {},
     "output_type": "display_data"
    },
    {
     "name": "stdout",
     "output_type": "stream",
     "text": [
      "Всего районов с 1 заведением на улицу: 102\n"
     ]
    },
    {
     "data": {
      "image/png": "[encoded data removed]",
      "text/plain": [
       "<Figure size 720x720 with 1 Axes>"
      ]
     },
     "metadata": {},
     "output_type": "display_data"
    }
   ],
   "source": [
    "boring_locations = boring_locations.dropna(subset=['area'])\n",
    "\n",
    "boring_districts = boring_locations.pivot_table(index = 'area', values = 'street',\n",
    "                                        aggfunc = 'count').sort_values(by='street', ascending=False).reset_index()\n",
    "boring_districts.columns = ['district', 'empty_streets']\n",
    "display(boring_districts.head(10))\n",
    "print('Всего районов с 1 заведением на улицу:',len(boring_districts))\n",
    "\n",
    "plt.figure(figsize=(10,10))\n",
    "sns.set_style('whitegrid')\n",
    "sns.barplot(y = boring_districts.head(20)['district'], x=boring_districts.head(20)['empty_streets'], palette='inferno_r')\n",
    "plt.title(\"Число улиц с 1 заведением по районам\", fontsize=20)\n",
    "plt.ylabel(\"Район\", fontsize=12)\n",
    "plt.xlabel(\"Число улиц с 1 заведением\", fontsize=20)\n",
    "plt.yticks(fontsize=12)\n",
    "plt.xticks(fontsize=10)\n",
    "plt.xticks(np.arange(0, 30, 5)) \n",
    "plt.show()"
   ]
  },
  {
   "cell_type": "markdown",
   "metadata": {},
   "source": [
    "570 улиц с одним заведением расположены в 102 районах Москвы, при этом данные районы частично пересекаются с локациями, насыщенными заведениями (например, Пресненский район). Сопоставление этих двух списков может выявить песпективные локации."
   ]
  },
  {
   "cell_type": "code",
   "execution_count": 33,
   "metadata": {},
   "outputs": [
    {
     "data": {
      "text/html": [
       "<div>\n",
       "<style scoped>\n",
       "    .dataframe tbody tr th:only-of-type {\n",
       "        vertical-align: middle;\n",
       "    }\n",
       "\n",
       "    .dataframe tbody tr th {\n",
       "        vertical-align: top;\n",
       "    }\n",
       "\n",
       "    .dataframe thead th {\n",
       "        text-align: right;\n",
       "    }\n",
       "</style>\n",
       "<table border=\"1\" class=\"dataframe\">\n",
       "  <thead>\n",
       "    <tr style=\"text-align: right;\">\n",
       "      <th></th>\n",
       "      <th>district</th>\n",
       "      <th>cafes</th>\n",
       "      <th>empty_streets</th>\n",
       "    </tr>\n",
       "  </thead>\n",
       "  <tbody>\n",
       "    <tr>\n",
       "      <td>0</td>\n",
       "      <td>Пресненский район</td>\n",
       "      <td>165</td>\n",
       "      <td>20</td>\n",
       "    </tr>\n",
       "    <tr>\n",
       "      <td>1</td>\n",
       "      <td>Мещанский район</td>\n",
       "      <td>63</td>\n",
       "      <td>13</td>\n",
       "    </tr>\n",
       "    <tr>\n",
       "      <td>2</td>\n",
       "      <td>Алексеевский район</td>\n",
       "      <td>50</td>\n",
       "      <td>7</td>\n",
       "    </tr>\n",
       "    <tr>\n",
       "      <td>3</td>\n",
       "      <td>Донской район</td>\n",
       "      <td>48</td>\n",
       "      <td>4</td>\n",
       "    </tr>\n",
       "    <tr>\n",
       "      <td>4</td>\n",
       "      <td>Останкинский район</td>\n",
       "      <td>20</td>\n",
       "      <td>3</td>\n",
       "    </tr>\n",
       "    <tr>\n",
       "      <td>5</td>\n",
       "      <td>Нагорный район</td>\n",
       "      <td>16</td>\n",
       "      <td>4</td>\n",
       "    </tr>\n",
       "  </tbody>\n",
       "</table>\n",
       "</div>"
      ],
      "text/plain": [
       "             district  cafes  empty_streets\n",
       "0   Пресненский район    165             20\n",
       "1     Мещанский район     63             13\n",
       "2  Алексеевский район     50              7\n",
       "3       Донской район     48              4\n",
       "4  Останкинский район     20              3\n",
       "5      Нагорный район     16              4"
      ]
     },
     "metadata": {},
     "output_type": "display_data"
    }
   ],
   "source": [
    "merge = districts.merge(boring_districts, left_on='district', right_on='district', how='inner')\n",
    "\n",
    "display(merge)"
   ]
  },
  {
   "cell_type": "markdown",
   "metadata": {},
   "source": [
    "Найдено 6 районов Москвы, где одновременно есть оживленные улицы и улицы с недостатком мест общественного питания. Можно рассматривать эти локации для открытия ресторана с роботизированным обслуживанием."
   ]
  },
  {
   "cell_type": "markdown",
   "metadata": {},
   "source": [
    "### Распределение количества посадочных мест для улиц с большим количеством заведений"
   ]
  },
  {
   "cell_type": "code",
   "execution_count": 34,
   "metadata": {},
   "outputs": [
    {
     "data": {
      "text/plain": [
       "count    1474.0\n",
       "mean       59.0\n",
       "std        91.0\n",
       "min         0.0\n",
       "25%        12.0\n",
       "50%        40.0\n",
       "75%        76.0\n",
       "max      1700.0\n",
       "Name: number, dtype: float64"
      ]
     },
     "metadata": {},
     "output_type": "display_data"
    },
    {
     "data": {
      "image/png": "[encoded data removed]"
     },
     "metadata": {},
     "output_type": "display_data"
    }
   ],
   "source": [
    "top_data = data.loc[data['street'].isin(top_streets['street'])]\n",
    "\n",
    "display(top_data['number'].describe().round(0))\n",
    "\n",
    "fig = go.Figure()\n",
    "fig.add_trace(go.Box(\n",
    "    y=top_data[\"number\"],\n",
    "    name='Распределение',\n",
    "    marker_color='#fac228'\n",
    "))\n",
    "fig.update_layout(title_text='Число посадочных мест на улицах с большим количеством заведений', \n",
    "                  yaxis_title='Число мест', title_font_size=20,\n",
    "                  width=800, height=600)\n",
    "fig.update_yaxes(range = [0,200], nticks=40)\n",
    "\n",
    "fig.show(width=1000, height=500, renderer='png')"
   ]
  },
  {
   "cell_type": "markdown",
   "metadata": {},
   "source": [
    "Для улиц с большим количеством объектов общественного питания характерно небольшое количество посадочных мест - от 12 до 75 в половине случаев, при этом распределение имеет длинный правый хвост и среднее значение в 1,5 раза больше медианы (59 и 40 соответственно)."
   ]
  },
  {
   "cell_type": "markdown",
   "metadata": {},
   "source": [
    "### Общий вывод"
   ]
  },
  {
   "cell_type": "markdown",
   "metadata": {},
   "source": [
    "В рамках данного исследования были использованы открытые данные о заведениях общественного питания Москвы, включая такие параметры, как название заведения, принадлеженость к сети, вид, адрес и число посадочных мест. На этапе предобработки в данных были обнаружены неявные дубликаты, в частности, записям с одинаковыми параметрами были присвоены разные id, кроме того, заведения с совпадающими наваниями и адресами были записаны с разным числом посадочных мест. После удаления дубликатов в таблице осталось 15159 записей (из 15366 исходных).\n",
    "\n",
    "Исследование рынка общественного питания Москвы показало, что:\n",
    "\n",
    "* Доля кафе среди заведений общественного питания составляет 40%, на 2 и 3 месте находятся столовые и рестораны (17% и 15% соответственно). Наименее распространены кафетерии, закусочные и отделы кулинарии.\n",
    "* 19% заведений входят в сети, доля сетей среди кафе – 23%. Половина сетей включают от 2 до 9 заведений, при этом отдельные сети могут насчитывать 100 и более заведений (170 максимум). В половине сетей среднее число посадочных мест на одно кафе варьируется от 20 до 80. Размер сети и среднее количество посадочных мест в заведениях не взаимосвязаны.\n",
    "* Типичная вместительность кафе составляет 15-50 мест, вместительность баров – 20-50, ресторанов – 48-114 мест, Самыми вместительными заведениями общественного питания являются столовые - от 52 до 200 мест в половине случаев. Закусочные, кафетерии и отделы кулинарии зачастую вмещают не более 30 посетителей. 12-75 мест - типичная вместительность заведений на улицах с большим количеством заведений.\n",
    "* Наболее насыщенными с точки зрения количества заведений общественного питания являются следующие улицы Москвы: проспект Мира, Профсоюзная улица, Ленинградский проспект, Пресненская набережная, Варшавское шоссе, Ленинский проспект, проспект Вернадского, Кутузовский проспект, Каширское шоссе, Кировоградская улица.\n",
    "* ТОП-10 улиц с наибольшим количеством заведений находятся в 37 районах Москвы, на каждый из которых приходится от 1 до 165 заведений. Ключевые точки концентрации заведений общественного питания расположены в следующих районах: Пресненский район, район Чертаново Центральное, район Тропарёво-Никулино, район Аэропорт, Мещанский район.\n",
    "* 570 улиц с единственным объектом общественного питания расположены в 102 районах Москвы, при этом найдено 6 районов Москвы, где одновременно есть оживленные улицы и улицы с недостатком мест общественного питания. Можно рассматривать эти локации для открытия ресторана с роботизированным обслуживанием: Пресненский район, Мещанский район, Алексеевский район, Донской район, Останкинский район, Нагорный район.\n",
    "\n",
    "**Рекомендации**\n",
    "* **Тип заведения.** Предпочтительным форматом заведения с роботизированным обслуживанием является кафе: сегмент рынка наиболее емкий, а оригинальная концепция обеспечит конкурентное преимущество.\n",
    "* **Район.** Для открытия кафе рекомендуется рассмотреть районы, где находятся улицы как с большим количеством заведений, так с единственным местом общественного питания: Пресненский район, Мещанский район, Алексеевский район, Донской район, Останкинский район, Нагорный район.\n",
    "* **Количество посадочных мест.** Рекомендуемое количество посадочных мест с учетом формата и района расположения – не более 50.\n",
    "* **Возможность развития сети.** Учитывая распространенность сетевого формата среди кафе и разнообразия перспективных районов, рекомендуется рассмотреть возможность развития сети в дальнейшем.\n",
    "\n",
    "\n",
    "Сссылка на презентацию исследования в формате pdf: <https://drive.google.com/file/d/1VnE-XIQ5WJEkORjEIQJwDjkIR9sDQVln/view?usp=sharing> \n"
   ]
  }
 ],
 "metadata": {
  "ExecuteTimeLog": [
   {
    "duration": 565,
    "start_time": "2021-08-31T17:15:04.698Z"
   },
   {
    "duration": 1957,
    "start_time": "2021-08-31T17:15:11.919Z"
   },
   {
    "duration": 458,
    "start_time": "2021-08-31T17:15:16.263Z"
   },
   {
    "duration": 89,
    "start_time": "2021-08-31T17:15:34.744Z"
   },
   {
    "duration": 140,
    "start_time": "2021-08-31T17:15:59.983Z"
   },
   {
    "duration": 12,
    "start_time": "2021-08-31T17:25:55.301Z"
   },
   {
    "duration": 17,
    "start_time": "2021-08-31T17:27:04.330Z"
   },
   {
    "duration": 27,
    "start_time": "2021-08-31T17:27:34.012Z"
   },
   {
    "duration": 17,
    "start_time": "2021-08-31T17:27:55.518Z"
   },
   {
    "duration": 19,
    "start_time": "2021-08-31T17:29:37.100Z"
   },
   {
    "duration": 11,
    "start_time": "2021-08-31T17:30:00.231Z"
   },
   {
    "duration": 20,
    "start_time": "2021-08-31T17:31:19.639Z"
   },
   {
    "duration": 380,
    "start_time": "2021-08-31T17:33:57.052Z"
   },
   {
    "duration": 28,
    "start_time": "2021-08-31T17:34:32.029Z"
   },
   {
    "duration": 38,
    "start_time": "2021-08-31T17:35:04.208Z"
   },
   {
    "duration": 38,
    "start_time": "2021-08-31T17:35:24.579Z"
   },
   {
    "duration": 40,
    "start_time": "2021-08-31T17:38:33.887Z"
   },
   {
    "duration": 27,
    "start_time": "2021-08-31T17:38:55.363Z"
   },
   {
    "duration": 28,
    "start_time": "2021-08-31T17:39:34.237Z"
   },
   {
    "duration": 30,
    "start_time": "2021-08-31T17:43:35.602Z"
   },
   {
    "duration": 54,
    "start_time": "2021-08-31T17:45:18.500Z"
   },
   {
    "duration": 32,
    "start_time": "2021-08-31T17:48:07.980Z"
   },
   {
    "duration": 28,
    "start_time": "2021-08-31T17:48:20.813Z"
   },
   {
    "duration": 101,
    "start_time": "2021-08-31T17:50:42.325Z"
   },
   {
    "duration": 17,
    "start_time": "2021-08-31T17:50:49.174Z"
   },
   {
    "duration": 32,
    "start_time": "2021-08-31T17:52:07.243Z"
   },
   {
    "duration": 28,
    "start_time": "2021-08-31T17:52:59.869Z"
   },
   {
    "duration": 54,
    "start_time": "2021-08-31T17:59:24.987Z"
   },
   {
    "duration": 103,
    "start_time": "2021-08-31T18:00:07.568Z"
   },
   {
    "duration": 26,
    "start_time": "2021-08-31T18:00:19.238Z"
   },
   {
    "duration": 20,
    "start_time": "2021-08-31T18:02:42.481Z"
   },
   {
    "duration": 27,
    "start_time": "2021-08-31T18:03:00.441Z"
   },
   {
    "duration": 58,
    "start_time": "2021-08-31T18:03:03.128Z"
   },
   {
    "duration": 29,
    "start_time": "2021-08-31T18:03:38.891Z"
   },
   {
    "duration": 29,
    "start_time": "2021-08-31T18:03:57.484Z"
   },
   {
    "duration": 31,
    "start_time": "2021-08-31T18:08:51.980Z"
   },
   {
    "duration": 42,
    "start_time": "2021-08-31T18:16:09.439Z"
   },
   {
    "duration": 43,
    "start_time": "2021-08-31T18:16:38.521Z"
   },
   {
    "duration": 46,
    "start_time": "2021-08-31T18:18:05.369Z"
   },
   {
    "duration": 31,
    "start_time": "2021-08-31T18:20:08.712Z"
   },
   {
    "duration": 111,
    "start_time": "2021-08-31T18:22:37.816Z"
   },
   {
    "duration": 84,
    "start_time": "2021-08-31T18:23:57.335Z"
   },
   {
    "duration": 75,
    "start_time": "2021-08-31T18:25:38.782Z"
   },
   {
    "duration": 30,
    "start_time": "2021-08-31T18:26:46.594Z"
   },
   {
    "duration": 82,
    "start_time": "2021-08-31T18:28:23.285Z"
   },
   {
    "duration": 131,
    "start_time": "2021-08-31T18:29:07.118Z"
   },
   {
    "duration": 492,
    "start_time": "2021-08-31T18:30:04.555Z"
   },
   {
    "duration": 109,
    "start_time": "2021-08-31T18:30:46.626Z"
   },
   {
    "duration": 110,
    "start_time": "2021-08-31T18:34:28.735Z"
   },
   {
    "duration": 119,
    "start_time": "2021-08-31T18:52:24.231Z"
   },
   {
    "duration": 22,
    "start_time": "2021-08-31T18:53:34.897Z"
   },
   {
    "duration": 16,
    "start_time": "2021-08-31T18:54:02.396Z"
   },
   {
    "duration": 50,
    "start_time": "2021-08-31T18:54:57.740Z"
   },
   {
    "duration": 59,
    "start_time": "2021-08-31T18:55:29.547Z"
   },
   {
    "duration": 31,
    "start_time": "2021-08-31T18:56:25.810Z"
   },
   {
    "duration": 38,
    "start_time": "2021-08-31T18:56:56.030Z"
   },
   {
    "duration": 52,
    "start_time": "2021-08-31T18:57:00.765Z"
   },
   {
    "duration": 52,
    "start_time": "2021-08-31T19:02:05.220Z"
   },
   {
    "duration": 67,
    "start_time": "2021-08-31T19:04:16.042Z"
   },
   {
    "duration": 418,
    "start_time": "2021-08-31T19:06:26.693Z"
   },
   {
    "duration": 322,
    "start_time": "2021-08-31T19:07:04.413Z"
   },
   {
    "duration": 5957,
    "start_time": "2021-08-31T19:07:39.966Z"
   },
   {
    "duration": 26,
    "start_time": "2021-08-31T19:08:06.227Z"
   },
   {
    "duration": 13,
    "start_time": "2021-08-31T19:08:30.880Z"
   },
   {
    "duration": 10,
    "start_time": "2021-08-31T19:09:03.730Z"
   },
   {
    "duration": 25,
    "start_time": "2021-08-31T19:12:41.565Z"
   },
   {
    "duration": 30,
    "start_time": "2021-08-31T19:12:45.903Z"
   },
   {
    "duration": 54,
    "start_time": "2021-08-31T19:12:49.611Z"
   },
   {
    "duration": 59,
    "start_time": "2021-08-31T19:12:52.033Z"
   },
   {
    "duration": 19,
    "start_time": "2021-08-31T19:14:37.291Z"
   },
   {
    "duration": 63,
    "start_time": "2021-08-31T19:15:27.926Z"
   },
   {
    "duration": 35,
    "start_time": "2021-08-31T19:21:10.509Z"
   },
   {
    "duration": 3,
    "start_time": "2021-08-31T19:22:00.926Z"
   },
   {
    "duration": 97,
    "start_time": "2021-08-31T19:22:29.121Z"
   },
   {
    "duration": 92,
    "start_time": "2021-08-31T19:33:03.350Z"
   },
   {
    "duration": 27,
    "start_time": "2021-08-31T19:34:31.296Z"
   },
   {
    "duration": 2596,
    "start_time": "2021-08-31T19:34:49.706Z"
   },
   {
    "duration": 110,
    "start_time": "2021-08-31T19:34:52.305Z"
   },
   {
    "duration": 9,
    "start_time": "2021-08-31T19:34:52.419Z"
   },
   {
    "duration": 54,
    "start_time": "2021-08-31T19:34:52.432Z"
   },
   {
    "duration": 22,
    "start_time": "2021-08-31T19:34:52.489Z"
   },
   {
    "duration": 68,
    "start_time": "2021-08-31T19:34:52.514Z"
   },
   {
    "duration": 92,
    "start_time": "2021-08-31T19:34:52.585Z"
   },
   {
    "duration": 27,
    "start_time": "2021-08-31T19:34:52.680Z"
   },
   {
    "duration": 18,
    "start_time": "2021-08-31T19:34:52.710Z"
   },
   {
    "duration": 22,
    "start_time": "2021-08-31T19:36:53.908Z"
   },
   {
    "duration": 26,
    "start_time": "2021-08-31T19:37:10.960Z"
   },
   {
    "duration": 18,
    "start_time": "2021-08-31T19:37:40.429Z"
   },
   {
    "duration": 9,
    "start_time": "2021-08-31T19:37:59.901Z"
   },
   {
    "duration": 62,
    "start_time": "2021-08-31T19:42:14.199Z"
   },
   {
    "duration": 54,
    "start_time": "2021-08-31T19:43:12.179Z"
   },
   {
    "duration": 23,
    "start_time": "2021-08-31T19:45:11.525Z"
   },
   {
    "duration": 11,
    "start_time": "2021-08-31T19:45:17.036Z"
   },
   {
    "duration": 16,
    "start_time": "2021-08-31T19:57:03.457Z"
   },
   {
    "duration": 22,
    "start_time": "2021-08-31T19:59:53.191Z"
   },
   {
    "duration": 825,
    "start_time": "2021-08-31T20:19:44.267Z"
   },
   {
    "duration": 390,
    "start_time": "2021-08-31T20:23:06.131Z"
   },
   {
    "duration": 368,
    "start_time": "2021-08-31T20:24:06.115Z"
   },
   {
    "duration": 392,
    "start_time": "2021-08-31T20:24:22.465Z"
   },
   {
    "duration": 705,
    "start_time": "2021-08-31T20:26:15.358Z"
   },
   {
    "duration": 738,
    "start_time": "2021-08-31T20:28:08.419Z"
   },
   {
    "duration": 421,
    "start_time": "2021-08-31T20:28:17.977Z"
   },
   {
    "duration": 523,
    "start_time": "2021-08-31T20:28:29.852Z"
   },
   {
    "duration": 425,
    "start_time": "2021-08-31T20:29:15.546Z"
   },
   {
    "duration": 508,
    "start_time": "2021-08-31T20:29:45.628Z"
   },
   {
    "duration": 330,
    "start_time": "2021-08-31T20:35:42.608Z"
   },
   {
    "duration": 13,
    "start_time": "2021-08-31T20:38:34.564Z"
   },
   {
    "duration": 13,
    "start_time": "2021-08-31T20:39:01.403Z"
   },
   {
    "duration": 19,
    "start_time": "2021-08-31T20:39:17.691Z"
   },
   {
    "duration": 896,
    "start_time": "2021-08-31T20:40:38.602Z"
   },
   {
    "duration": 481,
    "start_time": "2021-08-31T20:43:49.221Z"
   },
   {
    "duration": 474,
    "start_time": "2021-08-31T20:44:34.451Z"
   },
   {
    "duration": 566,
    "start_time": "2021-08-31T20:53:27.879Z"
   },
   {
    "duration": 559,
    "start_time": "2021-08-31T20:54:31.209Z"
   },
   {
    "duration": 646,
    "start_time": "2021-08-31T20:54:52.288Z"
   },
   {
    "duration": 506,
    "start_time": "2021-08-31T20:56:48.983Z"
   },
   {
    "duration": 405,
    "start_time": "2021-08-31T20:58:47.233Z"
   },
   {
    "duration": 505,
    "start_time": "2021-08-31T20:59:01.968Z"
   },
   {
    "duration": 663,
    "start_time": "2021-08-31T20:59:26.507Z"
   },
   {
    "duration": 513,
    "start_time": "2021-08-31T20:59:38.367Z"
   },
   {
    "duration": 430,
    "start_time": "2021-08-31T21:01:25.000Z"
   },
   {
    "duration": 868,
    "start_time": "2021-08-31T21:01:34.904Z"
   },
   {
    "duration": 1116,
    "start_time": "2021-08-31T21:02:02.550Z"
   },
   {
    "duration": 658,
    "start_time": "2021-08-31T21:05:05.403Z"
   },
   {
    "duration": 636,
    "start_time": "2021-08-31T21:06:04.541Z"
   },
   {
    "duration": 556,
    "start_time": "2021-08-31T21:06:27.875Z"
   },
   {
    "duration": 584,
    "start_time": "2021-08-31T21:06:51.472Z"
   },
   {
    "duration": 6941,
    "start_time": "2021-08-31T21:08:27.459Z"
   },
   {
    "duration": 11,
    "start_time": "2021-08-31T21:08:47.691Z"
   },
   {
    "duration": 35,
    "start_time": "2021-08-31T21:18:31.619Z"
   },
   {
    "duration": 30,
    "start_time": "2021-08-31T21:18:54.357Z"
   },
   {
    "duration": 22,
    "start_time": "2021-08-31T21:19:19.026Z"
   },
   {
    "duration": 22,
    "start_time": "2021-08-31T21:19:32.964Z"
   },
   {
    "duration": 23,
    "start_time": "2021-08-31T21:19:51.392Z"
   },
   {
    "duration": 46,
    "start_time": "2021-08-31T21:21:30.180Z"
   },
   {
    "duration": 30,
    "start_time": "2021-08-31T21:22:26.499Z"
   },
   {
    "duration": 38,
    "start_time": "2021-08-31T21:22:58.914Z"
   },
   {
    "duration": 73,
    "start_time": "2021-08-31T21:23:22.416Z"
   },
   {
    "duration": 281,
    "start_time": "2021-08-31T21:36:26.570Z"
   },
   {
    "duration": 4,
    "start_time": "2021-08-31T21:36:38.151Z"
   },
   {
    "duration": 5,
    "start_time": "2021-08-31T21:36:47.910Z"
   },
   {
    "duration": 5,
    "start_time": "2021-08-31T21:44:23.814Z"
   },
   {
    "duration": 6,
    "start_time": "2021-08-31T21:49:41.772Z"
   },
   {
    "duration": 5,
    "start_time": "2021-08-31T22:06:46.335Z"
   },
   {
    "duration": 21037,
    "start_time": "2021-09-07T19:47:54.056Z"
   },
   {
    "duration": 312,
    "start_time": "2021-09-07T19:48:15.096Z"
   },
   {
    "duration": 7,
    "start_time": "2021-09-07T19:48:15.411Z"
   },
   {
    "duration": 29,
    "start_time": "2021-09-07T19:48:15.421Z"
   },
   {
    "duration": 43,
    "start_time": "2021-09-07T19:48:15.452Z"
   },
   {
    "duration": 15,
    "start_time": "2021-09-07T19:48:15.497Z"
   },
   {
    "duration": 49,
    "start_time": "2021-09-07T19:48:15.514Z"
   },
   {
    "duration": 23,
    "start_time": "2021-09-07T19:48:15.584Z"
   },
   {
    "duration": 10,
    "start_time": "2021-09-07T19:48:15.610Z"
   },
   {
    "duration": 67,
    "start_time": "2021-09-07T19:48:15.622Z"
   },
   {
    "duration": 491,
    "start_time": "2021-09-07T19:48:15.691Z"
   },
   {
    "duration": 809,
    "start_time": "2021-09-07T19:48:16.184Z"
   },
   {
    "duration": 744,
    "start_time": "2021-09-07T19:48:16.995Z"
   },
   {
    "duration": 250,
    "start_time": "2021-09-07T19:48:17.742Z"
   },
   {
    "duration": 731,
    "start_time": "2021-09-07T19:48:17.994Z"
   },
   {
    "duration": 206,
    "start_time": "2021-09-07T19:48:18.727Z"
   },
   {
    "duration": 12,
    "start_time": "2021-09-07T19:48:18.935Z"
   },
   {
    "duration": 502,
    "start_time": "2021-09-07T19:48:18.949Z"
   },
   {
    "duration": 29,
    "start_time": "2021-09-07T19:48:19.453Z"
   },
   {
    "duration": 9,
    "start_time": "2021-09-07T19:48:19.485Z"
   },
   {
    "duration": 9,
    "start_time": "2021-09-07T19:48:19.497Z"
   },
   {
    "duration": 1287,
    "start_time": "2021-09-07T19:48:19.509Z"
   },
   {
    "duration": 1333,
    "start_time": "2021-09-07T19:48:20.802Z"
   },
   {
    "duration": 8,
    "start_time": "2021-09-07T19:48:22.138Z"
   },
   {
    "duration": 1529,
    "start_time": "2021-09-07T19:48:22.148Z"
   },
   {
    "duration": 24,
    "start_time": "2021-09-07T19:48:23.680Z"
   },
   {
    "duration": 610,
    "start_time": "2021-09-07T19:48:23.706Z"
   },
   {
    "duration": 14,
    "start_time": "2021-09-07T19:48:24.318Z"
   },
   {
    "duration": 209,
    "start_time": "2021-09-07T19:48:24.335Z"
   },
   {
    "duration": 115,
    "start_time": "2021-09-07T19:49:17.706Z"
   },
   {
    "duration": 113,
    "start_time": "2021-09-07T19:58:56.515Z"
   },
   {
    "duration": 126,
    "start_time": "2021-09-07T20:01:32.009Z"
   },
   {
    "duration": 127,
    "start_time": "2021-09-07T20:03:09.228Z"
   },
   {
    "duration": 2120,
    "start_time": "2021-09-08T11:22:30.321Z"
   },
   {
    "duration": 2168,
    "start_time": "2021-09-08T11:22:32.444Z"
   },
   {
    "duration": -70,
    "start_time": "2021-09-08T11:22:34.685Z"
   },
   {
    "duration": -70,
    "start_time": "2021-09-08T11:22:34.687Z"
   },
   {
    "duration": -71,
    "start_time": "2021-09-08T11:22:34.689Z"
   },
   {
    "duration": -71,
    "start_time": "2021-09-08T11:22:34.691Z"
   },
   {
    "duration": -73,
    "start_time": "2021-09-08T11:22:34.694Z"
   },
   {
    "duration": -75,
    "start_time": "2021-09-08T11:22:34.697Z"
   },
   {
    "duration": -76,
    "start_time": "2021-09-08T11:22:34.699Z"
   },
   {
    "duration": -76,
    "start_time": "2021-09-08T11:22:34.701Z"
   },
   {
    "duration": -77,
    "start_time": "2021-09-08T11:22:34.703Z"
   },
   {
    "duration": -78,
    "start_time": "2021-09-08T11:22:34.705Z"
   },
   {
    "duration": -77,
    "start_time": "2021-09-08T11:22:34.706Z"
   },
   {
    "duration": -78,
    "start_time": "2021-09-08T11:22:34.708Z"
   },
   {
    "duration": -78,
    "start_time": "2021-09-08T11:22:34.710Z"
   },
   {
    "duration": -79,
    "start_time": "2021-09-08T11:22:34.712Z"
   },
   {
    "duration": -79,
    "start_time": "2021-09-08T11:22:34.713Z"
   },
   {
    "duration": -136,
    "start_time": "2021-09-08T11:22:34.771Z"
   },
   {
    "duration": -137,
    "start_time": "2021-09-08T11:22:34.773Z"
   },
   {
    "duration": -137,
    "start_time": "2021-09-08T11:22:34.775Z"
   },
   {
    "duration": -138,
    "start_time": "2021-09-08T11:22:34.777Z"
   },
   {
    "duration": -139,
    "start_time": "2021-09-08T11:22:34.779Z"
   },
   {
    "duration": -153,
    "start_time": "2021-09-08T11:22:34.794Z"
   },
   {
    "duration": -165,
    "start_time": "2021-09-08T11:22:34.807Z"
   },
   {
    "duration": -164,
    "start_time": "2021-09-08T11:22:34.808Z"
   },
   {
    "duration": -165,
    "start_time": "2021-09-08T11:22:34.810Z"
   },
   {
    "duration": -165,
    "start_time": "2021-09-08T11:22:34.811Z"
   },
   {
    "duration": -165,
    "start_time": "2021-09-08T11:22:34.812Z"
   },
   {
    "duration": -165,
    "start_time": "2021-09-08T11:22:34.813Z"
   },
   {
    "duration": -164,
    "start_time": "2021-09-08T11:22:34.814Z"
   },
   {
    "duration": -164,
    "start_time": "2021-09-08T11:22:34.815Z"
   },
   {
    "duration": -153,
    "start_time": "2021-09-08T11:22:34.817Z"
   },
   {
    "duration": -152,
    "start_time": "2021-09-08T11:22:34.817Z"
   },
   {
    "duration": -152,
    "start_time": "2021-09-08T11:22:34.819Z"
   },
   {
    "duration": 1892,
    "start_time": "2021-09-08T11:23:46.947Z"
   },
   {
    "duration": 2282,
    "start_time": "2021-09-08T11:23:48.841Z"
   },
   {
    "duration": -176,
    "start_time": "2021-09-08T11:23:51.303Z"
   },
   {
    "duration": -177,
    "start_time": "2021-09-08T11:23:51.306Z"
   },
   {
    "duration": -178,
    "start_time": "2021-09-08T11:23:51.308Z"
   },
   {
    "duration": -179,
    "start_time": "2021-09-08T11:23:51.310Z"
   },
   {
    "duration": -179,
    "start_time": "2021-09-08T11:23:51.312Z"
   },
   {
    "duration": -180,
    "start_time": "2021-09-08T11:23:51.314Z"
   },
   {
    "duration": -180,
    "start_time": "2021-09-08T11:23:51.315Z"
   },
   {
    "duration": -181,
    "start_time": "2021-09-08T11:23:51.317Z"
   },
   {
    "duration": -210,
    "start_time": "2021-09-08T11:23:51.347Z"
   },
   {
    "duration": -211,
    "start_time": "2021-09-08T11:23:51.350Z"
   },
   {
    "duration": -211,
    "start_time": "2021-09-08T11:23:51.351Z"
   },
   {
    "duration": -212,
    "start_time": "2021-09-08T11:23:51.353Z"
   },
   {
    "duration": -212,
    "start_time": "2021-09-08T11:23:51.355Z"
   },
   {
    "duration": -213,
    "start_time": "2021-09-08T11:23:51.357Z"
   },
   {
    "duration": -213,
    "start_time": "2021-09-08T11:23:51.358Z"
   },
   {
    "duration": -214,
    "start_time": "2021-09-08T11:23:51.360Z"
   },
   {
    "duration": -213,
    "start_time": "2021-09-08T11:23:51.361Z"
   },
   {
    "duration": -214,
    "start_time": "2021-09-08T11:23:51.363Z"
   },
   {
    "duration": -214,
    "start_time": "2021-09-08T11:23:51.364Z"
   },
   {
    "duration": -213,
    "start_time": "2021-09-08T11:23:51.365Z"
   },
   {
    "duration": -263,
    "start_time": "2021-09-08T11:23:51.416Z"
   },
   {
    "duration": -272,
    "start_time": "2021-09-08T11:23:51.426Z"
   },
   {
    "duration": -271,
    "start_time": "2021-09-08T11:23:51.427Z"
   },
   {
    "duration": -271,
    "start_time": "2021-09-08T11:23:51.428Z"
   },
   {
    "duration": -268,
    "start_time": "2021-09-08T11:23:51.429Z"
   },
   {
    "duration": -267,
    "start_time": "2021-09-08T11:23:51.430Z"
   },
   {
    "duration": -267,
    "start_time": "2021-09-08T11:23:51.431Z"
   },
   {
    "duration": -266,
    "start_time": "2021-09-08T11:23:51.432Z"
   },
   {
    "duration": -266,
    "start_time": "2021-09-08T11:23:51.433Z"
   },
   {
    "duration": -265,
    "start_time": "2021-09-08T11:23:51.434Z"
   },
   {
    "duration": -265,
    "start_time": "2021-09-08T11:23:51.435Z"
   },
   {
    "duration": -265,
    "start_time": "2021-09-08T11:23:51.436Z"
   },
   {
    "duration": 97,
    "start_time": "2021-09-08T11:26:31.441Z"
   },
   {
    "duration": 1961,
    "start_time": "2021-09-08T11:26:39.267Z"
   },
   {
    "duration": 108,
    "start_time": "2021-09-08T11:26:41.231Z"
   },
   {
    "duration": 23,
    "start_time": "2021-09-08T11:26:41.343Z"
   },
   {
    "duration": 117,
    "start_time": "2021-09-08T11:26:41.369Z"
   },
   {
    "duration": 20,
    "start_time": "2021-09-08T11:26:41.489Z"
   },
   {
    "duration": 50,
    "start_time": "2021-09-08T11:26:41.512Z"
   },
   {
    "duration": 17,
    "start_time": "2021-09-08T11:26:41.564Z"
   },
   {
    "duration": 80,
    "start_time": "2021-09-08T11:26:41.584Z"
   },
   {
    "duration": 23,
    "start_time": "2021-09-08T11:26:41.668Z"
   },
   {
    "duration": 10,
    "start_time": "2021-09-08T11:26:41.695Z"
   },
   {
    "duration": 85,
    "start_time": "2021-09-08T11:26:41.708Z"
   },
   {
    "duration": 552,
    "start_time": "2021-09-08T11:26:41.796Z"
   },
   {
    "duration": 853,
    "start_time": "2021-09-08T11:26:42.352Z"
   },
   {
    "duration": 939,
    "start_time": "2021-09-08T11:26:43.209Z"
   },
   {
    "duration": 37,
    "start_time": "2021-09-08T11:26:44.161Z"
   },
   {
    "duration": 1793,
    "start_time": "2021-09-08T11:26:44.201Z"
   },
   {
    "duration": 781,
    "start_time": "2021-09-08T11:26:45.997Z"
   },
   {
    "duration": 220,
    "start_time": "2021-09-08T11:26:46.781Z"
   },
   {
    "duration": 61,
    "start_time": "2021-09-08T11:26:47.004Z"
   },
   {
    "duration": 589,
    "start_time": "2021-09-08T11:26:47.068Z"
   },
   {
    "duration": 18,
    "start_time": "2021-09-08T11:26:47.662Z"
   },
   {
    "duration": 8,
    "start_time": "2021-09-08T11:26:47.682Z"
   },
   {
    "duration": 4,
    "start_time": "2021-09-08T11:26:47.693Z"
   },
   {
    "duration": 1265,
    "start_time": "2021-09-08T11:26:47.700Z"
   },
   {
    "duration": 30,
    "start_time": "2021-09-08T11:26:48.967Z"
   },
   {
    "duration": 64,
    "start_time": "2021-09-08T11:26:49.001Z"
   },
   {
    "duration": 8,
    "start_time": "2021-09-08T11:26:49.071Z"
   },
   {
    "duration": 1321,
    "start_time": "2021-09-08T11:26:49.082Z"
   },
   {
    "duration": 9,
    "start_time": "2021-09-08T11:26:50.406Z"
   },
   {
    "duration": 1179,
    "start_time": "2021-09-08T11:26:50.418Z"
   },
   {
    "duration": 26,
    "start_time": "2021-09-08T11:26:51.600Z"
   },
   {
    "duration": 662,
    "start_time": "2021-09-08T11:26:51.629Z"
   },
   {
    "duration": 15,
    "start_time": "2021-09-08T11:26:52.294Z"
   },
   {
    "duration": 239,
    "start_time": "2021-09-08T11:26:52.312Z"
   },
   {
    "duration": 2045,
    "start_time": "2021-09-08T11:29:09.299Z"
   },
   {
    "duration": 2645,
    "start_time": "2021-09-08T11:29:33.956Z"
   },
   {
    "duration": 552,
    "start_time": "2021-09-08T11:29:36.603Z"
   },
   {
    "duration": 9,
    "start_time": "2021-09-08T11:29:37.159Z"
   },
   {
    "duration": 110,
    "start_time": "2021-09-08T11:29:37.170Z"
   },
   {
    "duration": 18,
    "start_time": "2021-09-08T11:29:37.283Z"
   },
   {
    "duration": 93,
    "start_time": "2021-09-08T11:29:37.303Z"
   },
   {
    "duration": 17,
    "start_time": "2021-09-08T11:29:37.399Z"
   },
   {
    "duration": 59,
    "start_time": "2021-09-08T11:29:37.419Z"
   },
   {
    "duration": 27,
    "start_time": "2021-09-08T11:29:37.482Z"
   },
   {
    "duration": 11,
    "start_time": "2021-09-08T11:29:37.512Z"
   },
   {
    "duration": 42,
    "start_time": "2021-09-08T11:29:37.526Z"
   },
   {
    "duration": 536,
    "start_time": "2021-09-08T11:29:37.571Z"
   },
   {
    "duration": 833,
    "start_time": "2021-09-08T11:29:38.109Z"
   },
   {
    "duration": 633,
    "start_time": "2021-09-08T11:29:38.961Z"
   },
   {
    "duration": 38,
    "start_time": "2021-09-08T11:29:39.597Z"
   },
   {
    "duration": 2408,
    "start_time": "2021-09-08T11:29:39.637Z"
   },
   {
    "duration": 811,
    "start_time": "2021-09-08T11:29:42.048Z"
   },
   {
    "duration": 298,
    "start_time": "2021-09-08T11:29:42.864Z"
   },
   {
    "duration": 20,
    "start_time": "2021-09-08T11:29:43.166Z"
   },
   {
    "duration": 607,
    "start_time": "2021-09-08T11:29:43.188Z"
   },
   {
    "duration": 19,
    "start_time": "2021-09-08T11:29:43.798Z"
   },
   {
    "duration": 8,
    "start_time": "2021-09-08T11:29:43.819Z"
   },
   {
    "duration": 35,
    "start_time": "2021-09-08T11:29:43.830Z"
   },
   {
    "duration": 727,
    "start_time": "2021-09-08T11:29:43.868Z"
   },
   {
    "duration": 28,
    "start_time": "2021-09-08T11:29:44.597Z"
   },
   {
    "duration": 50,
    "start_time": "2021-09-08T11:29:44.628Z"
   },
   {
    "duration": 8,
    "start_time": "2021-09-08T11:29:44.684Z"
   },
   {
    "duration": 1395,
    "start_time": "2021-09-08T11:29:44.695Z"
   },
   {
    "duration": 9,
    "start_time": "2021-09-08T11:29:46.093Z"
   },
   {
    "duration": 706,
    "start_time": "2021-09-08T11:29:46.105Z"
   },
   {
    "duration": 24,
    "start_time": "2021-09-08T11:29:46.813Z"
   },
   {
    "duration": 635,
    "start_time": "2021-09-08T11:29:46.840Z"
   },
   {
    "duration": 16,
    "start_time": "2021-09-08T11:29:47.478Z"
   },
   {
    "duration": 243,
    "start_time": "2021-09-08T11:29:47.497Z"
   },
   {
    "duration": 120,
    "start_time": "2021-09-08T20:01:02.412Z"
   }
  ],
  "kernelspec": {
   "display_name": "Python 3",
   "language": "python",
   "name": "python3"
  },
  "language_info": {
   "codemirror_mode": {
    "name": "ipython",
    "version": 3
   },
   "file_extension": ".py",
   "mimetype": "text/x-python",
   "name": "python",
   "nbconvert_exporter": "python",
   "pygments_lexer": "ipython3",
   "version": "3.7.10"
  },
  "toc": {
   "base_numbering": 1,
   "nav_menu": {},
   "number_sections": true,
   "sideBar": true,
   "skip_h1_title": true,
   "title_cell": "Содержание",
   "title_sidebar": "Содержание",
   "toc_cell": true,
   "toc_position": {},
   "toc_section_display": true,
   "toc_window_display": true
  }
 },
 "nbformat": 4,
 "nbformat_minor": 2
}
