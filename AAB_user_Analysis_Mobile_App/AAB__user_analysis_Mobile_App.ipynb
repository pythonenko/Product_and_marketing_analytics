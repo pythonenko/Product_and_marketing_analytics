{
 "cells": [
  {
   "cell_type": "markdown",
   "metadata": {
    "toc": true
   },
   "source": [
    "<h1>Содержание<span class=\"tocSkip\"></span></h1>\n",
    "<div class=\"toc\"><ul class=\"toc-item\"><li><span><a href=\"#Загрузка-и-подготовка-данных\" data-toc-modified-id=\"Загрузка-и-подготовка-данных-1\"><span class=\"toc-item-num\">1&nbsp;&nbsp;</span>Загрузка и подготовка данных</a></span><ul class=\"toc-item\"><li><span><a href=\"#Загрузка-данных,-проверка-типов-переменных,-пропусков-и-дубликатов\" data-toc-modified-id=\"Загрузка-данных,-проверка-типов-переменных,-пропусков-и-дубликатов-1.1\"><span class=\"toc-item-num\">1.1&nbsp;&nbsp;</span>Загрузка данных, проверка типов переменных, пропусков и дубликатов</a></span></li><li><span><a href=\"#Предобработка-данных\" data-toc-modified-id=\"Предобработка-данных-1.2\"><span class=\"toc-item-num\">1.2&nbsp;&nbsp;</span>Предобработка данных</a></span></li></ul></li><li><span><a href=\"#Изучение-и-проверка-данных\" data-toc-modified-id=\"Изучение-и-проверка-данных-2\"><span class=\"toc-item-num\">2&nbsp;&nbsp;</span>Изучение и проверка данных</a></span><ul class=\"toc-item\"><li><span><a href=\"#Число-событий-в-логе\" data-toc-modified-id=\"Число-событий-в-логе-2.1\"><span class=\"toc-item-num\">2.1&nbsp;&nbsp;</span>Число событий в логе</a></span></li><li><span><a href=\"#Число-пользователей-в-логе\" data-toc-modified-id=\"Число-пользователей-в-логе-2.2\"><span class=\"toc-item-num\">2.2&nbsp;&nbsp;</span>Число пользователей в логе</a></span></li><li><span><a href=\"#Среднее-число-событий-на-пользователя\" data-toc-modified-id=\"Среднее-число-событий-на-пользователя-2.3\"><span class=\"toc-item-num\">2.3&nbsp;&nbsp;</span>Среднее число событий на пользователя</a></span></li><li><span><a href=\"#Период-накопления-данных\" data-toc-modified-id=\"Период-накопления-данных-2.4\"><span class=\"toc-item-num\">2.4&nbsp;&nbsp;</span>Период накопления данных</a></span></li><li><span><a href=\"#Число-событий-после-фильтрации\" data-toc-modified-id=\"Число-событий-после-фильтрации-2.5\"><span class=\"toc-item-num\">2.5&nbsp;&nbsp;</span>Число событий после фильтрации</a></span></li><li><span><a href=\"#Полнота-данных-экспериментальных-групп\" data-toc-modified-id=\"Полнота-данных-экспериментальных-групп-2.6\"><span class=\"toc-item-num\">2.6&nbsp;&nbsp;</span>Полнота данных экспериментальных групп</a></span></li></ul></li><li><span><a href=\"#Воронка-событий\" data-toc-modified-id=\"Воронка-событий-3\"><span class=\"toc-item-num\">3&nbsp;&nbsp;</span>Воронка событий</a></span><ul class=\"toc-item\"><li><span><a href=\"#Виды-и-количество-событий\" data-toc-modified-id=\"Виды-и-количество-событий-3.1\"><span class=\"toc-item-num\">3.1&nbsp;&nbsp;</span>Виды и количество событий</a></span></li><li><span><a href=\"#Доля-пользователей,-которые-хоть-раз-совершали-событие\" data-toc-modified-id=\"Доля-пользователей,-которые-хоть-раз-совершали-событие-3.2\"><span class=\"toc-item-num\">3.2&nbsp;&nbsp;</span>Доля пользователей, которые хоть раз совершали событие</a></span></li><li><span><a href=\"#Порядок-событий-в-воронке\" data-toc-modified-id=\"Порядок-событий-в-воронке-3.3\"><span class=\"toc-item-num\">3.3&nbsp;&nbsp;</span>Порядок событий в воронке</a></span></li><li><span><a href=\"#Конверсии-воронки\" data-toc-modified-id=\"Конверсии-воронки-3.4\"><span class=\"toc-item-num\">3.4&nbsp;&nbsp;</span>Конверсии воронки</a></span></li></ul></li><li><span><a href=\"#Анализ-результатов-эксперимента\" data-toc-modified-id=\"Анализ-результатов-эксперимента-4\"><span class=\"toc-item-num\">4&nbsp;&nbsp;</span>Анализ результатов эксперимента</a></span><ul class=\"toc-item\"><li><span><a href=\"#Конверсии-воронки-по-группам\" data-toc-modified-id=\"Конверсии-воронки-по-группам-4.1\"><span class=\"toc-item-num\">4.1&nbsp;&nbsp;</span>Конверсии воронки по группам</a></span></li><li><span><a href=\"#Анализ-А/А-эксперимента\" data-toc-modified-id=\"Анализ-А/А-эксперимента-4.2\"><span class=\"toc-item-num\">4.2&nbsp;&nbsp;</span>Анализ А/А-эксперимента</a></span></li><li><span><a href=\"#Анализ-A/A/B-эксперимента\" data-toc-modified-id=\"Анализ-A/A/B-эксперимента-4.3\"><span class=\"toc-item-num\">4.3&nbsp;&nbsp;</span>Анализ A/A/B эксперимента</a></span></li><li><span><a href=\"#Уровень-значимости\" data-toc-modified-id=\"Уровень-значимости-4.4\"><span class=\"toc-item-num\">4.4&nbsp;&nbsp;</span>Уровень значимости</a></span></li></ul></li><li><span><a href=\"#Общий-вывод\" data-toc-modified-id=\"Общий-вывод-5\"><span class=\"toc-item-num\">5&nbsp;&nbsp;</span>Общий вывод</a></span></li></ul></div>"
   ]
  },
  {
   "cell_type": "markdown",
   "metadata": {},
   "source": [
    "# Анализ пользователей мобильного приложения \n",
    "\n",
    "В рамках изучения пользовательского поведения мобильного приложения для продажи продуктов питания проанализируем ключевые коммерческие метрики в разрезе основных этапов воронки продаж. Также проанализируем результаты A/A/B-эксперимента мобильного приложения, проведенного для оценки влияния нового шрифта на поведение пользователей. Это позволит в дальнейшем минимизировать риск того, что изменение дизайна приложения (даже такое несущественное, как шрифт) окажется непривычным для пользователей и негативно скажется на конверсии продукта.\n",
    "\n",
    "При анализе будут использоваться данные, полученные от 3 групп - 2 контрольных со старыми шрифтами и 1 экспериментальной - с новым. Такой дизайн эксперимента даст возможность контролировать искажение результатов дополнительными факторами, если 2 контрольные группы будут существенно отличаться.\n",
    "\n",
    "Анализ данных основан на записях действий пользователей в логе, где:\n",
    "* EventName — название события;\n",
    "* DeviceIDHash — уникальный идентификатор пользователя;\n",
    "* EventTimestamp — время события;\n",
    "* ExpId — номер эксперимента: 246 и 247 — контрольные группы, а 248 — экспериментальная."
   ]
  },
  {
   "cell_type": "code",
   "execution_count": 1,
   "metadata": {},
   "outputs": [],
   "source": [
    "import pandas as pd\n",
    "import numpy as np\n",
    "from scipy import stats as st\n",
    "import matplotlib.pyplot as plt\n",
    "import seaborn as sns\n",
    "import math\n",
    "import os\n",
    "from IPython.display import display\n",
    "from plotly.subplots import make_subplots\n",
    "import plotly.graph_objects as go\n",
    "import plotly.express as px"
   ]
  },
  {
   "cell_type": "markdown",
   "metadata": {},
   "source": [
    "## Загрузка и подготовка данных"
   ]
  },
  {
   "cell_type": "markdown",
   "metadata": {},
   "source": [
    "### Загрузка данных, проверка типов переменных, пропусков и дубликатов"
   ]
  },
  {
   "cell_type": "markdown",
   "metadata": {},
   "source": [
    "Откроем файл с данными о действиях пользователей в приложении и изучим общую информацию:"
   ]
  },
  {
   "cell_type": "code",
   "execution_count": 2,
   "metadata": {},
   "outputs": [
    {
     "name": "stdout",
     "output_type": "stream",
     "text": [
      "<class 'pandas.core.frame.DataFrame'>\n",
      "RangeIndex: 244126 entries, 0 to 244125\n",
      "Data columns (total 4 columns):\n",
      "EventName         244126 non-null object\n",
      "DeviceIDHash      244126 non-null int64\n",
      "EventTimestamp    244126 non-null int64\n",
      "ExpId             244126 non-null int64\n",
      "dtypes: int64(3), object(1)\n",
      "memory usage: 7.5+ MB\n"
     ]
    },
    {
     "data": {
      "text/html": [
       "<div>\n",
       "<style scoped>\n",
       "    .dataframe tbody tr th:only-of-type {\n",
       "        vertical-align: middle;\n",
       "    }\n",
       "\n",
       "    .dataframe tbody tr th {\n",
       "        vertical-align: top;\n",
       "    }\n",
       "\n",
       "    .dataframe thead th {\n",
       "        text-align: right;\n",
       "    }\n",
       "</style>\n",
       "<table border=\"1\" class=\"dataframe\">\n",
       "  <thead>\n",
       "    <tr style=\"text-align: right;\">\n",
       "      <th></th>\n",
       "      <th>EventName</th>\n",
       "      <th>DeviceIDHash</th>\n",
       "      <th>EventTimestamp</th>\n",
       "      <th>ExpId</th>\n",
       "    </tr>\n",
       "  </thead>\n",
       "  <tbody>\n",
       "    <tr>\n",
       "      <td>0</td>\n",
       "      <td>MainScreenAppear</td>\n",
       "      <td>4575588528974610257</td>\n",
       "      <td>1564029816</td>\n",
       "      <td>246</td>\n",
       "    </tr>\n",
       "    <tr>\n",
       "      <td>1</td>\n",
       "      <td>MainScreenAppear</td>\n",
       "      <td>7416695313311560658</td>\n",
       "      <td>1564053102</td>\n",
       "      <td>246</td>\n",
       "    </tr>\n",
       "    <tr>\n",
       "      <td>2</td>\n",
       "      <td>PaymentScreenSuccessful</td>\n",
       "      <td>3518123091307005509</td>\n",
       "      <td>1564054127</td>\n",
       "      <td>248</td>\n",
       "    </tr>\n",
       "    <tr>\n",
       "      <td>3</td>\n",
       "      <td>CartScreenAppear</td>\n",
       "      <td>3518123091307005509</td>\n",
       "      <td>1564054127</td>\n",
       "      <td>248</td>\n",
       "    </tr>\n",
       "    <tr>\n",
       "      <td>4</td>\n",
       "      <td>PaymentScreenSuccessful</td>\n",
       "      <td>6217807653094995999</td>\n",
       "      <td>1564055322</td>\n",
       "      <td>248</td>\n",
       "    </tr>\n",
       "  </tbody>\n",
       "</table>\n",
       "</div>"
      ],
      "text/plain": [
       "                 EventName         DeviceIDHash  EventTimestamp  ExpId\n",
       "0         MainScreenAppear  4575588528974610257      1564029816    246\n",
       "1         MainScreenAppear  7416695313311560658      1564053102    246\n",
       "2  PaymentScreenSuccessful  3518123091307005509      1564054127    248\n",
       "3         CartScreenAppear  3518123091307005509      1564054127    248\n",
       "4  PaymentScreenSuccessful  6217807653094995999      1564055322    248"
      ]
     },
     "metadata": {},
     "output_type": "display_data"
    },
    {
     "name": "stdout",
     "output_type": "stream",
     "text": [
      "Дубликатов в таблице: 413\n"
     ]
    }
   ],
   "source": [
    "def file_read (server_path, filename):\n",
    "    if os.path.exists(server_path):\n",
    "        file_read = pd.read_csv(server_path, sep='\\t')\n",
    "    else:\n",
    "        file_read = pd.read_csv(filename, sep=',')\n",
    "    return file_read\n",
    "\n",
    "data = file_read('/datasets/logs_exp.csv','logs_exp.csv')\n",
    "data.info()\n",
    "display(data.head())\n",
    "print('Дубликатов в таблице: {}'.format(data.duplicated().sum()))"
   ]
  },
  {
   "cell_type": "markdown",
   "metadata": {},
   "source": [
    "В исходном датасете содержится 244126 записей, пропусков не обнаружено, однако следует избавиться от 413 дубликатов.\n",
    "Переменную EventTimestamp необходимо перевести в формат datetime, типы других переменных распознаны верно. Также необходимо обработать названия переменных - перевести в нижний регистр и разделить слова знаком \"_\"."
   ]
  },
  {
   "cell_type": "markdown",
   "metadata": {},
   "source": [
    "### Предобработка данных\n",
    "\n",
    "Для удобства дальнейшей обработки приведем названия переменных к нижнему регистру и разделим слова нижним подчеркиванием."
   ]
  },
  {
   "cell_type": "code",
   "execution_count": 3,
   "metadata": {},
   "outputs": [
    {
     "name": "stdout",
     "output_type": "stream",
     "text": [
      "Index(['eventname', 'deviceidhash', 'eventtimestamp', 'expid'], dtype='object')\n"
     ]
    }
   ],
   "source": [
    "data.columns = data.columns.str.lower()\n",
    "print(data.columns) # ['eventname', 'deviceidhash', 'eventtimestamp', 'expid']\n",
    "data.columns = ['event_name', 'user_id', 'event_timestamp', 'exp_id']"
   ]
  },
  {
   "cell_type": "markdown",
   "metadata": {},
   "source": [
    "Избавимся от дубликатов в данных и приведем столбец event_timestamp к формату даты, после чего добавим столбец даты и времени, а также отдельный столбец дат."
   ]
  },
  {
   "cell_type": "code",
   "execution_count": 4,
   "metadata": {},
   "outputs": [],
   "source": [
    "data = data.drop_duplicates()\n",
    "data['event_timestamp'] = pd.to_datetime(data['event_timestamp'], unit='s')\n",
    "data['datetime'] = pd.to_datetime(data['event_timestamp'], format=\"%Y-%m-%d %H:%M:%S\")\n",
    "data['date'] = pd.to_datetime(data['event_timestamp'], format=\"%Y-%m-%d\")"
   ]
  },
  {
   "cell_type": "markdown",
   "metadata": {},
   "source": [
    "## Изучение и проверка данных"
   ]
  },
  {
   "cell_type": "markdown",
   "metadata": {},
   "source": [
    "### Число событий в логе"
   ]
  },
  {
   "cell_type": "code",
   "execution_count": 5,
   "metadata": {},
   "outputs": [
    {
     "name": "stdout",
     "output_type": "stream",
     "text": [
      "Всего событий в логе: 243713\n",
      "Типы событий: ['MainScreenAppear' 'PaymentScreenSuccessful' 'CartScreenAppear'\n",
      " 'OffersScreenAppear' 'Tutorial']\n"
     ]
    }
   ],
   "source": [
    "print('Всего событий в логе:', len(data))\n",
    "print('Типы событий:', data['event_name'].unique())"
   ]
  },
  {
   "cell_type": "markdown",
   "metadata": {},
   "source": [
    "После удаления дубликатов данные содержат информацию о 24713 событиях, включающих открытие главного экрана, успешную оплату, переход в корзину, просмотр страницы товара и открытие инструкции."
   ]
  },
  {
   "cell_type": "code",
   "execution_count": 6,
   "metadata": {},
   "outputs": [],
   "source": [
    "events_dict = {'MainScreenAppear':'Заход на главную страницу', \n",
    "               'PaymentScreenSuccessful':'Успешная оплата', \n",
    "               'CartScreenAppear':'Переход в корзину', \n",
    "               'OffersScreenAppear':'Просмотр товара', \n",
    "               'Tutorial':'Просмотр справки'}\n",
    "\n",
    "data['event_name'] = data['event_name'].map(lambda x : events_dict[str(x)])"
   ]
  },
  {
   "cell_type": "markdown",
   "metadata": {},
   "source": [
    "### Число пользователей в логе"
   ]
  },
  {
   "cell_type": "code",
   "execution_count": 7,
   "metadata": {},
   "outputs": [
    {
     "name": "stdout",
     "output_type": "stream",
     "text": [
      "Всего пользователей в логе: 7551\n"
     ]
    }
   ],
   "source": [
    "print('Всего пользователей в логе:', len(data['user_id'].unique()))"
   ]
  },
  {
   "cell_type": "markdown",
   "metadata": {},
   "source": [
    "Анализ будет проводиться на основе информации о действиях 7551 уникальных пользователей."
   ]
  },
  {
   "cell_type": "markdown",
   "metadata": {},
   "source": [
    "### Среднее число событий на пользователя"
   ]
  },
  {
   "cell_type": "code",
   "execution_count": 8,
   "metadata": {},
   "outputs": [
    {
     "name": "stdout",
     "output_type": "stream",
     "text": [
      "В среднем на пользователя приходится событий: 32.28\n"
     ]
    },
    {
     "data": {
      "text/html": [
       "<div>\n",
       "<style scoped>\n",
       "    .dataframe tbody tr th:only-of-type {\n",
       "        vertical-align: middle;\n",
       "    }\n",
       "\n",
       "    .dataframe tbody tr th {\n",
       "        vertical-align: top;\n",
       "    }\n",
       "\n",
       "    .dataframe thead tr th {\n",
       "        text-align: left;\n",
       "    }\n",
       "</style>\n",
       "<table border=\"1\" class=\"dataframe\">\n",
       "  <thead>\n",
       "    <tr>\n",
       "      <th></th>\n",
       "      <th>event_timestamp</th>\n",
       "    </tr>\n",
       "    <tr>\n",
       "      <th></th>\n",
       "      <th>count</th>\n",
       "    </tr>\n",
       "  </thead>\n",
       "  <tbody>\n",
       "    <tr>\n",
       "      <td>count</td>\n",
       "      <td>7551.00</td>\n",
       "    </tr>\n",
       "    <tr>\n",
       "      <td>mean</td>\n",
       "      <td>32.28</td>\n",
       "    </tr>\n",
       "    <tr>\n",
       "      <td>std</td>\n",
       "      <td>65.15</td>\n",
       "    </tr>\n",
       "    <tr>\n",
       "      <td>min</td>\n",
       "      <td>1.00</td>\n",
       "    </tr>\n",
       "    <tr>\n",
       "      <td>25%</td>\n",
       "      <td>9.00</td>\n",
       "    </tr>\n",
       "    <tr>\n",
       "      <td>50%</td>\n",
       "      <td>20.00</td>\n",
       "    </tr>\n",
       "    <tr>\n",
       "      <td>75%</td>\n",
       "      <td>37.00</td>\n",
       "    </tr>\n",
       "    <tr>\n",
       "      <td>max</td>\n",
       "      <td>2307.00</td>\n",
       "    </tr>\n",
       "  </tbody>\n",
       "</table>\n",
       "</div>"
      ],
      "text/plain": [
       "      event_timestamp\n",
       "                count\n",
       "count         7551.00\n",
       "mean            32.28\n",
       "std             65.15\n",
       "min              1.00\n",
       "25%              9.00\n",
       "50%             20.00\n",
       "75%             37.00\n",
       "max           2307.00"
      ]
     },
     "metadata": {},
     "output_type": "display_data"
    }
   ],
   "source": [
    "print('В среднем на пользователя приходится событий: {0:.2f}'.format(len(data)/len(data['user_id'].unique())))\n",
    "\n",
    "user_stat = data.groupby('user_id').agg({'event_timestamp':['count']})\n",
    "display(user_stat.describe().round(2))"
   ]
  },
  {
   "cell_type": "markdown",
   "metadata": {},
   "source": [
    "В среднем за анализируемый период каждый пользователь совершил 32 действия, половина пользователей совершила от 9 до 37 действий в приложении. Распределение переменной существенно смещено вправо (среднее превышает медиану более чем в 1,5 раза), есть выбивающиеся максимальные значения, доходящие до 2307. Такие \"активные\" пользователи могут оказаться парсерами цен. \n",
    "\n",
    "Изучим временные рамки сбора данных."
   ]
  },
  {
   "cell_type": "markdown",
   "metadata": {},
   "source": [
    "### Период накопления данных"
   ]
  },
  {
   "cell_type": "code",
   "execution_count": 9,
   "metadata": {},
   "outputs": [
    {
     "data": {
      "text/plain": [
       "count                  243713\n",
       "unique                 176654\n",
       "top       2019-08-01 14:40:35\n",
       "freq                        9\n",
       "first     2019-07-25 04:43:36\n",
       "last      2019-08-07 21:15:17\n",
       "Name: datetime, dtype: object"
      ]
     },
     "metadata": {},
     "output_type": "display_data"
    }
   ],
   "source": [
    "display(data['datetime'].describe())"
   ]
  },
  {
   "cell_type": "markdown",
   "metadata": {},
   "source": [
    "Эксперимент охватывает двухнедельный промежуток - с 25 июля по 7 августа 2019 года. Изучим полноту данных на всем протяжении эксперимента и построим гистограмму по дате и времени."
   ]
  },
  {
   "cell_type": "code",
   "execution_count": 10,
   "metadata": {},
   "outputs": [
    {
     "data": {
      "image/png": "[encoded data removed]"
     },
     "metadata": {},
     "output_type": "display_data"
    }
   ],
   "source": [
    "day_stat = data.groupby(\n",
    "    pd.Grouper(key='datetime', freq='d')).agg({'user_id':['nunique']}).reset_index()\n",
    "day_stat.columns = ['datetime','users']\n",
    "\n",
    "fig = go.Figure([go.Bar(x=day_stat['datetime'], \n",
    "                            y=day_stat['users'])])\n",
    "fig.update_layout(title_text='Уникальные пользователи по дням', title_font_size=20,\n",
    "                  xaxis_title='День',\n",
    "                  yaxis_title=\"Число уникальных пользователей\")\n",
    "fig.update_xaxes(dtick=86400000.0, tickformat=\"%d-%b\\n%a\", tickangle = 0)\n",
    "\n",
    "fig.show(width=1000, height=500, renderer='png')"
   ]
  },
  {
   "cell_type": "markdown",
   "metadata": {},
   "source": [
    "Как видно на графике, за первую неделю данные практически отсутствуют - это может быть связано с записью в лог \"доезжающих\" событий из предыдущей недели, попавших на сервер с опозданием (например, потому что в момент совершения действий в приложении устройство пользователя не было подключено к интернету). Таким образом, полные данные охватывают недельный период - с 1 августа.\n",
    "\n",
    "Также можно заметить флуктуацию числа уникальных пользователей по дням недели - в районе 3,5 тысяч в выходные дни и до 3,9 тысяч в будни (пик приходится на вторник)."
   ]
  },
  {
   "cell_type": "markdown",
   "metadata": {},
   "source": [
    "Чтобы избежать перекоса в данных, удалим старые записи."
   ]
  },
  {
   "cell_type": "code",
   "execution_count": 11,
   "metadata": {},
   "outputs": [
    {
     "data": {
      "text/plain": [
       "count                  240887\n",
       "unique                 174044\n",
       "top       2019-08-04 16:23:19\n",
       "freq                        9\n",
       "first     2019-08-01 00:07:28\n",
       "last      2019-08-07 21:15:17\n",
       "Name: datetime, dtype: object"
      ]
     },
     "metadata": {},
     "output_type": "display_data"
    }
   ],
   "source": [
    "data_filtered = data[data['date'] >= '2019-08-01']\n",
    "display(data_filtered['datetime'].describe())"
   ]
  },
  {
   "cell_type": "code",
   "execution_count": 12,
   "metadata": {},
   "outputs": [
    {
     "data": {
      "image/png": "[encoded data removed]"
     },
     "metadata": {},
     "output_type": "display_data"
    }
   ],
   "source": [
    "datetime_stat = data_filtered.groupby(\n",
    "    pd.Grouper(key='datetime', freq='h')).agg({'user_id':['nunique']}).reset_index()\n",
    "datetime_stat.columns = ['datetime','users']\n",
    "\n",
    "fig = go.Figure([go.Bar(x=datetime_stat['datetime'], \n",
    "                            y=datetime_stat['users'])])\n",
    "fig.update_layout(title_text='Уникальные пользователи по часам', title_font_size=20,\n",
    "                  xaxis_title='Время',\n",
    "                  yaxis_title=\"Число уникальных пользователей\")\n",
    "fig.update_xaxes(dtick=86400000.0/2, tickformat=\"%H:%M\\n%d-%a\", tickangle = 0)\n",
    "\n",
    "fig.show(width=1000, height=500, renderer='png')"
   ]
  },
  {
   "cell_type": "markdown",
   "metadata": {},
   "source": [
    "В рамках отфильтрованной недели наблюдений можно заметить характерную суточную активность пользователей приложения. Так, в выходные дни пиковая активность наблюдается в полдень (в районе 500 уникальных пользователей) и почти симметрично распределена относительно пиковых значений. В будни активность нарастает ко второй половине дня и принимает пиковые значения в промежутке с 14:00 до 16:00."
   ]
  },
  {
   "cell_type": "markdown",
   "metadata": {},
   "source": [
    "Определим время старта эксперимента, изучив данные за 31 июля и 1 августа подробнее."
   ]
  },
  {
   "cell_type": "code",
   "execution_count": 13,
   "metadata": {},
   "outputs": [
    {
     "data": {
      "image/png": "[encoded data removed]"
     },
     "metadata": {},
     "output_type": "display_data"
    }
   ],
   "source": [
    "exp_start = data[(data['date'] > '2019-07-31') & (data['date'] < '2019-08-02')].groupby(\n",
    "    pd.Grouper(key='datetime', freq='h')).agg({'user_id':['nunique']}).reset_index()\n",
    "exp_start.columns = ['datetime','users']\n",
    "\n",
    "fig = go.Figure([go.Bar(x=exp_start['datetime'], \n",
    "                            y=exp_start['users'])])\n",
    "fig.update_layout(title_text='Уникальные пользователи по часам', title_font_size=20,\n",
    "                  xaxis_title='Время',\n",
    "                  yaxis_title=\"Число уникальных пользователей\")\n",
    "fig.update_xaxes(dtick=86400000.0/4, tickformat=\"%H:%M\\n%d-%a\", tickangle = 0)\n",
    "\n",
    "fig.show(width=1000, height=500, renderer='png')"
   ]
  },
  {
   "cell_type": "markdown",
   "metadata": {},
   "source": [
    "31 июля по совокупной активности за сутки существенно меньше всех последующих дней, поэтому не может считаться днем старта эксперимета. Статистика использования приложения в первые часы 1 авгуса (до 02:00) близка по значениям к показателям 31 июля, однако учитывая, что данные за 1 августа распределены по часам аналогично всем последующим дням, эксперимент мог быть начат в 00:00 1 августа."
   ]
  },
  {
   "cell_type": "markdown",
   "metadata": {},
   "source": [
    "### Число событий после фильтрации"
   ]
  },
  {
   "cell_type": "code",
   "execution_count": 14,
   "metadata": {},
   "outputs": [
    {
     "name": "stdout",
     "output_type": "stream",
     "text": [
      "Осталось событий: 240887\n",
      "Доля сохраненных событий: 98.8%\n",
      "Осталось пользователей в логе: 7534\n",
      "Доля сохраненных пользователей: 99.8%\n"
     ]
    }
   ],
   "source": [
    "print('Осталось событий:', len(data_filtered))\n",
    "print('Доля сохраненных событий: {:.1%}'.format(len(data_filtered)/len(data)))\n",
    "print('Осталось пользователей в логе:', len(data_filtered['user_id'].unique()))\n",
    "print('Доля сохраненных пользователей: {:.1%}'.format(\n",
    "    len(data_filtered['user_id'].unique())/len(data['user_id'].unique())))"
   ]
  },
  {
   "cell_type": "markdown",
   "metadata": {},
   "source": [
    "После фильтрации лога от старых записей осталось 240887 событий и 7534 уникальных пользователей, или 99.8% от исходных данных."
   ]
  },
  {
   "cell_type": "markdown",
   "metadata": {},
   "source": [
    "### Полнота данных экспериментальных групп"
   ]
  },
  {
   "cell_type": "code",
   "execution_count": 15,
   "metadata": {},
   "outputs": [
    {
     "data": {
      "text/html": [
       "<div>\n",
       "<style scoped>\n",
       "    .dataframe tbody tr th:only-of-type {\n",
       "        vertical-align: middle;\n",
       "    }\n",
       "\n",
       "    .dataframe tbody tr th {\n",
       "        vertical-align: top;\n",
       "    }\n",
       "\n",
       "    .dataframe thead th {\n",
       "        text-align: right;\n",
       "    }\n",
       "</style>\n",
       "<table border=\"1\" class=\"dataframe\">\n",
       "  <thead>\n",
       "    <tr style=\"text-align: right;\">\n",
       "      <th></th>\n",
       "      <th>users</th>\n",
       "    </tr>\n",
       "    <tr>\n",
       "      <th>exp_id</th>\n",
       "      <th></th>\n",
       "    </tr>\n",
       "  </thead>\n",
       "  <tbody>\n",
       "    <tr>\n",
       "      <td>246</td>\n",
       "      <td>2484</td>\n",
       "    </tr>\n",
       "    <tr>\n",
       "      <td>247</td>\n",
       "      <td>2513</td>\n",
       "    </tr>\n",
       "    <tr>\n",
       "      <td>248</td>\n",
       "      <td>2537</td>\n",
       "    </tr>\n",
       "  </tbody>\n",
       "</table>\n",
       "</div>"
      ],
      "text/plain": [
       "        users\n",
       "exp_id       \n",
       "246      2484\n",
       "247      2513\n",
       "248      2537"
      ]
     },
     "metadata": {},
     "output_type": "display_data"
    },
    {
     "name": "stdout",
     "output_type": "stream",
     "text": [
      "Расхождение с числом пользователей группы 246\n"
     ]
    },
    {
     "data": {
      "text/html": [
       "<div>\n",
       "<style scoped>\n",
       "    .dataframe tbody tr th:only-of-type {\n",
       "        vertical-align: middle;\n",
       "    }\n",
       "\n",
       "    .dataframe tbody tr th {\n",
       "        vertical-align: top;\n",
       "    }\n",
       "\n",
       "    .dataframe thead th {\n",
       "        text-align: right;\n",
       "    }\n",
       "</style>\n",
       "<table border=\"1\" class=\"dataframe\">\n",
       "  <thead>\n",
       "    <tr style=\"text-align: right;\">\n",
       "      <th></th>\n",
       "      <th>users</th>\n",
       "    </tr>\n",
       "    <tr>\n",
       "      <th>exp_id</th>\n",
       "      <th></th>\n",
       "    </tr>\n",
       "  </thead>\n",
       "  <tbody>\n",
       "    <tr>\n",
       "      <td>246</td>\n",
       "      <td>0.000000</td>\n",
       "    </tr>\n",
       "    <tr>\n",
       "      <td>247</td>\n",
       "      <td>1.153999</td>\n",
       "    </tr>\n",
       "    <tr>\n",
       "      <td>248</td>\n",
       "      <td>2.089082</td>\n",
       "    </tr>\n",
       "  </tbody>\n",
       "</table>\n",
       "</div>"
      ],
      "text/plain": [
       "           users\n",
       "exp_id          \n",
       "246     0.000000\n",
       "247     1.153999\n",
       "248     2.089082"
      ]
     },
     "metadata": {},
     "output_type": "display_data"
    },
    {
     "name": "stdout",
     "output_type": "stream",
     "text": [
      "Расхождение с числом пользователей группы 247\n"
     ]
    },
    {
     "data": {
      "text/html": [
       "<div>\n",
       "<style scoped>\n",
       "    .dataframe tbody tr th:only-of-type {\n",
       "        vertical-align: middle;\n",
       "    }\n",
       "\n",
       "    .dataframe tbody tr th {\n",
       "        vertical-align: top;\n",
       "    }\n",
       "\n",
       "    .dataframe thead th {\n",
       "        text-align: right;\n",
       "    }\n",
       "</style>\n",
       "<table border=\"1\" class=\"dataframe\">\n",
       "  <thead>\n",
       "    <tr style=\"text-align: right;\">\n",
       "      <th></th>\n",
       "      <th>users</th>\n",
       "    </tr>\n",
       "    <tr>\n",
       "      <th>exp_id</th>\n",
       "      <th></th>\n",
       "    </tr>\n",
       "  </thead>\n",
       "  <tbody>\n",
       "    <tr>\n",
       "      <td>246</td>\n",
       "      <td>-1.167472</td>\n",
       "    </tr>\n",
       "    <tr>\n",
       "      <td>247</td>\n",
       "      <td>0.000000</td>\n",
       "    </tr>\n",
       "    <tr>\n",
       "      <td>248</td>\n",
       "      <td>0.945999</td>\n",
       "    </tr>\n",
       "  </tbody>\n",
       "</table>\n",
       "</div>"
      ],
      "text/plain": [
       "           users\n",
       "exp_id          \n",
       "246    -1.167472\n",
       "247     0.000000\n",
       "248     0.945999"
      ]
     },
     "metadata": {},
     "output_type": "display_data"
    },
    {
     "name": "stdout",
     "output_type": "stream",
     "text": [
      "Расхождение с числом пользователей группы 248\n"
     ]
    },
    {
     "data": {
      "text/html": [
       "<div>\n",
       "<style scoped>\n",
       "    .dataframe tbody tr th:only-of-type {\n",
       "        vertical-align: middle;\n",
       "    }\n",
       "\n",
       "    .dataframe tbody tr th {\n",
       "        vertical-align: top;\n",
       "    }\n",
       "\n",
       "    .dataframe thead th {\n",
       "        text-align: right;\n",
       "    }\n",
       "</style>\n",
       "<table border=\"1\" class=\"dataframe\">\n",
       "  <thead>\n",
       "    <tr style=\"text-align: right;\">\n",
       "      <th></th>\n",
       "      <th>users</th>\n",
       "    </tr>\n",
       "    <tr>\n",
       "      <th>exp_id</th>\n",
       "      <th></th>\n",
       "    </tr>\n",
       "  </thead>\n",
       "  <tbody>\n",
       "    <tr>\n",
       "      <td>246</td>\n",
       "      <td>-2.133655</td>\n",
       "    </tr>\n",
       "    <tr>\n",
       "      <td>247</td>\n",
       "      <td>-0.955034</td>\n",
       "    </tr>\n",
       "    <tr>\n",
       "      <td>248</td>\n",
       "      <td>0.000000</td>\n",
       "    </tr>\n",
       "  </tbody>\n",
       "</table>\n",
       "</div>"
      ],
      "text/plain": [
       "           users\n",
       "exp_id          \n",
       "246    -2.133655\n",
       "247    -0.955034\n",
       "248     0.000000"
      ]
     },
     "metadata": {},
     "output_type": "display_data"
    }
   ],
   "source": [
    "experiments = data_filtered.groupby('exp_id').agg({'user_id':['nunique']})\n",
    "experiments.columns = ['users']\n",
    "display(experiments)\n",
    "\n",
    "for i, index in zip(experiments['users'], experiments.index):\n",
    "    print('Расхождение с числом пользователей группы', index)\n",
    "    display((1-i/experiments)*100)"
   ]
  },
  {
   "cell_type": "markdown",
   "metadata": {},
   "source": [
    "За неделю эксперимента была собрана информация по 2484 и 2513 уникальным пользователям в первой и второй контрольных группах соответственно и 2537 участникам эксперимента. \n",
    "В целом группы сбалансированы по количеству, однако отличие количества пользователей в группе A1 по сравнению с другими группами превышает 1% (рекомендуемое максимальное расхождение для A/B тестов)."
   ]
  },
  {
   "cell_type": "code",
   "execution_count": 16,
   "metadata": {},
   "outputs": [
    {
     "name": "stdout",
     "output_type": "stream",
     "text": [
      "Пересечения групп A1 и A2: []\n",
      "Пересечения групп A1 и B: []\n",
      "Пересечения групп A2 и B: []\n"
     ]
    }
   ],
   "source": [
    "A1 = data_filtered.loc[data_filtered['exp_id'] == 246]['user_id'].unique()\n",
    "A2 = data_filtered.loc[data_filtered['exp_id'] == 247]['user_id'].unique()\n",
    "B = data_filtered.loc[data_filtered['exp_id'] == 248]['user_id'].unique()\n",
    "\n",
    "print('Пересечения групп A1 и A2:', list(set(A1) & set(A2)))\n",
    "print('Пересечения групп A1 и B:', list(set(A1) & set(B)))\n",
    "print('Пересечения групп A2 и B:', list(set(A2) & set(B)))"
   ]
  },
  {
   "cell_type": "markdown",
   "metadata": {},
   "source": [
    "Состав каждой из трех групп уникален, следовательно, попавший в одну из групп пользователь оставался в этой группе до конца теста и видил одинаковые версии приложения."
   ]
  },
  {
   "cell_type": "markdown",
   "metadata": {},
   "source": [
    "**Вывод.**\n",
    "    \n",
    "После удаления дубликатов объем анализируемых данных составил 24713 событий, совершенных 7551 уникальными пользователями. Чтобы избежать перекоса в данных, из лога были удалены \"доезжающие\" события первой недели. После фильтрации лога от старых записей осталось 240887 событий за недельный период - с 1 по 7 августа 2019 года по 2484 и 2513 уникальным пользователям в первой и второй контрольных группах соответственно и 2537 участникам эксперимента, или 99.8% от исходных данных. Группы сбаласнированы по количеству и не пересекаются.\n",
    "При анализие суточной активности пользователей приложения было также обнаружено, что в выходные дни пиковая активность наблюдется в полдень, а в будни активность нарастает ко второй половине дня и принимает пиковые значения в промежутке с 14:00 до 16:00."
   ]
  },
  {
   "cell_type": "markdown",
   "metadata": {},
   "source": [
    "## Воронка событий"
   ]
  },
  {
   "cell_type": "markdown",
   "metadata": {},
   "source": [
    "### Виды и количество событий\n",
    "\n",
    "Изучим виды событий в логах и количество уникальных пользователей с каждым типом событий."
   ]
  },
  {
   "cell_type": "code",
   "execution_count": 17,
   "metadata": {},
   "outputs": [
    {
     "data": {
      "text/html": [
       "<div>\n",
       "<style scoped>\n",
       "    .dataframe tbody tr th:only-of-type {\n",
       "        vertical-align: middle;\n",
       "    }\n",
       "\n",
       "    .dataframe tbody tr th {\n",
       "        vertical-align: top;\n",
       "    }\n",
       "\n",
       "    .dataframe thead th {\n",
       "        text-align: right;\n",
       "    }\n",
       "</style>\n",
       "<table border=\"1\" class=\"dataframe\">\n",
       "  <thead>\n",
       "    <tr style=\"text-align: right;\">\n",
       "      <th></th>\n",
       "      <th>event_name</th>\n",
       "      <th>users</th>\n",
       "    </tr>\n",
       "  </thead>\n",
       "  <tbody>\n",
       "    <tr>\n",
       "      <td>0</td>\n",
       "      <td>Всего пользователей</td>\n",
       "      <td>7534</td>\n",
       "    </tr>\n",
       "    <tr>\n",
       "      <td>1</td>\n",
       "      <td>Заход на главную страницу</td>\n",
       "      <td>7419</td>\n",
       "    </tr>\n",
       "    <tr>\n",
       "      <td>2</td>\n",
       "      <td>Просмотр товара</td>\n",
       "      <td>4593</td>\n",
       "    </tr>\n",
       "    <tr>\n",
       "      <td>3</td>\n",
       "      <td>Переход в корзину</td>\n",
       "      <td>3734</td>\n",
       "    </tr>\n",
       "    <tr>\n",
       "      <td>4</td>\n",
       "      <td>Успешная оплата</td>\n",
       "      <td>3539</td>\n",
       "    </tr>\n",
       "    <tr>\n",
       "      <td>5</td>\n",
       "      <td>Просмотр справки</td>\n",
       "      <td>840</td>\n",
       "    </tr>\n",
       "  </tbody>\n",
       "</table>\n",
       "</div>"
      ],
      "text/plain": [
       "                  event_name  users\n",
       "0        Всего пользователей   7534\n",
       "1  Заход на главную страницу   7419\n",
       "2            Просмотр товара   4593\n",
       "3          Переход в корзину   3734\n",
       "4            Успешная оплата   3539\n",
       "5           Просмотр справки    840"
      ]
     },
     "metadata": {},
     "output_type": "display_data"
    }
   ],
   "source": [
    "events = data_filtered.groupby('event_name').agg({'user_id':['nunique']}).reset_index()\n",
    "events.columns = ['event_name', 'users']\n",
    "a = len(data_filtered['user_id'].unique())\n",
    "events.loc[len(events)] = ['Всего пользователей', a]\n",
    "events = events.sort_values(by='users', ascending=False).reset_index(drop=True)\n",
    "display(events)"
   ]
  },
  {
   "cell_type": "markdown",
   "metadata": {},
   "source": [
    "### Доля пользователей, которые хоть раз совершали событие"
   ]
  },
  {
   "cell_type": "markdown",
   "metadata": {},
   "source": [
    "Посчитаем долю каждого из событий от всех уникальных юзеров в логе."
   ]
  },
  {
   "cell_type": "code",
   "execution_count": 18,
   "metadata": {},
   "outputs": [
    {
     "data": {
      "text/html": [
       "<div>\n",
       "<style scoped>\n",
       "    .dataframe tbody tr th:only-of-type {\n",
       "        vertical-align: middle;\n",
       "    }\n",
       "\n",
       "    .dataframe tbody tr th {\n",
       "        vertical-align: top;\n",
       "    }\n",
       "\n",
       "    .dataframe thead th {\n",
       "        text-align: right;\n",
       "    }\n",
       "</style>\n",
       "<table border=\"1\" class=\"dataframe\">\n",
       "  <thead>\n",
       "    <tr style=\"text-align: right;\">\n",
       "      <th></th>\n",
       "      <th>event_name</th>\n",
       "      <th>users</th>\n",
       "      <th>percent</th>\n",
       "    </tr>\n",
       "  </thead>\n",
       "  <tbody>\n",
       "    <tr>\n",
       "      <td>0</td>\n",
       "      <td>Всего пользователей</td>\n",
       "      <td>7534</td>\n",
       "      <td>100.0%</td>\n",
       "    </tr>\n",
       "    <tr>\n",
       "      <td>1</td>\n",
       "      <td>Заход на главную страницу</td>\n",
       "      <td>7419</td>\n",
       "      <td>98.5%</td>\n",
       "    </tr>\n",
       "    <tr>\n",
       "      <td>2</td>\n",
       "      <td>Просмотр товара</td>\n",
       "      <td>4593</td>\n",
       "      <td>61.0%</td>\n",
       "    </tr>\n",
       "    <tr>\n",
       "      <td>3</td>\n",
       "      <td>Переход в корзину</td>\n",
       "      <td>3734</td>\n",
       "      <td>49.6%</td>\n",
       "    </tr>\n",
       "    <tr>\n",
       "      <td>4</td>\n",
       "      <td>Успешная оплата</td>\n",
       "      <td>3539</td>\n",
       "      <td>47.0%</td>\n",
       "    </tr>\n",
       "    <tr>\n",
       "      <td>5</td>\n",
       "      <td>Просмотр справки</td>\n",
       "      <td>840</td>\n",
       "      <td>11.1%</td>\n",
       "    </tr>\n",
       "  </tbody>\n",
       "</table>\n",
       "</div>"
      ],
      "text/plain": [
       "                  event_name  users percent\n",
       "0        Всего пользователей   7534  100.0%\n",
       "1  Заход на главную страницу   7419   98.5%\n",
       "2            Просмотр товара   4593   61.0%\n",
       "3          Переход в корзину   3734   49.6%\n",
       "4            Успешная оплата   3539   47.0%\n",
       "5           Просмотр справки    840   11.1%"
      ]
     },
     "metadata": {},
     "output_type": "display_data"
    }
   ],
   "source": [
    "events['percent'] = (\n",
    "    events['users']/len(data_filtered['user_id'].unique())* 100).round(1).astype(str) + '%'\n",
    "display(events)"
   ]
  },
  {
   "cell_type": "markdown",
   "metadata": {},
   "source": [
    "98% всех пользователей попадают на страницу главного экрана (вероятно, у 2% главная страница не успевает загрузиться до того, как пользователь покидает приложение). 61% всех пользователей доходит до страницы продуктов, половина всех пользователей попадает в корзину, 47% от всех пользователей совершают оплату и только 11% уникальных пользователей изучают инструкции."
   ]
  },
  {
   "cell_type": "markdown",
   "metadata": {},
   "source": [
    "### Порядок событий в воронке\n",
    "\n",
    "Полученная последовательность событий по убыванию их частоты соответствует этапности воронки продаж - от главной страницы - через просмотр товара и переход в корзину - к покупке. Исключение составляет событие просмотра интрукции, поскольку это событие может происходить на любом этапе совершения покупки. Поэтому исключим данный тип событий из анализа воронки."
   ]
  },
  {
   "cell_type": "code",
   "execution_count": 19,
   "metadata": {},
   "outputs": [],
   "source": [
    "events = events.loc[events['event_name'] != 'Просмотр справки']"
   ]
  },
  {
   "cell_type": "markdown",
   "metadata": {},
   "source": [
    "### Конверсии воронки"
   ]
  },
  {
   "cell_type": "code",
   "execution_count": 20,
   "metadata": {},
   "outputs": [
    {
     "data": {
      "image/png": "[encoded data removed]"
     },
     "metadata": {},
     "output_type": "display_data"
    }
   ],
   "source": [
    "fig = go.Figure(go.Funnel(y = events['event_name'],\n",
    "                          x = events['users'],\n",
    "                          textposition = \"inside\", \n",
    "                          textinfo = \"value+percent previous\",\n",
    "                         hoverinfo = \"percent previous+percent initial\"))\n",
    "fig.update_layout(title_text='Событийная воронка', title_font_size=20)\n",
    "fig.show(width=1000, height=500, renderer='png')"
   ]
  },
  {
   "cell_type": "markdown",
   "metadata": {},
   "source": [
    "Как было установлено ранее, 98% всех пользователей попадают на страницу главного экрана. Из них 62% доходит до станицы продуктов, далее из них 81% попадает в корзину. Среди перешедших в корзину 95% совершают оплату. \n",
    "\n",
    "Таким образом, большая часть пользователей теряется после посещения главной страницы, не доходя до просмотра товаров."
   ]
  },
  {
   "cell_type": "code",
   "execution_count": 21,
   "metadata": {},
   "outputs": [
    {
     "data": {
      "image/png": "[encoded data removed]"
     },
     "metadata": {},
     "output_type": "display_data"
    }
   ],
   "source": [
    "events_main = data_filtered.groupby('event_name').agg({'user_id':['nunique']}).reset_index()\n",
    "events_main.columns = ['event_name', 'users']\n",
    "events_main = events_main.loc[events_main['event_name'] != 'Просмотр справки'].sort_values(\n",
    "    by='users', ascending=False).reset_index(drop=True)\n",
    "\n",
    "fig = go.Figure(go.Funnel(y = events_main['event_name'],x = events_main['users'],\n",
    "                          textposition = \"inside\", textinfo = \"value+percent initial\",\n",
    "                         hoverinfo = \"percent previous+percent initial\"))\n",
    "fig.update_layout(title_text='Воронка от первого события', title_font_size=20)\n",
    "\n",
    "fig.show(width=1000, height=500, renderer='png')"
   ]
  },
  {
   "cell_type": "markdown",
   "metadata": {},
   "source": [
    "В результате только 48% пользователей доходит от первого события (посещения главной страницы) до этапа оплаты."
   ]
  },
  {
   "cell_type": "markdown",
   "metadata": {},
   "source": [
    "## Анализ результатов эксперимента"
   ]
  },
  {
   "cell_type": "markdown",
   "metadata": {},
   "source": [
    "### Конверсии воронки по группам"
   ]
  },
  {
   "cell_type": "markdown",
   "metadata": {},
   "source": [
    "Расчитаем воронку по двум контрольным и одной экспериментальной группам и визуализируем результат."
   ]
  },
  {
   "cell_type": "code",
   "execution_count": 22,
   "metadata": {},
   "outputs": [
    {
     "data": {
      "text/html": [
       "<div>\n",
       "<style scoped>\n",
       "    .dataframe tbody tr th:only-of-type {\n",
       "        vertical-align: middle;\n",
       "    }\n",
       "\n",
       "    .dataframe tbody tr th {\n",
       "        vertical-align: top;\n",
       "    }\n",
       "\n",
       "    .dataframe thead th {\n",
       "        text-align: right;\n",
       "    }\n",
       "</style>\n",
       "<table border=\"1\" class=\"dataframe\">\n",
       "  <thead>\n",
       "    <tr style=\"text-align: right;\">\n",
       "      <th></th>\n",
       "      <th>event_name</th>\n",
       "      <th>A1</th>\n",
       "      <th>A2</th>\n",
       "      <th>B</th>\n",
       "      <th>AA</th>\n",
       "      <th>A1_percent</th>\n",
       "      <th>A2_percent</th>\n",
       "      <th>B_percent</th>\n",
       "      <th>AA_percent</th>\n",
       "    </tr>\n",
       "  </thead>\n",
       "  <tbody>\n",
       "    <tr>\n",
       "      <td>0</td>\n",
       "      <td>Всего пользователей</td>\n",
       "      <td>2484</td>\n",
       "      <td>2513</td>\n",
       "      <td>2537</td>\n",
       "      <td>4997</td>\n",
       "      <td>100.0%</td>\n",
       "      <td>100.0%</td>\n",
       "      <td>100.0%</td>\n",
       "      <td>100.0%</td>\n",
       "    </tr>\n",
       "    <tr>\n",
       "      <td>1</td>\n",
       "      <td>Заход на главную страницу</td>\n",
       "      <td>2450</td>\n",
       "      <td>2476</td>\n",
       "      <td>2493</td>\n",
       "      <td>4926</td>\n",
       "      <td>98.63%</td>\n",
       "      <td>98.53%</td>\n",
       "      <td>98.27%</td>\n",
       "      <td>98.58%</td>\n",
       "    </tr>\n",
       "    <tr>\n",
       "      <td>2</td>\n",
       "      <td>Просмотр товара</td>\n",
       "      <td>1542</td>\n",
       "      <td>1520</td>\n",
       "      <td>1531</td>\n",
       "      <td>3062</td>\n",
       "      <td>62.08%</td>\n",
       "      <td>60.49%</td>\n",
       "      <td>60.35%</td>\n",
       "      <td>61.28%</td>\n",
       "    </tr>\n",
       "    <tr>\n",
       "      <td>3</td>\n",
       "      <td>Переход в корзину</td>\n",
       "      <td>1266</td>\n",
       "      <td>1238</td>\n",
       "      <td>1230</td>\n",
       "      <td>2504</td>\n",
       "      <td>50.97%</td>\n",
       "      <td>49.26%</td>\n",
       "      <td>48.48%</td>\n",
       "      <td>50.11%</td>\n",
       "    </tr>\n",
       "    <tr>\n",
       "      <td>4</td>\n",
       "      <td>Успешная оплата</td>\n",
       "      <td>1200</td>\n",
       "      <td>1158</td>\n",
       "      <td>1181</td>\n",
       "      <td>2358</td>\n",
       "      <td>48.31%</td>\n",
       "      <td>46.08%</td>\n",
       "      <td>46.55%</td>\n",
       "      <td>47.19%</td>\n",
       "    </tr>\n",
       "  </tbody>\n",
       "</table>\n",
       "</div>"
      ],
      "text/plain": [
       "                  event_name    A1    A2     B    AA A1_percent A2_percent  \\\n",
       "0        Всего пользователей  2484  2513  2537  4997     100.0%     100.0%   \n",
       "1  Заход на главную страницу  2450  2476  2493  4926     98.63%     98.53%   \n",
       "2            Просмотр товара  1542  1520  1531  3062     62.08%     60.49%   \n",
       "3          Переход в корзину  1266  1238  1230  2504     50.97%     49.26%   \n",
       "4            Успешная оплата  1200  1158  1181  2358     48.31%     46.08%   \n",
       "\n",
       "  B_percent AA_percent  \n",
       "0    100.0%     100.0%  \n",
       "1    98.27%     98.58%  \n",
       "2    60.35%     61.28%  \n",
       "3    48.48%     50.11%  \n",
       "4    46.55%     47.19%  "
      ]
     },
     "metadata": {},
     "output_type": "display_data"
    }
   ],
   "source": [
    "exp = data_filtered.pivot_table(\n",
    "    columns='exp_id',\n",
    "    values='user_id',\n",
    "    aggfunc={'user_id':['nunique']})\n",
    "\n",
    "events_exp = data_filtered.pivot_table(\n",
    "    index='event_name',\n",
    "    columns='exp_id',\n",
    "    values='user_id',\n",
    "    aggfunc='nunique')\n",
    "\n",
    "events_exp = events_exp.append(exp)\n",
    "events_exp = events_exp.sort_values(by=246, ascending=False).reset_index()\n",
    "\n",
    "events_exp.columns = ['event_name', 'A1', 'A2','B']\n",
    "events_exp = events_exp.loc[events_exp['event_name'] != 'Просмотр справки']\n",
    "events_exp['event_name'] = events_exp['event_name'].str.replace('nunique', 'Всего пользователей')\n",
    "\n",
    "events_exp['AA'] = events_exp['A1'] + events_exp['A2']\n",
    "\n",
    "events_exp['A1_percent'] = (events_exp['A1']/(events_exp.at[0,'A1'])* 100).round(2).astype(str) + '%'\n",
    "events_exp['A2_percent'] = (events_exp['A2']/(events_exp.at[0,'A2'])* 100).round(2).astype(str) + '%'\n",
    "events_exp['B_percent'] = (events_exp['B']/(events_exp.at[0,'B'])* 100).round(2).astype(str) + '%'\n",
    "events_exp['AA_percent'] = (events_exp['AA']/(events_exp.at[0,'AA'])* 100).round(2).astype(str) + '%'\n",
    "\n",
    "display(events_exp)"
   ]
  },
  {
   "cell_type": "code",
   "execution_count": 23,
   "metadata": {},
   "outputs": [
    {
     "data": {
      "image/png": "[encoded data removed]"
     },
     "metadata": {},
     "output_type": "display_data"
    }
   ],
   "source": [
    "fig = go.Figure()\n",
    "\n",
    "fig.add_trace(go.Funnel(\n",
    "    name = 'A1',\n",
    "    y = events_exp['event_name'],\n",
    "    x = events_exp['A1'],\n",
    "    textposition = \"inside\", textinfo = \"value+percent previous\",\n",
    "                         hoverinfo = \"percent previous+percent initial\"))\n",
    "\n",
    "fig.add_trace(go.Funnel(\n",
    "    name = 'A2',\n",
    "    y = events_exp['event_name'],\n",
    "    x = events_exp['A2'],\n",
    "    textposition = \"inside\", textinfo = \"value+percent previous\",\n",
    "                         hoverinfo = \"percent previous+percent initial\"))\n",
    "\n",
    "fig.add_trace(go.Funnel(\n",
    "    name = 'B',\n",
    "    y = events_exp['event_name'],\n",
    "    x = events_exp['B'],\n",
    "    textposition = \"inside\", textinfo = \"value+percent previous\",\n",
    "                         hoverinfo = \"percent previous+percent initial\"))\n",
    "\n",
    "fig.update_layout(title_text='Событийная воронка по группам', title_font_size=20)\n",
    "fig.show(width=1000, height=500, renderer='png')"
   ]
  },
  {
   "cell_type": "markdown",
   "metadata": {},
   "source": [
    "Различия между тремя группами эксперимента по показателям конверсии каждого этапа не превышают 1-2 процентных пункта. Это справедливо как для конверсии между стадиями воронки, так и отношения каждой стадии к общему числу уникальных пользователей.\n",
    "При этом по метрикам конверсии в просмотр товара и перехода в корзину вторая контрольная группа отличается от первой контрольной группы сильнее, чем от экспериментальной группы (на 2 и 1 процентных пункта соответственно). Вместе с тем, конверсия из корзины в покупку - единственная метрика, по которой экспериментальная группа опережает обе контрольные группы со значением 96% (47% от всех пользователей экспериментальной группы).\n",
    "\n",
    "Чтобы убедиться в корректности дизайна эксперимента, проверим гипотезу о равенстве долей для контрольных групп при помощи z-критерия."
   ]
  },
  {
   "cell_type": "markdown",
   "metadata": {},
   "source": [
    "### Анализ А/А-эксперимента\n",
    "\n",
    "Проверим статистическую достоверность отличий групп A1 и A2 на примере самого популярного события - посещения главной страницы при помощи z-теста для проверки равенства долей:\n",
    "* H0 - нет статистически значимых различий между конверсиями заходов на главную страницу для пользователей первой и второй контрольных групп;\n",
    "* H1 - есть статистически значимые различия между конверсиями заходов на главную страницу для пользователей первой и второй контрольных групп.\n",
    "\n",
    "Создадим функцию для проверки подобных гипотез с поправкой на множественные сравнения:"
   ]
  },
  {
   "cell_type": "code",
   "execution_count": 24,
   "metadata": {},
   "outputs": [],
   "source": [
    "def z_test (alpha, n_compared, event_name, first_group, second_group):\n",
    "    total_first_group = events_exp.loc[events_exp['event_name'] == 'Всего пользователей', first_group].values\n",
    "    total_second_group = events_exp.loc[events_exp['event_name'] == 'Всего пользователей', second_group].values\n",
    "    converted_first_group = events_exp.loc[events_exp['event_name'] == event_name, first_group].values\n",
    "    converted_second_group = events_exp.loc[events_exp['event_name'] == event_name, second_group].values\n",
    "    \n",
    "    p1 = converted_first_group/total_first_group\n",
    "    p2 = converted_second_group/total_second_group\n",
    "    p_combined = (converted_first_group + converted_second_group) / (total_first_group + total_second_group)\n",
    "    difference = p1 - p2\n",
    "    \n",
    "    z_value = difference / math.sqrt(\n",
    "        p_combined * (1 - p_combined) * (1/total_first_group + 1/total_second_group))\n",
    "    \n",
    "    distr = st.norm(0, 1)  \n",
    "    p_value = (1 - distr.cdf(abs(z_value))) * 2\n",
    "    \n",
    "    print('p-значение: ', p_value[0].round(4))\n",
    "\n",
    "    bonferroni_alpha = alpha /n_compared\n",
    "\n",
    "    if p_value < bonferroni_alpha:\n",
    "        print('Отвергаем нулевую гипотезу: между долями есть значимая разница')\n",
    "    else:\n",
    "        print('Не получилось отвергнуть нулевую гипотезу, нет оснований считать доли разными')"
   ]
  },
  {
   "cell_type": "markdown",
   "metadata": {},
   "source": [
    "Как было видно на диаграмме воронки, значения пропорций всех трех групп очень близки, поэтому минимизируем риск обнаружения ложных межгрупповых отличий и установим пороговое значение alpha, равным 0.05, то есть будем отвергать нулевую гипотезу, если вероятность обнаружить межргупповые различия при их отсутствии в генеральной совокупности меньше 5%."
   ]
  },
  {
   "cell_type": "code",
   "execution_count": 25,
   "metadata": {},
   "outputs": [
    {
     "name": "stdout",
     "output_type": "stream",
     "text": [
      "p-значение:  0.7571\n",
      "Не получилось отвергнуть нулевую гипотезу, нет оснований считать доли разными\n"
     ]
    }
   ],
   "source": [
    "z_test (0.05, 16, 'Заход на главную страницу', 'A1', 'A2')"
   ]
  },
  {
   "cell_type": "markdown",
   "metadata": {},
   "source": [
    "**Вывод.** Полученное значение p-value говорит о том, что с вероятностью 76% наблюдаемое различие мажду группами A1 и A2 можно получить случайно. Это явно слишком большая вероятность, чтобы делать вывод о значимом различии между группами, отвергаем нулевую гипотезу, значимых отличий нет.\n",
    "\n",
    "Повторим проверку гипотезы для других событий (просмотр товара, переход в корзину и покупка)."
   ]
  },
  {
   "cell_type": "code",
   "execution_count": 26,
   "metadata": {},
   "outputs": [
    {
     "name": "stdout",
     "output_type": "stream",
     "text": [
      "\u001b[1mСобытие:  Просмотр товара \u001b[0m\n",
      "p-значение:  0.2481\n",
      "Не получилось отвергнуть нулевую гипотезу, нет оснований считать доли разными\n",
      "\n",
      "\u001b[1mСобытие:  Переход в корзину \u001b[0m\n",
      "p-значение:  0.2288\n",
      "Не получилось отвергнуть нулевую гипотезу, нет оснований считать доли разными\n",
      "\n",
      "\u001b[1mСобытие:  Успешная оплата \u001b[0m\n",
      "p-значение:  0.1146\n",
      "Не получилось отвергнуть нулевую гипотезу, нет оснований считать доли разными\n",
      "\n"
     ]
    }
   ],
   "source": [
    "for i in (events_exp['event_name'][2:]):\n",
    "    print('\\033[1m'+ 'Событие: ', i, '\\033[0m')\n",
    "    z_test (0.05, 16, i, 'A1', 'A2')\n",
    "    print()"
   ]
  },
  {
   "cell_type": "markdown",
   "metadata": {},
   "source": [
    "**Вывод.** \n",
    "Для всех событий воронки гипотеза об отсутствии значимых отличий контрольных групп не была отвергнута. \n",
    "Можно утверждать, что разбиение на группы работает корректно и переходить к сравнению с экспериментальной группой."
   ]
  },
  {
   "cell_type": "markdown",
   "metadata": {},
   "source": [
    "### Анализ A/A/B эксперимента\n",
    "\n",
    "Теперь сравним метрики конверсий каждой из контрольных групп с группой с изменённым шрифтом (A1 и B; A2 и B).\n",
    "\n",
    "* H0 - нет статистически значимых различий между конверсиями [заходов на главную страницу/просмотров товаров/переходов в корзину/оплаты] для пользователей [первой/второй] контрольной и экспериметальной групп;\n",
    "* H1 - есть статистически значимые различия между конверсиями [заходов на главную страницу/просмотров товаров/переходов в корзину/оплаты] для пользователей [первой/второй] контрольной и экспериметальной групп."
   ]
  },
  {
   "cell_type": "code",
   "execution_count": 27,
   "metadata": {},
   "outputs": [
    {
     "name": "stdout",
     "output_type": "stream",
     "text": [
      "\u001b[1mСобытие:  Заход на главную страницу \u001b[0m\n",
      "p-значение:  0.295\n",
      "Не получилось отвергнуть нулевую гипотезу, нет оснований считать доли разными\n",
      "\n",
      "\u001b[1mСобытие:  Просмотр товара \u001b[0m\n",
      "p-значение:  0.2084\n",
      "Не получилось отвергнуть нулевую гипотезу, нет оснований считать доли разными\n",
      "\n",
      "\u001b[1mСобытие:  Переход в корзину \u001b[0m\n",
      "p-значение:  0.0784\n",
      "Не получилось отвергнуть нулевую гипотезу, нет оснований считать доли разными\n",
      "\n",
      "\u001b[1mСобытие:  Успешная оплата \u001b[0m\n",
      "p-значение:  0.2123\n",
      "Не получилось отвергнуть нулевую гипотезу, нет оснований считать доли разными\n",
      "\n"
     ]
    }
   ],
   "source": [
    "for i in (events_exp['event_name'][1:]):\n",
    "    print('\\033[1m'+ 'Событие: ', i, '\\033[0m')\n",
    "    z_test (0.05, 16, i, 'A1', 'B')\n",
    "    print()"
   ]
  },
  {
   "cell_type": "code",
   "execution_count": 28,
   "metadata": {},
   "outputs": [
    {
     "name": "stdout",
     "output_type": "stream",
     "text": [
      "\u001b[1mСобытие:  Заход на главную страницу \u001b[0m\n",
      "p-значение:  0.4587\n",
      "Не получилось отвергнуть нулевую гипотезу, нет оснований считать доли разными\n",
      "\n",
      "\u001b[1mСобытие:  Просмотр товара \u001b[0m\n",
      "p-значение:  0.9198\n",
      "Не получилось отвергнуть нулевую гипотезу, нет оснований считать доли разными\n",
      "\n",
      "\u001b[1mСобытие:  Переход в корзину \u001b[0m\n",
      "p-значение:  0.5786\n",
      "Не получилось отвергнуть нулевую гипотезу, нет оснований считать доли разными\n",
      "\n",
      "\u001b[1mСобытие:  Успешная оплата \u001b[0m\n",
      "p-значение:  0.7373\n",
      "Не получилось отвергнуть нулевую гипотезу, нет оснований считать доли разными\n",
      "\n"
     ]
    }
   ],
   "source": [
    "for i in (events_exp['event_name'][1:]):\n",
    "    print('\\033[1m'+ 'Событие: ', i, '\\033[0m')\n",
    "    z_test (0.05, 16, i, 'A2', 'B')\n",
    "    print()"
   ]
  },
  {
   "cell_type": "markdown",
   "metadata": {},
   "source": [
    "**Вывод.** \n",
    "Для всех событий воронки гипотеза об отсутствии значимых отличий каждой из контрольных групп и экспериментальной группы не была отвергнута."
   ]
  },
  {
   "cell_type": "markdown",
   "metadata": {},
   "source": [
    "Сравним результаты с объединённой контрольной группой."
   ]
  },
  {
   "cell_type": "code",
   "execution_count": 29,
   "metadata": {},
   "outputs": [
    {
     "name": "stdout",
     "output_type": "stream",
     "text": [
      "\u001b[1mСобытие:  Заход на главную страницу \u001b[0m\n",
      "p-значение:  0.2942\n",
      "Не получилось отвергнуть нулевую гипотезу, нет оснований считать доли разными\n",
      "\n",
      "\u001b[1mСобытие:  Просмотр товара \u001b[0m\n",
      "p-значение:  0.4343\n",
      "Не получилось отвергнуть нулевую гипотезу, нет оснований считать доли разными\n",
      "\n",
      "\u001b[1mСобытие:  Переход в корзину \u001b[0m\n",
      "p-значение:  0.1818\n",
      "Не получилось отвергнуть нулевую гипотезу, нет оснований считать доли разными\n",
      "\n",
      "\u001b[1mСобытие:  Успешная оплата \u001b[0m\n",
      "p-значение:  0.6004\n",
      "Не получилось отвергнуть нулевую гипотезу, нет оснований считать доли разными\n",
      "\n"
     ]
    }
   ],
   "source": [
    "for i in (events_exp['event_name'][1:]):\n",
    "    print('\\033[1m'+ 'Событие: ', i, '\\033[0m')\n",
    "    z_test (0.05, 16, i, 'AA', 'B')\n",
    "    print()"
   ]
  },
  {
   "cell_type": "markdown",
   "metadata": {},
   "source": [
    "Как и в случае с двумя контрольными группами, при их объединении ни одна из гипотез не была отвергнута. Значимых отличий нет. По результатм эксперимента можно сделать вывод, что изменение шрифта никак не отразилось на поведении пользователей."
   ]
  },
  {
   "cell_type": "markdown",
   "metadata": {},
   "source": [
    "### Уровень значимости\n",
    "При проверке гипотез был установлен уровень значимости, равный 0.05.\n",
    "Поскольку ни одна из 16 гипотез не была отвергнута, риск получения ложноположительного результата (ошибки первого рода) не сработал.\n",
    "\n",
    "Что касается ошибки второго рода, или риска получения ложноотрицательного результата, то для ее снижения можно установить менее строгий уровень значимости, например 0.1. В этом случае при простой поправке множественного сравнения по методу Бонферрони (при 16 проверках для 4 групп и 4 этапов воронки) значение p-value будет сравниваться с:"
   ]
  },
  {
   "cell_type": "code",
   "execution_count": 30,
   "metadata": {},
   "outputs": [
    {
     "data": {
      "text/plain": [
       "0.00625"
      ]
     },
     "execution_count": 30,
     "metadata": {},
     "output_type": "execute_result"
    }
   ],
   "source": [
    "alpha = 0.1\n",
    "bonferroni_alpha = alpha / 16\n",
    "bonferroni_alpha"
   ]
  },
  {
   "cell_type": "markdown",
   "metadata": {},
   "source": [
    "Как было показано выше, все полученные значения p-value существенно превышают 0.006. Следовательно, даже менее строгий статистический критерий не позволил бы отвергнуть ни одну из гипотез. Повторная проверка не имеет смысла."
   ]
  },
  {
   "cell_type": "markdown",
   "metadata": {},
   "source": [
    "## Общий вывод"
   ]
  },
  {
   "cell_type": "markdown",
   "metadata": {},
   "source": [
    "В рамках исследования были использованы данные, полученные в ходе A/A/B-эксперимента мобильного приложения для продажи продуктов питания, целью которого являлась оценка влияния новых шрифтов на поведение пользователей. После удаления 413 дубликатов объем анализируемых данных составил 24713 событий, совершенных 7551 уникальными пользователями. Чтобы избежать перекоса в данных, из лога были удалены \"доезжающие\" события первой недели, в результате анализируемые данные охватывают недельный период - с 1 по 7 августа 2019 года. После фильтрации лога от старых записей осталось 240887 событий по 2484 и 2513 уникальным пользователям в первой и второй контрольных группах соответственно и 2537 участникам эксперимента, или 99.8% от исходных данных.\n",
    "\n",
    "При анализие суточной активности пользователей приложения было обнаружено, что в выходные дни пиковая активность наблюдется в полдень (в районе 500 уникальных пользователей) и почти симметрично распределена относительно пиковых значений. В будни активность нарастает ко второй половине дня и принимает пиковые значения в промежутке с 14:00 до 16:00.\n",
    "\n",
    "Воронке продаж приложения соответствует цепочка событий от посещения главной страницы - через просмотр товара и переход в корзину - к покупке. 98% всех пользователей попадают на страницу главного экрана. Большая часть пользователей теряется после посещения главной страницы, не доходя до просмотра товаров и только 62% посетителей главной страницы (или 61% всех пользователей) доходит до станицы продуктов. Половина всех пользователей (или 81% от посетивших страницы продуктов) попадает в корзину, 95% из них (или 47% от всех пользователей) совершают оплату. Только 11% уникальных пользователей изучают инструкции (данный тип событий был исключен из анализа воронки, поскольку может происходить на любом этапе совершения покупки).\n",
    "\n",
    "Различия между тремя группами эксперимента по показателям конверсии каждого этапа не превышают 1-2 процентных пункта. При этом по метрикам конверсии в просмотр товара и перехода в корзину вторая контрольная группа отличается от первой контрольной группы сильнее, чем от экспериментальной группы.\n",
    "\n",
    "Проверка гипотез о равенстве долей для трех групп при помощи z-критерия дала следующие результаты:\n",
    "\n",
    "**Сравнение контрольных групп между собой:**\n",
    "\n",
    "* Посещение главной страницы. p-значение:  0.7571\n",
    "* Просмотр товара. p-значение:  0.2481\n",
    "* Переход в корзину. p-значение:  0.2288\n",
    "* Успешная оплата. p-значение:  0.1146\n",
    "\n",
    "Общий результат для всех событий воронки: Не получилось отвергнуть нулевую гипотезу, нет оснований считать доли разными. Группы A1 и A2 не имеют значимых отличий, следовательно, инструмент деления трафика работает корректно и на результаты не влияют аномалии и выбросы в генеральной совокупности.\n",
    "\n",
    "**Сравнение контрольных групп с экспериментальной:**\n",
    "\n",
    "Сравнение групп A1 и B:\n",
    "* Посещение главной страницы. p-значение:  0.295\n",
    "* Просмотр товара. p-значение:  0.2084\n",
    "* Переход в корзину. p-значение:  0.0784\n",
    "* Успешная оплата. p-значение:  0.2123\n",
    "\n",
    "Сравнение групп A2 и B:\n",
    "* Посещение главной страницы. p-значение:  0.4587\n",
    "* Просмотр товара. p-значение:  0.9198\n",
    "* Переход в корзину. p-значение:  0.5786\n",
    "* Успешная оплата. p-значение: 0.7373\n",
    "\n",
    "Сравнение групп AA и B\n",
    "* Посещение главной страницы. p-значение:  0.2942\n",
    "* Просмотр товара. p-значение:  0.4343\n",
    "* Переход в корзину. p-значение:  0.1818\n",
    "* Успешная оплата. p-значение:  0.6004\n",
    "\n",
    "Как в случае с двумя контрольными группами, так и при их объединении для всех событий воронки гипотеза об отсутствии значимых отличий каждой из контрольных групп и экспериментальной группы не была отвергнута. Значимых отличий нет. \n",
    "\n",
    "Если для снижения ошибки второго рода установить менее строгий уровень значимости, например 0.1, то при поправке множественного сравнения по методу Бонферрони ни одна из гипотез также не будет отвергнута.\n",
    "\n",
    "Таким образом, по результатам эксперимента можно сделать вывод, что изменение шрифта никак не отражается на поведении пользователей."
   ]
  }
 ],
 "metadata": {
  "ExecuteTimeLog": [
   {
    "duration": 1636,
    "start_time": "2021-09-13T12:21:22.640Z"
   },
   {
    "duration": 430,
    "start_time": "2021-09-13T12:21:24.277Z"
   },
   {
    "duration": 192,
    "start_time": "2021-09-13T12:22:52.221Z"
   },
   {
    "duration": 4,
    "start_time": "2021-09-13T12:52:31.601Z"
   },
   {
    "duration": 5,
    "start_time": "2021-09-13T12:52:42.776Z"
   },
   {
    "duration": 391,
    "start_time": "2021-09-13T13:09:56.618Z"
   },
   {
    "duration": 181,
    "start_time": "2021-09-13T13:10:01.916Z"
   },
   {
    "duration": 5,
    "start_time": "2021-09-13T13:10:06.729Z"
   },
   {
    "duration": 64,
    "start_time": "2021-09-13T13:10:18.867Z"
   },
   {
    "duration": 334,
    "start_time": "2021-09-13T13:10:23.592Z"
   },
   {
    "duration": 9,
    "start_time": "2021-09-13T13:10:50.242Z"
   },
   {
    "duration": 15,
    "start_time": "2021-09-13T13:11:35.723Z"
   },
   {
    "duration": 307,
    "start_time": "2021-09-13T13:11:58.359Z"
   },
   {
    "duration": 71,
    "start_time": "2021-09-13T13:12:13.716Z"
   },
   {
    "duration": 105,
    "start_time": "2021-09-13T13:13:06.608Z"
   },
   {
    "duration": 66,
    "start_time": "2021-09-13T13:13:14.599Z"
   },
   {
    "duration": 14,
    "start_time": "2021-09-13T14:47:03.420Z"
   },
   {
    "duration": 6,
    "start_time": "2021-09-13T14:49:55.018Z"
   },
   {
    "duration": 85,
    "start_time": "2021-09-13T14:50:16.591Z"
   },
   {
    "duration": 6,
    "start_time": "2021-09-13T14:50:30.863Z"
   },
   {
    "duration": 8,
    "start_time": "2021-09-13T14:58:45.571Z"
   },
   {
    "duration": 5,
    "start_time": "2021-09-13T14:59:06.306Z"
   },
   {
    "duration": 270,
    "start_time": "2021-09-13T14:59:25.108Z"
   },
   {
    "duration": 272,
    "start_time": "2021-09-13T14:59:56.421Z"
   },
   {
    "duration": 7,
    "start_time": "2021-09-13T15:01:40.717Z"
   },
   {
    "duration": 5,
    "start_time": "2021-09-13T15:02:23.099Z"
   },
   {
    "duration": 6,
    "start_time": "2021-09-13T15:02:27.535Z"
   },
   {
    "duration": 6,
    "start_time": "2021-09-13T15:03:10.570Z"
   },
   {
    "duration": 7,
    "start_time": "2021-09-13T15:03:55.001Z"
   },
   {
    "duration": 7,
    "start_time": "2021-09-13T15:04:09.700Z"
   },
   {
    "duration": 1801,
    "start_time": "2021-09-15T04:17:13.152Z"
   },
   {
    "duration": 199,
    "start_time": "2021-09-15T04:17:14.955Z"
   },
   {
    "duration": 4,
    "start_time": "2021-09-15T04:17:15.160Z"
   },
   {
    "duration": 88,
    "start_time": "2021-09-15T04:17:15.166Z"
   },
   {
    "duration": 9,
    "start_time": "2021-09-15T04:17:15.255Z"
   },
   {
    "duration": 28,
    "start_time": "2021-09-15T04:17:15.266Z"
   },
   {
    "duration": 6,
    "start_time": "2021-09-15T04:17:15.296Z"
   },
   {
    "duration": 5,
    "start_time": "2021-09-15T04:17:15.304Z"
   },
   {
    "duration": 98,
    "start_time": "2021-09-15T04:17:15.311Z"
   },
   {
    "duration": 374,
    "start_time": "2021-09-15T04:32:52.614Z"
   },
   {
    "duration": 1077,
    "start_time": "2021-09-15T04:33:02.679Z"
   },
   {
    "duration": 27,
    "start_time": "2021-09-15T04:33:40.271Z"
   },
   {
    "duration": 261,
    "start_time": "2021-09-15T04:33:50.396Z"
   },
   {
    "duration": 1552,
    "start_time": "2021-09-15T04:34:20.568Z"
   },
   {
    "duration": 192,
    "start_time": "2021-09-15T04:34:22.122Z"
   },
   {
    "duration": 4,
    "start_time": "2021-09-15T04:34:22.320Z"
   },
   {
    "duration": 77,
    "start_time": "2021-09-15T04:34:22.326Z"
   },
   {
    "duration": 8,
    "start_time": "2021-09-15T04:34:22.404Z"
   },
   {
    "duration": 15,
    "start_time": "2021-09-15T04:34:22.413Z"
   },
   {
    "duration": 5884,
    "start_time": "2021-09-15T04:34:22.430Z"
   },
   {
    "duration": -61,
    "start_time": "2021-09-15T04:34:28.377Z"
   },
   {
    "duration": -61,
    "start_time": "2021-09-15T04:34:28.378Z"
   },
   {
    "duration": -63,
    "start_time": "2021-09-15T04:34:28.380Z"
   },
   {
    "duration": -63,
    "start_time": "2021-09-15T04:34:28.381Z"
   },
   {
    "duration": 7,
    "start_time": "2021-09-15T04:34:50.967Z"
   },
   {
    "duration": 6,
    "start_time": "2021-09-15T04:34:58.027Z"
   },
   {
    "duration": 30,
    "start_time": "2021-09-15T04:35:01.711Z"
   },
   {
    "duration": 58,
    "start_time": "2021-09-15T04:35:06.703Z"
   },
   {
    "duration": 9294,
    "start_time": "2021-09-15T04:35:42.439Z"
   },
   {
    "duration": 40,
    "start_time": "2021-09-15T04:36:12.701Z"
   },
   {
    "duration": 620,
    "start_time": "2021-09-15T04:36:16.150Z"
   },
   {
    "duration": 138,
    "start_time": "2021-09-15T04:37:27.475Z"
   },
   {
    "duration": 118,
    "start_time": "2021-09-15T04:37:51.110Z"
   },
   {
    "duration": 123,
    "start_time": "2021-09-15T04:42:39.311Z"
   },
   {
    "duration": 1157,
    "start_time": "2021-09-15T04:51:28.330Z"
   },
   {
    "duration": 6979,
    "start_time": "2021-09-15T04:52:06.832Z"
   },
   {
    "duration": 7009,
    "start_time": "2021-09-15T04:52:20.688Z"
   },
   {
    "duration": 117,
    "start_time": "2021-09-15T04:54:20.547Z"
   },
   {
    "duration": 121,
    "start_time": "2021-09-15T04:54:36.055Z"
   },
   {
    "duration": 7114,
    "start_time": "2021-09-15T04:56:12.194Z"
   },
   {
    "duration": 7064,
    "start_time": "2021-09-15T04:58:41.222Z"
   },
   {
    "duration": 6892,
    "start_time": "2021-09-15T04:59:14.000Z"
   },
   {
    "duration": 3320,
    "start_time": "2021-09-15T05:00:00.575Z"
   },
   {
    "duration": 7035,
    "start_time": "2021-09-15T05:00:43.128Z"
   },
   {
    "duration": 263,
    "start_time": "2021-09-15T05:01:18.147Z"
   },
   {
    "duration": 7147,
    "start_time": "2021-09-15T05:01:26.350Z"
   },
   {
    "duration": 127,
    "start_time": "2021-09-15T05:02:05.691Z"
   },
   {
    "duration": 90,
    "start_time": "2021-09-15T05:09:33.987Z"
   },
   {
    "duration": 12,
    "start_time": "2021-09-15T05:15:51.101Z"
   },
   {
    "duration": 33,
    "start_time": "2021-09-15T05:16:27.056Z"
   },
   {
    "duration": 6,
    "start_time": "2021-09-15T05:17:53.413Z"
   },
   {
    "duration": 8,
    "start_time": "2021-09-15T05:18:29.743Z"
   },
   {
    "duration": 8,
    "start_time": "2021-09-15T05:18:50.838Z"
   },
   {
    "duration": 7,
    "start_time": "2021-09-15T05:21:41.613Z"
   },
   {
    "duration": 7,
    "start_time": "2021-09-15T05:21:55.430Z"
   },
   {
    "duration": 38,
    "start_time": "2021-09-15T05:28:15.912Z"
   },
   {
    "duration": 56,
    "start_time": "2021-09-15T05:32:18.755Z"
   },
   {
    "duration": 203,
    "start_time": "2021-09-15T05:34:19.250Z"
   },
   {
    "duration": 163,
    "start_time": "2021-09-15T05:34:57.055Z"
   },
   {
    "duration": 161,
    "start_time": "2021-09-15T05:36:08.247Z"
   },
   {
    "duration": 406,
    "start_time": "2021-09-15T05:37:23.841Z"
   },
   {
    "duration": 410,
    "start_time": "2021-09-15T05:37:46.730Z"
   },
   {
    "duration": 287,
    "start_time": "2021-09-15T05:39:12.477Z"
   },
   {
    "duration": 48,
    "start_time": "2021-09-15T05:39:31.351Z"
   },
   {
    "duration": 50,
    "start_time": "2021-09-15T05:39:50.544Z"
   },
   {
    "duration": 46,
    "start_time": "2021-09-15T05:40:34.620Z"
   },
   {
    "duration": 49,
    "start_time": "2021-09-15T05:41:14.607Z"
   },
   {
    "duration": 50,
    "start_time": "2021-09-15T05:43:45.382Z"
   },
   {
    "duration": 54,
    "start_time": "2021-09-15T05:45:24.356Z"
   },
   {
    "duration": 49,
    "start_time": "2021-09-15T05:46:14.896Z"
   },
   {
    "duration": 10,
    "start_time": "2021-09-15T05:46:20.783Z"
   },
   {
    "duration": 335,
    "start_time": "2021-09-15T05:48:37.074Z"
   },
   {
    "duration": 121,
    "start_time": "2021-09-15T05:50:30.123Z"
   },
   {
    "duration": 112,
    "start_time": "2021-09-15T05:51:08.386Z"
   },
   {
    "duration": 353,
    "start_time": "2021-09-15T05:52:39.353Z"
   },
   {
    "duration": 310,
    "start_time": "2021-09-15T05:53:21.006Z"
   },
   {
    "duration": 54,
    "start_time": "2021-09-15T05:59:50.577Z"
   },
   {
    "duration": 55,
    "start_time": "2021-09-15T06:00:35.597Z"
   },
   {
    "duration": 55,
    "start_time": "2021-09-15T06:00:47.161Z"
   },
   {
    "duration": 52,
    "start_time": "2021-09-15T06:02:57.666Z"
   },
   {
    "duration": 52,
    "start_time": "2021-09-15T06:03:54.134Z"
   },
   {
    "duration": 53,
    "start_time": "2021-09-15T06:04:28.467Z"
   },
   {
    "duration": 53,
    "start_time": "2021-09-15T06:06:26.703Z"
   },
   {
    "duration": 53,
    "start_time": "2021-09-15T06:06:43.289Z"
   },
   {
    "duration": 111,
    "start_time": "2021-09-15T06:06:47.522Z"
   },
   {
    "duration": 33,
    "start_time": "2021-09-15T06:12:42.084Z"
   },
   {
    "duration": 1579,
    "start_time": "2021-09-15T16:57:27.750Z"
   },
   {
    "duration": 251,
    "start_time": "2021-09-15T16:57:29.331Z"
   },
   {
    "duration": 4,
    "start_time": "2021-09-15T16:57:29.584Z"
   },
   {
    "duration": 82,
    "start_time": "2021-09-15T16:57:29.590Z"
   },
   {
    "duration": 7,
    "start_time": "2021-09-15T16:57:29.674Z"
   },
   {
    "duration": 17,
    "start_time": "2021-09-15T16:57:29.683Z"
   },
   {
    "duration": 5,
    "start_time": "2021-09-15T16:57:29.702Z"
   },
   {
    "duration": 4,
    "start_time": "2021-09-15T16:57:29.710Z"
   },
   {
    "duration": 52,
    "start_time": "2021-09-15T16:57:29.716Z"
   },
   {
    "duration": 65,
    "start_time": "2021-09-15T16:57:29.769Z"
   },
   {
    "duration": 8384,
    "start_time": "2021-09-15T16:57:29.835Z"
   },
   {
    "duration": 257,
    "start_time": "2021-09-15T16:57:38.221Z"
   },
   {
    "duration": 85,
    "start_time": "2021-09-15T16:57:38.480Z"
   },
   {
    "duration": 8,
    "start_time": "2021-09-15T16:57:38.567Z"
   },
   {
    "duration": 93,
    "start_time": "2021-09-15T16:57:38.577Z"
   },
   {
    "duration": 105,
    "start_time": "2021-09-15T16:57:38.672Z"
   },
   {
    "duration": 283,
    "start_time": "2021-09-15T16:57:38.779Z"
   },
   {
    "duration": 92,
    "start_time": "2021-09-15T16:57:39.063Z"
   },
   {
    "duration": 108,
    "start_time": "2021-09-15T17:05:21.329Z"
   },
   {
    "duration": 3588,
    "start_time": "2021-09-15T17:05:56.521Z"
   },
   {
    "duration": 3359,
    "start_time": "2021-09-15T17:06:16.647Z"
   },
   {
    "duration": 122,
    "start_time": "2021-09-15T17:07:37.853Z"
   },
   {
    "duration": 127,
    "start_time": "2021-09-15T17:09:09.138Z"
   },
   {
    "duration": 195,
    "start_time": "2021-09-15T17:09:41.660Z"
   },
   {
    "duration": 133,
    "start_time": "2021-09-15T17:10:04.294Z"
   },
   {
    "duration": 132,
    "start_time": "2021-09-15T17:10:24.635Z"
   },
   {
    "duration": 339,
    "start_time": "2021-09-15T17:10:38.834Z"
   },
   {
    "duration": 6924,
    "start_time": "2021-09-15T17:11:01.035Z"
   },
   {
    "duration": 648,
    "start_time": "2021-09-15T17:16:58.753Z"
   },
   {
    "duration": 668,
    "start_time": "2021-09-15T17:17:23.142Z"
   },
   {
    "duration": 4117,
    "start_time": "2021-09-15T17:18:21.781Z"
   },
   {
    "duration": 35,
    "start_time": "2021-09-15T19:16:20.145Z"
   },
   {
    "duration": 37,
    "start_time": "2021-09-15T19:16:30.613Z"
   },
   {
    "duration": 1217,
    "start_time": "2021-09-15T19:17:12.640Z"
   },
   {
    "duration": 33,
    "start_time": "2021-09-15T19:17:28.863Z"
   },
   {
    "duration": 292,
    "start_time": "2021-09-15T19:18:05.988Z"
   },
   {
    "duration": 55,
    "start_time": "2021-09-15T19:18:14.760Z"
   },
   {
    "duration": 60,
    "start_time": "2021-09-15T19:18:23.550Z"
   },
   {
    "duration": 1486,
    "start_time": "2021-09-15T19:21:03.530Z"
   },
   {
    "duration": 201,
    "start_time": "2021-09-15T19:21:29.504Z"
   },
   {
    "duration": 198,
    "start_time": "2021-09-15T19:22:07.809Z"
   },
   {
    "duration": 1667,
    "start_time": "2021-09-15T19:23:04.654Z"
   },
   {
    "duration": 193,
    "start_time": "2021-09-15T19:23:12.805Z"
   },
   {
    "duration": 202,
    "start_time": "2021-09-15T19:26:03.804Z"
   },
   {
    "duration": 197,
    "start_time": "2021-09-15T19:27:44.137Z"
   },
   {
    "duration": 199,
    "start_time": "2021-09-15T19:28:07.211Z"
   },
   {
    "duration": 200,
    "start_time": "2021-09-15T19:29:25.733Z"
   },
   {
    "duration": 1328,
    "start_time": "2021-09-15T19:30:05.719Z"
   },
   {
    "duration": 198,
    "start_time": "2021-09-15T19:31:10.290Z"
   },
   {
    "duration": 519,
    "start_time": "2021-09-15T19:31:36.152Z"
   },
   {
    "duration": 559,
    "start_time": "2021-09-15T19:31:52.068Z"
   },
   {
    "duration": 6,
    "start_time": "2021-09-15T19:39:48.859Z"
   },
   {
    "duration": 10,
    "start_time": "2021-09-15T19:40:24.050Z"
   },
   {
    "duration": 198,
    "start_time": "2021-09-15T19:41:25.396Z"
   },
   {
    "duration": 3,
    "start_time": "2021-09-15T19:45:57.201Z"
   },
   {
    "duration": 6,
    "start_time": "2021-09-15T19:46:03.227Z"
   },
   {
    "duration": 359,
    "start_time": "2021-09-15T19:47:32.646Z"
   },
   {
    "duration": 205,
    "start_time": "2021-09-15T19:48:07.147Z"
   },
   {
    "duration": 501,
    "start_time": "2021-09-15T19:52:36.579Z"
   },
   {
    "duration": 555,
    "start_time": "2021-09-15T19:52:51.740Z"
   },
   {
    "duration": 203,
    "start_time": "2021-09-15T19:53:12.171Z"
   },
   {
    "duration": 202,
    "start_time": "2021-09-15T19:53:21.568Z"
   },
   {
    "duration": 194,
    "start_time": "2021-09-15T19:55:27.761Z"
   },
   {
    "duration": 201,
    "start_time": "2021-09-15T19:56:38.987Z"
   },
   {
    "duration": 33,
    "start_time": "2021-09-15T19:57:24.749Z"
   },
   {
    "duration": 11378,
    "start_time": "2021-09-15T19:57:40.865Z"
   },
   {
    "duration": 8650,
    "start_time": "2021-09-15T19:59:24.419Z"
   },
   {
    "duration": 33,
    "start_time": "2021-09-15T19:59:35.405Z"
   },
   {
    "duration": 33,
    "start_time": "2021-09-15T19:59:42.652Z"
   },
   {
    "duration": 206,
    "start_time": "2021-09-15T19:59:47.164Z"
   },
   {
    "duration": 70,
    "start_time": "2021-09-15T20:03:38.844Z"
   },
   {
    "duration": 76,
    "start_time": "2021-09-15T20:04:12.371Z"
   },
   {
    "duration": 71,
    "start_time": "2021-09-15T20:04:33.418Z"
   },
   {
    "duration": 6557,
    "start_time": "2021-09-15T20:05:12.478Z"
   },
   {
    "duration": 207,
    "start_time": "2021-09-15T20:05:32.156Z"
   },
   {
    "duration": 195,
    "start_time": "2021-09-15T20:06:03.411Z"
   },
   {
    "duration": 65,
    "start_time": "2021-09-15T20:07:55.923Z"
   },
   {
    "duration": 194,
    "start_time": "2021-09-15T20:08:23.138Z"
   },
   {
    "duration": 602,
    "start_time": "2021-09-15T20:10:58.139Z"
   },
   {
    "duration": 205,
    "start_time": "2021-09-15T20:11:11.267Z"
   },
   {
    "duration": 210,
    "start_time": "2021-09-15T20:11:31.963Z"
   },
   {
    "duration": 198,
    "start_time": "2021-09-15T20:12:33.758Z"
   },
   {
    "duration": 203,
    "start_time": "2021-09-15T20:12:52.988Z"
   },
   {
    "duration": 200,
    "start_time": "2021-09-15T20:18:27.264Z"
   },
   {
    "duration": 4,
    "start_time": "2021-09-15T20:19:08.915Z"
   },
   {
    "duration": 492,
    "start_time": "2021-09-15T20:19:39.137Z"
   },
   {
    "duration": 482,
    "start_time": "2021-09-15T20:20:01.643Z"
   },
   {
    "duration": 197,
    "start_time": "2021-09-15T20:20:21.593Z"
   },
   {
    "duration": 738,
    "start_time": "2021-09-15T20:21:18.894Z"
   },
   {
    "duration": 200,
    "start_time": "2021-09-15T20:21:57.568Z"
   },
   {
    "duration": 193,
    "start_time": "2021-09-15T20:22:06.929Z"
   },
   {
    "duration": 205,
    "start_time": "2021-09-15T20:22:25.532Z"
   },
   {
    "duration": 196,
    "start_time": "2021-09-15T20:22:40.891Z"
   },
   {
    "duration": 196,
    "start_time": "2021-09-15T20:22:48.997Z"
   },
   {
    "duration": 486,
    "start_time": "2021-09-15T20:22:55.650Z"
   },
   {
    "duration": 200,
    "start_time": "2021-09-15T20:23:16.327Z"
   },
   {
    "duration": 195,
    "start_time": "2021-09-15T20:24:59.158Z"
   },
   {
    "duration": 197,
    "start_time": "2021-09-15T20:25:35.818Z"
   },
   {
    "duration": 289,
    "start_time": "2021-09-15T20:25:48.905Z"
   },
   {
    "duration": 5,
    "start_time": "2021-09-15T20:26:09.052Z"
   },
   {
    "duration": 195,
    "start_time": "2021-09-15T20:26:20.746Z"
   },
   {
    "duration": 205,
    "start_time": "2021-09-15T20:27:05.720Z"
   },
   {
    "duration": 204,
    "start_time": "2021-09-15T20:29:25.017Z"
   },
   {
    "duration": 206,
    "start_time": "2021-09-15T20:29:41.412Z"
   },
   {
    "duration": 209,
    "start_time": "2021-09-15T20:30:03.695Z"
   },
   {
    "duration": 209,
    "start_time": "2021-09-15T20:35:17.812Z"
   },
   {
    "duration": 506,
    "start_time": "2021-09-15T20:37:30.187Z"
   },
   {
    "duration": 218,
    "start_time": "2021-09-15T20:39:14.042Z"
   },
   {
    "duration": 211,
    "start_time": "2021-09-15T20:40:13.624Z"
   },
   {
    "duration": 905,
    "start_time": "2021-09-15T20:40:35.151Z"
   },
   {
    "duration": 222,
    "start_time": "2021-09-15T20:40:44.329Z"
   },
   {
    "duration": 212,
    "start_time": "2021-09-15T20:41:01.807Z"
   },
   {
    "duration": 211,
    "start_time": "2021-09-15T20:41:51.239Z"
   },
   {
    "duration": 210,
    "start_time": "2021-09-15T20:42:06.217Z"
   },
   {
    "duration": 202,
    "start_time": "2021-09-15T20:42:33.564Z"
   },
   {
    "duration": 4,
    "start_time": "2021-09-15T20:43:25.851Z"
   },
   {
    "duration": 300,
    "start_time": "2021-09-15T20:43:51.707Z"
   },
   {
    "duration": 6,
    "start_time": "2021-09-15T20:44:07.780Z"
   },
   {
    "duration": 1953,
    "start_time": "2021-09-15T20:44:36.855Z"
   },
   {
    "duration": 6,
    "start_time": "2021-09-15T20:44:54.192Z"
   },
   {
    "duration": 5,
    "start_time": "2021-09-15T20:50:56.266Z"
   },
   {
    "duration": 4,
    "start_time": "2021-09-15T20:51:33.155Z"
   },
   {
    "duration": 4,
    "start_time": "2021-09-15T20:51:48.463Z"
   },
   {
    "duration": 3,
    "start_time": "2021-09-15T20:54:20.396Z"
   },
   {
    "duration": 373,
    "start_time": "2021-09-15T20:57:10.532Z"
   },
   {
    "duration": 7,
    "start_time": "2021-09-15T20:58:07.317Z"
   },
   {
    "duration": 213,
    "start_time": "2021-09-15T20:58:43.203Z"
   },
   {
    "duration": 120,
    "start_time": "2021-09-15T21:05:03.767Z"
   },
   {
    "duration": 2272,
    "start_time": "2021-09-15T21:06:29.934Z"
   },
   {
    "duration": 194,
    "start_time": "2021-09-15T21:06:32.208Z"
   },
   {
    "duration": 4,
    "start_time": "2021-09-15T21:06:32.404Z"
   },
   {
    "duration": 78,
    "start_time": "2021-09-15T21:06:32.410Z"
   },
   {
    "duration": 7,
    "start_time": "2021-09-15T21:06:32.490Z"
   },
   {
    "duration": 17,
    "start_time": "2021-09-15T21:06:32.499Z"
   },
   {
    "duration": 6,
    "start_time": "2021-09-15T21:06:32.518Z"
   },
   {
    "duration": 24,
    "start_time": "2021-09-15T21:06:32.526Z"
   },
   {
    "duration": 28,
    "start_time": "2021-09-15T21:06:32.553Z"
   },
   {
    "duration": 77,
    "start_time": "2021-09-15T21:06:32.583Z"
   },
   {
    "duration": 407,
    "start_time": "2021-09-15T21:06:32.662Z"
   },
   {
    "duration": -38,
    "start_time": "2021-09-15T21:06:33.109Z"
   },
   {
    "duration": -39,
    "start_time": "2021-09-15T21:06:33.111Z"
   },
   {
    "duration": -40,
    "start_time": "2021-09-15T21:06:33.113Z"
   },
   {
    "duration": -40,
    "start_time": "2021-09-15T21:06:33.114Z"
   },
   {
    "duration": -44,
    "start_time": "2021-09-15T21:06:33.119Z"
   },
   {
    "duration": -44,
    "start_time": "2021-09-15T21:06:33.120Z"
   },
   {
    "duration": -45,
    "start_time": "2021-09-15T21:06:33.122Z"
   },
   {
    "duration": -45,
    "start_time": "2021-09-15T21:06:33.123Z"
   },
   {
    "duration": -45,
    "start_time": "2021-09-15T21:06:33.124Z"
   },
   {
    "duration": -45,
    "start_time": "2021-09-15T21:06:33.125Z"
   },
   {
    "duration": -46,
    "start_time": "2021-09-15T21:06:33.127Z"
   },
   {
    "duration": -46,
    "start_time": "2021-09-15T21:06:33.128Z"
   },
   {
    "duration": -46,
    "start_time": "2021-09-15T21:06:33.129Z"
   },
   {
    "duration": 1574,
    "start_time": "2021-09-15T21:07:21.322Z"
   },
   {
    "duration": 201,
    "start_time": "2021-09-15T21:07:22.898Z"
   },
   {
    "duration": 4,
    "start_time": "2021-09-15T21:07:23.101Z"
   },
   {
    "duration": 77,
    "start_time": "2021-09-15T21:07:23.106Z"
   },
   {
    "duration": 8,
    "start_time": "2021-09-15T21:07:23.184Z"
   },
   {
    "duration": 16,
    "start_time": "2021-09-15T21:07:23.193Z"
   },
   {
    "duration": 6,
    "start_time": "2021-09-15T21:07:23.210Z"
   },
   {
    "duration": 8,
    "start_time": "2021-09-15T21:07:23.218Z"
   },
   {
    "duration": 28,
    "start_time": "2021-09-15T21:07:23.249Z"
   },
   {
    "duration": 71,
    "start_time": "2021-09-15T21:07:23.279Z"
   },
   {
    "duration": 645,
    "start_time": "2021-09-15T21:07:23.352Z"
   },
   {
    "duration": 73,
    "start_time": "2021-09-15T21:07:23.999Z"
   },
   {
    "duration": 9,
    "start_time": "2021-09-15T21:07:24.074Z"
   },
   {
    "duration": 104,
    "start_time": "2021-09-15T21:07:24.085Z"
   },
   {
    "duration": 99,
    "start_time": "2021-09-15T21:07:24.191Z"
   },
   {
    "duration": 127,
    "start_time": "2021-09-15T21:07:24.291Z"
   },
   {
    "duration": 81,
    "start_time": "2021-09-15T21:07:24.420Z"
   },
   {
    "duration": 454,
    "start_time": "2021-09-15T21:07:24.503Z"
   },
   {
    "duration": -1895,
    "start_time": "2021-09-15T21:07:26.854Z"
   },
   {
    "duration": -1895,
    "start_time": "2021-09-15T21:07:26.855Z"
   },
   {
    "duration": -1895,
    "start_time": "2021-09-15T21:07:26.856Z"
   },
   {
    "duration": -1894,
    "start_time": "2021-09-15T21:07:26.856Z"
   },
   {
    "duration": -1895,
    "start_time": "2021-09-15T21:07:26.857Z"
   },
   {
    "duration": 212,
    "start_time": "2021-09-15T21:07:43.464Z"
   },
   {
    "duration": 127,
    "start_time": "2021-09-15T21:07:47.017Z"
   },
   {
    "duration": 213,
    "start_time": "2021-09-15T21:08:23.577Z"
   },
   {
    "duration": 1640,
    "start_time": "2021-09-15T21:08:39.924Z"
   },
   {
    "duration": 194,
    "start_time": "2021-09-15T21:08:41.566Z"
   },
   {
    "duration": 5,
    "start_time": "2021-09-15T21:08:41.762Z"
   },
   {
    "duration": 68,
    "start_time": "2021-09-15T21:08:41.769Z"
   },
   {
    "duration": 17,
    "start_time": "2021-09-15T21:08:41.839Z"
   },
   {
    "duration": 15,
    "start_time": "2021-09-15T21:08:41.858Z"
   },
   {
    "duration": 6,
    "start_time": "2021-09-15T21:08:41.874Z"
   },
   {
    "duration": 4,
    "start_time": "2021-09-15T21:08:41.883Z"
   },
   {
    "duration": 26,
    "start_time": "2021-09-15T21:08:41.889Z"
   },
   {
    "duration": 59,
    "start_time": "2021-09-15T21:08:41.949Z"
   },
   {
    "duration": 655,
    "start_time": "2021-09-15T21:08:42.010Z"
   },
   {
    "duration": 88,
    "start_time": "2021-09-15T21:08:42.666Z"
   },
   {
    "duration": 8,
    "start_time": "2021-09-15T21:08:42.756Z"
   },
   {
    "duration": 102,
    "start_time": "2021-09-15T21:08:42.766Z"
   },
   {
    "duration": 81,
    "start_time": "2021-09-15T21:08:42.869Z"
   },
   {
    "duration": 138,
    "start_time": "2021-09-15T21:08:42.952Z"
   },
   {
    "duration": 170,
    "start_time": "2021-09-15T21:08:43.092Z"
   },
   {
    "duration": 333,
    "start_time": "2021-09-15T21:08:43.264Z"
   },
   {
    "duration": 126,
    "start_time": "2021-09-15T21:08:43.598Z"
   },
   {
    "duration": 3,
    "start_time": "2021-09-15T21:08:43.726Z"
   },
   {
    "duration": 20,
    "start_time": "2021-09-15T21:08:43.730Z"
   },
   {
    "duration": 4,
    "start_time": "2021-09-15T21:09:13.441Z"
   },
   {
    "duration": 6,
    "start_time": "2021-09-15T21:09:16.424Z"
   },
   {
    "duration": 527,
    "start_time": "2021-09-15T21:10:50.666Z"
   },
   {
    "duration": 6,
    "start_time": "2021-09-15T21:11:43.859Z"
   },
   {
    "duration": 341,
    "start_time": "2021-09-15T21:19:43.990Z"
   },
   {
    "duration": 10078,
    "start_time": "2021-09-15T21:19:59.044Z"
   },
   {
    "duration": 6,
    "start_time": "2021-09-15T21:22:36.652Z"
   },
   {
    "duration": 1060,
    "start_time": "2021-09-15T21:23:44.195Z"
   },
   {
    "duration": 469,
    "start_time": "2021-09-15T21:23:53.934Z"
   },
   {
    "duration": 7,
    "start_time": "2021-09-15T21:24:39.761Z"
   },
   {
    "duration": 349,
    "start_time": "2021-09-15T21:26:10.966Z"
   },
   {
    "duration": 446,
    "start_time": "2021-09-15T21:27:05.835Z"
   },
   {
    "duration": 7,
    "start_time": "2021-09-15T21:27:14.173Z"
   },
   {
    "duration": 382,
    "start_time": "2021-09-15T21:27:46.524Z"
   },
   {
    "duration": 982,
    "start_time": "2021-09-15T21:29:16.825Z"
   },
   {
    "duration": 304,
    "start_time": "2021-09-15T21:30:18.855Z"
   },
   {
    "duration": 1992,
    "start_time": "2021-09-15T21:30:43.261Z"
   },
   {
    "duration": 2430,
    "start_time": "2021-09-15T21:31:29.160Z"
   },
   {
    "duration": 6,
    "start_time": "2021-09-15T21:34:17.602Z"
   },
   {
    "duration": 4964,
    "start_time": "2021-09-15T21:34:36.937Z"
   },
   {
    "duration": 5,
    "start_time": "2021-09-15T21:35:45.781Z"
   },
   {
    "duration": 6,
    "start_time": "2021-09-15T21:36:46.834Z"
   },
   {
    "duration": 5486,
    "start_time": "2021-09-15T21:36:58.160Z"
   },
   {
    "duration": 8,
    "start_time": "2021-09-15T21:37:14.109Z"
   },
   {
    "duration": 6,
    "start_time": "2021-09-15T21:37:26.198Z"
   },
   {
    "duration": 6,
    "start_time": "2021-09-15T21:37:33.312Z"
   },
   {
    "duration": 11,
    "start_time": "2021-09-15T21:37:55.432Z"
   },
   {
    "duration": 6,
    "start_time": "2021-09-15T21:38:05.829Z"
   },
   {
    "duration": 2105,
    "start_time": "2021-09-16T07:11:26.483Z"
   },
   {
    "duration": 198,
    "start_time": "2021-09-16T07:11:28.590Z"
   },
   {
    "duration": 5,
    "start_time": "2021-09-16T07:11:28.790Z"
   },
   {
    "duration": 79,
    "start_time": "2021-09-16T07:11:28.797Z"
   },
   {
    "duration": 10,
    "start_time": "2021-09-16T07:11:28.878Z"
   },
   {
    "duration": 20,
    "start_time": "2021-09-16T07:11:28.890Z"
   },
   {
    "duration": 7,
    "start_time": "2021-09-16T07:11:28.912Z"
   },
   {
    "duration": 17,
    "start_time": "2021-09-16T07:11:28.923Z"
   },
   {
    "duration": 47,
    "start_time": "2021-09-16T07:11:28.942Z"
   },
   {
    "duration": 59,
    "start_time": "2021-09-16T07:11:28.990Z"
   },
   {
    "duration": 856,
    "start_time": "2021-09-16T07:11:29.051Z"
   },
   {
    "duration": 80,
    "start_time": "2021-09-16T07:11:29.910Z"
   },
   {
    "duration": 11,
    "start_time": "2021-09-16T07:11:29.991Z"
   },
   {
    "duration": 117,
    "start_time": "2021-09-16T07:11:30.005Z"
   },
   {
    "duration": 105,
    "start_time": "2021-09-16T07:11:30.124Z"
   },
   {
    "duration": 152,
    "start_time": "2021-09-16T07:11:30.230Z"
   },
   {
    "duration": 67,
    "start_time": "2021-09-16T07:11:30.383Z"
   },
   {
    "duration": 232,
    "start_time": "2021-09-16T07:11:30.451Z"
   },
   {
    "duration": 137,
    "start_time": "2021-09-16T07:11:30.685Z"
   },
   {
    "duration": 7,
    "start_time": "2021-09-16T07:11:30.823Z"
   },
   {
    "duration": 32,
    "start_time": "2021-09-16T07:11:30.832Z"
   },
   {
    "duration": 204,
    "start_time": "2021-09-16T07:11:30.866Z"
   },
   {
    "duration": 15,
    "start_time": "2021-09-16T07:11:31.057Z"
   },
   {
    "duration": 7,
    "start_time": "2021-09-16T07:12:14.233Z"
   },
   {
    "duration": 8,
    "start_time": "2021-09-16T07:12:38.214Z"
   },
   {
    "duration": 5,
    "start_time": "2021-09-16T07:12:51.352Z"
   },
   {
    "duration": 7,
    "start_time": "2021-09-16T07:13:00.616Z"
   },
   {
    "duration": 7,
    "start_time": "2021-09-16T07:13:18.022Z"
   },
   {
    "duration": 564,
    "start_time": "2021-09-16T07:13:27.275Z"
   },
   {
    "duration": 7,
    "start_time": "2021-09-16T07:13:35.166Z"
   },
   {
    "duration": 11,
    "start_time": "2021-09-16T07:14:06.109Z"
   },
   {
    "duration": 11,
    "start_time": "2021-09-16T07:14:53.054Z"
   },
   {
    "duration": 352,
    "start_time": "2021-09-16T07:15:33.008Z"
   },
   {
    "duration": 8,
    "start_time": "2021-09-16T07:16:12.549Z"
   },
   {
    "duration": 11,
    "start_time": "2021-09-16T07:27:52.354Z"
   },
   {
    "duration": 5,
    "start_time": "2021-09-16T07:31:58.182Z"
   },
   {
    "duration": 7,
    "start_time": "2021-09-16T07:32:02.098Z"
   },
   {
    "duration": 5,
    "start_time": "2021-09-16T07:32:12.729Z"
   },
   {
    "duration": 8,
    "start_time": "2021-09-16T07:32:16.320Z"
   },
   {
    "duration": 6,
    "start_time": "2021-09-16T07:33:46.999Z"
   },
   {
    "duration": 8,
    "start_time": "2021-09-16T07:33:50.484Z"
   },
   {
    "duration": 5,
    "start_time": "2021-09-16T07:34:25.511Z"
   },
   {
    "duration": 7,
    "start_time": "2021-09-16T07:34:29.018Z"
   },
   {
    "duration": 6,
    "start_time": "2021-09-16T07:35:42.187Z"
   },
   {
    "duration": 8,
    "start_time": "2021-09-16T07:35:44.581Z"
   },
   {
    "duration": 5,
    "start_time": "2021-09-16T07:36:37.838Z"
   },
   {
    "duration": 6,
    "start_time": "2021-09-16T07:36:43.384Z"
   },
   {
    "duration": 6,
    "start_time": "2021-09-16T07:37:25.021Z"
   },
   {
    "duration": 7,
    "start_time": "2021-09-16T07:37:27.974Z"
   },
   {
    "duration": 8,
    "start_time": "2021-09-16T07:37:44.984Z"
   },
   {
    "duration": 7,
    "start_time": "2021-09-16T07:38:13.091Z"
   },
   {
    "duration": 228,
    "start_time": "2021-09-16T07:40:00.560Z"
   },
   {
    "duration": 5,
    "start_time": "2021-09-16T07:42:05.549Z"
   },
   {
    "duration": 375,
    "start_time": "2021-09-16T07:42:26.834Z"
   },
   {
    "duration": 5,
    "start_time": "2021-09-16T07:42:43.782Z"
   },
   {
    "duration": 4,
    "start_time": "2021-09-16T07:43:39.542Z"
   },
   {
    "duration": 124,
    "start_time": "2021-09-16T07:44:51.590Z"
   },
   {
    "duration": 4,
    "start_time": "2021-09-16T07:44:59.690Z"
   },
   {
    "duration": 23,
    "start_time": "2021-09-16T07:45:44.958Z"
   },
   {
    "duration": 4,
    "start_time": "2021-09-16T07:47:29.091Z"
   },
   {
    "duration": 5,
    "start_time": "2021-09-16T07:47:39.282Z"
   },
   {
    "duration": 16,
    "start_time": "2021-09-16T07:47:58.377Z"
   },
   {
    "duration": 18,
    "start_time": "2021-09-16T07:48:35.713Z"
   },
   {
    "duration": 5,
    "start_time": "2021-09-16T07:54:21.760Z"
   },
   {
    "duration": 15,
    "start_time": "2021-09-16T07:54:28.238Z"
   },
   {
    "duration": 14,
    "start_time": "2021-09-16T07:54:44.714Z"
   },
   {
    "duration": 206,
    "start_time": "2021-09-16T08:05:28.622Z"
   },
   {
    "duration": 5,
    "start_time": "2021-09-16T08:07:29.559Z"
   },
   {
    "duration": 6,
    "start_time": "2021-09-16T08:07:46.643Z"
   },
   {
    "duration": 18,
    "start_time": "2021-09-16T08:07:54.676Z"
   },
   {
    "duration": 17,
    "start_time": "2021-09-16T08:10:19.099Z"
   },
   {
    "duration": 19,
    "start_time": "2021-09-16T08:10:44.392Z"
   },
   {
    "duration": 20,
    "start_time": "2021-09-16T08:12:03.229Z"
   },
   {
    "duration": 20,
    "start_time": "2021-09-16T08:12:15.154Z"
   },
   {
    "duration": 21,
    "start_time": "2021-09-16T08:13:08.189Z"
   },
   {
    "duration": 20,
    "start_time": "2021-09-16T08:13:27.143Z"
   },
   {
    "duration": 21,
    "start_time": "2021-09-16T08:16:38.306Z"
   },
   {
    "duration": 20,
    "start_time": "2021-09-16T08:17:06.695Z"
   },
   {
    "duration": 6,
    "start_time": "2021-09-16T08:17:34.071Z"
   },
   {
    "duration": 17,
    "start_time": "2021-09-16T08:17:37.244Z"
   },
   {
    "duration": 6,
    "start_time": "2021-09-16T08:17:56.867Z"
   },
   {
    "duration": 8,
    "start_time": "2021-09-16T08:18:01.206Z"
   },
   {
    "duration": 20,
    "start_time": "2021-09-16T08:18:09.494Z"
   },
   {
    "duration": 22,
    "start_time": "2021-09-16T08:20:06.062Z"
   },
   {
    "duration": 22,
    "start_time": "2021-09-16T08:20:59.147Z"
   },
   {
    "duration": 234,
    "start_time": "2021-09-16T08:26:01.743Z"
   },
   {
    "duration": 228,
    "start_time": "2021-09-16T08:26:30.054Z"
   },
   {
    "duration": 20,
    "start_time": "2021-09-16T08:26:58.648Z"
   },
   {
    "duration": 382,
    "start_time": "2021-09-16T08:31:03.492Z"
   },
   {
    "duration": 7,
    "start_time": "2021-09-16T08:31:12.038Z"
   },
   {
    "duration": 6,
    "start_time": "2021-09-16T08:36:55.525Z"
   },
   {
    "duration": 7,
    "start_time": "2021-09-16T08:37:01.142Z"
   },
   {
    "duration": 17,
    "start_time": "2021-09-16T08:37:08.719Z"
   },
   {
    "duration": 22,
    "start_time": "2021-09-16T08:37:14.968Z"
   },
   {
    "duration": 21,
    "start_time": "2021-09-16T08:37:27.284Z"
   },
   {
    "duration": 23,
    "start_time": "2021-09-16T08:40:01.962Z"
   },
   {
    "duration": 41,
    "start_time": "2021-09-16T08:40:42.493Z"
   },
   {
    "duration": 5,
    "start_time": "2021-09-16T09:26:02.004Z"
   },
   {
    "duration": 26,
    "start_time": "2021-09-16T09:26:20.947Z"
   },
   {
    "duration": 7545,
    "start_time": "2021-09-16T09:26:40.997Z"
   },
   {
    "duration": 164,
    "start_time": "2021-09-16T09:27:02.268Z"
   },
   {
    "duration": 121,
    "start_time": "2021-09-16T09:31:10.598Z"
   },
   {
    "duration": 376,
    "start_time": "2021-09-16T09:31:38.506Z"
   },
   {
    "duration": 11005,
    "start_time": "2021-09-16T09:32:27.608Z"
   },
   {
    "duration": 7053,
    "start_time": "2021-09-16T09:32:59.351Z"
   },
   {
    "duration": 5,
    "start_time": "2021-09-16T09:33:10.190Z"
   },
   {
    "duration": 8,
    "start_time": "2021-09-16T09:33:17.899Z"
   },
   {
    "duration": 224,
    "start_time": "2021-09-16T09:35:06.243Z"
   },
   {
    "duration": 1502,
    "start_time": "2021-09-16T09:36:35.289Z"
   },
   {
    "duration": 57,
    "start_time": "2021-09-16T09:36:54.267Z"
   },
   {
    "duration": 55,
    "start_time": "2021-09-16T09:38:01.399Z"
   },
   {
    "duration": 121,
    "start_time": "2021-09-16T09:38:11.105Z"
   },
   {
    "duration": 8,
    "start_time": "2021-09-16T09:40:05.341Z"
   },
   {
    "duration": 227,
    "start_time": "2021-09-16T09:40:21.710Z"
   },
   {
    "duration": 122,
    "start_time": "2021-09-16T09:40:26.561Z"
   },
   {
    "duration": 7,
    "start_time": "2021-09-16T09:42:04.051Z"
   },
   {
    "duration": 157,
    "start_time": "2021-09-16T09:51:38.105Z"
   },
   {
    "duration": 330,
    "start_time": "2021-09-16T09:52:37.476Z"
   },
   {
    "duration": 160,
    "start_time": "2021-09-16T09:54:44.807Z"
   },
   {
    "duration": 157,
    "start_time": "2021-09-16T09:56:22.015Z"
   },
   {
    "duration": 159,
    "start_time": "2021-09-16T09:56:43.395Z"
   },
   {
    "duration": 175,
    "start_time": "2021-09-16T09:58:07.184Z"
   },
   {
    "duration": 319,
    "start_time": "2021-09-16T09:58:17.983Z"
   },
   {
    "duration": 166,
    "start_time": "2021-09-16T09:59:35.610Z"
   },
   {
    "duration": 156,
    "start_time": "2021-09-16T09:59:48.621Z"
   },
   {
    "duration": 162,
    "start_time": "2021-09-16T10:00:46.367Z"
   },
   {
    "duration": 318,
    "start_time": "2021-09-16T10:00:53.924Z"
   },
   {
    "duration": 1863,
    "start_time": "2021-09-18T04:41:47.791Z"
   },
   {
    "duration": 283,
    "start_time": "2021-09-18T04:41:49.656Z"
   },
   {
    "duration": 5,
    "start_time": "2021-09-18T04:41:49.949Z"
   },
   {
    "duration": 66,
    "start_time": "2021-09-18T04:41:49.955Z"
   },
   {
    "duration": 8,
    "start_time": "2021-09-18T04:41:50.023Z"
   },
   {
    "duration": 29,
    "start_time": "2021-09-18T04:41:50.033Z"
   },
   {
    "duration": 7,
    "start_time": "2021-09-18T04:41:50.064Z"
   },
   {
    "duration": 6,
    "start_time": "2021-09-18T04:41:50.074Z"
   },
   {
    "duration": 27,
    "start_time": "2021-09-18T04:41:50.082Z"
   },
   {
    "duration": 7851,
    "start_time": "2021-09-18T04:41:50.111Z"
   },
   {
    "duration": 321,
    "start_time": "2021-09-18T04:41:57.964Z"
   },
   {
    "duration": 86,
    "start_time": "2021-09-18T04:41:58.286Z"
   },
   {
    "duration": 8,
    "start_time": "2021-09-18T04:41:58.374Z"
   },
   {
    "duration": 91,
    "start_time": "2021-09-18T04:41:58.384Z"
   },
   {
    "duration": 106,
    "start_time": "2021-09-18T04:41:58.476Z"
   },
   {
    "duration": 278,
    "start_time": "2021-09-18T04:41:58.584Z"
   },
   {
    "duration": 8,
    "start_time": "2021-09-18T04:41:58.864Z"
   },
   {
    "duration": 176,
    "start_time": "2021-09-18T04:41:58.874Z"
   },
   {
    "duration": 402,
    "start_time": "2021-09-18T04:41:59.052Z"
   },
   {
    "duration": 226,
    "start_time": "2021-09-18T04:41:59.456Z"
   },
   {
    "duration": 483,
    "start_time": "2021-09-18T04:41:59.684Z"
   },
   {
    "duration": -2107,
    "start_time": "2021-09-18T04:42:02.276Z"
   },
   {
    "duration": -2107,
    "start_time": "2021-09-18T04:42:02.277Z"
   },
   {
    "duration": -2107,
    "start_time": "2021-09-18T04:42:02.278Z"
   },
   {
    "duration": -2110,
    "start_time": "2021-09-18T04:42:02.282Z"
   },
   {
    "duration": -2110,
    "start_time": "2021-09-18T04:42:02.283Z"
   },
   {
    "duration": -2110,
    "start_time": "2021-09-18T04:42:02.284Z"
   },
   {
    "duration": 97,
    "start_time": "2021-09-18T05:25:13.754Z"
   },
   {
    "duration": 7049,
    "start_time": "2021-09-18T05:48:34.761Z"
   },
   {
    "duration": 11991,
    "start_time": "2021-09-18T05:52:26.381Z"
   },
   {
    "duration": 241,
    "start_time": "2021-09-18T05:54:04.892Z"
   },
   {
    "duration": 7227,
    "start_time": "2021-09-18T06:00:17.041Z"
   },
   {
    "duration": 372,
    "start_time": "2021-09-18T06:05:47.308Z"
   },
   {
    "duration": 364,
    "start_time": "2021-09-18T06:06:25.066Z"
   },
   {
    "duration": 130,
    "start_time": "2021-09-18T06:07:00.053Z"
   },
   {
    "duration": 121,
    "start_time": "2021-09-18T06:07:38.266Z"
   },
   {
    "duration": 89,
    "start_time": "2021-09-18T06:09:17.312Z"
   },
   {
    "duration": 4319,
    "start_time": "2021-09-18T06:09:45.050Z"
   },
   {
    "duration": 204,
    "start_time": "2021-09-18T06:11:54.501Z"
   },
   {
    "duration": 458,
    "start_time": "2021-09-18T06:12:45.522Z"
   },
   {
    "duration": 458,
    "start_time": "2021-09-18T06:12:54.378Z"
   },
   {
    "duration": 365,
    "start_time": "2021-09-18T06:23:32.388Z"
   },
   {
    "duration": 12398,
    "start_time": "2021-09-18T06:35:50.373Z"
   },
   {
    "duration": 12124,
    "start_time": "2021-09-18T06:36:45.813Z"
   },
   {
    "duration": 7424,
    "start_time": "2021-09-18T06:37:39.194Z"
   },
   {
    "duration": 162,
    "start_time": "2021-09-18T06:44:28.399Z"
   },
   {
    "duration": 156,
    "start_time": "2021-09-18T06:45:32.481Z"
   },
   {
    "duration": 155,
    "start_time": "2021-09-18T06:45:39.137Z"
   },
   {
    "duration": 360,
    "start_time": "2021-09-18T07:07:56.014Z"
   },
   {
    "duration": 47,
    "start_time": "2021-09-18T07:34:26.224Z"
   },
   {
    "duration": 250,
    "start_time": "2021-09-18T07:34:53.025Z"
   },
   {
    "duration": 242,
    "start_time": "2021-09-18T07:35:09.888Z"
   },
   {
    "duration": 213,
    "start_time": "2021-09-18T07:35:20.285Z"
   },
   {
    "duration": 239,
    "start_time": "2021-09-18T07:35:42.351Z"
   },
   {
    "duration": 463,
    "start_time": "2021-09-18T07:38:20.376Z"
   },
   {
    "duration": 246,
    "start_time": "2021-09-18T07:39:06.882Z"
   },
   {
    "duration": 89,
    "start_time": "2021-09-18T07:53:42.902Z"
   },
   {
    "duration": 102,
    "start_time": "2021-09-18T07:54:59.024Z"
   },
   {
    "duration": 109,
    "start_time": "2021-09-18T07:56:28.036Z"
   },
   {
    "duration": 97,
    "start_time": "2021-09-18T07:57:10.117Z"
   },
   {
    "duration": 262,
    "start_time": "2021-09-18T07:57:18.112Z"
   },
   {
    "duration": 306,
    "start_time": "2021-09-18T07:57:27.072Z"
   },
   {
    "duration": 261,
    "start_time": "2021-09-18T07:57:33.958Z"
   },
   {
    "duration": 86,
    "start_time": "2021-09-18T07:58:26.064Z"
   },
   {
    "duration": 92,
    "start_time": "2021-09-18T07:58:31.787Z"
   },
   {
    "duration": 13,
    "start_time": "2021-09-18T07:58:41.932Z"
   },
   {
    "duration": 12,
    "start_time": "2021-09-18T07:59:20.400Z"
   },
   {
    "duration": 12,
    "start_time": "2021-09-18T08:00:17.516Z"
   },
   {
    "duration": 12,
    "start_time": "2021-09-18T08:01:09.001Z"
   },
   {
    "duration": 90,
    "start_time": "2021-09-18T08:03:18.354Z"
   },
   {
    "duration": 10,
    "start_time": "2021-09-18T08:03:31.809Z"
   },
   {
    "duration": 10,
    "start_time": "2021-09-18T08:06:02.619Z"
   },
   {
    "duration": 6,
    "start_time": "2021-09-18T08:07:52.521Z"
   },
   {
    "duration": 8,
    "start_time": "2021-09-18T08:07:55.631Z"
   },
   {
    "duration": 6831,
    "start_time": "2021-09-18T08:15:14.572Z"
   },
   {
    "duration": 8707,
    "start_time": "2021-09-18T08:15:25.903Z"
   },
   {
    "duration": 10,
    "start_time": "2021-09-18T08:16:32.307Z"
   },
   {
    "duration": 28,
    "start_time": "2021-09-18T08:17:40.864Z"
   },
   {
    "duration": 26,
    "start_time": "2021-09-18T08:18:27.231Z"
   },
   {
    "duration": 96,
    "start_time": "2021-09-18T08:37:28.685Z"
   },
   {
    "duration": 107,
    "start_time": "2021-09-18T08:37:38.756Z"
   },
   {
    "duration": 42,
    "start_time": "2021-09-18T08:39:33.995Z"
   },
   {
    "duration": 34,
    "start_time": "2021-09-18T08:39:50.491Z"
   },
   {
    "duration": 36,
    "start_time": "2021-09-18T08:40:09.357Z"
   },
   {
    "duration": 35,
    "start_time": "2021-09-18T08:40:22.485Z"
   },
   {
    "duration": 35,
    "start_time": "2021-09-18T08:40:48.753Z"
   },
   {
    "duration": 55,
    "start_time": "2021-09-18T08:41:25.939Z"
   },
   {
    "duration": 51,
    "start_time": "2021-09-18T08:41:40.782Z"
   },
   {
    "duration": 99,
    "start_time": "2021-09-18T08:42:05.678Z"
   },
   {
    "duration": 39,
    "start_time": "2021-09-18T08:42:10.942Z"
   },
   {
    "duration": 546,
    "start_time": "2021-09-18T08:43:13.064Z"
   },
   {
    "duration": 438,
    "start_time": "2021-09-18T08:43:35.176Z"
   },
   {
    "duration": 42,
    "start_time": "2021-09-18T08:44:11.753Z"
   },
   {
    "duration": 46,
    "start_time": "2021-09-18T08:44:25.561Z"
   },
   {
    "duration": 44,
    "start_time": "2021-09-18T08:44:35.686Z"
   },
   {
    "duration": 43,
    "start_time": "2021-09-18T08:44:57.790Z"
   },
   {
    "duration": 44,
    "start_time": "2021-09-18T08:47:13.424Z"
   },
   {
    "duration": 83,
    "start_time": "2021-09-18T08:51:12.340Z"
   },
   {
    "duration": 52,
    "start_time": "2021-09-18T08:52:01.440Z"
   },
   {
    "duration": 63,
    "start_time": "2021-09-18T08:54:19.522Z"
   },
   {
    "duration": 59,
    "start_time": "2021-09-18T08:54:51.718Z"
   },
   {
    "duration": 58,
    "start_time": "2021-09-18T08:55:13.548Z"
   },
   {
    "duration": 54,
    "start_time": "2021-09-18T08:55:48.409Z"
   },
   {
    "duration": 88,
    "start_time": "2021-09-18T09:00:09.876Z"
   },
   {
    "duration": 114,
    "start_time": "2021-09-18T09:00:48.514Z"
   },
   {
    "duration": 50,
    "start_time": "2021-09-18T09:03:16.486Z"
   },
   {
    "duration": 25,
    "start_time": "2021-09-18T09:03:29.920Z"
   },
   {
    "duration": 37,
    "start_time": "2021-09-18T09:04:39.524Z"
   },
   {
    "duration": 1465,
    "start_time": "2021-09-18T10:10:21.373Z"
   },
   {
    "duration": 195,
    "start_time": "2021-09-18T10:10:22.840Z"
   },
   {
    "duration": 4,
    "start_time": "2021-09-18T10:10:23.037Z"
   },
   {
    "duration": 78,
    "start_time": "2021-09-18T10:10:23.049Z"
   },
   {
    "duration": 31,
    "start_time": "2021-09-18T10:10:23.129Z"
   },
   {
    "duration": 1530,
    "start_time": "2021-09-18T10:12:28.505Z"
   },
   {
    "duration": 193,
    "start_time": "2021-09-18T10:12:30.037Z"
   },
   {
    "duration": 4,
    "start_time": "2021-09-18T10:12:30.233Z"
   },
   {
    "duration": 78,
    "start_time": "2021-09-18T10:12:30.239Z"
   },
   {
    "duration": 31,
    "start_time": "2021-09-18T10:12:30.319Z"
   },
   {
    "duration": 60,
    "start_time": "2021-09-18T10:12:30.352Z"
   },
   {
    "duration": 6,
    "start_time": "2021-09-18T10:12:30.415Z"
   },
   {
    "duration": 8,
    "start_time": "2021-09-18T10:12:30.422Z"
   },
   {
    "duration": 28,
    "start_time": "2021-09-18T10:12:30.451Z"
   },
   {
    "duration": 595,
    "start_time": "2021-09-18T10:12:30.481Z"
   },
   {
    "duration": 79,
    "start_time": "2021-09-18T10:12:31.078Z"
   },
   {
    "duration": 348,
    "start_time": "2021-09-18T10:12:31.159Z"
   },
   {
    "duration": 11,
    "start_time": "2021-09-18T10:12:31.509Z"
   },
   {
    "duration": 63,
    "start_time": "2021-09-18T10:12:31.522Z"
   },
   {
    "duration": 25,
    "start_time": "2021-09-18T10:12:31.586Z"
   },
   {
    "duration": 67,
    "start_time": "2021-09-18T10:12:31.613Z"
   },
   {
    "duration": 131,
    "start_time": "2021-09-18T10:12:31.682Z"
   },
   {
    "duration": 9,
    "start_time": "2021-09-18T10:12:31.814Z"
   },
   {
    "duration": 60,
    "start_time": "2021-09-18T10:12:31.824Z"
   },
   {
    "duration": 201,
    "start_time": "2021-09-18T10:12:31.885Z"
   },
   {
    "duration": 129,
    "start_time": "2021-09-18T10:12:32.087Z"
   },
   {
    "duration": 5,
    "start_time": "2021-09-18T10:12:32.218Z"
   },
   {
    "duration": 704,
    "start_time": "2021-09-18T10:12:32.225Z"
   },
   {
    "duration": -1640,
    "start_time": "2021-09-18T10:12:34.571Z"
   },
   {
    "duration": -1639,
    "start_time": "2021-09-18T10:12:34.571Z"
   },
   {
    "duration": -1639,
    "start_time": "2021-09-18T10:12:34.572Z"
   },
   {
    "duration": -1639,
    "start_time": "2021-09-18T10:12:34.573Z"
   },
   {
    "duration": 22,
    "start_time": "2021-09-18T10:13:13.553Z"
   },
   {
    "duration": 1202,
    "start_time": "2021-09-18T10:19:02.352Z"
   },
   {
    "duration": 1936,
    "start_time": "2021-09-18T10:20:19.958Z"
   },
   {
    "duration": 195,
    "start_time": "2021-09-18T10:20:21.896Z"
   },
   {
    "duration": 5,
    "start_time": "2021-09-18T10:20:22.093Z"
   },
   {
    "duration": 88,
    "start_time": "2021-09-18T10:20:22.099Z"
   },
   {
    "duration": 16,
    "start_time": "2021-09-18T10:20:22.188Z"
   },
   {
    "duration": 82,
    "start_time": "2021-09-18T10:20:22.205Z"
   },
   {
    "duration": 70,
    "start_time": "2021-09-18T10:20:22.290Z"
   },
   {
    "duration": 6,
    "start_time": "2021-09-18T10:20:22.362Z"
   },
   {
    "duration": 7,
    "start_time": "2021-09-18T10:20:22.369Z"
   },
   {
    "duration": 83,
    "start_time": "2021-09-18T10:20:22.378Z"
   },
   {
    "duration": 802,
    "start_time": "2021-09-18T10:20:22.463Z"
   },
   {
    "duration": 84,
    "start_time": "2021-09-18T10:20:23.268Z"
   },
   {
    "duration": 423,
    "start_time": "2021-09-18T10:20:23.353Z"
   },
   {
    "duration": 11,
    "start_time": "2021-09-18T10:20:23.778Z"
   },
   {
    "duration": 85,
    "start_time": "2021-09-18T10:20:23.791Z"
   },
   {
    "duration": 76,
    "start_time": "2021-09-18T10:20:23.878Z"
   },
   {
    "duration": 59,
    "start_time": "2021-09-18T10:20:23.956Z"
   },
   {
    "duration": 149,
    "start_time": "2021-09-18T10:20:24.017Z"
   },
   {
    "duration": 9,
    "start_time": "2021-09-18T10:20:24.168Z"
   },
   {
    "duration": 57,
    "start_time": "2021-09-18T10:20:24.180Z"
   },
   {
    "duration": 207,
    "start_time": "2021-09-18T10:20:24.238Z"
   },
   {
    "duration": 146,
    "start_time": "2021-09-18T10:20:24.448Z"
   },
   {
    "duration": 8,
    "start_time": "2021-09-18T10:20:24.596Z"
   },
   {
    "duration": 787,
    "start_time": "2021-09-18T10:20:24.606Z"
   },
   {
    "duration": -12720,
    "start_time": "2021-09-18T10:20:38.116Z"
   },
   {
    "duration": -12798,
    "start_time": "2021-09-18T10:20:38.196Z"
   },
   {
    "duration": -12800,
    "start_time": "2021-09-18T10:20:38.199Z"
   },
   {
    "duration": -12801,
    "start_time": "2021-09-18T10:20:38.200Z"
   },
   {
    "duration": 89,
    "start_time": "2021-09-18T10:22:15.711Z"
   },
   {
    "duration": 183,
    "start_time": "2021-09-18T10:22:23.982Z"
   },
   {
    "duration": 285,
    "start_time": "2021-09-18T11:12:50.687Z"
   },
   {
    "duration": 5,
    "start_time": "2021-09-18T11:13:07.410Z"
   },
   {
    "duration": 118,
    "start_time": "2021-09-18T11:13:12.380Z"
   },
   {
    "duration": 11,
    "start_time": "2021-09-18T11:13:47.696Z"
   },
   {
    "duration": 115,
    "start_time": "2021-09-18T11:20:54.057Z"
   },
   {
    "duration": 8,
    "start_time": "2021-09-18T11:30:10.161Z"
   },
   {
    "duration": 10160,
    "start_time": "2021-09-18T11:33:43.241Z"
   },
   {
    "duration": 160,
    "start_time": "2021-09-18T11:34:26.120Z"
   },
   {
    "duration": 324,
    "start_time": "2021-09-18T11:35:09.453Z"
   },
   {
    "duration": 1683,
    "start_time": "2021-09-18T11:42:42.942Z"
   },
   {
    "duration": 195,
    "start_time": "2021-09-18T11:42:44.627Z"
   },
   {
    "duration": 4,
    "start_time": "2021-09-18T11:42:44.824Z"
   },
   {
    "duration": 85,
    "start_time": "2021-09-18T11:42:44.830Z"
   },
   {
    "duration": 17,
    "start_time": "2021-09-18T11:42:44.917Z"
   },
   {
    "duration": 72,
    "start_time": "2021-09-18T11:42:44.936Z"
   },
   {
    "duration": 8,
    "start_time": "2021-09-18T11:42:45.010Z"
   },
   {
    "duration": 7,
    "start_time": "2021-09-18T11:42:45.021Z"
   },
   {
    "duration": 39,
    "start_time": "2021-09-18T11:42:45.053Z"
   },
   {
    "duration": 700,
    "start_time": "2021-09-18T11:42:45.094Z"
   },
   {
    "duration": 87,
    "start_time": "2021-09-18T11:42:45.796Z"
   },
   {
    "duration": 700,
    "start_time": "2021-09-18T11:42:45.885Z"
   },
   {
    "duration": 62,
    "start_time": "2021-09-18T11:42:46.587Z"
   },
   {
    "duration": 60,
    "start_time": "2021-09-18T11:42:46.651Z"
   },
   {
    "duration": 37,
    "start_time": "2021-09-18T11:42:46.751Z"
   },
   {
    "duration": 115,
    "start_time": "2021-09-18T11:42:46.790Z"
   },
   {
    "duration": 15,
    "start_time": "2021-09-18T11:42:46.907Z"
   },
   {
    "duration": 5,
    "start_time": "2021-09-18T11:42:46.924Z"
   },
   {
    "duration": 144,
    "start_time": "2021-09-18T11:42:46.931Z"
   },
   {
    "duration": 188,
    "start_time": "2021-09-18T11:42:47.077Z"
   },
   {
    "duration": 44,
    "start_time": "2021-09-18T11:42:47.267Z"
   },
   {
    "duration": 228,
    "start_time": "2021-09-18T11:42:47.313Z"
   },
   {
    "duration": 136,
    "start_time": "2021-09-18T11:42:47.549Z"
   },
   {
    "duration": 7,
    "start_time": "2021-09-18T11:42:47.687Z"
   },
   {
    "duration": 12,
    "start_time": "2021-09-18T11:42:47.696Z"
   },
   {
    "duration": 39,
    "start_time": "2021-09-18T11:42:47.710Z"
   },
   {
    "duration": 26,
    "start_time": "2021-09-18T11:42:47.751Z"
   },
   {
    "duration": 76,
    "start_time": "2021-09-18T11:42:47.779Z"
   },
   {
    "duration": 410,
    "start_time": "2021-09-18T11:42:47.857Z"
   },
   {
    "duration": 4771,
    "start_time": "2021-09-18T11:49:31.258Z"
   },
   {
    "duration": 207,
    "start_time": "2021-09-18T11:50:06.954Z"
   },
   {
    "duration": 321,
    "start_time": "2021-09-18T11:50:46.337Z"
   },
   {
    "duration": 243,
    "start_time": "2021-09-18T11:51:22.765Z"
   },
   {
    "duration": 128,
    "start_time": "2021-09-18T11:51:35.726Z"
   },
   {
    "duration": 118,
    "start_time": "2021-09-18T11:52:59.845Z"
   },
   {
    "duration": 6,
    "start_time": "2021-09-18T12:07:51.380Z"
   },
   {
    "duration": 7,
    "start_time": "2021-09-18T12:07:54.329Z"
   },
   {
    "duration": 1462,
    "start_time": "2021-09-18T12:08:44.178Z"
   },
   {
    "duration": 199,
    "start_time": "2021-09-18T12:08:45.642Z"
   },
   {
    "duration": 4,
    "start_time": "2021-09-18T12:08:45.843Z"
   },
   {
    "duration": 73,
    "start_time": "2021-09-18T12:08:45.849Z"
   },
   {
    "duration": 25,
    "start_time": "2021-09-18T12:08:45.924Z"
   },
   {
    "duration": 60,
    "start_time": "2021-09-18T12:08:45.951Z"
   },
   {
    "duration": 6,
    "start_time": "2021-09-18T12:08:46.012Z"
   },
   {
    "duration": 28,
    "start_time": "2021-09-18T12:08:46.021Z"
   },
   {
    "duration": 29,
    "start_time": "2021-09-18T12:08:46.051Z"
   },
   {
    "duration": 590,
    "start_time": "2021-09-18T12:08:46.081Z"
   },
   {
    "duration": 78,
    "start_time": "2021-09-18T12:08:46.675Z"
   },
   {
    "duration": 366,
    "start_time": "2021-09-18T12:08:46.754Z"
   },
   {
    "duration": 11,
    "start_time": "2021-09-18T12:08:47.122Z"
   },
   {
    "duration": 56,
    "start_time": "2021-09-18T12:08:47.149Z"
   },
   {
    "duration": 25,
    "start_time": "2021-09-18T12:08:49.408Z"
   },
   {
    "duration": 61,
    "start_time": "2021-09-18T12:09:11.848Z"
   },
   {
    "duration": 10,
    "start_time": "2021-09-18T12:09:12.039Z"
   },
   {
    "duration": 5,
    "start_time": "2021-09-18T12:09:12.168Z"
   },
   {
    "duration": 117,
    "start_time": "2021-09-18T12:09:12.388Z"
   },
   {
    "duration": 161,
    "start_time": "2021-09-18T12:09:12.718Z"
   },
   {
    "duration": 1324,
    "start_time": "2021-09-18T12:09:13.449Z"
   },
   {
    "duration": -32,
    "start_time": "2021-09-18T12:09:14.808Z"
   },
   {
    "duration": -34,
    "start_time": "2021-09-18T12:09:14.811Z"
   },
   {
    "duration": -35,
    "start_time": "2021-09-18T12:09:14.813Z"
   },
   {
    "duration": 6564,
    "start_time": "2021-09-18T12:09:14.919Z"
   },
   {
    "duration": -17,
    "start_time": "2021-09-18T12:09:21.502Z"
   },
   {
    "duration": -18,
    "start_time": "2021-09-18T12:09:21.504Z"
   },
   {
    "duration": -19,
    "start_time": "2021-09-18T12:09:21.506Z"
   },
   {
    "duration": 1151,
    "start_time": "2021-09-18T12:10:38.393Z"
   },
   {
    "duration": 2231,
    "start_time": "2021-09-18T12:10:57.132Z"
   },
   {
    "duration": 190,
    "start_time": "2021-09-18T12:12:08.833Z"
   },
   {
    "duration": 191,
    "start_time": "2021-09-18T12:12:21.263Z"
   },
   {
    "duration": 237,
    "start_time": "2021-09-18T12:13:57.678Z"
   },
   {
    "duration": 1326,
    "start_time": "2021-09-18T12:15:36.686Z"
   },
   {
    "duration": 34,
    "start_time": "2021-09-18T12:16:54.284Z"
   },
   {
    "duration": 224,
    "start_time": "2021-09-18T12:18:02.091Z"
   },
   {
    "duration": 190,
    "start_time": "2021-09-18T12:18:37.292Z"
   },
   {
    "duration": 57,
    "start_time": "2021-09-18T12:19:06.757Z"
   },
   {
    "duration": 48,
    "start_time": "2021-09-18T12:20:13.540Z"
   },
   {
    "duration": 46,
    "start_time": "2021-09-18T12:20:31.632Z"
   },
   {
    "duration": 49,
    "start_time": "2021-09-18T12:20:42.996Z"
   },
   {
    "duration": 49,
    "start_time": "2021-09-18T12:22:35.773Z"
   },
   {
    "duration": 193,
    "start_time": "2021-09-18T12:22:55.233Z"
   },
   {
    "duration": 46,
    "start_time": "2021-09-18T12:25:28.627Z"
   },
   {
    "duration": 197,
    "start_time": "2021-09-18T12:25:31.603Z"
   },
   {
    "duration": 255,
    "start_time": "2021-09-18T12:25:48.338Z"
   },
   {
    "duration": 146,
    "start_time": "2021-09-18T12:26:02.098Z"
   },
   {
    "duration": 311,
    "start_time": "2021-09-18T12:26:41.388Z"
   },
   {
    "duration": 262,
    "start_time": "2021-09-18T13:40:27.810Z"
   },
   {
    "duration": 6,
    "start_time": "2021-09-18T13:40:37.859Z"
   },
   {
    "duration": 8,
    "start_time": "2021-09-18T13:40:42.231Z"
   },
   {
    "duration": 14,
    "start_time": "2021-09-18T13:45:43.332Z"
   },
   {
    "duration": 16,
    "start_time": "2021-09-18T13:51:33.508Z"
   },
   {
    "duration": 294,
    "start_time": "2021-09-18T14:00:00.721Z"
   },
   {
    "duration": 6,
    "start_time": "2021-09-18T14:00:06.409Z"
   },
   {
    "duration": 6,
    "start_time": "2021-09-18T14:00:13.972Z"
   },
   {
    "duration": 8,
    "start_time": "2021-09-18T14:00:22.260Z"
   },
   {
    "duration": 16,
    "start_time": "2021-09-18T14:00:40.542Z"
   },
   {
    "duration": 8,
    "start_time": "2021-09-18T14:02:09.364Z"
   },
   {
    "duration": 16,
    "start_time": "2021-09-18T14:02:18.170Z"
   },
   {
    "duration": 19,
    "start_time": "2021-09-18T14:02:26.800Z"
   },
   {
    "duration": 19,
    "start_time": "2021-09-18T14:02:30.782Z"
   },
   {
    "duration": 17,
    "start_time": "2021-09-18T14:03:08.188Z"
   },
   {
    "duration": 4,
    "start_time": "2021-09-18T14:30:02.073Z"
   },
   {
    "duration": 1449,
    "start_time": "2021-09-18T15:30:37.495Z"
   },
   {
    "duration": 311,
    "start_time": "2021-09-18T15:30:38.946Z"
   },
   {
    "duration": 6,
    "start_time": "2021-09-18T15:30:39.260Z"
   },
   {
    "duration": 83,
    "start_time": "2021-09-18T15:30:39.268Z"
   },
   {
    "duration": 17,
    "start_time": "2021-09-18T15:30:39.353Z"
   },
   {
    "duration": 61,
    "start_time": "2021-09-18T15:30:39.371Z"
   },
   {
    "duration": 6,
    "start_time": "2021-09-18T15:30:39.450Z"
   },
   {
    "duration": 5,
    "start_time": "2021-09-18T15:30:39.458Z"
   },
   {
    "duration": 28,
    "start_time": "2021-09-18T15:30:39.466Z"
   },
   {
    "duration": 584,
    "start_time": "2021-09-18T15:30:39.496Z"
   },
   {
    "duration": 80,
    "start_time": "2021-09-18T15:30:40.082Z"
   },
   {
    "duration": 363,
    "start_time": "2021-09-18T15:30:40.163Z"
   },
   {
    "duration": 27,
    "start_time": "2021-09-18T15:30:40.528Z"
   },
   {
    "duration": 70,
    "start_time": "2021-09-18T15:30:40.557Z"
   },
   {
    "duration": 48,
    "start_time": "2021-09-18T15:30:40.628Z"
   },
   {
    "duration": 90,
    "start_time": "2021-09-18T15:30:40.678Z"
   },
   {
    "duration": 9,
    "start_time": "2021-09-18T15:30:40.769Z"
   },
   {
    "duration": 3,
    "start_time": "2021-09-18T15:30:40.780Z"
   },
   {
    "duration": 131,
    "start_time": "2021-09-18T15:30:40.785Z"
   },
   {
    "duration": 174,
    "start_time": "2021-09-18T15:30:40.918Z"
   },
   {
    "duration": 292,
    "start_time": "2021-09-18T15:30:41.094Z"
   },
   {
    "duration": 139,
    "start_time": "2021-09-18T15:30:41.388Z"
   },
   {
    "duration": 5,
    "start_time": "2021-09-18T15:30:41.529Z"
   },
   {
    "duration": 19,
    "start_time": "2021-09-18T15:30:41.535Z"
   },
   {
    "duration": 16,
    "start_time": "2021-09-18T15:30:41.556Z"
   },
   {
    "duration": 16,
    "start_time": "2021-09-18T15:30:41.574Z"
   },
   {
    "duration": 23,
    "start_time": "2021-09-18T15:30:41.594Z"
   },
   {
    "duration": 52,
    "start_time": "2021-09-18T15:30:41.619Z"
   },
   {
    "duration": 4,
    "start_time": "2021-09-18T15:30:41.673Z"
   },
   {
    "duration": 1416,
    "start_time": "2021-09-19T05:09:38.016Z"
   },
   {
    "duration": 176,
    "start_time": "2021-09-19T05:09:39.434Z"
   },
   {
    "duration": 4,
    "start_time": "2021-09-19T05:09:39.611Z"
   },
   {
    "duration": 72,
    "start_time": "2021-09-19T05:09:39.617Z"
   },
   {
    "duration": 14,
    "start_time": "2021-09-19T05:09:39.690Z"
   },
   {
    "duration": 64,
    "start_time": "2021-09-19T05:09:39.705Z"
   },
   {
    "duration": 5,
    "start_time": "2021-09-19T05:09:39.771Z"
   },
   {
    "duration": 5,
    "start_time": "2021-09-19T05:09:39.778Z"
   },
   {
    "duration": 25,
    "start_time": "2021-09-19T05:09:39.785Z"
   },
   {
    "duration": 524,
    "start_time": "2021-09-19T05:09:39.811Z"
   },
   {
    "duration": 38,
    "start_time": "2021-09-19T05:09:40.344Z"
   },
   {
    "duration": 320,
    "start_time": "2021-09-19T05:09:40.383Z"
   },
   {
    "duration": 9,
    "start_time": "2021-09-19T05:09:40.704Z"
   },
   {
    "duration": 63,
    "start_time": "2021-09-19T05:09:40.715Z"
   },
   {
    "duration": 21,
    "start_time": "2021-09-19T05:09:40.780Z"
   },
   {
    "duration": 73,
    "start_time": "2021-09-19T05:09:40.803Z"
   },
   {
    "duration": 9,
    "start_time": "2021-09-19T05:09:40.877Z"
   },
   {
    "duration": 3,
    "start_time": "2021-09-19T05:09:40.887Z"
   },
   {
    "duration": 119,
    "start_time": "2021-09-19T05:09:40.892Z"
   },
   {
    "duration": 156,
    "start_time": "2021-09-19T05:09:41.012Z"
   },
   {
    "duration": 219,
    "start_time": "2021-09-19T05:09:41.169Z"
   },
   {
    "duration": 113,
    "start_time": "2021-09-19T05:09:41.390Z"
   },
   {
    "duration": 4,
    "start_time": "2021-09-19T05:09:41.505Z"
   },
   {
    "duration": 10,
    "start_time": "2021-09-19T05:09:41.511Z"
   },
   {
    "duration": 29,
    "start_time": "2021-09-19T05:09:41.522Z"
   },
   {
    "duration": 16,
    "start_time": "2021-09-19T05:09:41.553Z"
   },
   {
    "duration": 16,
    "start_time": "2021-09-19T05:09:41.571Z"
   },
   {
    "duration": 15,
    "start_time": "2021-09-19T05:09:41.589Z"
   },
   {
    "duration": 3,
    "start_time": "2021-09-19T05:09:41.606Z"
   },
   {
    "duration": 1391,
    "start_time": "2021-09-19T05:42:38.957Z"
   },
   {
    "duration": 175,
    "start_time": "2021-09-19T05:42:40.350Z"
   },
   {
    "duration": 4,
    "start_time": "2021-09-19T05:42:40.526Z"
   },
   {
    "duration": 66,
    "start_time": "2021-09-19T05:42:40.532Z"
   },
   {
    "duration": 13,
    "start_time": "2021-09-19T05:42:40.600Z"
   },
   {
    "duration": 66,
    "start_time": "2021-09-19T05:42:40.614Z"
   },
   {
    "duration": 5,
    "start_time": "2021-09-19T05:42:40.682Z"
   },
   {
    "duration": 6,
    "start_time": "2021-09-19T05:42:40.689Z"
   },
   {
    "duration": 24,
    "start_time": "2021-09-19T05:42:40.697Z"
   },
   {
    "duration": 498,
    "start_time": "2021-09-19T05:42:40.723Z"
   },
   {
    "duration": 52,
    "start_time": "2021-09-19T05:42:41.223Z"
   },
   {
    "duration": 317,
    "start_time": "2021-09-19T05:42:41.277Z"
   },
   {
    "duration": 8,
    "start_time": "2021-09-19T05:42:41.596Z"
   },
   {
    "duration": 59,
    "start_time": "2021-09-19T05:42:41.606Z"
   },
   {
    "duration": 21,
    "start_time": "2021-09-19T05:42:41.666Z"
   },
   {
    "duration": 66,
    "start_time": "2021-09-19T05:42:41.689Z"
   },
   {
    "duration": 8,
    "start_time": "2021-09-19T05:42:41.757Z"
   },
   {
    "duration": 4,
    "start_time": "2021-09-19T05:42:41.766Z"
   },
   {
    "duration": 117,
    "start_time": "2021-09-19T05:42:41.771Z"
   },
   {
    "duration": 148,
    "start_time": "2021-09-19T05:42:41.890Z"
   },
   {
    "duration": 219,
    "start_time": "2021-09-19T05:42:42.039Z"
   },
   {
    "duration": 117,
    "start_time": "2021-09-19T05:42:42.259Z"
   },
   {
    "duration": 5,
    "start_time": "2021-09-19T05:42:42.377Z"
   },
   {
    "duration": 7,
    "start_time": "2021-09-19T05:42:42.383Z"
   },
   {
    "duration": 14,
    "start_time": "2021-09-19T05:42:42.392Z"
   },
   {
    "duration": 15,
    "start_time": "2021-09-19T05:42:42.407Z"
   },
   {
    "duration": 15,
    "start_time": "2021-09-19T05:42:42.446Z"
   },
   {
    "duration": 15,
    "start_time": "2021-09-19T05:42:42.463Z"
   },
   {
    "duration": 4,
    "start_time": "2021-09-19T05:42:42.479Z"
   },
   {
    "duration": 25671,
    "start_time": "2021-09-19T20:18:15.878Z"
   },
   {
    "duration": 267,
    "start_time": "2021-09-19T20:18:41.552Z"
   },
   {
    "duration": 6,
    "start_time": "2021-09-19T20:18:41.822Z"
   },
   {
    "duration": 127,
    "start_time": "2021-09-19T20:18:41.832Z"
   },
   {
    "duration": 21,
    "start_time": "2021-09-19T20:18:41.961Z"
   },
   {
    "duration": 120,
    "start_time": "2021-09-19T20:18:41.984Z"
   },
   {
    "duration": 9,
    "start_time": "2021-09-19T20:18:42.106Z"
   },
   {
    "duration": 33,
    "start_time": "2021-09-19T20:18:42.121Z"
   },
   {
    "duration": 39,
    "start_time": "2021-09-19T20:18:42.159Z"
   },
   {
    "duration": 837,
    "start_time": "2021-09-19T20:18:42.201Z"
   },
   {
    "duration": 117,
    "start_time": "2021-09-19T20:18:43.042Z"
   },
   {
    "duration": 463,
    "start_time": "2021-09-19T20:18:43.162Z"
   },
   {
    "duration": 27,
    "start_time": "2021-09-19T20:18:43.628Z"
   },
   {
    "duration": 98,
    "start_time": "2021-09-19T20:18:43.657Z"
   },
   {
    "duration": 35,
    "start_time": "2021-09-19T20:18:43.757Z"
   },
   {
    "duration": 113,
    "start_time": "2021-09-19T20:18:43.794Z"
   },
   {
    "duration": 16,
    "start_time": "2021-09-19T20:18:43.909Z"
   },
   {
    "duration": 30,
    "start_time": "2021-09-19T20:18:43.927Z"
   },
   {
    "duration": 199,
    "start_time": "2021-09-19T20:18:43.959Z"
   },
   {
    "duration": 255,
    "start_time": "2021-09-19T20:18:44.161Z"
   },
   {
    "duration": 346,
    "start_time": "2021-09-19T20:18:44.419Z"
   },
   {
    "duration": 213,
    "start_time": "2021-09-19T20:18:44.767Z"
   },
   {
    "duration": 9,
    "start_time": "2021-09-19T20:18:44.984Z"
   },
   {
    "duration": 48,
    "start_time": "2021-09-19T20:18:44.996Z"
   },
   {
    "duration": 33,
    "start_time": "2021-09-19T20:18:45.047Z"
   },
   {
    "duration": 29,
    "start_time": "2021-09-19T20:18:45.083Z"
   },
   {
    "duration": 52,
    "start_time": "2021-09-19T20:18:45.115Z"
   },
   {
    "duration": 27,
    "start_time": "2021-09-19T20:18:45.169Z"
   },
   {
    "duration": 18,
    "start_time": "2021-09-19T20:18:45.198Z"
   },
   {
    "duration": 85,
    "start_time": "2021-09-19T20:23:07.883Z"
   },
   {
    "duration": 553,
    "start_time": "2021-09-19T20:28:49.271Z"
   },
   {
    "duration": 1861,
    "start_time": "2021-09-20T05:17:35.715Z"
   },
   {
    "duration": 260,
    "start_time": "2021-09-20T05:17:37.578Z"
   },
   {
    "duration": 5,
    "start_time": "2021-09-20T05:17:37.854Z"
   },
   {
    "duration": 106,
    "start_time": "2021-09-20T05:17:37.861Z"
   },
   {
    "duration": 21,
    "start_time": "2021-09-20T05:17:37.969Z"
   },
   {
    "duration": 119,
    "start_time": "2021-09-20T05:17:37.992Z"
   },
   {
    "duration": 7,
    "start_time": "2021-09-20T05:17:38.115Z"
   },
   {
    "duration": 74,
    "start_time": "2021-09-20T05:17:38.125Z"
   },
   {
    "duration": 36,
    "start_time": "2021-09-20T05:17:38.201Z"
   },
   {
    "duration": 778,
    "start_time": "2021-09-20T05:17:38.255Z"
   },
   {
    "duration": 121,
    "start_time": "2021-09-20T05:17:39.035Z"
   },
   {
    "duration": 452,
    "start_time": "2021-09-20T05:17:39.160Z"
   },
   {
    "duration": 14,
    "start_time": "2021-09-20T05:17:39.614Z"
   },
   {
    "duration": 82,
    "start_time": "2021-09-20T05:17:39.631Z"
   },
   {
    "duration": 65,
    "start_time": "2021-09-20T05:17:39.715Z"
   },
   {
    "duration": 85,
    "start_time": "2021-09-20T05:17:39.782Z"
   },
   {
    "duration": 15,
    "start_time": "2021-09-20T05:17:39.869Z"
   },
   {
    "duration": 5,
    "start_time": "2021-09-20T05:17:39.886Z"
   },
   {
    "duration": 219,
    "start_time": "2021-09-20T05:17:39.895Z"
   },
   {
    "duration": 237,
    "start_time": "2021-09-20T05:17:40.117Z"
   },
   {
    "duration": 333,
    "start_time": "2021-09-20T05:17:40.357Z"
   },
   {
    "duration": 195,
    "start_time": "2021-09-20T05:17:40.694Z"
   },
   {
    "duration": 8,
    "start_time": "2021-09-20T05:17:40.891Z"
   },
   {
    "duration": 15,
    "start_time": "2021-09-20T05:17:40.902Z"
   },
   {
    "duration": 53,
    "start_time": "2021-09-20T05:17:40.919Z"
   },
   {
    "duration": 28,
    "start_time": "2021-09-20T05:17:40.976Z"
   },
   {
    "duration": 60,
    "start_time": "2021-09-20T05:17:41.007Z"
   },
   {
    "duration": 29,
    "start_time": "2021-09-20T05:17:41.070Z"
   },
   {
    "duration": 6,
    "start_time": "2021-09-20T05:17:41.101Z"
   },
   {
    "duration": 37,
    "start_time": "2021-09-20T05:18:42.894Z"
   },
   {
    "duration": 38,
    "start_time": "2021-09-20T05:19:07.982Z"
   },
   {
    "duration": 39,
    "start_time": "2021-09-20T05:19:13.204Z"
   },
   {
    "duration": 39,
    "start_time": "2021-09-20T05:19:38.824Z"
   },
   {
    "duration": 319,
    "start_time": "2021-09-20T05:31:45.316Z"
   },
   {
    "duration": 8,
    "start_time": "2021-09-20T05:32:46.242Z"
   },
   {
    "duration": 86,
    "start_time": "2021-09-20T05:39:32.086Z"
   },
   {
    "duration": 102,
    "start_time": "2021-09-20T05:39:45.643Z"
   },
   {
    "duration": 8,
    "start_time": "2021-09-20T05:39:55.272Z"
   },
   {
    "duration": 82,
    "start_time": "2021-09-20T05:40:21.318Z"
   },
   {
    "duration": 87,
    "start_time": "2021-09-20T05:41:25.098Z"
   },
   {
    "duration": 13,
    "start_time": "2021-09-20T05:42:07.817Z"
   },
   {
    "duration": 14,
    "start_time": "2021-09-20T05:43:06.434Z"
   },
   {
    "duration": 593,
    "start_time": "2021-09-20T05:48:55.995Z"
   },
   {
    "duration": 30,
    "start_time": "2021-09-20T05:49:06.105Z"
   },
   {
    "duration": 6892,
    "start_time": "2021-09-20T05:49:27.768Z"
   },
   {
    "duration": 193,
    "start_time": "2021-09-20T05:49:41.347Z"
   },
   {
    "duration": 192,
    "start_time": "2021-09-20T05:50:04.742Z"
   },
   {
    "duration": 206,
    "start_time": "2021-09-20T05:55:25.651Z"
   },
   {
    "duration": 553,
    "start_time": "2021-09-20T05:56:01.889Z"
   },
   {
    "duration": 207,
    "start_time": "2021-09-20T06:01:59.892Z"
   },
   {
    "duration": 175,
    "start_time": "2021-09-20T06:22:00.447Z"
   },
   {
    "duration": 237,
    "start_time": "2021-09-20T06:22:15.475Z"
   },
   {
    "duration": 327,
    "start_time": "2021-09-20T06:22:35.720Z"
   },
   {
    "duration": 181,
    "start_time": "2021-09-20T06:42:26.455Z"
   },
   {
    "duration": 289,
    "start_time": "2021-09-20T06:42:47.432Z"
   },
   {
    "duration": 178,
    "start_time": "2021-09-20T06:43:07.286Z"
   },
   {
    "duration": 120,
    "start_time": "2021-09-20T06:48:02.023Z"
   },
   {
    "duration": 267,
    "start_time": "2021-09-20T06:48:52.811Z"
   },
   {
    "duration": 178,
    "start_time": "2021-09-20T06:50:37.762Z"
   },
   {
    "duration": 392,
    "start_time": "2021-09-20T06:51:14.746Z"
   },
   {
    "duration": 183,
    "start_time": "2021-09-20T06:51:40.565Z"
   },
   {
    "duration": 222,
    "start_time": "2021-09-20T06:55:14.463Z"
   },
   {
    "duration": 173,
    "start_time": "2021-09-20T06:55:59.744Z"
   },
   {
    "duration": 400,
    "start_time": "2021-09-20T06:56:38.871Z"
   },
   {
    "duration": 10,
    "start_time": "2021-09-20T06:57:23.332Z"
   },
   {
    "duration": 22,
    "start_time": "2021-09-20T06:57:32.573Z"
   },
   {
    "duration": 27,
    "start_time": "2021-09-20T06:57:46.137Z"
   },
   {
    "duration": 27,
    "start_time": "2021-09-20T06:57:54.121Z"
   },
   {
    "duration": 27,
    "start_time": "2021-09-20T06:58:03.911Z"
   },
   {
    "duration": 5,
    "start_time": "2021-09-20T06:58:33.385Z"
   },
   {
    "duration": 488,
    "start_time": "2021-10-05T19:22:20.808Z"
   },
   {
    "duration": 1921,
    "start_time": "2021-10-05T19:22:26.363Z"
   },
   {
    "duration": 2762,
    "start_time": "2021-10-05T19:22:28.524Z"
   }
  ],
  "kernelspec": {
   "display_name": "Python 3",
   "language": "python",
   "name": "python3"
  },
  "language_info": {
   "codemirror_mode": {
    "name": "ipython",
    "version": 3
   },
   "file_extension": ".py",
   "mimetype": "text/x-python",
   "name": "python",
   "nbconvert_exporter": "python",
   "pygments_lexer": "ipython3",
   "version": "3.7.10"
  },
  "toc": {
   "base_numbering": 1,
   "nav_menu": {},
   "number_sections": true,
   "sideBar": true,
   "skip_h1_title": true,
   "title_cell": "Содержание",
   "title_sidebar": "Содержание",
   "toc_cell": true,
   "toc_position": {},
   "toc_section_display": true,
   "toc_window_display": true
  }
 },
 "nbformat": 4,
 "nbformat_minor": 2
}
